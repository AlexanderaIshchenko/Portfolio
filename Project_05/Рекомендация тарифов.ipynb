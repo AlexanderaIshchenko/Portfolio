{
 "cells": [
  {
   "cell_type": "markdown",
   "id": "61027bc1",
   "metadata": {},
   "source": [
    "# Рекомендация тарифов"
   ]
  },
  {
   "cell_type": "markdown",
   "id": "68b62403",
   "metadata": {},
   "source": [
    "В вашем распоряжении данные о поведении клиентов, которые уже перешли на эти тарифы (из проекта курса «Статистический анализ данных»). Нужно построить модель для задачи классификации, которая выберет подходящий тариф. Предобработка данных не понадобится — вы её уже сделали.\n",
    "\n",
    "Постройте модель с максимально большим значением *accuracy*. Чтобы сдать проект успешно, нужно довести долю правильных ответов по крайней мере до 0.75. Проверьте *accuracy* на тестовой выборке самостоятельно."
   ]
  },
  {
   "cell_type": "markdown",
   "id": "5ea6b350",
   "metadata": {},
   "source": [
    "## Откройте и изучите файл"
   ]
  },
  {
   "cell_type": "code",
   "execution_count": 1,
   "id": "62a4feb7",
   "metadata": {},
   "outputs": [],
   "source": [
    "import pandas as pd\n",
    "from sklearn.tree import DecisionTreeClassifier\n",
    "from sklearn.ensemble import RandomForestClassifier\n",
    "from sklearn.linear_model import LogisticRegression\n",
    "from joblib import dump\n",
    "from sklearn.metrics import accuracy_score\n",
    "from sklearn.model_selection import train_test_split"
   ]
  },
  {
   "cell_type": "code",
   "execution_count": 2,
   "id": "f3ea7ed6",
   "metadata": {},
   "outputs": [],
   "source": [
    "try:\n",
    "    df = pd.read_csv('/datasets/users_behavior.csv')\n",
    "except:\n",
    "    df = pd.read_csv('https://code.s3.yandex.net/datasets/users_behavior.csv')"
   ]
  },
  {
   "cell_type": "code",
   "execution_count": 3,
   "id": "48e889f1",
   "metadata": {},
   "outputs": [
    {
     "data": {
      "text/html": [
       "<div>\n",
       "<style scoped>\n",
       "    .dataframe tbody tr th:only-of-type {\n",
       "        vertical-align: middle;\n",
       "    }\n",
       "\n",
       "    .dataframe tbody tr th {\n",
       "        vertical-align: top;\n",
       "    }\n",
       "\n",
       "    .dataframe thead th {\n",
       "        text-align: right;\n",
       "    }\n",
       "</style>\n",
       "<table border=\"1\" class=\"dataframe\">\n",
       "  <thead>\n",
       "    <tr style=\"text-align: right;\">\n",
       "      <th></th>\n",
       "      <th>calls</th>\n",
       "      <th>minutes</th>\n",
       "      <th>messages</th>\n",
       "      <th>mb_used</th>\n",
       "      <th>is_ultra</th>\n",
       "    </tr>\n",
       "  </thead>\n",
       "  <tbody>\n",
       "    <tr>\n",
       "      <th>0</th>\n",
       "      <td>40.0</td>\n",
       "      <td>311.90</td>\n",
       "      <td>83.0</td>\n",
       "      <td>19915.42</td>\n",
       "      <td>0</td>\n",
       "    </tr>\n",
       "    <tr>\n",
       "      <th>1</th>\n",
       "      <td>85.0</td>\n",
       "      <td>516.75</td>\n",
       "      <td>56.0</td>\n",
       "      <td>22696.96</td>\n",
       "      <td>0</td>\n",
       "    </tr>\n",
       "    <tr>\n",
       "      <th>2</th>\n",
       "      <td>77.0</td>\n",
       "      <td>467.66</td>\n",
       "      <td>86.0</td>\n",
       "      <td>21060.45</td>\n",
       "      <td>0</td>\n",
       "    </tr>\n",
       "    <tr>\n",
       "      <th>3</th>\n",
       "      <td>106.0</td>\n",
       "      <td>745.53</td>\n",
       "      <td>81.0</td>\n",
       "      <td>8437.39</td>\n",
       "      <td>1</td>\n",
       "    </tr>\n",
       "    <tr>\n",
       "      <th>4</th>\n",
       "      <td>66.0</td>\n",
       "      <td>418.74</td>\n",
       "      <td>1.0</td>\n",
       "      <td>14502.75</td>\n",
       "      <td>0</td>\n",
       "    </tr>\n",
       "    <tr>\n",
       "      <th>...</th>\n",
       "      <td>...</td>\n",
       "      <td>...</td>\n",
       "      <td>...</td>\n",
       "      <td>...</td>\n",
       "      <td>...</td>\n",
       "    </tr>\n",
       "    <tr>\n",
       "      <th>3209</th>\n",
       "      <td>122.0</td>\n",
       "      <td>910.98</td>\n",
       "      <td>20.0</td>\n",
       "      <td>35124.90</td>\n",
       "      <td>1</td>\n",
       "    </tr>\n",
       "    <tr>\n",
       "      <th>3210</th>\n",
       "      <td>25.0</td>\n",
       "      <td>190.36</td>\n",
       "      <td>0.0</td>\n",
       "      <td>3275.61</td>\n",
       "      <td>0</td>\n",
       "    </tr>\n",
       "    <tr>\n",
       "      <th>3211</th>\n",
       "      <td>97.0</td>\n",
       "      <td>634.44</td>\n",
       "      <td>70.0</td>\n",
       "      <td>13974.06</td>\n",
       "      <td>0</td>\n",
       "    </tr>\n",
       "    <tr>\n",
       "      <th>3212</th>\n",
       "      <td>64.0</td>\n",
       "      <td>462.32</td>\n",
       "      <td>90.0</td>\n",
       "      <td>31239.78</td>\n",
       "      <td>0</td>\n",
       "    </tr>\n",
       "    <tr>\n",
       "      <th>3213</th>\n",
       "      <td>80.0</td>\n",
       "      <td>566.09</td>\n",
       "      <td>6.0</td>\n",
       "      <td>29480.52</td>\n",
       "      <td>1</td>\n",
       "    </tr>\n",
       "  </tbody>\n",
       "</table>\n",
       "<p>3214 rows × 5 columns</p>\n",
       "</div>"
      ],
      "text/plain": [
       "      calls  minutes  messages   mb_used  is_ultra\n",
       "0      40.0   311.90      83.0  19915.42         0\n",
       "1      85.0   516.75      56.0  22696.96         0\n",
       "2      77.0   467.66      86.0  21060.45         0\n",
       "3     106.0   745.53      81.0   8437.39         1\n",
       "4      66.0   418.74       1.0  14502.75         0\n",
       "...     ...      ...       ...       ...       ...\n",
       "3209  122.0   910.98      20.0  35124.90         1\n",
       "3210   25.0   190.36       0.0   3275.61         0\n",
       "3211   97.0   634.44      70.0  13974.06         0\n",
       "3212   64.0   462.32      90.0  31239.78         0\n",
       "3213   80.0   566.09       6.0  29480.52         1\n",
       "\n",
       "[3214 rows x 5 columns]"
      ]
     },
     "execution_count": 3,
     "metadata": {},
     "output_type": "execute_result"
    }
   ],
   "source": [
    "df.info()"
   ]
  },
  {
   "cell_type": "markdown",
   "id": "ef45f3e8",
   "metadata": {},
   "source": [
    "## Разбейте данные на выборки"
   ]
  },
  {
   "cell_type": "markdown",
   "id": "d450a943",
   "metadata": {},
   "source": [
    "Мы умеем делить только на две части , поэтому сначала отделим 40% от всего датасета, а потом эти 40 % поделим пополам между тестовой и валидационной выборкой. Таким образом в них будет по 20 % от всего датасета."
   ]
  },
  {
   "cell_type": "code",
   "execution_count": 4,
   "id": "7730903b",
   "metadata": {},
   "outputs": [],
   "source": [
    "df_train, df_valid = train_test_split(df, test_size=0.4, random_state=12345)\n",
    "df_valid, df_test = train_test_split(df_valid, test_size=0.5, random_state=12345)"
   ]
  },
  {
   "cell_type": "markdown",
   "id": "bde825ec",
   "metadata": {},
   "source": [
    "<img src=\"https://upload.wikimedia.org/wikipedia/commons/b/ba/Warning_sign_4.0.png\" align=left width=44, heigth=33>\n",
    "<div class=\"alert alert-warning\">\n",
    "Рекомендую явно вывести размеры получившихся выборок (с использованием .shape и print), это поможет быстро оценить корректность разделения на выборки.\n",
    "</div>"
   ]
  },
  {
   "cell_type": "markdown",
   "id": "e4e4efdc",
   "metadata": {},
   "source": [
    "Подготовим поделенные данные ( поделим на прикнаки и целевой признак)"
   ]
  },
  {
   "cell_type": "code",
   "execution_count": 5,
   "id": "7abcdb55",
   "metadata": {},
   "outputs": [],
   "source": [
    "# Для обучения модели \n",
    "features_train = df_train.drop(['is_ultra'], axis=1)\n",
    "target_train = df_train['is_ultra']\n",
    "\n",
    "# Для проверки модели \n",
    "features_valid = df_valid.drop(['is_ultra'], axis=1)\n",
    "target_valid = df_valid['is_ultra']\n",
    "\n",
    "# Для оценки качества модели\n",
    "features_test = df_test.drop(['is_ultra'], axis=1)\n",
    "target_test = df_test['is_ultra']"
   ]
  },
  {
   "cell_type": "markdown",
   "id": "dd1c4a73",
   "metadata": {},
   "source": [
    "## Исследуйте модели"
   ]
  },
  {
   "cell_type": "markdown",
   "id": "9b0dfe5a",
   "metadata": {},
   "source": [
    "У нас целевой прризнак это столбец \"is_ultra\". В нем всего два вариатна значений 1 или 0, следовательно этот признак явяется категориальным. Будем решать задачу классификации, используя модели машинного обучения: Решающее дерево, Случайный лес, Логистическая регрессия."
   ]
  },
  {
   "cell_type": "markdown",
   "id": "b3e8462c",
   "metadata": {},
   "source": [
    "Решающее дерево"
   ]
  },
  {
   "cell_type": "code",
   "execution_count": 6,
   "id": "1a1bddbf",
   "metadata": {},
   "outputs": [
    {
     "name": "stdout",
     "output_type": "stream",
     "text": [
      "max_depth = 1 : 0.7542768273716952\n",
      "max_depth = 2 : 0.7822706065318819\n",
      "max_depth = 3 : 0.7853810264385692\n",
      "max_depth = 4 : 0.7791601866251944\n",
      "max_depth = 5 : 0.7791601866251944\n",
      "max_depth = 6 : 0.7838258164852255\n",
      "max_depth = 7 : 0.7822706065318819\n",
      "max_depth = 8 : 0.7791601866251944\n",
      "max_depth = 9 : 0.7822706065318819\n",
      "max_depth = 10 : 0.7744945567651633\n"
     ]
    }
   ],
   "source": [
    "for depth in range(1, 11):\n",
    "    model = DecisionTreeClassifier(random_state=12345, max_depth = depth)# обучите модель с заданной глубиной дерева\n",
    "    model.fit(features_train,target_train) # обучите модель\n",
    "    predictions_valid = model.predict(features_valid) # получите предсказания модели\n",
    "    result = accuracy_score(target_valid, predictions_valid) # посчитайте качество модели\n",
    "    print('max_depth =', depth, ':', result)"
   ]
  },
  {
   "cell_type": "markdown",
   "id": "a2d672a0",
   "metadata": {},
   "source": [
    "Лучший результат при параметре глубины: max_depth = 3 : 0.7853810264385692."
   ]
  },
  {
   "cell_type": "markdown",
   "id": "8f10fcd2",
   "metadata": {},
   "source": [
    "Случайный лес"
   ]
  },
  {
   "cell_type": "code",
   "execution_count": 7,
   "id": "c05be962",
   "metadata": {},
   "outputs": [
    {
     "name": "stdout",
     "output_type": "stream",
     "text": [
      "Accuracy наилучшей модели на валидационной выборке: 0.8040435458786936\n",
      "RandomForestClassifier(max_depth=6, n_estimators=12, random_state=12345)\n"
     ]
    }
   ],
   "source": [
    "best_model = None\n",
    "best_result = 0\n",
    "for depth in range(2, 11):\n",
    "    for est in range(1, 21):\n",
    "        model = RandomForestClassifier(random_state=12345, max_depth=depth, n_estimators=est)\n",
    "        model.fit(features_train,target_train) # обучите модель на тренировочной выборке\n",
    "        result = model.score(features_valid, target_valid) # посчитайте качество модели на валидационной выборке\n",
    "        if result > best_result:\n",
    "            best_model = model # сохраните наилучшую модель\n",
    "            best_result = result #  сохраните наилучшее значение метрики accuracy на валидационных данных\n",
    "\n",
    "print(\"Accuracy наилучшей модели на валидационной выборке:\", best_result)\n",
    "print(best_model)"
   ]
  },
  {
   "cell_type": "markdown",
   "id": "470c083a",
   "metadata": {},
   "source": [
    "Логистическая регрессия"
   ]
  },
  {
   "cell_type": "code",
   "execution_count": 8,
   "id": "1f60b2bf",
   "metadata": {},
   "outputs": [
    {
     "data": {
      "text/plain": [
       "0.7744945567651633"
      ]
     },
     "execution_count": 8,
     "metadata": {},
     "output_type": "execute_result"
    }
   ],
   "source": [
    "model = LogisticRegression(random_state=12345, solver='lbfgs', max_iter=1000)\n",
    "model.fit(features_train,target_train)\n",
    "\n",
    "predictions = model.predict(features_valid)\n",
    "\n",
    "accuracy_score(target_valid, predictions_valid)"
   ]
  },
  {
   "cell_type": "markdown",
   "id": "df347ff9",
   "metadata": {},
   "source": [
    "Вывод: \n",
    "Сравнение моделей и их точность:\n",
    "1) Решающее дерево 0.7853810264385692\n",
    "\n",
    "2) Случайный лес 0.8040435458786936\n",
    "\n",
    "3) Логистическая регрессия 0.7744945567651633\n",
    "\n",
    "В итоге мы выбираем Случайный лес"
   ]
  },
  {
   "cell_type": "markdown",
   "id": "0565762e",
   "metadata": {},
   "source": [
    "## Проверьте модель на тестовой выборке"
   ]
  },
  {
   "cell_type": "code",
   "execution_count": 9,
   "id": "1becb95b",
   "metadata": {},
   "outputs": [
    {
     "data": {
      "text/plain": [
       "0.7947122861586314"
      ]
     },
     "execution_count": 9,
     "metadata": {},
     "output_type": "execute_result"
    }
   ],
   "source": [
    "model = best_model\n",
    "model.fit(features_train, target_train)\n",
    "predictions_test = model.predict(features_test)\n",
    "accuracy_score(target_test, predictions_test)"
   ]
  },
  {
   "cell_type": "markdown",
   "id": "7e22fa7e",
   "metadata": {},
   "source": [
    "## (бонус) Проверьте модели на адекватность"
   ]
  },
  {
   "cell_type": "markdown",
   "id": "fbd82512",
   "metadata": {},
   "source": [
    "Модель уже дает 79% правильных ответов, а эт обольше чем при случайном (50%)"
   ]
  },
  {
   "cell_type": "markdown",
   "id": "106647ed",
   "metadata": {},
   "source": [
    "<img src=\"https://upload.wikimedia.org/wikipedia/commons/b/ba/Warning_sign_4.0.png\" align=left width=44, heigth=33>\n",
    "<div class=\"alert alert-warning\">\n",
    "В основе проверки на адекватность лежит очень простая идея. Модель считается адекватной, если способна \"побить\" любой \"наивный\" алгоритм, например предсказывающий случайный или постояный ответ. \n",
    "\n",
    "Для нашего проекта самую высокую точность дает  \"наивный\" алгоритм, всегда предсказывающий самый популярный ответ (у нас это 0). Проверить точность такого подхода можно вручную или используя DummyClassifier.\n",
    "</div>"
   ]
  },
  {
   "cell_type": "markdown",
   "id": "24b42aad",
   "metadata": {},
   "source": [
    "## Вывод"
   ]
  },
  {
   "cell_type": "markdown",
   "id": "38704309",
   "metadata": {},
   "source": [
    "Мы рассмотрели три модели: \"Решающее дерево\", \"Случайный лес\" и \"Логистическая регрессия\". В каждой модели, изменяя ее гиперпараметры, мы нашли нашли лучший вариант с наибольшим количеством правильных ответов. Путем простого сравнения лучших моделей по доле правильных ответов определили, что для нашей задачи подходит модель \"Случайного леса\" с гиперпараметрами глубина дерева 6 и количество деревьев 12.\n",
    "\n",
    "Сравнив нашу модель со случайными предсказаниями и оценив ее качество на тестовом наборе данных (результат составил 79% правильных ответов) мы подтвердили, что наша модель подходит для задачи заказчика. Таким образом можно использовать данную модель для предложения клиентам заказчика нового тарифа (\"Смарт\" или \"Ультра\")."
   ]
  }
 ],
 "metadata": {
  "kernelspec": {
   "display_name": "Python 3 (ipykernel)",
   "language": "python",
   "name": "python3"
  },
  "language_info": {
   "codemirror_mode": {
    "name": "ipython",
    "version": 3
   },
   "file_extension": ".py",
   "mimetype": "text/x-python",
   "name": "python",
   "nbconvert_exporter": "python",
   "pygments_lexer": "ipython3",
   "version": "3.9.13"
  }
 },
 "nbformat": 4,
 "nbformat_minor": 5
}
