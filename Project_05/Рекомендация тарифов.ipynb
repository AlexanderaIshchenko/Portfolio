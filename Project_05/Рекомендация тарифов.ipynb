{
 "cells": [
  {
   "cell_type": "markdown",
   "id": "61027bc1",
   "metadata": {},
   "source": [
    "# Рекомендация тарифов"
   ]
  },
  {
   "cell_type": "markdown",
   "id": "68b62403",
   "metadata": {},
   "source": [
    "В вашем распоряжении данные о поведении клиентов, которые уже перешли на эти тарифы (из проекта курса «Статистический анализ данных»). Нужно построить модель для задачи классификации, которая выберет подходящий тариф. Предобработка данных не понадобится — вы её уже сделали.\n",
    "\n",
    "Постройте модель с максимально большим значением *accuracy*. Чтобы сдать проект успешно, нужно довести долю правильных ответов по крайней мере до 0.75. Проверьте *accuracy* на тестовой выборке самостоятельно."
   ]
  },
  {
   "cell_type": "markdown",
   "id": "3b8073a6",
   "metadata": {},
   "source": [
    "# Оглавление<a name=\"Оглавление\"></a>"
   ]
  },
  {
   "cell_type": "markdown",
   "id": "16473da7",
   "metadata": {},
   "source": [
    "- 1. [Ознакомление с данными](#Ознакомление)\n",
    "- 2. [Разбиение данных на выборки](#Разбиение)\n",
    "- 3. [Исследование моделей](#Исследование)\n",
    "  - 3.1. [DecisionTreeClassifier](#DecisionTreeClassifier)\n",
    "  - 3.2. [RandomForestClassifier](#RandomForestClassifier)\n",
    "  - 3.3. [LogisticRegression](#LogisticRegression)\n",
    "  - 3.4. [Вывод по моделям](#Вывод_по)\n",
    "- 4. [Проверка лучшей модели на тестовой выборке](#Проверка)\n",
    "  - 4.1. [Проверка модели на адекватность](#адекватность)\n",
    "- 5. [Вывод](#Вывод)"
   ]
  },
  {
   "cell_type": "markdown",
   "id": "5ea6b350",
   "metadata": {},
   "source": [
    "## 1. Ознакомление с данными<a name=\"Ознакомление\"></a>"
   ]
  },
  {
   "cell_type": "code",
   "execution_count": 1,
   "id": "62a4feb7",
   "metadata": {},
   "outputs": [],
   "source": [
    "import pandas as pd\n",
    "from sklearn.tree import DecisionTreeClassifier\n",
    "from sklearn.ensemble import RandomForestClassifier\n",
    "from sklearn.linear_model import LogisticRegression\n",
    "from joblib import dump\n",
    "from sklearn.metrics import accuracy_score\n",
    "from sklearn.model_selection import train_test_split"
   ]
  },
  {
   "cell_type": "code",
   "execution_count": 2,
   "id": "f3ea7ed6",
   "metadata": {},
   "outputs": [],
   "source": [
    "try:\n",
    "    df = pd.read_csv('/datasets/users_behavior.csv')\n",
    "except:\n",
    "    df = pd.read_csv('https://code.s3.yandex.net/datasets/users_behavior.csv')"
   ]
  },
  {
   "cell_type": "code",
   "execution_count": 3,
   "id": "48e889f1",
   "metadata": {},
   "outputs": [
    {
     "name": "stdout",
     "output_type": "stream",
     "text": [
      "<class 'pandas.core.frame.DataFrame'>\n",
      "RangeIndex: 3214 entries, 0 to 3213\n",
      "Data columns (total 5 columns):\n",
      " #   Column    Non-Null Count  Dtype  \n",
      "---  ------    --------------  -----  \n",
      " 0   calls     3214 non-null   float64\n",
      " 1   minutes   3214 non-null   float64\n",
      " 2   messages  3214 non-null   float64\n",
      " 3   mb_used   3214 non-null   float64\n",
      " 4   is_ultra  3214 non-null   int64  \n",
      "dtypes: float64(4), int64(1)\n",
      "memory usage: 125.7 KB\n"
     ]
    }
   ],
   "source": [
    "df.info()"
   ]
  },
  {
   "cell_type": "markdown",
   "id": "b9d17208",
   "metadata": {},
   "source": [
    "[К оглавлению](#Оглавление)"
   ]
  },
  {
   "cell_type": "markdown",
   "id": "ef45f3e8",
   "metadata": {},
   "source": [
    "## 2. Разбиение данных на выборки<a name=\"Разбиение\"></a>"
   ]
  },
  {
   "cell_type": "markdown",
   "id": "d450a943",
   "metadata": {},
   "source": [
    "Мы умеем делить только на две части , поэтому сначала отделим 40% от всего датасета, а потом эти 40 % поделим пополам между тестовой и валидационной выборкой. Таким образом в них будет по 20 % от всего датасета."
   ]
  },
  {
   "cell_type": "code",
   "execution_count": 4,
   "id": "7730903b",
   "metadata": {},
   "outputs": [],
   "source": [
    "df_train, df_valid = train_test_split(df, test_size=0.4, random_state=12345)\n",
    "df_valid, df_test = train_test_split(df_valid, test_size=0.5, random_state=12345)"
   ]
  },
  {
   "cell_type": "code",
   "execution_count": 5,
   "id": "217e830e",
   "metadata": {},
   "outputs": [
    {
     "data": {
      "text/plain": [
       "(1928, 5)"
      ]
     },
     "execution_count": 5,
     "metadata": {},
     "output_type": "execute_result"
    }
   ],
   "source": [
    "df_train.shape"
   ]
  },
  {
   "cell_type": "code",
   "execution_count": 6,
   "id": "d8a925fe",
   "metadata": {},
   "outputs": [
    {
     "data": {
      "text/plain": [
       "(643, 5)"
      ]
     },
     "execution_count": 6,
     "metadata": {},
     "output_type": "execute_result"
    }
   ],
   "source": [
    "df_valid.shape"
   ]
  },
  {
   "cell_type": "code",
   "execution_count": 7,
   "id": "6045d93c",
   "metadata": {},
   "outputs": [
    {
     "data": {
      "text/plain": [
       "(643, 5)"
      ]
     },
     "execution_count": 7,
     "metadata": {},
     "output_type": "execute_result"
    }
   ],
   "source": [
    "df_test.shape"
   ]
  },
  {
   "cell_type": "markdown",
   "id": "e4e4efdc",
   "metadata": {},
   "source": [
    "Подготовим поделенные данные ( поделим на прикнаки и целевой признак)"
   ]
  },
  {
   "cell_type": "code",
   "execution_count": 8,
   "id": "7abcdb55",
   "metadata": {},
   "outputs": [],
   "source": [
    "features_train = df_train.drop(['is_ultra'], axis=1)\n",
    "target_train = df_train['is_ultra']\n",
    "\n",
    "features_valid = df_valid.drop(['is_ultra'], axis=1)\n",
    "target_valid = df_valid['is_ultra']\n",
    "\n",
    "features_test = df_test.drop(['is_ultra'], axis=1)\n",
    "target_test = df_test['is_ultra']"
   ]
  },
  {
   "cell_type": "markdown",
   "id": "6b3f8e74",
   "metadata": {},
   "source": [
    "[К оглавлению](#Оглавление)"
   ]
  },
  {
   "cell_type": "markdown",
   "id": "dd1c4a73",
   "metadata": {},
   "source": [
    "## 3. Исследование моделей<a name=\"Исследование\"></a>"
   ]
  },
  {
   "cell_type": "markdown",
   "id": "9b0dfe5a",
   "metadata": {},
   "source": [
    "У нас целевой прризнак это столбец \"is_ultra\". В нем всего два вариатна значений 1 или 0, следовательно этот признак явяется категориальным. Будем решать задачу классификации, используя модели машинного обучения: Решающее дерево, Случайный лес, Логистическая регрессия."
   ]
  },
  {
   "cell_type": "markdown",
   "id": "b3e8462c",
   "metadata": {},
   "source": [
    "### 3.1. DecisionTreeClassifier<a name=\"DecisionTreeClassifier\"></a>"
   ]
  },
  {
   "cell_type": "code",
   "execution_count": 9,
   "id": "1a1bddbf",
   "metadata": {},
   "outputs": [
    {
     "name": "stdout",
     "output_type": "stream",
     "text": [
      "max_depth = 1 : 0.7542768273716952\n",
      "max_depth = 2 : 0.7822706065318819\n",
      "max_depth = 3 : 0.7853810264385692\n",
      "max_depth = 4 : 0.7791601866251944\n",
      "max_depth = 5 : 0.7791601866251944\n",
      "max_depth = 6 : 0.7838258164852255\n",
      "max_depth = 7 : 0.7822706065318819\n",
      "max_depth = 8 : 0.7791601866251944\n",
      "max_depth = 9 : 0.7822706065318819\n",
      "max_depth = 10 : 0.7744945567651633\n"
     ]
    }
   ],
   "source": [
    "for depth in range(1, 11):\n",
    "    model = DecisionTreeClassifier(random_state=12345, max_depth = depth)\n",
    "    model.fit(features_train,target_train) \n",
    "    predictions_valid = model.predict(features_valid) \n",
    "    result = accuracy_score(target_valid, predictions_valid) \n",
    "    print('max_depth =', depth, ':', result)"
   ]
  },
  {
   "cell_type": "markdown",
   "id": "a2d672a0",
   "metadata": {},
   "source": [
    "Лучший результат при параметре глубины: max_depth = 3 : 0.7853810264385692."
   ]
  },
  {
   "cell_type": "markdown",
   "id": "734d275d",
   "metadata": {},
   "source": [
    "[К оглавлению](#Оглавление)"
   ]
  },
  {
   "cell_type": "markdown",
   "id": "8f10fcd2",
   "metadata": {},
   "source": [
    "### 3.2. RandomForestClassifier<a name=\"RandomForestClassifier\"></a>"
   ]
  },
  {
   "cell_type": "code",
   "execution_count": 10,
   "id": "c05be962",
   "metadata": {},
   "outputs": [
    {
     "name": "stdout",
     "output_type": "stream",
     "text": [
      "Accuracy наилучшей модели на валидационной выборке: 0.8040435458786936\n",
      "RandomForestClassifier(max_depth=6, n_estimators=12, random_state=12345)\n"
     ]
    }
   ],
   "source": [
    "best_model = None\n",
    "best_result = 0\n",
    "for depth in range(2, 11):\n",
    "    for est in range(1, 21):\n",
    "        model = RandomForestClassifier(random_state=12345, max_depth=depth, n_estimators=est)\n",
    "        model.fit(features_train,target_train) \n",
    "        result = model.score(features_valid, target_valid) \n",
    "        if result > best_result:\n",
    "            best_model = model \n",
    "            best_result = result \n",
    "\n",
    "print(\"Accuracy наилучшей модели на валидационной выборке:\", best_result)\n",
    "print(best_model)"
   ]
  },
  {
   "cell_type": "markdown",
   "id": "5516d176",
   "metadata": {},
   "source": [
    "[К оглавлению](#Оглавление)"
   ]
  },
  {
   "cell_type": "markdown",
   "id": "470c083a",
   "metadata": {},
   "source": [
    "### 3.3. LogisticRegression<a name=\"LogisticRegression\"></a>"
   ]
  },
  {
   "cell_type": "code",
   "execution_count": 11,
   "id": "1f60b2bf",
   "metadata": {},
   "outputs": [
    {
     "data": {
      "text/plain": [
       "0.7744945567651633"
      ]
     },
     "execution_count": 11,
     "metadata": {},
     "output_type": "execute_result"
    }
   ],
   "source": [
    "model = LogisticRegression(random_state=12345, solver='lbfgs', max_iter=1000)\n",
    "model.fit(features_train,target_train)\n",
    "\n",
    "predictions = model.predict(features_valid)\n",
    "\n",
    "accuracy_score(target_valid, predictions_valid)"
   ]
  },
  {
   "cell_type": "markdown",
   "id": "df347ff9",
   "metadata": {},
   "source": [
    "### 3.4. Вывод по моделям<a name=\"Вывод_по\"></a>\n",
    "Сравнение моделей и их точность:\n",
    "1) Решающее дерево 0.7853810264385692\n",
    "\n",
    "2) Случайный лес 0.8040435458786936\n",
    "\n",
    "3) Логистическая регрессия 0.7744945567651633\n",
    "\n",
    "В итоге мы выбираем Случайный лес"
   ]
  },
  {
   "cell_type": "markdown",
   "id": "df151e2a",
   "metadata": {},
   "source": [
    "[К оглавлению](#Оглавление)"
   ]
  },
  {
   "cell_type": "markdown",
   "id": "0565762e",
   "metadata": {},
   "source": [
    "## 4. Проверка лучшей модели на тестовой выборке<a name=\"Проверка\"></a>"
   ]
  },
  {
   "cell_type": "code",
   "execution_count": 12,
   "id": "1becb95b",
   "metadata": {},
   "outputs": [
    {
     "name": "stdout",
     "output_type": "stream",
     "text": [
      "Аccuracy score: 0.7947122861586314\n"
     ]
    }
   ],
   "source": [
    "model = best_model\n",
    "model.fit(features_train, target_train)\n",
    "predictions_test = model.predict(features_test)\n",
    "print('Аccuracy score:', accuracy_score(target_test, predictions_test))"
   ]
  },
  {
   "cell_type": "markdown",
   "id": "7e22fa7e",
   "metadata": {},
   "source": [
    "## 4.1. Проверка модели на адекватность<a name=\"адекватность\"></a>"
   ]
  },
  {
   "cell_type": "code",
   "execution_count": 13,
   "id": "d5fbd7cf",
   "metadata": {},
   "outputs": [
    {
     "data": {
      "text/plain": [
       "0    643\n",
       "dtype: int64"
      ]
     },
     "execution_count": 13,
     "metadata": {},
     "output_type": "execute_result"
    }
   ],
   "source": [
    "constant = pd.Series([0]*len(target_test))\n",
    "constant.value_counts()"
   ]
  },
  {
   "cell_type": "code",
   "execution_count": 14,
   "id": "88d6547c",
   "metadata": {},
   "outputs": [
    {
     "name": "stdout",
     "output_type": "stream",
     "text": [
      "Аccuracy score константой модели: 0.7060653188180405\n",
      "Аccuracy score лучшей модели: 0.7947122861586314\n"
     ]
    }
   ],
   "source": [
    "print('Аccuracy score константой модели:', accuracy_score(target_valid, constant))\n",
    "print('Аccuracy score лучшей модели:', accuracy_score(target_test, predictions_test))"
   ]
  },
  {
   "cell_type": "markdown",
   "id": "7cdb54bc",
   "metadata": {},
   "source": [
    "[К оглавлению](#Оглавление)"
   ]
  },
  {
   "cell_type": "markdown",
   "id": "24b42aad",
   "metadata": {},
   "source": [
    "## 5. Вывод<a name=\"Вывод\"></a>"
   ]
  },
  {
   "cell_type": "markdown",
   "id": "38704309",
   "metadata": {},
   "source": [
    "Мы рассмотрели три модели: \"Решающее дерево\", \"Случайный лес\" и \"Логистическая регрессия\". В каждой модели, изменяя ее гиперпараметры, мы нашли нашли лучший вариант с наибольшим количеством правильных ответов. Путем простого сравнения лучших моделей по доле правильных ответов определили, что для нашей задачи подходит модель \"Случайного леса\" с гиперпараметрами глубина дерева 6 и количество деревьев 12.\n",
    "\n",
    "Сравнив нашу модель со случайными предсказаниями и оценив ее качество на тестовом наборе данных (результат составил 79% правильных ответов) мы подтвердили, что наша модель подходит для задачи заказчика. Таким образом можно использовать данную модель для предложения клиентам заказчика нового тарифа (\"Смарт\" или \"Ультра\")."
   ]
  }
 ],
 "metadata": {
  "kernelspec": {
   "display_name": "Python 3 (ipykernel)",
   "language": "python",
   "name": "python3"
  },
  "language_info": {
   "codemirror_mode": {
    "name": "ipython",
    "version": 3
   },
   "file_extension": ".py",
   "mimetype": "text/x-python",
   "name": "python",
   "nbconvert_exporter": "python",
   "pygments_lexer": "ipython3",
   "version": "3.9.13"
  }
 },
 "nbformat": 4,
 "nbformat_minor": 5
}
