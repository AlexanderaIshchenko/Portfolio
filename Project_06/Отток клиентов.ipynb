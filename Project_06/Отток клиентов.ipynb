{
 "cells": [
  {
   "cell_type": "markdown",
   "id": "70804373",
   "metadata": {},
   "source": [
    "# Отток клиентов"
   ]
  },
  {
   "cell_type": "markdown",
   "id": "cabf4549",
   "metadata": {},
   "source": [
    "Из «Бета-Банка» стали уходить клиенты. Каждый месяц. Немного, но заметно. Банковские маркетологи посчитали: сохранять текущих клиентов дешевле, чем привлекать новых.\n",
    "\n",
    "Нужно спрогнозировать, уйдёт клиент из банка в ближайшее время или нет. Вам предоставлены исторические данные о поведении клиентов и расторжении договоров с банком. \n",
    "\n",
    "Постройте модель с предельно большим значением *F1*-меры. Чтобы сдать проект успешно, нужно довести метрику до 0.59. Проверьте *F1*-меру на тестовой выборке самостоятельно.\n",
    "\n",
    "Дополнительно измеряйте *AUC-ROC*, сравнивайте её значение с *F1*-мерой.\n",
    "\n",
   ]
  },
  {
   "cell_type": "markdown",
   "id": "a312248a",
   "metadata": {
    "toc": true
   },
   "source": [
    "# Оглавление<a name=\"Оглавление\"></a>"
   ]
  },
  {
   "cell_type": "markdown",
   "id": "a62670a4",
   "metadata": {
    "toc": true
   },
   "source": [
    "- 1. [Подготовка данных](#Подготовка)\n",
    "- 2. [Исследование задачи](#Исследование)\n",
    "- 3. [Исследование баланса классов выборки](#Исследование_)\n",
    "- 4. [Oбучение моделей, без учета дисбаланса классов](#Oбучение)\n",
    "  - 4.1. [DecisionTreeClassifier](#DecisionTreeClassifier___)\n",
    "  - 4.2. [RandomForestClassifier](#RandomForestClassifier___)\n",
    "  - 4.3. [LogisticRegression](#LogisticRegression___)\n",
    "- 5. [Борьба с дисбалансом](#Борьба_дисбалансом)\n",
    "    - 5.0.1. [DecisionTreeClassifier](#DecisionTreeClassifier__)\n",
    "    - 5.0.2. [RandomForestClassifier](#RandomForestClassifier__)\n",
    "    - 5.0.3. [LogisticRegression](#LogisticRegression__)\n",
    "  - 5.1. [Балансировка классов с помощью увеличения выборки (upsampling)](#upsampling)\n",
    "    - 5.1.1. [DecisionTreeClassifier](#DecisionTreeClassifier)\n",
    "    - 5.1.2. [RandomForestClassifier](#RandomForestClassifier)\n",
    "    - 5.1.3. [LogisticRegression](#LogisticRegression)\n",
    "  - 5.2. [Балансировка классов с помощью уменьшения выборки (downsampling)](#downsampling)\n",
    "    - 5.2.1. [DecisionTreeClassifier](#DecisionTreeClassifier_)\n",
    "    - 5.2.2. [RandomForestClassifier](#RandomForestClassifier_)\n",
    "    - 5.2.3. [LogisticRegression](#LogisticRegression_)\n",
    "  - 5.3. [Вывод по балансировке](#Вывод_по)\n",
    "- 6. [Тестирование модели](#Тестирование)\n",
    "- 7. [Итоговый вывод](#Итоговый)"
   ]
  },
  {
   "cell_type": "markdown",
   "id": "0843297c",
   "metadata": {},
   "source": [
    "## 1. Подготовка данных<a name=\"Подготовка\"></a>"
   ]
  },
  {
   "cell_type": "code",
   "execution_count": 1,
   "id": "c022c81c",
   "metadata": {},
   "outputs": [],
   "source": [
    "import pandas as pd\n",
    "import matplotlib.pyplot as plt\n",
    "\n",
    "from sklearn.tree import DecisionTreeClassifier\n",
    "from sklearn.ensemble import RandomForestClassifier\n",
    "from sklearn.linear_model import LogisticRegression\n",
    "\n",
    "from sklearn.model_selection import train_test_split\n",
    "from sklearn.preprocessing import StandardScaler\n",
    "\n",
    "from sklearn.metrics import accuracy_score\n",
    "from sklearn.metrics import confusion_matrix\n",
    "from sklearn.metrics import f1_score\n",
    "from sklearn.metrics import recall_score \n",
    "from sklearn.metrics import precision_score\n",
    "from sklearn.utils import shuffle\n",
    "\n",
    "from sklearn.metrics import roc_auc_score\n",
    "from sklearn.metrics import roc_curve"
   ]
  },
  {
   "cell_type": "code",
   "execution_count": 2,
   "id": "23d1ab45",
   "metadata": {},
   "outputs": [],
   "source": [
    "try:\n",
    "    df = pd.read_csv('/datasets/Churn.csv')\n",
    "except:\n",
    "    df = pd.read_csv('./datasets/Churn.csv')"
   ]
  },
  {
   "cell_type": "code",
   "execution_count": 3,
   "id": "fd02ee16",
   "metadata": {},
   "outputs": [],
   "source": [
    "df.columns = df.columns.str.lower()"
   ]
  },
  {
   "cell_type": "code",
   "execution_count": 4,
   "id": "76857cae",
   "metadata": {},
   "outputs": [
    {
     "data": {
      "text/html": [
       "<div>\n",
       "<style scoped>\n",
       "    .dataframe tbody tr th:only-of-type {\n",
       "        vertical-align: middle;\n",
       "    }\n",
       "\n",
       "    .dataframe tbody tr th {\n",
       "        vertical-align: top;\n",
       "    }\n",
       "\n",
       "    .dataframe thead th {\n",
       "        text-align: right;\n",
       "    }\n",
       "</style>\n",
       "<table border=\"1\" class=\"dataframe\">\n",
       "  <thead>\n",
       "    <tr style=\"text-align: right;\">\n",
       "      <th></th>\n",
       "      <th>rownumber</th>\n",
       "      <th>customerid</th>\n",
       "      <th>surname</th>\n",
       "      <th>creditscore</th>\n",
       "      <th>geography</th>\n",
       "      <th>gender</th>\n",
       "      <th>age</th>\n",
       "      <th>tenure</th>\n",
       "      <th>balance</th>\n",
       "      <th>numofproducts</th>\n",
       "      <th>hascrcard</th>\n",
       "      <th>isactivemember</th>\n",
       "      <th>estimatedsalary</th>\n",
       "      <th>exited</th>\n",
       "    </tr>\n",
       "  </thead>\n",
       "  <tbody>\n",
       "    <tr>\n",
       "      <th>0</th>\n",
       "      <td>1</td>\n",
       "      <td>15634602</td>\n",
       "      <td>Hargrave</td>\n",
       "      <td>619</td>\n",
       "      <td>France</td>\n",
       "      <td>Female</td>\n",
       "      <td>42</td>\n",
       "      <td>2.0</td>\n",
       "      <td>0.00</td>\n",
       "      <td>1</td>\n",
       "      <td>1</td>\n",
       "      <td>1</td>\n",
       "      <td>101348.88</td>\n",
       "      <td>1</td>\n",
       "    </tr>\n",
       "    <tr>\n",
       "      <th>1</th>\n",
       "      <td>2</td>\n",
       "      <td>15647311</td>\n",
       "      <td>Hill</td>\n",
       "      <td>608</td>\n",
       "      <td>Spain</td>\n",
       "      <td>Female</td>\n",
       "      <td>41</td>\n",
       "      <td>1.0</td>\n",
       "      <td>83807.86</td>\n",
       "      <td>1</td>\n",
       "      <td>0</td>\n",
       "      <td>1</td>\n",
       "      <td>112542.58</td>\n",
       "      <td>0</td>\n",
       "    </tr>\n",
       "    <tr>\n",
       "      <th>2</th>\n",
       "      <td>3</td>\n",
       "      <td>15619304</td>\n",
       "      <td>Onio</td>\n",
       "      <td>502</td>\n",
       "      <td>France</td>\n",
       "      <td>Female</td>\n",
       "      <td>42</td>\n",
       "      <td>8.0</td>\n",
       "      <td>159660.80</td>\n",
       "      <td>3</td>\n",
       "      <td>1</td>\n",
       "      <td>0</td>\n",
       "      <td>113931.57</td>\n",
       "      <td>1</td>\n",
       "    </tr>\n",
       "    <tr>\n",
       "      <th>3</th>\n",
       "      <td>4</td>\n",
       "      <td>15701354</td>\n",
       "      <td>Boni</td>\n",
       "      <td>699</td>\n",
       "      <td>France</td>\n",
       "      <td>Female</td>\n",
       "      <td>39</td>\n",
       "      <td>1.0</td>\n",
       "      <td>0.00</td>\n",
       "      <td>2</td>\n",
       "      <td>0</td>\n",
       "      <td>0</td>\n",
       "      <td>93826.63</td>\n",
       "      <td>0</td>\n",
       "    </tr>\n",
       "    <tr>\n",
       "      <th>4</th>\n",
       "      <td>5</td>\n",
       "      <td>15737888</td>\n",
       "      <td>Mitchell</td>\n",
       "      <td>850</td>\n",
       "      <td>Spain</td>\n",
       "      <td>Female</td>\n",
       "      <td>43</td>\n",
       "      <td>2.0</td>\n",
       "      <td>125510.82</td>\n",
       "      <td>1</td>\n",
       "      <td>1</td>\n",
       "      <td>1</td>\n",
       "      <td>79084.10</td>\n",
       "      <td>0</td>\n",
       "    </tr>\n",
       "  </tbody>\n",
       "</table>\n",
       "</div>"
      ],
      "text/plain": [
       "   rownumber  customerid   surname  creditscore geography  gender  age  \\\n",
       "0          1    15634602  Hargrave          619    France  Female   42   \n",
       "1          2    15647311      Hill          608     Spain  Female   41   \n",
       "2          3    15619304      Onio          502    France  Female   42   \n",
       "3          4    15701354      Boni          699    France  Female   39   \n",
       "4          5    15737888  Mitchell          850     Spain  Female   43   \n",
       "\n",
       "   tenure    balance  numofproducts  hascrcard  isactivemember  \\\n",
       "0     2.0       0.00              1          1               1   \n",
       "1     1.0   83807.86              1          0               1   \n",
       "2     8.0  159660.80              3          1               0   \n",
       "3     1.0       0.00              2          0               0   \n",
       "4     2.0  125510.82              1          1               1   \n",
       "\n",
       "   estimatedsalary  exited  \n",
       "0        101348.88       1  \n",
       "1        112542.58       0  \n",
       "2        113931.57       1  \n",
       "3         93826.63       0  \n",
       "4         79084.10       0  "
      ]
     },
     "execution_count": 4,
     "metadata": {},
     "output_type": "execute_result"
    }
   ],
   "source": [
    "df.head()"
   ]
  },
  {
   "cell_type": "code",
   "execution_count": 5,
   "id": "eefe532f",
   "metadata": {},
   "outputs": [
    {
     "data": {
      "text/html": [
       "<div>\n",
       "<style scoped>\n",
       "    .dataframe tbody tr th:only-of-type {\n",
       "        vertical-align: middle;\n",
       "    }\n",
       "\n",
       "    .dataframe tbody tr th {\n",
       "        vertical-align: top;\n",
       "    }\n",
       "\n",
       "    .dataframe thead th {\n",
       "        text-align: right;\n",
       "    }\n",
       "</style>\n",
       "<table border=\"1\" class=\"dataframe\">\n",
       "  <thead>\n",
       "    <tr style=\"text-align: right;\">\n",
       "      <th></th>\n",
       "      <th>rownumber</th>\n",
       "      <th>customerid</th>\n",
       "      <th>creditscore</th>\n",
       "      <th>age</th>\n",
       "      <th>tenure</th>\n",
       "      <th>balance</th>\n",
       "      <th>numofproducts</th>\n",
       "      <th>hascrcard</th>\n",
       "      <th>isactivemember</th>\n",
       "      <th>estimatedsalary</th>\n",
       "      <th>exited</th>\n",
       "    </tr>\n",
       "  </thead>\n",
       "  <tbody>\n",
       "    <tr>\n",
       "      <th>count</th>\n",
       "      <td>10000.00000</td>\n",
       "      <td>1.000000e+04</td>\n",
       "      <td>10000.000000</td>\n",
       "      <td>10000.000000</td>\n",
       "      <td>9091.000000</td>\n",
       "      <td>10000.000000</td>\n",
       "      <td>10000.000000</td>\n",
       "      <td>10000.00000</td>\n",
       "      <td>10000.000000</td>\n",
       "      <td>10000.000000</td>\n",
       "      <td>10000.000000</td>\n",
       "    </tr>\n",
       "    <tr>\n",
       "      <th>mean</th>\n",
       "      <td>5000.50000</td>\n",
       "      <td>1.569094e+07</td>\n",
       "      <td>650.528800</td>\n",
       "      <td>38.921800</td>\n",
       "      <td>4.997690</td>\n",
       "      <td>76485.889288</td>\n",
       "      <td>1.530200</td>\n",
       "      <td>0.70550</td>\n",
       "      <td>0.515100</td>\n",
       "      <td>100090.239881</td>\n",
       "      <td>0.203700</td>\n",
       "    </tr>\n",
       "    <tr>\n",
       "      <th>std</th>\n",
       "      <td>2886.89568</td>\n",
       "      <td>7.193619e+04</td>\n",
       "      <td>96.653299</td>\n",
       "      <td>10.487806</td>\n",
       "      <td>2.894723</td>\n",
       "      <td>62397.405202</td>\n",
       "      <td>0.581654</td>\n",
       "      <td>0.45584</td>\n",
       "      <td>0.499797</td>\n",
       "      <td>57510.492818</td>\n",
       "      <td>0.402769</td>\n",
       "    </tr>\n",
       "    <tr>\n",
       "      <th>min</th>\n",
       "      <td>1.00000</td>\n",
       "      <td>1.556570e+07</td>\n",
       "      <td>350.000000</td>\n",
       "      <td>18.000000</td>\n",
       "      <td>0.000000</td>\n",
       "      <td>0.000000</td>\n",
       "      <td>1.000000</td>\n",
       "      <td>0.00000</td>\n",
       "      <td>0.000000</td>\n",
       "      <td>11.580000</td>\n",
       "      <td>0.000000</td>\n",
       "    </tr>\n",
       "    <tr>\n",
       "      <th>25%</th>\n",
       "      <td>2500.75000</td>\n",
       "      <td>1.562853e+07</td>\n",
       "      <td>584.000000</td>\n",
       "      <td>32.000000</td>\n",
       "      <td>2.000000</td>\n",
       "      <td>0.000000</td>\n",
       "      <td>1.000000</td>\n",
       "      <td>0.00000</td>\n",
       "      <td>0.000000</td>\n",
       "      <td>51002.110000</td>\n",
       "      <td>0.000000</td>\n",
       "    </tr>\n",
       "    <tr>\n",
       "      <th>50%</th>\n",
       "      <td>5000.50000</td>\n",
       "      <td>1.569074e+07</td>\n",
       "      <td>652.000000</td>\n",
       "      <td>37.000000</td>\n",
       "      <td>5.000000</td>\n",
       "      <td>97198.540000</td>\n",
       "      <td>1.000000</td>\n",
       "      <td>1.00000</td>\n",
       "      <td>1.000000</td>\n",
       "      <td>100193.915000</td>\n",
       "      <td>0.000000</td>\n",
       "    </tr>\n",
       "    <tr>\n",
       "      <th>75%</th>\n",
       "      <td>7500.25000</td>\n",
       "      <td>1.575323e+07</td>\n",
       "      <td>718.000000</td>\n",
       "      <td>44.000000</td>\n",
       "      <td>7.000000</td>\n",
       "      <td>127644.240000</td>\n",
       "      <td>2.000000</td>\n",
       "      <td>1.00000</td>\n",
       "      <td>1.000000</td>\n",
       "      <td>149388.247500</td>\n",
       "      <td>0.000000</td>\n",
       "    </tr>\n",
       "    <tr>\n",
       "      <th>max</th>\n",
       "      <td>10000.00000</td>\n",
       "      <td>1.581569e+07</td>\n",
       "      <td>850.000000</td>\n",
       "      <td>92.000000</td>\n",
       "      <td>10.000000</td>\n",
       "      <td>250898.090000</td>\n",
       "      <td>4.000000</td>\n",
       "      <td>1.00000</td>\n",
       "      <td>1.000000</td>\n",
       "      <td>199992.480000</td>\n",
       "      <td>1.000000</td>\n",
       "    </tr>\n",
       "  </tbody>\n",
       "</table>\n",
       "</div>"
      ],
      "text/plain": [
       "         rownumber    customerid   creditscore           age       tenure  \\\n",
       "count  10000.00000  1.000000e+04  10000.000000  10000.000000  9091.000000   \n",
       "mean    5000.50000  1.569094e+07    650.528800     38.921800     4.997690   \n",
       "std     2886.89568  7.193619e+04     96.653299     10.487806     2.894723   \n",
       "min        1.00000  1.556570e+07    350.000000     18.000000     0.000000   \n",
       "25%     2500.75000  1.562853e+07    584.000000     32.000000     2.000000   \n",
       "50%     5000.50000  1.569074e+07    652.000000     37.000000     5.000000   \n",
       "75%     7500.25000  1.575323e+07    718.000000     44.000000     7.000000   \n",
       "max    10000.00000  1.581569e+07    850.000000     92.000000    10.000000   \n",
       "\n",
       "             balance  numofproducts    hascrcard  isactivemember  \\\n",
       "count   10000.000000   10000.000000  10000.00000    10000.000000   \n",
       "mean    76485.889288       1.530200      0.70550        0.515100   \n",
       "std     62397.405202       0.581654      0.45584        0.499797   \n",
       "min         0.000000       1.000000      0.00000        0.000000   \n",
       "25%         0.000000       1.000000      0.00000        0.000000   \n",
       "50%     97198.540000       1.000000      1.00000        1.000000   \n",
       "75%    127644.240000       2.000000      1.00000        1.000000   \n",
       "max    250898.090000       4.000000      1.00000        1.000000   \n",
       "\n",
       "       estimatedsalary        exited  \n",
       "count     10000.000000  10000.000000  \n",
       "mean     100090.239881      0.203700  \n",
       "std       57510.492818      0.402769  \n",
       "min          11.580000      0.000000  \n",
       "25%       51002.110000      0.000000  \n",
       "50%      100193.915000      0.000000  \n",
       "75%      149388.247500      0.000000  \n",
       "max      199992.480000      1.000000  "
      ]
     },
     "execution_count": 5,
     "metadata": {},
     "output_type": "execute_result"
    }
   ],
   "source": [
    "df.describe()"
   ]
  },
  {
   "cell_type": "code",
   "execution_count": 6,
   "id": "618396d5",
   "metadata": {},
   "outputs": [
    {
     "name": "stdout",
     "output_type": "stream",
     "text": [
      "<class 'pandas.core.frame.DataFrame'>\n",
      "RangeIndex: 10000 entries, 0 to 9999\n",
      "Data columns (total 14 columns):\n",
      " #   Column           Non-Null Count  Dtype  \n",
      "---  ------           --------------  -----  \n",
      " 0   rownumber        10000 non-null  int64  \n",
      " 1   customerid       10000 non-null  int64  \n",
      " 2   surname          10000 non-null  object \n",
      " 3   creditscore      10000 non-null  int64  \n",
      " 4   geography        10000 non-null  object \n",
      " 5   gender           10000 non-null  object \n",
      " 6   age              10000 non-null  int64  \n",
      " 7   tenure           9091 non-null   float64\n",
      " 8   balance          10000 non-null  float64\n",
      " 9   numofproducts    10000 non-null  int64  \n",
      " 10  hascrcard        10000 non-null  int64  \n",
      " 11  isactivemember   10000 non-null  int64  \n",
      " 12  estimatedsalary  10000 non-null  float64\n",
      " 13  exited           10000 non-null  int64  \n",
      "dtypes: float64(3), int64(8), object(3)\n",
      "memory usage: 1.1+ MB\n"
     ]
    }
   ],
   "source": [
    "df.info()"
   ]
  },
  {
   "cell_type": "code",
   "execution_count": 7,
   "id": "f1a2f67e",
   "metadata": {},
   "outputs": [
    {
     "data": {
      "text/plain": [
       "0"
      ]
     },
     "execution_count": 7,
     "metadata": {},
     "output_type": "execute_result"
    }
   ],
   "source": [
    "df.duplicated().sum()"
   ]
  },
  {
   "cell_type": "markdown",
   "id": "4eec09ae",
   "metadata": {},
   "source": [
    "Посмортрим пропущенные значения"
   ]
  },
  {
   "cell_type": "code",
   "execution_count": 8,
   "id": "1d0e10ce",
   "metadata": {},
   "outputs": [
    {
     "data": {
      "text/plain": [
       "rownumber            0\n",
       "customerid           0\n",
       "surname              0\n",
       "creditscore          0\n",
       "geography            0\n",
       "gender               0\n",
       "age                  0\n",
       "tenure             909\n",
       "balance              0\n",
       "numofproducts        0\n",
       "hascrcard            0\n",
       "isactivemember       0\n",
       "estimatedsalary      0\n",
       "exited               0\n",
       "dtype: int64"
      ]
     },
     "execution_count": 8,
     "metadata": {},
     "output_type": "execute_result"
    }
   ],
   "source": [
    "df.isna().sum()"
   ]
  },
  {
   "cell_type": "code",
   "execution_count": 9,
   "id": "83418606",
   "metadata": {},
   "outputs": [
    {
     "data": {
      "text/plain": [
       "array([ 2.,  1.,  8.,  7.,  4.,  6.,  3., 10.,  5.,  9.,  0., nan])"
      ]
     },
     "execution_count": 9,
     "metadata": {},
     "output_type": "execute_result"
    }
   ],
   "source": [
    "df['tenure'].unique()"
   ]
  },
  {
   "cell_type": "markdown",
   "id": "2c323e73",
   "metadata": {},
   "source": [
    "В столбце Tenure указано сколько всего лет человек является клиентом банка, пропуски скорее всего означают что человек является клиентом меньше года, так что пропуски заполним нулем."
   ]
  },
  {
   "cell_type": "code",
   "execution_count": 10,
   "id": "b38e072c",
   "metadata": {},
   "outputs": [],
   "source": [
    "df['tenure'] = df['tenure'].fillna(0)"
   ]
  },
  {
   "cell_type": "markdown",
   "id": "355f75b9",
   "metadata": {},
   "source": [
    "Так же изменим тип на целочисленный"
   ]
  },
  {
   "cell_type": "code",
   "execution_count": 11,
   "id": "d66b2271",
   "metadata": {},
   "outputs": [],
   "source": [
    "df['tenure'] = df['tenure'].astype('int')"
   ]
  },
  {
   "cell_type": "markdown",
   "id": "edc4c220",
   "metadata": {},
   "source": [
    "Изучим так же и другие столбцы, Что бы понять будут ли они нам нужны для дальнейшего анализа."
   ]
  },
  {
   "cell_type": "code",
   "execution_count": 12,
   "id": "9606eac4",
   "metadata": {},
   "outputs": [
    {
     "data": {
      "text/plain": [
       "array(['France', 'Spain', 'Germany'], dtype=object)"
      ]
     },
     "execution_count": 12,
     "metadata": {},
     "output_type": "execute_result"
    }
   ],
   "source": [
    "df['geography'].unique()"
   ]
  },
  {
   "cell_type": "code",
   "execution_count": 13,
   "id": "bd209711",
   "metadata": {},
   "outputs": [
    {
     "data": {
      "text/plain": [
       "array(['Female', 'Male'], dtype=object)"
      ]
     },
     "execution_count": 13,
     "metadata": {},
     "output_type": "execute_result"
    }
   ],
   "source": [
    "df['gender'].unique()"
   ]
  },
  {
   "cell_type": "markdown",
   "id": "cb45388e",
   "metadata": {},
   "source": [
    "По итогу столбцы:\n",
    "1) rownumber            Удаляем, так как дублирует данные из датафрейма \n",
    "\n",
    "2) surname              Удаляем, так как у нас есть столбец с уникальным номером пользователя\n",
    "\n",
    "3) geography            Преобразуем в числа\n",
    "\n",
    "4) gender               Преобразуем в числа"
   ]
  },
  {
   "cell_type": "markdown",
   "id": "5a7d2b81",
   "metadata": {},
   "source": [
    "Удаляем ненужные столбцы "
   ]
  },
  {
   "cell_type": "code",
   "execution_count": 14,
   "id": "8bed31bc",
   "metadata": {},
   "outputs": [],
   "source": [
    "df = df.drop(['rownumber'], axis=1, errors='ignore')"
   ]
  },
  {
   "cell_type": "code",
   "execution_count": 15,
   "id": "23caaf21",
   "metadata": {},
   "outputs": [],
   "source": [
    "df = df.drop(['surname'], axis=1, errors='ignore')"
   ]
  },
  {
   "cell_type": "markdown",
   "id": "bfd125df",
   "metadata": {},
   "source": [
    "Cоздадим копию датафрейма"
   ]
  },
  {
   "cell_type": "code",
   "execution_count": 16,
   "id": "68d0663c",
   "metadata": {},
   "outputs": [],
   "source": [
    "df_ml = df"
   ]
  },
  {
   "cell_type": "code",
   "execution_count": 17,
   "id": "58513829",
   "metadata": {},
   "outputs": [],
   "source": [
    "df_ml = df_ml.drop(['customerid'], axis=1, errors='ignore')"
   ]
  },
  {
   "cell_type": "code",
   "execution_count": 18,
   "id": "9986a648",
   "metadata": {},
   "outputs": [
    {
     "data": {
      "text/html": [
       "<div>\n",
       "<style scoped>\n",
       "    .dataframe tbody tr th:only-of-type {\n",
       "        vertical-align: middle;\n",
       "    }\n",
       "\n",
       "    .dataframe tbody tr th {\n",
       "        vertical-align: top;\n",
       "    }\n",
       "\n",
       "    .dataframe thead th {\n",
       "        text-align: right;\n",
       "    }\n",
       "</style>\n",
       "<table border=\"1\" class=\"dataframe\">\n",
       "  <thead>\n",
       "    <tr style=\"text-align: right;\">\n",
       "      <th></th>\n",
       "      <th>creditscore</th>\n",
       "      <th>geography</th>\n",
       "      <th>gender</th>\n",
       "      <th>age</th>\n",
       "      <th>tenure</th>\n",
       "      <th>balance</th>\n",
       "      <th>numofproducts</th>\n",
       "      <th>hascrcard</th>\n",
       "      <th>isactivemember</th>\n",
       "      <th>estimatedsalary</th>\n",
       "      <th>exited</th>\n",
       "    </tr>\n",
       "  </thead>\n",
       "  <tbody>\n",
       "    <tr>\n",
       "      <th>0</th>\n",
       "      <td>619</td>\n",
       "      <td>France</td>\n",
       "      <td>Female</td>\n",
       "      <td>42</td>\n",
       "      <td>2</td>\n",
       "      <td>0.00</td>\n",
       "      <td>1</td>\n",
       "      <td>1</td>\n",
       "      <td>1</td>\n",
       "      <td>101348.88</td>\n",
       "      <td>1</td>\n",
       "    </tr>\n",
       "    <tr>\n",
       "      <th>1</th>\n",
       "      <td>608</td>\n",
       "      <td>Spain</td>\n",
       "      <td>Female</td>\n",
       "      <td>41</td>\n",
       "      <td>1</td>\n",
       "      <td>83807.86</td>\n",
       "      <td>1</td>\n",
       "      <td>0</td>\n",
       "      <td>1</td>\n",
       "      <td>112542.58</td>\n",
       "      <td>0</td>\n",
       "    </tr>\n",
       "    <tr>\n",
       "      <th>2</th>\n",
       "      <td>502</td>\n",
       "      <td>France</td>\n",
       "      <td>Female</td>\n",
       "      <td>42</td>\n",
       "      <td>8</td>\n",
       "      <td>159660.80</td>\n",
       "      <td>3</td>\n",
       "      <td>1</td>\n",
       "      <td>0</td>\n",
       "      <td>113931.57</td>\n",
       "      <td>1</td>\n",
       "    </tr>\n",
       "    <tr>\n",
       "      <th>3</th>\n",
       "      <td>699</td>\n",
       "      <td>France</td>\n",
       "      <td>Female</td>\n",
       "      <td>39</td>\n",
       "      <td>1</td>\n",
       "      <td>0.00</td>\n",
       "      <td>2</td>\n",
       "      <td>0</td>\n",
       "      <td>0</td>\n",
       "      <td>93826.63</td>\n",
       "      <td>0</td>\n",
       "    </tr>\n",
       "    <tr>\n",
       "      <th>4</th>\n",
       "      <td>850</td>\n",
       "      <td>Spain</td>\n",
       "      <td>Female</td>\n",
       "      <td>43</td>\n",
       "      <td>2</td>\n",
       "      <td>125510.82</td>\n",
       "      <td>1</td>\n",
       "      <td>1</td>\n",
       "      <td>1</td>\n",
       "      <td>79084.10</td>\n",
       "      <td>0</td>\n",
       "    </tr>\n",
       "    <tr>\n",
       "      <th>...</th>\n",
       "      <td>...</td>\n",
       "      <td>...</td>\n",
       "      <td>...</td>\n",
       "      <td>...</td>\n",
       "      <td>...</td>\n",
       "      <td>...</td>\n",
       "      <td>...</td>\n",
       "      <td>...</td>\n",
       "      <td>...</td>\n",
       "      <td>...</td>\n",
       "      <td>...</td>\n",
       "    </tr>\n",
       "    <tr>\n",
       "      <th>9995</th>\n",
       "      <td>771</td>\n",
       "      <td>France</td>\n",
       "      <td>Male</td>\n",
       "      <td>39</td>\n",
       "      <td>5</td>\n",
       "      <td>0.00</td>\n",
       "      <td>2</td>\n",
       "      <td>1</td>\n",
       "      <td>0</td>\n",
       "      <td>96270.64</td>\n",
       "      <td>0</td>\n",
       "    </tr>\n",
       "    <tr>\n",
       "      <th>9996</th>\n",
       "      <td>516</td>\n",
       "      <td>France</td>\n",
       "      <td>Male</td>\n",
       "      <td>35</td>\n",
       "      <td>10</td>\n",
       "      <td>57369.61</td>\n",
       "      <td>1</td>\n",
       "      <td>1</td>\n",
       "      <td>1</td>\n",
       "      <td>101699.77</td>\n",
       "      <td>0</td>\n",
       "    </tr>\n",
       "    <tr>\n",
       "      <th>9997</th>\n",
       "      <td>709</td>\n",
       "      <td>France</td>\n",
       "      <td>Female</td>\n",
       "      <td>36</td>\n",
       "      <td>7</td>\n",
       "      <td>0.00</td>\n",
       "      <td>1</td>\n",
       "      <td>0</td>\n",
       "      <td>1</td>\n",
       "      <td>42085.58</td>\n",
       "      <td>1</td>\n",
       "    </tr>\n",
       "    <tr>\n",
       "      <th>9998</th>\n",
       "      <td>772</td>\n",
       "      <td>Germany</td>\n",
       "      <td>Male</td>\n",
       "      <td>42</td>\n",
       "      <td>3</td>\n",
       "      <td>75075.31</td>\n",
       "      <td>2</td>\n",
       "      <td>1</td>\n",
       "      <td>0</td>\n",
       "      <td>92888.52</td>\n",
       "      <td>1</td>\n",
       "    </tr>\n",
       "    <tr>\n",
       "      <th>9999</th>\n",
       "      <td>792</td>\n",
       "      <td>France</td>\n",
       "      <td>Female</td>\n",
       "      <td>28</td>\n",
       "      <td>0</td>\n",
       "      <td>130142.79</td>\n",
       "      <td>1</td>\n",
       "      <td>1</td>\n",
       "      <td>0</td>\n",
       "      <td>38190.78</td>\n",
       "      <td>0</td>\n",
       "    </tr>\n",
       "  </tbody>\n",
       "</table>\n",
       "<p>10000 rows × 11 columns</p>\n",
       "</div>"
      ],
      "text/plain": [
       "      creditscore geography  gender  age  tenure    balance  numofproducts  \\\n",
       "0             619    France  Female   42       2       0.00              1   \n",
       "1             608     Spain  Female   41       1   83807.86              1   \n",
       "2             502    France  Female   42       8  159660.80              3   \n",
       "3             699    France  Female   39       1       0.00              2   \n",
       "4             850     Spain  Female   43       2  125510.82              1   \n",
       "...           ...       ...     ...  ...     ...        ...            ...   \n",
       "9995          771    France    Male   39       5       0.00              2   \n",
       "9996          516    France    Male   35      10   57369.61              1   \n",
       "9997          709    France  Female   36       7       0.00              1   \n",
       "9998          772   Germany    Male   42       3   75075.31              2   \n",
       "9999          792    France  Female   28       0  130142.79              1   \n",
       "\n",
       "      hascrcard  isactivemember  estimatedsalary  exited  \n",
       "0             1               1        101348.88       1  \n",
       "1             0               1        112542.58       0  \n",
       "2             1               0        113931.57       1  \n",
       "3             0               0         93826.63       0  \n",
       "4             1               1         79084.10       0  \n",
       "...         ...             ...              ...     ...  \n",
       "9995          1               0         96270.64       0  \n",
       "9996          1               1        101699.77       0  \n",
       "9997          0               1         42085.58       1  \n",
       "9998          1               0         92888.52       1  \n",
       "9999          1               0         38190.78       0  \n",
       "\n",
       "[10000 rows x 11 columns]"
      ]
     },
     "execution_count": 18,
     "metadata": {},
     "output_type": "execute_result"
    }
   ],
   "source": [
    "df_ml"
   ]
  },
  {
   "cell_type": "markdown",
   "id": "b3f76a04",
   "metadata": {
    "toc": true
   },
   "source": [
    "[К оглавлению](#Оглавление)"
   ]
  },
  {
   "cell_type": "markdown",
   "id": "214711b0",
   "metadata": {},
   "source": [
    "## 2. Исследование задачи<a name=\"Исследование\"></a>"
   ]
  },
  {
   "cell_type": "markdown",
   "id": "690bda54",
   "metadata": {},
   "source": [
    "Мы умеем делить только на две части , поэтому сначала отделим 40% от всего датасета, а потом эти 40 % поделим пополам между тестовой и валидационной выборкой. Таким образом в них будет по 20 % от всего датасета."
   ]
  },
  {
   "cell_type": "code",
   "execution_count": 19,
   "id": "0985cdd2",
   "metadata": {},
   "outputs": [],
   "source": [
    "df_train, df_valid = train_test_split(df_ml, test_size=0.4, random_state=12345)\n",
    "df_valid, df_test = train_test_split(df_valid, test_size=0.5, random_state=12345)"
   ]
  },
  {
   "cell_type": "markdown",
   "id": "41ea8bfc",
   "metadata": {},
   "source": [
    "Посмотрим на размеры получившихся выборок"
   ]
  },
  {
   "cell_type": "code",
   "execution_count": 20,
   "id": "4bc4ca8c",
   "metadata": {},
   "outputs": [
    {
     "data": {
      "text/plain": [
       "(6000, 11)"
      ]
     },
     "execution_count": 20,
     "metadata": {},
     "output_type": "execute_result"
    }
   ],
   "source": [
    "df_train.shape"
   ]
  },
  {
   "cell_type": "code",
   "execution_count": 21,
   "id": "3cd569a5",
   "metadata": {},
   "outputs": [
    {
     "data": {
      "text/plain": [
       "(2000, 11)"
      ]
     },
     "execution_count": 21,
     "metadata": {},
     "output_type": "execute_result"
    }
   ],
   "source": [
    "df_valid.shape"
   ]
  },
  {
   "cell_type": "code",
   "execution_count": 22,
   "id": "c94363b1",
   "metadata": {},
   "outputs": [
    {
     "data": {
      "text/plain": [
       "(2000, 11)"
      ]
     },
     "execution_count": 22,
     "metadata": {},
     "output_type": "execute_result"
    }
   ],
   "source": [
    "df_test.shape"
   ]
  },
  {
   "cell_type": "markdown",
   "id": "b56fa608",
   "metadata": {},
   "source": [
    "Выделим целевой признак "
   ]
  },
  {
   "cell_type": "code",
   "execution_count": 23,
   "id": "40fc7a5b",
   "metadata": {},
   "outputs": [],
   "source": [
    "features_train = df_train.drop(['exited'], axis=1)\n",
    "target_train = df_train['exited']\n",
    "\n",
    "features_valid = df_valid.drop(['exited'], axis=1)\n",
    "target_valid = df_valid['exited']\n",
    "\n",
    "features_test = df_test.drop(['exited'], axis=1)\n",
    "target_test = df_test['exited']"
   ]
  },
  {
   "cell_type": "code",
   "execution_count": 24,
   "id": "7389805c",
   "metadata": {},
   "outputs": [],
   "source": [
    "features_train = pd.get_dummies(features_train, drop_first=True)\n",
    "features_valid = pd.get_dummies(features_valid, drop_first=True)\n",
    "features_test = pd.get_dummies(features_test, drop_first=True)"
   ]
  },
  {
   "cell_type": "markdown",
   "id": "801c75a5",
   "metadata": {},
   "source": [
    "Отмаштабируем численные признаки"
   ]
  },
  {
   "cell_type": "code",
   "execution_count": 25,
   "id": "5fcd21d6",
   "metadata": {},
   "outputs": [],
   "source": [
    "numeric = ['creditscore', 'age', 'tenure', 'balance', 'numofproducts', 'estimatedsalary']"
   ]
  },
  {
   "cell_type": "code",
   "execution_count": 26,
   "id": "e3ee5eb1",
   "metadata": {},
   "outputs": [],
   "source": [
    "scaler = StandardScaler()\n",
    "scaler.fit(features_train[numeric])\n",
    "features_train[numeric] = scaler.transform(features_train[numeric])\n",
    "features_valid[numeric] = scaler.transform(features_valid[numeric]) \n",
    "features_test[numeric] = scaler.transform(features_test[numeric])"
   ]
  },
  {
   "cell_type": "markdown",
   "id": "223a4e51",
   "metadata": {
    "toc": true
   },
   "source": [
    "[К оглавлению](#Оглавление)"
   ]
  },
  {
   "cell_type": "markdown",
   "id": "486af9a4",
   "metadata": {},
   "source": [
    "## 3. Исследование баланса классов выборки<a name=\"Исследование_\"></a>"
   ]
  },
  {
   "cell_type": "code",
   "execution_count": 27,
   "id": "dc9eb822",
   "metadata": {},
   "outputs": [
    {
     "data": {
      "text/plain": [
       "0    4804\n",
       "1    1196\n",
       "Name: exited, dtype: int64"
      ]
     },
     "execution_count": 27,
     "metadata": {},
     "output_type": "execute_result"
    }
   ],
   "source": [
    "target_train.value_counts()"
   ]
  },
  {
   "cell_type": "code",
   "execution_count": 28,
   "id": "c4884941",
   "metadata": {},
   "outputs": [
    {
     "data": {
      "text/plain": [
       "<AxesSubplot:ylabel='Frequency'>"
      ]
     },
     "execution_count": 28,
     "metadata": {},
     "output_type": "execute_result"
    },
    {
     "data": {
      "image/png": "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\n",
      "text/plain": [
       "<Figure size 100x100 with 1 Axes>"
      ]
     },
     "metadata": {},
     "output_type": "display_data"
    }
   ],
   "source": [
    "target_train.plot(kind ='hist', bins=2, figsize=(1,1))"
   ]
  },
  {
   "cell_type": "markdown",
   "id": "284133a5",
   "metadata": {},
   "source": [
    "Как мы выяснили в нашей выборке отрицательны ответов ≈80%, положитительных ≈ 20%. С уверенностью можем сказать что имеется дисбаланс."
   ]
  },
  {
   "cell_type": "markdown",
   "id": "0924ed6f",
   "metadata": {
    "toc": true
   },
   "source": [
    "[К оглавлению](#Оглавление)"
   ]
  },
  {
   "cell_type": "markdown",
   "id": "5414b98a",
   "metadata": {},
   "source": [
    "## 4. Oбучение моделей, без учета дисбаланса классов <a name=\"Oбучение\"></a>"
   ]
  },
  {
   "cell_type": "markdown",
   "id": "c3f058e9",
   "metadata": {},
   "source": [
    "Начнем обучение различных моделей, без учета дисбаланса классов "
   ]
  },
  {
   "cell_type": "markdown",
   "id": "343eae6d",
   "metadata": {},
   "source": [
    "### 4.1. DecisionTreeClassifier<a name=\"DecisionTreeClassifier___\"></a>"
   ]
  },
  {
   "cell_type": "code",
   "execution_count": 29,
   "id": "9b93050c",
   "metadata": {},
   "outputs": [
    {
     "name": "stdout",
     "output_type": "stream",
     "text": [
      "max_depth = 1 F1 : 0.0\n",
      "max_depth = 2 F1 : 0.5217391304347825\n",
      "max_depth = 3 F1 : 0.4234875444839857\n",
      "max_depth = 4 F1 : 0.5528700906344411\n",
      "max_depth = 5 F1 : 0.5406249999999999\n",
      "max_depth = 6 F1 : 0.5696969696969697\n",
      "max_depth = 7 F1 : 0.5320813771517998\n",
      "max_depth = 8 F1 : 0.5449010654490106\n",
      "max_depth = 9 F1 : 0.5786516853932585\n",
      "max_depth = 10 F1 : 0.528995756718529\n",
      "max_depth = 11 F1 : 0.5201072386058981\n",
      "max_depth = 12 F1 : 0.5013054830287207\n",
      "max_depth = 13 F1 : 0.5259067357512954\n",
      "max_depth = 14 F1 : 0.48391248391248387\n"
     ]
    }
   ],
   "source": [
    "for depth in range(1, 15):\n",
    "    model = DecisionTreeClassifier(random_state=12345, max_depth = depth)\n",
    "    model.fit(features_train,target_train) \n",
    "    predicted_valid = model.predict(features_valid) \n",
    "    result = f1_score(target_valid, predicted_valid) \n",
    "    print('max_depth =', depth, 'F1 :', result)"
   ]
  },
  {
   "cell_type": "markdown",
   "id": "7d5db24d",
   "metadata": {},
   "source": [
    "Рассмотрим параметры модели"
   ]
  },
  {
   "cell_type": "code",
   "execution_count": 30,
   "id": "796033e5",
   "metadata": {},
   "outputs": [
    {
     "name": "stdout",
     "output_type": "stream",
     "text": [
      "[[1494   88]\n",
      " [ 212  206]]\n",
      "Полнота:  0.49282296650717705\n",
      "Точность: 0.7006802721088435\n",
      "F1-мера:  0.5786516853932585\n"
     ]
    }
   ],
   "source": [
    "model = DecisionTreeClassifier(random_state=12345, max_depth = 9)\n",
    "model.fit(features_train,target_train) \n",
    "predicted_valid = model.predict(features_valid) \n",
    "result = f1_score(target_valid, predicted_valid)\n",
    "print(confusion_matrix(target_valid, predicted_valid))\n",
    "print('Полнота: ', recall_score(target_valid, predicted_valid))\n",
    "print('Точность:', precision_score(target_valid, predicted_valid))\n",
    "print('F1-мера: ', result)"
   ]
  },
  {
   "cell_type": "markdown",
   "id": "00a24d87",
   "metadata": {},
   "source": [
    "Лучший результат при параметре глубины: max_depth = 9 F1 : 0.5786516853932585."
   ]
  },
  {
   "cell_type": "markdown",
   "id": "98708dbf",
   "metadata": {
    "toc": true
   },
   "source": [
    "[К оглавлению](#Оглавление)"
   ]
  },
  {
   "cell_type": "markdown",
   "id": "e9e4eccd",
   "metadata": {},
   "source": [
    "### 4.2. RandomForestClassifier<a name=\"RandomForestClassifier___\"></a>"
   ]
  },
  {
   "cell_type": "code",
   "execution_count": 31,
   "id": "7f7b247a",
   "metadata": {},
   "outputs": [
    {
     "name": "stdout",
     "output_type": "stream",
     "text": [
      "F1 наилучшей модели на валидационной выборке: 0.6043795620437956\n",
      "RandomForestClassifier(max_depth=17, n_estimators=23, random_state=12345)\n"
     ]
    }
   ],
   "source": [
    "best_model = None\n",
    "best_result = 0\n",
    "for depth in range(2, 18):\n",
    "    for est in range(1, 81):\n",
    "        model = RandomForestClassifier(random_state=12345, max_depth=depth, n_estimators=est)\n",
    "        model.fit(features_train,target_train)\n",
    "        predicted_valid = model.predict(features_valid) \n",
    "        result = f1_score(target_valid, predicted_valid) \n",
    "        if result > best_result:\n",
    "            best_model = model\n",
    "            best_result = result \n",
    "            \n",
    "print(\"F1 наилучшей модели на валидационной выборке:\", best_result)\n",
    "print(best_model)"
   ]
  },
  {
   "cell_type": "markdown",
   "id": "210cb662",
   "metadata": {},
   "source": [
    "Рассмотрим параметры модели"
   ]
  },
  {
   "cell_type": "code",
   "execution_count": 32,
   "id": "9042e432",
   "metadata": {},
   "outputs": [
    {
     "name": "stdout",
     "output_type": "stream",
     "text": [
      "[[1522   60]\n",
      " [ 211  207]]\n",
      "Полнота:  0.49521531100478466\n",
      "Точность: 0.7752808988764045\n",
      "F1-мера:  0.6043795620437956\n"
     ]
    }
   ],
   "source": [
    "model = RandomForestClassifier(max_depth=17, n_estimators=23, random_state=12345)\n",
    "model.fit(features_train,target_train)\n",
    "predicted_valid = model.predict(features_valid) \n",
    "result = f1_score(target_valid, predicted_valid)\n",
    "print(confusion_matrix(target_valid, predicted_valid))\n",
    "print('Полнота: ', recall_score(target_valid, predicted_valid))\n",
    "print('Точность:', precision_score(target_valid, predicted_valid))\n",
    "print('F1-мера: ', result)"
   ]
  },
  {
   "cell_type": "markdown",
   "id": "5f3e23b0",
   "metadata": {
    "toc": true
   },
   "source": [
    "[К оглавлению](#Оглавление)"
   ]
  },
  {
   "cell_type": "markdown",
   "id": "01839ae7",
   "metadata": {},
   "source": [
    "### 4.3. LogisticRegression<a name=\"LogisticRegression___\"></a>"
   ]
  },
  {
   "cell_type": "code",
   "execution_count": 33,
   "id": "b207fea1",
   "metadata": {},
   "outputs": [
    {
     "data": {
      "text/plain": [
       "0.33389544688026984"
      ]
     },
     "execution_count": 33,
     "metadata": {},
     "output_type": "execute_result"
    }
   ],
   "source": [
    "model = LogisticRegression(random_state=12345, solver='lbfgs', max_iter=1000)\n",
    "model.fit(features_train,target_train)\n",
    "\n",
    "predicted_valid = model.predict(features_valid)\n",
    "\n",
    "f1_score(target_valid, predicted_valid)"
   ]
  },
  {
   "cell_type": "markdown",
   "id": "a75aff64",
   "metadata": {},
   "source": [
    "Рассмотрим параметры модели"
   ]
  },
  {
   "cell_type": "code",
   "execution_count": 34,
   "id": "69a21c4e",
   "metadata": {},
   "outputs": [
    {
     "name": "stdout",
     "output_type": "stream",
     "text": [
      "Полнота:  0.23684210526315788\n",
      "Точность: 0.5657142857142857\n",
      "F1-мера:  0.33389544688026984\n"
     ]
    }
   ],
   "source": [
    "model = LogisticRegression(random_state=12345,solver='liblinear')\n",
    "model.fit(features_train,target_train)\n",
    "predicted_valid = model.predict(features_valid) \n",
    "result = f1_score(target_valid, predicted_valid)\n",
    "print('Полнота: ', recall_score(target_valid, predicted_valid))\n",
    "print('Точность:', precision_score(target_valid, predicted_valid))\n",
    "print('F1-мера: ', result)"
   ]
  },
  {
   "cell_type": "markdown",
   "id": "03d6058c",
   "metadata": {},
   "source": [
    "Вывод: Сравнение моделей и их F1-меру:\n",
    "\n",
    "1) Решающее дерево 0.5786516853932585\n",
    "\n",
    "2) Случайный лес 0.6043795620437956\n",
    "\n",
    "3) Логистическая регрессия 0.33389544688026984\n",
    "\n",
    "Пока что лучшая модель Случайный лес с параметрами: max_depth=17, n_estimators=23, random_state=12345"
   ]
  },
  {
   "cell_type": "markdown",
   "id": "2cbedcdf",
   "metadata": {
    "toc": true
   },
   "source": [
    "[К оглавлению](#Оглавление)"
   ]
  },
  {
   "cell_type": "markdown",
   "id": "37062457",
   "metadata": {},
   "source": [
    "## 5. Борьба с дисбалансом<a name=\"Борьба_дисбалансом\"></a>"
   ]
  },
  {
   "cell_type": "markdown",
   "id": "49a0ec0d",
   "metadata": {},
   "source": [
    "Придадим объектам редкого класса больший вес."
   ]
  },
  {
   "cell_type": "markdown",
   "id": "34c9515b",
   "metadata": {},
   "source": [
    "#### 5.0.1. DecisionTreeClassifier<a name=\"DecisionTreeClassifier__\"></a>"
   ]
  },
  {
   "cell_type": "code",
   "execution_count": 35,
   "id": "82ee7433",
   "metadata": {},
   "outputs": [
    {
     "name": "stdout",
     "output_type": "stream",
     "text": [
      "max_depth = 1 F1 : 0.4994903160040775\n",
      "max_depth = 2 F1 : 0.541015625\n",
      "max_depth = 3 F1 : 0.541015625\n",
      "max_depth = 4 F1 : 0.5277777777777778\n",
      "max_depth = 5 F1 : 0.5963791267305644\n",
      "max_depth = 6 F1 : 0.5581835383159887\n",
      "max_depth = 7 F1 : 0.5559999999999999\n",
      "max_depth = 8 F1 : 0.5401174168297456\n",
      "max_depth = 9 F1 : 0.5349065880039331\n",
      "max_depth = 10 F1 : 0.5130183220829315\n",
      "max_depth = 11 F1 : 0.5249237029501526\n",
      "max_depth = 12 F1 : 0.5025641025641027\n",
      "max_depth = 13 F1 : 0.49838187702265374\n",
      "max_depth = 14 F1 : 0.4804469273743016\n"
     ]
    }
   ],
   "source": [
    "for depth in range(1, 15):\n",
    "    model = DecisionTreeClassifier(random_state=12345, max_depth = depth, class_weight='balanced')\n",
    "    model.fit(features_train,target_train) \n",
    "    predictions_valid = model.predict(features_valid) \n",
    "    result = f1_score(target_valid, predictions_valid) \n",
    "    print('max_depth =', depth, 'F1 :', result)"
   ]
  },
  {
   "cell_type": "markdown",
   "id": "cc104407",
   "metadata": {},
   "source": [
    "Лучший результат при параметре глубины: max_depth = 6 F1 : 0.5581835383159887. Чуть меньше чем до учета дисбаланса"
   ]
  },
  {
   "cell_type": "markdown",
   "id": "1c3fec7d",
   "metadata": {
    "toc": true
   },
   "source": [
    "[К оглавлению](#Оглавление)"
   ]
  },
  {
   "cell_type": "markdown",
   "id": "a3b8d652",
   "metadata": {},
   "source": [
    "#### 5.0.2. RandomForestClassifier<a name=\"RandomForestClassifier__\"></a>"
   ]
  },
  {
   "cell_type": "code",
   "execution_count": 36,
   "id": "f75f57d0",
   "metadata": {},
   "outputs": [
    {
     "name": "stdout",
     "output_type": "stream",
     "text": [
      "F1: 0.6347826086956522\n",
      "RandomForestClassifier(class_weight='balanced', max_depth=8, n_estimators=41,\n",
      "                       random_state=12345)\n"
     ]
    }
   ],
   "source": [
    "best_model = None\n",
    "best_result = 0\n",
    "for depth in range(2, 18):\n",
    "    for est in range(1, 81):\n",
    "        model = RandomForestClassifier(random_state=12345, max_depth=depth, n_estimators=est, class_weight='balanced')\n",
    "        model.fit(features_train,target_train)\n",
    "        predicted_valid = model.predict(features_valid) \n",
    "        result = f1_score(target_valid, predicted_valid) \n",
    "        if result > best_result:\n",
    "            best_model = model \n",
    "            best_result = result \n",
    "\n",
    "print(\"F1:\", best_result)\n",
    "print(best_model)"
   ]
  },
  {
   "cell_type": "markdown",
   "id": "25086e7c",
   "metadata": {},
   "source": [
    "F1-мера чуть выше чем до учета дисбаланса"
   ]
  },
  {
   "cell_type": "markdown",
   "id": "a9fac10d",
   "metadata": {},
   "source": [
    "#### 5.0.3. LogisticRegression<a name=\"LogisticRegression__\"></a>"
   ]
  },
  {
   "cell_type": "code",
   "execution_count": 37,
   "id": "f8c82e2a",
   "metadata": {},
   "outputs": [
    {
     "name": "stdout",
     "output_type": "stream",
     "text": [
      "F1: 0.4888888888888888\n"
     ]
    }
   ],
   "source": [
    "model = LogisticRegression(random_state=12345, solver='liblinear', class_weight='balanced')\n",
    "model.fit(features_train, target_train)\n",
    "predicted_valid = model.predict(features_valid)\n",
    "print(\"F1:\", f1_score(target_valid, predicted_valid))"
   ]
  },
  {
   "cell_type": "markdown",
   "id": "ca612178",
   "metadata": {},
   "source": [
    "F1-мера чуть выше чем до учета дисбаланса"
   ]
  },
  {
   "cell_type": "markdown",
   "id": "18ca7b42",
   "metadata": {
    "toc": true
   },
   "source": [
    "[К оглавлению](#Оглавление)"
   ]
  },
  {
   "cell_type": "markdown",
   "id": "6d31dfd3",
   "metadata": {},
   "source": [
    "### 5.1. Балансировка классов с помощью увеличения выборки (upsampling)<a name=\"upsampling\"></a>"
   ]
  },
  {
   "cell_type": "markdown",
   "id": "d1c2df3f",
   "metadata": {},
   "source": [
    "Как мы выяснили ранее в нашей выборке отрицательны ответов ≈80% , положитительных ≈ 20%. Нам необходмо увеличить количество положительных ответов в 4 раза для достижения баланса. Либо же уменьшить кол-во отрицтаельных ответов."
   ]
  },
  {
   "cell_type": "code",
   "execution_count": 38,
   "id": "69c79556",
   "metadata": {},
   "outputs": [],
   "source": [
    "def upsample(features, target, repeat):\n",
    "    features_zeros = features[target == 0]\n",
    "    features_ones = features[target == 1]\n",
    "    target_zeros = target[target == 0]\n",
    "    target_ones = target[target == 1]\n",
    "\n",
    "    features_upsampled = pd.concat([features_zeros] + [features_ones] * repeat)\n",
    "    target_upsampled = pd.concat([target_zeros] + [target_ones] * repeat)\n",
    "    \n",
    "    features_upsampled, target_upsampled = shuffle(\n",
    "        features_upsampled, target_upsampled, random_state=12345)\n",
    "    \n",
    "    return features_upsampled, target_upsampled\n",
    "features_upsampled, target_upsampled = upsample(features_train, target_train, 4)"
   ]
  },
  {
   "cell_type": "markdown",
   "id": "bcd8d75e",
   "metadata": {
    "toc": true
   },
   "source": [
    "[К оглавлению](#Оглавление)"
   ]
  },
  {
   "cell_type": "markdown",
   "id": "3d44573f",
   "metadata": {},
   "source": [
    "#### 5.1.1. DecisionTreeClassifier<a name=\"DecisionTreeClassifier\"></a>"
   ]
  },
  {
   "cell_type": "code",
   "execution_count": 39,
   "id": "26bd807a",
   "metadata": {},
   "outputs": [
    {
     "name": "stdout",
     "output_type": "stream",
     "text": [
      "max_depth = 1 F1 : 0.4994903160040775\n",
      "max_depth = 2 F1 : 0.541015625\n",
      "max_depth = 3 F1 : 0.541015625\n",
      "max_depth = 4 F1 : 0.5277777777777778\n",
      "max_depth = 5 F1 : 0.5963791267305644\n",
      "max_depth = 6 F1 : 0.5581835383159887\n",
      "max_depth = 7 F1 : 0.5565565565565564\n",
      "max_depth = 8 F1 : 0.5390625\n",
      "max_depth = 9 F1 : 0.5329400196656835\n",
      "max_depth = 10 F1 : 0.5158197507190796\n",
      "max_depth = 11 F1 : 0.5254582484725051\n",
      "max_depth = 12 F1 : 0.5077399380804953\n",
      "max_depth = 13 F1 : 0.5037674919268029\n",
      "max_depth = 14 F1 : 0.4949381327334083\n"
     ]
    }
   ],
   "source": [
    "for depth in range(1, 15):\n",
    "    model = DecisionTreeClassifier(random_state=12345, max_depth = depth, class_weight='balanced')\n",
    "    model.fit(features_upsampled, target_upsampled)\n",
    "    predictions_valid = model.predict(features_valid) \n",
    "    result = f1_score(target_valid, predictions_valid) \n",
    "    print('max_depth =', depth, 'F1 :', result)"
   ]
  },
  {
   "cell_type": "markdown",
   "id": "cf599a6f",
   "metadata": {},
   "source": [
    "Рассмотрим параметры модели"
   ]
  },
  {
   "cell_type": "code",
   "execution_count": 40,
   "id": "cbee9696",
   "metadata": {},
   "outputs": [
    {
     "name": "stdout",
     "output_type": "stream",
     "text": [
      "Полнота:  0.6842105263157895\n",
      "Точность: 0.3803191489361702\n",
      "F1-мера:  0.5963791267305644\n"
     ]
    }
   ],
   "source": [
    "model = DecisionTreeClassifier(random_state=12345, max_depth = 5, class_weight='balanced')\n",
    "model.fit(features_upsampled, target_upsampled) \n",
    "predictions_valid = model.predict(features_valid) \n",
    "result = f1_score(target_valid, predictions_valid) \n",
    "print('Полнота: ', recall_score(target_valid, predicted_valid))\n",
    "print('Точность:', precision_score(target_valid, predicted_valid))\n",
    "print('F1-мера: ', result)"
   ]
  },
  {
   "cell_type": "code",
   "execution_count": 41,
   "id": "548791b4",
   "metadata": {},
   "outputs": [
    {
     "name": "stdout",
     "output_type": "stream",
     "text": [
      "ROC-кривая: 0.8310244134068074\n"
     ]
    }
   ],
   "source": [
    "probabilities_valid = model.predict_proba(features_valid)\n",
    "probabilities_one_valid = probabilities_valid[:, 1]\n",
    "auc_roc = roc_auc_score(target_valid, probabilities_one_valid)\n",
    "print('ROC-кривая:',auc_roc)"
   ]
  },
  {
   "cell_type": "markdown",
   "id": "dbb2e5d3",
   "metadata": {
    "toc": true
   },
   "source": [
    "[К оглавлению](#Оглавление)"
   ]
  },
  {
   "cell_type": "markdown",
   "id": "ba4fa3b5",
   "metadata": {},
   "source": [
    "#### 5.1.2. RandomForestClassifier<a name=\"RandomForestClassifier\"></a>"
   ]
  },
  {
   "cell_type": "code",
   "execution_count": 42,
   "id": "82cbe5ef",
   "metadata": {},
   "outputs": [
    {
     "name": "stdout",
     "output_type": "stream",
     "text": [
      "RandomForestClassifier(class_weight='balanced', max_depth=10, n_estimators=66,\n",
      "                       random_state=12345)\n"
     ]
    }
   ],
   "source": [
    "best_model = None\n",
    "best_result = 0\n",
    "for depth in range(2, 18):\n",
    "    for est in range(1, 81):\n",
    "        model = RandomForestClassifier(random_state=12345, max_depth=depth, n_estimators=est, class_weight='balanced')\n",
    "        model.fit(features_upsampled, target_upsampled)\n",
    "        predicted_valid = model.predict(features_valid) \n",
    "        result = f1_score(target_valid, predicted_valid) \n",
    "        if result > best_result:\n",
    "            best_model = model \n",
    "            best_result = result \n",
    "print(best_model)"
   ]
  },
  {
   "cell_type": "markdown",
   "id": "9b5682b0",
   "metadata": {},
   "source": [
    "Рассмотрим параметры модели"
   ]
  },
  {
   "cell_type": "code",
   "execution_count": 43,
   "id": "d24f9ea5",
   "metadata": {},
   "outputs": [
    {
     "name": "stdout",
     "output_type": "stream",
     "text": [
      "Полнота:  0.5885167464114832\n",
      "Точность: 0.643979057591623\n",
      "F1-мера:  0.615\n"
     ]
    }
   ],
   "source": [
    "model = RandomForestClassifier(random_state=12345, max_depth=14, n_estimators=66, class_weight='balanced')\n",
    "model.fit(features_upsampled, target_upsampled)\n",
    "predicted_valid = model.predict(features_valid) \n",
    "result = f1_score(target_valid, predicted_valid)\n",
    "print('Полнота: ', recall_score(target_valid, predicted_valid))\n",
    "print('Точность:', precision_score(target_valid, predicted_valid))\n",
    "print('F1-мера: ', result)"
   ]
  },
  {
   "cell_type": "code",
   "execution_count": 44,
   "id": "aededf27",
   "metadata": {},
   "outputs": [
    {
     "name": "stdout",
     "output_type": "stream",
     "text": [
      "ROC-кривая: 0.8425377603300286\n"
     ]
    }
   ],
   "source": [
    "probabilities_valid = model.predict_proba(features_valid)\n",
    "probabilities_one_valid = probabilities_valid[:, 1]\n",
    "auc_roc = roc_auc_score(target_valid, probabilities_one_valid)\n",
    "print('ROC-кривая:',auc_roc)"
   ]
  },
  {
   "cell_type": "markdown",
   "id": "14878faf",
   "metadata": {
    "toc": true
   },
   "source": [
    "[К оглавлению](#Оглавление)"
   ]
  },
  {
   "cell_type": "markdown",
   "id": "b5306595",
   "metadata": {},
   "source": [
    "#### 5.1.3. LogisticRegression<a name=\"LogisticRegression\"></a>"
   ]
  },
  {
   "cell_type": "code",
   "execution_count": 45,
   "id": "2f65711a",
   "metadata": {},
   "outputs": [],
   "source": [
    "model = LogisticRegression(random_state=12345,solver='liblinear')\n",
    "model.fit(features_upsampled, target_upsampled)\n",
    "predicted_valid = model.predict(features_valid)\n",
    "score = model.score(features_valid, target_valid)"
   ]
  },
  {
   "cell_type": "markdown",
   "id": "114471f1",
   "metadata": {},
   "source": [
    "Рассмотрим параметры модели"
   ]
  },
  {
   "cell_type": "code",
   "execution_count": 46,
   "id": "a851cca1",
   "metadata": {},
   "outputs": [
    {
     "name": "stdout",
     "output_type": "stream",
     "text": [
      "Полнота:  0.6842105263157895\n",
      "Точность: 0.3803191489361702\n",
      "F1-мера:  0.4888888888888888\n"
     ]
    }
   ],
   "source": [
    "model = LogisticRegression(random_state=12345,solver='liblinear')\n",
    "model.fit(features_upsampled, target_upsampled)\n",
    "predicted_valid = model.predict(features_valid) \n",
    "result = f1_score(target_valid, predicted_valid)\n",
    "print('Полнота: ', recall_score(target_valid, predicted_valid))\n",
    "print('Точность:', precision_score(target_valid, predicted_valid))\n",
    "print('F1-мера: ', result)"
   ]
  },
  {
   "cell_type": "code",
   "execution_count": 47,
   "id": "e9ab92b3",
   "metadata": {},
   "outputs": [
    {
     "name": "stdout",
     "output_type": "stream",
     "text": [
      "ROC-кривая: 0.7634769748183815\n"
     ]
    }
   ],
   "source": [
    "probabilities_valid = model.predict_proba(features_valid)\n",
    "probabilities_one_valid = probabilities_valid[:, 1]\n",
    "auc_roc = roc_auc_score(target_valid, probabilities_one_valid)\n",
    "print('ROC-кривая:',auc_roc)"
   ]
  },
  {
   "cell_type": "markdown",
   "id": "556ad8d9",
   "metadata": {},
   "source": [
    "Вывод: Показаели всех моделей улучшились.\n",
    "\n",
    "Лучшая модель Случайный лес с параметрами: class_weight='balanced', max_depth=14, n_estimators=66, random_state=12345"
   ]
  },
  {
   "cell_type": "markdown",
   "id": "b072fb84",
   "metadata": {
    "toc": true
   },
   "source": [
    "[К оглавлению](#Оглавление)"
   ]
  },
  {
   "cell_type": "markdown",
   "id": "53fa5724",
   "metadata": {},
   "source": [
    "### 5.2. Балансировка классов с помощью уменьшения выборки (downsampling)<a name=\"downsampling\"></a>"
   ]
  },
  {
   "cell_type": "code",
   "execution_count": 48,
   "id": "a01b23b4",
   "metadata": {},
   "outputs": [],
   "source": [
    "def downsample(features, target, fraction):\n",
    "    features_zeros = features[target == 0]\n",
    "    features_ones = features[target == 1]\n",
    "    target_zeros = target[target == 0]\n",
    "    target_ones = target[target == 1]\n",
    "\n",
    "    features_downsampled = pd.concat(\n",
    "        [features_zeros.sample(frac=fraction, random_state=12345)] + [features_ones])\n",
    "    target_downsampled = pd.concat(\n",
    "        [target_zeros.sample(frac=fraction, random_state=12345)] + [target_ones])\n",
    "    \n",
    "    features_downsampled, target_downsampled = shuffle(\n",
    "        features_downsampled, target_downsampled, random_state=12345)\n",
    "    \n",
    "    return features_downsampled, target_downsampled\n",
    "features_downsampled, target_downsampled = downsample(features_train, target_train, 0.4)"
   ]
  },
  {
   "cell_type": "markdown",
   "id": "ea20373d",
   "metadata": {
    "toc": true
   },
   "source": [
    "[К оглавлению](#Оглавление)"
   ]
  },
  {
   "cell_type": "markdown",
   "id": "5adcbe51",
   "metadata": {},
   "source": [
    "#### 5.2.1. DecisionTreeClassifier<a name=\"DecisionTreeClassifier_\"></a>"
   ]
  },
  {
   "cell_type": "code",
   "execution_count": 49,
   "id": "1d1fdb88",
   "metadata": {},
   "outputs": [
    {
     "name": "stdout",
     "output_type": "stream",
     "text": [
      "max_depth = 1 F1 : 0.4994903160040775\n",
      "max_depth = 2 F1 : 0.541015625\n",
      "max_depth = 3 F1 : 0.558282208588957\n",
      "max_depth = 4 F1 : 0.5129770992366411\n",
      "max_depth = 5 F1 : 0.5542635658914729\n",
      "max_depth = 6 F1 : 0.5708542713567839\n",
      "max_depth = 7 F1 : 0.5666041275797373\n",
      "max_depth = 8 F1 : 0.5328330206378987\n",
      "max_depth = 9 F1 : 0.5307262569832403\n",
      "max_depth = 10 F1 : 0.5137777777777778\n",
      "max_depth = 11 F1 : 0.5063752276867031\n",
      "max_depth = 12 F1 : 0.5\n",
      "max_depth = 13 F1 : 0.49585253456221196\n",
      "max_depth = 14 F1 : 0.48366013071895425\n"
     ]
    }
   ],
   "source": [
    "for depth in range(1, 15):\n",
    "    model = DecisionTreeClassifier(random_state=12345, max_depth = depth, class_weight='balanced')\n",
    "    model.fit(features_downsampled, target_downsampled) \n",
    "    predictions_valid = model.predict(features_valid) \n",
    "    result = f1_score(target_valid, predictions_valid) \n",
    "    print('max_depth =', depth, 'F1 :', result)"
   ]
  },
  {
   "cell_type": "markdown",
   "id": "a4a291d8",
   "metadata": {},
   "source": [
    "Рассмотрим параметры модели"
   ]
  },
  {
   "cell_type": "code",
   "execution_count": 50,
   "id": "d68e4a3c",
   "metadata": {},
   "outputs": [
    {
     "name": "stdout",
     "output_type": "stream",
     "text": [
      "Полнота:  0.6842105263157895\n",
      "Точность: 0.3803191489361702\n",
      "F1-мера:  0.5708542713567839\n"
     ]
    }
   ],
   "source": [
    "model = DecisionTreeClassifier(random_state=12345, max_depth = 6, class_weight='balanced')\n",
    "model.fit(features_downsampled, target_downsampled) \n",
    "predictions_valid = model.predict(features_valid) \n",
    "result = f1_score(target_valid, predictions_valid) \n",
    "print('Полнота: ', recall_score(target_valid, predicted_valid))\n",
    "print('Точность:', precision_score(target_valid, predicted_valid))\n",
    "print('F1-мера: ', result)"
   ]
  },
  {
   "cell_type": "code",
   "execution_count": 51,
   "id": "6916e7e9",
   "metadata": {},
   "outputs": [
    {
     "name": "stdout",
     "output_type": "stream",
     "text": [
      "ROC-кривая: 0.8115605284329086\n"
     ]
    }
   ],
   "source": [
    "probabilities_valid = model.predict_proba(features_valid)\n",
    "probabilities_one_valid = probabilities_valid[:, 1]\n",
    "auc_roc = roc_auc_score(target_valid, probabilities_one_valid)\n",
    "print('ROC-кривая:',auc_roc)"
   ]
  },
  {
   "cell_type": "markdown",
   "id": "78aa3824",
   "metadata": {
    "toc": true
   },
   "source": [
    "[К оглавлению](#Оглавление)"
   ]
  },
  {
   "cell_type": "markdown",
   "id": "fe1e66db",
   "metadata": {},
   "source": [
    "#### 5.2.2. RandomForestClassifier<a name=\"RandomForestClassifier_\"></a>"
   ]
  },
  {
   "cell_type": "code",
   "execution_count": 52,
   "id": "5ceb7044",
   "metadata": {},
   "outputs": [
    {
     "name": "stdout",
     "output_type": "stream",
     "text": [
      "RandomForestClassifier(class_weight='balanced', max_depth=17, n_estimators=48,\n",
      "                       random_state=12345)\n"
     ]
    }
   ],
   "source": [
    "best_model = None\n",
    "best_result = 0\n",
    "for depth in range(2, 18):\n",
    "    for est in range(1, 81):\n",
    "        model = RandomForestClassifier(random_state=12345, max_depth=depth, n_estimators=est, class_weight='balanced')\n",
    "        model.fit(features_downsampled, target_downsampled)\n",
    "        predicted_valid = model.predict(features_valid) \n",
    "        result = f1_score(target_valid, predicted_valid) \n",
    "        if result > best_result:\n",
    "            best_model = model \n",
    "            best_result = result \n",
    "print(best_model)"
   ]
  },
  {
   "cell_type": "markdown",
   "id": "454a3069",
   "metadata": {},
   "source": [
    "Рассмотрим параметры модели"
   ]
  },
  {
   "cell_type": "code",
   "execution_count": 53,
   "id": "52d779ca",
   "metadata": {},
   "outputs": [
    {
     "name": "stdout",
     "output_type": "stream",
     "text": [
      "Полнота:  0.7272727272727273\n",
      "Точность: 0.5380530973451327\n",
      "F1-мера:  0.6185147507629706\n"
     ]
    }
   ],
   "source": [
    "model = RandomForestClassifier(random_state=12345, max_depth=6, n_estimators=30, class_weight='balanced')\n",
    "model.fit(features_downsampled, target_downsampled)\n",
    "predicted_valid = model.predict(features_valid) \n",
    "result = f1_score(target_valid, predicted_valid)\n",
    "print('Полнота: ', recall_score(target_valid, predicted_valid))\n",
    "print('Точность:', precision_score(target_valid, predicted_valid))\n",
    "print('F1-мера: ', result)"
   ]
  },
  {
   "cell_type": "code",
   "execution_count": 54,
   "id": "afe46df8",
   "metadata": {},
   "outputs": [
    {
     "name": "stdout",
     "output_type": "stream",
     "text": [
      "ROC-кривая: 0.8428855727411851\n"
     ]
    }
   ],
   "source": [
    "probabilities_valid = model.predict_proba(features_valid)\n",
    "probabilities_one_valid = probabilities_valid[:, 1]\n",
    "auc_roc = roc_auc_score(target_valid, probabilities_one_valid)\n",
    "print('ROC-кривая:',auc_roc)"
   ]
  },
  {
   "cell_type": "markdown",
   "id": "07ee12dd",
   "metadata": {
    "toc": true
   },
   "source": [
    "[К оглавлению](#Оглавление)"
   ]
  },
  {
   "cell_type": "markdown",
   "id": "29b890e4",
   "metadata": {},
   "source": [
    "#### 5.2.3. LogisticRegression<a name=\"LogisticRegression_\"></a>"
   ]
  },
  {
   "cell_type": "code",
   "execution_count": 55,
   "id": "f5ee5566",
   "metadata": {},
   "outputs": [],
   "source": [
    "model = LogisticRegression(random_state=12345, solver='liblinear')\n",
    "model.fit(features_downsampled, target_downsampled)\n",
    "predicted_valid = model.predict(features_valid)\n",
    "score = model.score(features_valid, target_valid)"
   ]
  },
  {
   "cell_type": "markdown",
   "id": "deed271e",
   "metadata": {},
   "source": [
    "Рассмотрим параметры модели"
   ]
  },
  {
   "cell_type": "code",
   "execution_count": 56,
   "id": "cd079a21",
   "metadata": {},
   "outputs": [
    {
     "name": "stdout",
     "output_type": "stream",
     "text": [
      "Полнота:  0.5574162679425837\n",
      "Точность: 0.4623015873015873\n",
      "F1-мера:  0.5054229934924078\n"
     ]
    }
   ],
   "source": [
    "model = LogisticRegression(random_state=12345,solver='liblinear')\n",
    "model.fit(features_downsampled, target_downsampled)\n",
    "predicted_valid = model.predict(features_valid) \n",
    "result = f1_score(target_valid, predicted_valid)\n",
    "print('Полнота: ', recall_score(target_valid, predicted_valid))\n",
    "print('Точность:', precision_score(target_valid, predicted_valid))\n",
    "print('F1-мера: ', result)"
   ]
  },
  {
   "cell_type": "code",
   "execution_count": 57,
   "id": "d3ef1b8f",
   "metadata": {},
   "outputs": [
    {
     "name": "stdout",
     "output_type": "stream",
     "text": [
      "ROC-кривая: 0.7629204749605308\n"
     ]
    }
   ],
   "source": [
    "probabilities_valid = model.predict_proba(features_valid)\n",
    "probabilities_one_valid = probabilities_valid[:, 1]\n",
    "auc_roc = roc_auc_score(target_valid, probabilities_one_valid)\n",
    "print('ROC-кривая:',auc_roc)"
   ]
  },
  {
   "cell_type": "markdown",
   "id": "cc9b143e",
   "metadata": {
    "toc": true
   },
   "source": [
    "[К оглавлению](#Оглавление)"
   ]
  },
  {
   "cell_type": "markdown",
   "id": "04a3b510",
   "metadata": {},
   "source": [
    "### 5.3. Вывод по балансировке <a name=\"Вывод_по\"></a>\n",
    "1) Решающее древо стало чуть хуже \n",
    "\n",
    "2) Случайный лес стал чуть лучше, но все еще ниже чем при upsampling\n",
    "\n",
    "3) Логистическая регрессия стала даже больше чем при upsampling, но все еще ниже случайного леса"
   ]
  },
  {
   "cell_type": "markdown",
   "id": "761f1198",
   "metadata": {},
   "source": [
    "Общий вывод по борьбе с дисбалансами: С учетом разлычных способов борьбы с дисбалансами самой эффективной показала себя модель Случайный лес с параметрами (class_weight='balanced', max_depth=14, n_estimators=66, random_state=12345), с балансировкой классов с помощью увеличения выборки."
   ]
  },
  {
   "cell_type": "markdown",
   "id": "d93699fd",
   "metadata": {
    "toc": true
   },
   "source": [
    "[К оглавлению](#Оглавление)"
   ]
  },
  {
   "cell_type": "markdown",
   "id": "18864e27",
   "metadata": {},
   "source": [
    "## 6. Тестирование модели<a name=\"Тестирование\"></a>"
   ]
  },
  {
   "cell_type": "markdown",
   "id": "086ce9c3",
   "metadata": {},
   "source": [
    "Рассмотрип параметры лучшей модели на тестовой выборке"
   ]
  },
  {
   "cell_type": "code",
   "execution_count": 58,
   "id": "24da0034",
   "metadata": {},
   "outputs": [
    {
     "name": "stdout",
     "output_type": "stream",
     "text": [
      "Аccuracy score: 0.8405\n",
      "Полнота:  0.5862884160756501\n",
      "Точность: 0.6326530612244898\n",
      "F1-мера:  0.6085889570552148\n"
     ]
    }
   ],
   "source": [
    "model = RandomForestClassifier(random_state=12345, max_depth=14, n_estimators=66, class_weight='balanced')\n",
    "model.fit(features_upsampled, target_upsampled)\n",
    "\n",
    "predicted_test = model.predict(features_test) \n",
    "result = f1_score(target_test, predicted_test)\n",
    "print('Аccuracy score:', accuracy_score(target_test, predicted_test))\n",
    "print('Полнота: ', recall_score(target_test, predicted_test))\n",
    "print('Точность:', precision_score(target_test, predicted_test))\n",
    "print('F1-мера: ', result)"
   ]
  },
  {
   "cell_type": "code",
   "execution_count": 59,
   "id": "3be7b9a7",
   "metadata": {},
   "outputs": [
    {
     "name": "stdout",
     "output_type": "stream",
     "text": [
      "ROC-кривая: 0.8464054051217935\n"
     ]
    }
   ],
   "source": [
    "probabilities_test = model.predict_proba(features_test)\n",
    "probabilities_one_test = probabilities_test[:, 1]\n",
    "auc_roc = roc_auc_score(target_test, probabilities_one_test)\n",
    "print('ROC-кривая:',auc_roc)"
   ]
  },
  {
   "cell_type": "markdown",
   "id": "fc9980cb",
   "metadata": {},
   "source": [
    "Создаем константную модель (все ответы негативные)"
   ]
  },
  {
   "cell_type": "code",
   "execution_count": 60,
   "id": "0318dbf0",
   "metadata": {},
   "outputs": [
    {
     "data": {
      "text/plain": [
       "0    2000\n",
       "dtype: int64"
      ]
     },
     "execution_count": 60,
     "metadata": {},
     "output_type": "execute_result"
    }
   ],
   "source": [
    "constant = pd.Series([0]*len(target_test))\n",
    "constant.value_counts()"
   ]
  },
  {
   "cell_type": "code",
   "execution_count": 61,
   "id": "aed24e65",
   "metadata": {},
   "outputs": [
    {
     "name": "stdout",
     "output_type": "stream",
     "text": [
      "Аccuracy score константой модели: 0.791\n",
      "ROC-кривая константой модели: 0.5\n"
     ]
    }
   ],
   "source": [
    "print('Аccuracy score константой модели:', accuracy_score(target_valid, constant))\n",
    "print('ROC-кривая константой модели:', roc_auc_score(target_valid, constant))"
   ]
  },
  {
   "cell_type": "code",
   "execution_count": 62,
   "id": "e66b634d",
   "metadata": {},
   "outputs": [
    {
     "data": {
      "image/png": "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\n",
      "text/plain": [
       "<Figure size 2000x1000 with 1 Axes>"
      ]
     },
     "metadata": {},
     "output_type": "display_data"
    }
   ],
   "source": [
    "fpr, tpr, thresholds = roc_curve(target_valid, probabilities_one_valid)\n",
    "\n",
    "plt.figure(figsize=(20,10))\n",
    "plt.plot(fpr, tpr)\n",
    "\n",
    "plt.plot([0, 1], [0, 1], linestyle='--')\n",
    "plt.xlim([0.0,1.0])\n",
    "plt.ylim([0.0,1.0])\n",
    "plt.grid()\n",
    "plt.xlabel(\"False Positive Rate\")\n",
    "plt.ylabel(\"True Positive Rate\")\n",
    "plt.title(\"ROC-кривая\")\n",
    "plt.show()"
   ]
  },
  {
   "cell_type": "markdown",
   "id": "1c553906",
   "metadata": {
    "toc": true
   },
   "source": [
    "[К оглавлению](#Оглавление)"
   ]
  },
  {
   "cell_type": "markdown",
   "id": "81cd6b0b",
   "metadata": {},
   "source": [
    "## 7. Итоговый вывод <a name=\"Итоговый\"></a>"
   ]
  },
  {
   "cell_type": "markdown",
   "id": "e2e6ae1b",
   "metadata": {},
   "source": [
    "В первоначальные данных наблюдался значительный дисбаланс (80% ответов целевого признака были негативными и только 20% позитивными), из-за чего обученная на этих данных модель не проходила проверку на адекватность. Все модели не первоначальных данных характеризовались высокой степенью ошибок и низким качеством взвешенной величины (F1) — модели показывали низкие результаты точности и полноты.\n",
    "\n",
    "Мы устранили дисбаланс классов в обучающей выборки методом upsampling — увеличили количество значений позитивного класса в 4 раза. Так мы достигли баланса классов в обучеющей выборки.\n",
    "\n",
    "Разобрали несколько вариантов борьбы с дисбалансом class_weight='balanced', upsampling и downsampling.\n",
    "\n",
    "На новых данных все модели показали результат выше, чем на несбалансированной выборке. Лучшие показатели были у модели случайного леса:\n",
    "\n",
    "Полнота:  0.5862884160756501\n",
    "\n",
    "Точность: 0.6326530612244898\n",
    "\n",
    "F1-мера:  0.6085889570552148\n",
    "\n",
    "ROC-кривая: 0.8464054051217935\n",
    "\n",
    "Финальная модель прошла проверку на адекватность в сравнении с контантной моделью: \n",
    "\n",
    "accuracy_score константой модели: 0.791\n",
    "\n",
    "accuracy_score финальной модели: 0.8405\n",
    "\n",
    "ROC-кривая константой модели: 0.5\n",
    "\n",
    "ROC-кривая финальной модели: 0.8464054051217935"
   ]
  }
 ],
 "metadata": {
  "kernelspec": {
   "display_name": "Python 3 (ipykernel)",
   "language": "python",
   "name": "python3"
  },
  "language_info": {
   "codemirror_mode": {
    "name": "ipython",
    "version": 3
   },
   "file_extension": ".py",
   "mimetype": "text/x-python",
   "name": "python",
   "nbconvert_exporter": "python",
   "pygments_lexer": "ipython3",
   "version": "3.9.13"
  }
 },
 "nbformat": 4,
 "nbformat_minor": 5
}
