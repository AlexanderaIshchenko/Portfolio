{
 "cells": [
  {
   "cell_type": "markdown",
   "id": "715c8fde",
   "metadata": {},
   "source": [
    "# Выбор локации для скважины"
   ]
  },
  {
   "cell_type": "markdown",
   "id": "432f8e58",
   "metadata": {},
   "source": [
    "Допустим, вы работаете в добывающей компании «ГлавРосГосНефть». Нужно решить, где бурить новую скважину.\n",
    "\n",
    "Вам предоставлены пробы нефти в трёх регионах: в каждом 10 000 месторождений, где измерили качество нефти и объём её запасов. Постройте модель машинного обучения, которая поможет определить регион, где добыча принесёт наибольшую прибыль. Проанализируйте возможную прибыль и риски техникой *Bootstrap.*\n",
    "\n",
    "Шаги для выбора локации:\n",
    "\n",
    "- В избранном регионе ищут месторождения, для каждого определяют значения признаков;\n",
    "- Строят модель и оценивают объём запасов;\n",
    "- Выбирают месторождения с самым высокими оценками значений. Количество месторождений зависит от бюджета компании и стоимости разработки одной скважины;\n",
    "- Прибыль равна суммарной прибыли отобранных месторождений."
   ]
  },
  {
   "cell_type": "markdown",
   "id": "409ae2e9",
   "metadata": {},
   "source": [
    "# Оглавление<a name=\"Оглавление\"></a>"
   ]
  },
  {
   "cell_type": "markdown",
   "id": "caf2267e",
   "metadata": {},
   "source": [
    "- 1. [Загрузка и подготовка данных](#Загрузка)\n",
    "  - 1.1. [Первый регион](#Первый)\n",
    "  - 1.2. [Второй регион](#Второй)\n",
    "  - 1.3. [Третий регион](#Третий)\n",
    "  - 1.4. [Вывод по подготовке](#Вывод_подготовке)\n",
    "- 2. [Обучение и проверка модели](#Обучение)\n",
    "  - 2.1. [Первый регион](#Первый_регион)\n",
    "    - 2.1.1. [Вывод по первому региону](#первому)\n",
    "  - 2.2. [Второй регион](#Второй_регион)\n",
    "    - 2.2.1. [Вывод по первому региону](#второму)\n",
    "  - 2.3. [Третий регион](#Третий_регион)\n",
    "    - 2.3.1. [Вывод по первому региону](#третьему)\n",
    "  - 2.4. [Общий вывод по обучению и проверке моделей](#Общий_вывод)\n",
    "- 3. [Подготовка к расчёту прибыли](#Подготовка)\n",
    "  - 3.1. [Вывод по убыточности](#Вывод_убыточности)\n",
    "- 4. [Расчёт прибыли и рисков](#Расчёт)\n",
    "  - 4.1. [Расчёт прибыли](#прибыли)\n",
    "    - 4.1.1 [Первый регион](#первый)\n",
    "    - 4.1.2 [Второй регион](#второй)\n",
    "    - 4.1.3 [Третий регион](#третий)\n",
    "    - 4.1.4. [Вывод по прибыли](#Вывод_прибыли)\n",
    "  - 4.2. [Расчёт рисков](#рисков)\n",
    "- 5. [Итоговый вывод](#Итоговый_вывод)"
   ]
  },
  {
   "cell_type": "markdown",
   "id": "6ab37b88",
   "metadata": {},
   "source": [
    "## 1. Загрузка и подготовка данных<a name=\"Загрузка\"></a>"
   ]
  },
  {
   "cell_type": "code",
   "execution_count": 1,
   "id": "26e9fb44",
   "metadata": {},
   "outputs": [],
   "source": [
    "import pandas as pd\n",
    "import numpy as np\n",
    "\n",
    "from sklearn.linear_model import LinearRegression\n",
    "\n",
    "from sklearn.model_selection import train_test_split\n",
    "from sklearn.metrics import mean_squared_error\n",
    "\n",
    "import matplotlib.pyplot as plt\n",
    "import seaborn as sns"
   ]
  },
  {
   "cell_type": "code",
   "execution_count": 2,
   "id": "bc89d8f0",
   "metadata": {},
   "outputs": [],
   "source": [
    "try:\n",
    "    first_region = pd.read_csv('/datasets/geo_data_0.csv')\n",
    "except:\n",
    "    first_region = pd.read_csv('./datasets/geo_data_0.csv')"
   ]
  },
  {
   "cell_type": "code",
   "execution_count": 3,
   "id": "c89f7735",
   "metadata": {},
   "outputs": [],
   "source": [
    "try:\n",
    "    second_region = pd.read_csv('/datasets/geo_data_1.csv')\n",
    "except:\n",
    "    second_region = pd.read_csv('./datasets/geo_data_1.csv')"
   ]
  },
  {
   "cell_type": "code",
   "execution_count": 4,
   "id": "1cebdc7b",
   "metadata": {},
   "outputs": [],
   "source": [
    "try:\n",
    "    third_region = pd.read_csv('/datasets/geo_data_2.csv')\n",
    "except:\n",
    "    third_region = pd.read_csv('./datasets/geo_data_2.csv')"
   ]
  },
  {
   "cell_type": "markdown",
   "id": "63e290fa",
   "metadata": {},
   "source": [
    "### 1.1. Первый регион<a name=\"Первый\"></a>"
   ]
  },
  {
   "cell_type": "code",
   "execution_count": 5,
   "id": "33d5159c",
   "metadata": {},
   "outputs": [
    {
     "data": {
      "text/html": [
       "<div>\n",
       "<style scoped>\n",
       "    .dataframe tbody tr th:only-of-type {\n",
       "        vertical-align: middle;\n",
       "    }\n",
       "\n",
       "    .dataframe tbody tr th {\n",
       "        vertical-align: top;\n",
       "    }\n",
       "\n",
       "    .dataframe thead th {\n",
       "        text-align: right;\n",
       "    }\n",
       "</style>\n",
       "<table border=\"1\" class=\"dataframe\">\n",
       "  <thead>\n",
       "    <tr style=\"text-align: right;\">\n",
       "      <th></th>\n",
       "      <th>id</th>\n",
       "      <th>f0</th>\n",
       "      <th>f1</th>\n",
       "      <th>f2</th>\n",
       "      <th>product</th>\n",
       "    </tr>\n",
       "  </thead>\n",
       "  <tbody>\n",
       "    <tr>\n",
       "      <th>0</th>\n",
       "      <td>txEyH</td>\n",
       "      <td>0.705745</td>\n",
       "      <td>-0.497823</td>\n",
       "      <td>1.221170</td>\n",
       "      <td>105.280062</td>\n",
       "    </tr>\n",
       "    <tr>\n",
       "      <th>1</th>\n",
       "      <td>2acmU</td>\n",
       "      <td>1.334711</td>\n",
       "      <td>-0.340164</td>\n",
       "      <td>4.365080</td>\n",
       "      <td>73.037750</td>\n",
       "    </tr>\n",
       "    <tr>\n",
       "      <th>2</th>\n",
       "      <td>409Wp</td>\n",
       "      <td>1.022732</td>\n",
       "      <td>0.151990</td>\n",
       "      <td>1.419926</td>\n",
       "      <td>85.265647</td>\n",
       "    </tr>\n",
       "    <tr>\n",
       "      <th>3</th>\n",
       "      <td>iJLyR</td>\n",
       "      <td>-0.032172</td>\n",
       "      <td>0.139033</td>\n",
       "      <td>2.978566</td>\n",
       "      <td>168.620776</td>\n",
       "    </tr>\n",
       "    <tr>\n",
       "      <th>4</th>\n",
       "      <td>Xdl7t</td>\n",
       "      <td>1.988431</td>\n",
       "      <td>0.155413</td>\n",
       "      <td>4.751769</td>\n",
       "      <td>154.036647</td>\n",
       "    </tr>\n",
       "  </tbody>\n",
       "</table>\n",
       "</div>"
      ],
      "text/plain": [
       "      id        f0        f1        f2     product\n",
       "0  txEyH  0.705745 -0.497823  1.221170  105.280062\n",
       "1  2acmU  1.334711 -0.340164  4.365080   73.037750\n",
       "2  409Wp  1.022732  0.151990  1.419926   85.265647\n",
       "3  iJLyR -0.032172  0.139033  2.978566  168.620776\n",
       "4  Xdl7t  1.988431  0.155413  4.751769  154.036647"
      ]
     },
     "execution_count": 5,
     "metadata": {},
     "output_type": "execute_result"
    }
   ],
   "source": [
    "first_region.head(5)"
   ]
  },
  {
   "cell_type": "code",
   "execution_count": 6,
   "id": "96f4ab6e",
   "metadata": {},
   "outputs": [
    {
     "name": "stdout",
     "output_type": "stream",
     "text": [
      "<class 'pandas.core.frame.DataFrame'>\n",
      "RangeIndex: 100000 entries, 0 to 99999\n",
      "Data columns (total 5 columns):\n",
      " #   Column   Non-Null Count   Dtype  \n",
      "---  ------   --------------   -----  \n",
      " 0   id       100000 non-null  object \n",
      " 1   f0       100000 non-null  float64\n",
      " 2   f1       100000 non-null  float64\n",
      " 3   f2       100000 non-null  float64\n",
      " 4   product  100000 non-null  float64\n",
      "dtypes: float64(4), object(1)\n",
      "memory usage: 3.8+ MB\n"
     ]
    },
    {
     "data": {
      "text/html": [
       "<div>\n",
       "<style scoped>\n",
       "    .dataframe tbody tr th:only-of-type {\n",
       "        vertical-align: middle;\n",
       "    }\n",
       "\n",
       "    .dataframe tbody tr th {\n",
       "        vertical-align: top;\n",
       "    }\n",
       "\n",
       "    .dataframe thead th {\n",
       "        text-align: right;\n",
       "    }\n",
       "</style>\n",
       "<table border=\"1\" class=\"dataframe\">\n",
       "  <thead>\n",
       "    <tr style=\"text-align: right;\">\n",
       "      <th></th>\n",
       "      <th>f0</th>\n",
       "      <th>f1</th>\n",
       "      <th>f2</th>\n",
       "      <th>product</th>\n",
       "    </tr>\n",
       "  </thead>\n",
       "  <tbody>\n",
       "    <tr>\n",
       "      <th>count</th>\n",
       "      <td>100000.000000</td>\n",
       "      <td>100000.000000</td>\n",
       "      <td>100000.000000</td>\n",
       "      <td>100000.000000</td>\n",
       "    </tr>\n",
       "    <tr>\n",
       "      <th>mean</th>\n",
       "      <td>0.500419</td>\n",
       "      <td>0.250143</td>\n",
       "      <td>2.502647</td>\n",
       "      <td>92.500000</td>\n",
       "    </tr>\n",
       "    <tr>\n",
       "      <th>std</th>\n",
       "      <td>0.871832</td>\n",
       "      <td>0.504433</td>\n",
       "      <td>3.248248</td>\n",
       "      <td>44.288691</td>\n",
       "    </tr>\n",
       "    <tr>\n",
       "      <th>min</th>\n",
       "      <td>-1.408605</td>\n",
       "      <td>-0.848218</td>\n",
       "      <td>-12.088328</td>\n",
       "      <td>0.000000</td>\n",
       "    </tr>\n",
       "    <tr>\n",
       "      <th>25%</th>\n",
       "      <td>-0.072580</td>\n",
       "      <td>-0.200881</td>\n",
       "      <td>0.287748</td>\n",
       "      <td>56.497507</td>\n",
       "    </tr>\n",
       "    <tr>\n",
       "      <th>50%</th>\n",
       "      <td>0.502360</td>\n",
       "      <td>0.250252</td>\n",
       "      <td>2.515969</td>\n",
       "      <td>91.849972</td>\n",
       "    </tr>\n",
       "    <tr>\n",
       "      <th>75%</th>\n",
       "      <td>1.073581</td>\n",
       "      <td>0.700646</td>\n",
       "      <td>4.715088</td>\n",
       "      <td>128.564089</td>\n",
       "    </tr>\n",
       "    <tr>\n",
       "      <th>max</th>\n",
       "      <td>2.362331</td>\n",
       "      <td>1.343769</td>\n",
       "      <td>16.003790</td>\n",
       "      <td>185.364347</td>\n",
       "    </tr>\n",
       "  </tbody>\n",
       "</table>\n",
       "</div>"
      ],
      "text/plain": [
       "                  f0             f1             f2        product\n",
       "count  100000.000000  100000.000000  100000.000000  100000.000000\n",
       "mean        0.500419       0.250143       2.502647      92.500000\n",
       "std         0.871832       0.504433       3.248248      44.288691\n",
       "min        -1.408605      -0.848218     -12.088328       0.000000\n",
       "25%        -0.072580      -0.200881       0.287748      56.497507\n",
       "50%         0.502360       0.250252       2.515969      91.849972\n",
       "75%         1.073581       0.700646       4.715088     128.564089\n",
       "max         2.362331       1.343769      16.003790     185.364347"
      ]
     },
     "execution_count": 6,
     "metadata": {},
     "output_type": "execute_result"
    }
   ],
   "source": [
    "first_region.info()\n",
    "first_region.describe()"
   ]
  },
  {
   "cell_type": "code",
   "execution_count": 7,
   "id": "5a0dfdee",
   "metadata": {},
   "outputs": [
    {
     "data": {
      "image/png": "[encoded data removed]",
      "text/plain": [
       "<Figure size 640x480 with 4 Axes>"
      ]
     },
     "metadata": {},
     "output_type": "display_data"
    }
   ],
   "source": [
    "first_region.hist();"
   ]
  },
  {
   "cell_type": "code",
   "execution_count": 8,
   "id": "bfc954b5",
   "metadata": {},
   "outputs": [
    {
     "data": {
      "text/plain": [
       "0"
      ]
     },
     "execution_count": 8,
     "metadata": {},
     "output_type": "execute_result"
    }
   ],
   "source": [
    "first_region.duplicated().sum()"
   ]
  },
  {
   "cell_type": "markdown",
   "id": "5db65f49",
   "metadata": {},
   "source": [
    "[К оглавлению](#Оглавление)"
   ]
  },
  {
   "cell_type": "markdown",
   "id": "a314cae9",
   "metadata": {},
   "source": [
    "### 1.2. Второй регион<a name=\"Второй\"></a>"
   ]
  },
  {
   "cell_type": "code",
   "execution_count": 9,
   "id": "67690ebd",
   "metadata": {},
   "outputs": [
    {
     "data": {
      "text/html": [
       "<div>\n",
       "<style scoped>\n",
       "    .dataframe tbody tr th:only-of-type {\n",
       "        vertical-align: middle;\n",
       "    }\n",
       "\n",
       "    .dataframe tbody tr th {\n",
       "        vertical-align: top;\n",
       "    }\n",
       "\n",
       "    .dataframe thead th {\n",
       "        text-align: right;\n",
       "    }\n",
       "</style>\n",
       "<table border=\"1\" class=\"dataframe\">\n",
       "  <thead>\n",
       "    <tr style=\"text-align: right;\">\n",
       "      <th></th>\n",
       "      <th>id</th>\n",
       "      <th>f0</th>\n",
       "      <th>f1</th>\n",
       "      <th>f2</th>\n",
       "      <th>product</th>\n",
       "    </tr>\n",
       "  </thead>\n",
       "  <tbody>\n",
       "    <tr>\n",
       "      <th>0</th>\n",
       "      <td>kBEdx</td>\n",
       "      <td>-15.001348</td>\n",
       "      <td>-8.276000</td>\n",
       "      <td>-0.005876</td>\n",
       "      <td>3.179103</td>\n",
       "    </tr>\n",
       "    <tr>\n",
       "      <th>1</th>\n",
       "      <td>62mP7</td>\n",
       "      <td>14.272088</td>\n",
       "      <td>-3.475083</td>\n",
       "      <td>0.999183</td>\n",
       "      <td>26.953261</td>\n",
       "    </tr>\n",
       "    <tr>\n",
       "      <th>2</th>\n",
       "      <td>vyE1P</td>\n",
       "      <td>6.263187</td>\n",
       "      <td>-5.948386</td>\n",
       "      <td>5.001160</td>\n",
       "      <td>134.766305</td>\n",
       "    </tr>\n",
       "    <tr>\n",
       "      <th>3</th>\n",
       "      <td>KcrkZ</td>\n",
       "      <td>-13.081196</td>\n",
       "      <td>-11.506057</td>\n",
       "      <td>4.999415</td>\n",
       "      <td>137.945408</td>\n",
       "    </tr>\n",
       "    <tr>\n",
       "      <th>4</th>\n",
       "      <td>AHL4O</td>\n",
       "      <td>12.702195</td>\n",
       "      <td>-8.147433</td>\n",
       "      <td>5.004363</td>\n",
       "      <td>134.766305</td>\n",
       "    </tr>\n",
       "  </tbody>\n",
       "</table>\n",
       "</div>"
      ],
      "text/plain": [
       "      id         f0         f1        f2     product\n",
       "0  kBEdx -15.001348  -8.276000 -0.005876    3.179103\n",
       "1  62mP7  14.272088  -3.475083  0.999183   26.953261\n",
       "2  vyE1P   6.263187  -5.948386  5.001160  134.766305\n",
       "3  KcrkZ -13.081196 -11.506057  4.999415  137.945408\n",
       "4  AHL4O  12.702195  -8.147433  5.004363  134.766305"
      ]
     },
     "execution_count": 9,
     "metadata": {},
     "output_type": "execute_result"
    }
   ],
   "source": [
    "second_region.head(5)"
   ]
  },
  {
   "cell_type": "code",
   "execution_count": 10,
   "id": "569043ba",
   "metadata": {},
   "outputs": [
    {
     "name": "stdout",
     "output_type": "stream",
     "text": [
      "<class 'pandas.core.frame.DataFrame'>\n",
      "RangeIndex: 100000 entries, 0 to 99999\n",
      "Data columns (total 5 columns):\n",
      " #   Column   Non-Null Count   Dtype  \n",
      "---  ------   --------------   -----  \n",
      " 0   id       100000 non-null  object \n",
      " 1   f0       100000 non-null  float64\n",
      " 2   f1       100000 non-null  float64\n",
      " 3   f2       100000 non-null  float64\n",
      " 4   product  100000 non-null  float64\n",
      "dtypes: float64(4), object(1)\n",
      "memory usage: 3.8+ MB\n"
     ]
    },
    {
     "data": {
      "text/html": [
       "<div>\n",
       "<style scoped>\n",
       "    .dataframe tbody tr th:only-of-type {\n",
       "        vertical-align: middle;\n",
       "    }\n",
       "\n",
       "    .dataframe tbody tr th {\n",
       "        vertical-align: top;\n",
       "    }\n",
       "\n",
       "    .dataframe thead th {\n",
       "        text-align: right;\n",
       "    }\n",
       "</style>\n",
       "<table border=\"1\" class=\"dataframe\">\n",
       "  <thead>\n",
       "    <tr style=\"text-align: right;\">\n",
       "      <th></th>\n",
       "      <th>f0</th>\n",
       "      <th>f1</th>\n",
       "      <th>f2</th>\n",
       "      <th>product</th>\n",
       "    </tr>\n",
       "  </thead>\n",
       "  <tbody>\n",
       "    <tr>\n",
       "      <th>count</th>\n",
       "      <td>100000.000000</td>\n",
       "      <td>100000.000000</td>\n",
       "      <td>100000.000000</td>\n",
       "      <td>100000.000000</td>\n",
       "    </tr>\n",
       "    <tr>\n",
       "      <th>mean</th>\n",
       "      <td>1.141296</td>\n",
       "      <td>-4.796579</td>\n",
       "      <td>2.494541</td>\n",
       "      <td>68.825000</td>\n",
       "    </tr>\n",
       "    <tr>\n",
       "      <th>std</th>\n",
       "      <td>8.965932</td>\n",
       "      <td>5.119872</td>\n",
       "      <td>1.703572</td>\n",
       "      <td>45.944423</td>\n",
       "    </tr>\n",
       "    <tr>\n",
       "      <th>min</th>\n",
       "      <td>-31.609576</td>\n",
       "      <td>-26.358598</td>\n",
       "      <td>-0.018144</td>\n",
       "      <td>0.000000</td>\n",
       "    </tr>\n",
       "    <tr>\n",
       "      <th>25%</th>\n",
       "      <td>-6.298551</td>\n",
       "      <td>-8.267985</td>\n",
       "      <td>1.000021</td>\n",
       "      <td>26.953261</td>\n",
       "    </tr>\n",
       "    <tr>\n",
       "      <th>50%</th>\n",
       "      <td>1.153055</td>\n",
       "      <td>-4.813172</td>\n",
       "      <td>2.011479</td>\n",
       "      <td>57.085625</td>\n",
       "    </tr>\n",
       "    <tr>\n",
       "      <th>75%</th>\n",
       "      <td>8.621015</td>\n",
       "      <td>-1.332816</td>\n",
       "      <td>3.999904</td>\n",
       "      <td>107.813044</td>\n",
       "    </tr>\n",
       "    <tr>\n",
       "      <th>max</th>\n",
       "      <td>29.421755</td>\n",
       "      <td>18.734063</td>\n",
       "      <td>5.019721</td>\n",
       "      <td>137.945408</td>\n",
       "    </tr>\n",
       "  </tbody>\n",
       "</table>\n",
       "</div>"
      ],
      "text/plain": [
       "                  f0             f1             f2        product\n",
       "count  100000.000000  100000.000000  100000.000000  100000.000000\n",
       "mean        1.141296      -4.796579       2.494541      68.825000\n",
       "std         8.965932       5.119872       1.703572      45.944423\n",
       "min       -31.609576     -26.358598      -0.018144       0.000000\n",
       "25%        -6.298551      -8.267985       1.000021      26.953261\n",
       "50%         1.153055      -4.813172       2.011479      57.085625\n",
       "75%         8.621015      -1.332816       3.999904     107.813044\n",
       "max        29.421755      18.734063       5.019721     137.945408"
      ]
     },
     "execution_count": 10,
     "metadata": {},
     "output_type": "execute_result"
    }
   ],
   "source": [
    "second_region.info()\n",
    "second_region.describe()"
   ]
  },
  {
   "cell_type": "code",
   "execution_count": 11,
   "id": "fea1eaa5",
   "metadata": {},
   "outputs": [
    {
     "data": {
      "image/png": "[encoded data removed]",
      "text/plain": [
       "<Figure size 640x480 with 4 Axes>"
      ]
     },
     "metadata": {},
     "output_type": "display_data"
    }
   ],
   "source": [
    "second_region.hist();"
   ]
  },
  {
   "cell_type": "code",
   "execution_count": 12,
   "id": "b3db7a39",
   "metadata": {},
   "outputs": [
    {
     "data": {
      "text/plain": [
       "0"
      ]
     },
     "execution_count": 12,
     "metadata": {},
     "output_type": "execute_result"
    }
   ],
   "source": [
    "second_region.duplicated().sum()"
   ]
  },
  {
   "cell_type": "markdown",
   "id": "c8c80d17",
   "metadata": {},
   "source": [
    "[К оглавлению](#Оглавление)"
   ]
  },
  {
   "cell_type": "markdown",
   "id": "ae734860",
   "metadata": {},
   "source": [
    "### 1.3. Третий регион<a name=\"Третий\"></a>"
   ]
  },
  {
   "cell_type": "code",
   "execution_count": 13,
   "id": "89f2eee7",
   "metadata": {},
   "outputs": [
    {
     "data": {
      "text/html": [
       "<div>\n",
       "<style scoped>\n",
       "    .dataframe tbody tr th:only-of-type {\n",
       "        vertical-align: middle;\n",
       "    }\n",
       "\n",
       "    .dataframe tbody tr th {\n",
       "        vertical-align: top;\n",
       "    }\n",
       "\n",
       "    .dataframe thead th {\n",
       "        text-align: right;\n",
       "    }\n",
       "</style>\n",
       "<table border=\"1\" class=\"dataframe\">\n",
       "  <thead>\n",
       "    <tr style=\"text-align: right;\">\n",
       "      <th></th>\n",
       "      <th>id</th>\n",
       "      <th>f0</th>\n",
       "      <th>f1</th>\n",
       "      <th>f2</th>\n",
       "      <th>product</th>\n",
       "    </tr>\n",
       "  </thead>\n",
       "  <tbody>\n",
       "    <tr>\n",
       "      <th>0</th>\n",
       "      <td>fwXo0</td>\n",
       "      <td>-1.146987</td>\n",
       "      <td>0.963328</td>\n",
       "      <td>-0.828965</td>\n",
       "      <td>27.758673</td>\n",
       "    </tr>\n",
       "    <tr>\n",
       "      <th>1</th>\n",
       "      <td>WJtFt</td>\n",
       "      <td>0.262778</td>\n",
       "      <td>0.269839</td>\n",
       "      <td>-2.530187</td>\n",
       "      <td>56.069697</td>\n",
       "    </tr>\n",
       "    <tr>\n",
       "      <th>2</th>\n",
       "      <td>ovLUW</td>\n",
       "      <td>0.194587</td>\n",
       "      <td>0.289035</td>\n",
       "      <td>-5.586433</td>\n",
       "      <td>62.871910</td>\n",
       "    </tr>\n",
       "    <tr>\n",
       "      <th>3</th>\n",
       "      <td>q6cA6</td>\n",
       "      <td>2.236060</td>\n",
       "      <td>-0.553760</td>\n",
       "      <td>0.930038</td>\n",
       "      <td>114.572842</td>\n",
       "    </tr>\n",
       "    <tr>\n",
       "      <th>4</th>\n",
       "      <td>WPMUX</td>\n",
       "      <td>-0.515993</td>\n",
       "      <td>1.716266</td>\n",
       "      <td>5.899011</td>\n",
       "      <td>149.600746</td>\n",
       "    </tr>\n",
       "  </tbody>\n",
       "</table>\n",
       "</div>"
      ],
      "text/plain": [
       "      id        f0        f1        f2     product\n",
       "0  fwXo0 -1.146987  0.963328 -0.828965   27.758673\n",
       "1  WJtFt  0.262778  0.269839 -2.530187   56.069697\n",
       "2  ovLUW  0.194587  0.289035 -5.586433   62.871910\n",
       "3  q6cA6  2.236060 -0.553760  0.930038  114.572842\n",
       "4  WPMUX -0.515993  1.716266  5.899011  149.600746"
      ]
     },
     "execution_count": 13,
     "metadata": {},
     "output_type": "execute_result"
    }
   ],
   "source": [
    "third_region.head(5)"
   ]
  },
  {
   "cell_type": "code",
   "execution_count": 14,
   "id": "d78bbbfc",
   "metadata": {},
   "outputs": [
    {
     "name": "stdout",
     "output_type": "stream",
     "text": [
      "<class 'pandas.core.frame.DataFrame'>\n",
      "RangeIndex: 100000 entries, 0 to 99999\n",
      "Data columns (total 5 columns):\n",
      " #   Column   Non-Null Count   Dtype  \n",
      "---  ------   --------------   -----  \n",
      " 0   id       100000 non-null  object \n",
      " 1   f0       100000 non-null  float64\n",
      " 2   f1       100000 non-null  float64\n",
      " 3   f2       100000 non-null  float64\n",
      " 4   product  100000 non-null  float64\n",
      "dtypes: float64(4), object(1)\n",
      "memory usage: 3.8+ MB\n"
     ]
    },
    {
     "data": {
      "text/html": [
       "<div>\n",
       "<style scoped>\n",
       "    .dataframe tbody tr th:only-of-type {\n",
       "        vertical-align: middle;\n",
       "    }\n",
       "\n",
       "    .dataframe tbody tr th {\n",
       "        vertical-align: top;\n",
       "    }\n",
       "\n",
       "    .dataframe thead th {\n",
       "        text-align: right;\n",
       "    }\n",
       "</style>\n",
       "<table border=\"1\" class=\"dataframe\">\n",
       "  <thead>\n",
       "    <tr style=\"text-align: right;\">\n",
       "      <th></th>\n",
       "      <th>f0</th>\n",
       "      <th>f1</th>\n",
       "      <th>f2</th>\n",
       "      <th>product</th>\n",
       "    </tr>\n",
       "  </thead>\n",
       "  <tbody>\n",
       "    <tr>\n",
       "      <th>count</th>\n",
       "      <td>100000.000000</td>\n",
       "      <td>100000.000000</td>\n",
       "      <td>100000.000000</td>\n",
       "      <td>100000.000000</td>\n",
       "    </tr>\n",
       "    <tr>\n",
       "      <th>mean</th>\n",
       "      <td>0.002023</td>\n",
       "      <td>-0.002081</td>\n",
       "      <td>2.495128</td>\n",
       "      <td>95.000000</td>\n",
       "    </tr>\n",
       "    <tr>\n",
       "      <th>std</th>\n",
       "      <td>1.732045</td>\n",
       "      <td>1.730417</td>\n",
       "      <td>3.473445</td>\n",
       "      <td>44.749921</td>\n",
       "    </tr>\n",
       "    <tr>\n",
       "      <th>min</th>\n",
       "      <td>-8.760004</td>\n",
       "      <td>-7.084020</td>\n",
       "      <td>-11.970335</td>\n",
       "      <td>0.000000</td>\n",
       "    </tr>\n",
       "    <tr>\n",
       "      <th>25%</th>\n",
       "      <td>-1.162288</td>\n",
       "      <td>-1.174820</td>\n",
       "      <td>0.130359</td>\n",
       "      <td>59.450441</td>\n",
       "    </tr>\n",
       "    <tr>\n",
       "      <th>50%</th>\n",
       "      <td>0.009424</td>\n",
       "      <td>-0.009482</td>\n",
       "      <td>2.484236</td>\n",
       "      <td>94.925613</td>\n",
       "    </tr>\n",
       "    <tr>\n",
       "      <th>75%</th>\n",
       "      <td>1.158535</td>\n",
       "      <td>1.163678</td>\n",
       "      <td>4.858794</td>\n",
       "      <td>130.595027</td>\n",
       "    </tr>\n",
       "    <tr>\n",
       "      <th>max</th>\n",
       "      <td>7.238262</td>\n",
       "      <td>7.844801</td>\n",
       "      <td>16.739402</td>\n",
       "      <td>190.029838</td>\n",
       "    </tr>\n",
       "  </tbody>\n",
       "</table>\n",
       "</div>"
      ],
      "text/plain": [
       "                  f0             f1             f2        product\n",
       "count  100000.000000  100000.000000  100000.000000  100000.000000\n",
       "mean        0.002023      -0.002081       2.495128      95.000000\n",
       "std         1.732045       1.730417       3.473445      44.749921\n",
       "min        -8.760004      -7.084020     -11.970335       0.000000\n",
       "25%        -1.162288      -1.174820       0.130359      59.450441\n",
       "50%         0.009424      -0.009482       2.484236      94.925613\n",
       "75%         1.158535       1.163678       4.858794     130.595027\n",
       "max         7.238262       7.844801      16.739402     190.029838"
      ]
     },
     "execution_count": 14,
     "metadata": {},
     "output_type": "execute_result"
    }
   ],
   "source": [
    "third_region.info()\n",
    "third_region.describe()"
   ]
  },
  {
   "cell_type": "code",
   "execution_count": 15,
   "id": "027e3d9d",
   "metadata": {},
   "outputs": [
    {
     "data": {
      "image/png": "[encoded data removed]",
      "text/plain": [
       "<Figure size 640x480 with 4 Axes>"
      ]
     },
     "metadata": {},
     "output_type": "display_data"
    }
   ],
   "source": [
    "third_region.hist();"
   ]
  },
  {
   "cell_type": "code",
   "execution_count": 16,
   "id": "621d4f35",
   "metadata": {},
   "outputs": [
    {
     "data": {
      "text/plain": [
       "0"
      ]
     },
     "execution_count": 16,
     "metadata": {},
     "output_type": "execute_result"
    }
   ],
   "source": [
    "third_region.duplicated().sum()"
   ]
  },
  {
   "cell_type": "markdown",
   "id": "e29ce6e0",
   "metadata": {},
   "source": [
    "### 1.4. Вывод по подготовке<a name=\"Вывод_подготовке\"></a>\n",
    "\n",
    "Пропусков в данных не обнаружено\n",
    "\n",
    "Размер трёх выборок одинаковый\n",
    "\n",
    "Дубликатов в данных не обнаружено\n",
    "\n",
    "Все признаки являются численными"
   ]
  },
  {
   "cell_type": "markdown",
   "id": "a442f037",
   "metadata": {},
   "source": [
    "[К оглавлению](#Оглавление)"
   ]
  },
  {
   "cell_type": "markdown",
   "id": "f24a2be9",
   "metadata": {},
   "source": [
    "## 2. Обучение и проверка модели<a name=\"Обучение\"></a>"
   ]
  },
  {
   "cell_type": "markdown",
   "id": "85664eb5",
   "metadata": {},
   "source": [
    "### 2.1. Первый регион <a name=\"Первый_регион\"></a>"
   ]
  },
  {
   "cell_type": "markdown",
   "id": "9c92f0fa",
   "metadata": {},
   "source": [
    "Поделим данные на тренировочную и валидационную 75:25"
   ]
  },
  {
   "cell_type": "code",
   "execution_count": 17,
   "id": "d67cc8c8",
   "metadata": {},
   "outputs": [],
   "source": [
    "df_train_0, df_valid_0 = train_test_split(first_region, test_size=0.25, random_state=12345)"
   ]
  },
  {
   "cell_type": "code",
   "execution_count": 18,
   "id": "22f07d27",
   "metadata": {},
   "outputs": [
    {
     "data": {
      "text/plain": [
       "(75000, 5)"
      ]
     },
     "execution_count": 18,
     "metadata": {},
     "output_type": "execute_result"
    }
   ],
   "source": [
    "df_train_0.shape"
   ]
  },
  {
   "cell_type": "code",
   "execution_count": 19,
   "id": "a2396b59",
   "metadata": {},
   "outputs": [
    {
     "data": {
      "text/plain": [
       "(25000, 5)"
      ]
     },
     "execution_count": 19,
     "metadata": {},
     "output_type": "execute_result"
    }
   ],
   "source": [
    "df_valid_0.shape"
   ]
  },
  {
   "cell_type": "markdown",
   "id": "dce830d3",
   "metadata": {},
   "source": [
    "Запишем в обучающие признаки данные из обучающей выборки, исключив ненужные столбцы"
   ]
  },
  {
   "cell_type": "code",
   "execution_count": 20,
   "id": "12129b35",
   "metadata": {},
   "outputs": [],
   "source": [
    "features_train_0 = df_train_0.drop(['id', 'product'], axis=1)\n",
    "target_train_0 = df_train_0['product']\n",
    "features_valid_0 = df_valid_0.drop(['id', 'product'], axis=1)\n",
    "target_valid_0 = df_valid_0['product']"
   ]
  },
  {
   "cell_type": "markdown",
   "id": "160c79f5",
   "metadata": {},
   "source": [
    "Обучение модели логистической регрессии "
   ]
  },
  {
   "cell_type": "code",
   "execution_count": 21,
   "id": "7a417618",
   "metadata": {},
   "outputs": [],
   "source": [
    "model_0 = LinearRegression()\n",
    "model_0.fit(features_train_0, target_train_0)\n",
    "predictions_valid_0 = model_0.predict(features_valid_0)"
   ]
  },
  {
   "cell_type": "code",
   "execution_count": 22,
   "id": "01a645ce",
   "metadata": {},
   "outputs": [
    {
     "name": "stdout",
     "output_type": "stream",
     "text": [
      "RMSE: 37.5794217150813\n"
     ]
    }
   ],
   "source": [
    "rmse_0 = mean_squared_error(target_valid_0, predictions_valid_0) ** .5\n",
    "print('RMSE:', rmse_0)"
   ]
  },
  {
   "cell_type": "code",
   "execution_count": 23,
   "id": "59c48fa7",
   "metadata": {},
   "outputs": [
    {
     "name": "stdout",
     "output_type": "stream",
     "text": [
      "Средний запас предсказанного сырья: 92.59256778438035\n"
     ]
    }
   ],
   "source": [
    "product_pred_mean_0 = predictions_valid_0.mean()\n",
    "print('Средний запас предсказанного сырья:', product_pred_mean_0)"
   ]
  },
  {
   "cell_type": "markdown",
   "id": "bcd4d996",
   "metadata": {},
   "source": [
    "#### 2.1.1. Вывод по первому региону<a name=\"Вывод_первому\"></a>\n",
    "\n",
    "Cредний запас предсказанного сырья = 92.59\n",
    "\n",
    "RMSE (отклонение) = 37.6"
   ]
  },
  {
   "cell_type": "markdown",
   "id": "a91d3ef3",
   "metadata": {},
   "source": [
    "[К оглавлению](#Оглавление)"
   ]
  },
  {
   "cell_type": "markdown",
   "id": "e3362f4c",
   "metadata": {},
   "source": [
    "### 2.2. Второй регион<a name=\"Второй_регион\"></a>"
   ]
  },
  {
   "cell_type": "markdown",
   "id": "b5a3e93c",
   "metadata": {},
   "source": [
    "Поделим данные на тренировочную и валидационную 75:25"
   ]
  },
  {
   "cell_type": "code",
   "execution_count": 24,
   "id": "dbbe6b45",
   "metadata": {},
   "outputs": [],
   "source": [
    "df_train_1, df_valid_1 = train_test_split(second_region, test_size=.25, random_state=12345)"
   ]
  },
  {
   "cell_type": "code",
   "execution_count": 25,
   "id": "771bb9d1",
   "metadata": {},
   "outputs": [
    {
     "data": {
      "text/plain": [
       "(75000, 5)"
      ]
     },
     "execution_count": 25,
     "metadata": {},
     "output_type": "execute_result"
    }
   ],
   "source": [
    "df_train_1.shape"
   ]
  },
  {
   "cell_type": "code",
   "execution_count": 26,
   "id": "d05a32a7",
   "metadata": {},
   "outputs": [
    {
     "data": {
      "text/plain": [
       "(25000, 5)"
      ]
     },
     "execution_count": 26,
     "metadata": {},
     "output_type": "execute_result"
    }
   ],
   "source": [
    "df_valid_1.shape"
   ]
  },
  {
   "cell_type": "markdown",
   "id": "040dbe9d",
   "metadata": {},
   "source": [
    "Запишем в обучающие признаки данные из обучающей выборки, исключив ненужные столбцы"
   ]
  },
  {
   "cell_type": "code",
   "execution_count": 27,
   "id": "9755a01a",
   "metadata": {},
   "outputs": [],
   "source": [
    "features_train_1 = df_train_1.drop(['id', 'product'], axis=1)\n",
    "target_train_1 = df_train_1['product']\n",
    "features_valid_1 = df_valid_1.drop(['id', 'product'], axis=1)\n",
    "target_valid_1 = df_valid_1['product']"
   ]
  },
  {
   "cell_type": "markdown",
   "id": "3a5efdff",
   "metadata": {},
   "source": [
    "Обучение модели логистической регрессии "
   ]
  },
  {
   "cell_type": "code",
   "execution_count": 28,
   "id": "accfafef",
   "metadata": {},
   "outputs": [],
   "source": [
    "model_1 = LinearRegression()\n",
    "model_1.fit(features_train_1, target_train_1)\n",
    "predictions_valid_1 = model_1.predict(features_valid_1)"
   ]
  },
  {
   "cell_type": "code",
   "execution_count": 29,
   "id": "4663f1b5",
   "metadata": {},
   "outputs": [
    {
     "name": "stdout",
     "output_type": "stream",
     "text": [
      "RMSE: 0.8930992867756167\n"
     ]
    }
   ],
   "source": [
    "rmse_1 = mean_squared_error(target_valid_1, predictions_valid_1) ** .5\n",
    "print('RMSE:', rmse_1)"
   ]
  },
  {
   "cell_type": "code",
   "execution_count": 30,
   "id": "e981f427",
   "metadata": {},
   "outputs": [
    {
     "name": "stdout",
     "output_type": "stream",
     "text": [
      "Средний запас предсказанного сырья: 68.728546895446\n"
     ]
    }
   ],
   "source": [
    "product_pred_mean_1 = predictions_valid_1.mean()\n",
    "print('Средний запас предсказанного сырья:', product_pred_mean_1)"
   ]
  },
  {
   "cell_type": "markdown",
   "id": "4f769cb5",
   "metadata": {},
   "source": [
    "#### 2.2.1. Вывод по второму региону<a name=\"второму\"></a>\n",
    "\n",
    "Cредний запас предсказанного сырья = 68.73\n",
    "\n",
    "RMSE(отклонение) = 0.89"
   ]
  },
  {
   "cell_type": "markdown",
   "id": "130dc9cc",
   "metadata": {},
   "source": [
    "[К оглавлению](#Оглавление)"
   ]
  },
  {
   "cell_type": "markdown",
   "id": "df02a449",
   "metadata": {},
   "source": [
    "### 2.3. Третий регион<a name=\"Третий_регион\"></a>"
   ]
  },
  {
   "cell_type": "markdown",
   "id": "625cd54a",
   "metadata": {},
   "source": [
    "Поделим данные на тренировочную и валидационную 75:25"
   ]
  },
  {
   "cell_type": "code",
   "execution_count": 31,
   "id": "14835f25",
   "metadata": {},
   "outputs": [],
   "source": [
    "df_train_2, df_valid_2 = train_test_split(third_region, test_size=.25, random_state=12345)"
   ]
  },
  {
   "cell_type": "code",
   "execution_count": 32,
   "id": "8bd5c172",
   "metadata": {},
   "outputs": [
    {
     "data": {
      "text/plain": [
       "(75000, 5)"
      ]
     },
     "execution_count": 32,
     "metadata": {},
     "output_type": "execute_result"
    }
   ],
   "source": [
    "df_train_2.shape"
   ]
  },
  {
   "cell_type": "code",
   "execution_count": 33,
   "id": "c3c3860f",
   "metadata": {},
   "outputs": [
    {
     "data": {
      "text/plain": [
       "(25000, 5)"
      ]
     },
     "execution_count": 33,
     "metadata": {},
     "output_type": "execute_result"
    }
   ],
   "source": [
    "df_valid_2.shape"
   ]
  },
  {
   "cell_type": "markdown",
   "id": "36bfabe3",
   "metadata": {},
   "source": [
    "Запишем в обучающие признаки данные из обучающей выборки, исключив ненужные столбцы"
   ]
  },
  {
   "cell_type": "code",
   "execution_count": 34,
   "id": "2de740be",
   "metadata": {},
   "outputs": [],
   "source": [
    "features_train_2 = df_train_2.drop(['id', 'product'], axis=1)\n",
    "target_train_2 = df_train_2['product']\n",
    "features_valid_2 = df_valid_2.drop(['id', 'product'], axis=1)\n",
    "target_valid_2 = df_valid_2['product']"
   ]
  },
  {
   "cell_type": "markdown",
   "id": "9be1b770",
   "metadata": {},
   "source": [
    "Обучение модели логистической регрессии "
   ]
  },
  {
   "cell_type": "code",
   "execution_count": 35,
   "id": "1dc89cba",
   "metadata": {},
   "outputs": [],
   "source": [
    "model_2 = LinearRegression()\n",
    "model_2.fit(features_train_2, target_train_2)\n",
    "predictions_valid_2 = model_2.predict(features_valid_2)"
   ]
  },
  {
   "cell_type": "code",
   "execution_count": 36,
   "id": "34c15953",
   "metadata": {},
   "outputs": [
    {
     "name": "stdout",
     "output_type": "stream",
     "text": [
      "RMSE: 40.02970873393434\n"
     ]
    }
   ],
   "source": [
    "rmse_2 = mean_squared_error(target_valid_2, predictions_valid_2) ** .5\n",
    "print('RMSE:', rmse_2)"
   ]
  },
  {
   "cell_type": "code",
   "execution_count": 37,
   "id": "c8e64cd4",
   "metadata": {},
   "outputs": [
    {
     "name": "stdout",
     "output_type": "stream",
     "text": [
      "Средний запас предсказанного сырья: 94.96504596800489\n"
     ]
    }
   ],
   "source": [
    "product_pred_mean_2 = predictions_valid_2.mean()\n",
    "print('Средний запас предсказанного сырья:', product_pred_mean_2)"
   ]
  },
  {
   "cell_type": "markdown",
   "id": "1dbdff0f",
   "metadata": {},
   "source": [
    "#### 2.3.1. Вывод по третьему региону<a name=\"третьему\"></a>\n",
    "\n",
    "Cредний запас предсказанного сырья = 94.97\n",
    "\n",
    "RMSE(отклонение) = 40.03"
   ]
  },
  {
   "cell_type": "markdown",
   "id": "cc8a69d7",
   "metadata": {},
   "source": [
    "### 2.4. Общий вывод по обучению и проверке моделей<a name=\"Общий_вывод\"></a>\n",
    "\n",
    "Модели обучены и проверены на качество предсказания метрикой RMSE, которая определяет величину среднеквадратичной ошибки в предсказании модели. Исходя из полученных данных, можно заметить, что величина RMSE во втором регионе сильно отличается от двух других, но в нём в среднем меньше запасов сырья, следовательно, потребуются дополнительлные исследования."
   ]
  },
  {
   "cell_type": "markdown",
   "id": "d628b21b",
   "metadata": {},
   "source": [
    "[К оглавлению](#Оглавление)"
   ]
  },
  {
   "cell_type": "markdown",
   "id": "ec298f56",
   "metadata": {},
   "source": [
    "## 3. Подготовка к расчёту прибыли<a name=\"Подготовка\"></a>"
   ]
  },
  {
   "cell_type": "markdown",
   "id": "fa80d1c6",
   "metadata": {},
   "source": [
    "При разведке региона исследуют 500 точек, из которых с помощью машинного обучения выбирают 200 лучших для разработки.\n",
    "\n",
    "Бюджет на разработку скважин в регионе — 10 млрд рублей.\n",
    "\n",
    "При нынешних ценах один баррель сырья приносит 450 рублей дохода. Доход с каждой единицы продукта составляет 450 тыс. рублей, поскольку объём указан в тысячах баррелей.\n",
    "\n",
    "После оценки рисков нужно оставить лишь те регионы, в которых вероятность убытков меньше 2.5%. Среди них выбирают регион с наибольшей средней прибылью."
   ]
  },
  {
   "cell_type": "markdown",
   "id": "d0857670",
   "metadata": {},
   "source": [
    "Создадим константы:\n",
    "- Количество точек при разведке региона\n",
    "- Количество лучших точек для расчёта прибыли\n",
    "- Бюджет на разработку скважин в одном регионе\n",
    "- Доход с 1000 барелей\n",
    "- Максимальный риск (2.5%)\n",
    "- Стоимость разработки одной скважины"
   ]
  },
  {
   "cell_type": "code",
   "execution_count": 38,
   "id": "a2f07647",
   "metadata": {},
   "outputs": [],
   "source": [
    "research_amount = 500  \n",
    "best_amount = 200                  \n",
    "budget = 10000000000                    \n",
    "revenue_per_thousand_barrel = 450000    \n",
    "max_risk = 0.025                        \n",
    "development_cost = budget / best_amount "
   ]
  },
  {
   "cell_type": "markdown",
   "id": "979d5397",
   "metadata": {},
   "source": [
    "Деление заложенного буджета на стоимоcть единицы продукта и на количество разрабатываемых скважин"
   ]
  },
  {
   "cell_type": "code",
   "execution_count": 39,
   "id": "ac4df0f3",
   "metadata": {},
   "outputs": [
    {
     "name": "stdout",
     "output_type": "stream",
     "text": [
      "Достаточный объём сырья в скважине: 111.11111111111111\n"
     ]
    }
   ],
   "source": [
    "break_even_point = budget / revenue_per_thousand_barrel / best_amount\n",
    "print('Достаточный объём сырья в скважине:', break_even_point)"
   ]
  },
  {
   "cell_type": "markdown",
   "id": "61fa550a",
   "metadata": {},
   "source": [
    "Разница объемов сырья, между средним в регионе и необходимом для безубыточности"
   ]
  },
  {
   "cell_type": "code",
   "execution_count": 40,
   "id": "6326cc88",
   "metadata": {},
   "outputs": [
    {
     "name": "stdout",
     "output_type": "stream",
     "text": [
      "1 Регион: -18.518543326730764\n",
      "2 Регион: -42.38256421566511\n",
      "3 Регион: -16.146065143106227\n"
     ]
    }
   ],
   "source": [
    "print('1 Регион:', product_pred_mean_0-break_even_point)\n",
    "print('2 Регион:', product_pred_mean_1-break_even_point)\n",
    "print('3 Регион:', product_pred_mean_2-break_even_point)"
   ]
  },
  {
   "cell_type": "markdown",
   "id": "4d03ba7c",
   "metadata": {},
   "source": [
    "### 3.1. Вывод по убыточности<a name=\"Вывод_убыточности\"></a>\n",
    "\n",
    "Запас сырья в скважинах меньше, чем точка безубыточности."
   ]
  },
  {
   "cell_type": "markdown",
   "id": "c4429977",
   "metadata": {},
   "source": [
    "[К оглавлению](#Оглавление)"
   ]
  },
  {
   "cell_type": "markdown",
   "id": "11431e3b",
   "metadata": {},
   "source": [
    "## 4. Расчёт прибыли и рисков <a name=\"Расчёт\"></a>"
   ]
  },
  {
   "cell_type": "markdown",
   "id": "a5214666",
   "metadata": {},
   "source": [
    "### 4.1. Расчёт прибыли<a name=\"прибыли\"></a>"
   ]
  },
  {
   "cell_type": "markdown",
   "id": "62d7255c",
   "metadata": {},
   "source": [
    "Взглянем на предсказания"
   ]
  },
  {
   "cell_type": "code",
   "execution_count": 41,
   "id": "1da86073",
   "metadata": {},
   "outputs": [
    {
     "data": {
      "text/plain": [
       "array([ 95.89495185,  77.57258261,  77.89263965, ...,  61.50983303,\n",
       "       118.18039721, 118.16939229])"
      ]
     },
     "execution_count": 41,
     "metadata": {},
     "output_type": "execute_result"
    }
   ],
   "source": [
    "predictions_valid_0"
   ]
  },
  {
   "cell_type": "markdown",
   "id": "26737bfc",
   "metadata": {},
   "source": [
    "\"Запомним\" какой индекс скважин соответсвует предсказаниям модели и отберем лучшие"
   ]
  },
  {
   "cell_type": "code",
   "execution_count": 42,
   "id": "e87f5c20",
   "metadata": {},
   "outputs": [
    {
     "data": {
      "text/plain": [
       "93073    180.180713\n",
       "46784    176.252213\n",
       "78948    175.850623\n",
       "43388    175.658429\n",
       "6496     173.299686\n",
       "            ...    \n",
       "30488    148.507064\n",
       "98799    148.481767\n",
       "53840    148.476498\n",
       "4638     148.436761\n",
       "75908    148.365941\n",
       "Length: 200, dtype: float64"
      ]
     },
     "execution_count": 42,
     "metadata": {},
     "output_type": "execute_result"
    }
   ],
   "source": [
    "probs_sorted_0 = pd.Series(predictions_valid_0, index=target_valid_0.index).sort_values(ascending=False)\n",
    "selected_max_0 = probs_sorted_0[:200]\n",
    "selected_max_0"
   ]
  },
  {
   "cell_type": "markdown",
   "id": "48260341",
   "metadata": {},
   "source": [
    "Суммируем предсказания лучших 200 скважин"
   ]
  },
  {
   "cell_type": "code",
   "execution_count": 43,
   "id": "0818f15f",
   "metadata": {},
   "outputs": [
    {
     "name": "stdout",
     "output_type": "stream",
     "text": [
      "Суммарный запас сырья в 200 лучших скважинах в тыс.баррелей 31102.3308388114\n"
     ]
    }
   ],
   "source": [
    "selected_max_0_sum = selected_max_0.sum()\n",
    "print('Суммарный запас сырья в 200 лучших скважинах в тыс.баррелей', selected_max_0_sum)"
   ]
  },
  {
   "cell_type": "markdown",
   "id": "93e3cb70",
   "metadata": {},
   "source": [
    "Рассчет прибыли для полученого сырья"
   ]
  },
  {
   "cell_type": "code",
   "execution_count": 44,
   "id": "7efbe08c",
   "metadata": {},
   "outputs": [
    {
     "name": "stdout",
     "output_type": "stream",
     "text": [
      "Прибыль для полученного объёма сырья в тыс.рублей 3996048877.46513\n"
     ]
    }
   ],
   "source": [
    "profit_pred_0=(selected_max_0_sum*revenue_per_thousand_barrel)-budget\n",
    "print('Прибыль для полученного объёма сырья в тыс.рублей', profit_pred_0)"
   ]
  },
  {
   "cell_type": "markdown",
   "id": "6338b83e",
   "metadata": {},
   "source": [
    "Объединим все в функцию"
   ]
  },
  {
   "cell_type": "code",
   "execution_count": 45,
   "id": "74544002",
   "metadata": {},
   "outputs": [],
   "source": [
    "def profit(predict,target,count):\n",
    "    probs_sorted = pd.Series(predict, index=target.index).sort_values(ascending=False)\n",
    "    selected_max = probs_sorted[:count].sum()\n",
    "    profit_pred=(selected_max*revenue_per_thousand_barrel)-budget\n",
    "    print('Запас сырья в 200 лучших скважинах в тыс.рублей составит:', selected_max)\n",
    "    print('Прибыль для полученного сырья в тыс.рублей составит:', profit_pred)"
   ]
  },
  {
   "cell_type": "markdown",
   "id": "f8cf1054",
   "metadata": {},
   "source": [
    "[К оглавлению](#Оглавление)"
   ]
  },
  {
   "cell_type": "markdown",
   "id": "2a34aaec",
   "metadata": {},
   "source": [
    "### 4.1.1 Первый регион<a name=\"первый\"></a>"
   ]
  },
  {
   "cell_type": "code",
   "execution_count": 46,
   "id": "9f272fd3",
   "metadata": {},
   "outputs": [
    {
     "name": "stdout",
     "output_type": "stream",
     "text": [
      "Запас сырья в 200 лучших скважинах в тыс.рублей составит: 31102.3308388114\n",
      "Прибыль для полученного сырья в тыс.рублей составит: 3996048877.46513\n"
     ]
    }
   ],
   "source": [
    "profit(predictions_valid_0,target_valid_0,200)"
   ]
  },
  {
   "cell_type": "markdown",
   "id": "d6dfe6ad",
   "metadata": {},
   "source": [
    "### 4.1.2 Второй регион<a name=\"второй\"></a>"
   ]
  },
  {
   "cell_type": "code",
   "execution_count": 47,
   "id": "7cb756ba",
   "metadata": {},
   "outputs": [
    {
     "name": "stdout",
     "output_type": "stream",
     "text": [
      "Запас сырья в 200 лучших скважинах в тыс.рублей составит: 27746.026782163437\n",
      "Прибыль для полученного сырья в тыс.рублей составит: 2485712051.973547\n"
     ]
    }
   ],
   "source": [
    "profit(predictions_valid_1,target_valid_1,200)"
   ]
  },
  {
   "cell_type": "markdown",
   "id": "88bdadd6",
   "metadata": {},
   "source": [
    "### 4.1.3 Третий регион<a name=\"третий\"></a>"
   ]
  },
  {
   "cell_type": "code",
   "execution_count": 48,
   "id": "c8a881a1",
   "metadata": {},
   "outputs": [
    {
     "name": "stdout",
     "output_type": "stream",
     "text": [
      "Запас сырья в 200 лучших скважинах в тыс.рублей составит: 29603.898658318336\n",
      "Прибыль для полученного сырья в тыс.рублей составит: 3321754396.243252\n"
     ]
    }
   ],
   "source": [
    "profit(predictions_valid_2,target_valid_2,200)"
   ]
  },
  {
   "cell_type": "markdown",
   "id": "4849aa56",
   "metadata": {},
   "source": [
    "### 4.1.4. Вывод по прибыли<a name=\"Вывод_прибыли\"></a>\n",
    "\n",
    "От всех трех регионов можно полуить прибыль"
   ]
  },
  {
   "cell_type": "markdown",
   "id": "77378f86",
   "metadata": {},
   "source": [
    "[К оглавлению](#Оглавление)"
   ]
  },
  {
   "cell_type": "markdown",
   "id": "f1306c24",
   "metadata": {},
   "source": [
    "### 4.2. Расчёт рисков <a name=\"рисков\"></a>"
   ]
  },
  {
   "cell_type": "markdown",
   "id": "787d8e0a",
   "metadata": {},
   "source": [
    "Переведем все в Series для удобства "
   ]
  },
  {
   "cell_type": "code",
   "execution_count": 49,
   "id": "586c96fc",
   "metadata": {
    "scrolled": true
   },
   "outputs": [],
   "source": [
    "target_valid_0 = pd.Series(target_valid_0).reset_index(drop=True)\n",
    "predictions_valid_0 = pd.Series(predictions_valid_0).reset_index(drop=True)\n",
    "\n",
    "target_valid_1 = pd.Series(target_valid_1).reset_index(drop=True)\n",
    "predictions_valid_1 = pd.Series(predictions_valid_1).reset_index(drop=True)\n",
    "\n",
    "target_valid_2 = pd.Series(target_valid_2).reset_index(drop=True)\n",
    "predictions_valid_2 = pd.Series(predictions_valid_2).reset_index(drop=True)"
   ]
  },
  {
   "cell_type": "markdown",
   "id": "b31b091b",
   "metadata": {},
   "source": [
    "Напишем функцию для подсчета прибыльности "
   ]
  },
  {
   "cell_type": "code",
   "execution_count": 50,
   "id": "46328d52",
   "metadata": {},
   "outputs": [],
   "source": [
    "def revenue(target, predictions, best_amount):\n",
    "    preds_sorted = predictions.sort_values(ascending=False)\n",
    "    selected = target[preds_sorted.index][:best_amount]\n",
    "    return revenue_per_thousand_barrel * selected.sum() - budget"
   ]
  },
  {
   "cell_type": "markdown",
   "id": "43775352",
   "metadata": {},
   "source": [
    "Проверка на работоспособность "
   ]
  },
  {
   "cell_type": "code",
   "execution_count": 51,
   "id": "62e96bd0",
   "metadata": {},
   "outputs": [
    {
     "data": {
      "text/plain": [
       "3320826043.1398506"
      ]
     },
     "execution_count": 51,
     "metadata": {},
     "output_type": "execute_result"
    }
   ],
   "source": [
    "revenue(target_valid_0, predictions_valid_0, best_amount)"
   ]
  },
  {
   "cell_type": "code",
   "execution_count": 52,
   "id": "9640b24e",
   "metadata": {},
   "outputs": [
    {
     "name": "stdout",
     "output_type": "stream",
     "text": [
      "1 Pегион\n",
      "Средняя возможная прибыль: 396164984.802371\n",
      "95%-доверительный интервал: от -111215545.89049526 до 909766941.5534226\n",
      "Вероятность убытков: 6.9 %\n",
      "2 Pегион\n",
      "Средняя возможная прибыль: 461155817.27723986\n",
      "95%-доверительный интервал: от 78050810.7517417 до 862952060.2637234\n",
      "Вероятность убытков: 0.7000000000000001 %\n",
      "3 Pегион\n",
      "Средняя возможная прибыль: 392950475.17060375\n",
      "95%-доверительный интервал: от -112227625.37857565 до 934562914.5511636\n",
      "Вероятность убытков: 6.5 %\n"
     ]
    }
   ],
   "source": [
    "target = [target_valid_0, target_valid_1, target_valid_2]\n",
    "predictions = [predictions_valid_0, predictions_valid_1, predictions_valid_2]\n",
    "regions = ['1 Pегион', '2 Pегион', '3 Pегион']\n",
    "\n",
    "state = np.random.RandomState(12345)\n",
    "\n",
    "for i in range(len(target)):\n",
    "    values = []\n",
    "    for j in range(1000):\n",
    "        target_subsample = target[i].sample(n=research_amount, replace=True, random_state=state)\n",
    "        predictions_subsample = predictions[i].loc[target_subsample.index]\n",
    "        values.append(revenue(target_subsample.reset_index(drop=True), predictions_subsample.reset_index(drop=True), best_amount))\n",
    "\n",
    "    values = pd.Series(values)\n",
    "    lower = values.quantile(.025)\n",
    "    upper = values.quantile(.975)\n",
    "\n",
    "    mean = values.mean()\n",
    "    \n",
    "    loss_probability = sum(values < 0) / values.count() * 100\n",
    "    \n",
    "    print(regions[i])\n",
    "    print(\"Средняя возможная прибыль:\", mean)\n",
    "    print(\"95%-доверительный интервал:\", \"от\", lower, \"до\", upper)\n",
    "    print(\"Вероятность убытков:\", loss_probability, \"%\")"
   ]
  },
  {
   "cell_type": "markdown",
   "id": "d0d82fcd",
   "metadata": {},
   "source": [
    "[К оглавлению](#Оглавление)"
   ]
  },
  {
   "cell_type": "markdown",
   "id": "057d47d1",
   "metadata": {},
   "source": [
    "## 5. Итоговый вывод<a name=\"Итоговый_вывод\"></a>\n",
    "1. В начале мы провели исследовательский анализ данных, проверили датасеты на наличие пропусков, дупликатов, а также посмотрели на распределения признаков, которые, в общем, оказались распределены не нормально.\n",
    "2. Построили линейную модель, для предсказания объемов нефти в скважинах.\n",
    "3. Затем мы выполнили процедуру бутстрэпа и нашли 95% доверительный интервал для среднего объема нефти в скважинах. Наиболее перспективным для разработки представляется регион № 2, поскольку риски убытков наименьшие, а средняя прибыль наибольшая."
   ]
  }
 ],
 "metadata": {
  "kernelspec": {
   "display_name": "Python 3 (ipykernel)",
   "language": "python",
   "name": "python3"
  },
  "language_info": {
   "codemirror_mode": {
    "name": "ipython",
    "version": 3
   },
   "file_extension": ".py",
   "mimetype": "text/x-python",
   "name": "python",
   "nbconvert_exporter": "python",
   "pygments_lexer": "ipython3",
   "version": "3.9.13"
  }
 },
 "nbformat": 4,
 "nbformat_minor": 5
}
