{
 "cells": [
  {
   "cell_type": "markdown",
   "metadata": {},
   "source": [
    "1. Посчитайте, сколько компаний закрылось."
   ]
  },
  {
   "cell_type": "markdown",
   "metadata": {},
   "source": [
    "SELECT COUNT(status)\n",
    "\n", 
    "FROM company\n",
    "\n",
    "WHERE status LIKE 'closed'"
   ]
  },
  {
   "cell_type": "markdown",
   "metadata": {},
   "source": [
    "2. Отобразите количество привлечённых средств для новостных компаний США. Используйте данные из таблицы company. Отсортируйте таблицу по убыванию значений в поле funding_total ."
   ]
  },
  {
   "cell_type": "markdown",
   "metadata": {},
   "source": [
    "SELECT funding_total\n",
    "\n",
    "FROM company\n",
    "\n",
    "WHERE category_code LIKE 'news' AND country_code LIKE 'USA'\n",
    "\n",
    "ORDER BY funding_total DESC"
   ]
  },
  {
   "cell_type": "markdown",
   "metadata": {},
   "source": [
    "3. Найдите общую сумму сделок по покупке одних компаний другими в долларах. Отберите сделки, которые осуществлялись только за наличные с 2011 по 2013 год включительно."
   ]
  },
  {
   "cell_type": "markdown",
   "metadata": {},
   "source": [
    "SELECT SUM(price_amount)\n",
    "\n",
    "FROM acquisition\n",
    "\n",
    "WHERE term_code LIKE 'cash'\n",
    "\n",
    "AND EXTRACT(YEAR FROM CAST(acquired_at AS date)) BETWEEN 2011 AND 2013"
   ]
  },
  {
   "cell_type": "markdown",
   "metadata": {},
   "source": [
    "4. Отобразите имя, фамилию и названия аккаунтов людей в твиттере, у которых названия аккаунтов начинаются на 'Silver'."
   ]
  },
  {
   "cell_type": "markdown",
   "metadata": {},
   "source": [
    "SELECT first_name, last_name, twitter_username\n",
    "\n",
    "FROM people\n",
    "\n",
    "WHERE twitter_username LIKE 'Silver%'"
   ]
  },
  {
   "cell_type": "markdown",
   "metadata": {},
   "source": [
    "5. Выведите на экран всю информацию о людях, у которых названия аккаунтов в твиттере содержат подстроку 'money', а фамилия начинается на 'K'."
   ]
  },
  {
   "cell_type": "markdown",
   "metadata": {},
   "source": [
    "SELECT *\n",
    "\n",
    "FROM people\n",
    "\n",
    "WHERE twitter_username LIKE '%money%'\n",
    "\n",
    "AND last_name LIKE 'K%'"
   ]
  },
  {
   "cell_type": "markdown",
   "metadata": {},
   "source": [
    "6. Для каждой страны отобразите общую сумму привлечённых инвестиций, которые получили компании, зарегистрированные в этой стране. Страну, в которой зарегистрирована компания, можно определить по коду страны. Отсортируйте данные по убыванию суммы."
   ]
  },
  {
   "cell_type": "markdown",
   "metadata": {},
   "source": [
    "SELECT country_code, SUM(funding_total)\n",
    "\n",
    "FROM company\n",
    "\n",
    "GROUP BY country_code\n",
    "\n",
    "ORDER BY SUM(funding_total) DESC"
   ]
  },
  {
   "cell_type": "markdown",
   "metadata": {},
   "source": [
    "7. Составьте таблицу, в которую войдёт дата проведения раунда, а также минимальное и максимальное значения суммы инвестиций, привлечённых в эту дату.\n",
    "Оставьте в итоговой таблице только те записи, в которых минимальное значение суммы инвестиций не равно нулю и не равно максимальному значению."
   ]
  },
  {
   "cell_type": "markdown",
   "metadata": {},
   "source": [
    "SELECT funded_at, MIN(raised_amount), MAX(raised_amount)\n",
    "\n",
    "FROM funding_round\n",
    "\n",
    "GROUP BY funded_at\n",
    "\n",
    "HAVING MIN(raised_amount) <> 0 AND MIN(raised_amount) <> MAX(raised_amount)"
   ]
  },
  {
   "cell_type": "markdown",
   "metadata": {},
   "source": [
    "8. Создайте поле с категориями:\n",
    "- Для фондов, которые инвестируют в 100 и более компаний, назначьте категорию high_activity.\n",
    "- Для фондов, которые инвестируют в 20 и более компаний до 100, назначьте категорию middle_activity.\n",
    "- Если количество инвестируемых компаний фонда не достигает 20, назначьте категорию low_activity.\n",
    "- Отобразите все поля таблицы fund и новое поле с категориями."
   ]
  },
  {
   "cell_type": "markdown",
   "metadata": {},
   "source": [
    "SELECT *,\n",
    "\n",
    "       CASE\n",
    "       \n",
    "           WHEN invested_companies < 20 THEN 'low_activity'\n",
    "           \n",
    "           WHEN invested_companies < 100 THEN 'middle_activity'\n",
    "           \n",
    "           WHEN invested_companies >= 100 THEN 'high_activity'\n",
    "           \n",
    "       END\n",
    "       \n",
    "FROM fund"
   ]
  },
  {
   "cell_type": "markdown",
   "metadata": {},
   "source": [
    "9. Для каждой из категорий, назначенных в предыдущем задании, посчитайте округлённое до ближайшего целого числа среднее количество инвестиционных раундов, в которых фонд принимал участие. Выведите на экран категории и среднее число инвестиционных раундов. Отсортируйте таблицу по возрастанию среднего."
   ]
  },
  {
   "cell_type": "markdown",
   "metadata": {},
   "source": [
    "SELECT \n",
    "\n",
    "CASE\n",
    "\n",
    "    WHEN invested_companies>=100 THEN 'high_activity'\n",
    "   \n",
    "    WHEN invested_companies>=20 THEN 'middle_activity'\n",
    "   \n",
    "    ELSE 'low_activity'\n",
    "\n",
    "END AS activity,\n",
    "\n",
    "ROUND(AVG(investment_rounds))\n",
    "\n",
    "FROM fund\n",
    "\n",
    "GROUP BY activity\n",
    "\n",
    "ORDER BY ROUND(AVG(investment_rounds));"
   ]
  },
  {
   "cell_type": "markdown",
   "metadata": {},
   "source": [
    "10. Проанализируйте, в каких странах находятся фонды, которые чаще всего инвестируют в стартапы. \n",
    "\n",
    "Для каждой страны посчитайте минимальное, максимальное и среднее число компаний, в которые инвестировали фонды этой страны, основанные с 2010 по 2012 год включительно. Исключите страны с фондами, у которых минимальное число компаний, получивших инвестиции, равно нулю. \n",
    "\n",
    "Выгрузите десять самых активных стран-инвесторов: отсортируйте таблицу по среднему количеству компаний от большего к меньшему. Затем добавьте сортировку по коду страны в лексикографическом порядке."
   ]
  },
  {
   "cell_type": "markdown",
   "metadata": {},
   "source": [
    "SELECT country_code,\n",
    "\n",
    "MIN(invested_companies),\n",
    "\n",
    "MAX(invested_companies),\n",
    "\n",
    "AVG(invested_companies)\n",
    "\n",
    "FROM fund\n",
    "\n",
    "WHERE EXTRACT (YEAR FROM founded_at) IN  (2010, 2011,2012)\n",
    "\n",
    "GROUP BY country_code\n",
    "\n",
    "HAVING MIN(invested_companies) >0\n",
    "\n",
    "ORDER BY AVG(invested_companies) DESC, country_code\n",
    "\n",
    "LIMIT 10;"
   ]
  },
  {
   "cell_type": "markdown",
   "metadata": {},
   "source": [
    "11. Отобразите имя и фамилию всех сотрудников стартапов. Добавьте поле с названием учебного заведения, которое окончил сотрудник, если эта информация известна."
   ]
  },
  {
   "cell_type": "markdown",
   "metadata": {},
   "source": [
    "SELECT p.first_name,\n",
    "\n",
    "p.last_name,\n",
    "\n",
    "e.instituition\n",
    "\n",
    "FROM people AS p\n",
    "\n",
    "LEFT JOIN education AS e ON p.id = e.person_id;"
   ]
  },
  {
   "cell_type": "markdown",
   "metadata": {},
   "source": [
    "12. Для каждой компании найдите количество учебных заведений, которые окончили её сотрудники. Выведите название компании и число уникальных названий учебных заведений. Составьте топ-5 компаний по количеству университетов."
   ]
  },
  {
   "cell_type": "markdown",
   "metadata": {},
   "source": [
    "SELECT c.name,\n",
    "\n",
    "COUNT(DISTINCT e.instituition)\n",
    "\n",
    "FROM company AS c\n",
    "\n",
    "JOIN people AS p ON c.id = p.company_id\n",
    "\n",
    "JOIN education AS e ON p.id = e.person_id\n",
    "\n",
    "GROUP BY c.name\n",
    "\n",
    "ORDER BY COUNT(DISTINCT e.instituition) DESC\n",
    "\n",
    "LIMIT 5;"
   ]
  },
  {
   "cell_type": "markdown",
   "metadata": {},
   "source": [
    "13. Составьте список с уникальными названиями закрытых компаний, для которых первый раунд финансирования оказался последним."
   ]
  },
  {
   "cell_type": "markdown",
   "metadata": {},
   "source": [
    "SELECT name\n",
    "\n",
    "FROM company AS c\n",
    "\n",
    "JOIN funding_round AS fr ON c.id = fr.company_id\n",
    "\n",
    "WHERE STATUS ='closed'\n",
    "\n",
    "AND is_first_round = 1\n",
    "\n",
    "AND is_last_round = 1\n",
    "\n",
    "GROUP BY name;"
   ]
  },
  {
   "cell_type": "markdown",
   "metadata": {},
   "source": [
    "14. Составьте список уникальных номеров сотрудников, которые работают в компаниях, отобранных в предыдущем задании."
   ]
  },
  {
   "cell_type": "markdown",
   "metadata": {},
   "source": [
    "SELECT DISTINCT p.id\n",
    "\n",
    "FROM people AS p\n",
    "\n",
    "WHERE p.company_id IN\n",
    "\n",
    "(SELECT c.id\n",
    "\n",
    "FROM company AS c\n",
    "\n",
    "JOIN funding_round AS fr ON c.id = fr.company_id\n",
    "\n",
    "WHERE STATUS ='closed'\n",
    "\n",
    "AND is_first_round = 1\n",
    "\n",
    "AND is_last_round = 1\n",
    "\n",
    "GROUP BY c.id);"
   ]
  },
  {
   "cell_type": "markdown",
   "metadata": {},
   "source": [
    "15. Составьте таблицу, куда войдут уникальные пары с номерами сотрудников из предыдущей задачи и учебным заведением, которое окончил сотрудник."
   ]
  },
  {
   "cell_type": "markdown",
   "metadata": {},
   "source": [
    "SELECT p.id,\n",
    "\n",
    "e.instituition\n",
    "\n",
    "FROM people AS p\n",
    "\n",
    "LEFT JOIN education AS e ON p.id = e.person_id\n",
    "\n",
    "WHERE p.company_id IN\n",
    "\n",
    "(SELECT c.id\n",
    "\n",
    "FROM company AS c\n",
    "\n",
    "JOIN funding_round AS fr ON c.id = fr.company_id\n",
    "\n",
    "WHERE STATUS ='closed'\n",
    "\n",
    "AND is_first_round = 1\n",
    "\n",
    "AND is_last_round = 1\n",
    "\n",
    "GROUP BY c.id)\n",
    "\n",
    "GROUP BY p.id, e.instituition\n",
    "\n",
    "HAVING instituition IS NOT NULL;"
   ]
  },
  {
   "cell_type": "markdown",
   "metadata": {},
   "source": [
    "16. Посчитайте количество учебных заведений для каждого сотрудника из предыдущего задания. При подсчёте учитывайте, что некоторые сотрудники могли окончить одно и то же заведение дважды."
   ]
  },
  {
   "cell_type": "markdown",
   "metadata": {},
   "source": [
    "SELECT p.id,\n",
    "\n",
    "COUNT(e.instituition)\n",
    "\n",
    "FROM people AS p\n",
    "\n",
    "LEFT JOIN education AS e ON p.id = e.person_id\n",
    "\n",
    "WHERE p.company_id IN\n",
    "\n",
    "(SELECT c.id\n",
    "\n",
    "FROM company AS c\n",
    "\n",
    "JOIN funding_round AS fr ON c.id = fr.company_id\n",
    "\n",
    "WHERE STATUS ='closed'\n",
    "\n",
    "AND is_first_round = 1\n",
    "\n",
    "AND is_last_round = 1\n",
    "\n",
    "GROUP BY c.id)\n",
    "\n",
    "GROUP BY p.id\n",
    "\n",
    "HAVING COUNT(DISTINCT e.instituition) >0;"
   ]
  },
  {
   "cell_type": "markdown",
   "metadata": {},
   "source": [
    "17. Дополните предыдущий запрос и выведите среднее число учебных заведений (всех, не только уникальных), которые окончили сотрудники разных компаний. Нужно вывести только одну запись, группировка здесь не понадобится."
   ]
  },
  {
   "cell_type": "markdown",
   "metadata": {},
   "source": [
    "WITH base AS\n",
    "\n",
    "(SELECT p.id,\n",
    "\n",
    "COUNT(e.instituition)\n",
    "\n",
    "FROM people AS p\n",
    "\n",
    "LEFT JOIN education AS e ON p.id = e.person_id\n",
    "\n",
    "WHERE p.company_id IN\n",
    "\n",
    "(SELECT c.id\n",
    "\n",
    "FROM company AS c\n",
    "\n",
    "JOIN funding_round AS fr ON c.id = fr.company_id\n",
    "\n",
    "WHERE STATUS ='closed'\n",
    "\n",
    "AND is_first_round = 1\n",
    "\n",
    "AND is_last_round = 1\n",
    "\n",
    "GROUP BY c.id)\n",
    "\n",
    "GROUP BY p.id\n",
    "\n",
    "HAVING COUNT(DISTINCT e.instituition) >0)\n",
    "\n",
    "SELECT AVG(COUNT)\n",
    "\n",
    "FROM base;"
   ]
  },
  {
   "cell_type": "markdown",
   "metadata": {},
   "source": [
    "18. Напишите похожий запрос: выведите среднее число учебных заведений (всех, не только уникальных), которые окончили сотрудники Facebook*.\n",
    "*(сервис, запрещённый на территории РФ)"
   ]
  },
  {
   "cell_type": "markdown",
   "metadata": {},
   "source": [
    "WITH base AS \n",
    "\n",
    "(SELECT p.id,\n",
    "\n",
    "COUNT(e.instituition)\n",
    "\n",
    "FROM people AS p\n",
    "\n",
    "RIGHT JOIN education AS e ON p.id = e.person_id\n",
    "\n",
    "WHERE p.company_id IN\n",
    "\n",
    "(SELECT id\n",
    "\n",
    "FROM company\n",
    "\n",
    "WHERE name = 'Facebook')\n",
    "\n",
    "GROUP BY p.id)\n",
    "\n",
    "SELECT AVG(COUNT)\n",
    "\n",
    "FROM base;"
   ]
  },
  {
   "cell_type": "markdown",
   "metadata": {},
   "source": [
    "19. Составьте таблицу из полей:\n",
    "- name_of_fund — название фонда;\n",
    "- name_of_company — название компании;\n",
    "- amount — сумма инвестиций, которую привлекла компания в раунде.\n",
    "\n",
    "В таблицу войдут данные о компаниях, в истории которых было больше шести важных этапов, а раунды финансирования проходили с 2012 по 2013 год включительно."
   ]
  },
  {
   "cell_type": "markdown",
   "metadata": {},
   "source": [
    "SELECT f.name AS name_of_fund,\n",
    "\n",
    "c.name AS name_of_company,\n",
    "\n",
    "fr.raised_amount AS amount\n",
    "\n",
    "FROM investment AS i\n",
    "\n",
    "LEFT JOIN company AS c ON c.id = i.company_id\n",
    "\n",
    "LEFT JOIN fund AS f ON i.fund_id = f.id\n",
    "\n",
    "INNER JOIN \n",
    "\n",
    "(SELECT*\n",
    "\n",
    "FROM funding_round\n",
    "\n",
    "WHERE funded_at BETWEEN '2012-01-01' AND '2013-12-31')\n",
    "\n",
    "AS fr ON fr.id = i.funding_round_id\n",
    "\n",
    "WHERE c.milestones > 6;"
   ]
  },
  {
   "cell_type": "markdown",
   "metadata": {},
   "source": [
    "20. Выгрузите таблицу, в которой будут такие поля:\n",
    "- название компании-покупателя;\n",
    "- сумма сделки;\n",
    "- название компании, которую купили;\n",
    "- сумма инвестиций, вложенных в купленную компанию;\n",
    "- доля, которая отображает, во сколько раз сумма покупки превысила сумму вложенных в компанию инвестиций, округлённая до ближайшего целого числа.\n",
    "\n",
    "Не учитывайте те сделки, в которых сумма покупки равна нулю. Если сумма инвестиций в компанию равна нулю, исключите такую компанию из таблицы. \n",
    "\n",
    "Отсортируйте таблицу по сумме сделки от большей к меньшей, а затем по названию купленной компании в лексикографическом порядке. Ограничьте таблицу первыми десятью записями."
   ]
  },
  {
   "cell_type": "markdown",
   "metadata": {},
   "source": [
    "WITH acquiring AS\n",
    "\n",
    "(SELECT c.name AS buyer,\n",
    "\n",
    "a.price_amount AS price,\n",
    "\n",
    "a.id AS KEY\n",
    "\n",
    "FROM acquisition AS a\n",
    "\n",
    "LEFT JOIN company AS c ON a.acquiring_company_id = c.id\n",
    "\n",
    "WHERE a.price_amount > 0),\n",
    "\n",
    "acquired AS\n",
    "\n",
    "(SELECT c.name AS acquisition,\n",
    "\n",
    "c.funding_total AS investment,\n",
    "\n",
    "a.id AS KEY\n",
    "\n",
    "FROM acquisition AS a\n",
    "\n",
    "LEFT JOIN company AS c ON a.acquired_company_id = c.id\n",
    "\n",
    "WHERE c.funding_total > 0)\n",
    "\n",
    "SELECT acqn.buyer,\n",
    "\n",
    "acqn.price,\n",
    "\n",
    "acqd.acquisition,\n",
    "\n",
    "acqd.investment,\n",
    "\n",
    "ROUND(acqn.price / acqd.investment) AS uplift\n",
    "\n",
    "FROM acquiring AS acqn\n",
    "\n",
    "JOIN acquired AS acqd ON acqn.KEY = acqd.KEY\n",
    "\n",
    "ORDER BY price DESC, acquisition\n",
    "\n",
    "LIMIT 10;"
   ]
  },
  {
   "cell_type": "markdown",
   "metadata": {},
   "source": [
    "21. Выгрузите таблицу, в которую войдут названия компаний из категории social, получившие финансирование с 2010 по 2013 год включительно. Проверьте, что сумма инвестиций не равна нулю. Выведите также номер месяца, в котором проходил раунд финансирования."
   ]
  },
  {
   "cell_type": "markdown",
   "metadata": {},
   "source": [
    "SELECT  c.name AS social_co,\n",
    "\n",
    "EXTRACT (MONTH FROM fr.funded_at) AS funding_month\n",
    "\n",
    "FROM company AS c\n",
    "\n",
    "LEFT JOIN funding_round AS fr ON c.id = fr.company_id\n",
    "\n",
    "WHERE c.category_code = 'social'\n",
    "\n",
    "AND fr.funded_at BETWEEN '2010-01-01' AND '2013-12-31'\n",
    "\n",
    "AND fr.raised_amount <> 0;"
   ]
  },
  {
   "cell_type": "markdown",
   "metadata": {},
   "source": [
    "22. Отберите данные по месяцам с 2010 по 2013 год, когда проходили инвестиционные раунды. Сгруппируйте данные по номеру месяца и получите таблицу, в которой будут поля:\n",
    "- номер месяца, в котором проходили раунды;\n",
    "- количество уникальных названий фондов из США, которые инвестировали в этом месяце;\n",
    "- количество компаний, купленных за этот месяц;\n",
    "- общая сумма сделок по покупкам в этом месяце."
   ]
  },
  {
   "cell_type": "markdown",
   "metadata": {},
   "source": [
    "WITH fundings AS\n",
    "\n",
    "(SELECT EXTRACT(MONTH FROM CAST(fr.funded_at AS DATE)) AS funding_month,\n",
    "\n",
    "COUNT(DISTINCT f.id) AS us_funds\n",
    "\n",
    "FROM fund AS f\n",
    "\n",
    "LEFT JOIN investment AS i ON f.id = i.fund_id\n",
    "\n",
    "LEFT JOIN funding_round AS fr ON i.funding_round_id = fr.id\n",
    "\n",
    "WHERE f.country_code = 'USA'\n",
    "\n",
    "AND EXTRACT(YEAR FROM CAST(fr.funded_at AS DATE)) BETWEEN 2010 AND 2013\n",
    "\n",
    "GROUP BY funding_month),\n",
    "\n",
    "acquisitions AS\n",
    "\n",
    "(SELECT EXTRACT(MONTH FROM CAST(acquired_at AS DATE)) AS funding_month,\n",
    "\n",
    "COUNT(acquired_company_id) AS bought_co,\n",
    "\n",
    "SUM(price_amount) AS sum_total\n",
    "\n",
    "FROM acquisition\n",
    "\n",
    "WHERE EXTRACT(YEAR FROM CAST(acquired_at AS DATE)) BETWEEN 2010 AND 2013\n",
    "\n",
    "GROUP BY funding_month)\n",
    "\n",
    "SELECT fnd.funding_month, fnd.us_funds, acq.bought_co, acq.sum_total\n",
    "\n",
    "FROM fundings AS fnd\n",
    "\n",
    "LEFT JOIN acquisitions AS acq ON fnd.funding_month = acq.funding_month;"
   ]
  },
  {
   "cell_type": "markdown",
   "metadata": {},
   "source": [
    "23. Составьте сводную таблицу и выведите среднюю сумму инвестиций для стран, в которых есть стартапы, зарегистрированные в 2011, 2012 и 2013 годах. Данные за каждый год должны быть в отдельном поле. Отсортируйте таблицу по среднему значению инвестиций за 2011 год от большего к меньшему."
   ]
  },
  {
   "cell_type": "markdown",
   "metadata": {},
   "source": [
    "WITH y_11 AS\n",
    "\n",
    "(SELECT country_code AS country,\n",
    "\n",
    "AVG(funding_total) AS y_2011\n",
    "\n",
    "FROM company\n",
    "\n",
    "WHERE EXTRACT(YEAR FROM founded_at::DATE) IN(2011, 2012, 2013)\n",
    "\n",
    "GROUP BY country, EXTRACT(YEAR FROM founded_at)\n",
    "\n",
    "HAVING EXTRACT(YEAR FROM founded_at) = '2011'),\n",
    "\n",
    "y_12 AS\n",
    "\n",
    "(SELECT country_code AS country,\n",
    "\n",
    "AVG(funding_total) AS y_2012\n",
    "\n",
    "FROM company\n",
    "\n",
    "WHERE EXTRACT(YEAR FROM founded_at::DATE) IN(2011, 2012, 2013)\n",
    "\n",
    "GROUP BY country, EXTRACT(YEAR FROM founded_at)\n",
    "\n",
    "HAVING EXTRACT(YEAR FROM founded_at) = '2012'),\n",
    "\n",
    "y_13 AS\n",
    "\n",
    "(SELECT country_code AS country,\n",
    "\n",
    "AVG(funding_total) AS y_2013\n",
    "\n",
    "FROM company\n",
    "\n",
    "WHERE EXTRACT(YEAR FROM founded_at::DATE) IN(2011, 2012, 2013)\n",
    "\n",
    "GROUP BY country, EXTRACT(YEAR FROM founded_at)\n",
    "\n",
    "HAVING EXTRACT(YEAR FROM founded_at) = '2013')\n",
    "\n",
    "SELECT y_11.country, y_2011, y_2012, y_2013\n",
    "\n",
    "FROM y_11\n",
    "\n",
    "JOIN y_12 ON y_11.country = y_12.country\n",
    "\n",
    "JOIN y_13 ON y_12.country = y_13.country\n",
    "\n",
    "ORDER BY y_2011 DESC;"
   ]
  }
 ],
 "metadata": {
  "ExecuteTimeLog": [
   {
    "duration": 810,
    "start_time": "2022-12-12T17:19:40.359Z"
   },
   {
    "duration": 102,
    "start_time": "2022-12-12T17:20:04.087Z"
   },
   {
    "duration": 27,
    "start_time": "2022-12-12T17:20:38.589Z"
   },
   {
    "duration": 16,
    "start_time": "2022-12-12T17:20:39.590Z"
   },
   {
    "duration": 17,
    "start_time": "2022-12-12T17:57:35.921Z"
   },
   {
    "duration": 12,
    "start_time": "2022-12-12T17:59:14.950Z"
   },
   {
    "duration": 842,
    "start_time": "2022-12-12T18:07:32.972Z"
   },
   {
    "duration": 12,
    "start_time": "2022-12-12T18:07:41.894Z"
   },
   {
    "duration": 12,
    "start_time": "2022-12-12T18:07:53.043Z"
   },
   {
    "duration": 4,
    "start_time": "2022-12-12T18:08:59.493Z"
   },
   {
    "duration": 25,
    "start_time": "2022-12-12T18:09:05.545Z"
   },
   {
    "duration": 4,
    "start_time": "2022-12-12T18:09:13.387Z"
   },
   {
    "duration": 12,
    "start_time": "2022-12-12T18:10:06.677Z"
   },
   {
    "duration": 7,
    "start_time": "2022-12-12T18:10:07.526Z"
   },
   {
    "duration": 14,
    "start_time": "2022-12-12T18:10:07.866Z"
   },
   {
    "duration": 7,
    "start_time": "2022-12-12T18:11:12.497Z"
   },
   {
    "duration": 19,
    "start_time": "2022-12-12T18:12:36.410Z"
   },
   {
    "duration": 11,
    "start_time": "2022-12-12T18:16:48.859Z"
   },
   {
    "duration": 8,
    "start_time": "2022-12-12T18:18:13.919Z"
   },
   {
    "duration": 11,
    "start_time": "2022-12-12T18:18:40.021Z"
   },
   {
    "duration": 10,
    "start_time": "2022-12-12T18:19:12.444Z"
   },
   {
    "duration": 29,
    "start_time": "2022-12-12T18:24:26.317Z"
   },
   {
    "duration": 23,
    "start_time": "2022-12-12T18:24:46.787Z"
   },
   {
    "duration": 24,
    "start_time": "2022-12-12T18:25:06.175Z"
   },
   {
    "duration": 49,
    "start_time": "2022-12-13T15:32:31.658Z"
   },
   {
    "duration": 847,
    "start_time": "2022-12-13T15:32:38.367Z"
   },
   {
    "duration": 449,
    "start_time": "2022-12-13T15:32:39.217Z"
   },
   {
    "duration": 36,
    "start_time": "2022-12-13T15:32:39.668Z"
   },
   {
    "duration": 21,
    "start_time": "2022-12-13T15:32:39.707Z"
   },
   {
    "duration": 4,
    "start_time": "2022-12-13T15:32:39.730Z"
   },
   {
    "duration": 37,
    "start_time": "2022-12-13T15:32:39.737Z"
   },
   {
    "duration": 12,
    "start_time": "2022-12-13T15:32:39.776Z"
   },
   {
    "duration": 25,
    "start_time": "2022-12-13T15:32:39.791Z"
   },
   {
    "duration": 31,
    "start_time": "2022-12-13T15:32:39.819Z"
   },
   {
    "duration": 23,
    "start_time": "2022-12-13T15:32:39.853Z"
   },
   {
    "duration": 5,
    "start_time": "2022-12-13T15:32:39.878Z"
   },
   {
    "duration": 10,
    "start_time": "2022-12-13T15:32:39.884Z"
   },
   {
    "duration": 3,
    "start_time": "2022-12-13T15:50:30.145Z"
   },
   {
    "duration": 928,
    "start_time": "2022-12-13T15:54:03.455Z"
   },
   {
    "duration": 54,
    "start_time": "2022-12-13T15:54:04.385Z"
   },
   {
    "duration": 29,
    "start_time": "2022-12-13T15:54:04.441Z"
   },
   {
    "duration": 19,
    "start_time": "2022-12-13T15:54:04.473Z"
   },
   {
    "duration": 18,
    "start_time": "2022-12-13T15:54:04.494Z"
   },
   {
    "duration": 53,
    "start_time": "2022-12-13T15:54:04.514Z"
   },
   {
    "duration": 15,
    "start_time": "2022-12-13T15:54:04.569Z"
   },
   {
    "duration": 50,
    "start_time": "2022-12-13T15:54:04.586Z"
   },
   {
    "duration": 29,
    "start_time": "2022-12-13T15:54:04.638Z"
   },
   {
    "duration": 39,
    "start_time": "2022-12-13T15:54:04.670Z"
   },
   {
    "duration": 26,
    "start_time": "2022-12-13T15:54:04.711Z"
   },
   {
    "duration": 23,
    "start_time": "2022-12-13T15:54:58.119Z"
   },
   {
    "duration": 19,
    "start_time": "2022-12-13T15:55:00.506Z"
   },
   {
    "duration": 25,
    "start_time": "2022-12-13T15:55:50.276Z"
   },
   {
    "duration": 2,
    "start_time": "2022-12-13T15:56:02.985Z"
   },
   {
    "duration": 11,
    "start_time": "2022-12-13T15:56:21.160Z"
   },
   {
    "duration": 4,
    "start_time": "2022-12-13T16:04:18.777Z"
   },
   {
    "duration": 882,
    "start_time": "2022-12-13T16:04:23.330Z"
   },
   {
    "duration": 54,
    "start_time": "2022-12-13T16:04:24.214Z"
   },
   {
    "duration": 28,
    "start_time": "2022-12-13T16:04:24.270Z"
   },
   {
    "duration": 16,
    "start_time": "2022-12-13T16:04:24.300Z"
   },
   {
    "duration": 4,
    "start_time": "2022-12-13T16:04:24.317Z"
   },
   {
    "duration": 47,
    "start_time": "2022-12-13T16:04:24.322Z"
   },
   {
    "duration": 10,
    "start_time": "2022-12-13T16:04:24.370Z"
   },
   {
    "duration": 17,
    "start_time": "2022-12-13T16:04:24.381Z"
   },
   {
    "duration": 2,
    "start_time": "2022-12-13T16:04:24.400Z"
   },
   {
    "duration": 46,
    "start_time": "2022-12-13T16:04:24.405Z"
   },
   {
    "duration": 7,
    "start_time": "2022-12-13T16:04:24.453Z"
   },
   {
    "duration": 17,
    "start_time": "2022-12-13T16:05:04.260Z"
   },
   {
    "duration": 5,
    "start_time": "2022-12-13T16:05:22.886Z"
   },
   {
    "duration": 15,
    "start_time": "2022-12-13T16:05:24.121Z"
   },
   {
    "duration": 147,
    "start_time": "2022-12-13T16:05:44.383Z"
   },
   {
    "duration": 4,
    "start_time": "2022-12-13T16:05:48.848Z"
   },
   {
    "duration": 18,
    "start_time": "2022-12-13T16:05:49.244Z"
   },
   {
    "duration": 9,
    "start_time": "2022-12-13T16:07:36.028Z"
   },
   {
    "duration": 855,
    "start_time": "2022-12-13T16:08:04.090Z"
   },
   {
    "duration": 55,
    "start_time": "2022-12-13T16:08:04.947Z"
   },
   {
    "duration": 26,
    "start_time": "2022-12-13T16:08:05.004Z"
   },
   {
    "duration": 15,
    "start_time": "2022-12-13T16:08:05.033Z"
   },
   {
    "duration": 3,
    "start_time": "2022-12-13T16:08:05.051Z"
   },
   {
    "duration": 27,
    "start_time": "2022-12-13T16:08:05.056Z"
   },
   {
    "duration": 13,
    "start_time": "2022-12-13T16:08:05.086Z"
   },
   {
    "duration": 17,
    "start_time": "2022-12-13T16:08:05.101Z"
   },
   {
    "duration": 33,
    "start_time": "2022-12-13T16:08:05.120Z"
   },
   {
    "duration": 7,
    "start_time": "2022-12-13T16:08:05.156Z"
   },
   {
    "duration": 7,
    "start_time": "2022-12-13T16:08:05.164Z"
   },
   {
    "duration": 21,
    "start_time": "2022-12-13T16:08:05.173Z"
   },
   {
    "duration": 10,
    "start_time": "2022-12-13T16:13:11.156Z"
   },
   {
    "duration": 18,
    "start_time": "2022-12-13T16:13:19.836Z"
   },
   {
    "duration": 9,
    "start_time": "2022-12-13T16:21:30.600Z"
   },
   {
    "duration": 15,
    "start_time": "2022-12-13T16:21:35.888Z"
   },
   {
    "duration": 5,
    "start_time": "2022-12-13T16:21:36.814Z"
   },
   {
    "duration": 13,
    "start_time": "2022-12-13T16:21:41.910Z"
   },
   {
    "duration": 4,
    "start_time": "2022-12-13T16:21:42.261Z"
   },
   {
    "duration": 14,
    "start_time": "2022-12-13T16:21:42.714Z"
   },
   {
    "duration": 9,
    "start_time": "2022-12-13T16:21:46.981Z"
   },
   {
    "duration": 881,
    "start_time": "2022-12-13T16:22:16.522Z"
   },
   {
    "duration": 56,
    "start_time": "2022-12-13T16:22:17.405Z"
   },
   {
    "duration": 25,
    "start_time": "2022-12-13T16:22:17.463Z"
   },
   {
    "duration": 15,
    "start_time": "2022-12-13T16:22:17.491Z"
   },
   {
    "duration": 5,
    "start_time": "2022-12-13T16:22:17.508Z"
   },
   {
    "duration": 41,
    "start_time": "2022-12-13T16:22:17.515Z"
   },
   {
    "duration": 8,
    "start_time": "2022-12-13T16:22:17.558Z"
   },
   {
    "duration": 19,
    "start_time": "2022-12-13T16:22:17.568Z"
   },
   {
    "duration": 7,
    "start_time": "2022-12-13T16:22:17.589Z"
   },
   {
    "duration": 8,
    "start_time": "2022-12-13T16:22:17.598Z"
   },
   {
    "duration": 6,
    "start_time": "2022-12-13T16:22:17.608Z"
   },
   {
    "duration": 35,
    "start_time": "2022-12-13T16:22:17.616Z"
   },
   {
    "duration": 27,
    "start_time": "2022-12-13T16:25:03.433Z"
   },
   {
    "duration": 17,
    "start_time": "2022-12-13T16:25:43.384Z"
   },
   {
    "duration": 14,
    "start_time": "2022-12-13T16:26:24.966Z"
   },
   {
    "duration": 4,
    "start_time": "2022-12-13T16:30:34.704Z"
   },
   {
    "duration": 1213,
    "start_time": "2022-12-13T16:30:36.385Z"
   },
   {
    "duration": 6,
    "start_time": "2022-12-13T16:31:28.860Z"
   },
   {
    "duration": 7,
    "start_time": "2022-12-13T16:31:43.184Z"
   },
   {
    "duration": 5,
    "start_time": "2022-12-13T16:31:52.544Z"
   },
   {
    "duration": 890,
    "start_time": "2022-12-13T16:31:58.775Z"
   },
   {
    "duration": 60,
    "start_time": "2022-12-13T16:31:59.667Z"
   },
   {
    "duration": 33,
    "start_time": "2022-12-13T16:31:59.729Z"
   },
   {
    "duration": 18,
    "start_time": "2022-12-13T16:31:59.765Z"
   },
   {
    "duration": 5,
    "start_time": "2022-12-13T16:31:59.786Z"
   },
   {
    "duration": 30,
    "start_time": "2022-12-13T16:31:59.793Z"
   },
   {
    "duration": 28,
    "start_time": "2022-12-13T16:31:59.825Z"
   },
   {
    "duration": 15,
    "start_time": "2022-12-13T16:31:59.855Z"
   },
   {
    "duration": 8,
    "start_time": "2022-12-13T16:31:59.872Z"
   },
   {
    "duration": 7,
    "start_time": "2022-12-13T16:31:59.881Z"
   },
   {
    "duration": 7,
    "start_time": "2022-12-13T16:31:59.889Z"
   },
   {
    "duration": 7,
    "start_time": "2022-12-13T16:31:59.897Z"
   },
   {
    "duration": 7,
    "start_time": "2022-12-13T16:53:14.747Z"
   },
   {
    "duration": 7,
    "start_time": "2022-12-13T16:53:38.645Z"
   },
   {
    "duration": 896,
    "start_time": "2022-12-13T16:54:54.171Z"
   },
   {
    "duration": 53,
    "start_time": "2022-12-13T16:54:55.069Z"
   },
   {
    "duration": 26,
    "start_time": "2022-12-13T16:54:55.124Z"
   },
   {
    "duration": 17,
    "start_time": "2022-12-13T16:54:55.153Z"
   },
   {
    "duration": 4,
    "start_time": "2022-12-13T16:54:55.172Z"
   },
   {
    "duration": 29,
    "start_time": "2022-12-13T16:54:55.177Z"
   },
   {
    "duration": 11,
    "start_time": "2022-12-13T16:54:55.208Z"
   },
   {
    "duration": 41,
    "start_time": "2022-12-13T16:54:55.221Z"
   },
   {
    "duration": 8,
    "start_time": "2022-12-13T16:54:55.264Z"
   },
   {
    "duration": 6,
    "start_time": "2022-12-13T16:54:55.274Z"
   },
   {
    "duration": 14,
    "start_time": "2022-12-13T16:54:55.282Z"
   },
   {
    "duration": 10,
    "start_time": "2022-12-13T16:54:55.299Z"
   },
   {
    "duration": 9,
    "start_time": "2022-12-13T16:54:55.311Z"
   },
   {
    "duration": 5,
    "start_time": "2022-12-13T16:55:29.500Z"
   },
   {
    "duration": 8,
    "start_time": "2022-12-13T16:55:30.642Z"
   },
   {
    "duration": 7,
    "start_time": "2022-12-13T16:55:31.770Z"
   },
   {
    "duration": 939,
    "start_time": "2022-12-13T16:56:25.665Z"
   },
   {
    "duration": 56,
    "start_time": "2022-12-13T16:56:26.606Z"
   },
   {
    "duration": 26,
    "start_time": "2022-12-13T16:56:26.664Z"
   },
   {
    "duration": 22,
    "start_time": "2022-12-13T16:56:26.692Z"
   },
   {
    "duration": 3,
    "start_time": "2022-12-13T16:56:26.718Z"
   },
   {
    "duration": 40,
    "start_time": "2022-12-13T16:56:26.723Z"
   },
   {
    "duration": 15,
    "start_time": "2022-12-13T16:56:26.765Z"
   },
   {
    "duration": 24,
    "start_time": "2022-12-13T16:56:26.782Z"
   },
   {
    "duration": 18,
    "start_time": "2022-12-13T16:56:26.808Z"
   },
   {
    "duration": 12,
    "start_time": "2022-12-13T16:56:26.829Z"
   },
   {
    "duration": 16,
    "start_time": "2022-12-13T16:56:26.843Z"
   },
   {
    "duration": 19,
    "start_time": "2022-12-13T16:56:26.861Z"
   },
   {
    "duration": 45,
    "start_time": "2022-12-15T12:24:42.257Z"
   },
   {
    "duration": 840,
    "start_time": "2022-12-15T12:24:47.832Z"
   },
   {
    "duration": 196,
    "start_time": "2022-12-15T12:24:48.673Z"
   },
   {
    "duration": 23,
    "start_time": "2022-12-15T12:24:48.871Z"
   },
   {
    "duration": 14,
    "start_time": "2022-12-15T12:24:48.896Z"
   },
   {
    "duration": 3,
    "start_time": "2022-12-15T12:24:48.911Z"
   },
   {
    "duration": 22,
    "start_time": "2022-12-15T12:24:48.915Z"
   },
   {
    "duration": 15,
    "start_time": "2022-12-15T12:24:48.938Z"
   },
   {
    "duration": 16,
    "start_time": "2022-12-15T12:24:48.954Z"
   },
   {
    "duration": 7,
    "start_time": "2022-12-15T12:24:48.971Z"
   },
   {
    "duration": 9,
    "start_time": "2022-12-15T12:24:48.980Z"
   },
   {
    "duration": 5,
    "start_time": "2022-12-15T12:24:48.990Z"
   },
   {
    "duration": 575,
    "start_time": "2022-12-15T12:24:48.997Z"
   },
   {
    "duration": 6,
    "start_time": "2022-12-15T12:25:10.994Z"
   },
   {
    "duration": 133,
    "start_time": "2022-12-15T12:25:46.213Z"
   },
   {
    "duration": 201,
    "start_time": "2022-12-15T12:33:27.201Z"
   },
   {
    "duration": 126,
    "start_time": "2022-12-15T12:33:45.528Z"
   },
   {
    "duration": 8,
    "start_time": "2022-12-15T12:40:22.481Z"
   },
   {
    "duration": 6,
    "start_time": "2022-12-15T12:41:06.944Z"
   },
   {
    "duration": 1158,
    "start_time": "2022-12-15T12:43:23.360Z"
   },
   {
    "duration": 11,
    "start_time": "2022-12-15T12:43:40.275Z"
   },
   {
    "duration": 19,
    "start_time": "2022-12-15T12:44:00.936Z"
   },
   {
    "duration": 12,
    "start_time": "2022-12-15T12:44:39.783Z"
   },
   {
    "duration": 8,
    "start_time": "2022-12-15T12:55:41.279Z"
   },
   {
    "duration": 20,
    "start_time": "2022-12-15T13:02:09.266Z"
   },
   {
    "duration": 20,
    "start_time": "2022-12-15T13:05:21.576Z"
   },
   {
    "duration": 8,
    "start_time": "2022-12-15T13:34:46.260Z"
   },
   {
    "duration": 10,
    "start_time": "2022-12-15T13:34:54.341Z"
   },
   {
    "duration": 11,
    "start_time": "2022-12-15T13:35:13.374Z"
   },
   {
    "duration": 111,
    "start_time": "2022-12-15T13:35:28.368Z"
   },
   {
    "duration": 109,
    "start_time": "2022-12-15T13:35:55.335Z"
   },
   {
    "duration": 17,
    "start_time": "2022-12-15T13:37:42.054Z"
   },
   {
    "duration": 14,
    "start_time": "2022-12-15T13:37:51.798Z"
   },
   {
    "duration": 1125,
    "start_time": "2022-12-15T13:38:22.353Z"
   },
   {
    "duration": 52,
    "start_time": "2022-12-15T13:38:23.480Z"
   },
   {
    "duration": 20,
    "start_time": "2022-12-15T13:38:23.534Z"
   },
   {
    "duration": 13,
    "start_time": "2022-12-15T13:38:23.556Z"
   },
   {
    "duration": 3,
    "start_time": "2022-12-15T13:38:23.571Z"
   },
   {
    "duration": 22,
    "start_time": "2022-12-15T13:38:23.575Z"
   },
   {
    "duration": 10,
    "start_time": "2022-12-15T13:38:23.598Z"
   },
   {
    "duration": 17,
    "start_time": "2022-12-15T13:38:23.609Z"
   },
   {
    "duration": 24,
    "start_time": "2022-12-15T13:38:23.628Z"
   },
   {
    "duration": 5,
    "start_time": "2022-12-15T13:38:23.655Z"
   },
   {
    "duration": 15,
    "start_time": "2022-12-15T13:38:23.662Z"
   },
   {
    "duration": 9,
    "start_time": "2022-12-15T13:38:23.678Z"
   },
   {
    "duration": 152,
    "start_time": "2022-12-15T13:38:23.688Z"
   },
   {
    "duration": 14,
    "start_time": "2022-12-15T13:38:23.851Z"
   },
   {
    "duration": 120,
    "start_time": "2022-12-15T13:38:23.867Z"
   },
   {
    "duration": 12,
    "start_time": "2022-12-15T13:38:37.840Z"
   },
   {
    "duration": 12,
    "start_time": "2022-12-15T13:39:05.918Z"
   },
   {
    "duration": 14,
    "start_time": "2022-12-15T13:39:18.110Z"
   },
   {
    "duration": 136,
    "start_time": "2022-12-15T13:39:24.477Z"
   },
   {
    "duration": 11,
    "start_time": "2022-12-15T13:40:00.407Z"
   },
   {
    "duration": 12,
    "start_time": "2022-12-15T13:48:54.929Z"
   },
   {
    "duration": 13,
    "start_time": "2022-12-15T13:49:04.720Z"
   },
   {
    "duration": 17,
    "start_time": "2022-12-15T13:49:41.095Z"
   },
   {
    "duration": 15,
    "start_time": "2022-12-15T13:49:56.324Z"
   },
   {
    "duration": 55,
    "start_time": "2022-12-15T13:50:05.402Z"
   },
   {
    "duration": 1125,
    "start_time": "2022-12-15T13:53:35.849Z"
   },
   {
    "duration": 62,
    "start_time": "2022-12-15T13:53:36.977Z"
   },
   {
    "duration": 21,
    "start_time": "2022-12-15T13:53:37.040Z"
   },
   {
    "duration": 14,
    "start_time": "2022-12-15T13:53:37.063Z"
   },
   {
    "duration": 3,
    "start_time": "2022-12-15T13:53:37.079Z"
   },
   {
    "duration": 19,
    "start_time": "2022-12-15T13:53:37.083Z"
   },
   {
    "duration": 8,
    "start_time": "2022-12-15T13:53:37.103Z"
   },
   {
    "duration": 13,
    "start_time": "2022-12-15T13:53:37.113Z"
   },
   {
    "duration": 30,
    "start_time": "2022-12-15T13:53:37.128Z"
   },
   {
    "duration": 9,
    "start_time": "2022-12-15T13:53:37.160Z"
   },
   {
    "duration": 14,
    "start_time": "2022-12-15T13:53:37.171Z"
   },
   {
    "duration": 7,
    "start_time": "2022-12-15T13:53:37.187Z"
   },
   {
    "duration": 160,
    "start_time": "2022-12-15T13:53:37.196Z"
   },
   {
    "duration": 13,
    "start_time": "2022-12-15T13:53:37.357Z"
   },
   {
    "duration": 55,
    "start_time": "2022-12-15T13:53:37.372Z"
   },
   {
    "duration": 256,
    "start_time": "2022-12-15T13:53:37.429Z"
   },
   {
    "duration": 3,
    "start_time": "2022-12-15T13:54:45.348Z"
   },
   {
    "duration": 256,
    "start_time": "2022-12-15T13:54:51.849Z"
   },
   {
    "duration": 21,
    "start_time": "2022-12-15T13:55:34.571Z"
   },
   {
    "duration": 12,
    "start_time": "2022-12-15T13:55:53.074Z"
   },
   {
    "duration": 13,
    "start_time": "2022-12-15T13:56:11.946Z"
   },
   {
    "duration": 111,
    "start_time": "2022-12-15T13:56:37.858Z"
   },
   {
    "duration": 25,
    "start_time": "2022-12-15T13:59:20.819Z"
   },
   {
    "duration": 24,
    "start_time": "2022-12-15T13:59:30.540Z"
   },
   {
    "duration": 9,
    "start_time": "2022-12-15T14:00:06.723Z"
   },
   {
    "duration": 14,
    "start_time": "2022-12-15T14:00:22.819Z"
   },
   {
    "duration": 5,
    "start_time": "2022-12-15T14:00:48.039Z"
   },
   {
    "duration": 13,
    "start_time": "2022-12-15T14:01:04.387Z"
   },
   {
    "duration": 15,
    "start_time": "2022-12-15T14:01:29.539Z"
   },
   {
    "duration": 13,
    "start_time": "2022-12-15T14:01:46.571Z"
   },
   {
    "duration": 22,
    "start_time": "2022-12-15T14:02:02.787Z"
   },
   {
    "duration": 8,
    "start_time": "2022-12-15T14:02:11.726Z"
   },
   {
    "duration": 53,
    "start_time": "2022-12-15T14:02:36.683Z"
   },
   {
    "duration": 11,
    "start_time": "2022-12-15T14:03:02.277Z"
   },
   {
    "duration": 17,
    "start_time": "2022-12-15T14:03:50.628Z"
   },
   {
    "duration": 9,
    "start_time": "2022-12-15T14:05:11.605Z"
   },
   {
    "duration": 15,
    "start_time": "2022-12-15T14:05:17.955Z"
   },
   {
    "duration": 15,
    "start_time": "2022-12-15T14:05:30.157Z"
   },
   {
    "duration": 16,
    "start_time": "2022-12-15T14:18:43.679Z"
   },
   {
    "duration": 16,
    "start_time": "2022-12-15T14:19:01.103Z"
   },
   {
    "duration": 15,
    "start_time": "2022-12-15T14:19:26.190Z"
   },
   {
    "duration": 11,
    "start_time": "2022-12-15T14:19:34.854Z"
   },
   {
    "duration": 18,
    "start_time": "2022-12-15T14:19:43.655Z"
   },
   {
    "duration": 1210,
    "start_time": "2022-12-15T14:20:44.738Z"
   },
   {
    "duration": 18,
    "start_time": "2022-12-15T14:21:50.249Z"
   },
   {
    "duration": 17,
    "start_time": "2022-12-15T14:22:27.648Z"
   },
   {
    "duration": 144,
    "start_time": "2022-12-15T14:22:33.352Z"
   },
   {
    "duration": 275,
    "start_time": "2022-12-15T14:22:47.513Z"
   },
   {
    "duration": 95,
    "start_time": "2022-12-15T14:24:25.261Z"
   },
   {
    "duration": 13,
    "start_time": "2022-12-15T14:24:29.815Z"
   },
   {
    "duration": 29,
    "start_time": "2022-12-15T14:26:27.561Z"
   },
   {
    "duration": 305,
    "start_time": "2022-12-15T14:27:04.210Z"
   },
   {
    "duration": 300,
    "start_time": "2022-12-15T14:27:31.680Z"
   },
   {
    "duration": 396,
    "start_time": "2022-12-15T14:29:09.153Z"
   },
   {
    "duration": 313,
    "start_time": "2022-12-15T14:30:52.034Z"
   },
   {
    "duration": 328,
    "start_time": "2022-12-15T14:30:58.713Z"
   },
   {
    "duration": 354,
    "start_time": "2022-12-15T14:31:17.906Z"
   },
   {
    "duration": 336,
    "start_time": "2022-12-15T14:31:34.348Z"
   },
   {
    "duration": 426,
    "start_time": "2022-12-15T14:31:40.593Z"
   },
   {
    "duration": 382,
    "start_time": "2022-12-15T14:31:46.746Z"
   },
   {
    "duration": 321,
    "start_time": "2022-12-15T14:31:55.409Z"
   },
   {
    "duration": 336,
    "start_time": "2022-12-15T14:32:03.138Z"
   },
   {
    "duration": 325,
    "start_time": "2022-12-15T14:32:11.673Z"
   },
   {
    "duration": 70,
    "start_time": "2022-12-15T14:33:02.258Z"
   },
   {
    "duration": 75,
    "start_time": "2022-12-15T14:33:19.417Z"
   },
   {
    "duration": 4,
    "start_time": "2022-12-15T14:33:35.442Z"
   },
   {
    "duration": 324,
    "start_time": "2022-12-15T14:33:55.801Z"
   },
   {
    "duration": 10,
    "start_time": "2022-12-15T14:49:08.272Z"
   },
   {
    "duration": 17,
    "start_time": "2022-12-15T14:49:27.726Z"
   },
   {
    "duration": 189,
    "start_time": "2022-12-15T14:49:48.671Z"
   },
   {
    "duration": 189,
    "start_time": "2022-12-15T14:49:58.981Z"
   },
   {
    "duration": 1839,
    "start_time": "2022-12-15T14:50:38.998Z"
   },
   {
    "duration": 1154,
    "start_time": "2022-12-15T14:51:20.126Z"
   },
   {
    "duration": 52,
    "start_time": "2022-12-15T14:51:21.282Z"
   },
   {
    "duration": 20,
    "start_time": "2022-12-15T14:51:21.336Z"
   },
   {
    "duration": 13,
    "start_time": "2022-12-15T14:51:21.358Z"
   },
   {
    "duration": 2,
    "start_time": "2022-12-15T14:51:21.373Z"
   },
   {
    "duration": 27,
    "start_time": "2022-12-15T14:51:21.377Z"
   },
   {
    "duration": 8,
    "start_time": "2022-12-15T14:51:21.406Z"
   },
   {
    "duration": 15,
    "start_time": "2022-12-15T14:51:21.416Z"
   },
   {
    "duration": 20,
    "start_time": "2022-12-15T14:51:21.432Z"
   },
   {
    "duration": 5,
    "start_time": "2022-12-15T14:51:21.454Z"
   },
   {
    "duration": 7,
    "start_time": "2022-12-15T14:51:21.460Z"
   },
   {
    "duration": 13,
    "start_time": "2022-12-15T14:51:21.469Z"
   },
   {
    "duration": 344,
    "start_time": "2022-12-15T14:51:21.483Z"
   },
   {
    "duration": 12,
    "start_time": "2022-12-15T14:51:21.829Z"
   },
   {
    "duration": 285,
    "start_time": "2022-12-15T14:51:21.842Z"
   },
   {
    "duration": 99,
    "start_time": "2022-12-15T14:51:22.129Z"
   },
   {
    "duration": 20,
    "start_time": "2022-12-15T14:52:28.590Z"
   },
   {
    "duration": 24,
    "start_time": "2022-12-15T14:52:40.542Z"
   },
   {
    "duration": 10,
    "start_time": "2022-12-15T14:52:54.526Z"
   },
   {
    "duration": 289,
    "start_time": "2022-12-15T14:52:55.193Z"
   },
   {
    "duration": 21,
    "start_time": "2022-12-15T14:52:56.566Z"
   },
   {
    "duration": 23,
    "start_time": "2022-12-15T14:53:01.077Z"
   },
   {
    "duration": 10,
    "start_time": "2022-12-15T14:53:50.974Z"
   },
   {
    "duration": 8,
    "start_time": "2022-12-15T14:54:03.572Z"
   },
   {
    "duration": 12,
    "start_time": "2022-12-15T14:54:35.361Z"
   },
   {
    "duration": 280,
    "start_time": "2022-12-15T14:54:37.251Z"
   },
   {
    "duration": 9,
    "start_time": "2022-12-15T14:54:44.691Z"
   },
   {
    "duration": 9,
    "start_time": "2022-12-15T14:55:41.535Z"
   },
   {
    "duration": 70,
    "start_time": "2022-12-15T14:55:42.680Z"
   },
   {
    "duration": 21,
    "start_time": "2022-12-15T14:55:54.311Z"
   },
   {
    "duration": 87,
    "start_time": "2022-12-15T14:55:55.015Z"
   },
   {
    "duration": 1813,
    "start_time": "2022-12-15T14:56:09.999Z"
   },
   {
    "duration": 193,
    "start_time": "2022-12-15T14:56:38.270Z"
   },
   {
    "duration": 1150,
    "start_time": "2022-12-15T14:57:08.677Z"
   },
   {
    "duration": 51,
    "start_time": "2022-12-15T14:57:09.829Z"
   },
   {
    "duration": 21,
    "start_time": "2022-12-15T14:57:09.882Z"
   },
   {
    "duration": 41,
    "start_time": "2022-12-15T14:57:09.904Z"
   },
   {
    "duration": 12,
    "start_time": "2022-12-15T14:57:09.948Z"
   },
   {
    "duration": 35,
    "start_time": "2022-12-15T14:57:09.962Z"
   },
   {
    "duration": 19,
    "start_time": "2022-12-15T14:57:09.998Z"
   },
   {
    "duration": 27,
    "start_time": "2022-12-15T14:57:10.018Z"
   },
   {
    "duration": 20,
    "start_time": "2022-12-15T14:57:10.046Z"
   },
   {
    "duration": 22,
    "start_time": "2022-12-15T14:57:10.068Z"
   },
   {
    "duration": 32,
    "start_time": "2022-12-15T14:57:10.091Z"
   },
   {
    "duration": 11,
    "start_time": "2022-12-15T14:57:10.125Z"
   },
   {
    "duration": 350,
    "start_time": "2022-12-15T14:57:10.138Z"
   },
   {
    "duration": 12,
    "start_time": "2022-12-15T14:57:10.490Z"
   },
   {
    "duration": 292,
    "start_time": "2022-12-15T14:57:10.504Z"
   },
   {
    "duration": 17,
    "start_time": "2022-12-15T14:57:10.797Z"
   },
   {
    "duration": 1881,
    "start_time": "2022-12-15T14:57:10.816Z"
   },
   {
    "duration": 19,
    "start_time": "2022-12-15T14:58:46.688Z"
   },
   {
    "duration": 12,
    "start_time": "2022-12-15T14:59:07.171Z"
   },
   {
    "duration": 14,
    "start_time": "2022-12-15T14:59:25.601Z"
   },
   {
    "duration": 11,
    "start_time": "2022-12-15T14:59:36.488Z"
   },
   {
    "duration": 11,
    "start_time": "2022-12-15T15:00:02.987Z"
   },
   {
    "duration": 15,
    "start_time": "2022-12-15T15:00:23.800Z"
   },
   {
    "duration": 16,
    "start_time": "2022-12-15T15:00:40.178Z"
   },
   {
    "duration": 16,
    "start_time": "2022-12-15T15:01:28.888Z"
   },
   {
    "duration": 280,
    "start_time": "2022-12-15T15:01:38.280Z"
   },
   {
    "duration": 6,
    "start_time": "2022-12-15T15:01:51.503Z"
   },
   {
    "duration": 4,
    "start_time": "2022-12-15T15:02:36.152Z"
   },
   {
    "duration": 1722,
    "start_time": "2022-12-15T15:02:36.696Z"
   },
   {
    "duration": 3,
    "start_time": "2022-12-15T15:03:16.960Z"
   },
   {
    "duration": 1836,
    "start_time": "2022-12-15T15:03:18.784Z"
   },
   {
    "duration": 112,
    "start_time": "2022-12-15T15:03:51.857Z"
   },
   {
    "duration": 5,
    "start_time": "2022-12-15T15:04:35.074Z"
   },
   {
    "duration": 20,
    "start_time": "2022-12-15T15:04:35.530Z"
   },
   {
    "duration": 1818,
    "start_time": "2022-12-15T15:04:48.929Z"
   },
   {
    "duration": 10,
    "start_time": "2022-12-15T15:04:58.945Z"
   },
   {
    "duration": 1891,
    "start_time": "2022-12-15T15:04:59.456Z"
   },
   {
    "duration": 10,
    "start_time": "2022-12-15T15:05:20.385Z"
   },
   {
    "duration": 1736,
    "start_time": "2022-12-15T15:05:21.664Z"
   },
   {
    "duration": 4,
    "start_time": "2022-12-15T15:05:53.009Z"
   },
   {
    "duration": 5,
    "start_time": "2022-12-15T15:06:19.082Z"
   },
   {
    "duration": 1821,
    "start_time": "2022-12-15T15:06:19.654Z"
   },
   {
    "duration": 1072,
    "start_time": "2022-12-15T15:06:26.710Z"
   },
   {
    "duration": 52,
    "start_time": "2022-12-15T15:06:27.784Z"
   },
   {
    "duration": 22,
    "start_time": "2022-12-15T15:06:27.838Z"
   },
   {
    "duration": 14,
    "start_time": "2022-12-15T15:06:27.862Z"
   },
   {
    "duration": 3,
    "start_time": "2022-12-15T15:06:27.878Z"
   },
   {
    "duration": 20,
    "start_time": "2022-12-15T15:06:27.882Z"
   },
   {
    "duration": 8,
    "start_time": "2022-12-15T15:06:27.903Z"
   },
   {
    "duration": 13,
    "start_time": "2022-12-15T15:06:27.913Z"
   },
   {
    "duration": 8,
    "start_time": "2022-12-15T15:06:27.952Z"
   },
   {
    "duration": 10,
    "start_time": "2022-12-15T15:06:27.962Z"
   },
   {
    "duration": 8,
    "start_time": "2022-12-15T15:06:27.973Z"
   },
   {
    "duration": 7,
    "start_time": "2022-12-15T15:06:27.982Z"
   },
   {
    "duration": 360,
    "start_time": "2022-12-15T15:06:27.991Z"
   },
   {
    "duration": 16,
    "start_time": "2022-12-15T15:06:28.353Z"
   },
   {
    "duration": 278,
    "start_time": "2022-12-15T15:06:28.371Z"
   },
   {
    "duration": 3,
    "start_time": "2022-12-15T15:06:28.651Z"
   },
   {
    "duration": 12,
    "start_time": "2022-12-15T15:06:28.655Z"
   },
   {
    "duration": 1830,
    "start_time": "2022-12-15T15:06:28.669Z"
   },
   {
    "duration": 10,
    "start_time": "2022-12-15T15:08:23.554Z"
   },
   {
    "duration": 17,
    "start_time": "2022-12-15T15:08:49.915Z"
   },
   {
    "duration": 4,
    "start_time": "2022-12-15T15:09:47.011Z"
   },
   {
    "duration": 121,
    "start_time": "2022-12-15T15:09:47.714Z"
   },
   {
    "duration": 3,
    "start_time": "2022-12-15T15:10:10.834Z"
   },
   {
    "duration": 19,
    "start_time": "2022-12-15T15:10:11.610Z"
   },
   {
    "duration": 1107,
    "start_time": "2022-12-15T15:10:18.668Z"
   },
   {
    "duration": 51,
    "start_time": "2022-12-15T15:10:19.778Z"
   },
   {
    "duration": 21,
    "start_time": "2022-12-15T15:10:19.831Z"
   },
   {
    "duration": 14,
    "start_time": "2022-12-15T15:10:19.854Z"
   },
   {
    "duration": 4,
    "start_time": "2022-12-15T15:10:19.870Z"
   },
   {
    "duration": 26,
    "start_time": "2022-12-15T15:10:19.875Z"
   },
   {
    "duration": 8,
    "start_time": "2022-12-15T15:10:19.904Z"
   },
   {
    "duration": 24,
    "start_time": "2022-12-15T15:10:19.914Z"
   },
   {
    "duration": 18,
    "start_time": "2022-12-15T15:10:19.940Z"
   },
   {
    "duration": 6,
    "start_time": "2022-12-15T15:10:19.960Z"
   },
   {
    "duration": 6,
    "start_time": "2022-12-15T15:10:19.967Z"
   },
   {
    "duration": 10,
    "start_time": "2022-12-15T15:10:19.974Z"
   },
   {
    "duration": 365,
    "start_time": "2022-12-15T15:10:19.985Z"
   },
   {
    "duration": 18,
    "start_time": "2022-12-15T15:10:20.352Z"
   },
   {
    "duration": 282,
    "start_time": "2022-12-15T15:10:20.371Z"
   },
   {
    "duration": 2,
    "start_time": "2022-12-15T15:10:20.656Z"
   },
   {
    "duration": 19,
    "start_time": "2022-12-15T15:10:20.660Z"
   },
   {
    "duration": 113,
    "start_time": "2022-12-15T15:10:20.681Z"
   },
   {
    "duration": 3,
    "start_time": "2022-12-15T15:12:08.778Z"
   },
   {
    "duration": 1838,
    "start_time": "2022-12-15T15:12:09.458Z"
   },
   {
    "duration": 8,
    "start_time": "2022-12-15T15:12:26.109Z"
   },
   {
    "duration": 8,
    "start_time": "2022-12-15T15:12:53.258Z"
   },
   {
    "duration": 1714,
    "start_time": "2022-12-15T15:12:58.356Z"
   },
   {
    "duration": 9,
    "start_time": "2022-12-15T15:13:28.517Z"
   },
   {
    "duration": 9,
    "start_time": "2022-12-15T15:13:34.804Z"
   },
   {
    "duration": 1117,
    "start_time": "2022-12-15T15:13:42.267Z"
   },
   {
    "duration": 55,
    "start_time": "2022-12-15T15:13:43.387Z"
   },
   {
    "duration": 23,
    "start_time": "2022-12-15T15:13:43.444Z"
   },
   {
    "duration": 14,
    "start_time": "2022-12-15T15:13:43.468Z"
   },
   {
    "duration": 9,
    "start_time": "2022-12-15T15:13:43.484Z"
   },
   {
    "duration": 24,
    "start_time": "2022-12-15T15:13:43.495Z"
   },
   {
    "duration": 9,
    "start_time": "2022-12-15T15:13:43.520Z"
   },
   {
    "duration": 30,
    "start_time": "2022-12-15T15:13:43.531Z"
   },
   {
    "duration": 9,
    "start_time": "2022-12-15T15:13:43.563Z"
   },
   {
    "duration": 5,
    "start_time": "2022-12-15T15:13:43.574Z"
   },
   {
    "duration": 5,
    "start_time": "2022-12-15T15:13:43.581Z"
   },
   {
    "duration": 7,
    "start_time": "2022-12-15T15:13:43.588Z"
   },
   {
    "duration": 403,
    "start_time": "2022-12-15T15:13:43.597Z"
   },
   {
    "duration": 19,
    "start_time": "2022-12-15T15:13:44.003Z"
   },
   {
    "duration": 332,
    "start_time": "2022-12-15T15:13:44.024Z"
   },
   {
    "duration": 5,
    "start_time": "2022-12-15T15:13:44.358Z"
   },
   {
    "duration": 9,
    "start_time": "2022-12-15T15:13:44.364Z"
   },
   {
    "duration": 1962,
    "start_time": "2022-12-15T15:13:44.375Z"
   },
   {
    "duration": 90,
    "start_time": "2022-12-15T15:26:07.309Z"
   },
   {
    "duration": 2,
    "start_time": "2022-12-15T15:27:11.317Z"
   },
   {
    "duration": 1767,
    "start_time": "2022-12-15T15:27:11.847Z"
   },
   {
    "duration": 1108,
    "start_time": "2022-12-15T15:27:19.966Z"
   },
   {
    "duration": 51,
    "start_time": "2022-12-15T15:27:21.076Z"
   },
   {
    "duration": 21,
    "start_time": "2022-12-15T15:27:21.129Z"
   },
   {
    "duration": 13,
    "start_time": "2022-12-15T15:27:21.152Z"
   },
   {
    "duration": 3,
    "start_time": "2022-12-15T15:27:21.167Z"
   },
   {
    "duration": 23,
    "start_time": "2022-12-15T15:27:21.171Z"
   },
   {
    "duration": 8,
    "start_time": "2022-12-15T15:27:21.196Z"
   },
   {
    "duration": 34,
    "start_time": "2022-12-15T15:27:21.206Z"
   },
   {
    "duration": 11,
    "start_time": "2022-12-15T15:27:21.242Z"
   },
   {
    "duration": 7,
    "start_time": "2022-12-15T15:27:21.255Z"
   },
   {
    "duration": 7,
    "start_time": "2022-12-15T15:27:21.264Z"
   },
   {
    "duration": 11,
    "start_time": "2022-12-15T15:27:21.272Z"
   },
   {
    "duration": 365,
    "start_time": "2022-12-15T15:27:21.284Z"
   },
   {
    "duration": 17,
    "start_time": "2022-12-15T15:27:21.651Z"
   },
   {
    "duration": 284,
    "start_time": "2022-12-15T15:27:21.670Z"
   },
   {
    "duration": 2,
    "start_time": "2022-12-15T15:27:21.955Z"
   },
   {
    "duration": 8,
    "start_time": "2022-12-15T15:27:21.959Z"
   },
   {
    "duration": 124,
    "start_time": "2022-12-15T15:27:21.968Z"
   },
   {
    "duration": 4,
    "start_time": "2022-12-15T15:27:45.462Z"
   },
   {
    "duration": 1828,
    "start_time": "2022-12-15T15:27:46.134Z"
   },
   {
    "duration": 8,
    "start_time": "2022-12-15T15:29:36.136Z"
   },
   {
    "duration": 9,
    "start_time": "2022-12-15T15:29:49.999Z"
   },
   {
    "duration": 9,
    "start_time": "2022-12-15T15:30:06.535Z"
   },
   {
    "duration": 8,
    "start_time": "2022-12-15T15:30:17.398Z"
   },
   {
    "duration": 1135,
    "start_time": "2022-12-15T15:30:35.828Z"
   },
   {
    "duration": 51,
    "start_time": "2022-12-15T15:30:36.964Z"
   },
   {
    "duration": 38,
    "start_time": "2022-12-15T15:30:37.020Z"
   },
   {
    "duration": 15,
    "start_time": "2022-12-15T15:30:37.060Z"
   },
   {
    "duration": 6,
    "start_time": "2022-12-15T15:30:37.077Z"
   },
   {
    "duration": 28,
    "start_time": "2022-12-15T15:30:37.085Z"
   },
   {
    "duration": 11,
    "start_time": "2022-12-15T15:30:37.115Z"
   },
   {
    "duration": 26,
    "start_time": "2022-12-15T15:30:37.127Z"
   },
   {
    "duration": 8,
    "start_time": "2022-12-15T15:30:37.156Z"
   },
   {
    "duration": 10,
    "start_time": "2022-12-15T15:30:37.166Z"
   },
   {
    "duration": 26,
    "start_time": "2022-12-15T15:30:37.177Z"
   },
   {
    "duration": 23,
    "start_time": "2022-12-15T15:30:37.205Z"
   },
   {
    "duration": 341,
    "start_time": "2022-12-15T15:30:37.229Z"
   },
   {
    "duration": 17,
    "start_time": "2022-12-15T15:30:37.571Z"
   },
   {
    "duration": 273,
    "start_time": "2022-12-15T15:30:37.589Z"
   },
   {
    "duration": 3,
    "start_time": "2022-12-15T15:30:37.863Z"
   },
   {
    "duration": 113,
    "start_time": "2022-12-15T15:30:37.867Z"
   },
   {
    "duration": 5,
    "start_time": "2022-12-15T15:31:46.828Z"
   },
   {
    "duration": 1873,
    "start_time": "2022-12-15T15:31:47.283Z"
   },
   {
    "duration": 8,
    "start_time": "2022-12-15T15:32:00.327Z"
   },
   {
    "duration": 1799,
    "start_time": "2022-12-15T15:32:00.920Z"
   },
   {
    "duration": 10,
    "start_time": "2022-12-15T15:32:09.638Z"
   },
   {
    "duration": 1857,
    "start_time": "2022-12-15T15:32:10.318Z"
   },
   {
    "duration": 1134,
    "start_time": "2022-12-15T15:33:28.542Z"
   },
   {
    "duration": 53,
    "start_time": "2022-12-15T15:33:29.678Z"
   },
   {
    "duration": 20,
    "start_time": "2022-12-15T15:33:29.732Z"
   },
   {
    "duration": 13,
    "start_time": "2022-12-15T15:33:29.754Z"
   },
   {
    "duration": 3,
    "start_time": "2022-12-15T15:33:29.769Z"
   },
   {
    "duration": 27,
    "start_time": "2022-12-15T15:33:29.774Z"
   },
   {
    "duration": 10,
    "start_time": "2022-12-15T15:33:29.803Z"
   },
   {
    "duration": 16,
    "start_time": "2022-12-15T15:33:29.815Z"
   },
   {
    "duration": 24,
    "start_time": "2022-12-15T15:33:29.833Z"
   },
   {
    "duration": 11,
    "start_time": "2022-12-15T15:33:29.859Z"
   },
   {
    "duration": 6,
    "start_time": "2022-12-15T15:33:29.872Z"
   },
   {
    "duration": 8,
    "start_time": "2022-12-15T15:33:29.880Z"
   },
   {
    "duration": 385,
    "start_time": "2022-12-15T15:33:29.890Z"
   },
   {
    "duration": 19,
    "start_time": "2022-12-15T15:33:30.277Z"
   },
   {
    "duration": 283,
    "start_time": "2022-12-15T15:33:30.298Z"
   },
   {
    "duration": 2,
    "start_time": "2022-12-15T15:33:30.584Z"
   },
   {
    "duration": 46,
    "start_time": "2022-12-15T15:33:30.588Z"
   },
   {
    "duration": 107,
    "start_time": "2022-12-15T15:33:30.636Z"
   },
   {
    "duration": 3,
    "start_time": "2022-12-15T15:34:06.784Z"
   },
   {
    "duration": 1827,
    "start_time": "2022-12-15T15:34:07.735Z"
   },
   {
    "duration": 10,
    "start_time": "2022-12-15T15:34:43.182Z"
   },
   {
    "duration": 1104,
    "start_time": "2022-12-15T15:34:49.476Z"
   },
   {
    "duration": 52,
    "start_time": "2022-12-15T15:34:50.582Z"
   },
   {
    "duration": 20,
    "start_time": "2022-12-15T15:34:50.636Z"
   },
   {
    "duration": 16,
    "start_time": "2022-12-15T15:34:50.658Z"
   },
   {
    "duration": 3,
    "start_time": "2022-12-15T15:34:50.676Z"
   },
   {
    "duration": 18,
    "start_time": "2022-12-15T15:34:50.680Z"
   },
   {
    "duration": 12,
    "start_time": "2022-12-15T15:34:50.699Z"
   },
   {
    "duration": 14,
    "start_time": "2022-12-15T15:34:50.712Z"
   },
   {
    "duration": 25,
    "start_time": "2022-12-15T15:34:50.727Z"
   },
   {
    "duration": 7,
    "start_time": "2022-12-15T15:34:50.754Z"
   },
   {
    "duration": 5,
    "start_time": "2022-12-15T15:34:50.762Z"
   },
   {
    "duration": 7,
    "start_time": "2022-12-15T15:34:50.769Z"
   },
   {
    "duration": 359,
    "start_time": "2022-12-15T15:34:50.778Z"
   },
   {
    "duration": 24,
    "start_time": "2022-12-15T15:34:51.139Z"
   },
   {
    "duration": 312,
    "start_time": "2022-12-15T15:34:51.164Z"
   },
   {
    "duration": 3,
    "start_time": "2022-12-15T15:34:51.478Z"
   },
   {
    "duration": 17,
    "start_time": "2022-12-15T15:34:51.482Z"
   },
   {
    "duration": 1988,
    "start_time": "2022-12-15T15:34:51.501Z"
   },
   {
    "duration": 92,
    "start_time": "2022-12-15T15:35:30.079Z"
   },
   {
    "duration": 1082,
    "start_time": "2022-12-15T15:35:34.688Z"
   },
   {
    "duration": 52,
    "start_time": "2022-12-15T15:35:35.772Z"
   },
   {
    "duration": 21,
    "start_time": "2022-12-15T15:35:35.826Z"
   },
   {
    "duration": 18,
    "start_time": "2022-12-15T15:35:35.849Z"
   },
   {
    "duration": 4,
    "start_time": "2022-12-15T15:35:35.868Z"
   },
   {
    "duration": 18,
    "start_time": "2022-12-15T15:35:35.873Z"
   },
   {
    "duration": 8,
    "start_time": "2022-12-15T15:35:35.893Z"
   },
   {
    "duration": 14,
    "start_time": "2022-12-15T15:35:35.902Z"
   },
   {
    "duration": 6,
    "start_time": "2022-12-15T15:35:35.918Z"
   },
   {
    "duration": 29,
    "start_time": "2022-12-15T15:35:35.926Z"
   },
   {
    "duration": 5,
    "start_time": "2022-12-15T15:35:35.956Z"
   },
   {
    "duration": 7,
    "start_time": "2022-12-15T15:35:35.963Z"
   },
   {
    "duration": 363,
    "start_time": "2022-12-15T15:35:35.972Z"
   },
   {
    "duration": 25,
    "start_time": "2022-12-15T15:35:36.337Z"
   },
   {
    "duration": 278,
    "start_time": "2022-12-15T15:35:36.364Z"
   },
   {
    "duration": 2,
    "start_time": "2022-12-15T15:35:36.644Z"
   },
   {
    "duration": 10,
    "start_time": "2022-12-15T15:35:36.651Z"
   },
   {
    "duration": 1866,
    "start_time": "2022-12-15T15:35:36.663Z"
   },
   {
    "duration": 1080,
    "start_time": "2022-12-15T15:37:29.893Z"
   },
   {
    "duration": 54,
    "start_time": "2022-12-15T15:37:30.975Z"
   },
   {
    "duration": 20,
    "start_time": "2022-12-15T15:37:31.031Z"
   },
   {
    "duration": 23,
    "start_time": "2022-12-15T15:37:31.053Z"
   },
   {
    "duration": 14,
    "start_time": "2022-12-15T15:37:31.078Z"
   },
   {
    "duration": 19,
    "start_time": "2022-12-15T15:37:31.094Z"
   },
   {
    "duration": 10,
    "start_time": "2022-12-15T15:37:31.115Z"
   },
   {
    "duration": 24,
    "start_time": "2022-12-15T15:37:31.127Z"
   },
   {
    "duration": 20,
    "start_time": "2022-12-15T15:37:31.153Z"
   },
   {
    "duration": 10,
    "start_time": "2022-12-15T15:37:31.175Z"
   },
   {
    "duration": 14,
    "start_time": "2022-12-15T15:37:31.187Z"
   },
   {
    "duration": 22,
    "start_time": "2022-12-15T15:37:31.203Z"
   },
   {
    "duration": 334,
    "start_time": "2022-12-15T15:37:31.227Z"
   },
   {
    "duration": 17,
    "start_time": "2022-12-15T15:37:31.563Z"
   },
   {
    "duration": 285,
    "start_time": "2022-12-15T15:37:31.581Z"
   },
   {
    "duration": 1891,
    "start_time": "2022-12-15T15:37:31.867Z"
   },
   {
    "duration": 23,
    "start_time": "2022-12-15T15:38:23.754Z"
   },
   {
    "duration": 290,
    "start_time": "2022-12-15T15:38:24.247Z"
   },
   {
    "duration": 1273,
    "start_time": "2022-12-15T15:38:26.280Z"
   },
   {
    "duration": 1169,
    "start_time": "2022-12-15T15:38:58.368Z"
   },
   {
    "duration": 1734,
    "start_time": "2022-12-15T15:39:21.632Z"
   },
   {
    "duration": 1103,
    "start_time": "2022-12-15T15:48:44.385Z"
   },
   {
    "duration": 53,
    "start_time": "2022-12-15T15:48:45.490Z"
   },
   {
    "duration": 23,
    "start_time": "2022-12-15T15:48:45.544Z"
   },
   {
    "duration": 15,
    "start_time": "2022-12-15T15:48:45.570Z"
   },
   {
    "duration": 4,
    "start_time": "2022-12-15T15:48:45.586Z"
   },
   {
    "duration": 21,
    "start_time": "2022-12-15T15:48:45.591Z"
   },
   {
    "duration": 8,
    "start_time": "2022-12-15T15:48:45.613Z"
   },
   {
    "duration": 39,
    "start_time": "2022-12-15T15:48:45.623Z"
   },
   {
    "duration": 6,
    "start_time": "2022-12-15T15:48:45.664Z"
   },
   {
    "duration": 9,
    "start_time": "2022-12-15T15:48:45.672Z"
   },
   {
    "duration": 5,
    "start_time": "2022-12-15T15:48:45.683Z"
   },
   {
    "duration": 7,
    "start_time": "2022-12-15T15:48:45.690Z"
   },
   {
    "duration": 350,
    "start_time": "2022-12-15T15:48:45.699Z"
   },
   {
    "duration": 16,
    "start_time": "2022-12-15T15:48:46.052Z"
   },
   {
    "duration": 289,
    "start_time": "2022-12-15T15:48:46.070Z"
   },
   {
    "duration": 1828,
    "start_time": "2022-12-15T15:48:46.361Z"
   },
   {
    "duration": 1866,
    "start_time": "2022-12-15T15:49:11.978Z"
   },
   {
    "duration": 1897,
    "start_time": "2022-12-15T15:49:23.514Z"
   },
   {
    "duration": 5222,
    "start_time": "2022-12-15T15:50:06.820Z"
   },
   {
    "duration": 9,
    "start_time": "2022-12-15T16:05:46.836Z"
   },
   {
    "duration": 25,
    "start_time": "2022-12-15T16:06:12.154Z"
   },
   {
    "duration": 22,
    "start_time": "2022-12-15T16:06:39.254Z"
   },
   {
    "duration": 25,
    "start_time": "2022-12-15T16:12:00.120Z"
   },
   {
    "duration": 6,
    "start_time": "2022-12-15T16:32:51.355Z"
   },
   {
    "duration": 9,
    "start_time": "2022-12-15T16:32:52.474Z"
   },
   {
    "duration": 111,
    "start_time": "2022-12-15T16:32:54.897Z"
   },
   {
    "duration": 12,
    "start_time": "2022-12-15T16:32:55.849Z"
   },
   {
    "duration": 5,
    "start_time": "2022-12-15T16:33:36.259Z"
   },
   {
    "duration": 8,
    "start_time": "2022-12-15T16:33:36.785Z"
   },
   {
    "duration": 6,
    "start_time": "2022-12-15T16:34:35.594Z"
   },
   {
    "duration": 9,
    "start_time": "2022-12-15T16:34:36.010Z"
   },
   {
    "duration": 27,
    "start_time": "2022-12-15T16:34:52.236Z"
   },
   {
    "duration": 26,
    "start_time": "2022-12-15T16:35:53.793Z"
   },
   {
    "duration": 26,
    "start_time": "2022-12-15T16:36:06.563Z"
   },
   {
    "duration": 24,
    "start_time": "2022-12-15T16:38:59.316Z"
   },
   {
    "duration": 24,
    "start_time": "2022-12-15T16:39:27.653Z"
   },
   {
    "duration": 23,
    "start_time": "2022-12-15T16:40:03.340Z"
   },
   {
    "duration": 9,
    "start_time": "2022-12-15T16:40:05.456Z"
   },
   {
    "duration": 26,
    "start_time": "2022-12-15T16:40:07.524Z"
   },
   {
    "duration": 11,
    "start_time": "2022-12-15T16:40:09.026Z"
   },
   {
    "duration": 6,
    "start_time": "2022-12-15T16:40:30.559Z"
   },
   {
    "duration": 24,
    "start_time": "2022-12-15T16:40:38.795Z"
   },
   {
    "duration": 12,
    "start_time": "2022-12-15T16:44:33.483Z"
   },
   {
    "duration": 1106,
    "start_time": "2022-12-15T16:44:37.668Z"
   },
   {
    "duration": 51,
    "start_time": "2022-12-15T16:44:38.776Z"
   },
   {
    "duration": 21,
    "start_time": "2022-12-15T16:44:38.829Z"
   },
   {
    "duration": 14,
    "start_time": "2022-12-15T16:44:38.852Z"
   },
   {
    "duration": 3,
    "start_time": "2022-12-15T16:44:38.868Z"
   },
   {
    "duration": 21,
    "start_time": "2022-12-15T16:44:38.873Z"
   },
   {
    "duration": 8,
    "start_time": "2022-12-15T16:44:38.896Z"
   },
   {
    "duration": 23,
    "start_time": "2022-12-15T16:44:38.905Z"
   },
   {
    "duration": 27,
    "start_time": "2022-12-15T16:44:38.930Z"
   },
   {
    "duration": 6,
    "start_time": "2022-12-15T16:44:38.958Z"
   },
   {
    "duration": 6,
    "start_time": "2022-12-15T16:44:38.965Z"
   },
   {
    "duration": 6,
    "start_time": "2022-12-15T16:44:38.972Z"
   },
   {
    "duration": 357,
    "start_time": "2022-12-15T16:44:38.980Z"
   },
   {
    "duration": 23,
    "start_time": "2022-12-15T16:44:39.340Z"
   },
   {
    "duration": 280,
    "start_time": "2022-12-15T16:44:39.365Z"
   },
   {
    "duration": 5466,
    "start_time": "2022-12-15T16:44:39.647Z"
   },
   {
    "duration": 25,
    "start_time": "2022-12-15T16:44:45.114Z"
   },
   {
    "duration": 18,
    "start_time": "2022-12-15T16:44:45.141Z"
   },
   {
    "duration": 12,
    "start_time": "2022-12-15T16:44:45.161Z"
   },
   {
    "duration": 28,
    "start_time": "2022-12-15T16:44:45.175Z"
   },
   {
    "duration": 129,
    "start_time": "2022-12-15T16:44:45.205Z"
   },
   {
    "duration": 12,
    "start_time": "2022-12-15T16:45:06.236Z"
   },
   {
    "duration": 228,
    "start_time": "2022-12-15T16:45:20.940Z"
   },
   {
    "duration": 200,
    "start_time": "2022-12-15T16:45:42.983Z"
   },
   {
    "duration": 228,
    "start_time": "2022-12-15T16:45:51.494Z"
   },
   {
    "duration": 197,
    "start_time": "2022-12-15T16:45:58.326Z"
   },
   {
    "duration": 171,
    "start_time": "2022-12-15T16:46:15.220Z"
   },
   {
    "duration": 110,
    "start_time": "2022-12-15T16:46:31.068Z"
   },
   {
    "duration": 174,
    "start_time": "2022-12-15T16:46:37.645Z"
   },
   {
    "duration": 147,
    "start_time": "2022-12-15T16:49:02.612Z"
   },
   {
    "duration": 13,
    "start_time": "2022-12-15T17:07:06.280Z"
   },
   {
    "duration": 16,
    "start_time": "2022-12-15T17:07:21.912Z"
   },
   {
    "duration": 9,
    "start_time": "2022-12-15T17:07:46.015Z"
   },
   {
    "duration": 7,
    "start_time": "2022-12-15T17:09:40.136Z"
   },
   {
    "duration": 12,
    "start_time": "2022-12-15T17:09:40.848Z"
   },
   {
    "duration": 175,
    "start_time": "2022-12-15T17:09:48.707Z"
   },
   {
    "duration": 148,
    "start_time": "2022-12-15T17:10:00.633Z"
   },
   {
    "duration": 8,
    "start_time": "2022-12-15T17:10:27.441Z"
   },
   {
    "duration": 153,
    "start_time": "2022-12-15T17:10:28.074Z"
   },
   {
    "duration": 223,
    "start_time": "2022-12-15T17:10:41.705Z"
   },
   {
    "duration": 163,
    "start_time": "2022-12-15T17:10:43.074Z"
   },
   {
    "duration": 13,
    "start_time": "2022-12-15T17:11:59.865Z"
   },
   {
    "duration": 1121,
    "start_time": "2022-12-15T17:12:57.658Z"
   },
   {
    "duration": 54,
    "start_time": "2022-12-15T17:12:58.781Z"
   },
   {
    "duration": 22,
    "start_time": "2022-12-15T17:12:58.836Z"
   },
   {
    "duration": 13,
    "start_time": "2022-12-15T17:12:58.860Z"
   },
   {
    "duration": 3,
    "start_time": "2022-12-15T17:12:58.875Z"
   },
   {
    "duration": 20,
    "start_time": "2022-12-15T17:12:58.880Z"
   },
   {
    "duration": 9,
    "start_time": "2022-12-15T17:12:58.901Z"
   },
   {
    "duration": 17,
    "start_time": "2022-12-15T17:12:58.912Z"
   },
   {
    "duration": 27,
    "start_time": "2022-12-15T17:12:58.930Z"
   },
   {
    "duration": 19,
    "start_time": "2022-12-15T17:12:58.961Z"
   },
   {
    "duration": 7,
    "start_time": "2022-12-15T17:12:58.982Z"
   },
   {
    "duration": 8,
    "start_time": "2022-12-15T17:12:58.991Z"
   },
   {
    "duration": 345,
    "start_time": "2022-12-15T17:12:59.000Z"
   },
   {
    "duration": 19,
    "start_time": "2022-12-15T17:12:59.347Z"
   },
   {
    "duration": 293,
    "start_time": "2022-12-15T17:12:59.368Z"
   },
   {
    "duration": 5520,
    "start_time": "2022-12-15T17:12:59.663Z"
   },
   {
    "duration": 25,
    "start_time": "2022-12-15T17:13:05.184Z"
   },
   {
    "duration": 6,
    "start_time": "2022-12-15T17:13:05.211Z"
   },
   {
    "duration": 13,
    "start_time": "2022-12-15T17:13:05.219Z"
   },
   {
    "duration": 47,
    "start_time": "2022-12-15T17:13:05.233Z"
   },
   {
    "duration": 157,
    "start_time": "2022-12-15T17:13:05.282Z"
   },
   {
    "duration": 16,
    "start_time": "2022-12-15T17:13:05.440Z"
   },
   {
    "duration": 164,
    "start_time": "2022-12-15T17:13:05.458Z"
   },
   {
    "duration": 13,
    "start_time": "2022-12-15T17:13:05.624Z"
   },
   {
    "duration": 32,
    "start_time": "2022-12-15T17:13:05.638Z"
   },
   {
    "duration": 183,
    "start_time": "2022-12-15T17:13:05.672Z"
   },
   {
    "duration": 95,
    "start_time": "2022-12-15T17:19:03.236Z"
   },
   {
    "duration": 9,
    "start_time": "2022-12-15T17:19:18.932Z"
   },
   {
    "duration": 11,
    "start_time": "2022-12-15T17:19:34.541Z"
   },
   {
    "duration": 13,
    "start_time": "2022-12-15T17:19:47.698Z"
   },
   {
    "duration": 9,
    "start_time": "2022-12-15T17:19:55.998Z"
   },
   {
    "duration": 9,
    "start_time": "2022-12-15T17:20:17.373Z"
   },
   {
    "duration": 15,
    "start_time": "2022-12-15T17:20:45.097Z"
   },
   {
    "duration": 12,
    "start_time": "2022-12-15T17:20:45.475Z"
   },
   {
    "duration": 10,
    "start_time": "2022-12-15T17:20:50.732Z"
   },
   {
    "duration": 10,
    "start_time": "2022-12-15T17:20:51.404Z"
   },
   {
    "duration": 10,
    "start_time": "2022-12-15T17:20:51.947Z"
   },
   {
    "duration": 9,
    "start_time": "2022-12-15T17:20:52.271Z"
   },
   {
    "duration": 10,
    "start_time": "2022-12-15T17:20:52.580Z"
   },
   {
    "duration": 155,
    "start_time": "2022-12-15T17:20:53.572Z"
   },
   {
    "duration": 11,
    "start_time": "2022-12-15T17:23:28.821Z"
   },
   {
    "duration": 11,
    "start_time": "2022-12-15T17:23:29.620Z"
   },
   {
    "duration": 9,
    "start_time": "2022-12-15T17:23:30.117Z"
   },
   {
    "duration": 9,
    "start_time": "2022-12-15T17:23:30.525Z"
   },
   {
    "duration": 12,
    "start_time": "2022-12-15T17:23:30.959Z"
   },
   {
    "duration": 1057,
    "start_time": "2022-12-15T17:24:30.712Z"
   },
   {
    "duration": 52,
    "start_time": "2022-12-15T17:24:31.771Z"
   },
   {
    "duration": 20,
    "start_time": "2022-12-15T17:24:31.825Z"
   },
   {
    "duration": 16,
    "start_time": "2022-12-15T17:24:31.847Z"
   },
   {
    "duration": 3,
    "start_time": "2022-12-15T17:24:31.865Z"
   },
   {
    "duration": 20,
    "start_time": "2022-12-15T17:24:31.870Z"
   },
   {
    "duration": 8,
    "start_time": "2022-12-15T17:24:31.892Z"
   },
   {
    "duration": 14,
    "start_time": "2022-12-15T17:24:31.902Z"
   },
   {
    "duration": 8,
    "start_time": "2022-12-15T17:24:31.917Z"
   },
   {
    "duration": 25,
    "start_time": "2022-12-15T17:24:31.927Z"
   },
   {
    "duration": 7,
    "start_time": "2022-12-15T17:24:31.954Z"
   },
   {
    "duration": 7,
    "start_time": "2022-12-15T17:24:31.963Z"
   },
   {
    "duration": 349,
    "start_time": "2022-12-15T17:24:31.972Z"
   },
   {
    "duration": 15,
    "start_time": "2022-12-15T17:24:32.324Z"
   },
   {
    "duration": 319,
    "start_time": "2022-12-15T17:24:32.340Z"
   },
   {
    "duration": 5176,
    "start_time": "2022-12-15T17:24:32.660Z"
   },
   {
    "duration": 27,
    "start_time": "2022-12-15T17:24:37.838Z"
   },
   {
    "duration": 6,
    "start_time": "2022-12-15T17:24:37.867Z"
   },
   {
    "duration": 9,
    "start_time": "2022-12-15T17:24:37.875Z"
   },
   {
    "duration": 26,
    "start_time": "2022-12-15T17:24:37.886Z"
   },
   {
    "duration": 187,
    "start_time": "2022-12-15T17:24:37.914Z"
   },
   {
    "duration": 13,
    "start_time": "2022-12-15T17:24:38.103Z"
   },
   {
    "duration": 11,
    "start_time": "2022-12-15T17:24:38.118Z"
   },
   {
    "duration": 30,
    "start_time": "2022-12-15T17:24:38.130Z"
   },
   {
    "duration": 11,
    "start_time": "2022-12-15T17:24:38.162Z"
   },
   {
    "duration": 10,
    "start_time": "2022-12-15T17:24:38.175Z"
   },
   {
    "duration": 13,
    "start_time": "2022-12-15T17:29:31.158Z"
   },
   {
    "duration": 12,
    "start_time": "2022-12-15T17:30:13.077Z"
   },
   {
    "duration": 12,
    "start_time": "2022-12-15T17:30:13.576Z"
   },
   {
    "duration": 19,
    "start_time": "2022-12-15T17:30:13.982Z"
   },
   {
    "duration": 15,
    "start_time": "2022-12-15T17:31:03.328Z"
   },
   {
    "duration": 107,
    "start_time": "2022-12-15T19:01:29.891Z"
   },
   {
    "duration": 339,
    "start_time": "2022-12-15T19:02:06.221Z"
   },
   {
    "duration": 13,
    "start_time": "2022-12-15T19:02:26.316Z"
   },
   {
    "duration": 26,
    "start_time": "2022-12-15T19:04:07.605Z"
   },
   {
    "duration": 16,
    "start_time": "2022-12-15T19:04:50.732Z"
   },
   {
    "duration": 14,
    "start_time": "2022-12-15T19:05:09.316Z"
   },
   {
    "duration": 20,
    "start_time": "2022-12-15T19:05:39.968Z"
   },
   {
    "duration": 8,
    "start_time": "2022-12-15T19:06:29.382Z"
   },
   {
    "duration": 10,
    "start_time": "2022-12-15T19:06:43.132Z"
   },
   {
    "duration": 15,
    "start_time": "2022-12-15T19:06:48.364Z"
   },
   {
    "duration": 74,
    "start_time": "2022-12-15T19:19:54.837Z"
   },
   {
    "duration": 9,
    "start_time": "2022-12-15T19:20:13.786Z"
   },
   {
    "duration": 8,
    "start_time": "2022-12-15T19:20:36.738Z"
   },
   {
    "duration": 1253,
    "start_time": "2022-12-15T19:20:42.149Z"
   },
   {
    "duration": 55,
    "start_time": "2022-12-15T19:20:43.404Z"
   },
   {
    "duration": 23,
    "start_time": "2022-12-15T19:20:43.461Z"
   },
   {
    "duration": 15,
    "start_time": "2022-12-15T19:20:43.486Z"
   },
   {
    "duration": 4,
    "start_time": "2022-12-15T19:20:43.502Z"
   },
   {
    "duration": 21,
    "start_time": "2022-12-15T19:20:43.508Z"
   },
   {
    "duration": 28,
    "start_time": "2022-12-15T19:20:43.531Z"
   },
   {
    "duration": 18,
    "start_time": "2022-12-15T19:20:43.561Z"
   },
   {
    "duration": 8,
    "start_time": "2022-12-15T19:20:43.580Z"
   },
   {
    "duration": 5,
    "start_time": "2022-12-15T19:20:43.591Z"
   },
   {
    "duration": 11,
    "start_time": "2022-12-15T19:20:43.598Z"
   },
   {
    "duration": 13,
    "start_time": "2022-12-15T19:20:43.611Z"
   },
   {
    "duration": 400,
    "start_time": "2022-12-15T19:20:43.625Z"
   },
   {
    "duration": 27,
    "start_time": "2022-12-15T19:20:44.026Z"
   },
   {
    "duration": 328,
    "start_time": "2022-12-15T19:20:44.055Z"
   },
   {
    "duration": 5463,
    "start_time": "2022-12-15T19:20:44.385Z"
   },
   {
    "duration": 91,
    "start_time": "2022-12-15T19:20:49.851Z"
   },
   {
    "duration": 0,
    "start_time": "2022-12-15T19:20:49.952Z"
   },
   {
    "duration": 0,
    "start_time": "2022-12-15T19:20:49.954Z"
   },
   {
    "duration": 0,
    "start_time": "2022-12-15T19:20:49.955Z"
   },
   {
    "duration": 0,
    "start_time": "2022-12-15T19:20:49.957Z"
   },
   {
    "duration": 0,
    "start_time": "2022-12-15T19:20:49.958Z"
   },
   {
    "duration": 0,
    "start_time": "2022-12-15T19:20:49.960Z"
   },
   {
    "duration": 0,
    "start_time": "2022-12-15T19:20:49.961Z"
   },
   {
    "duration": 0,
    "start_time": "2022-12-15T19:20:49.962Z"
   },
   {
    "duration": 0,
    "start_time": "2022-12-15T19:20:49.963Z"
   },
   {
    "duration": 0,
    "start_time": "2022-12-15T19:20:49.965Z"
   },
   {
    "duration": 0,
    "start_time": "2022-12-15T19:20:49.966Z"
   },
   {
    "duration": 20,
    "start_time": "2022-12-15T19:21:17.832Z"
   },
   {
    "duration": 1148,
    "start_time": "2022-12-15T19:25:26.987Z"
   },
   {
    "duration": 1098,
    "start_time": "2022-12-15T19:26:02.480Z"
   },
   {
    "duration": 1153,
    "start_time": "2022-12-15T19:26:09.593Z"
   },
   {
    "duration": 16,
    "start_time": "2022-12-15T19:26:15.080Z"
   },
   {
    "duration": 17,
    "start_time": "2022-12-15T19:26:36.417Z"
   },
   {
    "duration": 1106,
    "start_time": "2022-12-15T19:28:32.050Z"
   },
   {
    "duration": 51,
    "start_time": "2022-12-15T19:28:33.158Z"
   },
   {
    "duration": 20,
    "start_time": "2022-12-15T19:28:33.211Z"
   },
   {
    "duration": 14,
    "start_time": "2022-12-15T19:28:33.233Z"
   },
   {
    "duration": 3,
    "start_time": "2022-12-15T19:28:33.249Z"
   },
   {
    "duration": 19,
    "start_time": "2022-12-15T19:28:33.254Z"
   },
   {
    "duration": 13,
    "start_time": "2022-12-15T19:28:33.275Z"
   },
   {
    "duration": 14,
    "start_time": "2022-12-15T19:28:33.290Z"
   },
   {
    "duration": 7,
    "start_time": "2022-12-15T19:28:33.305Z"
   },
   {
    "duration": 4,
    "start_time": "2022-12-15T19:28:33.314Z"
   },
   {
    "duration": 7,
    "start_time": "2022-12-15T19:28:33.320Z"
   },
   {
    "duration": 25,
    "start_time": "2022-12-15T19:28:33.328Z"
   },
   {
    "duration": 367,
    "start_time": "2022-12-15T19:28:33.355Z"
   },
   {
    "duration": 15,
    "start_time": "2022-12-15T19:28:33.724Z"
   },
   {
    "duration": 281,
    "start_time": "2022-12-15T19:28:33.751Z"
   },
   {
    "duration": 5137,
    "start_time": "2022-12-15T19:28:34.034Z"
   },
   {
    "duration": 23,
    "start_time": "2022-12-15T19:28:39.173Z"
   },
   {
    "duration": 5,
    "start_time": "2022-12-15T19:28:39.198Z"
   },
   {
    "duration": 9,
    "start_time": "2022-12-15T19:28:39.205Z"
   },
   {
    "duration": 48,
    "start_time": "2022-12-15T19:28:39.216Z"
   },
   {
    "duration": 156,
    "start_time": "2022-12-15T19:28:39.265Z"
   },
   {
    "duration": 12,
    "start_time": "2022-12-15T19:28:39.423Z"
   },
   {
    "duration": 22,
    "start_time": "2022-12-15T19:28:39.437Z"
   },
   {
    "duration": 11,
    "start_time": "2022-12-15T19:28:39.461Z"
   },
   {
    "duration": 11,
    "start_time": "2022-12-15T19:28:39.473Z"
   },
   {
    "duration": 16,
    "start_time": "2022-12-15T19:28:39.485Z"
   },
   {
    "duration": 228,
    "start_time": "2022-12-15T19:28:39.503Z"
   },
   {
    "duration": 185,
    "start_time": "2022-12-15T19:40:15.888Z"
   },
   {
    "duration": 184,
    "start_time": "2022-12-15T19:40:22.887Z"
   },
   {
    "duration": 159,
    "start_time": "2022-12-15T19:40:31.228Z"
   },
   {
    "duration": 179,
    "start_time": "2022-12-15T19:40:38.221Z"
   },
   {
    "duration": 188,
    "start_time": "2022-12-15T19:41:39.244Z"
   },
   {
    "duration": 177,
    "start_time": "2022-12-15T19:41:47.901Z"
   },
   {
    "duration": 9,
    "start_time": "2022-12-15T20:20:18.150Z"
   },
   {
    "duration": 9,
    "start_time": "2022-12-15T20:21:00.854Z"
   },
   {
    "duration": 11,
    "start_time": "2022-12-15T20:21:36.628Z"
   },
   {
    "duration": 11,
    "start_time": "2022-12-15T20:21:47.547Z"
   },
   {
    "duration": 5,
    "start_time": "2022-12-15T20:21:49.645Z"
   },
   {
    "duration": 9,
    "start_time": "2022-12-15T20:24:23.029Z"
   },
   {
    "duration": 4,
    "start_time": "2022-12-15T20:24:37.565Z"
   },
   {
    "duration": 10,
    "start_time": "2022-12-15T20:30:05.862Z"
   },
   {
    "duration": 13,
    "start_time": "2022-12-15T20:30:17.628Z"
   },
   {
    "duration": 20,
    "start_time": "2022-12-15T20:30:34.300Z"
   },
   {
    "duration": 8,
    "start_time": "2022-12-15T20:32:16.422Z"
   },
   {
    "duration": 8,
    "start_time": "2022-12-15T20:32:33.846Z"
   },
   {
    "duration": 8,
    "start_time": "2022-12-15T20:34:16.751Z"
   },
   {
    "duration": 8,
    "start_time": "2022-12-15T20:34:37.958Z"
   },
   {
    "duration": 7,
    "start_time": "2022-12-15T20:34:46.125Z"
   },
   {
    "duration": 8,
    "start_time": "2022-12-15T20:37:46.292Z"
   },
   {
    "duration": 9,
    "start_time": "2022-12-15T20:37:52.393Z"
   },
   {
    "duration": 9,
    "start_time": "2022-12-15T20:38:48.647Z"
   },
   {
    "duration": 9,
    "start_time": "2022-12-15T20:38:49.096Z"
   },
   {
    "duration": 9,
    "start_time": "2022-12-15T20:38:49.486Z"
   },
   {
    "duration": 7,
    "start_time": "2022-12-15T20:39:02.534Z"
   },
   {
    "duration": 7,
    "start_time": "2022-12-15T20:39:02.870Z"
   },
   {
    "duration": 9,
    "start_time": "2022-12-15T20:43:14.279Z"
   },
   {
    "duration": 9,
    "start_time": "2022-12-15T20:44:28.664Z"
   },
   {
    "duration": 9,
    "start_time": "2022-12-15T20:44:29.400Z"
   },
   {
    "duration": 1232,
    "start_time": "2022-12-15T20:45:25.924Z"
   },
   {
    "duration": 54,
    "start_time": "2022-12-15T20:45:27.158Z"
   },
   {
    "duration": 20,
    "start_time": "2022-12-15T20:45:27.214Z"
   },
   {
    "duration": 13,
    "start_time": "2022-12-15T20:45:27.235Z"
   },
   {
    "duration": 3,
    "start_time": "2022-12-15T20:45:27.250Z"
   },
   {
    "duration": 18,
    "start_time": "2022-12-15T20:45:27.254Z"
   },
   {
    "duration": 7,
    "start_time": "2022-12-15T20:45:27.274Z"
   },
   {
    "duration": 14,
    "start_time": "2022-12-15T20:45:27.283Z"
   },
   {
    "duration": 6,
    "start_time": "2022-12-15T20:45:27.298Z"
   },
   {
    "duration": 5,
    "start_time": "2022-12-15T20:45:27.306Z"
   },
   {
    "duration": 9,
    "start_time": "2022-12-15T20:45:27.312Z"
   },
   {
    "duration": 8,
    "start_time": "2022-12-15T20:45:27.322Z"
   },
   {
    "duration": 329,
    "start_time": "2022-12-15T20:45:27.353Z"
   },
   {
    "duration": 15,
    "start_time": "2022-12-15T20:45:27.685Z"
   },
   {
    "duration": 281,
    "start_time": "2022-12-15T20:45:27.702Z"
   },
   {
    "duration": 5115,
    "start_time": "2022-12-15T20:45:27.985Z"
   },
   {
    "duration": 21,
    "start_time": "2022-12-15T20:45:33.102Z"
   },
   {
    "duration": 6,
    "start_time": "2022-12-15T20:45:33.125Z"
   },
   {
    "duration": 20,
    "start_time": "2022-12-15T20:45:33.133Z"
   },
   {
    "duration": 32,
    "start_time": "2022-12-15T20:45:33.155Z"
   },
   {
    "duration": 165,
    "start_time": "2022-12-15T20:45:33.189Z"
   },
   {
    "duration": 11,
    "start_time": "2022-12-15T20:45:33.356Z"
   },
   {
    "duration": 19,
    "start_time": "2022-12-15T20:45:33.369Z"
   },
   {
    "duration": 15,
    "start_time": "2022-12-15T20:45:33.390Z"
   },
   {
    "duration": 10,
    "start_time": "2022-12-15T20:45:33.407Z"
   },
   {
    "duration": 17,
    "start_time": "2022-12-15T20:45:33.418Z"
   },
   {
    "duration": 184,
    "start_time": "2022-12-15T20:45:33.437Z"
   },
   {
    "duration": 7,
    "start_time": "2022-12-15T20:45:33.623Z"
   },
   {
    "duration": 21,
    "start_time": "2022-12-15T20:45:33.631Z"
   },
   {
    "duration": 7,
    "start_time": "2022-12-15T20:45:33.654Z"
   },
   {
    "duration": 6,
    "start_time": "2022-12-15T20:45:33.662Z"
   },
   {
    "duration": 8,
    "start_time": "2022-12-15T20:45:33.670Z"
   },
   {
    "duration": 7,
    "start_time": "2022-12-15T20:45:33.679Z"
   },
   {
    "duration": 10,
    "start_time": "2022-12-15T20:45:33.687Z"
   },
   {
    "duration": 10,
    "start_time": "2022-12-15T20:45:33.698Z"
   },
   {
    "duration": 8,
    "start_time": "2022-12-15T20:45:33.710Z"
   },
   {
    "duration": 8,
    "start_time": "2022-12-15T20:45:33.752Z"
   },
   {
    "duration": 5,
    "start_time": "2022-12-15T20:45:33.761Z"
   },
   {
    "duration": 9,
    "start_time": "2022-12-15T20:45:33.768Z"
   },
   {
    "duration": 5,
    "start_time": "2022-12-15T20:45:33.779Z"
   },
   {
    "duration": 1254,
    "start_time": "2022-12-16T05:15:55.897Z"
   },
   {
    "duration": 49,
    "start_time": "2022-12-16T05:15:57.154Z"
   },
   {
    "duration": 30,
    "start_time": "2022-12-16T05:15:57.205Z"
   },
   {
    "duration": 28,
    "start_time": "2022-12-16T05:15:57.237Z"
   },
   {
    "duration": 3,
    "start_time": "2022-12-16T05:15:57.267Z"
   },
   {
    "duration": 19,
    "start_time": "2022-12-16T05:15:57.271Z"
   },
   {
    "duration": 8,
    "start_time": "2022-12-16T05:15:57.291Z"
   },
   {
    "duration": 21,
    "start_time": "2022-12-16T05:15:57.312Z"
   },
   {
    "duration": 12,
    "start_time": "2022-12-16T05:15:57.334Z"
   },
   {
    "duration": 3,
    "start_time": "2022-12-16T05:15:57.350Z"
   },
   {
    "duration": 7,
    "start_time": "2022-12-16T05:15:57.355Z"
   },
   {
    "duration": 7,
    "start_time": "2022-12-16T05:15:57.364Z"
   },
   {
    "duration": 384,
    "start_time": "2022-12-16T05:15:57.373Z"
   },
   {
    "duration": 16,
    "start_time": "2022-12-16T05:15:57.759Z"
   },
   {
    "duration": 314,
    "start_time": "2022-12-16T05:15:57.777Z"
   },
   {
    "duration": 5706,
    "start_time": "2022-12-16T05:15:58.093Z"
   },
   {
    "duration": 32,
    "start_time": "2022-12-16T05:16:03.801Z"
   },
   {
    "duration": 7,
    "start_time": "2022-12-16T05:16:03.834Z"
   },
   {
    "duration": 11,
    "start_time": "2022-12-16T05:16:03.842Z"
   },
   {
    "duration": 26,
    "start_time": "2022-12-16T05:16:03.856Z"
   },
   {
    "duration": 201,
    "start_time": "2022-12-16T05:16:03.884Z"
   },
   {
    "duration": 32,
    "start_time": "2022-12-16T05:16:04.087Z"
   },
   {
    "duration": 29,
    "start_time": "2022-12-16T05:16:04.122Z"
   },
   {
    "duration": 12,
    "start_time": "2022-12-16T05:16:04.153Z"
   },
   {
    "duration": 13,
    "start_time": "2022-12-16T05:16:04.166Z"
   },
   {
    "duration": 15,
    "start_time": "2022-12-16T05:16:04.180Z"
   },
   {
    "duration": 198,
    "start_time": "2022-12-16T05:16:04.197Z"
   },
   {
    "duration": 7,
    "start_time": "2022-12-16T05:16:04.398Z"
   },
   {
    "duration": 26,
    "start_time": "2022-12-16T05:16:04.412Z"
   },
   {
    "duration": 8,
    "start_time": "2022-12-16T05:16:04.440Z"
   },
   {
    "duration": 8,
    "start_time": "2022-12-16T05:16:04.450Z"
   },
   {
    "duration": 7,
    "start_time": "2022-12-16T05:16:04.460Z"
   },
   {
    "duration": 7,
    "start_time": "2022-12-16T05:16:04.469Z"
   },
   {
    "duration": 14,
    "start_time": "2022-12-16T05:16:04.478Z"
   },
   {
    "duration": 34,
    "start_time": "2022-12-16T05:16:04.493Z"
   },
   {
    "duration": 19,
    "start_time": "2022-12-16T05:16:04.528Z"
   },
   {
    "duration": 8,
    "start_time": "2022-12-16T05:16:04.549Z"
   },
   {
    "duration": 11,
    "start_time": "2022-12-16T05:16:04.559Z"
   },
   {
    "duration": 14,
    "start_time": "2022-12-16T05:16:04.572Z"
   },
   {
    "duration": 37,
    "start_time": "2022-12-16T05:16:04.588Z"
   },
   {
    "duration": 48,
    "start_time": "2022-12-20T13:48:59.523Z"
   },
   {
    "duration": 1388,
    "start_time": "2022-12-20T13:49:04.176Z"
   },
   {
    "duration": 206,
    "start_time": "2022-12-20T13:49:05.567Z"
   },
   {
    "duration": 22,
    "start_time": "2022-12-20T13:49:05.774Z"
   },
   {
    "duration": 28,
    "start_time": "2022-12-20T13:49:05.799Z"
   },
   {
    "duration": 4,
    "start_time": "2022-12-20T13:49:05.829Z"
   },
   {
    "duration": 30,
    "start_time": "2022-12-20T13:49:05.835Z"
   },
   {
    "duration": 12,
    "start_time": "2022-12-20T13:49:05.868Z"
   },
   {
    "duration": 20,
    "start_time": "2022-12-20T13:49:05.882Z"
   },
   {
    "duration": 8,
    "start_time": "2022-12-20T13:49:05.903Z"
   },
   {
    "duration": 7,
    "start_time": "2022-12-20T13:49:05.914Z"
   },
   {
    "duration": 33,
    "start_time": "2022-12-20T13:49:05.923Z"
   },
   {
    "duration": 11,
    "start_time": "2022-12-20T13:49:05.958Z"
   },
   {
    "duration": 370,
    "start_time": "2022-12-20T13:49:05.971Z"
   },
   {
    "duration": 25,
    "start_time": "2022-12-20T13:49:06.343Z"
   },
   {
    "duration": 317,
    "start_time": "2022-12-20T13:49:06.370Z"
   },
   {
    "duration": 5506,
    "start_time": "2022-12-20T13:49:06.689Z"
   },
   {
    "duration": 23,
    "start_time": "2022-12-20T13:49:12.197Z"
   },
   {
    "duration": 37,
    "start_time": "2022-12-20T13:49:12.222Z"
   },
   {
    "duration": 7,
    "start_time": "2022-12-20T13:49:12.261Z"
   },
   {
    "duration": 11,
    "start_time": "2022-12-20T13:49:12.269Z"
   },
   {
    "duration": 27,
    "start_time": "2022-12-20T13:49:12.281Z"
   },
   {
    "duration": 243,
    "start_time": "2022-12-20T13:49:12.309Z"
   },
   {
    "duration": 17,
    "start_time": "2022-12-20T13:49:12.554Z"
   },
   {
    "duration": 23,
    "start_time": "2022-12-20T13:49:12.573Z"
   },
   {
    "duration": 36,
    "start_time": "2022-12-20T13:49:12.599Z"
   },
   {
    "duration": 17,
    "start_time": "2022-12-20T13:49:12.636Z"
   },
   {
    "duration": 17,
    "start_time": "2022-12-20T13:49:12.654Z"
   },
   {
    "duration": 188,
    "start_time": "2022-12-20T13:49:12.675Z"
   },
   {
    "duration": 7,
    "start_time": "2022-12-20T13:49:12.865Z"
   },
   {
    "duration": 10,
    "start_time": "2022-12-20T13:49:12.873Z"
   },
   {
    "duration": 8,
    "start_time": "2022-12-20T13:49:12.884Z"
   },
   {
    "duration": 10,
    "start_time": "2022-12-20T13:49:12.893Z"
   },
   {
    "duration": 11,
    "start_time": "2022-12-20T13:49:12.904Z"
   },
   {
    "duration": 8,
    "start_time": "2022-12-20T13:49:12.917Z"
   },
   {
    "duration": 9,
    "start_time": "2022-12-20T13:49:12.953Z"
   },
   {
    "duration": 14,
    "start_time": "2022-12-20T13:49:12.964Z"
   },
   {
    "duration": 11,
    "start_time": "2022-12-20T13:49:12.980Z"
   },
   {
    "duration": 8,
    "start_time": "2022-12-20T13:49:12.993Z"
   },
   {
    "duration": 12,
    "start_time": "2022-12-20T13:49:13.003Z"
   },
   {
    "duration": 11,
    "start_time": "2022-12-20T13:49:13.017Z"
   },
   {
    "duration": 6,
    "start_time": "2022-12-20T13:49:13.062Z"
   },
   {
    "duration": 19,
    "start_time": "2022-12-20T13:50:35.178Z"
   },
   {
    "duration": 6,
    "start_time": "2022-12-20T14:01:00.948Z"
   },
   {
    "duration": 11,
    "start_time": "2022-12-20T14:01:02.355Z"
   },
   {
    "duration": 36,
    "start_time": "2022-12-20T14:01:05.548Z"
   },
   {
    "duration": 170,
    "start_time": "2022-12-20T14:01:07.450Z"
   },
   {
    "duration": 7,
    "start_time": "2022-12-20T14:01:15.390Z"
   },
   {
    "duration": 10,
    "start_time": "2022-12-20T14:01:19.372Z"
   },
   {
    "duration": 33,
    "start_time": "2022-12-20T14:01:21.401Z"
   },
   {
    "duration": 151,
    "start_time": "2022-12-20T14:01:23.865Z"
   },
   {
    "duration": 5,
    "start_time": "2022-12-20T14:01:40.894Z"
   },
   {
    "duration": 12,
    "start_time": "2022-12-20T14:01:42.451Z"
   },
   {
    "duration": 26,
    "start_time": "2022-12-20T14:01:46.894Z"
   },
   {
    "duration": 168,
    "start_time": "2022-12-20T14:01:49.636Z"
   },
   {
    "duration": 6,
    "start_time": "2022-12-20T14:02:29.244Z"
   },
   {
    "duration": 9,
    "start_time": "2022-12-20T14:02:30.478Z"
   },
   {
    "duration": 25,
    "start_time": "2022-12-20T14:02:31.941Z"
   },
   {
    "duration": 186,
    "start_time": "2022-12-20T14:02:32.471Z"
   },
   {
    "duration": 183,
    "start_time": "2022-12-20T14:06:43.382Z"
   },
   {
    "duration": 55,
    "start_time": "2022-12-20T14:39:08.279Z"
   },
   {
    "duration": 1261,
    "start_time": "2022-12-20T14:47:58.308Z"
   },
   {
    "duration": 21,
    "start_time": "2022-12-20T14:48:26.338Z"
   },
   {
    "duration": 1153,
    "start_time": "2022-12-20T14:48:44.290Z"
   },
   {
    "duration": 54,
    "start_time": "2022-12-20T14:48:45.445Z"
   },
   {
    "duration": 41,
    "start_time": "2022-12-20T14:48:45.500Z"
   },
   {
    "duration": 22,
    "start_time": "2022-12-20T14:48:45.543Z"
   },
   {
    "duration": 16,
    "start_time": "2022-12-20T14:48:45.567Z"
   },
   {
    "duration": 3,
    "start_time": "2022-12-20T14:48:45.585Z"
   },
   {
    "duration": 22,
    "start_time": "2022-12-20T14:48:45.591Z"
   },
   {
    "duration": 8,
    "start_time": "2022-12-20T14:48:45.615Z"
   },
   {
    "duration": 38,
    "start_time": "2022-12-20T14:48:45.625Z"
   },
   {
    "duration": 9,
    "start_time": "2022-12-20T14:48:45.666Z"
   },
   {
    "duration": 30,
    "start_time": "2022-12-20T14:48:45.677Z"
   },
   {
    "duration": 109,
    "start_time": "2022-12-20T14:48:45.710Z"
   },
   {
    "duration": 0,
    "start_time": "2022-12-20T14:48:45.821Z"
   },
   {
    "duration": 0,
    "start_time": "2022-12-20T14:48:45.823Z"
   },
   {
    "duration": 0,
    "start_time": "2022-12-20T14:48:45.824Z"
   },
   {
    "duration": 0,
    "start_time": "2022-12-20T14:48:45.825Z"
   },
   {
    "duration": 0,
    "start_time": "2022-12-20T14:48:45.826Z"
   },
   {
    "duration": 0,
    "start_time": "2022-12-20T14:48:45.827Z"
   },
   {
    "duration": 0,
    "start_time": "2022-12-20T14:48:45.828Z"
   },
   {
    "duration": 0,
    "start_time": "2022-12-20T14:48:45.829Z"
   },
   {
    "duration": 0,
    "start_time": "2022-12-20T14:48:45.830Z"
   },
   {
    "duration": 0,
    "start_time": "2022-12-20T14:48:45.831Z"
   },
   {
    "duration": 0,
    "start_time": "2022-12-20T14:48:45.832Z"
   },
   {
    "duration": 0,
    "start_time": "2022-12-20T14:48:45.833Z"
   },
   {
    "duration": 0,
    "start_time": "2022-12-20T14:48:45.852Z"
   },
   {
    "duration": 0,
    "start_time": "2022-12-20T14:48:45.853Z"
   },
   {
    "duration": 0,
    "start_time": "2022-12-20T14:48:45.854Z"
   },
   {
    "duration": 0,
    "start_time": "2022-12-20T14:48:45.855Z"
   },
   {
    "duration": 0,
    "start_time": "2022-12-20T14:48:45.856Z"
   },
   {
    "duration": 0,
    "start_time": "2022-12-20T14:48:45.857Z"
   },
   {
    "duration": 0,
    "start_time": "2022-12-20T14:48:45.858Z"
   },
   {
    "duration": 0,
    "start_time": "2022-12-20T14:48:45.859Z"
   },
   {
    "duration": 0,
    "start_time": "2022-12-20T14:48:45.860Z"
   },
   {
    "duration": 0,
    "start_time": "2022-12-20T14:48:45.861Z"
   },
   {
    "duration": 1,
    "start_time": "2022-12-20T14:48:45.861Z"
   },
   {
    "duration": 0,
    "start_time": "2022-12-20T14:48:45.862Z"
   },
   {
    "duration": 0,
    "start_time": "2022-12-20T14:48:45.863Z"
   },
   {
    "duration": 0,
    "start_time": "2022-12-20T14:48:45.865Z"
   },
   {
    "duration": 0,
    "start_time": "2022-12-20T14:48:45.865Z"
   },
   {
    "duration": 0,
    "start_time": "2022-12-20T14:48:45.867Z"
   },
   {
    "duration": 0,
    "start_time": "2022-12-20T14:48:45.867Z"
   },
   {
    "duration": 0,
    "start_time": "2022-12-20T14:48:45.868Z"
   },
   {
    "duration": 0,
    "start_time": "2022-12-20T14:48:45.869Z"
   },
   {
    "duration": 0,
    "start_time": "2022-12-20T14:48:45.870Z"
   },
   {
    "duration": 5,
    "start_time": "2022-12-20T14:48:59.296Z"
   },
   {
    "duration": 30,
    "start_time": "2022-12-20T14:49:03.362Z"
   },
   {
    "duration": 1157,
    "start_time": "2022-12-20T14:49:26.221Z"
   },
   {
    "duration": 51,
    "start_time": "2022-12-20T14:49:27.380Z"
   },
   {
    "duration": 30,
    "start_time": "2022-12-20T14:49:27.432Z"
   },
   {
    "duration": 20,
    "start_time": "2022-12-20T14:49:27.464Z"
   },
   {
    "duration": 13,
    "start_time": "2022-12-20T14:49:27.485Z"
   },
   {
    "duration": 3,
    "start_time": "2022-12-20T14:49:27.500Z"
   },
   {
    "duration": 18,
    "start_time": "2022-12-20T14:49:27.504Z"
   },
   {
    "duration": 8,
    "start_time": "2022-12-20T14:49:27.553Z"
   },
   {
    "duration": 13,
    "start_time": "2022-12-20T14:49:27.563Z"
   },
   {
    "duration": 7,
    "start_time": "2022-12-20T14:49:27.579Z"
   },
   {
    "duration": 11,
    "start_time": "2022-12-20T14:49:27.588Z"
   },
   {
    "duration": 8,
    "start_time": "2022-12-20T14:49:27.601Z"
   },
   {
    "duration": 9,
    "start_time": "2022-12-20T14:49:27.610Z"
   },
   {
    "duration": 8,
    "start_time": "2022-12-20T14:49:27.620Z"
   },
   {
    "duration": 351,
    "start_time": "2022-12-20T14:49:27.653Z"
   },
   {
    "duration": 16,
    "start_time": "2022-12-20T14:49:28.005Z"
   },
   {
    "duration": 297,
    "start_time": "2022-12-20T14:49:28.023Z"
   },
   {
    "duration": 6267,
    "start_time": "2022-12-20T14:49:28.322Z"
   },
   {
    "duration": 29,
    "start_time": "2022-12-20T14:49:34.591Z"
   },
   {
    "duration": 42,
    "start_time": "2022-12-20T14:49:34.622Z"
   },
   {
    "duration": 5,
    "start_time": "2022-12-20T14:49:34.666Z"
   },
   {
    "duration": 12,
    "start_time": "2022-12-20T14:49:34.672Z"
   },
   {
    "duration": 26,
    "start_time": "2022-12-20T14:49:34.685Z"
   },
   {
    "duration": 181,
    "start_time": "2022-12-20T14:49:34.712Z"
   },
   {
    "duration": 13,
    "start_time": "2022-12-20T14:49:34.894Z"
   },
   {
    "duration": 12,
    "start_time": "2022-12-20T14:49:34.908Z"
   },
   {
    "duration": 12,
    "start_time": "2022-12-20T14:49:34.922Z"
   },
   {
    "duration": 12,
    "start_time": "2022-12-20T14:49:34.955Z"
   },
   {
    "duration": 21,
    "start_time": "2022-12-20T14:49:34.969Z"
   },
   {
    "duration": 186,
    "start_time": "2022-12-20T14:49:34.991Z"
   },
   {
    "duration": 7,
    "start_time": "2022-12-20T14:49:35.179Z"
   },
   {
    "duration": 23,
    "start_time": "2022-12-20T14:49:35.187Z"
   },
   {
    "duration": 19,
    "start_time": "2022-12-20T14:49:35.212Z"
   },
   {
    "duration": 17,
    "start_time": "2022-12-20T14:49:35.233Z"
   },
   {
    "duration": 25,
    "start_time": "2022-12-20T14:49:35.251Z"
   },
   {
    "duration": 13,
    "start_time": "2022-12-20T14:49:35.278Z"
   },
   {
    "duration": 45,
    "start_time": "2022-12-20T14:49:35.293Z"
   },
   {
    "duration": 29,
    "start_time": "2022-12-20T14:49:35.340Z"
   },
   {
    "duration": 20,
    "start_time": "2022-12-20T14:49:35.370Z"
   },
   {
    "duration": 21,
    "start_time": "2022-12-20T14:49:35.392Z"
   },
   {
    "duration": 29,
    "start_time": "2022-12-20T14:49:35.414Z"
   },
   {
    "duration": 25,
    "start_time": "2022-12-20T14:49:35.445Z"
   },
   {
    "duration": 14,
    "start_time": "2022-12-20T14:49:35.472Z"
   },
   {
    "duration": 15,
    "start_time": "2022-12-20T14:54:12.665Z"
   },
   {
    "duration": 13,
    "start_time": "2022-12-20T14:55:11.669Z"
   },
   {
    "duration": 17,
    "start_time": "2022-12-20T14:55:31.645Z"
   },
   {
    "duration": 16,
    "start_time": "2022-12-20T14:57:39.998Z"
   },
   {
    "duration": 162,
    "start_time": "2022-12-20T14:57:40.566Z"
   },
   {
    "duration": 492,
    "start_time": "2022-12-20T14:58:01.502Z"
   },
   {
    "duration": 17,
    "start_time": "2022-12-20T14:59:27.533Z"
   },
   {
    "duration": 186,
    "start_time": "2022-12-20T14:59:32.270Z"
   },
   {
    "duration": 289,
    "start_time": "2022-12-20T15:04:52.337Z"
   },
   {
    "duration": 216,
    "start_time": "2022-12-20T15:05:05.397Z"
   },
   {
    "duration": 236,
    "start_time": "2022-12-20T15:05:14.026Z"
   },
   {
    "duration": 68,
    "start_time": "2022-12-20T15:26:46.773Z"
   },
   {
    "duration": 1548,
    "start_time": "2022-12-20T15:26:52.793Z"
   },
   {
    "duration": 100,
    "start_time": "2022-12-20T15:26:54.343Z"
   },
   {
    "duration": 32,
    "start_time": "2022-12-20T15:26:54.445Z"
   },
   {
    "duration": 40,
    "start_time": "2022-12-20T15:26:54.480Z"
   },
   {
    "duration": 23,
    "start_time": "2022-12-20T15:26:54.525Z"
   },
   {
    "duration": 4,
    "start_time": "2022-12-20T15:26:54.550Z"
   },
   {
    "duration": 29,
    "start_time": "2022-12-20T15:26:54.556Z"
   },
   {
    "duration": 42,
    "start_time": "2022-12-20T15:26:54.587Z"
   },
   {
    "duration": 15,
    "start_time": "2022-12-20T15:26:54.631Z"
   },
   {
    "duration": 8,
    "start_time": "2022-12-20T15:26:54.649Z"
   },
   {
    "duration": 9,
    "start_time": "2022-12-20T15:26:54.659Z"
   },
   {
    "duration": 6,
    "start_time": "2022-12-20T15:26:54.671Z"
   },
   {
    "duration": 7,
    "start_time": "2022-12-20T15:26:54.679Z"
   },
   {
    "duration": 18,
    "start_time": "2022-12-20T15:26:54.688Z"
   },
   {
    "duration": 443,
    "start_time": "2022-12-20T15:26:54.714Z"
   },
   {
    "duration": 20,
    "start_time": "2022-12-20T15:26:55.160Z"
   },
   {
    "duration": 347,
    "start_time": "2022-12-20T15:26:55.182Z"
   },
   {
    "duration": 6448,
    "start_time": "2022-12-20T15:26:55.531Z"
   },
   {
    "duration": 46,
    "start_time": "2022-12-20T15:27:01.981Z"
   },
   {
    "duration": 36,
    "start_time": "2022-12-20T15:27:02.029Z"
   },
   {
    "duration": 8,
    "start_time": "2022-12-20T15:27:02.068Z"
   },
   {
    "duration": 13,
    "start_time": "2022-12-20T15:27:02.078Z"
   },
   {
    "duration": 52,
    "start_time": "2022-12-20T15:27:02.093Z"
   },
   {
    "duration": 219,
    "start_time": "2022-12-20T15:27:02.147Z"
   },
   {
    "duration": 15,
    "start_time": "2022-12-20T15:27:02.368Z"
   },
   {
    "duration": 33,
    "start_time": "2022-12-20T15:27:02.385Z"
   },
   {
    "duration": 22,
    "start_time": "2022-12-20T15:27:02.421Z"
   },
   {
    "duration": 17,
    "start_time": "2022-12-20T15:27:02.447Z"
   },
   {
    "duration": 36,
    "start_time": "2022-12-20T15:27:02.466Z"
   },
   {
    "duration": 229,
    "start_time": "2022-12-20T15:27:02.504Z"
   },
   {
    "duration": 18,
    "start_time": "2022-12-20T15:27:02.735Z"
   },
   {
    "duration": 218,
    "start_time": "2022-12-20T15:27:02.755Z"
   },
   {
    "duration": 329,
    "start_time": "2022-12-20T15:27:02.975Z"
   },
   {
    "duration": 24,
    "start_time": "2022-12-20T15:27:03.305Z"
   },
   {
    "duration": 9,
    "start_time": "2022-12-20T15:27:03.332Z"
   },
   {
    "duration": 14,
    "start_time": "2022-12-20T15:27:03.343Z"
   },
   {
    "duration": 16,
    "start_time": "2022-12-20T15:27:03.359Z"
   },
   {
    "duration": 18,
    "start_time": "2022-12-20T15:27:03.378Z"
   },
   {
    "duration": 22,
    "start_time": "2022-12-20T15:27:03.398Z"
   },
   {
    "duration": 35,
    "start_time": "2022-12-20T15:27:03.422Z"
   },
   {
    "duration": 12,
    "start_time": "2022-12-20T15:27:03.459Z"
   },
   {
    "duration": 19,
    "start_time": "2022-12-20T15:27:03.473Z"
   },
   {
    "duration": 34,
    "start_time": "2022-12-20T15:27:03.494Z"
   },
   {
    "duration": 28,
    "start_time": "2022-12-20T15:27:03.531Z"
   },
   {
    "duration": 32,
    "start_time": "2022-12-20T15:27:03.561Z"
   },
   {
    "duration": 24,
    "start_time": "2022-12-20T15:27:03.595Z"
   },
   {
    "duration": 348,
    "start_time": "2022-12-20T15:28:03.200Z"
   },
   {
    "duration": 344,
    "start_time": "2022-12-20T15:28:09.374Z"
   },
   {
    "duration": 355,
    "start_time": "2022-12-20T15:28:16.161Z"
   },
   {
    "duration": 342,
    "start_time": "2022-12-20T15:28:24.848Z"
   },
   {
    "duration": 579,
    "start_time": "2022-12-20T15:28:33.563Z"
   },
   {
    "duration": 307,
    "start_time": "2022-12-20T15:28:41.290Z"
   },
   {
    "duration": 17,
    "start_time": "2022-12-20T15:30:27.875Z"
   },
   {
    "duration": 195,
    "start_time": "2022-12-20T15:30:28.753Z"
   },
   {
    "duration": 337,
    "start_time": "2022-12-20T15:32:00.341Z"
   },
   {
    "duration": 166,
    "start_time": "2022-12-20T15:41:11.640Z"
   },
   {
    "duration": 4,
    "start_time": "2022-12-20T15:41:16.448Z"
   },
   {
    "duration": 9,
    "start_time": "2022-12-20T15:41:17.783Z"
   },
   {
    "duration": 28,
    "start_time": "2022-12-20T15:41:23.432Z"
   },
   {
    "duration": 184,
    "start_time": "2022-12-20T15:41:32.743Z"
   },
   {
    "duration": 234,
    "start_time": "2022-12-20T15:41:50.228Z"
   },
   {
    "duration": 200,
    "start_time": "2022-12-20T15:41:59.105Z"
   },
   {
    "duration": 190,
    "start_time": "2022-12-20T15:42:10.791Z"
   },
   {
    "duration": 333,
    "start_time": "2022-12-20T15:42:19.127Z"
   },
   {
    "duration": 208,
    "start_time": "2022-12-20T15:42:25.732Z"
   },
   {
    "duration": 236,
    "start_time": "2022-12-20T16:13:02.209Z"
   },
   {
    "duration": 277,
    "start_time": "2022-12-20T16:13:13.560Z"
   },
   {
    "duration": 264,
    "start_time": "2022-12-20T16:13:20.904Z"
   },
   {
    "duration": 191,
    "start_time": "2022-12-20T18:11:55.396Z"
   },
   {
    "duration": 17,
    "start_time": "2022-12-20T18:15:21.858Z"
   },
   {
    "duration": 24,
    "start_time": "2022-12-20T18:15:36.341Z"
   },
   {
    "duration": 204,
    "start_time": "2022-12-20T18:15:45.579Z"
   },
   {
    "duration": 207,
    "start_time": "2022-12-20T18:16:23.039Z"
   },
   {
    "duration": 198,
    "start_time": "2022-12-20T18:16:35.237Z"
   },
   {
    "duration": 7,
    "start_time": "2022-12-20T18:18:56.440Z"
   },
   {
    "duration": 5,
    "start_time": "2022-12-20T18:19:02.307Z"
   },
   {
    "duration": 196,
    "start_time": "2022-12-20T18:19:02.788Z"
   },
   {
    "duration": 8,
    "start_time": "2022-12-20T18:19:13.776Z"
   },
   {
    "duration": 7,
    "start_time": "2022-12-20T18:19:24.244Z"
   },
   {
    "duration": 5,
    "start_time": "2022-12-20T18:19:31.640Z"
   },
   {
    "duration": 25,
    "start_time": "2022-12-20T18:19:39.748Z"
   },
   {
    "duration": 25,
    "start_time": "2022-12-20T18:20:16.224Z"
   },
   {
    "duration": 7,
    "start_time": "2022-12-20T18:20:42.500Z"
   },
   {
    "duration": 16,
    "start_time": "2022-12-20T18:20:51.632Z"
   },
   {
    "duration": 17,
    "start_time": "2022-12-20T18:21:05.948Z"
   },
   {
    "duration": 351,
    "start_time": "2022-12-20T18:21:12.004Z"
   },
   {
    "duration": 182,
    "start_time": "2022-12-20T18:21:34.885Z"
   },
   {
    "duration": 30,
    "start_time": "2022-12-20T18:21:43.291Z"
   },
   {
    "duration": 153,
    "start_time": "2022-12-20T18:22:49.533Z"
   },
   {
    "duration": 7,
    "start_time": "2022-12-20T18:23:05.069Z"
   },
   {
    "duration": 29,
    "start_time": "2022-12-20T18:23:28.452Z"
   },
   {
    "duration": 4,
    "start_time": "2022-12-20T18:24:14.475Z"
   },
   {
    "duration": 210,
    "start_time": "2022-12-20T18:24:16.247Z"
   },
   {
    "duration": 200,
    "start_time": "2022-12-20T18:24:23.981Z"
   },
   {
    "duration": 220,
    "start_time": "2022-12-20T18:24:35.645Z"
   },
   {
    "duration": 12,
    "start_time": "2022-12-20T18:24:41.413Z"
   },
   {
    "duration": 209,
    "start_time": "2022-12-20T18:24:42.164Z"
   },
   {
    "duration": 4,
    "start_time": "2022-12-20T18:24:46.940Z"
   },
   {
    "duration": 193,
    "start_time": "2022-12-20T18:24:48.076Z"
   },
   {
    "duration": 1304,
    "start_time": "2022-12-20T18:24:56.685Z"
   },
   {
    "duration": 63,
    "start_time": "2022-12-20T18:24:57.992Z"
   },
   {
    "duration": 30,
    "start_time": "2022-12-20T18:24:58.057Z"
   },
   {
    "duration": 26,
    "start_time": "2022-12-20T18:24:58.089Z"
   },
   {
    "duration": 26,
    "start_time": "2022-12-20T18:24:58.116Z"
   },
   {
    "duration": 10,
    "start_time": "2022-12-20T18:24:58.144Z"
   },
   {
    "duration": 29,
    "start_time": "2022-12-20T18:24:58.156Z"
   },
   {
    "duration": 12,
    "start_time": "2022-12-20T18:24:58.188Z"
   },
   {
    "duration": 56,
    "start_time": "2022-12-20T18:24:58.202Z"
   },
   {
    "duration": 10,
    "start_time": "2022-12-20T18:24:58.262Z"
   },
   {
    "duration": 9,
    "start_time": "2022-12-20T18:24:58.273Z"
   },
   {
    "duration": 7,
    "start_time": "2022-12-20T18:24:58.284Z"
   },
   {
    "duration": 7,
    "start_time": "2022-12-20T18:24:58.293Z"
   },
   {
    "duration": 8,
    "start_time": "2022-12-20T18:24:58.301Z"
   },
   {
    "duration": 441,
    "start_time": "2022-12-20T18:24:58.311Z"
   },
   {
    "duration": 17,
    "start_time": "2022-12-20T18:24:58.754Z"
   },
   {
    "duration": 354,
    "start_time": "2022-12-20T18:24:58.773Z"
   },
   {
    "duration": 8107,
    "start_time": "2022-12-20T18:24:59.129Z"
   },
   {
    "duration": 25,
    "start_time": "2022-12-20T18:25:07.241Z"
   },
   {
    "duration": 22,
    "start_time": "2022-12-20T18:25:07.268Z"
   },
   {
    "duration": 5,
    "start_time": "2022-12-20T18:25:07.291Z"
   },
   {
    "duration": 52,
    "start_time": "2022-12-20T18:25:07.298Z"
   },
   {
    "duration": 27,
    "start_time": "2022-12-20T18:25:07.352Z"
   },
   {
    "duration": 216,
    "start_time": "2022-12-20T18:25:07.380Z"
   },
   {
    "duration": 37,
    "start_time": "2022-12-20T18:25:07.598Z"
   },
   {
    "duration": 13,
    "start_time": "2022-12-20T18:25:07.643Z"
   },
   {
    "duration": 15,
    "start_time": "2022-12-20T18:25:07.658Z"
   },
   {
    "duration": 4,
    "start_time": "2022-12-20T18:25:07.676Z"
   },
   {
    "duration": 213,
    "start_time": "2022-12-20T18:25:07.682Z"
   },
   {
    "duration": 34,
    "start_time": "2022-12-20T18:25:07.896Z"
   },
   {
    "duration": 243,
    "start_time": "2022-12-20T18:25:07.931Z"
   },
   {
    "duration": 19,
    "start_time": "2022-12-20T18:25:08.177Z"
   },
   {
    "duration": 248,
    "start_time": "2022-12-20T18:25:08.198Z"
   },
   {
    "duration": 316,
    "start_time": "2022-12-20T18:25:08.448Z"
   },
   {
    "duration": 7,
    "start_time": "2022-12-20T18:25:08.766Z"
   },
   {
    "duration": 11,
    "start_time": "2022-12-20T18:25:08.775Z"
   },
   {
    "duration": 10,
    "start_time": "2022-12-20T18:25:08.788Z"
   },
   {
    "duration": 18,
    "start_time": "2022-12-20T18:25:08.812Z"
   },
   {
    "duration": 24,
    "start_time": "2022-12-20T18:25:08.831Z"
   },
   {
    "duration": 10,
    "start_time": "2022-12-20T18:25:08.856Z"
   },
   {
    "duration": 9,
    "start_time": "2022-12-20T18:25:08.868Z"
   },
   {
    "duration": 18,
    "start_time": "2022-12-20T18:25:08.879Z"
   },
   {
    "duration": 9,
    "start_time": "2022-12-20T18:25:08.898Z"
   },
   {
    "duration": 12,
    "start_time": "2022-12-20T18:25:08.908Z"
   },
   {
    "duration": 34,
    "start_time": "2022-12-20T18:25:08.927Z"
   },
   {
    "duration": 20,
    "start_time": "2022-12-20T18:25:08.962Z"
   },
   {
    "duration": 6,
    "start_time": "2022-12-20T18:25:08.984Z"
   },
   {
    "duration": 4,
    "start_time": "2022-12-20T18:26:00.388Z"
   },
   {
    "duration": 243,
    "start_time": "2022-12-20T18:26:01.197Z"
   },
   {
    "duration": 10,
    "start_time": "2022-12-20T18:26:13.256Z"
   },
   {
    "duration": 10,
    "start_time": "2022-12-20T18:26:26.796Z"
   },
   {
    "duration": 277,
    "start_time": "2022-12-20T18:26:27.684Z"
   },
   {
    "duration": 4,
    "start_time": "2022-12-20T18:26:39.996Z"
   },
   {
    "duration": 233,
    "start_time": "2022-12-20T18:26:41.812Z"
   },
   {
    "duration": 213,
    "start_time": "2022-12-20T18:26:58.241Z"
   },
   {
    "duration": 209,
    "start_time": "2022-12-20T18:27:15.747Z"
   },
   {
    "duration": 16,
    "start_time": "2022-12-20T18:27:18.038Z"
   },
   {
    "duration": 1342,
    "start_time": "2022-12-20T18:27:45.836Z"
   },
   {
    "duration": 66,
    "start_time": "2022-12-20T18:27:47.180Z"
   },
   {
    "duration": 31,
    "start_time": "2022-12-20T18:27:47.251Z"
   },
   {
    "duration": 49,
    "start_time": "2022-12-20T18:27:47.285Z"
   },
   {
    "duration": 17,
    "start_time": "2022-12-20T18:27:47.336Z"
   },
   {
    "duration": 6,
    "start_time": "2022-12-20T18:27:47.355Z"
   },
   {
    "duration": 19,
    "start_time": "2022-12-20T18:27:47.363Z"
   },
   {
    "duration": 9,
    "start_time": "2022-12-20T18:27:47.384Z"
   },
   {
    "duration": 61,
    "start_time": "2022-12-20T18:27:47.395Z"
   },
   {
    "duration": 9,
    "start_time": "2022-12-20T18:27:47.458Z"
   },
   {
    "duration": 6,
    "start_time": "2022-12-20T18:27:47.468Z"
   },
   {
    "duration": 5,
    "start_time": "2022-12-20T18:27:47.476Z"
   },
   {
    "duration": 6,
    "start_time": "2022-12-20T18:27:47.485Z"
   },
   {
    "duration": 10,
    "start_time": "2022-12-20T18:27:47.493Z"
   },
   {
    "duration": 447,
    "start_time": "2022-12-20T18:27:47.505Z"
   },
   {
    "duration": 18,
    "start_time": "2022-12-20T18:27:47.954Z"
   },
   {
    "duration": 367,
    "start_time": "2022-12-20T18:27:47.974Z"
   },
   {
    "duration": 6635,
    "start_time": "2022-12-20T18:27:48.342Z"
   },
   {
    "duration": 35,
    "start_time": "2022-12-20T18:27:54.980Z"
   },
   {
    "duration": 29,
    "start_time": "2022-12-20T18:27:55.016Z"
   },
   {
    "duration": 18,
    "start_time": "2022-12-20T18:27:55.047Z"
   },
   {
    "duration": 14,
    "start_time": "2022-12-20T18:27:55.067Z"
   },
   {
    "duration": 49,
    "start_time": "2022-12-20T18:27:55.083Z"
   },
   {
    "duration": 232,
    "start_time": "2022-12-20T18:27:55.140Z"
   },
   {
    "duration": 14,
    "start_time": "2022-12-20T18:27:55.373Z"
   },
   {
    "duration": 29,
    "start_time": "2022-12-20T18:27:55.389Z"
   },
   {
    "duration": 35,
    "start_time": "2022-12-20T18:27:55.421Z"
   },
   {
    "duration": 13,
    "start_time": "2022-12-20T18:27:55.458Z"
   },
   {
    "duration": 188,
    "start_time": "2022-12-20T18:27:55.473Z"
   },
   {
    "duration": 16,
    "start_time": "2022-12-20T18:27:55.663Z"
   },
   {
    "duration": 207,
    "start_time": "2022-12-20T18:27:55.681Z"
   },
   {
    "duration": 36,
    "start_time": "2022-12-20T18:27:55.890Z"
   },
   {
    "duration": 182,
    "start_time": "2022-12-20T18:27:55.927Z"
   },
   {
    "duration": 341,
    "start_time": "2022-12-20T18:27:56.111Z"
   },
   {
    "duration": 10,
    "start_time": "2022-12-20T18:27:56.454Z"
   },
   {
    "duration": 13,
    "start_time": "2022-12-20T18:27:56.466Z"
   },
   {
    "duration": 30,
    "start_time": "2022-12-20T18:27:56.482Z"
   },
   {
    "duration": 18,
    "start_time": "2022-12-20T18:27:56.514Z"
   },
   {
    "duration": 26,
    "start_time": "2022-12-20T18:27:56.537Z"
   },
   {
    "duration": 14,
    "start_time": "2022-12-20T18:27:56.567Z"
   },
   {
    "duration": 18,
    "start_time": "2022-12-20T18:27:56.584Z"
   },
   {
    "duration": 67,
    "start_time": "2022-12-20T18:27:56.605Z"
   },
   {
    "duration": 11,
    "start_time": "2022-12-20T18:27:56.675Z"
   },
   {
    "duration": 14,
    "start_time": "2022-12-20T18:27:56.688Z"
   },
   {
    "duration": 21,
    "start_time": "2022-12-20T18:27:56.705Z"
   },
   {
    "duration": 33,
    "start_time": "2022-12-20T18:27:56.731Z"
   },
   {
    "duration": 16,
    "start_time": "2022-12-20T18:27:56.766Z"
   },
   {
    "duration": 24,
    "start_time": "2022-12-20T18:28:37.766Z"
   },
   {
    "duration": 5,
    "start_time": "2022-12-20T18:29:10.396Z"
   },
   {
    "duration": 4,
    "start_time": "2022-12-20T18:29:31.906Z"
   },
   {
    "duration": 5,
    "start_time": "2022-12-20T18:30:26.586Z"
   },
   {
    "duration": 32,
    "start_time": "2022-12-20T18:30:34.395Z"
   },
   {
    "duration": 4,
    "start_time": "2022-12-20T18:30:53.652Z"
   },
   {
    "duration": 1300,
    "start_time": "2022-12-20T18:32:23.355Z"
   },
   {
    "duration": 61,
    "start_time": "2022-12-20T18:32:24.657Z"
   },
   {
    "duration": 50,
    "start_time": "2022-12-20T18:32:24.719Z"
   },
   {
    "duration": 26,
    "start_time": "2022-12-20T18:32:24.775Z"
   },
   {
    "duration": 32,
    "start_time": "2022-12-20T18:32:24.804Z"
   },
   {
    "duration": 22,
    "start_time": "2022-12-20T18:32:24.838Z"
   },
   {
    "duration": 33,
    "start_time": "2022-12-20T18:32:24.863Z"
   },
   {
    "duration": 51,
    "start_time": "2022-12-20T18:32:24.898Z"
   },
   {
    "duration": 23,
    "start_time": "2022-12-20T18:32:24.956Z"
   },
   {
    "duration": 11,
    "start_time": "2022-12-20T18:32:24.983Z"
   },
   {
    "duration": 18,
    "start_time": "2022-12-20T18:32:24.996Z"
   },
   {
    "duration": 51,
    "start_time": "2022-12-20T18:32:25.016Z"
   },
   {
    "duration": 30,
    "start_time": "2022-12-20T18:32:25.069Z"
   },
   {
    "duration": 10,
    "start_time": "2022-12-20T18:32:25.102Z"
   },
   {
    "duration": 49,
    "start_time": "2022-12-20T18:32:25.115Z"
   },
   {
    "duration": 469,
    "start_time": "2022-12-20T18:32:25.167Z"
   },
   {
    "duration": 25,
    "start_time": "2022-12-20T18:32:25.637Z"
   },
   {
    "duration": 353,
    "start_time": "2022-12-20T18:32:25.664Z"
   },
   {
    "duration": 6885,
    "start_time": "2022-12-20T18:32:26.019Z"
   },
   {
    "duration": 37,
    "start_time": "2022-12-20T18:32:32.907Z"
   },
   {
    "duration": 45,
    "start_time": "2022-12-20T18:32:32.947Z"
   },
   {
    "duration": 9,
    "start_time": "2022-12-20T18:32:32.994Z"
   },
   {
    "duration": 65,
    "start_time": "2022-12-20T18:32:33.005Z"
   },
   {
    "duration": 34,
    "start_time": "2022-12-20T18:32:33.072Z"
   },
   {
    "duration": 258,
    "start_time": "2022-12-20T18:32:33.108Z"
   },
   {
    "duration": 16,
    "start_time": "2022-12-20T18:32:33.369Z"
   },
   {
    "duration": 26,
    "start_time": "2022-12-20T18:32:33.388Z"
   },
   {
    "duration": 22,
    "start_time": "2022-12-20T18:32:33.419Z"
   },
   {
    "duration": 22,
    "start_time": "2022-12-20T18:32:33.446Z"
   },
   {
    "duration": 208,
    "start_time": "2022-12-20T18:32:33.471Z"
   },
   {
    "duration": 17,
    "start_time": "2022-12-20T18:32:33.681Z"
   },
   {
    "duration": 234,
    "start_time": "2022-12-20T18:32:33.700Z"
   },
   {
    "duration": 28,
    "start_time": "2022-12-20T18:32:33.941Z"
   },
   {
    "duration": 212,
    "start_time": "2022-12-20T18:32:33.970Z"
   },
   {
    "duration": 364,
    "start_time": "2022-12-20T18:32:34.184Z"
   },
   {
    "duration": 9,
    "start_time": "2022-12-20T18:32:34.549Z"
   },
   {
    "duration": 12,
    "start_time": "2022-12-20T18:32:34.560Z"
   },
   {
    "duration": 16,
    "start_time": "2022-12-20T18:32:34.574Z"
   },
   {
    "duration": 23,
    "start_time": "2022-12-20T18:32:34.593Z"
   },
   {
    "duration": 31,
    "start_time": "2022-12-20T18:32:34.625Z"
   },
   {
    "duration": 9,
    "start_time": "2022-12-20T18:32:34.658Z"
   },
   {
    "duration": 11,
    "start_time": "2022-12-20T18:32:34.669Z"
   },
   {
    "duration": 10,
    "start_time": "2022-12-20T18:32:34.682Z"
   },
   {
    "duration": 14,
    "start_time": "2022-12-20T18:32:34.694Z"
   },
   {
    "duration": 38,
    "start_time": "2022-12-20T18:32:34.715Z"
   },
   {
    "duration": 8,
    "start_time": "2022-12-20T18:32:34.754Z"
   },
   {
    "duration": 19,
    "start_time": "2022-12-20T18:32:34.764Z"
   },
   {
    "duration": 7,
    "start_time": "2022-12-20T18:32:34.785Z"
   },
   {
    "duration": 24,
    "start_time": "2022-12-20T18:33:30.325Z"
   },
   {
    "duration": 205,
    "start_time": "2022-12-20T18:33:36.341Z"
   },
   {
    "duration": 14,
    "start_time": "2022-12-20T18:34:05.780Z"
   },
   {
    "duration": 21,
    "start_time": "2022-12-20T18:34:15.099Z"
   },
   {
    "duration": 15,
    "start_time": "2022-12-20T18:34:22.229Z"
   },
   {
    "duration": 192,
    "start_time": "2022-12-20T18:34:42.587Z"
   },
   {
    "duration": 201,
    "start_time": "2022-12-20T18:34:57.867Z"
   },
   {
    "duration": 13,
    "start_time": "2022-12-20T18:35:07.465Z"
   },
   {
    "duration": 222,
    "start_time": "2022-12-20T18:35:17.308Z"
   },
   {
    "duration": 79,
    "start_time": "2023-07-22T18:03:52.099Z"
   }
  ],
  "kernelspec": {
   "display_name": "Python 3 (ipykernel)",
   "language": "python",
   "name": "python3"
  },
  "language_info": {
   "codemirror_mode": {
    "name": "ipython",
    "version": 3
   },
   "file_extension": ".py",
   "mimetype": "text/x-python",
   "name": "python",
   "nbconvert_exporter": "python",
   "pygments_lexer": "ipython3",
   "version": "3.9.5"
  },
  "toc": {
   "base_numbering": 1,
   "nav_menu": {},
   "number_sections": true,
   "sideBar": true,
   "skip_h1_title": true,
   "title_cell": "Table of Contents",
   "title_sidebar": "Contents",
   "toc_cell": false,
   "toc_position": {
    "height": "calc(100% - 180px)",
    "left": "10px",
    "top": "150px",
    "width": "382.237px"
   },
   "toc_section_display": true,
   "toc_window_display": true
  }
 },
 "nbformat": 4,
 "nbformat_minor": 2
}
