{
 "cells": [
  {
   "cell_type": "markdown",
   "metadata": {},
   "source": [
    "# Проект для «Викишоп»"
   ]
  },
  {
   "cell_type": "markdown",
   "metadata": {},
   "source": [
    "Интернет-магазин «Викишоп» запускает новый сервис. Теперь пользователи могут редактировать и дополнять описания товаров, как в вики-сообществах. То есть клиенты предлагают свои правки и комментируют изменения других. Магазину нужен инструмент, который будет искать токсичные комментарии и отправлять их на модерацию. \n",
    "\n",
    "Обучите модель классифицировать комментарии на позитивные и негативные. В вашем распоряжении набор данных с разметкой о токсичности правок.\n",
    "\n",
    "Постройте модель со значением метрики качества *F1* не меньше 0.75. \n",
    "\n",
    "**Инструкция по выполнению проекта**\n",
    "\n",
    "1. Загрузите и подготовьте данные.\n",
    "2. Обучите разные модели. \n",
    "3. Сделайте выводы.\n",
    "\n",
    "Для выполнения проекта применять *BERT* необязательно, но вы можете попробовать.\n",
    "\n",
    "**Описание данных**\n",
    "\n",
    "Данные находятся в файле `toxic_comments.csv`. Столбец *text* в нём содержит текст комментария, а *toxic* — целевой признак."
   ]
  },
  {
   "cell_type": "markdown",
   "metadata": {
    "toc": true
   },
   "source": [
    "<h1>Содержание<span class=\"tocSkip\"></span></h1>\n",
    "<div class=\"toc\"><ul class=\"toc-item\"><li><span><a href=\"#Подготовка\" data-toc-modified-id=\"Подготовка-1\"><span class=\"toc-item-num\">1&nbsp;&nbsp;</span>Подготовка</a></span><ul class=\"toc-item\"><li><span><a href=\"#Вывод--по-предобработке\" data-toc-modified-id=\"Вывод--по-предобработке-1.1\"><span class=\"toc-item-num\">1.1&nbsp;&nbsp;</span>Вывод  по предобработке</a></span></li></ul></li><li><span><a href=\"#Обучение\" data-toc-modified-id=\"Обучение-2\"><span class=\"toc-item-num\">2&nbsp;&nbsp;</span>Обучение</a></span><ul class=\"toc-item\"><li><span><a href=\"#Модель-LogisticRegression\" data-toc-modified-id=\"Модель-LogisticRegression-2.1\"><span class=\"toc-item-num\">2.1&nbsp;&nbsp;</span>Модель LogisticRegression</a></span></li><li><span><a href=\"#Модель-RandomForestClassifier\" data-toc-modified-id=\"Модель-RandomForestClassifier-2.2\"><span class=\"toc-item-num\">2.2&nbsp;&nbsp;</span>Модель RandomForestClassifier</a></span></li><li><span><a href=\"#Модель-CatBoostClassifier\" data-toc-modified-id=\"Модель-CatBoostClassifier-2.3\"><span class=\"toc-item-num\">2.3&nbsp;&nbsp;</span>Модель CatBoostClassifier</a></span></li><li><span><a href=\"#Вывод-по-обучению-моделей\" data-toc-modified-id=\"Вывод-по-обучению-моделей-2.4\"><span class=\"toc-item-num\">2.4&nbsp;&nbsp;</span>Вывод по обучению моделей</a></span></li></ul></li><li><span><a href=\"#Тестирование\" data-toc-modified-id=\"Тестирование-3\"><span class=\"toc-item-num\">3&nbsp;&nbsp;</span>Тестирование</a></span></li><li><span><a href=\"#Выводы\" data-toc-modified-id=\"Выводы-4\"><span class=\"toc-item-num\">4&nbsp;&nbsp;</span>Выводы</a></span></li></ul></div>"
   ]
  },
  {
   "cell_type": "markdown",
   "metadata": {},
   "source": [
    "## Подготовка"
   ]
  },
  {
   "cell_type": "code",
   "execution_count": 1,
   "metadata": {},
   "outputs": [
    {
     "name": "stderr",
     "output_type": "stream",
     "text": [
      "[nltk_data] Downloading package averaged_perceptron_tagger to\n",
      "[nltk_data]     /home/jovyan/nltk_data...\n",
      "[nltk_data]   Package averaged_perceptron_tagger is already up-to-\n",
      "[nltk_data]       date!\n"
     ]
    }
   ],
   "source": [
    "import time\n",
    "import pandas as pd\n",
    "import numpy as np\n",
    "import re\n",
    "from pymystem3 import Mystem \n",
    "\n",
    "import matplotlib.pyplot as plt\n",
    "import seaborn as sns\n",
    "from sklearn.model_selection import RandomizedSearchCV\n",
    "from sklearn.metrics import make_scorer\n",
    "from sklearn.metrics import f1_score\n",
    "from nltk.corpus import stopwords as nltk_stopwords\n",
    "from sklearn.feature_extraction.text import TfidfVectorizer\n",
    "\n",
    "from sklearn.preprocessing import StandardScaler\n",
    "from sklearn.linear_model import LogisticRegression\n",
    "from sklearn.ensemble import RandomForestClassifier\n",
    "from catboost import CatBoostClassifier\n",
    "from catboost import CatBoostClassifier, Pool\n",
    "from sklearn.model_selection import train_test_split, cross_val_score, GridSearchCV\n",
    "\n",
    "from tqdm.notebook import tqdm\n",
    "import nltk\n",
    "from nltk.stem import WordNetLemmatizer\n",
    "nltk.download('averaged_perceptron_tagger')\n",
    "from nltk.corpus import wordnet"
   ]
  },
  {
   "cell_type": "code",
   "execution_count": 2,
   "metadata": {},
   "outputs": [],
   "source": [
    "import sys\n",
    "if not sys.warnoptions:\n",
    "    import warnings\n",
    "    warnings.simplefilter(\"ignore\")"
   ]
  },
  {
   "cell_type": "markdown",
   "metadata": {},
   "source": [
    "Открытие файла и знакомство с данными"
   ]
  },
  {
   "cell_type": "code",
   "execution_count": 3,
   "metadata": {},
   "outputs": [],
   "source": [
    "try:\n",
    "    df = pd.read_csv('/datasets/toxic_comments.csv')\n",
    "except:\n",
    "    df = pd.read_csv('toxic_comments.csv')"
   ]
  },
  {
   "cell_type": "code",
   "execution_count": 4,
   "metadata": {},
   "outputs": [
    {
     "data": {
      "text/html": [
       "<div>\n",
       "<style scoped>\n",
       "    .dataframe tbody tr th:only-of-type {\n",
       "        vertical-align: middle;\n",
       "    }\n",
       "\n",
       "    .dataframe tbody tr th {\n",
       "        vertical-align: top;\n",
       "    }\n",
       "\n",
       "    .dataframe thead th {\n",
       "        text-align: right;\n",
       "    }\n",
       "</style>\n",
       "<table border=\"1\" class=\"dataframe\">\n",
       "  <thead>\n",
       "    <tr style=\"text-align: right;\">\n",
       "      <th></th>\n",
       "      <th>Unnamed: 0</th>\n",
       "      <th>text</th>\n",
       "      <th>toxic</th>\n",
       "    </tr>\n",
       "  </thead>\n",
       "  <tbody>\n",
       "    <tr>\n",
       "      <th>0</th>\n",
       "      <td>0</td>\n",
       "      <td>Explanation\\nWhy the edits made under my usern...</td>\n",
       "      <td>0</td>\n",
       "    </tr>\n",
       "    <tr>\n",
       "      <th>1</th>\n",
       "      <td>1</td>\n",
       "      <td>D'aww! He matches this background colour I'm s...</td>\n",
       "      <td>0</td>\n",
       "    </tr>\n",
       "    <tr>\n",
       "      <th>2</th>\n",
       "      <td>2</td>\n",
       "      <td>Hey man, I'm really not trying to edit war. It...</td>\n",
       "      <td>0</td>\n",
       "    </tr>\n",
       "    <tr>\n",
       "      <th>3</th>\n",
       "      <td>3</td>\n",
       "      <td>\"\\nMore\\nI can't make any real suggestions on ...</td>\n",
       "      <td>0</td>\n",
       "    </tr>\n",
       "    <tr>\n",
       "      <th>4</th>\n",
       "      <td>4</td>\n",
       "      <td>You, sir, are my hero. Any chance you remember...</td>\n",
       "      <td>0</td>\n",
       "    </tr>\n",
       "  </tbody>\n",
       "</table>\n",
       "</div>"
      ],
      "text/plain": [
       "   Unnamed: 0                                               text  toxic\n",
       "0           0  Explanation\\nWhy the edits made under my usern...      0\n",
       "1           1  D'aww! He matches this background colour I'm s...      0\n",
       "2           2  Hey man, I'm really not trying to edit war. It...      0\n",
       "3           3  \"\\nMore\\nI can't make any real suggestions on ...      0\n",
       "4           4  You, sir, are my hero. Any chance you remember...      0"
      ]
     },
     "metadata": {},
     "output_type": "display_data"
    },
    {
     "name": "stdout",
     "output_type": "stream",
     "text": [
      "<class 'pandas.core.frame.DataFrame'>\n",
      "RangeIndex: 159292 entries, 0 to 159291\n",
      "Data columns (total 3 columns):\n",
      " #   Column      Non-Null Count   Dtype \n",
      "---  ------      --------------   ----- \n",
      " 0   Unnamed: 0  159292 non-null  int64 \n",
      " 1   text        159292 non-null  object\n",
      " 2   toxic       159292 non-null  int64 \n",
      "dtypes: int64(2), object(1)\n",
      "memory usage: 3.6+ MB\n"
     ]
    }
   ],
   "source": [
    "display(df.head())\n",
    "df.info()"
   ]
  },
  {
   "cell_type": "markdown",
   "metadata": {},
   "source": [
    "Проверка на наличие явных дубликатов строк"
   ]
  },
  {
   "cell_type": "code",
   "execution_count": 5,
   "metadata": {},
   "outputs": [
    {
     "data": {
      "text/plain": [
       "0"
      ]
     },
     "execution_count": 5,
     "metadata": {},
     "output_type": "execute_result"
    }
   ],
   "source": [
    "df.duplicated().sum()"
   ]
  },
  {
   "cell_type": "markdown",
   "metadata": {},
   "source": [
    "Проверка количества позитивных и негативных комментариев"
   ]
  },
  {
   "cell_type": "code",
   "execution_count": 6,
   "metadata": {},
   "outputs": [
    {
     "data": {
      "text/plain": [
       "0    0.898388\n",
       "1    0.101612\n",
       "Name: toxic, dtype: float64"
      ]
     },
     "execution_count": 6,
     "metadata": {},
     "output_type": "execute_result"
    }
   ],
   "source": [
    "df['toxic'].value_counts(normalize=True)"
   ]
  },
  {
   "cell_type": "code",
   "execution_count": 7,
   "metadata": {},
   "outputs": [
    {
     "data": {
      "text/plain": [
       "8.841344371679229"
      ]
     },
     "execution_count": 7,
     "metadata": {},
     "output_type": "execute_result"
    }
   ],
   "source": [
    "class_ratio = df['toxic'].value_counts()[0] / df['toxic'].value_counts()[1]\n",
    "class_ratio"
   ]
  },
  {
   "cell_type": "markdown",
   "metadata": {},
   "source": [
    "Классы несбалансированы. Отношение 1:8.84. Проведем поиск лучшего способа балансировки и сравним качество.\n",
    "\n",
    "1. Изменение весов в модели обучения\n",
    "2. Ресемплирование с уменьшением класса 0\n",
    "\n",
    "Ресемплирование с увеличением класса 1 не будем использовать из-за громоздкого набора данных."
   ]
  },
  {
   "cell_type": "markdown",
   "metadata": {},
   "source": [
    "Подготовим признаки и целевой признак перед обучением."
   ]
  },
  {
   "cell_type": "code",
   "execution_count": 8,
   "metadata": {},
   "outputs": [],
   "source": [
    "def clear_text(text):\n",
    "    text = text.lower()  \n",
    "    clear_text  = re.sub(r\"(?:\\n|\\r)\", \" \", text)\n",
    "    clear_text = re.sub(r\"[^a-zA-Z ]+\", \"\", text).strip()\n",
    "    return clear_text"
   ]
  },
  {
   "cell_type": "code",
   "execution_count": 9,
   "metadata": {},
   "outputs": [
    {
     "data": {
      "text/html": [
       "<div>\n",
       "<style scoped>\n",
       "    .dataframe tbody tr th:only-of-type {\n",
       "        vertical-align: middle;\n",
       "    }\n",
       "\n",
       "    .dataframe tbody tr th {\n",
       "        vertical-align: top;\n",
       "    }\n",
       "\n",
       "    .dataframe thead th {\n",
       "        text-align: right;\n",
       "    }\n",
       "</style>\n",
       "<table border=\"1\" class=\"dataframe\">\n",
       "  <thead>\n",
       "    <tr style=\"text-align: right;\">\n",
       "      <th></th>\n",
       "      <th>Unnamed: 0</th>\n",
       "      <th>text</th>\n",
       "      <th>toxic</th>\n",
       "      <th>clear_text</th>\n",
       "    </tr>\n",
       "  </thead>\n",
       "  <tbody>\n",
       "    <tr>\n",
       "      <th>0</th>\n",
       "      <td>0</td>\n",
       "      <td>Explanation\\nWhy the edits made under my usern...</td>\n",
       "      <td>0</td>\n",
       "      <td>explanationwhy the edits made under my usernam...</td>\n",
       "    </tr>\n",
       "    <tr>\n",
       "      <th>1</th>\n",
       "      <td>1</td>\n",
       "      <td>D'aww! He matches this background colour I'm s...</td>\n",
       "      <td>0</td>\n",
       "      <td>daww he matches this background colour im seem...</td>\n",
       "    </tr>\n",
       "    <tr>\n",
       "      <th>2</th>\n",
       "      <td>2</td>\n",
       "      <td>Hey man, I'm really not trying to edit war. It...</td>\n",
       "      <td>0</td>\n",
       "      <td>hey man im really not trying to edit war its j...</td>\n",
       "    </tr>\n",
       "    <tr>\n",
       "      <th>3</th>\n",
       "      <td>3</td>\n",
       "      <td>\"\\nMore\\nI can't make any real suggestions on ...</td>\n",
       "      <td>0</td>\n",
       "      <td>morei cant make any real suggestions on improv...</td>\n",
       "    </tr>\n",
       "    <tr>\n",
       "      <th>4</th>\n",
       "      <td>4</td>\n",
       "      <td>You, sir, are my hero. Any chance you remember...</td>\n",
       "      <td>0</td>\n",
       "      <td>you sir are my hero any chance you remember wh...</td>\n",
       "    </tr>\n",
       "    <tr>\n",
       "      <th>5</th>\n",
       "      <td>5</td>\n",
       "      <td>\"\\n\\nCongratulations from me as well, use the ...</td>\n",
       "      <td>0</td>\n",
       "      <td>congratulations from me as well use the tools ...</td>\n",
       "    </tr>\n",
       "    <tr>\n",
       "      <th>6</th>\n",
       "      <td>6</td>\n",
       "      <td>COCKSUCKER BEFORE YOU PISS AROUND ON MY WORK</td>\n",
       "      <td>1</td>\n",
       "      <td>cocksucker before you piss around on my work</td>\n",
       "    </tr>\n",
       "    <tr>\n",
       "      <th>7</th>\n",
       "      <td>7</td>\n",
       "      <td>Your vandalism to the Matt Shirvington article...</td>\n",
       "      <td>0</td>\n",
       "      <td>your vandalism to the matt shirvington article...</td>\n",
       "    </tr>\n",
       "    <tr>\n",
       "      <th>8</th>\n",
       "      <td>8</td>\n",
       "      <td>Sorry if the word 'nonsense' was offensive to ...</td>\n",
       "      <td>0</td>\n",
       "      <td>sorry if the word nonsense was offensive to yo...</td>\n",
       "    </tr>\n",
       "    <tr>\n",
       "      <th>9</th>\n",
       "      <td>9</td>\n",
       "      <td>alignment on this subject and which are contra...</td>\n",
       "      <td>0</td>\n",
       "      <td>alignment on this subject and which are contra...</td>\n",
       "    </tr>\n",
       "    <tr>\n",
       "      <th>10</th>\n",
       "      <td>10</td>\n",
       "      <td>\"\\nFair use rationale for Image:Wonju.jpg\\n\\nT...</td>\n",
       "      <td>0</td>\n",
       "      <td>fair use rationale for imagewonjujpgthanks for...</td>\n",
       "    </tr>\n",
       "    <tr>\n",
       "      <th>11</th>\n",
       "      <td>11</td>\n",
       "      <td>bbq \\n\\nbe a man and lets discuss it-maybe ove...</td>\n",
       "      <td>0</td>\n",
       "      <td>bbq be a man and lets discuss itmaybe over the...</td>\n",
       "    </tr>\n",
       "    <tr>\n",
       "      <th>12</th>\n",
       "      <td>12</td>\n",
       "      <td>Hey... what is it..\\n@ | talk .\\nWhat is it......</td>\n",
       "      <td>1</td>\n",
       "      <td>hey what is it  talk what is it an exclusive g...</td>\n",
       "    </tr>\n",
       "    <tr>\n",
       "      <th>13</th>\n",
       "      <td>13</td>\n",
       "      <td>Before you start throwing accusations and warn...</td>\n",
       "      <td>0</td>\n",
       "      <td>before you start throwing accusations and warn...</td>\n",
       "    </tr>\n",
       "    <tr>\n",
       "      <th>14</th>\n",
       "      <td>14</td>\n",
       "      <td>Oh, and the girl above started her arguments w...</td>\n",
       "      <td>0</td>\n",
       "      <td>oh and the girl above started her arguments wi...</td>\n",
       "    </tr>\n",
       "  </tbody>\n",
       "</table>\n",
       "</div>"
      ],
      "text/plain": [
       "    Unnamed: 0                                               text  toxic  \\\n",
       "0            0  Explanation\\nWhy the edits made under my usern...      0   \n",
       "1            1  D'aww! He matches this background colour I'm s...      0   \n",
       "2            2  Hey man, I'm really not trying to edit war. It...      0   \n",
       "3            3  \"\\nMore\\nI can't make any real suggestions on ...      0   \n",
       "4            4  You, sir, are my hero. Any chance you remember...      0   \n",
       "5            5  \"\\n\\nCongratulations from me as well, use the ...      0   \n",
       "6            6       COCKSUCKER BEFORE YOU PISS AROUND ON MY WORK      1   \n",
       "7            7  Your vandalism to the Matt Shirvington article...      0   \n",
       "8            8  Sorry if the word 'nonsense' was offensive to ...      0   \n",
       "9            9  alignment on this subject and which are contra...      0   \n",
       "10          10  \"\\nFair use rationale for Image:Wonju.jpg\\n\\nT...      0   \n",
       "11          11  bbq \\n\\nbe a man and lets discuss it-maybe ove...      0   \n",
       "12          12  Hey... what is it..\\n@ | talk .\\nWhat is it......      1   \n",
       "13          13  Before you start throwing accusations and warn...      0   \n",
       "14          14  Oh, and the girl above started her arguments w...      0   \n",
       "\n",
       "                                           clear_text  \n",
       "0   explanationwhy the edits made under my usernam...  \n",
       "1   daww he matches this background colour im seem...  \n",
       "2   hey man im really not trying to edit war its j...  \n",
       "3   morei cant make any real suggestions on improv...  \n",
       "4   you sir are my hero any chance you remember wh...  \n",
       "5   congratulations from me as well use the tools ...  \n",
       "6        cocksucker before you piss around on my work  \n",
       "7   your vandalism to the matt shirvington article...  \n",
       "8   sorry if the word nonsense was offensive to yo...  \n",
       "9   alignment on this subject and which are contra...  \n",
       "10  fair use rationale for imagewonjujpgthanks for...  \n",
       "11  bbq be a man and lets discuss itmaybe over the...  \n",
       "12  hey what is it  talk what is it an exclusive g...  \n",
       "13  before you start throwing accusations and warn...  \n",
       "14  oh and the girl above started her arguments wi...  "
      ]
     },
     "metadata": {},
     "output_type": "display_data"
    }
   ],
   "source": [
    "df['clear_text'] = df['text'].apply(clear_text)\n",
    "display(df.head(15))\n",
    "df = df.drop(['text'], axis=1)"
   ]
  },
  {
   "cell_type": "code",
   "execution_count": 10,
   "metadata": {},
   "outputs": [],
   "source": [
    "w_tokenizer = nltk.tokenize.WhitespaceTokenizer()\n",
    "lemmatizer = nltk.stem.WordNetLemmatizer()\n",
    "\n",
    "def lemmatize_text(text):\n",
    "    x = [lemmatizer.lemmatize(w) for w in w_tokenizer.tokenize(text)]\n",
    "    return \" \".join(x)"
   ]
  },
  {
   "cell_type": "code",
   "execution_count": 11,
   "metadata": {},
   "outputs": [
    {
     "name": "stdout",
     "output_type": "stream",
     "text": [
      "CPU times: user 54.4 s, sys: 166 ms, total: 54.5 s\n",
      "Wall time: 1min 49s\n"
     ]
    }
   ],
   "source": [
    "%%time\n",
    "tqdm.pandas()\n",
    "df['text_lemma'] = df['clear_text'].apply(lemmatize_text)"
   ]
  },
  {
   "cell_type": "markdown",
   "metadata": {},
   "source": [
    "Деление датафрейма на две выборки: обучающую (75%) и тестовую (25%)"
   ]
  },
  {
   "cell_type": "code",
   "execution_count": 12,
   "metadata": {},
   "outputs": [
    {
     "data": {
      "text/plain": [
       "((119469,), (39823,), (119469,), (39823,))"
      ]
     },
     "execution_count": 12,
     "metadata": {},
     "output_type": "execute_result"
    }
   ],
   "source": [
    "X_train_clear, X_test_clear = train_test_split(df['text_lemma'], test_size=.25, random_state=12345)\n",
    "y_train, y_test = train_test_split(df['toxic'], test_size=.25, random_state=12345)\n",
    "\n",
    "X_train_clear.shape, X_test_clear.shape, y_train.shape, y_test.shape"
   ]
  },
  {
   "cell_type": "markdown",
   "metadata": {},
   "source": [
    "Очистка текста от стоп-слов"
   ]
  },
  {
   "cell_type": "code",
   "execution_count": 13,
   "metadata": {},
   "outputs": [
    {
     "name": "stdout",
     "output_type": "stream",
     "text": [
      "CPU times: user 4 µs, sys: 0 ns, total: 4 µs\n",
      "Wall time: 7.39 µs\n"
     ]
    },
    {
     "data": {
      "text/plain": [
       "((119469, 212462), (39823, 212462))"
      ]
     },
     "execution_count": 13,
     "metadata": {},
     "output_type": "execute_result"
    }
   ],
   "source": [
    "%time\n",
    "stopwords = set(nltk_stopwords.words('english'))\n",
    "count_tf_idf = TfidfVectorizer(stop_words=stopwords)\n",
    "\n",
    "X_train = count_tf_idf.fit_transform(X_train_clear)\n",
    "X_test = count_tf_idf.transform(X_test_clear)\n",
    "X_train.shape, X_test.shape"
   ]
  },
  {
   "cell_type": "markdown",
   "metadata": {},
   "source": [
    "### Вывод  по предобработке "
   ]
  },
  {
   "cell_type": "markdown",
   "metadata": {},
   "source": [
    "- Данные импортированы с удалением лишнего индекса при чтении\n",
    "- Явных дубликатов не обнаружено\n",
    "- Очисили текст от стоп-слов\n",
    "- В данных наблюдается большой дисбаланс классов\n",
    "- Данные поделены на две выборки: обучающую и тестовую"
   ]
  },
  {
   "cell_type": "markdown",
   "metadata": {},
   "source": [
    "## Обучение"
   ]
  },
  {
   "cell_type": "markdown",
   "metadata": {},
   "source": [
    "Выделение констант для обучения моделей"
   ]
  },
  {
   "cell_type": "code",
   "execution_count": 14,
   "metadata": {},
   "outputs": [],
   "source": [
    "N_SPLITS = 3\n",
    "RS = [12345]"
   ]
  },
  {
   "cell_type": "markdown",
   "metadata": {},
   "source": [
    "Создание вызываемого объекта для оценки"
   ]
  },
  {
   "cell_type": "code",
   "execution_count": 15,
   "metadata": {},
   "outputs": [],
   "source": [
    "score = make_scorer(f1_score)"
   ]
  },
  {
   "cell_type": "markdown",
   "metadata": {},
   "source": [
    "### Модель LogisticRegression"
   ]
  },
  {
   "cell_type": "code",
   "execution_count": 16,
   "metadata": {},
   "outputs": [
    {
     "name": "stdout",
     "output_type": "stream",
     "text": [
      "Fitting 3 folds for each of 3 candidates, totalling 9 fits\n",
      "CPU times: user 4min 8s, sys: 4min 48s, total: 8min 56s\n",
      "Wall time: 12min 46s\n"
     ]
    },
    {
     "data": {
      "text/plain": [
       "RandomizedSearchCV(cv=3, estimator=LogisticRegression(), n_iter=3,\n",
       "                   param_distributions={'C': [0.5, 1.0, 1.5],\n",
       "                                        'class_weight': ['balanced'],\n",
       "                                        'max_iter': [100, 150, 200],\n",
       "                                        'random_state': [12345]},\n",
       "                   scoring=make_scorer(f1_score), verbose=True)"
      ]
     },
     "execution_count": 16,
     "metadata": {},
     "output_type": "execute_result"
    }
   ],
   "source": [
    "%%time\n",
    "\n",
    "params_lr = {\"class_weight\": ['balanced'], \n",
    "             \"random_state\": RS,\n",
    "             \"max_iter\": [100, 150, 200],\n",
    "             \"C\": [0.5, 1.0, 1.5]\n",
    "            }\n",
    "model_lr = LogisticRegression()\n",
    "model_lr_rs = RandomizedSearchCV(\n",
    "    model_lr, cv=N_SPLITS, scoring=score, \n",
    "    param_distributions=params_lr, n_iter=N_SPLITS, verbose=True\n",
    ")\n",
    "model_lr_rs.fit(X_train, y_train)"
   ]
  },
  {
   "cell_type": "code",
   "execution_count": 17,
   "metadata": {},
   "outputs": [
    {
     "data": {
      "text/plain": [
       "'Лучший результат f1-меры:'"
      ]
     },
     "metadata": {},
     "output_type": "display_data"
    },
    {
     "data": {
      "text/plain": [
       "0.74180342183828"
      ]
     },
     "metadata": {},
     "output_type": "display_data"
    },
    {
     "data": {
      "text/plain": [
       "{'random_state': 12345, 'max_iter': 200, 'class_weight': 'balanced', 'C': 1.5}"
      ]
     },
     "execution_count": 17,
     "metadata": {},
     "output_type": "execute_result"
    }
   ],
   "source": [
    "display('Лучший результат f1-меры:', model_lr_rs.best_score_)\n",
    "model_lr_rs.best_params_"
   ]
  },
  {
   "cell_type": "markdown",
   "metadata": {},
   "source": [
    "### Модель RandomForestClassifier"
   ]
  },
  {
   "cell_type": "code",
   "execution_count": 18,
   "metadata": {},
   "outputs": [
    {
     "name": "stdout",
     "output_type": "stream",
     "text": [
      "CPU times: user 10min 41s, sys: 0 ns, total: 10min 41s\n",
      "Wall time: 28min 30s\n"
     ]
    },
    {
     "data": {
      "text/plain": [
       "RandomizedSearchCV(cv=3, estimator=RandomForestClassifier(),\n",
       "                   param_distributions={'class_weight': ['balanced'],\n",
       "                                        'max_depth': [5, 10, 15],\n",
       "                                        'n_estimators': [30, 90, 150],\n",
       "                                        'random_state': [12345]},\n",
       "                   scoring=make_scorer(f1_score))"
      ]
     },
     "execution_count": 18,
     "metadata": {},
     "output_type": "execute_result"
    }
   ],
   "source": [
    "%%time\n",
    "\n",
    "params = {\"max_depth\": [5, 10, 15], \n",
    "          \"n_estimators\": [30, 90, 150], \n",
    "          \"random_state\": RS, \n",
    "          \"class_weight\": ['balanced']\n",
    "         }\n",
    "model_rfc = RandomForestClassifier()\n",
    "\n",
    "model_rfc_rs = RandomizedSearchCV(model_rfc, cv=N_SPLITS, scoring=score, param_distributions=params)\n",
    "model_rfc_rs.fit(X_train, y_train)"
   ]
  },
  {
   "cell_type": "code",
   "execution_count": 19,
   "metadata": {},
   "outputs": [
    {
     "data": {
      "text/plain": [
       "'Лучший результат f1-меры:'"
      ]
     },
     "metadata": {},
     "output_type": "display_data"
    },
    {
     "data": {
      "text/plain": [
       "0.372045802629347"
      ]
     },
     "metadata": {},
     "output_type": "display_data"
    },
    {
     "data": {
      "text/plain": [
       "{'random_state': 12345,\n",
       " 'n_estimators': 150,\n",
       " 'max_depth': 15,\n",
       " 'class_weight': 'balanced'}"
      ]
     },
     "execution_count": 19,
     "metadata": {},
     "output_type": "execute_result"
    }
   ],
   "source": [
    "display('Лучший результат f1-меры:', model_rfc_rs.best_score_)\n",
    "model_rfc_rs.best_params_"
   ]
  },
  {
   "cell_type": "markdown",
   "metadata": {},
   "source": [
    "### Модель CatBoostClassifier"
   ]
  },
  {
   "cell_type": "code",
   "execution_count": 20,
   "metadata": {
    "scrolled": true
   },
   "outputs": [
    {
     "name": "stdout",
     "output_type": "stream",
     "text": [
      "F1 на cv 0.7216382118465088\n",
      "CPU times: user 28min 31s, sys: 19.3 s, total: 28min 50s\n",
      "Wall time: 41min 48s\n"
     ]
    }
   ],
   "source": [
    "%%time\n",
    "\n",
    "classificator = CatBoostClassifier(verbose=False, iterations=200)\n",
    "classificator.fit(X_train, y_train)\n",
    "cv_f1_CBC = cross_val_score(classificator,\n",
    "                                         X_train, \n",
    "                                         y_train, \n",
    "                                         cv=N_SPLITS, \n",
    "                                         scoring='f1').mean()\n",
    "print('F1 на cv', cv_f1_CBC)"
   ]
  },
  {
   "cell_type": "markdown",
   "metadata": {},
   "source": [
    "### Вывод по обучению моделей"
   ]
  },
  {
   "cell_type": "markdown",
   "metadata": {},
   "source": [
    "- При обучении Логистической Регрессии получено значение f1=0.742 за 12min 46s обучения\n",
    "- При обучении Случайного Леса получено значение f1=0.372 за 28min 30s обучения\n",
    "- При обучении CatBoost получено значение f1=0.722 за 41min 48s обучения"
   ]
  },
  {
   "cell_type": "markdown",
   "metadata": {},
   "source": [
    "С заданием справились одна модель *LogisticRegression*"
   ]
  },
  {
   "cell_type": "markdown",
   "metadata": {},
   "source": [
    "## Тестирование"
   ]
  },
  {
   "cell_type": "code",
   "execution_count": 21,
   "metadata": {},
   "outputs": [
    {
     "data": {
      "text/plain": [
       "0.7441911203228972"
      ]
     },
     "execution_count": 21,
     "metadata": {},
     "output_type": "execute_result"
    }
   ],
   "source": [
    "predict = model_lr_rs.predict(X_test)\n",
    "f1_score(y_test, predict)"
   ]
  },
  {
   "cell_type": "markdown",
   "metadata": {},
   "source": [
    "## Выводы"
   ]
  },
  {
   "cell_type": "markdown",
   "metadata": {},
   "source": [
    "- На начальном этапе мы ознакомились с данными. Посмотрели есть ли явные дубликаты, посмотрели на сами данные.\n",
    "- Далее мы занялись обработкой данных. Сначала мы очистили данные с текстом от ненужного - переносы строк, ненужные пробелы, знаки.\n",
    "- Затем мы лемматизировали данные.\n",
    "- Выявив дисбаланс в данных мы апсэмплировали выборку для лучшей обучаемости модели.\n",
    "- Так как перед нами стояла задача классификации, то мы выбрали логистическую регрессию. Но не стали сразу обучать её на данных;\n",
    "- Сначала мы векторизировали данные, потом поделили выборки на обучающую и тестовую.\n",
    "- Далее мы приступили к подбору гиперпараметров, подобрав которые мы смогли перейти к главному шагу этой работы - обучение модели.\n",
    "- Обучив модель и подставив гиперпараметры мы получили значение 0.75."
   ]
  }
 ],
 "metadata": {
  "ExecuteTimeLog": [
   {
    "duration": 9790,
    "start_time": "2023-04-11T13:18:20.732Z"
   },
   {
    "duration": 14093,
    "start_time": "2023-04-11T13:18:30.525Z"
   },
   {
    "duration": 114,
    "start_time": "2023-04-11T13:20:04.417Z"
   },
   {
    "duration": 1710,
    "start_time": "2023-04-11T13:20:05.219Z"
   },
   {
    "duration": 95,
    "start_time": "2023-04-11T13:20:06.931Z"
   },
   {
    "duration": 201,
    "start_time": "2023-04-11T13:20:52.618Z"
   },
   {
    "duration": 5114,
    "start_time": "2023-04-11T13:21:07.919Z"
   },
   {
    "duration": 201,
    "start_time": "2023-04-11T13:21:13.118Z"
   },
   {
    "duration": 1212,
    "start_time": "2023-04-11T13:21:13.321Z"
   },
   {
    "duration": 87,
    "start_time": "2023-04-11T13:21:14.535Z"
   },
   {
    "duration": 9,
    "start_time": "2023-04-11T13:26:09.819Z"
   },
   {
    "duration": 801,
    "start_time": "2023-04-11T13:26:22.819Z"
   },
   {
    "duration": 1689,
    "start_time": "2023-04-11T13:26:47.033Z"
   },
   {
    "duration": 85,
    "start_time": "2023-04-11T13:27:58.235Z"
   },
   {
    "duration": 19401,
    "start_time": "2023-04-11T13:27:59.418Z"
   },
   {
    "duration": 20,
    "start_time": "2023-04-11T13:28:46.818Z"
   },
   {
    "duration": 1420,
    "start_time": "2023-04-11T13:29:15.518Z"
   },
   {
    "duration": 1688,
    "start_time": "2023-04-11T13:29:20.139Z"
   },
   {
    "duration": 16,
    "start_time": "2023-04-11T13:29:27.619Z"
   },
   {
    "duration": 100,
    "start_time": "2023-04-11T13:29:50.319Z"
   },
   {
    "duration": 115921,
    "start_time": "2023-04-11T13:29:58.317Z"
   },
   {
    "duration": 67,
    "start_time": "2023-04-11T13:33:52.671Z"
   },
   {
    "duration": 6,
    "start_time": "2023-04-11T13:34:15.734Z"
   },
   {
    "duration": 57,
    "start_time": "2023-04-11T13:34:19.561Z"
   },
   {
    "duration": 114008,
    "start_time": "2023-04-11T13:35:07.174Z"
   },
   {
    "duration": 11,
    "start_time": "2023-04-11T13:37:20.215Z"
   },
   {
    "duration": 12,
    "start_time": "2023-04-11T13:37:31.959Z"
   },
   {
    "duration": 3,
    "start_time": "2023-04-11T14:01:46.516Z"
   },
   {
    "duration": 848,
    "start_time": "2023-04-11T14:02:14.215Z"
   },
   {
    "duration": 1409,
    "start_time": "2023-04-11T14:02:58.341Z"
   },
   {
    "duration": 3001,
    "start_time": "2023-04-11T14:02:59.752Z"
   },
   {
    "duration": 37,
    "start_time": "2023-04-11T14:03:02.754Z"
   },
   {
    "duration": 256,
    "start_time": "2023-04-11T14:03:02.793Z"
   },
   {
    "duration": 7,
    "start_time": "2023-04-11T14:03:03.051Z"
   },
   {
    "duration": 18,
    "start_time": "2023-04-11T14:03:03.060Z"
   },
   {
    "duration": 1130,
    "start_time": "2023-04-11T14:03:03.080Z"
   },
   {
    "duration": 823,
    "start_time": "2023-04-11T14:03:04.211Z"
   },
   {
    "duration": 3,
    "start_time": "2023-04-11T14:03:34.748Z"
   },
   {
    "duration": 92201,
    "start_time": "2023-04-11T14:03:37.842Z"
   },
   {
    "duration": 39,
    "start_time": "2023-04-11T14:05:14.881Z"
   },
   {
    "duration": 37,
    "start_time": "2023-04-11T14:06:11.087Z"
   },
   {
    "duration": 2,
    "start_time": "2023-04-11T14:08:38.515Z"
   },
   {
    "duration": 1361,
    "start_time": "2023-04-11T14:09:40.966Z"
   },
   {
    "duration": 25,
    "start_time": "2023-04-11T14:10:58.831Z"
   },
   {
    "duration": 12,
    "start_time": "2023-04-11T14:12:42.368Z"
   },
   {
    "duration": 4,
    "start_time": "2023-04-11T14:15:03.426Z"
   },
   {
    "duration": 3,
    "start_time": "2023-04-11T14:15:06.220Z"
   },
   {
    "duration": 7,
    "start_time": "2023-04-11T14:17:31.958Z"
   },
   {
    "duration": 8,
    "start_time": "2023-04-11T14:17:34.391Z"
   },
   {
    "duration": 1344,
    "start_time": "2023-04-11T14:17:55.727Z"
   },
   {
    "duration": 952,
    "start_time": "2023-04-11T14:17:57.075Z"
   },
   {
    "duration": 28,
    "start_time": "2023-04-11T14:17:58.029Z"
   },
   {
    "duration": 264,
    "start_time": "2023-04-11T14:17:58.058Z"
   },
   {
    "duration": 8,
    "start_time": "2023-04-11T14:17:58.324Z"
   },
   {
    "duration": 7,
    "start_time": "2023-04-11T14:17:58.333Z"
   },
   {
    "duration": 91036,
    "start_time": "2023-04-11T14:17:58.341Z"
   },
   {
    "duration": 38,
    "start_time": "2023-04-11T14:19:29.380Z"
   },
   {
    "duration": 2,
    "start_time": "2023-04-11T14:19:29.420Z"
   },
   {
    "duration": 8,
    "start_time": "2023-04-11T14:19:29.424Z"
   },
   {
    "duration": 179,
    "start_time": "2023-04-11T14:19:30.800Z"
   },
   {
    "duration": 10,
    "start_time": "2023-04-11T14:19:31.232Z"
   },
   {
    "duration": 4,
    "start_time": "2023-04-11T14:19:56.762Z"
   },
   {
    "duration": 55,
    "start_time": "2023-04-11T14:19:59.920Z"
   },
   {
    "duration": 11,
    "start_time": "2023-04-11T14:20:44.345Z"
   },
   {
    "duration": 160,
    "start_time": "2023-04-11T14:21:54.267Z"
   },
   {
    "duration": 6561,
    "start_time": "2023-04-11T14:21:57.993Z"
   },
   {
    "duration": 239106,
    "start_time": "2023-04-11T14:22:16.329Z"
   },
   {
    "duration": 91,
    "start_time": "2023-04-11T14:26:15.437Z"
   },
   {
    "duration": 410641,
    "start_time": "2023-04-11T14:26:15.530Z"
   },
   {
    "duration": 7,
    "start_time": "2023-04-11T14:33:06.173Z"
   },
   {
    "duration": 172,
    "start_time": "2023-04-11T14:33:06.182Z"
   },
   {
    "duration": 0,
    "start_time": "2023-04-11T14:33:06.371Z"
   },
   {
    "duration": 0,
    "start_time": "2023-04-11T14:33:06.372Z"
   },
   {
    "duration": 0,
    "start_time": "2023-04-11T14:33:06.373Z"
   },
   {
    "duration": 4,
    "start_time": "2023-04-11T14:39:53.173Z"
   },
   {
    "duration": 1332382,
    "start_time": "2023-04-11T14:39:56.902Z"
   },
   {
    "duration": 12,
    "start_time": "2023-04-11T15:02:09.287Z"
   },
   {
    "duration": 0,
    "start_time": "2023-04-11T15:02:09.301Z"
   },
   {
    "duration": 0,
    "start_time": "2023-04-11T15:02:09.302Z"
   },
   {
    "duration": 0,
    "start_time": "2023-04-11T15:02:09.303Z"
   },
   {
    "duration": 235,
    "start_time": "2023-04-11T15:09:18.141Z"
   },
   {
    "duration": 19,
    "start_time": "2023-04-11T15:09:49.548Z"
   },
   {
    "duration": 4,
    "start_time": "2023-04-11T15:10:02.695Z"
   },
   {
    "duration": 12,
    "start_time": "2023-04-11T15:10:50.668Z"
   },
   {
    "duration": 19,
    "start_time": "2023-04-11T15:12:31.884Z"
   },
   {
    "duration": 14,
    "start_time": "2023-04-11T15:13:15.269Z"
   },
   {
    "duration": 12,
    "start_time": "2023-04-11T15:14:11.205Z"
   },
   {
    "duration": 5,
    "start_time": "2023-04-11T15:14:43.317Z"
   },
   {
    "duration": 66,
    "start_time": "2023-04-11T15:15:06.260Z"
   },
   {
    "duration": 63,
    "start_time": "2023-04-11T15:17:09.157Z"
   },
   {
    "duration": 516699,
    "start_time": "2023-04-11T15:26:05.393Z"
   },
   {
    "duration": 516144,
    "start_time": "2023-04-11T15:35:24.206Z"
   },
   {
    "duration": 1682086,
    "start_time": "2023-04-11T15:45:43.752Z"
   },
   {
    "duration": 2610,
    "start_time": "2023-04-13T18:59:51.530Z"
   },
   {
    "duration": 5,
    "start_time": "2023-04-13T18:59:56.459Z"
   },
   {
    "duration": 3894,
    "start_time": "2023-04-13T18:59:56.945Z"
   },
   {
    "duration": 49,
    "start_time": "2023-04-13T19:00:00.842Z"
   },
   {
    "duration": 259,
    "start_time": "2023-04-13T19:00:00.893Z"
   },
   {
    "duration": 9,
    "start_time": "2023-04-13T19:00:01.154Z"
   },
   {
    "duration": 39,
    "start_time": "2023-04-13T19:00:01.164Z"
   },
   {
    "duration": 3,
    "start_time": "2023-04-13T19:04:44.398Z"
   },
   {
    "duration": 2844,
    "start_time": "2023-04-13T19:04:45.891Z"
   },
   {
    "duration": 36499,
    "start_time": "2023-04-13T19:04:51.852Z"
   },
   {
    "duration": 42,
    "start_time": "2023-04-13T19:05:33.925Z"
   },
   {
    "duration": 7681,
    "start_time": "2023-04-13T19:05:35.596Z"
   },
   {
    "duration": 3,
    "start_time": "2023-04-13T19:05:54.906Z"
   },
   {
    "duration": 3,
    "start_time": "2023-04-13T19:05:55.627Z"
   },
   {
    "duration": 598935,
    "start_time": "2023-04-13T19:05:56.588Z"
   },
   {
    "duration": 12,
    "start_time": "2023-04-13T19:15:55.525Z"
   },
   {
    "duration": 3297,
    "start_time": "2023-04-13T19:23:08.887Z"
   },
   {
    "duration": 1608,
    "start_time": "2023-04-14T20:56:39.843Z"
   },
   {
    "duration": 2990,
    "start_time": "2023-04-14T20:56:42.087Z"
   },
   {
    "duration": 32,
    "start_time": "2023-04-14T20:56:45.078Z"
   },
   {
    "duration": 202,
    "start_time": "2023-04-14T20:56:45.111Z"
   },
   {
    "duration": 7,
    "start_time": "2023-04-14T20:56:45.315Z"
   },
   {
    "duration": 16,
    "start_time": "2023-04-14T20:56:45.323Z"
   },
   {
    "duration": 2,
    "start_time": "2023-04-14T20:56:48.869Z"
   },
   {
    "duration": 2412,
    "start_time": "2023-04-14T20:56:49.786Z"
   },
   {
    "duration": 32093,
    "start_time": "2023-04-14T20:56:52.200Z"
   },
   {
    "duration": 5,
    "start_time": "2023-04-14T20:57:24.295Z"
   },
   {
    "duration": 2562,
    "start_time": "2023-04-15T15:03:31.386Z"
   },
   {
    "duration": 3732,
    "start_time": "2023-04-15T15:03:33.950Z"
   },
   {
    "duration": 71,
    "start_time": "2023-04-15T15:03:37.684Z"
   },
   {
    "duration": 359,
    "start_time": "2023-04-15T15:03:37.758Z"
   },
   {
    "duration": 18,
    "start_time": "2023-04-15T15:03:38.119Z"
   },
   {
    "duration": 15,
    "start_time": "2023-04-15T15:03:38.144Z"
   },
   {
    "duration": 3,
    "start_time": "2023-04-15T15:03:38.161Z"
   },
   {
    "duration": 4192,
    "start_time": "2023-04-15T15:03:38.166Z"
   },
   {
    "duration": 1162,
    "start_time": "2023-04-15T15:03:42.360Z"
   },
   {
    "duration": 3058,
    "start_time": "2023-04-15T15:03:43.526Z"
   },
   {
    "duration": 8,
    "start_time": "2023-04-15T15:06:41.631Z"
   },
   {
    "duration": 60012,
    "start_time": "2023-04-15T15:07:19.911Z"
   },
   {
    "duration": 1196,
    "start_time": "2023-04-15T15:08:19.925Z"
   },
   {
    "duration": 44,
    "start_time": "2023-04-15T15:12:30.745Z"
   },
   {
    "duration": 1129,
    "start_time": "2023-04-15T15:18:44.243Z"
   },
   {
    "duration": 1194,
    "start_time": "2023-04-15T15:19:03.964Z"
   },
   {
    "duration": 149626,
    "start_time": "2023-04-15T15:19:13.976Z"
   },
   {
    "duration": 16,
    "start_time": "2023-04-15T15:22:27.808Z"
   },
   {
    "duration": 5,
    "start_time": "2023-04-15T15:23:28.287Z"
   },
   {
    "duration": 5,
    "start_time": "2023-04-15T15:25:11.030Z"
   },
   {
    "duration": 781,
    "start_time": "2023-04-15T15:25:36.571Z"
   },
   {
    "duration": 567,
    "start_time": "2023-04-15T15:26:32.027Z"
   },
   {
    "duration": 3404,
    "start_time": "2023-04-15T15:35:30.885Z"
   },
   {
    "duration": 6393,
    "start_time": "2023-04-15T15:35:34.291Z"
   },
   {
    "duration": 116,
    "start_time": "2023-04-15T15:35:40.698Z"
   },
   {
    "duration": 491,
    "start_time": "2023-04-15T15:35:40.817Z"
   },
   {
    "duration": 16,
    "start_time": "2023-04-15T15:35:41.311Z"
   },
   {
    "duration": 151,
    "start_time": "2023-04-15T15:35:41.330Z"
   },
   {
    "duration": 11,
    "start_time": "2023-04-15T15:35:55.238Z"
   },
   {
    "duration": 5450,
    "start_time": "2023-04-15T15:35:56.215Z"
   },
   {
    "duration": 66592,
    "start_time": "2023-04-15T15:36:06.141Z"
   },
   {
    "duration": 11,
    "start_time": "2023-04-15T15:37:12.735Z"
   },
   {
    "duration": 158627,
    "start_time": "2023-04-15T15:37:12.748Z"
   },
   {
    "duration": 50,
    "start_time": "2023-04-15T15:39:51.403Z"
   },
   {
    "duration": 126,
    "start_time": "2023-04-15T15:39:51.455Z"
   },
   {
    "duration": 1180,
    "start_time": "2023-04-15T15:39:51.585Z"
   },
   {
    "duration": 0,
    "start_time": "2023-04-15T15:39:52.767Z"
   },
   {
    "duration": 1497,
    "start_time": "2023-04-15T15:40:27.145Z"
   },
   {
    "duration": 931699,
    "start_time": "2023-04-15T15:40:36.058Z"
   },
   {
    "duration": 0,
    "start_time": "2023-04-15T15:56:07.759Z"
   },
   {
    "duration": 0,
    "start_time": "2023-04-15T15:56:07.763Z"
   },
   {
    "duration": 7,
    "start_time": "2023-04-15T15:56:20.342Z"
   },
   {
    "duration": 13,
    "start_time": "2023-04-15T15:56:25.860Z"
   },
   {
    "duration": 18,
    "start_time": "2023-04-15T15:57:06.017Z"
   },
   {
    "duration": 33,
    "start_time": "2023-04-15T15:57:10.970Z"
   },
   {
    "duration": 77,
    "start_time": "2023-04-15T15:57:46.872Z"
   },
   {
    "duration": 30,
    "start_time": "2023-04-15T15:57:58.052Z"
   },
   {
    "duration": 151,
    "start_time": "2023-04-15T15:59:32.176Z"
   },
   {
    "duration": 183,
    "start_time": "2023-04-15T15:59:42.719Z"
   },
   {
    "duration": 2653,
    "start_time": "2023-04-15T16:00:46.033Z"
   },
   {
    "duration": 1375,
    "start_time": "2023-04-15T16:01:00.262Z"
   },
   {
    "duration": 71,
    "start_time": "2023-04-15T16:01:01.647Z"
   },
   {
    "duration": 569,
    "start_time": "2023-04-15T16:01:01.724Z"
   },
   {
    "duration": 14,
    "start_time": "2023-04-15T16:01:02.295Z"
   },
   {
    "duration": 14,
    "start_time": "2023-04-15T16:01:03.400Z"
   },
   {
    "duration": 8,
    "start_time": "2023-04-15T16:01:06.473Z"
   },
   {
    "duration": 4,
    "start_time": "2023-04-15T16:01:11.182Z"
   },
   {
    "duration": 5411,
    "start_time": "2023-04-15T16:01:11.549Z"
   },
   {
    "duration": 5,
    "start_time": "2023-04-15T16:01:23.802Z"
   },
   {
    "duration": 801674,
    "start_time": "2023-04-15T16:01:26.087Z"
   },
   {
    "duration": 12,
    "start_time": "2023-04-15T16:14:47.764Z"
   },
   {
    "duration": 850863,
    "start_time": "2023-04-15T16:14:47.778Z"
   },
   {
    "duration": 20,
    "start_time": "2023-04-15T16:29:25.832Z"
   },
   {
    "duration": 40864,
    "start_time": "2023-04-15T16:29:54.734Z"
   },
   {
    "duration": 20,
    "start_time": "2023-04-15T16:30:38.433Z"
   },
   {
    "duration": 184,
    "start_time": "2023-04-15T16:32:15.466Z"
   },
   {
    "duration": 191,
    "start_time": "2023-04-15T16:32:28.290Z"
   },
   {
    "duration": 183,
    "start_time": "2023-04-15T16:32:32.230Z"
   },
   {
    "duration": 16,
    "start_time": "2023-04-15T16:35:13.724Z"
   },
   {
    "duration": 22,
    "start_time": "2023-04-15T16:35:22.035Z"
   },
   {
    "duration": 16,
    "start_time": "2023-04-15T16:35:39.626Z"
   },
   {
    "duration": 11,
    "start_time": "2023-04-15T16:35:40.235Z"
   },
   {
    "duration": 11,
    "start_time": "2023-04-15T16:38:11.023Z"
   },
   {
    "duration": 14,
    "start_time": "2023-04-15T16:38:12.253Z"
   },
   {
    "duration": 5425,
    "start_time": "2023-04-15T16:38:25.452Z"
   },
   {
    "duration": 2027,
    "start_time": "2023-04-15T16:38:33.022Z"
   },
   {
    "duration": 59,
    "start_time": "2023-04-15T16:38:35.052Z"
   },
   {
    "duration": 337,
    "start_time": "2023-04-15T16:38:35.113Z"
   },
   {
    "duration": 10,
    "start_time": "2023-04-15T16:38:35.456Z"
   },
   {
    "duration": 33,
    "start_time": "2023-04-15T16:38:35.467Z"
   },
   {
    "duration": 11,
    "start_time": "2023-04-15T16:38:37.026Z"
   },
   {
    "duration": 5,
    "start_time": "2023-04-15T16:38:41.160Z"
   },
   {
    "duration": 4758,
    "start_time": "2023-04-15T16:38:41.506Z"
   },
   {
    "duration": 8,
    "start_time": "2023-04-15T16:38:49.919Z"
   },
   {
    "duration": 7,
    "start_time": "2023-04-15T16:38:51.323Z"
   },
   {
    "duration": 40,
    "start_time": "2023-04-15T16:38:55.474Z"
   },
   {
    "duration": 7,
    "start_time": "2023-04-15T16:38:56.065Z"
   },
   {
    "duration": 7092,
    "start_time": "2023-04-15T16:40:05.151Z"
   },
   {
    "duration": 15,
    "start_time": "2023-04-15T16:40:21.875Z"
   },
   {
    "duration": 14,
    "start_time": "2023-04-15T16:40:29.824Z"
   },
   {
    "duration": 13,
    "start_time": "2023-04-15T16:40:37.103Z"
   },
   {
    "duration": 28,
    "start_time": "2023-04-15T16:40:42.485Z"
   },
   {
    "duration": 8,
    "start_time": "2023-04-15T16:40:43.151Z"
   },
   {
    "duration": 35,
    "start_time": "2023-04-15T16:40:48.210Z"
   },
   {
    "duration": 6,
    "start_time": "2023-04-15T16:40:48.666Z"
   },
   {
    "duration": 2825,
    "start_time": "2023-04-15T16:41:12.674Z"
   },
   {
    "duration": 16,
    "start_time": "2023-04-15T16:41:32.614Z"
   },
   {
    "duration": 63,
    "start_time": "2023-04-15T16:41:59.648Z"
   },
   {
    "duration": 67,
    "start_time": "2023-04-15T16:42:21.654Z"
   },
   {
    "duration": 17,
    "start_time": "2023-04-15T16:42:28.009Z"
   },
   {
    "duration": 61,
    "start_time": "2023-04-15T16:43:38.415Z"
   },
   {
    "duration": 11,
    "start_time": "2023-04-15T16:43:39.118Z"
   },
   {
    "duration": 3623,
    "start_time": "2023-04-15T16:43:53.962Z"
   },
   {
    "duration": 3088,
    "start_time": "2023-04-15T16:43:57.588Z"
   },
   {
    "duration": 83,
    "start_time": "2023-04-15T16:44:00.682Z"
   },
   {
    "duration": 378,
    "start_time": "2023-04-15T16:44:00.768Z"
   },
   {
    "duration": 91,
    "start_time": "2023-04-15T16:44:01.151Z"
   },
   {
    "duration": 78,
    "start_time": "2023-04-15T16:44:01.247Z"
   },
   {
    "duration": 162,
    "start_time": "2023-04-15T16:44:01.329Z"
   },
   {
    "duration": 136,
    "start_time": "2023-04-15T16:44:01.493Z"
   },
   {
    "duration": 5546,
    "start_time": "2023-04-15T16:44:01.636Z"
   },
   {
    "duration": 10,
    "start_time": "2023-04-15T16:44:07.184Z"
   },
   {
    "duration": 197,
    "start_time": "2023-04-15T16:44:07.196Z"
   },
   {
    "duration": 46,
    "start_time": "2023-04-15T16:44:10.613Z"
   },
   {
    "duration": 19,
    "start_time": "2023-04-15T16:44:11.142Z"
   },
   {
    "duration": 1994,
    "start_time": "2023-04-15T16:44:14.334Z"
   },
   {
    "duration": 10,
    "start_time": "2023-04-15T16:44:16.335Z"
   },
   {
    "duration": 121,
    "start_time": "2023-04-15T16:45:44.258Z"
   },
   {
    "duration": 9,
    "start_time": "2023-04-15T16:46:02.852Z"
   },
   {
    "duration": 16135,
    "start_time": "2023-04-15T16:47:07.143Z"
   },
   {
    "duration": 0,
    "start_time": "2023-04-15T16:47:23.280Z"
   },
   {
    "duration": 10,
    "start_time": "2023-04-15T16:47:31.056Z"
   },
   {
    "duration": 206572,
    "start_time": "2023-04-15T16:47:32.822Z"
   },
   {
    "duration": 0,
    "start_time": "2023-04-15T16:50:59.396Z"
   },
   {
    "duration": 12,
    "start_time": "2023-04-15T16:51:11.517Z"
   },
   {
    "duration": 14,
    "start_time": "2023-04-15T16:51:33.004Z"
   },
   {
    "duration": 3,
    "start_time": "2023-04-15T16:51:44.653Z"
   },
   {
    "duration": 6,
    "start_time": "2023-04-15T16:51:58.549Z"
   },
   {
    "duration": 7,
    "start_time": "2023-04-15T16:52:13.730Z"
   },
   {
    "duration": 8,
    "start_time": "2023-04-15T16:52:19.167Z"
   },
   {
    "duration": 212,
    "start_time": "2023-04-15T16:53:30.574Z"
   },
   {
    "duration": 39390,
    "start_time": "2023-04-15T16:53:41.867Z"
   },
   {
    "duration": 167,
    "start_time": "2023-04-15T16:55:46.103Z"
   },
   {
    "duration": 9,
    "start_time": "2023-04-15T16:55:55.382Z"
   },
   {
    "duration": 19,
    "start_time": "2023-04-15T16:56:46.814Z"
   },
   {
    "duration": 21,
    "start_time": "2023-04-15T16:57:19.681Z"
   },
   {
    "duration": 9,
    "start_time": "2023-04-15T16:57:23.684Z"
   },
   {
    "duration": 1414394,
    "start_time": "2023-04-15T16:57:32.947Z"
   },
   {
    "duration": 8,
    "start_time": "2023-04-15T17:21:07.343Z"
   },
   {
    "duration": 2331,
    "start_time": "2023-04-15T17:38:56.261Z"
   },
   {
    "duration": 3854,
    "start_time": "2023-04-15T17:38:58.596Z"
   },
   {
    "duration": 51,
    "start_time": "2023-04-15T17:39:02.451Z"
   },
   {
    "duration": 280,
    "start_time": "2023-04-15T17:39:02.508Z"
   },
   {
    "duration": 17,
    "start_time": "2023-04-15T17:39:02.791Z"
   },
   {
    "duration": 29,
    "start_time": "2023-04-15T17:39:02.811Z"
   },
   {
    "duration": 4,
    "start_time": "2023-04-15T17:39:02.842Z"
   },
   {
    "duration": 7,
    "start_time": "2023-04-15T17:39:02.848Z"
   },
   {
    "duration": 3701,
    "start_time": "2023-04-15T17:39:02.856Z"
   },
   {
    "duration": 44619,
    "start_time": "2023-04-15T17:39:06.560Z"
   },
   {
    "duration": 12,
    "start_time": "2023-04-15T17:39:51.181Z"
   },
   {
    "duration": 39,
    "start_time": "2023-04-15T17:39:51.197Z"
   },
   {
    "duration": 11,
    "start_time": "2023-04-15T17:39:51.238Z"
   },
   {
    "duration": 1352422,
    "start_time": "2023-04-15T17:39:51.252Z"
   },
   {
    "duration": 94,
    "start_time": "2023-04-15T18:02:23.676Z"
   },
   {
    "duration": 178,
    "start_time": "2023-04-15T18:02:23.772Z"
   },
   {
    "duration": 0,
    "start_time": "2023-04-15T18:02:23.953Z"
   },
   {
    "duration": 0,
    "start_time": "2023-04-15T18:02:23.955Z"
   },
   {
    "duration": 0,
    "start_time": "2023-04-15T18:02:23.956Z"
   },
   {
    "duration": 0,
    "start_time": "2023-04-15T18:02:23.958Z"
   },
   {
    "duration": 0,
    "start_time": "2023-04-15T18:02:23.961Z"
   },
   {
    "duration": 0,
    "start_time": "2023-04-15T18:02:23.962Z"
   },
   {
    "duration": 0,
    "start_time": "2023-04-15T18:02:23.964Z"
   },
   {
    "duration": 0,
    "start_time": "2023-04-15T18:02:23.965Z"
   },
   {
    "duration": 28,
    "start_time": "2023-04-15T18:06:47.426Z"
   },
   {
    "duration": 2213,
    "start_time": "2023-04-15T18:09:41.342Z"
   },
   {
    "duration": 1003,
    "start_time": "2023-04-15T18:09:43.557Z"
   },
   {
    "duration": 57,
    "start_time": "2023-04-15T18:09:44.562Z"
   },
   {
    "duration": 291,
    "start_time": "2023-04-15T18:09:44.621Z"
   },
   {
    "duration": 13,
    "start_time": "2023-04-15T18:09:44.914Z"
   },
   {
    "duration": 21,
    "start_time": "2023-04-15T18:09:44.931Z"
   },
   {
    "duration": 127329,
    "start_time": "2023-04-15T18:09:44.953Z"
   },
   {
    "duration": 14,
    "start_time": "2023-04-15T18:11:52.284Z"
   },
   {
    "duration": 2169,
    "start_time": "2023-04-15T18:11:52.304Z"
   },
   {
    "duration": 0,
    "start_time": "2023-04-15T18:11:54.475Z"
   },
   {
    "duration": 0,
    "start_time": "2023-04-15T18:11:54.476Z"
   },
   {
    "duration": 0,
    "start_time": "2023-04-15T18:11:54.477Z"
   },
   {
    "duration": 0,
    "start_time": "2023-04-15T18:11:54.478Z"
   },
   {
    "duration": 0,
    "start_time": "2023-04-15T18:11:54.479Z"
   },
   {
    "duration": 0,
    "start_time": "2023-04-15T18:11:54.481Z"
   },
   {
    "duration": 0,
    "start_time": "2023-04-15T18:11:54.482Z"
   },
   {
    "duration": 0,
    "start_time": "2023-04-15T18:11:54.484Z"
   },
   {
    "duration": 0,
    "start_time": "2023-04-15T18:11:54.485Z"
   },
   {
    "duration": 0,
    "start_time": "2023-04-15T18:11:54.487Z"
   },
   {
    "duration": 0,
    "start_time": "2023-04-15T18:11:54.488Z"
   },
   {
    "duration": 0,
    "start_time": "2023-04-15T18:11:54.489Z"
   },
   {
    "duration": 0,
    "start_time": "2023-04-15T18:11:54.497Z"
   },
   {
    "duration": 0,
    "start_time": "2023-04-15T18:11:54.498Z"
   },
   {
    "duration": 0,
    "start_time": "2023-04-15T18:11:54.499Z"
   },
   {
    "duration": 2140,
    "start_time": "2023-04-15T18:12:33.314Z"
   },
   {
    "duration": 959,
    "start_time": "2023-04-15T18:12:35.456Z"
   },
   {
    "duration": 45,
    "start_time": "2023-04-15T18:12:36.417Z"
   },
   {
    "duration": 283,
    "start_time": "2023-04-15T18:12:36.464Z"
   },
   {
    "duration": 9,
    "start_time": "2023-04-15T18:12:36.749Z"
   },
   {
    "duration": 40,
    "start_time": "2023-04-15T18:12:36.760Z"
   },
   {
    "duration": 19,
    "start_time": "2023-04-15T18:12:36.803Z"
   },
   {
    "duration": 12,
    "start_time": "2023-04-15T18:12:36.824Z"
   },
   {
    "duration": 3240,
    "start_time": "2023-04-15T18:12:36.837Z"
   },
   {
    "duration": 2,
    "start_time": "2023-04-15T18:12:40.080Z"
   },
   {
    "duration": 26,
    "start_time": "2023-04-15T18:12:40.087Z"
   },
   {
    "duration": 13,
    "start_time": "2023-04-15T18:12:40.115Z"
   },
   {
    "duration": 7,
    "start_time": "2023-04-15T18:12:40.131Z"
   },
   {
    "duration": 1076658,
    "start_time": "2023-04-15T18:12:40.140Z"
   },
   {
    "duration": 1605,
    "start_time": "2023-04-15T18:30:36.800Z"
   },
   {
    "duration": 0,
    "start_time": "2023-04-15T18:30:38.412Z"
   },
   {
    "duration": 0,
    "start_time": "2023-04-15T18:30:38.417Z"
   },
   {
    "duration": 1,
    "start_time": "2023-04-15T18:30:38.420Z"
   },
   {
    "duration": 0,
    "start_time": "2023-04-15T18:30:38.422Z"
   },
   {
    "duration": 0,
    "start_time": "2023-04-15T18:30:38.424Z"
   },
   {
    "duration": 0,
    "start_time": "2023-04-15T18:30:38.425Z"
   },
   {
    "duration": 0,
    "start_time": "2023-04-15T18:30:38.427Z"
   },
   {
    "duration": 0,
    "start_time": "2023-04-15T18:30:38.429Z"
   },
   {
    "duration": 0,
    "start_time": "2023-04-15T18:30:38.430Z"
   },
   {
    "duration": 11,
    "start_time": "2023-04-15T18:30:48.820Z"
   },
   {
    "duration": 4,
    "start_time": "2023-04-15T18:30:49.828Z"
   },
   {
    "duration": 591,
    "start_time": "2023-04-15T18:30:50.567Z"
   },
   {
    "duration": 4,
    "start_time": "2023-04-15T18:31:07.836Z"
   },
   {
    "duration": 4,
    "start_time": "2023-04-15T18:31:08.239Z"
   },
   {
    "duration": 4,
    "start_time": "2023-04-15T18:31:08.641Z"
   },
   {
    "duration": 2922,
    "start_time": "2023-07-21T13:34:52.735Z"
   },
   {
    "duration": 2467,
    "start_time": "2023-07-21T13:34:55.660Z"
   },
   {
    "duration": 46,
    "start_time": "2023-07-21T13:34:58.129Z"
   },
   {
    "duration": 261,
    "start_time": "2023-07-21T13:34:58.176Z"
   },
   {
    "duration": 9,
    "start_time": "2023-07-21T13:34:58.440Z"
   },
   {
    "duration": 29,
    "start_time": "2023-07-21T13:34:58.451Z"
   },
   {
    "duration": 25,
    "start_time": "2023-07-21T13:34:58.481Z"
   },
   {
    "duration": 44,
    "start_time": "2023-07-21T13:34:58.508Z"
   },
   {
    "duration": 2726,
    "start_time": "2023-07-21T13:34:58.554Z"
   },
   {
    "duration": 3,
    "start_time": "2023-07-21T13:35:01.282Z"
   },
   {
    "duration": 189,
    "start_time": "2023-07-21T13:35:01.287Z"
   },
   {
    "duration": 73,
    "start_time": "2023-07-21T13:35:01.478Z"
   },
   {
    "duration": 54,
    "start_time": "2023-07-21T13:35:01.553Z"
   },
   {
    "duration": 1149436,
    "start_time": "2023-07-21T13:35:01.610Z"
   },
   {
    "duration": 74,
    "start_time": "2023-07-21T13:54:11.048Z"
   },
   {
    "duration": 149,
    "start_time": "2023-07-21T13:54:11.124Z"
   },
   {
    "duration": 0,
    "start_time": "2023-07-21T13:54:11.274Z"
   },
   {
    "duration": 0,
    "start_time": "2023-07-21T13:54:11.276Z"
   },
   {
    "duration": 0,
    "start_time": "2023-07-21T13:54:11.277Z"
   },
   {
    "duration": 0,
    "start_time": "2023-07-21T13:54:11.278Z"
   },
   {
    "duration": 0,
    "start_time": "2023-07-21T13:54:11.280Z"
   },
   {
    "duration": 0,
    "start_time": "2023-07-21T13:54:11.281Z"
   },
   {
    "duration": 0,
    "start_time": "2023-07-21T13:54:11.282Z"
   },
   {
    "duration": 0,
    "start_time": "2023-07-21T13:54:11.284Z"
   },
   {
    "duration": 20,
    "start_time": "2023-07-21T14:11:58.613Z"
   },
   {
    "duration": 3,
    "start_time": "2023-07-21T14:12:42.769Z"
   },
   {
    "duration": 18,
    "start_time": "2023-07-21T14:12:55.649Z"
   },
   {
    "duration": 9,
    "start_time": "2023-07-21T14:13:20.265Z"
   },
   {
    "duration": 25,
    "start_time": "2023-07-21T14:13:30.137Z"
   },
   {
    "duration": 18,
    "start_time": "2023-07-21T14:13:59.033Z"
   },
   {
    "duration": 7,
    "start_time": "2023-07-23T14:26:08.518Z"
   },
   {
    "duration": 2287,
    "start_time": "2023-07-23T14:26:14.310Z"
   },
   {
    "duration": 3231,
    "start_time": "2023-07-23T14:26:16.599Z"
   },
   {
    "duration": 37,
    "start_time": "2023-07-23T14:26:19.832Z"
   },
   {
    "duration": 246,
    "start_time": "2023-07-23T14:26:19.872Z"
   },
   {
    "duration": 9,
    "start_time": "2023-07-23T14:26:20.120Z"
   },
   {
    "duration": 7,
    "start_time": "2023-07-23T14:26:20.130Z"
   },
   {
    "duration": 4,
    "start_time": "2023-07-23T14:26:20.138Z"
   },
   {
    "duration": 33,
    "start_time": "2023-07-23T14:26:20.143Z"
   },
   {
    "duration": 2968,
    "start_time": "2023-07-23T14:26:20.178Z"
   },
   {
    "duration": 3,
    "start_time": "2023-07-23T14:26:23.149Z"
   },
   {
    "duration": 4,
    "start_time": "2023-07-23T14:26:23.154Z"
   },
   {
    "duration": 3,
    "start_time": "2023-07-23T14:26:23.175Z"
   },
   {
    "duration": 5,
    "start_time": "2023-07-23T14:26:23.194Z"
   },
   {
    "duration": 108708,
    "start_time": "2023-07-23T14:26:23.201Z"
   },
   {
    "duration": 1215,
    "start_time": "2023-07-23T14:28:11.911Z"
   },
   {
    "duration": 0,
    "start_time": "2023-07-23T14:28:13.128Z"
   },
   {
    "duration": 0,
    "start_time": "2023-07-23T14:28:13.129Z"
   },
   {
    "duration": 0,
    "start_time": "2023-07-23T14:28:13.130Z"
   },
   {
    "duration": 0,
    "start_time": "2023-07-23T14:28:13.131Z"
   },
   {
    "duration": 0,
    "start_time": "2023-07-23T14:28:13.131Z"
   },
   {
    "duration": 0,
    "start_time": "2023-07-23T14:28:13.132Z"
   },
   {
    "duration": 0,
    "start_time": "2023-07-23T14:28:13.133Z"
   },
   {
    "duration": 0,
    "start_time": "2023-07-23T14:28:13.134Z"
   },
   {
    "duration": 0,
    "start_time": "2023-07-23T14:28:13.135Z"
   },
   {
    "duration": 2013,
    "start_time": "2023-07-23T14:28:31.358Z"
   },
   {
    "duration": 863,
    "start_time": "2023-07-23T14:28:33.374Z"
   },
   {
    "duration": 48,
    "start_time": "2023-07-23T14:28:34.239Z"
   },
   {
    "duration": 246,
    "start_time": "2023-07-23T14:28:34.291Z"
   },
   {
    "duration": 8,
    "start_time": "2023-07-23T14:28:34.539Z"
   },
   {
    "duration": 26,
    "start_time": "2023-07-23T14:28:34.549Z"
   },
   {
    "duration": 2,
    "start_time": "2023-07-23T14:28:34.578Z"
   },
   {
    "duration": 4,
    "start_time": "2023-07-23T14:28:34.582Z"
   },
   {
    "duration": 2768,
    "start_time": "2023-07-23T14:28:34.588Z"
   },
   {
    "duration": 2,
    "start_time": "2023-07-23T14:28:37.359Z"
   },
   {
    "duration": 13,
    "start_time": "2023-07-23T14:28:37.362Z"
   },
   {
    "duration": 5,
    "start_time": "2023-07-23T14:28:37.377Z"
   },
   {
    "duration": 6,
    "start_time": "2023-07-23T14:28:37.385Z"
   },
   {
    "duration": 2026,
    "start_time": "2023-07-23T14:43:54.576Z"
   },
   {
    "duration": 809,
    "start_time": "2023-07-23T14:43:56.604Z"
   },
   {
    "duration": 38,
    "start_time": "2023-07-23T14:43:57.415Z"
   },
   {
    "duration": 236,
    "start_time": "2023-07-23T14:43:57.455Z"
   },
   {
    "duration": 8,
    "start_time": "2023-07-23T14:43:57.693Z"
   },
   {
    "duration": 9,
    "start_time": "2023-07-23T14:43:57.702Z"
   },
   {
    "duration": 27,
    "start_time": "2023-07-23T14:43:57.713Z"
   },
   {
    "duration": 2556,
    "start_time": "2023-07-23T14:43:57.742Z"
   },
   {
    "duration": 4,
    "start_time": "2023-07-23T14:44:00.300Z"
   },
   {
    "duration": 49,
    "start_time": "2023-07-23T14:44:00.307Z"
   },
   {
    "duration": 35,
    "start_time": "2023-07-23T14:44:00.357Z"
   },
   {
    "duration": 1029537,
    "start_time": "2023-07-23T14:44:00.394Z"
   },
   {
    "duration": 1179,
    "start_time": "2023-07-23T15:01:09.933Z"
   },
   {
    "duration": 0,
    "start_time": "2023-07-23T15:01:11.113Z"
   },
   {
    "duration": 0,
    "start_time": "2023-07-23T15:01:11.115Z"
   },
   {
    "duration": 0,
    "start_time": "2023-07-23T15:01:11.116Z"
   },
   {
    "duration": 0,
    "start_time": "2023-07-23T15:01:11.117Z"
   },
   {
    "duration": 0,
    "start_time": "2023-07-23T15:01:11.118Z"
   },
   {
    "duration": 0,
    "start_time": "2023-07-23T15:01:11.119Z"
   },
   {
    "duration": 0,
    "start_time": "2023-07-23T15:01:11.120Z"
   },
   {
    "duration": 0,
    "start_time": "2023-07-23T15:01:11.121Z"
   },
   {
    "duration": 0,
    "start_time": "2023-07-23T15:01:11.122Z"
   },
   {
    "duration": 11496,
    "start_time": "2023-07-23T15:04:28.475Z"
   },
   {
    "duration": 5008,
    "start_time": "2023-07-23T15:04:39.988Z"
   },
   {
    "duration": 196,
    "start_time": "2023-07-23T15:04:45.075Z"
   },
   {
    "duration": 1719,
    "start_time": "2023-07-23T15:04:45.273Z"
   },
   {
    "duration": 267,
    "start_time": "2023-07-23T15:04:47.008Z"
   },
   {
    "duration": 72,
    "start_time": "2023-07-23T15:04:47.307Z"
   },
   {
    "duration": 9,
    "start_time": "2023-07-23T15:04:47.389Z"
   },
   {
    "duration": 20221,
    "start_time": "2023-07-23T15:04:47.479Z"
   },
   {
    "duration": 11,
    "start_time": "2023-07-23T15:05:07.770Z"
   },
   {
    "duration": 259697,
    "start_time": "2023-07-23T15:05:07.787Z"
   },
   {
    "duration": 183,
    "start_time": "2023-07-23T15:09:27.489Z"
   },
   {
    "duration": 57607,
    "start_time": "2023-07-23T15:09:27.678Z"
   },
   {
    "duration": 6,
    "start_time": "2023-07-23T15:10:25.288Z"
   },
   {
    "duration": 71,
    "start_time": "2023-07-23T15:10:25.302Z"
   },
   {
    "duration": 6472,
    "start_time": "2023-07-23T15:22:38.606Z"
   },
   {
    "duration": 20,
    "start_time": "2023-07-23T15:22:45.086Z"
   },
   {
    "duration": 3913,
    "start_time": "2023-07-23T15:22:45.108Z"
   },
   {
    "duration": 143,
    "start_time": "2023-07-23T15:22:49.069Z"
   },
   {
    "duration": 986,
    "start_time": "2023-07-23T15:22:49.217Z"
   },
   {
    "duration": 32,
    "start_time": "2023-07-23T15:22:50.272Z"
   },
   {
    "duration": 77,
    "start_time": "2023-07-23T15:22:50.309Z"
   },
   {
    "duration": 10,
    "start_time": "2023-07-23T15:22:50.388Z"
   },
   {
    "duration": 8701,
    "start_time": "2023-07-23T15:22:50.400Z"
   },
   {
    "duration": 6,
    "start_time": "2023-07-23T15:22:59.105Z"
   },
   {
    "duration": 109101,
    "start_time": "2023-07-23T15:22:59.113Z"
   },
   {
    "duration": 169,
    "start_time": "2023-07-23T15:24:48.216Z"
   },
   {
    "duration": 22794,
    "start_time": "2023-07-23T15:24:48.387Z"
   },
   {
    "duration": 5,
    "start_time": "2023-07-23T15:25:11.186Z"
   },
   {
    "duration": 36,
    "start_time": "2023-07-23T15:25:11.194Z"
   },
   {
    "duration": 766237,
    "start_time": "2023-07-23T15:25:11.232Z"
   },
   {
    "duration": 9,
    "start_time": "2023-07-23T15:37:57.472Z"
   },
   {
    "duration": 1710394,
    "start_time": "2023-07-23T15:37:57.483Z"
   },
   {
    "duration": 7,
    "start_time": "2023-07-23T16:06:27.878Z"
   },
   {
    "duration": 2508137,
    "start_time": "2023-07-23T16:06:27.887Z"
   },
   {
    "duration": 37,
    "start_time": "2023-07-23T16:48:16.068Z"
   }
  ],
  "kernelspec": {
   "display_name": "Python 3 (ipykernel)",
   "language": "python",
   "name": "python3"
  },
  "language_info": {
   "codemirror_mode": {
    "name": "ipython",
    "version": 3
   },
   "file_extension": ".py",
   "mimetype": "text/x-python",
   "name": "python",
   "nbconvert_exporter": "python",
   "pygments_lexer": "ipython3",
   "version": "3.9.5"
  },
  "toc": {
   "base_numbering": 1,
   "nav_menu": {},
   "number_sections": true,
   "sideBar": true,
   "skip_h1_title": true,
   "title_cell": "Содержание",
   "title_sidebar": "Contents",
   "toc_cell": true,
   "toc_position": {
    "height": "calc(100% - 180px)",
    "left": "10px",
    "top": "150px",
    "width": "379.042px"
   },
   "toc_section_display": true,
   "toc_window_display": true
  }
 },
 "nbformat": 4,
 "nbformat_minor": 2
}
