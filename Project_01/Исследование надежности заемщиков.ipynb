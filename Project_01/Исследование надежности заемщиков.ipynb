{
 "cells": [
  {
   "cell_type": "markdown",
   "metadata": {},
   "source": [
    "# Исследование надежности заемщиков"
   ]
  },
  {
   "cell_type": "markdown",
   "metadata": {},
   "source": [
    "# Описание проекта\n",
    "\n",
    "Заказчик — кредитный отдел банка. Нужно разобраться, влияет ли семейное положение и количество детей клиента на факт погашения кредита в срок. Входные данные от банка — статистика о платёжеспособности клиентов.\n",
    "\n",
    "Результаты исследования будут учтены при построении модели кредитного скоринга — специальной системы, которая оценивает способность потенциального заёмщика вернуть кредит банку."
   ]
  },
  {
   "cell_type": "markdown",
   "metadata": {
    "toc": true
   },
   "source": [
    "<h1>Оглавление<span class=\"tocSkip\"></span></h1>\n",
    "<div class=\"toc\"><ul class=\"toc-item\"><li><span><a href=\"#Импорт-и-начало-работы\" data-toc-modified-id=\"Импорт-и-начало-работы-1\"><span class=\"toc-item-num\">1&nbsp;&nbsp;</span>Импорт и начало работы</a></span><ul class=\"toc-item\"><li><span><a href=\"#Импорт-библиотек\" data-toc-modified-id=\"Импорт-библиотек-1.1\"><span class=\"toc-item-num\">1.1&nbsp;&nbsp;</span>Импорт библиотек</a></span></li><li><span><a href=\"#Импорт-и-изучение-данных\" data-toc-modified-id=\"Импорт-и-изучение-данных-1.2\"><span class=\"toc-item-num\">1.2&nbsp;&nbsp;</span>Импорт и изучение данных</a></span></li></ul></li><li><span><a href=\"#Предобработка-данных\" data-toc-modified-id=\"Предобработка-данных-2\"><span class=\"toc-item-num\">2&nbsp;&nbsp;</span>Предобработка данных</a></span><ul class=\"toc-item\"><li><span><a href=\"#Удаление-пропусков\" data-toc-modified-id=\"Удаление-пропусков-2.1\"><span class=\"toc-item-num\">2.1&nbsp;&nbsp;</span>Удаление пропусков</a></span></li><li><span><a href=\"#Обработка-аномальных-значений\" data-toc-modified-id=\"Обработка-аномальных-значений-2.2\"><span class=\"toc-item-num\">2.2&nbsp;&nbsp;</span>Обработка аномальных значений</a></span></li><li><span><a href=\"#Изменение-типов-данных\" data-toc-modified-id=\"Изменение-типов-данных-2.3\"><span class=\"toc-item-num\">2.3&nbsp;&nbsp;</span>Изменение типов данных</a></span></li><li><span><a href=\"#Обработка-дубликатов\" data-toc-modified-id=\"Обработка-дубликатов-2.4\"><span class=\"toc-item-num\">2.4&nbsp;&nbsp;</span>Обработка дубликатов</a></span></li><li><span><a href=\"#Категоризация-данных\" data-toc-modified-id=\"Категоризация-данных-2.5\"><span class=\"toc-item-num\">2.5&nbsp;&nbsp;</span>Категоризация данных</a></span></li></ul></li><li><span><a href=\"#Исследование-данных\" data-toc-modified-id=\"Исследование-данных-3\"><span class=\"toc-item-num\">3&nbsp;&nbsp;</span>Исследование данных</a></span><ul class=\"toc-item\"><li><span><a href=\"#Есть-ли-зависимость-между-количеством-детей-и-возвратом-кредита-в-срок?\" data-toc-modified-id=\"Есть-ли-зависимость-между-количеством-детей-и-возвратом-кредита-в-срок?-3.1\"><span class=\"toc-item-num\">3.1&nbsp;&nbsp;</span>Есть ли зависимость между количеством детей и возвратом кредита в срок?</a></span><ul class=\"toc-item\"><li><span><a href=\"#Вывод\" data-toc-modified-id=\"Вывод-3.1.1\"><span class=\"toc-item-num\">3.1.1&nbsp;&nbsp;</span>Вывод</a></span></li></ul></li><li><span><a href=\"#Есть-ли-зависимость-между-семейным-положением-и-возвратом-кредита-в-срок?¶\" data-toc-modified-id=\"Есть-ли-зависимость-между-семейным-положением-и-возвратом-кредита-в-срок?¶-3.2\"><span class=\"toc-item-num\">3.2&nbsp;&nbsp;</span>Есть ли зависимость между семейным положением и возвратом кредита в срок?¶</a></span><ul class=\"toc-item\"><li><span><a href=\"#Вывод:\" data-toc-modified-id=\"Вывод:-3.2.1\"><span class=\"toc-item-num\">3.2.1&nbsp;&nbsp;</span>Вывод:</a></span></li></ul></li><li><span><a href=\"#Есть-ли-зависимость-между-уровнем-дохода-и-возвратом-кредита-в-срок?\" data-toc-modified-id=\"Есть-ли-зависимость-между-уровнем-дохода-и-возвратом-кредита-в-срок?-3.3\"><span class=\"toc-item-num\">3.3&nbsp;&nbsp;</span>Есть ли зависимость между уровнем дохода и возвратом кредита в срок?</a></span><ul class=\"toc-item\"><li><span><a href=\"#Вывод:\" data-toc-modified-id=\"Вывод:-3.3.1\"><span class=\"toc-item-num\">3.3.1&nbsp;&nbsp;</span>Вывод:</a></span></li></ul></li><li><span><a href=\"#Как-разные-цели-кредита-влияют-на-его-возврат-в-срок?\" data-toc-modified-id=\"Как-разные-цели-кредита-влияют-на-его-возврат-в-срок?-3.4\"><span class=\"toc-item-num\">3.4&nbsp;&nbsp;</span>Как разные цели кредита влияют на его возврат в срок?</a></span><ul class=\"toc-item\"><li><span><a href=\"#Вывод:\" data-toc-modified-id=\"Вывод:-3.4.1\"><span class=\"toc-item-num\">3.4.1&nbsp;&nbsp;</span>Вывод:</a></span></li></ul></li><li><span><a href=\"#Каковы-возможные-причины-появления-пропусков-в-исходных-данных?\" data-toc-modified-id=\"Каковы-возможные-причины-появления-пропусков-в-исходных-данных?-3.5\"><span class=\"toc-item-num\">3.5&nbsp;&nbsp;</span>Каковы возможные причины появления пропусков в исходных данных?</a></span><ul class=\"toc-item\"><li><span><a href=\"#Вывод:\" data-toc-modified-id=\"Вывод:-3.5.1\"><span class=\"toc-item-num\">3.5.1&nbsp;&nbsp;</span>Вывод:</a></span></li></ul></li></ul></li><li><span><a href=\"#Итоговый-вывод\" data-toc-modified-id=\"Итоговый-вывод-4\"><span class=\"toc-item-num\">4&nbsp;&nbsp;</span>Итоговый вывод</a></span></li></ul></div>"
   ]
  },
  {
   "cell_type": "markdown",
   "metadata": {},
   "source": [
    "## Импорт и начало работы"
   ]
  },
  {
   "cell_type": "markdown",
   "metadata": {},
   "source": [
    "### Импорт библиотек"
   ]
  },
  {
   "cell_type": "code",
   "execution_count": 1,
   "metadata": {},
   "outputs": [],
   "source": [
    "import pandas as pd\n",
    "from IPython.display import display"
   ]
  },
  {
   "cell_type": "markdown",
   "metadata": {},
   "source": [
    "### Импорт и изучение данных"
   ]
  },
  {
   "cell_type": "code",
   "execution_count": 2,
   "metadata": {},
   "outputs": [],
   "source": [
    "try:\n",
    "    data = pd.read_csv('/datasets/data.csv')\n",
    "except:\n",
    "    data = pd.read_csv('./datasets/data.csv')"
   ]
  },
  {
   "cell_type": "code",
   "execution_count": 3,
   "metadata": {},
   "outputs": [
    {
     "data": {
      "text/html": [
       "<div>\n",
       "<style scoped>\n",
       "    .dataframe tbody tr th:only-of-type {\n",
       "        vertical-align: middle;\n",
       "    }\n",
       "\n",
       "    .dataframe tbody tr th {\n",
       "        vertical-align: top;\n",
       "    }\n",
       "\n",
       "    .dataframe thead th {\n",
       "        text-align: right;\n",
       "    }\n",
       "</style>\n",
       "<table border=\"1\" class=\"dataframe\">\n",
       "  <thead>\n",
       "    <tr style=\"text-align: right;\">\n",
       "      <th></th>\n",
       "      <th>children</th>\n",
       "      <th>days_employed</th>\n",
       "      <th>dob_years</th>\n",
       "      <th>education</th>\n",
       "      <th>education_id</th>\n",
       "      <th>family_status</th>\n",
       "      <th>family_status_id</th>\n",
       "      <th>gender</th>\n",
       "      <th>income_type</th>\n",
       "      <th>debt</th>\n",
       "      <th>total_income</th>\n",
       "      <th>purpose</th>\n",
       "    </tr>\n",
       "  </thead>\n",
       "  <tbody>\n",
       "    <tr>\n",
       "      <th>0</th>\n",
       "      <td>1</td>\n",
       "      <td>-8437.673028</td>\n",
       "      <td>42</td>\n",
       "      <td>высшее</td>\n",
       "      <td>0</td>\n",
       "      <td>женат / замужем</td>\n",
       "      <td>0</td>\n",
       "      <td>F</td>\n",
       "      <td>сотрудник</td>\n",
       "      <td>0</td>\n",
       "      <td>253875.639453</td>\n",
       "      <td>покупка жилья</td>\n",
       "    </tr>\n",
       "    <tr>\n",
       "      <th>1</th>\n",
       "      <td>1</td>\n",
       "      <td>-4024.803754</td>\n",
       "      <td>36</td>\n",
       "      <td>среднее</td>\n",
       "      <td>1</td>\n",
       "      <td>женат / замужем</td>\n",
       "      <td>0</td>\n",
       "      <td>F</td>\n",
       "      <td>сотрудник</td>\n",
       "      <td>0</td>\n",
       "      <td>112080.014102</td>\n",
       "      <td>приобретение автомобиля</td>\n",
       "    </tr>\n",
       "    <tr>\n",
       "      <th>2</th>\n",
       "      <td>0</td>\n",
       "      <td>-5623.422610</td>\n",
       "      <td>33</td>\n",
       "      <td>Среднее</td>\n",
       "      <td>1</td>\n",
       "      <td>женат / замужем</td>\n",
       "      <td>0</td>\n",
       "      <td>M</td>\n",
       "      <td>сотрудник</td>\n",
       "      <td>0</td>\n",
       "      <td>145885.952297</td>\n",
       "      <td>покупка жилья</td>\n",
       "    </tr>\n",
       "    <tr>\n",
       "      <th>3</th>\n",
       "      <td>3</td>\n",
       "      <td>-4124.747207</td>\n",
       "      <td>32</td>\n",
       "      <td>среднее</td>\n",
       "      <td>1</td>\n",
       "      <td>женат / замужем</td>\n",
       "      <td>0</td>\n",
       "      <td>M</td>\n",
       "      <td>сотрудник</td>\n",
       "      <td>0</td>\n",
       "      <td>267628.550329</td>\n",
       "      <td>дополнительное образование</td>\n",
       "    </tr>\n",
       "    <tr>\n",
       "      <th>4</th>\n",
       "      <td>0</td>\n",
       "      <td>340266.072047</td>\n",
       "      <td>53</td>\n",
       "      <td>среднее</td>\n",
       "      <td>1</td>\n",
       "      <td>гражданский брак</td>\n",
       "      <td>1</td>\n",
       "      <td>F</td>\n",
       "      <td>пенсионер</td>\n",
       "      <td>0</td>\n",
       "      <td>158616.077870</td>\n",
       "      <td>сыграть свадьбу</td>\n",
       "    </tr>\n",
       "  </tbody>\n",
       "</table>\n",
       "</div>"
      ],
      "text/plain": [
       "   children  days_employed  dob_years education  education_id  \\\n",
       "0         1   -8437.673028         42    высшее             0   \n",
       "1         1   -4024.803754         36   среднее             1   \n",
       "2         0   -5623.422610         33   Среднее             1   \n",
       "3         3   -4124.747207         32   среднее             1   \n",
       "4         0  340266.072047         53   среднее             1   \n",
       "\n",
       "      family_status  family_status_id gender income_type  debt   total_income  \\\n",
       "0   женат / замужем                 0      F   сотрудник     0  253875.639453   \n",
       "1   женат / замужем                 0      F   сотрудник     0  112080.014102   \n",
       "2   женат / замужем                 0      M   сотрудник     0  145885.952297   \n",
       "3   женат / замужем                 0      M   сотрудник     0  267628.550329   \n",
       "4  гражданский брак                 1      F   пенсионер     0  158616.077870   \n",
       "\n",
       "                      purpose  \n",
       "0               покупка жилья  \n",
       "1     приобретение автомобиля  \n",
       "2               покупка жилья  \n",
       "3  дополнительное образование  \n",
       "4             сыграть свадьбу  "
      ]
     },
     "execution_count": 3,
     "metadata": {},
     "output_type": "execute_result"
    }
   ],
   "source": [
    "data.head()"
   ]
  },
  {
   "cell_type": "code",
   "execution_count": 4,
   "metadata": {},
   "outputs": [
    {
     "name": "stdout",
     "output_type": "stream",
     "text": [
      "<class 'pandas.core.frame.DataFrame'>\n",
      "RangeIndex: 21525 entries, 0 to 21524\n",
      "Data columns (total 12 columns):\n",
      " #   Column            Non-Null Count  Dtype  \n",
      "---  ------            --------------  -----  \n",
      " 0   children          21525 non-null  int64  \n",
      " 1   days_employed     19351 non-null  float64\n",
      " 2   dob_years         21525 non-null  int64  \n",
      " 3   education         21525 non-null  object \n",
      " 4   education_id      21525 non-null  int64  \n",
      " 5   family_status     21525 non-null  object \n",
      " 6   family_status_id  21525 non-null  int64  \n",
      " 7   gender            21525 non-null  object \n",
      " 8   income_type       21525 non-null  object \n",
      " 9   debt              21525 non-null  int64  \n",
      " 10  total_income      19351 non-null  float64\n",
      " 11  purpose           21525 non-null  object \n",
      "dtypes: float64(2), int64(5), object(5)\n",
      "memory usage: 2.0+ MB\n"
     ]
    }
   ],
   "source": [
    "data.info()"
   ]
  },
  {
   "cell_type": "markdown",
   "metadata": {},
   "source": [
    "## Предобработка данных"
   ]
  },
  {
   "cell_type": "markdown",
   "metadata": {},
   "source": [
    "### Удаление пропусков"
   ]
  },
  {
   "cell_type": "markdown",
   "metadata": {},
   "source": [
    "Узнаем количество пропусков"
   ]
  },
  {
   "cell_type": "code",
   "execution_count": 5,
   "metadata": {},
   "outputs": [
    {
     "data": {
      "text/plain": [
       "children               0\n",
       "days_employed       2174\n",
       "dob_years              0\n",
       "education              0\n",
       "education_id           0\n",
       "family_status          0\n",
       "family_status_id       0\n",
       "gender                 0\n",
       "income_type            0\n",
       "debt                   0\n",
       "total_income        2174\n",
       "purpose                0\n",
       "dtype: int64"
      ]
     },
     "execution_count": 5,
     "metadata": {},
     "output_type": "execute_result"
    }
   ],
   "source": [
    "data.isna().sum()"
   ]
  },
  {
   "cell_type": "markdown",
   "metadata": {},
   "source": [
    "total_income — хранит данные о доходах. На сумму дохода сильнее всего влияет тип занятости, поэтому заполнить пропуски в этом столбце нужно медианным значением по каждому типу из столбца income_type."
   ]
  },
  {
   "cell_type": "code",
   "execution_count": 6,
   "metadata": {},
   "outputs": [],
   "source": [
    "for t in data['income_type'].unique():\n",
    "    data.loc[(data['income_type'] == t) & (data['total_income'].isna()), 'total_income'] = \\\n",
    "    data.loc[(data['income_type'] == t), 'total_income'].median()"
   ]
  },
  {
   "cell_type": "markdown",
   "metadata": {},
   "source": [
    "Заполним пропуски в столбце days_employed медианными значениями по каждого типа занятости income_type"
   ]
  },
  {
   "cell_type": "code",
   "execution_count": 7,
   "metadata": {},
   "outputs": [],
   "source": [
    "for t in data['income_type'].unique():\n",
    "    data.loc[(data['income_type'] == t) & (data['days_employed'].isna()), 'days_employed'] = \\\n",
    "    data.loc[(data['income_type'] == t), 'days_employed'].median()"
   ]
  },
  {
   "cell_type": "markdown",
   "metadata": {},
   "source": [
    "### Обработка аномальных значений"
   ]
  },
  {
   "cell_type": "markdown",
   "metadata": {},
   "source": [
    "Артефактом будет отрицательное количество дней трудового стажа в столбце days_employed. Заменим отрицательные значения на положительные."
   ]
  },
  {
   "cell_type": "code",
   "execution_count": 8,
   "metadata": {},
   "outputs": [],
   "source": [
    "data['days_employed'] = data['days_employed'].abs()"
   ]
  },
  {
   "cell_type": "markdown",
   "metadata": {},
   "source": [
    "Для каждого типа занятости выведем медианное значение трудового стажа days_employed в днях."
   ]
  },
  {
   "cell_type": "code",
   "execution_count": 9,
   "metadata": {},
   "outputs": [
    {
     "data": {
      "text/plain": [
       "income_type\n",
       "безработный        366413.652744\n",
       "в декрете            3296.759962\n",
       "госслужащий          2689.368353\n",
       "компаньон            1547.382223\n",
       "пенсионер          365213.306266\n",
       "предприниматель       520.848083\n",
       "сотрудник            1574.202821\n",
       "студент               578.751554\n",
       "Name: days_employed, dtype: float64"
      ]
     },
     "execution_count": 9,
     "metadata": {},
     "output_type": "execute_result"
    }
   ],
   "source": [
    "data.groupby('income_type')['days_employed'].agg('median')"
   ]
  },
  {
   "cell_type": "markdown",
   "metadata": {},
   "source": [
    "У двух типов (безработные и пенсионеры) получатся аномально большие значения. Исправить такие значения сложно, поэтому оставьте их как есть. Тем более этот столбец не понадобится вам для исследования."
   ]
  },
  {
   "cell_type": "code",
   "execution_count": 10,
   "metadata": {},
   "outputs": [
    {
     "data": {
      "text/plain": [
       "array([ 1,  0,  3,  2, -1,  4, 20,  5])"
      ]
     },
     "execution_count": 10,
     "metadata": {},
     "output_type": "execute_result"
    }
   ],
   "source": [
    "data['children'].unique()"
   ]
  },
  {
   "cell_type": "markdown",
   "metadata": {},
   "source": [
    "В столбце children есть два аномальных значения, удалим их"
   ]
  },
  {
   "cell_type": "code",
   "execution_count": 11,
   "metadata": {},
   "outputs": [],
   "source": [
    "data = data[(data['children'] != -1) & (data['children'] != 20)]"
   ]
  },
  {
   "cell_type": "code",
   "execution_count": 12,
   "metadata": {},
   "outputs": [
    {
     "data": {
      "text/plain": [
       "array([1, 0, 3, 2, 4, 5])"
      ]
     },
     "execution_count": 12,
     "metadata": {},
     "output_type": "execute_result"
    }
   ],
   "source": [
    "data['children'].unique()"
   ]
  },
  {
   "cell_type": "code",
   "execution_count": 13,
   "metadata": {},
   "outputs": [
    {
     "data": {
      "text/plain": [
       "children            0\n",
       "days_employed       0\n",
       "dob_years           0\n",
       "education           0\n",
       "education_id        0\n",
       "family_status       0\n",
       "family_status_id    0\n",
       "gender              0\n",
       "income_type         0\n",
       "debt                0\n",
       "total_income        0\n",
       "purpose             0\n",
       "dtype: int64"
      ]
     },
     "execution_count": 13,
     "metadata": {},
     "output_type": "execute_result"
    }
   ],
   "source": [
    "data.isna().sum()"
   ]
  },
  {
   "cell_type": "markdown",
   "metadata": {},
   "source": [
    "### Изменение типов данных"
   ]
  },
  {
   "cell_type": "code",
   "execution_count": 14,
   "metadata": {},
   "outputs": [],
   "source": [
    "data['total_income'] = data['total_income'].astype(int)"
   ]
  },
  {
   "cell_type": "markdown",
   "metadata": {},
   "source": [
    "### Обработка дубликатов"
   ]
  },
  {
   "cell_type": "code",
   "execution_count": 15,
   "metadata": {},
   "outputs": [],
   "source": [
    "data['education'] = data['education'].str.lower()"
   ]
  },
  {
   "cell_type": "code",
   "execution_count": 16,
   "metadata": {},
   "outputs": [
    {
     "data": {
      "text/plain": [
       "71"
      ]
     },
     "execution_count": 16,
     "metadata": {},
     "output_type": "execute_result"
    }
   ],
   "source": [
    "data.duplicated().sum()"
   ]
  },
  {
   "cell_type": "code",
   "execution_count": 17,
   "metadata": {},
   "outputs": [],
   "source": [
    "data = data.drop_duplicates()"
   ]
  },
  {
   "cell_type": "markdown",
   "metadata": {},
   "source": [
    "### Категоризация данных"
   ]
  },
  {
   "cell_type": "markdown",
   "metadata": {},
   "source": [
    "Создадим в датафрейме data столбец total_income_category с категориями:\n",
    "\n",
    "- 0–30000 — 'E';\n",
    "- 30001–50000 — 'D';\n",
    "- 50001–200000 — 'C';\n",
    "- 200001–1000000 — 'B';\n",
    "- 1000001 и выше — 'A'."
   ]
  },
  {
   "cell_type": "code",
   "execution_count": 18,
   "metadata": {},
   "outputs": [],
   "source": [
    "def categorize_income(income):\n",
    "    try:\n",
    "        if 0 <= income <= 30000:\n",
    "            return 'E'\n",
    "        elif 30001 <= income <= 50000:\n",
    "            return 'D'\n",
    "        elif 50001 <= income <= 200000:\n",
    "            return 'C'\n",
    "        elif 200001 <= income <= 1000000:\n",
    "            return 'B'\n",
    "        elif income >= 1000001:\n",
    "            return 'A'\n",
    "    except:\n",
    "        pass"
   ]
  },
  {
   "cell_type": "code",
   "execution_count": 19,
   "metadata": {},
   "outputs": [],
   "source": [
    "data['total_income_category'] = data['total_income'].apply(categorize_income)"
   ]
  },
  {
   "cell_type": "code",
   "execution_count": 20,
   "metadata": {},
   "outputs": [
    {
     "data": {
      "text/plain": [
       "array(['покупка жилья', 'приобретение автомобиля',\n",
       "       'дополнительное образование', 'сыграть свадьбу',\n",
       "       'операции с жильем', 'образование', 'на проведение свадьбы',\n",
       "       'покупка жилья для семьи', 'покупка недвижимости',\n",
       "       'покупка коммерческой недвижимости', 'покупка жилой недвижимости',\n",
       "       'строительство собственной недвижимости', 'недвижимость',\n",
       "       'строительство недвижимости', 'на покупку подержанного автомобиля',\n",
       "       'на покупку своего автомобиля',\n",
       "       'операции с коммерческой недвижимостью',\n",
       "       'строительство жилой недвижимости', 'жилье',\n",
       "       'операции со своей недвижимостью', 'автомобили',\n",
       "       'заняться образованием', 'сделка с подержанным автомобилем',\n",
       "       'получение образования', 'автомобиль', 'свадьба',\n",
       "       'получение дополнительного образования', 'покупка своего жилья',\n",
       "       'операции с недвижимостью', 'получение высшего образования',\n",
       "       'свой автомобиль', 'сделка с автомобилем',\n",
       "       'профильное образование', 'высшее образование',\n",
       "       'покупка жилья для сдачи', 'на покупку автомобиля', 'ремонт жилью',\n",
       "       'заняться высшим образованием'], dtype=object)"
      ]
     },
     "execution_count": 20,
     "metadata": {},
     "output_type": "execute_result"
    }
   ],
   "source": [
    "data['purpose'].unique()"
   ]
  },
  {
   "cell_type": "markdown",
   "metadata": {},
   "source": [
    "Создадим функцию, которая на основании данных из столбца purpose сформирует новый столбец purpose_category, в который войдут следующие категории:\n",
    "\n",
    "- 'операции с автомобилем',\n",
    "- 'операции с недвижимостью',\n",
    "- 'проведение свадьбы',\n",
    "- 'получение образования'."
   ]
  },
  {
   "cell_type": "code",
   "execution_count": 21,
   "metadata": {},
   "outputs": [],
   "source": [
    "def categorize_purpose(row):\n",
    "    try:\n",
    "        if 'автом' in row:\n",
    "            return 'операции с автомобилем'\n",
    "        elif 'жил' in row or 'недвиж' in row:\n",
    "            return 'операции с недвижимостью'\n",
    "        elif 'свад' in row:\n",
    "            return 'проведение свадьбы'\n",
    "        elif 'образов' in row:\n",
    "            return 'получение образования'\n",
    "    except:\n",
    "        return 'нет категории'"
   ]
  },
  {
   "cell_type": "code",
   "execution_count": 22,
   "metadata": {},
   "outputs": [],
   "source": [
    "data['purpose_category'] = data['purpose'].apply(categorize_purpose)"
   ]
  },
  {
   "cell_type": "markdown",
   "metadata": {},
   "source": [
    "## Исследование данных"
   ]
  },
  {
   "cell_type": "markdown",
   "metadata": {},
   "source": [
    "### Есть ли зависимость между количеством детей и возвратом кредита в срок?"
   ]
  },
  {
   "cell_type": "code",
   "execution_count": 23,
   "metadata": {},
   "outputs": [
    {
     "name": "stdout",
     "output_type": "stream",
     "text": [
      "           debt       non_return_percent\n",
      "          count   sum                   \n",
      "children                                \n",
      "0         14091  1063           7.543822\n",
      "1          4808   444           9.234609\n",
      "2          2052   194           9.454191\n",
      "3           330    27           8.181818\n",
      "4            41     4           9.756098\n",
      "5             9     0           0.000000\n"
     ]
    }
   ],
   "source": [
    "data_grouped = data.groupby('children').agg({'debt': ['count', 'sum']})\n",
    "data_grouped['non_return_percent'] = data_grouped['debt']['sum']/data_grouped['debt']['count']*100\n",
    "print(data_grouped)"
   ]
  },
  {
   "cell_type": "code",
   "execution_count": 24,
   "metadata": {},
   "outputs": [
    {
     "name": "stdout",
     "output_type": "stream",
     "text": [
      "                    debt       non_return_percent\n",
      "                   count   sum                   \n",
      "children_category                                \n",
      "0                  14091  1063           7.543822\n",
      "1                   7240   669           9.240331\n"
     ]
    }
   ],
   "source": [
    "duplicates = [5, 4, 3, 2]\n",
    "name = 1\n",
    "\n",
    "data['children_category'] = data['children'].replace(duplicates, name) \n",
    "\n",
    "data_grouped = data.groupby('children_category').agg({'debt': ['count', 'sum']})\n",
    "\n",
    "data_grouped['non_return_percent'] = data_grouped['debt']['sum']/data_grouped['debt']['count']*100\n",
    "print(data_grouped)"
   ]
  },
  {
   "cell_type": "markdown",
   "metadata": {},
   "source": [
    "#### Вывод  \n",
    "- Зависимости между количеством детей и возвратом кредита в срок нет, так как примерно по всем котегориям одинаковый процент невозврата. Но меньший процент у заемщиков без детей.\n",
    "- Среди тех у кого есть дети процент должников больше."
   ]
  },
  {
   "cell_type": "markdown",
   "metadata": {},
   "source": [
    "### Есть ли зависимость между семейным положением и возвратом кредита в срок?¶"
   ]
  },
  {
   "cell_type": "code",
   "execution_count": 25,
   "metadata": {},
   "outputs": [
    {
     "name": "stdout",
     "output_type": "stream",
     "text": [
      "                        debt      non_return_percent\n",
      "                       count  sum                   \n",
      "family_status                                       \n",
      "Не женат / не замужем   2796  273           9.763948\n",
      "в разводе               1189   84           7.064760\n",
      "вдовец / вдова           951   63           6.624606\n",
      "гражданский брак        4134  385           9.313014\n",
      "женат / замужем        12261  927           7.560558\n"
     ]
    }
   ],
   "source": [
    "data_grouped = data.groupby('family_status').agg({'debt': ['count', 'sum']})\n",
    "data_grouped['non_return_percent'] = data_grouped['debt']['sum']/data_grouped['debt']['count']*100\n",
    "print(data_grouped)"
   ]
  },
  {
   "cell_type": "markdown",
   "metadata": {},
   "source": [
    "#### Вывод: \n",
    "Среди тех кто состоит или состоял в официальном браке меньший процент должников, но разница между ними всего 4%"
   ]
  },
  {
   "cell_type": "markdown",
   "metadata": {},
   "source": [
    "### Есть ли зависимость между уровнем дохода и возвратом кредита в срок?"
   ]
  },
  {
   "cell_type": "code",
   "execution_count": 26,
   "metadata": {},
   "outputs": [
    {
     "name": "stdout",
     "output_type": "stream",
     "text": [
      "                        debt       non_return_percent\n",
      "                       count   sum                   \n",
      "total_income_category                                \n",
      "A                         25     2           8.000000\n",
      "B                       5014   354           7.060231\n",
      "C                      15921  1353           8.498210\n",
      "D                        349    21           6.017192\n",
      "E                         22     2           9.090909\n"
     ]
    }
   ],
   "source": [
    "data_grouped = data.groupby('total_income_category').agg({'debt': ['count', 'sum']})\n",
    "data_grouped['non_return_percent'] = data_grouped['debt']['sum']/data_grouped['debt']['count']*100\n",
    "print(data_grouped)"
   ]
  },
  {
   "cell_type": "markdown",
   "metadata": {},
   "source": [
    "Поделим заемщиков на две группы, те у кого средний доход от 50000 до 200000 (категория \"С\") и всех остальных."
   ]
  },
  {
   "cell_type": "code",
   "execution_count": 27,
   "metadata": {},
   "outputs": [
    {
     "name": "stdout",
     "output_type": "stream",
     "text": [
      "                                debt       non_return_percent\n",
      "                               count   sum                   \n",
      "total_income_category_average                                \n",
      "C                              15921  1353           8.498210\n",
      "another                         5410   379           7.005545\n"
     ]
    }
   ],
   "source": [
    "duplicates = ['A', 'B', 'D', 'E', 'F']\n",
    "name = 'another'\n",
    "\n",
    "data['total_income_category_average'] = data['total_income_category'].replace(duplicates, name)\n",
    "data_grouped = data.groupby('total_income_category_average').agg({'debt': ['count', 'sum']})\n",
    "\n",
    "data_grouped['non_return_percent'] = data_grouped['debt']['sum']/data_grouped['debt']['count']*100\n",
    "print(data_grouped)"
   ]
  },
  {
   "cell_type": "markdown",
   "metadata": {},
   "source": [
    "Достаточно клиентов для анализа только в группах В и С. Так что будем рассматривать только эти группы."
   ]
  },
  {
   "cell_type": "markdown",
   "metadata": {},
   "source": [
    "#### Вывод: \n",
    "Чем ниже уровень дохода, тем больше вероятность просрочки кредита."
   ]
  },
  {
   "cell_type": "markdown",
   "metadata": {},
   "source": [
    "### Как разные цели кредита влияют на его возврат в срок?"
   ]
  },
  {
   "cell_type": "code",
   "execution_count": 28,
   "metadata": {},
   "outputs": [
    {
     "name": "stdout",
     "output_type": "stream",
     "text": [
      "                           debt      non_return_percent\n",
      "                          count  sum                   \n",
      "purpose_category                                       \n",
      "операции с автомобилем     4279  400           9.347978\n",
      "операции с недвижимостью  10751  780           7.255139\n",
      "получение образования      3988  369           9.252758\n",
      "проведение свадьбы         2313  183           7.911803\n"
     ]
    }
   ],
   "source": [
    "data_grouped = data.groupby('purpose_category').agg({'debt': ['count', 'sum']})\n",
    "data_grouped['non_return_percent'] = data_grouped['debt']['sum']/data_grouped['debt']['count']*100\n",
    "print(data_grouped)"
   ]
  },
  {
   "cell_type": "markdown",
   "metadata": {},
   "source": [
    "#### Вывод: \n",
    "В целях кридита \"операции с автомобилем\" и \"получение образования\" больший пройент должников, чем в целях кредита \"операции с недвижемостью\" и \"проведение свадьбы\" на 2%"
   ]
  },
  {
   "cell_type": "markdown",
   "metadata": {},
   "source": [
    "### Каковы возможные причины появления пропусков в исходных данных?"
   ]
  },
  {
   "cell_type": "markdown",
   "metadata": {},
   "source": [
    "#### Вывод:\n",
    "Все пропуски сосредоточины в двух столбцах - общий трудовой стаж в днях и ежемесячный доход. Понятно что те кто не работают не получают и зарплату, но в столбце с типом занятости указаны пенсионеры, госслужащие и компаньены. Значит эти люди работали и получали зарплату. Возможно у госслужащих эти данные засекречены и требуется больше времени на проверку этой информации и добавления ее в базу данных. Так же это может быть технический сбой или ошибки вызваные человеческим фактором."
   ]
  },
  {
   "cell_type": "markdown",
   "metadata": {},
   "source": [
    "## Итоговый вывод"
   ]
  },
  {
   "cell_type": "markdown",
   "metadata": {},
   "source": [
    "Каждая из исследуемых зависимостей подтвердилась. Более вероятно воремя отдадут кредит следующие категории: \n",
    "1. Люди прибывающие или побывавшие официальном в браке \n",
    "2. Заемщики без детей \n",
    "3. Те у кого более высокая зароботная плата \n",
    "4. Люди берущие кредит на цели: \"операции с недвижемостью\" и \"проведение свадьбы\" \n",
    "\n",
    "Категории же людей которые вероятнее отдадут кредит не вовремя: \n",
    "1. Люди не состоявшие в официальном браке \n",
    "2. Взрослые с детьми \n",
    "3. Те у кого более низкая зароботная плата \n",
    "4. Заемщики берущие кредит на цели: \"операции с автомобилем\" и \"получение образования\""
   ]
  }
 ],
 "metadata": {
  "ExecuteTimeLog": [
   {
    "duration": 810,
    "start_time": "2022-12-12T17:19:40.359Z"
   },
   {
    "duration": 102,
    "start_time": "2022-12-12T17:20:04.087Z"
   },
   {
    "duration": 27,
    "start_time": "2022-12-12T17:20:38.589Z"
   },
   {
    "duration": 16,
    "start_time": "2022-12-12T17:20:39.590Z"
   },
   {
    "duration": 17,
    "start_time": "2022-12-12T17:57:35.921Z"
   },
   {
    "duration": 12,
    "start_time": "2022-12-12T17:59:14.950Z"
   },
   {
    "duration": 842,
    "start_time": "2022-12-12T18:07:32.972Z"
   },
   {
    "duration": 12,
    "start_time": "2022-12-12T18:07:41.894Z"
   },
   {
    "duration": 12,
    "start_time": "2022-12-12T18:07:53.043Z"
   },
   {
    "duration": 4,
    "start_time": "2022-12-12T18:08:59.493Z"
   },
   {
    "duration": 25,
    "start_time": "2022-12-12T18:09:05.545Z"
   },
   {
    "duration": 4,
    "start_time": "2022-12-12T18:09:13.387Z"
   },
   {
    "duration": 12,
    "start_time": "2022-12-12T18:10:06.677Z"
   },
   {
    "duration": 7,
    "start_time": "2022-12-12T18:10:07.526Z"
   },
   {
    "duration": 14,
    "start_time": "2022-12-12T18:10:07.866Z"
   },
   {
    "duration": 7,
    "start_time": "2022-12-12T18:11:12.497Z"
   },
   {
    "duration": 19,
    "start_time": "2022-12-12T18:12:36.410Z"
   },
   {
    "duration": 11,
    "start_time": "2022-12-12T18:16:48.859Z"
   },
   {
    "duration": 8,
    "start_time": "2022-12-12T18:18:13.919Z"
   },
   {
    "duration": 11,
    "start_time": "2022-12-12T18:18:40.021Z"
   },
   {
    "duration": 10,
    "start_time": "2022-12-12T18:19:12.444Z"
   },
   {
    "duration": 29,
    "start_time": "2022-12-12T18:24:26.317Z"
   },
   {
    "duration": 23,
    "start_time": "2022-12-12T18:24:46.787Z"
   },
   {
    "duration": 24,
    "start_time": "2022-12-12T18:25:06.175Z"
   },
   {
    "duration": 49,
    "start_time": "2022-12-13T15:32:31.658Z"
   },
   {
    "duration": 847,
    "start_time": "2022-12-13T15:32:38.367Z"
   },
   {
    "duration": 449,
    "start_time": "2022-12-13T15:32:39.217Z"
   },
   {
    "duration": 36,
    "start_time": "2022-12-13T15:32:39.668Z"
   },
   {
    "duration": 21,
    "start_time": "2022-12-13T15:32:39.707Z"
   },
   {
    "duration": 4,
    "start_time": "2022-12-13T15:32:39.730Z"
   },
   {
    "duration": 37,
    "start_time": "2022-12-13T15:32:39.737Z"
   },
   {
    "duration": 12,
    "start_time": "2022-12-13T15:32:39.776Z"
   },
   {
    "duration": 25,
    "start_time": "2022-12-13T15:32:39.791Z"
   },
   {
    "duration": 31,
    "start_time": "2022-12-13T15:32:39.819Z"
   },
   {
    "duration": 23,
    "start_time": "2022-12-13T15:32:39.853Z"
   },
   {
    "duration": 5,
    "start_time": "2022-12-13T15:32:39.878Z"
   },
   {
    "duration": 10,
    "start_time": "2022-12-13T15:32:39.884Z"
   },
   {
    "duration": 3,
    "start_time": "2022-12-13T15:50:30.145Z"
   },
   {
    "duration": 928,
    "start_time": "2022-12-13T15:54:03.455Z"
   },
   {
    "duration": 54,
    "start_time": "2022-12-13T15:54:04.385Z"
   },
   {
    "duration": 29,
    "start_time": "2022-12-13T15:54:04.441Z"
   },
   {
    "duration": 19,
    "start_time": "2022-12-13T15:54:04.473Z"
   },
   {
    "duration": 18,
    "start_time": "2022-12-13T15:54:04.494Z"
   },
   {
    "duration": 53,
    "start_time": "2022-12-13T15:54:04.514Z"
   },
   {
    "duration": 15,
    "start_time": "2022-12-13T15:54:04.569Z"
   },
   {
    "duration": 50,
    "start_time": "2022-12-13T15:54:04.586Z"
   },
   {
    "duration": 29,
    "start_time": "2022-12-13T15:54:04.638Z"
   },
   {
    "duration": 39,
    "start_time": "2022-12-13T15:54:04.670Z"
   },
   {
    "duration": 26,
    "start_time": "2022-12-13T15:54:04.711Z"
   },
   {
    "duration": 23,
    "start_time": "2022-12-13T15:54:58.119Z"
   },
   {
    "duration": 19,
    "start_time": "2022-12-13T15:55:00.506Z"
   },
   {
    "duration": 25,
    "start_time": "2022-12-13T15:55:50.276Z"
   },
   {
    "duration": 2,
    "start_time": "2022-12-13T15:56:02.985Z"
   },
   {
    "duration": 11,
    "start_time": "2022-12-13T15:56:21.160Z"
   },
   {
    "duration": 4,
    "start_time": "2022-12-13T16:04:18.777Z"
   },
   {
    "duration": 882,
    "start_time": "2022-12-13T16:04:23.330Z"
   },
   {
    "duration": 54,
    "start_time": "2022-12-13T16:04:24.214Z"
   },
   {
    "duration": 28,
    "start_time": "2022-12-13T16:04:24.270Z"
   },
   {
    "duration": 16,
    "start_time": "2022-12-13T16:04:24.300Z"
   },
   {
    "duration": 4,
    "start_time": "2022-12-13T16:04:24.317Z"
   },
   {
    "duration": 47,
    "start_time": "2022-12-13T16:04:24.322Z"
   },
   {
    "duration": 10,
    "start_time": "2022-12-13T16:04:24.370Z"
   },
   {
    "duration": 17,
    "start_time": "2022-12-13T16:04:24.381Z"
   },
   {
    "duration": 2,
    "start_time": "2022-12-13T16:04:24.400Z"
   },
   {
    "duration": 46,
    "start_time": "2022-12-13T16:04:24.405Z"
   },
   {
    "duration": 7,
    "start_time": "2022-12-13T16:04:24.453Z"
   },
   {
    "duration": 17,
    "start_time": "2022-12-13T16:05:04.260Z"
   },
   {
    "duration": 5,
    "start_time": "2022-12-13T16:05:22.886Z"
   },
   {
    "duration": 15,
    "start_time": "2022-12-13T16:05:24.121Z"
   },
   {
    "duration": 147,
    "start_time": "2022-12-13T16:05:44.383Z"
   },
   {
    "duration": 4,
    "start_time": "2022-12-13T16:05:48.848Z"
   },
   {
    "duration": 18,
    "start_time": "2022-12-13T16:05:49.244Z"
   },
   {
    "duration": 9,
    "start_time": "2022-12-13T16:07:36.028Z"
   },
   {
    "duration": 855,
    "start_time": "2022-12-13T16:08:04.090Z"
   },
   {
    "duration": 55,
    "start_time": "2022-12-13T16:08:04.947Z"
   },
   {
    "duration": 26,
    "start_time": "2022-12-13T16:08:05.004Z"
   },
   {
    "duration": 15,
    "start_time": "2022-12-13T16:08:05.033Z"
   },
   {
    "duration": 3,
    "start_time": "2022-12-13T16:08:05.051Z"
   },
   {
    "duration": 27,
    "start_time": "2022-12-13T16:08:05.056Z"
   },
   {
    "duration": 13,
    "start_time": "2022-12-13T16:08:05.086Z"
   },
   {
    "duration": 17,
    "start_time": "2022-12-13T16:08:05.101Z"
   },
   {
    "duration": 33,
    "start_time": "2022-12-13T16:08:05.120Z"
   },
   {
    "duration": 7,
    "start_time": "2022-12-13T16:08:05.156Z"
   },
   {
    "duration": 7,
    "start_time": "2022-12-13T16:08:05.164Z"
   },
   {
    "duration": 21,
    "start_time": "2022-12-13T16:08:05.173Z"
   },
   {
    "duration": 10,
    "start_time": "2022-12-13T16:13:11.156Z"
   },
   {
    "duration": 18,
    "start_time": "2022-12-13T16:13:19.836Z"
   },
   {
    "duration": 9,
    "start_time": "2022-12-13T16:21:30.600Z"
   },
   {
    "duration": 15,
    "start_time": "2022-12-13T16:21:35.888Z"
   },
   {
    "duration": 5,
    "start_time": "2022-12-13T16:21:36.814Z"
   },
   {
    "duration": 13,
    "start_time": "2022-12-13T16:21:41.910Z"
   },
   {
    "duration": 4,
    "start_time": "2022-12-13T16:21:42.261Z"
   },
   {
    "duration": 14,
    "start_time": "2022-12-13T16:21:42.714Z"
   },
   {
    "duration": 9,
    "start_time": "2022-12-13T16:21:46.981Z"
   },
   {
    "duration": 881,
    "start_time": "2022-12-13T16:22:16.522Z"
   },
   {
    "duration": 56,
    "start_time": "2022-12-13T16:22:17.405Z"
   },
   {
    "duration": 25,
    "start_time": "2022-12-13T16:22:17.463Z"
   },
   {
    "duration": 15,
    "start_time": "2022-12-13T16:22:17.491Z"
   },
   {
    "duration": 5,
    "start_time": "2022-12-13T16:22:17.508Z"
   },
   {
    "duration": 41,
    "start_time": "2022-12-13T16:22:17.515Z"
   },
   {
    "duration": 8,
    "start_time": "2022-12-13T16:22:17.558Z"
   },
   {
    "duration": 19,
    "start_time": "2022-12-13T16:22:17.568Z"
   },
   {
    "duration": 7,
    "start_time": "2022-12-13T16:22:17.589Z"
   },
   {
    "duration": 8,
    "start_time": "2022-12-13T16:22:17.598Z"
   },
   {
    "duration": 6,
    "start_time": "2022-12-13T16:22:17.608Z"
   },
   {
    "duration": 35,
    "start_time": "2022-12-13T16:22:17.616Z"
   },
   {
    "duration": 27,
    "start_time": "2022-12-13T16:25:03.433Z"
   },
   {
    "duration": 17,
    "start_time": "2022-12-13T16:25:43.384Z"
   },
   {
    "duration": 14,
    "start_time": "2022-12-13T16:26:24.966Z"
   },
   {
    "duration": 4,
    "start_time": "2022-12-13T16:30:34.704Z"
   },
   {
    "duration": 1213,
    "start_time": "2022-12-13T16:30:36.385Z"
   },
   {
    "duration": 6,
    "start_time": "2022-12-13T16:31:28.860Z"
   },
   {
    "duration": 7,
    "start_time": "2022-12-13T16:31:43.184Z"
   },
   {
    "duration": 5,
    "start_time": "2022-12-13T16:31:52.544Z"
   },
   {
    "duration": 890,
    "start_time": "2022-12-13T16:31:58.775Z"
   },
   {
    "duration": 60,
    "start_time": "2022-12-13T16:31:59.667Z"
   },
   {
    "duration": 33,
    "start_time": "2022-12-13T16:31:59.729Z"
   },
   {
    "duration": 18,
    "start_time": "2022-12-13T16:31:59.765Z"
   },
   {
    "duration": 5,
    "start_time": "2022-12-13T16:31:59.786Z"
   },
   {
    "duration": 30,
    "start_time": "2022-12-13T16:31:59.793Z"
   },
   {
    "duration": 28,
    "start_time": "2022-12-13T16:31:59.825Z"
   },
   {
    "duration": 15,
    "start_time": "2022-12-13T16:31:59.855Z"
   },
   {
    "duration": 8,
    "start_time": "2022-12-13T16:31:59.872Z"
   },
   {
    "duration": 7,
    "start_time": "2022-12-13T16:31:59.881Z"
   },
   {
    "duration": 7,
    "start_time": "2022-12-13T16:31:59.889Z"
   },
   {
    "duration": 7,
    "start_time": "2022-12-13T16:31:59.897Z"
   },
   {
    "duration": 7,
    "start_time": "2022-12-13T16:53:14.747Z"
   },
   {
    "duration": 7,
    "start_time": "2022-12-13T16:53:38.645Z"
   },
   {
    "duration": 896,
    "start_time": "2022-12-13T16:54:54.171Z"
   },
   {
    "duration": 53,
    "start_time": "2022-12-13T16:54:55.069Z"
   },
   {
    "duration": 26,
    "start_time": "2022-12-13T16:54:55.124Z"
   },
   {
    "duration": 17,
    "start_time": "2022-12-13T16:54:55.153Z"
   },
   {
    "duration": 4,
    "start_time": "2022-12-13T16:54:55.172Z"
   },
   {
    "duration": 29,
    "start_time": "2022-12-13T16:54:55.177Z"
   },
   {
    "duration": 11,
    "start_time": "2022-12-13T16:54:55.208Z"
   },
   {
    "duration": 41,
    "start_time": "2022-12-13T16:54:55.221Z"
   },
   {
    "duration": 8,
    "start_time": "2022-12-13T16:54:55.264Z"
   },
   {
    "duration": 6,
    "start_time": "2022-12-13T16:54:55.274Z"
   },
   {
    "duration": 14,
    "start_time": "2022-12-13T16:54:55.282Z"
   },
   {
    "duration": 10,
    "start_time": "2022-12-13T16:54:55.299Z"
   },
   {
    "duration": 9,
    "start_time": "2022-12-13T16:54:55.311Z"
   },
   {
    "duration": 5,
    "start_time": "2022-12-13T16:55:29.500Z"
   },
   {
    "duration": 8,
    "start_time": "2022-12-13T16:55:30.642Z"
   },
   {
    "duration": 7,
    "start_time": "2022-12-13T16:55:31.770Z"
   },
   {
    "duration": 939,
    "start_time": "2022-12-13T16:56:25.665Z"
   },
   {
    "duration": 56,
    "start_time": "2022-12-13T16:56:26.606Z"
   },
   {
    "duration": 26,
    "start_time": "2022-12-13T16:56:26.664Z"
   },
   {
    "duration": 22,
    "start_time": "2022-12-13T16:56:26.692Z"
   },
   {
    "duration": 3,
    "start_time": "2022-12-13T16:56:26.718Z"
   },
   {
    "duration": 40,
    "start_time": "2022-12-13T16:56:26.723Z"
   },
   {
    "duration": 15,
    "start_time": "2022-12-13T16:56:26.765Z"
   },
   {
    "duration": 24,
    "start_time": "2022-12-13T16:56:26.782Z"
   },
   {
    "duration": 18,
    "start_time": "2022-12-13T16:56:26.808Z"
   },
   {
    "duration": 12,
    "start_time": "2022-12-13T16:56:26.829Z"
   },
   {
    "duration": 16,
    "start_time": "2022-12-13T16:56:26.843Z"
   },
   {
    "duration": 19,
    "start_time": "2022-12-13T16:56:26.861Z"
   },
   {
    "duration": 45,
    "start_time": "2022-12-15T12:24:42.257Z"
   },
   {
    "duration": 840,
    "start_time": "2022-12-15T12:24:47.832Z"
   },
   {
    "duration": 196,
    "start_time": "2022-12-15T12:24:48.673Z"
   },
   {
    "duration": 23,
    "start_time": "2022-12-15T12:24:48.871Z"
   },
   {
    "duration": 14,
    "start_time": "2022-12-15T12:24:48.896Z"
   },
   {
    "duration": 3,
    "start_time": "2022-12-15T12:24:48.911Z"
   },
   {
    "duration": 22,
    "start_time": "2022-12-15T12:24:48.915Z"
   },
   {
    "duration": 15,
    "start_time": "2022-12-15T12:24:48.938Z"
   },
   {
    "duration": 16,
    "start_time": "2022-12-15T12:24:48.954Z"
   },
   {
    "duration": 7,
    "start_time": "2022-12-15T12:24:48.971Z"
   },
   {
    "duration": 9,
    "start_time": "2022-12-15T12:24:48.980Z"
   },
   {
    "duration": 5,
    "start_time": "2022-12-15T12:24:48.990Z"
   },
   {
    "duration": 575,
    "start_time": "2022-12-15T12:24:48.997Z"
   },
   {
    "duration": 6,
    "start_time": "2022-12-15T12:25:10.994Z"
   },
   {
    "duration": 133,
    "start_time": "2022-12-15T12:25:46.213Z"
   },
   {
    "duration": 201,
    "start_time": "2022-12-15T12:33:27.201Z"
   },
   {
    "duration": 126,
    "start_time": "2022-12-15T12:33:45.528Z"
   },
   {
    "duration": 8,
    "start_time": "2022-12-15T12:40:22.481Z"
   },
   {
    "duration": 6,
    "start_time": "2022-12-15T12:41:06.944Z"
   },
   {
    "duration": 1158,
    "start_time": "2022-12-15T12:43:23.360Z"
   },
   {
    "duration": 11,
    "start_time": "2022-12-15T12:43:40.275Z"
   },
   {
    "duration": 19,
    "start_time": "2022-12-15T12:44:00.936Z"
   },
   {
    "duration": 12,
    "start_time": "2022-12-15T12:44:39.783Z"
   },
   {
    "duration": 8,
    "start_time": "2022-12-15T12:55:41.279Z"
   },
   {
    "duration": 20,
    "start_time": "2022-12-15T13:02:09.266Z"
   },
   {
    "duration": 20,
    "start_time": "2022-12-15T13:05:21.576Z"
   },
   {
    "duration": 8,
    "start_time": "2022-12-15T13:34:46.260Z"
   },
   {
    "duration": 10,
    "start_time": "2022-12-15T13:34:54.341Z"
   },
   {
    "duration": 11,
    "start_time": "2022-12-15T13:35:13.374Z"
   },
   {
    "duration": 111,
    "start_time": "2022-12-15T13:35:28.368Z"
   },
   {
    "duration": 109,
    "start_time": "2022-12-15T13:35:55.335Z"
   },
   {
    "duration": 17,
    "start_time": "2022-12-15T13:37:42.054Z"
   },
   {
    "duration": 14,
    "start_time": "2022-12-15T13:37:51.798Z"
   },
   {
    "duration": 1125,
    "start_time": "2022-12-15T13:38:22.353Z"
   },
   {
    "duration": 52,
    "start_time": "2022-12-15T13:38:23.480Z"
   },
   {
    "duration": 20,
    "start_time": "2022-12-15T13:38:23.534Z"
   },
   {
    "duration": 13,
    "start_time": "2022-12-15T13:38:23.556Z"
   },
   {
    "duration": 3,
    "start_time": "2022-12-15T13:38:23.571Z"
   },
   {
    "duration": 22,
    "start_time": "2022-12-15T13:38:23.575Z"
   },
   {
    "duration": 10,
    "start_time": "2022-12-15T13:38:23.598Z"
   },
   {
    "duration": 17,
    "start_time": "2022-12-15T13:38:23.609Z"
   },
   {
    "duration": 24,
    "start_time": "2022-12-15T13:38:23.628Z"
   },
   {
    "duration": 5,
    "start_time": "2022-12-15T13:38:23.655Z"
   },
   {
    "duration": 15,
    "start_time": "2022-12-15T13:38:23.662Z"
   },
   {
    "duration": 9,
    "start_time": "2022-12-15T13:38:23.678Z"
   },
   {
    "duration": 152,
    "start_time": "2022-12-15T13:38:23.688Z"
   },
   {
    "duration": 14,
    "start_time": "2022-12-15T13:38:23.851Z"
   },
   {
    "duration": 120,
    "start_time": "2022-12-15T13:38:23.867Z"
   },
   {
    "duration": 12,
    "start_time": "2022-12-15T13:38:37.840Z"
   },
   {
    "duration": 12,
    "start_time": "2022-12-15T13:39:05.918Z"
   },
   {
    "duration": 14,
    "start_time": "2022-12-15T13:39:18.110Z"
   },
   {
    "duration": 136,
    "start_time": "2022-12-15T13:39:24.477Z"
   },
   {
    "duration": 11,
    "start_time": "2022-12-15T13:40:00.407Z"
   },
   {
    "duration": 12,
    "start_time": "2022-12-15T13:48:54.929Z"
   },
   {
    "duration": 13,
    "start_time": "2022-12-15T13:49:04.720Z"
   },
   {
    "duration": 17,
    "start_time": "2022-12-15T13:49:41.095Z"
   },
   {
    "duration": 15,
    "start_time": "2022-12-15T13:49:56.324Z"
   },
   {
    "duration": 55,
    "start_time": "2022-12-15T13:50:05.402Z"
   },
   {
    "duration": 1125,
    "start_time": "2022-12-15T13:53:35.849Z"
   },
   {
    "duration": 62,
    "start_time": "2022-12-15T13:53:36.977Z"
   },
   {
    "duration": 21,
    "start_time": "2022-12-15T13:53:37.040Z"
   },
   {
    "duration": 14,
    "start_time": "2022-12-15T13:53:37.063Z"
   },
   {
    "duration": 3,
    "start_time": "2022-12-15T13:53:37.079Z"
   },
   {
    "duration": 19,
    "start_time": "2022-12-15T13:53:37.083Z"
   },
   {
    "duration": 8,
    "start_time": "2022-12-15T13:53:37.103Z"
   },
   {
    "duration": 13,
    "start_time": "2022-12-15T13:53:37.113Z"
   },
   {
    "duration": 30,
    "start_time": "2022-12-15T13:53:37.128Z"
   },
   {
    "duration": 9,
    "start_time": "2022-12-15T13:53:37.160Z"
   },
   {
    "duration": 14,
    "start_time": "2022-12-15T13:53:37.171Z"
   },
   {
    "duration": 7,
    "start_time": "2022-12-15T13:53:37.187Z"
   },
   {
    "duration": 160,
    "start_time": "2022-12-15T13:53:37.196Z"
   },
   {
    "duration": 13,
    "start_time": "2022-12-15T13:53:37.357Z"
   },
   {
    "duration": 55,
    "start_time": "2022-12-15T13:53:37.372Z"
   },
   {
    "duration": 256,
    "start_time": "2022-12-15T13:53:37.429Z"
   },
   {
    "duration": 3,
    "start_time": "2022-12-15T13:54:45.348Z"
   },
   {
    "duration": 256,
    "start_time": "2022-12-15T13:54:51.849Z"
   },
   {
    "duration": 21,
    "start_time": "2022-12-15T13:55:34.571Z"
   },
   {
    "duration": 12,
    "start_time": "2022-12-15T13:55:53.074Z"
   },
   {
    "duration": 13,
    "start_time": "2022-12-15T13:56:11.946Z"
   },
   {
    "duration": 111,
    "start_time": "2022-12-15T13:56:37.858Z"
   },
   {
    "duration": 25,
    "start_time": "2022-12-15T13:59:20.819Z"
   },
   {
    "duration": 24,
    "start_time": "2022-12-15T13:59:30.540Z"
   },
   {
    "duration": 9,
    "start_time": "2022-12-15T14:00:06.723Z"
   },
   {
    "duration": 14,
    "start_time": "2022-12-15T14:00:22.819Z"
   },
   {
    "duration": 5,
    "start_time": "2022-12-15T14:00:48.039Z"
   },
   {
    "duration": 13,
    "start_time": "2022-12-15T14:01:04.387Z"
   },
   {
    "duration": 15,
    "start_time": "2022-12-15T14:01:29.539Z"
   },
   {
    "duration": 13,
    "start_time": "2022-12-15T14:01:46.571Z"
   },
   {
    "duration": 22,
    "start_time": "2022-12-15T14:02:02.787Z"
   },
   {
    "duration": 8,
    "start_time": "2022-12-15T14:02:11.726Z"
   },
   {
    "duration": 53,
    "start_time": "2022-12-15T14:02:36.683Z"
   },
   {
    "duration": 11,
    "start_time": "2022-12-15T14:03:02.277Z"
   },
   {
    "duration": 17,
    "start_time": "2022-12-15T14:03:50.628Z"
   },
   {
    "duration": 9,
    "start_time": "2022-12-15T14:05:11.605Z"
   },
   {
    "duration": 15,
    "start_time": "2022-12-15T14:05:17.955Z"
   },
   {
    "duration": 15,
    "start_time": "2022-12-15T14:05:30.157Z"
   },
   {
    "duration": 16,
    "start_time": "2022-12-15T14:18:43.679Z"
   },
   {
    "duration": 16,
    "start_time": "2022-12-15T14:19:01.103Z"
   },
   {
    "duration": 15,
    "start_time": "2022-12-15T14:19:26.190Z"
   },
   {
    "duration": 11,
    "start_time": "2022-12-15T14:19:34.854Z"
   },
   {
    "duration": 18,
    "start_time": "2022-12-15T14:19:43.655Z"
   },
   {
    "duration": 1210,
    "start_time": "2022-12-15T14:20:44.738Z"
   },
   {
    "duration": 18,
    "start_time": "2022-12-15T14:21:50.249Z"
   },
   {
    "duration": 17,
    "start_time": "2022-12-15T14:22:27.648Z"
   },
   {
    "duration": 144,
    "start_time": "2022-12-15T14:22:33.352Z"
   },
   {
    "duration": 275,
    "start_time": "2022-12-15T14:22:47.513Z"
   },
   {
    "duration": 95,
    "start_time": "2022-12-15T14:24:25.261Z"
   },
   {
    "duration": 13,
    "start_time": "2022-12-15T14:24:29.815Z"
   },
   {
    "duration": 29,
    "start_time": "2022-12-15T14:26:27.561Z"
   },
   {
    "duration": 305,
    "start_time": "2022-12-15T14:27:04.210Z"
   },
   {
    "duration": 300,
    "start_time": "2022-12-15T14:27:31.680Z"
   },
   {
    "duration": 396,
    "start_time": "2022-12-15T14:29:09.153Z"
   },
   {
    "duration": 313,
    "start_time": "2022-12-15T14:30:52.034Z"
   },
   {
    "duration": 328,
    "start_time": "2022-12-15T14:30:58.713Z"
   },
   {
    "duration": 354,
    "start_time": "2022-12-15T14:31:17.906Z"
   },
   {
    "duration": 336,
    "start_time": "2022-12-15T14:31:34.348Z"
   },
   {
    "duration": 426,
    "start_time": "2022-12-15T14:31:40.593Z"
   },
   {
    "duration": 382,
    "start_time": "2022-12-15T14:31:46.746Z"
   },
   {
    "duration": 321,
    "start_time": "2022-12-15T14:31:55.409Z"
   },
   {
    "duration": 336,
    "start_time": "2022-12-15T14:32:03.138Z"
   },
   {
    "duration": 325,
    "start_time": "2022-12-15T14:32:11.673Z"
   },
   {
    "duration": 70,
    "start_time": "2022-12-15T14:33:02.258Z"
   },
   {
    "duration": 75,
    "start_time": "2022-12-15T14:33:19.417Z"
   },
   {
    "duration": 4,
    "start_time": "2022-12-15T14:33:35.442Z"
   },
   {
    "duration": 324,
    "start_time": "2022-12-15T14:33:55.801Z"
   },
   {
    "duration": 10,
    "start_time": "2022-12-15T14:49:08.272Z"
   },
   {
    "duration": 17,
    "start_time": "2022-12-15T14:49:27.726Z"
   },
   {
    "duration": 189,
    "start_time": "2022-12-15T14:49:48.671Z"
   },
   {
    "duration": 189,
    "start_time": "2022-12-15T14:49:58.981Z"
   },
   {
    "duration": 1839,
    "start_time": "2022-12-15T14:50:38.998Z"
   },
   {
    "duration": 1154,
    "start_time": "2022-12-15T14:51:20.126Z"
   },
   {
    "duration": 52,
    "start_time": "2022-12-15T14:51:21.282Z"
   },
   {
    "duration": 20,
    "start_time": "2022-12-15T14:51:21.336Z"
   },
   {
    "duration": 13,
    "start_time": "2022-12-15T14:51:21.358Z"
   },
   {
    "duration": 2,
    "start_time": "2022-12-15T14:51:21.373Z"
   },
   {
    "duration": 27,
    "start_time": "2022-12-15T14:51:21.377Z"
   },
   {
    "duration": 8,
    "start_time": "2022-12-15T14:51:21.406Z"
   },
   {
    "duration": 15,
    "start_time": "2022-12-15T14:51:21.416Z"
   },
   {
    "duration": 20,
    "start_time": "2022-12-15T14:51:21.432Z"
   },
   {
    "duration": 5,
    "start_time": "2022-12-15T14:51:21.454Z"
   },
   {
    "duration": 7,
    "start_time": "2022-12-15T14:51:21.460Z"
   },
   {
    "duration": 13,
    "start_time": "2022-12-15T14:51:21.469Z"
   },
   {
    "duration": 344,
    "start_time": "2022-12-15T14:51:21.483Z"
   },
   {
    "duration": 12,
    "start_time": "2022-12-15T14:51:21.829Z"
   },
   {
    "duration": 285,
    "start_time": "2022-12-15T14:51:21.842Z"
   },
   {
    "duration": 99,
    "start_time": "2022-12-15T14:51:22.129Z"
   },
   {
    "duration": 20,
    "start_time": "2022-12-15T14:52:28.590Z"
   },
   {
    "duration": 24,
    "start_time": "2022-12-15T14:52:40.542Z"
   },
   {
    "duration": 10,
    "start_time": "2022-12-15T14:52:54.526Z"
   },
   {
    "duration": 289,
    "start_time": "2022-12-15T14:52:55.193Z"
   },
   {
    "duration": 21,
    "start_time": "2022-12-15T14:52:56.566Z"
   },
   {
    "duration": 23,
    "start_time": "2022-12-15T14:53:01.077Z"
   },
   {
    "duration": 10,
    "start_time": "2022-12-15T14:53:50.974Z"
   },
   {
    "duration": 8,
    "start_time": "2022-12-15T14:54:03.572Z"
   },
   {
    "duration": 12,
    "start_time": "2022-12-15T14:54:35.361Z"
   },
   {
    "duration": 280,
    "start_time": "2022-12-15T14:54:37.251Z"
   },
   {
    "duration": 9,
    "start_time": "2022-12-15T14:54:44.691Z"
   },
   {
    "duration": 9,
    "start_time": "2022-12-15T14:55:41.535Z"
   },
   {
    "duration": 70,
    "start_time": "2022-12-15T14:55:42.680Z"
   },
   {
    "duration": 21,
    "start_time": "2022-12-15T14:55:54.311Z"
   },
   {
    "duration": 87,
    "start_time": "2022-12-15T14:55:55.015Z"
   },
   {
    "duration": 1813,
    "start_time": "2022-12-15T14:56:09.999Z"
   },
   {
    "duration": 193,
    "start_time": "2022-12-15T14:56:38.270Z"
   },
   {
    "duration": 1150,
    "start_time": "2022-12-15T14:57:08.677Z"
   },
   {
    "duration": 51,
    "start_time": "2022-12-15T14:57:09.829Z"
   },
   {
    "duration": 21,
    "start_time": "2022-12-15T14:57:09.882Z"
   },
   {
    "duration": 41,
    "start_time": "2022-12-15T14:57:09.904Z"
   },
   {
    "duration": 12,
    "start_time": "2022-12-15T14:57:09.948Z"
   },
   {
    "duration": 35,
    "start_time": "2022-12-15T14:57:09.962Z"
   },
   {
    "duration": 19,
    "start_time": "2022-12-15T14:57:09.998Z"
   },
   {
    "duration": 27,
    "start_time": "2022-12-15T14:57:10.018Z"
   },
   {
    "duration": 20,
    "start_time": "2022-12-15T14:57:10.046Z"
   },
   {
    "duration": 22,
    "start_time": "2022-12-15T14:57:10.068Z"
   },
   {
    "duration": 32,
    "start_time": "2022-12-15T14:57:10.091Z"
   },
   {
    "duration": 11,
    "start_time": "2022-12-15T14:57:10.125Z"
   },
   {
    "duration": 350,
    "start_time": "2022-12-15T14:57:10.138Z"
   },
   {
    "duration": 12,
    "start_time": "2022-12-15T14:57:10.490Z"
   },
   {
    "duration": 292,
    "start_time": "2022-12-15T14:57:10.504Z"
   },
   {
    "duration": 17,
    "start_time": "2022-12-15T14:57:10.797Z"
   },
   {
    "duration": 1881,
    "start_time": "2022-12-15T14:57:10.816Z"
   },
   {
    "duration": 19,
    "start_time": "2022-12-15T14:58:46.688Z"
   },
   {
    "duration": 12,
    "start_time": "2022-12-15T14:59:07.171Z"
   },
   {
    "duration": 14,
    "start_time": "2022-12-15T14:59:25.601Z"
   },
   {
    "duration": 11,
    "start_time": "2022-12-15T14:59:36.488Z"
   },
   {
    "duration": 11,
    "start_time": "2022-12-15T15:00:02.987Z"
   },
   {
    "duration": 15,
    "start_time": "2022-12-15T15:00:23.800Z"
   },
   {
    "duration": 16,
    "start_time": "2022-12-15T15:00:40.178Z"
   },
   {
    "duration": 16,
    "start_time": "2022-12-15T15:01:28.888Z"
   },
   {
    "duration": 280,
    "start_time": "2022-12-15T15:01:38.280Z"
   },
   {
    "duration": 6,
    "start_time": "2022-12-15T15:01:51.503Z"
   },
   {
    "duration": 4,
    "start_time": "2022-12-15T15:02:36.152Z"
   },
   {
    "duration": 1722,
    "start_time": "2022-12-15T15:02:36.696Z"
   },
   {
    "duration": 3,
    "start_time": "2022-12-15T15:03:16.960Z"
   },
   {
    "duration": 1836,
    "start_time": "2022-12-15T15:03:18.784Z"
   },
   {
    "duration": 112,
    "start_time": "2022-12-15T15:03:51.857Z"
   },
   {
    "duration": 5,
    "start_time": "2022-12-15T15:04:35.074Z"
   },
   {
    "duration": 20,
    "start_time": "2022-12-15T15:04:35.530Z"
   },
   {
    "duration": 1818,
    "start_time": "2022-12-15T15:04:48.929Z"
   },
   {
    "duration": 10,
    "start_time": "2022-12-15T15:04:58.945Z"
   },
   {
    "duration": 1891,
    "start_time": "2022-12-15T15:04:59.456Z"
   },
   {
    "duration": 10,
    "start_time": "2022-12-15T15:05:20.385Z"
   },
   {
    "duration": 1736,
    "start_time": "2022-12-15T15:05:21.664Z"
   },
   {
    "duration": 4,
    "start_time": "2022-12-15T15:05:53.009Z"
   },
   {
    "duration": 5,
    "start_time": "2022-12-15T15:06:19.082Z"
   },
   {
    "duration": 1821,
    "start_time": "2022-12-15T15:06:19.654Z"
   },
   {
    "duration": 1072,
    "start_time": "2022-12-15T15:06:26.710Z"
   },
   {
    "duration": 52,
    "start_time": "2022-12-15T15:06:27.784Z"
   },
   {
    "duration": 22,
    "start_time": "2022-12-15T15:06:27.838Z"
   },
   {
    "duration": 14,
    "start_time": "2022-12-15T15:06:27.862Z"
   },
   {
    "duration": 3,
    "start_time": "2022-12-15T15:06:27.878Z"
   },
   {
    "duration": 20,
    "start_time": "2022-12-15T15:06:27.882Z"
   },
   {
    "duration": 8,
    "start_time": "2022-12-15T15:06:27.903Z"
   },
   {
    "duration": 13,
    "start_time": "2022-12-15T15:06:27.913Z"
   },
   {
    "duration": 8,
    "start_time": "2022-12-15T15:06:27.952Z"
   },
   {
    "duration": 10,
    "start_time": "2022-12-15T15:06:27.962Z"
   },
   {
    "duration": 8,
    "start_time": "2022-12-15T15:06:27.973Z"
   },
   {
    "duration": 7,
    "start_time": "2022-12-15T15:06:27.982Z"
   },
   {
    "duration": 360,
    "start_time": "2022-12-15T15:06:27.991Z"
   },
   {
    "duration": 16,
    "start_time": "2022-12-15T15:06:28.353Z"
   },
   {
    "duration": 278,
    "start_time": "2022-12-15T15:06:28.371Z"
   },
   {
    "duration": 3,
    "start_time": "2022-12-15T15:06:28.651Z"
   },
   {
    "duration": 12,
    "start_time": "2022-12-15T15:06:28.655Z"
   },
   {
    "duration": 1830,
    "start_time": "2022-12-15T15:06:28.669Z"
   },
   {
    "duration": 10,
    "start_time": "2022-12-15T15:08:23.554Z"
   },
   {
    "duration": 17,
    "start_time": "2022-12-15T15:08:49.915Z"
   },
   {
    "duration": 4,
    "start_time": "2022-12-15T15:09:47.011Z"
   },
   {
    "duration": 121,
    "start_time": "2022-12-15T15:09:47.714Z"
   },
   {
    "duration": 3,
    "start_time": "2022-12-15T15:10:10.834Z"
   },
   {
    "duration": 19,
    "start_time": "2022-12-15T15:10:11.610Z"
   },
   {
    "duration": 1107,
    "start_time": "2022-12-15T15:10:18.668Z"
   },
   {
    "duration": 51,
    "start_time": "2022-12-15T15:10:19.778Z"
   },
   {
    "duration": 21,
    "start_time": "2022-12-15T15:10:19.831Z"
   },
   {
    "duration": 14,
    "start_time": "2022-12-15T15:10:19.854Z"
   },
   {
    "duration": 4,
    "start_time": "2022-12-15T15:10:19.870Z"
   },
   {
    "duration": 26,
    "start_time": "2022-12-15T15:10:19.875Z"
   },
   {
    "duration": 8,
    "start_time": "2022-12-15T15:10:19.904Z"
   },
   {
    "duration": 24,
    "start_time": "2022-12-15T15:10:19.914Z"
   },
   {
    "duration": 18,
    "start_time": "2022-12-15T15:10:19.940Z"
   },
   {
    "duration": 6,
    "start_time": "2022-12-15T15:10:19.960Z"
   },
   {
    "duration": 6,
    "start_time": "2022-12-15T15:10:19.967Z"
   },
   {
    "duration": 10,
    "start_time": "2022-12-15T15:10:19.974Z"
   },
   {
    "duration": 365,
    "start_time": "2022-12-15T15:10:19.985Z"
   },
   {
    "duration": 18,
    "start_time": "2022-12-15T15:10:20.352Z"
   },
   {
    "duration": 282,
    "start_time": "2022-12-15T15:10:20.371Z"
   },
   {
    "duration": 2,
    "start_time": "2022-12-15T15:10:20.656Z"
   },
   {
    "duration": 19,
    "start_time": "2022-12-15T15:10:20.660Z"
   },
   {
    "duration": 113,
    "start_time": "2022-12-15T15:10:20.681Z"
   },
   {
    "duration": 3,
    "start_time": "2022-12-15T15:12:08.778Z"
   },
   {
    "duration": 1838,
    "start_time": "2022-12-15T15:12:09.458Z"
   },
   {
    "duration": 8,
    "start_time": "2022-12-15T15:12:26.109Z"
   },
   {
    "duration": 8,
    "start_time": "2022-12-15T15:12:53.258Z"
   },
   {
    "duration": 1714,
    "start_time": "2022-12-15T15:12:58.356Z"
   },
   {
    "duration": 9,
    "start_time": "2022-12-15T15:13:28.517Z"
   },
   {
    "duration": 9,
    "start_time": "2022-12-15T15:13:34.804Z"
   },
   {
    "duration": 1117,
    "start_time": "2022-12-15T15:13:42.267Z"
   },
   {
    "duration": 55,
    "start_time": "2022-12-15T15:13:43.387Z"
   },
   {
    "duration": 23,
    "start_time": "2022-12-15T15:13:43.444Z"
   },
   {
    "duration": 14,
    "start_time": "2022-12-15T15:13:43.468Z"
   },
   {
    "duration": 9,
    "start_time": "2022-12-15T15:13:43.484Z"
   },
   {
    "duration": 24,
    "start_time": "2022-12-15T15:13:43.495Z"
   },
   {
    "duration": 9,
    "start_time": "2022-12-15T15:13:43.520Z"
   },
   {
    "duration": 30,
    "start_time": "2022-12-15T15:13:43.531Z"
   },
   {
    "duration": 9,
    "start_time": "2022-12-15T15:13:43.563Z"
   },
   {
    "duration": 5,
    "start_time": "2022-12-15T15:13:43.574Z"
   },
   {
    "duration": 5,
    "start_time": "2022-12-15T15:13:43.581Z"
   },
   {
    "duration": 7,
    "start_time": "2022-12-15T15:13:43.588Z"
   },
   {
    "duration": 403,
    "start_time": "2022-12-15T15:13:43.597Z"
   },
   {
    "duration": 19,
    "start_time": "2022-12-15T15:13:44.003Z"
   },
   {
    "duration": 332,
    "start_time": "2022-12-15T15:13:44.024Z"
   },
   {
    "duration": 5,
    "start_time": "2022-12-15T15:13:44.358Z"
   },
   {
    "duration": 9,
    "start_time": "2022-12-15T15:13:44.364Z"
   },
   {
    "duration": 1962,
    "start_time": "2022-12-15T15:13:44.375Z"
   },
   {
    "duration": 90,
    "start_time": "2022-12-15T15:26:07.309Z"
   },
   {
    "duration": 2,
    "start_time": "2022-12-15T15:27:11.317Z"
   },
   {
    "duration": 1767,
    "start_time": "2022-12-15T15:27:11.847Z"
   },
   {
    "duration": 1108,
    "start_time": "2022-12-15T15:27:19.966Z"
   },
   {
    "duration": 51,
    "start_time": "2022-12-15T15:27:21.076Z"
   },
   {
    "duration": 21,
    "start_time": "2022-12-15T15:27:21.129Z"
   },
   {
    "duration": 13,
    "start_time": "2022-12-15T15:27:21.152Z"
   },
   {
    "duration": 3,
    "start_time": "2022-12-15T15:27:21.167Z"
   },
   {
    "duration": 23,
    "start_time": "2022-12-15T15:27:21.171Z"
   },
   {
    "duration": 8,
    "start_time": "2022-12-15T15:27:21.196Z"
   },
   {
    "duration": 34,
    "start_time": "2022-12-15T15:27:21.206Z"
   },
   {
    "duration": 11,
    "start_time": "2022-12-15T15:27:21.242Z"
   },
   {
    "duration": 7,
    "start_time": "2022-12-15T15:27:21.255Z"
   },
   {
    "duration": 7,
    "start_time": "2022-12-15T15:27:21.264Z"
   },
   {
    "duration": 11,
    "start_time": "2022-12-15T15:27:21.272Z"
   },
   {
    "duration": 365,
    "start_time": "2022-12-15T15:27:21.284Z"
   },
   {
    "duration": 17,
    "start_time": "2022-12-15T15:27:21.651Z"
   },
   {
    "duration": 284,
    "start_time": "2022-12-15T15:27:21.670Z"
   },
   {
    "duration": 2,
    "start_time": "2022-12-15T15:27:21.955Z"
   },
   {
    "duration": 8,
    "start_time": "2022-12-15T15:27:21.959Z"
   },
   {
    "duration": 124,
    "start_time": "2022-12-15T15:27:21.968Z"
   },
   {
    "duration": 4,
    "start_time": "2022-12-15T15:27:45.462Z"
   },
   {
    "duration": 1828,
    "start_time": "2022-12-15T15:27:46.134Z"
   },
   {
    "duration": 8,
    "start_time": "2022-12-15T15:29:36.136Z"
   },
   {
    "duration": 9,
    "start_time": "2022-12-15T15:29:49.999Z"
   },
   {
    "duration": 9,
    "start_time": "2022-12-15T15:30:06.535Z"
   },
   {
    "duration": 8,
    "start_time": "2022-12-15T15:30:17.398Z"
   },
   {
    "duration": 1135,
    "start_time": "2022-12-15T15:30:35.828Z"
   },
   {
    "duration": 51,
    "start_time": "2022-12-15T15:30:36.964Z"
   },
   {
    "duration": 38,
    "start_time": "2022-12-15T15:30:37.020Z"
   },
   {
    "duration": 15,
    "start_time": "2022-12-15T15:30:37.060Z"
   },
   {
    "duration": 6,
    "start_time": "2022-12-15T15:30:37.077Z"
   },
   {
    "duration": 28,
    "start_time": "2022-12-15T15:30:37.085Z"
   },
   {
    "duration": 11,
    "start_time": "2022-12-15T15:30:37.115Z"
   },
   {
    "duration": 26,
    "start_time": "2022-12-15T15:30:37.127Z"
   },
   {
    "duration": 8,
    "start_time": "2022-12-15T15:30:37.156Z"
   },
   {
    "duration": 10,
    "start_time": "2022-12-15T15:30:37.166Z"
   },
   {
    "duration": 26,
    "start_time": "2022-12-15T15:30:37.177Z"
   },
   {
    "duration": 23,
    "start_time": "2022-12-15T15:30:37.205Z"
   },
   {
    "duration": 341,
    "start_time": "2022-12-15T15:30:37.229Z"
   },
   {
    "duration": 17,
    "start_time": "2022-12-15T15:30:37.571Z"
   },
   {
    "duration": 273,
    "start_time": "2022-12-15T15:30:37.589Z"
   },
   {
    "duration": 3,
    "start_time": "2022-12-15T15:30:37.863Z"
   },
   {
    "duration": 113,
    "start_time": "2022-12-15T15:30:37.867Z"
   },
   {
    "duration": 5,
    "start_time": "2022-12-15T15:31:46.828Z"
   },
   {
    "duration": 1873,
    "start_time": "2022-12-15T15:31:47.283Z"
   },
   {
    "duration": 8,
    "start_time": "2022-12-15T15:32:00.327Z"
   },
   {
    "duration": 1799,
    "start_time": "2022-12-15T15:32:00.920Z"
   },
   {
    "duration": 10,
    "start_time": "2022-12-15T15:32:09.638Z"
   },
   {
    "duration": 1857,
    "start_time": "2022-12-15T15:32:10.318Z"
   },
   {
    "duration": 1134,
    "start_time": "2022-12-15T15:33:28.542Z"
   },
   {
    "duration": 53,
    "start_time": "2022-12-15T15:33:29.678Z"
   },
   {
    "duration": 20,
    "start_time": "2022-12-15T15:33:29.732Z"
   },
   {
    "duration": 13,
    "start_time": "2022-12-15T15:33:29.754Z"
   },
   {
    "duration": 3,
    "start_time": "2022-12-15T15:33:29.769Z"
   },
   {
    "duration": 27,
    "start_time": "2022-12-15T15:33:29.774Z"
   },
   {
    "duration": 10,
    "start_time": "2022-12-15T15:33:29.803Z"
   },
   {
    "duration": 16,
    "start_time": "2022-12-15T15:33:29.815Z"
   },
   {
    "duration": 24,
    "start_time": "2022-12-15T15:33:29.833Z"
   },
   {
    "duration": 11,
    "start_time": "2022-12-15T15:33:29.859Z"
   },
   {
    "duration": 6,
    "start_time": "2022-12-15T15:33:29.872Z"
   },
   {
    "duration": 8,
    "start_time": "2022-12-15T15:33:29.880Z"
   },
   {
    "duration": 385,
    "start_time": "2022-12-15T15:33:29.890Z"
   },
   {
    "duration": 19,
    "start_time": "2022-12-15T15:33:30.277Z"
   },
   {
    "duration": 283,
    "start_time": "2022-12-15T15:33:30.298Z"
   },
   {
    "duration": 2,
    "start_time": "2022-12-15T15:33:30.584Z"
   },
   {
    "duration": 46,
    "start_time": "2022-12-15T15:33:30.588Z"
   },
   {
    "duration": 107,
    "start_time": "2022-12-15T15:33:30.636Z"
   },
   {
    "duration": 3,
    "start_time": "2022-12-15T15:34:06.784Z"
   },
   {
    "duration": 1827,
    "start_time": "2022-12-15T15:34:07.735Z"
   },
   {
    "duration": 10,
    "start_time": "2022-12-15T15:34:43.182Z"
   },
   {
    "duration": 1104,
    "start_time": "2022-12-15T15:34:49.476Z"
   },
   {
    "duration": 52,
    "start_time": "2022-12-15T15:34:50.582Z"
   },
   {
    "duration": 20,
    "start_time": "2022-12-15T15:34:50.636Z"
   },
   {
    "duration": 16,
    "start_time": "2022-12-15T15:34:50.658Z"
   },
   {
    "duration": 3,
    "start_time": "2022-12-15T15:34:50.676Z"
   },
   {
    "duration": 18,
    "start_time": "2022-12-15T15:34:50.680Z"
   },
   {
    "duration": 12,
    "start_time": "2022-12-15T15:34:50.699Z"
   },
   {
    "duration": 14,
    "start_time": "2022-12-15T15:34:50.712Z"
   },
   {
    "duration": 25,
    "start_time": "2022-12-15T15:34:50.727Z"
   },
   {
    "duration": 7,
    "start_time": "2022-12-15T15:34:50.754Z"
   },
   {
    "duration": 5,
    "start_time": "2022-12-15T15:34:50.762Z"
   },
   {
    "duration": 7,
    "start_time": "2022-12-15T15:34:50.769Z"
   },
   {
    "duration": 359,
    "start_time": "2022-12-15T15:34:50.778Z"
   },
   {
    "duration": 24,
    "start_time": "2022-12-15T15:34:51.139Z"
   },
   {
    "duration": 312,
    "start_time": "2022-12-15T15:34:51.164Z"
   },
   {
    "duration": 3,
    "start_time": "2022-12-15T15:34:51.478Z"
   },
   {
    "duration": 17,
    "start_time": "2022-12-15T15:34:51.482Z"
   },
   {
    "duration": 1988,
    "start_time": "2022-12-15T15:34:51.501Z"
   },
   {
    "duration": 92,
    "start_time": "2022-12-15T15:35:30.079Z"
   },
   {
    "duration": 1082,
    "start_time": "2022-12-15T15:35:34.688Z"
   },
   {
    "duration": 52,
    "start_time": "2022-12-15T15:35:35.772Z"
   },
   {
    "duration": 21,
    "start_time": "2022-12-15T15:35:35.826Z"
   },
   {
    "duration": 18,
    "start_time": "2022-12-15T15:35:35.849Z"
   },
   {
    "duration": 4,
    "start_time": "2022-12-15T15:35:35.868Z"
   },
   {
    "duration": 18,
    "start_time": "2022-12-15T15:35:35.873Z"
   },
   {
    "duration": 8,
    "start_time": "2022-12-15T15:35:35.893Z"
   },
   {
    "duration": 14,
    "start_time": "2022-12-15T15:35:35.902Z"
   },
   {
    "duration": 6,
    "start_time": "2022-12-15T15:35:35.918Z"
   },
   {
    "duration": 29,
    "start_time": "2022-12-15T15:35:35.926Z"
   },
   {
    "duration": 5,
    "start_time": "2022-12-15T15:35:35.956Z"
   },
   {
    "duration": 7,
    "start_time": "2022-12-15T15:35:35.963Z"
   },
   {
    "duration": 363,
    "start_time": "2022-12-15T15:35:35.972Z"
   },
   {
    "duration": 25,
    "start_time": "2022-12-15T15:35:36.337Z"
   },
   {
    "duration": 278,
    "start_time": "2022-12-15T15:35:36.364Z"
   },
   {
    "duration": 2,
    "start_time": "2022-12-15T15:35:36.644Z"
   },
   {
    "duration": 10,
    "start_time": "2022-12-15T15:35:36.651Z"
   },
   {
    "duration": 1866,
    "start_time": "2022-12-15T15:35:36.663Z"
   },
   {
    "duration": 1080,
    "start_time": "2022-12-15T15:37:29.893Z"
   },
   {
    "duration": 54,
    "start_time": "2022-12-15T15:37:30.975Z"
   },
   {
    "duration": 20,
    "start_time": "2022-12-15T15:37:31.031Z"
   },
   {
    "duration": 23,
    "start_time": "2022-12-15T15:37:31.053Z"
   },
   {
    "duration": 14,
    "start_time": "2022-12-15T15:37:31.078Z"
   },
   {
    "duration": 19,
    "start_time": "2022-12-15T15:37:31.094Z"
   },
   {
    "duration": 10,
    "start_time": "2022-12-15T15:37:31.115Z"
   },
   {
    "duration": 24,
    "start_time": "2022-12-15T15:37:31.127Z"
   },
   {
    "duration": 20,
    "start_time": "2022-12-15T15:37:31.153Z"
   },
   {
    "duration": 10,
    "start_time": "2022-12-15T15:37:31.175Z"
   },
   {
    "duration": 14,
    "start_time": "2022-12-15T15:37:31.187Z"
   },
   {
    "duration": 22,
    "start_time": "2022-12-15T15:37:31.203Z"
   },
   {
    "duration": 334,
    "start_time": "2022-12-15T15:37:31.227Z"
   },
   {
    "duration": 17,
    "start_time": "2022-12-15T15:37:31.563Z"
   },
   {
    "duration": 285,
    "start_time": "2022-12-15T15:37:31.581Z"
   },
   {
    "duration": 1891,
    "start_time": "2022-12-15T15:37:31.867Z"
   },
   {
    "duration": 23,
    "start_time": "2022-12-15T15:38:23.754Z"
   },
   {
    "duration": 290,
    "start_time": "2022-12-15T15:38:24.247Z"
   },
   {
    "duration": 1273,
    "start_time": "2022-12-15T15:38:26.280Z"
   },
   {
    "duration": 1169,
    "start_time": "2022-12-15T15:38:58.368Z"
   },
   {
    "duration": 1734,
    "start_time": "2022-12-15T15:39:21.632Z"
   },
   {
    "duration": 1103,
    "start_time": "2022-12-15T15:48:44.385Z"
   },
   {
    "duration": 53,
    "start_time": "2022-12-15T15:48:45.490Z"
   },
   {
    "duration": 23,
    "start_time": "2022-12-15T15:48:45.544Z"
   },
   {
    "duration": 15,
    "start_time": "2022-12-15T15:48:45.570Z"
   },
   {
    "duration": 4,
    "start_time": "2022-12-15T15:48:45.586Z"
   },
   {
    "duration": 21,
    "start_time": "2022-12-15T15:48:45.591Z"
   },
   {
    "duration": 8,
    "start_time": "2022-12-15T15:48:45.613Z"
   },
   {
    "duration": 39,
    "start_time": "2022-12-15T15:48:45.623Z"
   },
   {
    "duration": 6,
    "start_time": "2022-12-15T15:48:45.664Z"
   },
   {
    "duration": 9,
    "start_time": "2022-12-15T15:48:45.672Z"
   },
   {
    "duration": 5,
    "start_time": "2022-12-15T15:48:45.683Z"
   },
   {
    "duration": 7,
    "start_time": "2022-12-15T15:48:45.690Z"
   },
   {
    "duration": 350,
    "start_time": "2022-12-15T15:48:45.699Z"
   },
   {
    "duration": 16,
    "start_time": "2022-12-15T15:48:46.052Z"
   },
   {
    "duration": 289,
    "start_time": "2022-12-15T15:48:46.070Z"
   },
   {
    "duration": 1828,
    "start_time": "2022-12-15T15:48:46.361Z"
   },
   {
    "duration": 1866,
    "start_time": "2022-12-15T15:49:11.978Z"
   },
   {
    "duration": 1897,
    "start_time": "2022-12-15T15:49:23.514Z"
   },
   {
    "duration": 5222,
    "start_time": "2022-12-15T15:50:06.820Z"
   },
   {
    "duration": 9,
    "start_time": "2022-12-15T16:05:46.836Z"
   },
   {
    "duration": 25,
    "start_time": "2022-12-15T16:06:12.154Z"
   },
   {
    "duration": 22,
    "start_time": "2022-12-15T16:06:39.254Z"
   },
   {
    "duration": 25,
    "start_time": "2022-12-15T16:12:00.120Z"
   },
   {
    "duration": 6,
    "start_time": "2022-12-15T16:32:51.355Z"
   },
   {
    "duration": 9,
    "start_time": "2022-12-15T16:32:52.474Z"
   },
   {
    "duration": 111,
    "start_time": "2022-12-15T16:32:54.897Z"
   },
   {
    "duration": 12,
    "start_time": "2022-12-15T16:32:55.849Z"
   },
   {
    "duration": 5,
    "start_time": "2022-12-15T16:33:36.259Z"
   },
   {
    "duration": 8,
    "start_time": "2022-12-15T16:33:36.785Z"
   },
   {
    "duration": 6,
    "start_time": "2022-12-15T16:34:35.594Z"
   },
   {
    "duration": 9,
    "start_time": "2022-12-15T16:34:36.010Z"
   },
   {
    "duration": 27,
    "start_time": "2022-12-15T16:34:52.236Z"
   },
   {
    "duration": 26,
    "start_time": "2022-12-15T16:35:53.793Z"
   },
   {
    "duration": 26,
    "start_time": "2022-12-15T16:36:06.563Z"
   },
   {
    "duration": 24,
    "start_time": "2022-12-15T16:38:59.316Z"
   },
   {
    "duration": 24,
    "start_time": "2022-12-15T16:39:27.653Z"
   },
   {
    "duration": 23,
    "start_time": "2022-12-15T16:40:03.340Z"
   },
   {
    "duration": 9,
    "start_time": "2022-12-15T16:40:05.456Z"
   },
   {
    "duration": 26,
    "start_time": "2022-12-15T16:40:07.524Z"
   },
   {
    "duration": 11,
    "start_time": "2022-12-15T16:40:09.026Z"
   },
   {
    "duration": 6,
    "start_time": "2022-12-15T16:40:30.559Z"
   },
   {
    "duration": 24,
    "start_time": "2022-12-15T16:40:38.795Z"
   },
   {
    "duration": 12,
    "start_time": "2022-12-15T16:44:33.483Z"
   },
   {
    "duration": 1106,
    "start_time": "2022-12-15T16:44:37.668Z"
   },
   {
    "duration": 51,
    "start_time": "2022-12-15T16:44:38.776Z"
   },
   {
    "duration": 21,
    "start_time": "2022-12-15T16:44:38.829Z"
   },
   {
    "duration": 14,
    "start_time": "2022-12-15T16:44:38.852Z"
   },
   {
    "duration": 3,
    "start_time": "2022-12-15T16:44:38.868Z"
   },
   {
    "duration": 21,
    "start_time": "2022-12-15T16:44:38.873Z"
   },
   {
    "duration": 8,
    "start_time": "2022-12-15T16:44:38.896Z"
   },
   {
    "duration": 23,
    "start_time": "2022-12-15T16:44:38.905Z"
   },
   {
    "duration": 27,
    "start_time": "2022-12-15T16:44:38.930Z"
   },
   {
    "duration": 6,
    "start_time": "2022-12-15T16:44:38.958Z"
   },
   {
    "duration": 6,
    "start_time": "2022-12-15T16:44:38.965Z"
   },
   {
    "duration": 6,
    "start_time": "2022-12-15T16:44:38.972Z"
   },
   {
    "duration": 357,
    "start_time": "2022-12-15T16:44:38.980Z"
   },
   {
    "duration": 23,
    "start_time": "2022-12-15T16:44:39.340Z"
   },
   {
    "duration": 280,
    "start_time": "2022-12-15T16:44:39.365Z"
   },
   {
    "duration": 5466,
    "start_time": "2022-12-15T16:44:39.647Z"
   },
   {
    "duration": 25,
    "start_time": "2022-12-15T16:44:45.114Z"
   },
   {
    "duration": 18,
    "start_time": "2022-12-15T16:44:45.141Z"
   },
   {
    "duration": 12,
    "start_time": "2022-12-15T16:44:45.161Z"
   },
   {
    "duration": 28,
    "start_time": "2022-12-15T16:44:45.175Z"
   },
   {
    "duration": 129,
    "start_time": "2022-12-15T16:44:45.205Z"
   },
   {
    "duration": 12,
    "start_time": "2022-12-15T16:45:06.236Z"
   },
   {
    "duration": 228,
    "start_time": "2022-12-15T16:45:20.940Z"
   },
   {
    "duration": 200,
    "start_time": "2022-12-15T16:45:42.983Z"
   },
   {
    "duration": 228,
    "start_time": "2022-12-15T16:45:51.494Z"
   },
   {
    "duration": 197,
    "start_time": "2022-12-15T16:45:58.326Z"
   },
   {
    "duration": 171,
    "start_time": "2022-12-15T16:46:15.220Z"
   },
   {
    "duration": 110,
    "start_time": "2022-12-15T16:46:31.068Z"
   },
   {
    "duration": 174,
    "start_time": "2022-12-15T16:46:37.645Z"
   },
   {
    "duration": 147,
    "start_time": "2022-12-15T16:49:02.612Z"
   },
   {
    "duration": 13,
    "start_time": "2022-12-15T17:07:06.280Z"
   },
   {
    "duration": 16,
    "start_time": "2022-12-15T17:07:21.912Z"
   },
   {
    "duration": 9,
    "start_time": "2022-12-15T17:07:46.015Z"
   },
   {
    "duration": 7,
    "start_time": "2022-12-15T17:09:40.136Z"
   },
   {
    "duration": 12,
    "start_time": "2022-12-15T17:09:40.848Z"
   },
   {
    "duration": 175,
    "start_time": "2022-12-15T17:09:48.707Z"
   },
   {
    "duration": 148,
    "start_time": "2022-12-15T17:10:00.633Z"
   },
   {
    "duration": 8,
    "start_time": "2022-12-15T17:10:27.441Z"
   },
   {
    "duration": 153,
    "start_time": "2022-12-15T17:10:28.074Z"
   },
   {
    "duration": 223,
    "start_time": "2022-12-15T17:10:41.705Z"
   },
   {
    "duration": 163,
    "start_time": "2022-12-15T17:10:43.074Z"
   },
   {
    "duration": 13,
    "start_time": "2022-12-15T17:11:59.865Z"
   },
   {
    "duration": 1121,
    "start_time": "2022-12-15T17:12:57.658Z"
   },
   {
    "duration": 54,
    "start_time": "2022-12-15T17:12:58.781Z"
   },
   {
    "duration": 22,
    "start_time": "2022-12-15T17:12:58.836Z"
   },
   {
    "duration": 13,
    "start_time": "2022-12-15T17:12:58.860Z"
   },
   {
    "duration": 3,
    "start_time": "2022-12-15T17:12:58.875Z"
   },
   {
    "duration": 20,
    "start_time": "2022-12-15T17:12:58.880Z"
   },
   {
    "duration": 9,
    "start_time": "2022-12-15T17:12:58.901Z"
   },
   {
    "duration": 17,
    "start_time": "2022-12-15T17:12:58.912Z"
   },
   {
    "duration": 27,
    "start_time": "2022-12-15T17:12:58.930Z"
   },
   {
    "duration": 19,
    "start_time": "2022-12-15T17:12:58.961Z"
   },
   {
    "duration": 7,
    "start_time": "2022-12-15T17:12:58.982Z"
   },
   {
    "duration": 8,
    "start_time": "2022-12-15T17:12:58.991Z"
   },
   {
    "duration": 345,
    "start_time": "2022-12-15T17:12:59.000Z"
   },
   {
    "duration": 19,
    "start_time": "2022-12-15T17:12:59.347Z"
   },
   {
    "duration": 293,
    "start_time": "2022-12-15T17:12:59.368Z"
   },
   {
    "duration": 5520,
    "start_time": "2022-12-15T17:12:59.663Z"
   },
   {
    "duration": 25,
    "start_time": "2022-12-15T17:13:05.184Z"
   },
   {
    "duration": 6,
    "start_time": "2022-12-15T17:13:05.211Z"
   },
   {
    "duration": 13,
    "start_time": "2022-12-15T17:13:05.219Z"
   },
   {
    "duration": 47,
    "start_time": "2022-12-15T17:13:05.233Z"
   },
   {
    "duration": 157,
    "start_time": "2022-12-15T17:13:05.282Z"
   },
   {
    "duration": 16,
    "start_time": "2022-12-15T17:13:05.440Z"
   },
   {
    "duration": 164,
    "start_time": "2022-12-15T17:13:05.458Z"
   },
   {
    "duration": 13,
    "start_time": "2022-12-15T17:13:05.624Z"
   },
   {
    "duration": 32,
    "start_time": "2022-12-15T17:13:05.638Z"
   },
   {
    "duration": 183,
    "start_time": "2022-12-15T17:13:05.672Z"
   },
   {
    "duration": 95,
    "start_time": "2022-12-15T17:19:03.236Z"
   },
   {
    "duration": 9,
    "start_time": "2022-12-15T17:19:18.932Z"
   },
   {
    "duration": 11,
    "start_time": "2022-12-15T17:19:34.541Z"
   },
   {
    "duration": 13,
    "start_time": "2022-12-15T17:19:47.698Z"
   },
   {
    "duration": 9,
    "start_time": "2022-12-15T17:19:55.998Z"
   },
   {
    "duration": 9,
    "start_time": "2022-12-15T17:20:17.373Z"
   },
   {
    "duration": 15,
    "start_time": "2022-12-15T17:20:45.097Z"
   },
   {
    "duration": 12,
    "start_time": "2022-12-15T17:20:45.475Z"
   },
   {
    "duration": 10,
    "start_time": "2022-12-15T17:20:50.732Z"
   },
   {
    "duration": 10,
    "start_time": "2022-12-15T17:20:51.404Z"
   },
   {
    "duration": 10,
    "start_time": "2022-12-15T17:20:51.947Z"
   },
   {
    "duration": 9,
    "start_time": "2022-12-15T17:20:52.271Z"
   },
   {
    "duration": 10,
    "start_time": "2022-12-15T17:20:52.580Z"
   },
   {
    "duration": 155,
    "start_time": "2022-12-15T17:20:53.572Z"
   },
   {
    "duration": 11,
    "start_time": "2022-12-15T17:23:28.821Z"
   },
   {
    "duration": 11,
    "start_time": "2022-12-15T17:23:29.620Z"
   },
   {
    "duration": 9,
    "start_time": "2022-12-15T17:23:30.117Z"
   },
   {
    "duration": 9,
    "start_time": "2022-12-15T17:23:30.525Z"
   },
   {
    "duration": 12,
    "start_time": "2022-12-15T17:23:30.959Z"
   },
   {
    "duration": 1057,
    "start_time": "2022-12-15T17:24:30.712Z"
   },
   {
    "duration": 52,
    "start_time": "2022-12-15T17:24:31.771Z"
   },
   {
    "duration": 20,
    "start_time": "2022-12-15T17:24:31.825Z"
   },
   {
    "duration": 16,
    "start_time": "2022-12-15T17:24:31.847Z"
   },
   {
    "duration": 3,
    "start_time": "2022-12-15T17:24:31.865Z"
   },
   {
    "duration": 20,
    "start_time": "2022-12-15T17:24:31.870Z"
   },
   {
    "duration": 8,
    "start_time": "2022-12-15T17:24:31.892Z"
   },
   {
    "duration": 14,
    "start_time": "2022-12-15T17:24:31.902Z"
   },
   {
    "duration": 8,
    "start_time": "2022-12-15T17:24:31.917Z"
   },
   {
    "duration": 25,
    "start_time": "2022-12-15T17:24:31.927Z"
   },
   {
    "duration": 7,
    "start_time": "2022-12-15T17:24:31.954Z"
   },
   {
    "duration": 7,
    "start_time": "2022-12-15T17:24:31.963Z"
   },
   {
    "duration": 349,
    "start_time": "2022-12-15T17:24:31.972Z"
   },
   {
    "duration": 15,
    "start_time": "2022-12-15T17:24:32.324Z"
   },
   {
    "duration": 319,
    "start_time": "2022-12-15T17:24:32.340Z"
   },
   {
    "duration": 5176,
    "start_time": "2022-12-15T17:24:32.660Z"
   },
   {
    "duration": 27,
    "start_time": "2022-12-15T17:24:37.838Z"
   },
   {
    "duration": 6,
    "start_time": "2022-12-15T17:24:37.867Z"
   },
   {
    "duration": 9,
    "start_time": "2022-12-15T17:24:37.875Z"
   },
   {
    "duration": 26,
    "start_time": "2022-12-15T17:24:37.886Z"
   },
   {
    "duration": 187,
    "start_time": "2022-12-15T17:24:37.914Z"
   },
   {
    "duration": 13,
    "start_time": "2022-12-15T17:24:38.103Z"
   },
   {
    "duration": 11,
    "start_time": "2022-12-15T17:24:38.118Z"
   },
   {
    "duration": 30,
    "start_time": "2022-12-15T17:24:38.130Z"
   },
   {
    "duration": 11,
    "start_time": "2022-12-15T17:24:38.162Z"
   },
   {
    "duration": 10,
    "start_time": "2022-12-15T17:24:38.175Z"
   },
   {
    "duration": 13,
    "start_time": "2022-12-15T17:29:31.158Z"
   },
   {
    "duration": 12,
    "start_time": "2022-12-15T17:30:13.077Z"
   },
   {
    "duration": 12,
    "start_time": "2022-12-15T17:30:13.576Z"
   },
   {
    "duration": 19,
    "start_time": "2022-12-15T17:30:13.982Z"
   },
   {
    "duration": 15,
    "start_time": "2022-12-15T17:31:03.328Z"
   },
   {
    "duration": 107,
    "start_time": "2022-12-15T19:01:29.891Z"
   },
   {
    "duration": 339,
    "start_time": "2022-12-15T19:02:06.221Z"
   },
   {
    "duration": 13,
    "start_time": "2022-12-15T19:02:26.316Z"
   },
   {
    "duration": 26,
    "start_time": "2022-12-15T19:04:07.605Z"
   },
   {
    "duration": 16,
    "start_time": "2022-12-15T19:04:50.732Z"
   },
   {
    "duration": 14,
    "start_time": "2022-12-15T19:05:09.316Z"
   },
   {
    "duration": 20,
    "start_time": "2022-12-15T19:05:39.968Z"
   },
   {
    "duration": 8,
    "start_time": "2022-12-15T19:06:29.382Z"
   },
   {
    "duration": 10,
    "start_time": "2022-12-15T19:06:43.132Z"
   },
   {
    "duration": 15,
    "start_time": "2022-12-15T19:06:48.364Z"
   },
   {
    "duration": 74,
    "start_time": "2022-12-15T19:19:54.837Z"
   },
   {
    "duration": 9,
    "start_time": "2022-12-15T19:20:13.786Z"
   },
   {
    "duration": 8,
    "start_time": "2022-12-15T19:20:36.738Z"
   },
   {
    "duration": 1253,
    "start_time": "2022-12-15T19:20:42.149Z"
   },
   {
    "duration": 55,
    "start_time": "2022-12-15T19:20:43.404Z"
   },
   {
    "duration": 23,
    "start_time": "2022-12-15T19:20:43.461Z"
   },
   {
    "duration": 15,
    "start_time": "2022-12-15T19:20:43.486Z"
   },
   {
    "duration": 4,
    "start_time": "2022-12-15T19:20:43.502Z"
   },
   {
    "duration": 21,
    "start_time": "2022-12-15T19:20:43.508Z"
   },
   {
    "duration": 28,
    "start_time": "2022-12-15T19:20:43.531Z"
   },
   {
    "duration": 18,
    "start_time": "2022-12-15T19:20:43.561Z"
   },
   {
    "duration": 8,
    "start_time": "2022-12-15T19:20:43.580Z"
   },
   {
    "duration": 5,
    "start_time": "2022-12-15T19:20:43.591Z"
   },
   {
    "duration": 11,
    "start_time": "2022-12-15T19:20:43.598Z"
   },
   {
    "duration": 13,
    "start_time": "2022-12-15T19:20:43.611Z"
   },
   {
    "duration": 400,
    "start_time": "2022-12-15T19:20:43.625Z"
   },
   {
    "duration": 27,
    "start_time": "2022-12-15T19:20:44.026Z"
   },
   {
    "duration": 328,
    "start_time": "2022-12-15T19:20:44.055Z"
   },
   {
    "duration": 5463,
    "start_time": "2022-12-15T19:20:44.385Z"
   },
   {
    "duration": 91,
    "start_time": "2022-12-15T19:20:49.851Z"
   },
   {
    "duration": 0,
    "start_time": "2022-12-15T19:20:49.952Z"
   },
   {
    "duration": 0,
    "start_time": "2022-12-15T19:20:49.954Z"
   },
   {
    "duration": 0,
    "start_time": "2022-12-15T19:20:49.955Z"
   },
   {
    "duration": 0,
    "start_time": "2022-12-15T19:20:49.957Z"
   },
   {
    "duration": 0,
    "start_time": "2022-12-15T19:20:49.958Z"
   },
   {
    "duration": 0,
    "start_time": "2022-12-15T19:20:49.960Z"
   },
   {
    "duration": 0,
    "start_time": "2022-12-15T19:20:49.961Z"
   },
   {
    "duration": 0,
    "start_time": "2022-12-15T19:20:49.962Z"
   },
   {
    "duration": 0,
    "start_time": "2022-12-15T19:20:49.963Z"
   },
   {
    "duration": 0,
    "start_time": "2022-12-15T19:20:49.965Z"
   },
   {
    "duration": 0,
    "start_time": "2022-12-15T19:20:49.966Z"
   },
   {
    "duration": 20,
    "start_time": "2022-12-15T19:21:17.832Z"
   },
   {
    "duration": 1148,
    "start_time": "2022-12-15T19:25:26.987Z"
   },
   {
    "duration": 1098,
    "start_time": "2022-12-15T19:26:02.480Z"
   },
   {
    "duration": 1153,
    "start_time": "2022-12-15T19:26:09.593Z"
   },
   {
    "duration": 16,
    "start_time": "2022-12-15T19:26:15.080Z"
   },
   {
    "duration": 17,
    "start_time": "2022-12-15T19:26:36.417Z"
   },
   {
    "duration": 1106,
    "start_time": "2022-12-15T19:28:32.050Z"
   },
   {
    "duration": 51,
    "start_time": "2022-12-15T19:28:33.158Z"
   },
   {
    "duration": 20,
    "start_time": "2022-12-15T19:28:33.211Z"
   },
   {
    "duration": 14,
    "start_time": "2022-12-15T19:28:33.233Z"
   },
   {
    "duration": 3,
    "start_time": "2022-12-15T19:28:33.249Z"
   },
   {
    "duration": 19,
    "start_time": "2022-12-15T19:28:33.254Z"
   },
   {
    "duration": 13,
    "start_time": "2022-12-15T19:28:33.275Z"
   },
   {
    "duration": 14,
    "start_time": "2022-12-15T19:28:33.290Z"
   },
   {
    "duration": 7,
    "start_time": "2022-12-15T19:28:33.305Z"
   },
   {
    "duration": 4,
    "start_time": "2022-12-15T19:28:33.314Z"
   },
   {
    "duration": 7,
    "start_time": "2022-12-15T19:28:33.320Z"
   },
   {
    "duration": 25,
    "start_time": "2022-12-15T19:28:33.328Z"
   },
   {
    "duration": 367,
    "start_time": "2022-12-15T19:28:33.355Z"
   },
   {
    "duration": 15,
    "start_time": "2022-12-15T19:28:33.724Z"
   },
   {
    "duration": 281,
    "start_time": "2022-12-15T19:28:33.751Z"
   },
   {
    "duration": 5137,
    "start_time": "2022-12-15T19:28:34.034Z"
   },
   {
    "duration": 23,
    "start_time": "2022-12-15T19:28:39.173Z"
   },
   {
    "duration": 5,
    "start_time": "2022-12-15T19:28:39.198Z"
   },
   {
    "duration": 9,
    "start_time": "2022-12-15T19:28:39.205Z"
   },
   {
    "duration": 48,
    "start_time": "2022-12-15T19:28:39.216Z"
   },
   {
    "duration": 156,
    "start_time": "2022-12-15T19:28:39.265Z"
   },
   {
    "duration": 12,
    "start_time": "2022-12-15T19:28:39.423Z"
   },
   {
    "duration": 22,
    "start_time": "2022-12-15T19:28:39.437Z"
   },
   {
    "duration": 11,
    "start_time": "2022-12-15T19:28:39.461Z"
   },
   {
    "duration": 11,
    "start_time": "2022-12-15T19:28:39.473Z"
   },
   {
    "duration": 16,
    "start_time": "2022-12-15T19:28:39.485Z"
   },
   {
    "duration": 228,
    "start_time": "2022-12-15T19:28:39.503Z"
   },
   {
    "duration": 185,
    "start_time": "2022-12-15T19:40:15.888Z"
   },
   {
    "duration": 184,
    "start_time": "2022-12-15T19:40:22.887Z"
   },
   {
    "duration": 159,
    "start_time": "2022-12-15T19:40:31.228Z"
   },
   {
    "duration": 179,
    "start_time": "2022-12-15T19:40:38.221Z"
   },
   {
    "duration": 188,
    "start_time": "2022-12-15T19:41:39.244Z"
   },
   {
    "duration": 177,
    "start_time": "2022-12-15T19:41:47.901Z"
   },
   {
    "duration": 9,
    "start_time": "2022-12-15T20:20:18.150Z"
   },
   {
    "duration": 9,
    "start_time": "2022-12-15T20:21:00.854Z"
   },
   {
    "duration": 11,
    "start_time": "2022-12-15T20:21:36.628Z"
   },
   {
    "duration": 11,
    "start_time": "2022-12-15T20:21:47.547Z"
   },
   {
    "duration": 5,
    "start_time": "2022-12-15T20:21:49.645Z"
   },
   {
    "duration": 9,
    "start_time": "2022-12-15T20:24:23.029Z"
   },
   {
    "duration": 4,
    "start_time": "2022-12-15T20:24:37.565Z"
   },
   {
    "duration": 10,
    "start_time": "2022-12-15T20:30:05.862Z"
   },
   {
    "duration": 13,
    "start_time": "2022-12-15T20:30:17.628Z"
   },
   {
    "duration": 20,
    "start_time": "2022-12-15T20:30:34.300Z"
   },
   {
    "duration": 8,
    "start_time": "2022-12-15T20:32:16.422Z"
   },
   {
    "duration": 8,
    "start_time": "2022-12-15T20:32:33.846Z"
   },
   {
    "duration": 8,
    "start_time": "2022-12-15T20:34:16.751Z"
   },
   {
    "duration": 8,
    "start_time": "2022-12-15T20:34:37.958Z"
   },
   {
    "duration": 7,
    "start_time": "2022-12-15T20:34:46.125Z"
   },
   {
    "duration": 8,
    "start_time": "2022-12-15T20:37:46.292Z"
   },
   {
    "duration": 9,
    "start_time": "2022-12-15T20:37:52.393Z"
   },
   {
    "duration": 9,
    "start_time": "2022-12-15T20:38:48.647Z"
   },
   {
    "duration": 9,
    "start_time": "2022-12-15T20:38:49.096Z"
   },
   {
    "duration": 9,
    "start_time": "2022-12-15T20:38:49.486Z"
   },
   {
    "duration": 7,
    "start_time": "2022-12-15T20:39:02.534Z"
   },
   {
    "duration": 7,
    "start_time": "2022-12-15T20:39:02.870Z"
   },
   {
    "duration": 9,
    "start_time": "2022-12-15T20:43:14.279Z"
   },
   {
    "duration": 9,
    "start_time": "2022-12-15T20:44:28.664Z"
   },
   {
    "duration": 9,
    "start_time": "2022-12-15T20:44:29.400Z"
   },
   {
    "duration": 1232,
    "start_time": "2022-12-15T20:45:25.924Z"
   },
   {
    "duration": 54,
    "start_time": "2022-12-15T20:45:27.158Z"
   },
   {
    "duration": 20,
    "start_time": "2022-12-15T20:45:27.214Z"
   },
   {
    "duration": 13,
    "start_time": "2022-12-15T20:45:27.235Z"
   },
   {
    "duration": 3,
    "start_time": "2022-12-15T20:45:27.250Z"
   },
   {
    "duration": 18,
    "start_time": "2022-12-15T20:45:27.254Z"
   },
   {
    "duration": 7,
    "start_time": "2022-12-15T20:45:27.274Z"
   },
   {
    "duration": 14,
    "start_time": "2022-12-15T20:45:27.283Z"
   },
   {
    "duration": 6,
    "start_time": "2022-12-15T20:45:27.298Z"
   },
   {
    "duration": 5,
    "start_time": "2022-12-15T20:45:27.306Z"
   },
   {
    "duration": 9,
    "start_time": "2022-12-15T20:45:27.312Z"
   },
   {
    "duration": 8,
    "start_time": "2022-12-15T20:45:27.322Z"
   },
   {
    "duration": 329,
    "start_time": "2022-12-15T20:45:27.353Z"
   },
   {
    "duration": 15,
    "start_time": "2022-12-15T20:45:27.685Z"
   },
   {
    "duration": 281,
    "start_time": "2022-12-15T20:45:27.702Z"
   },
   {
    "duration": 5115,
    "start_time": "2022-12-15T20:45:27.985Z"
   },
   {
    "duration": 21,
    "start_time": "2022-12-15T20:45:33.102Z"
   },
   {
    "duration": 6,
    "start_time": "2022-12-15T20:45:33.125Z"
   },
   {
    "duration": 20,
    "start_time": "2022-12-15T20:45:33.133Z"
   },
   {
    "duration": 32,
    "start_time": "2022-12-15T20:45:33.155Z"
   },
   {
    "duration": 165,
    "start_time": "2022-12-15T20:45:33.189Z"
   },
   {
    "duration": 11,
    "start_time": "2022-12-15T20:45:33.356Z"
   },
   {
    "duration": 19,
    "start_time": "2022-12-15T20:45:33.369Z"
   },
   {
    "duration": 15,
    "start_time": "2022-12-15T20:45:33.390Z"
   },
   {
    "duration": 10,
    "start_time": "2022-12-15T20:45:33.407Z"
   },
   {
    "duration": 17,
    "start_time": "2022-12-15T20:45:33.418Z"
   },
   {
    "duration": 184,
    "start_time": "2022-12-15T20:45:33.437Z"
   },
   {
    "duration": 7,
    "start_time": "2022-12-15T20:45:33.623Z"
   },
   {
    "duration": 21,
    "start_time": "2022-12-15T20:45:33.631Z"
   },
   {
    "duration": 7,
    "start_time": "2022-12-15T20:45:33.654Z"
   },
   {
    "duration": 6,
    "start_time": "2022-12-15T20:45:33.662Z"
   },
   {
    "duration": 8,
    "start_time": "2022-12-15T20:45:33.670Z"
   },
   {
    "duration": 7,
    "start_time": "2022-12-15T20:45:33.679Z"
   },
   {
    "duration": 10,
    "start_time": "2022-12-15T20:45:33.687Z"
   },
   {
    "duration": 10,
    "start_time": "2022-12-15T20:45:33.698Z"
   },
   {
    "duration": 8,
    "start_time": "2022-12-15T20:45:33.710Z"
   },
   {
    "duration": 8,
    "start_time": "2022-12-15T20:45:33.752Z"
   },
   {
    "duration": 5,
    "start_time": "2022-12-15T20:45:33.761Z"
   },
   {
    "duration": 9,
    "start_time": "2022-12-15T20:45:33.768Z"
   },
   {
    "duration": 5,
    "start_time": "2022-12-15T20:45:33.779Z"
   },
   {
    "duration": 1254,
    "start_time": "2022-12-16T05:15:55.897Z"
   },
   {
    "duration": 49,
    "start_time": "2022-12-16T05:15:57.154Z"
   },
   {
    "duration": 30,
    "start_time": "2022-12-16T05:15:57.205Z"
   },
   {
    "duration": 28,
    "start_time": "2022-12-16T05:15:57.237Z"
   },
   {
    "duration": 3,
    "start_time": "2022-12-16T05:15:57.267Z"
   },
   {
    "duration": 19,
    "start_time": "2022-12-16T05:15:57.271Z"
   },
   {
    "duration": 8,
    "start_time": "2022-12-16T05:15:57.291Z"
   },
   {
    "duration": 21,
    "start_time": "2022-12-16T05:15:57.312Z"
   },
   {
    "duration": 12,
    "start_time": "2022-12-16T05:15:57.334Z"
   },
   {
    "duration": 3,
    "start_time": "2022-12-16T05:15:57.350Z"
   },
   {
    "duration": 7,
    "start_time": "2022-12-16T05:15:57.355Z"
   },
   {
    "duration": 7,
    "start_time": "2022-12-16T05:15:57.364Z"
   },
   {
    "duration": 384,
    "start_time": "2022-12-16T05:15:57.373Z"
   },
   {
    "duration": 16,
    "start_time": "2022-12-16T05:15:57.759Z"
   },
   {
    "duration": 314,
    "start_time": "2022-12-16T05:15:57.777Z"
   },
   {
    "duration": 5706,
    "start_time": "2022-12-16T05:15:58.093Z"
   },
   {
    "duration": 32,
    "start_time": "2022-12-16T05:16:03.801Z"
   },
   {
    "duration": 7,
    "start_time": "2022-12-16T05:16:03.834Z"
   },
   {
    "duration": 11,
    "start_time": "2022-12-16T05:16:03.842Z"
   },
   {
    "duration": 26,
    "start_time": "2022-12-16T05:16:03.856Z"
   },
   {
    "duration": 201,
    "start_time": "2022-12-16T05:16:03.884Z"
   },
   {
    "duration": 32,
    "start_time": "2022-12-16T05:16:04.087Z"
   },
   {
    "duration": 29,
    "start_time": "2022-12-16T05:16:04.122Z"
   },
   {
    "duration": 12,
    "start_time": "2022-12-16T05:16:04.153Z"
   },
   {
    "duration": 13,
    "start_time": "2022-12-16T05:16:04.166Z"
   },
   {
    "duration": 15,
    "start_time": "2022-12-16T05:16:04.180Z"
   },
   {
    "duration": 198,
    "start_time": "2022-12-16T05:16:04.197Z"
   },
   {
    "duration": 7,
    "start_time": "2022-12-16T05:16:04.398Z"
   },
   {
    "duration": 26,
    "start_time": "2022-12-16T05:16:04.412Z"
   },
   {
    "duration": 8,
    "start_time": "2022-12-16T05:16:04.440Z"
   },
   {
    "duration": 8,
    "start_time": "2022-12-16T05:16:04.450Z"
   },
   {
    "duration": 7,
    "start_time": "2022-12-16T05:16:04.460Z"
   },
   {
    "duration": 7,
    "start_time": "2022-12-16T05:16:04.469Z"
   },
   {
    "duration": 14,
    "start_time": "2022-12-16T05:16:04.478Z"
   },
   {
    "duration": 34,
    "start_time": "2022-12-16T05:16:04.493Z"
   },
   {
    "duration": 19,
    "start_time": "2022-12-16T05:16:04.528Z"
   },
   {
    "duration": 8,
    "start_time": "2022-12-16T05:16:04.549Z"
   },
   {
    "duration": 11,
    "start_time": "2022-12-16T05:16:04.559Z"
   },
   {
    "duration": 14,
    "start_time": "2022-12-16T05:16:04.572Z"
   },
   {
    "duration": 37,
    "start_time": "2022-12-16T05:16:04.588Z"
   },
   {
    "duration": 48,
    "start_time": "2022-12-20T13:48:59.523Z"
   },
   {
    "duration": 1388,
    "start_time": "2022-12-20T13:49:04.176Z"
   },
   {
    "duration": 206,
    "start_time": "2022-12-20T13:49:05.567Z"
   },
   {
    "duration": 22,
    "start_time": "2022-12-20T13:49:05.774Z"
   },
   {
    "duration": 28,
    "start_time": "2022-12-20T13:49:05.799Z"
   },
   {
    "duration": 4,
    "start_time": "2022-12-20T13:49:05.829Z"
   },
   {
    "duration": 30,
    "start_time": "2022-12-20T13:49:05.835Z"
   },
   {
    "duration": 12,
    "start_time": "2022-12-20T13:49:05.868Z"
   },
   {
    "duration": 20,
    "start_time": "2022-12-20T13:49:05.882Z"
   },
   {
    "duration": 8,
    "start_time": "2022-12-20T13:49:05.903Z"
   },
   {
    "duration": 7,
    "start_time": "2022-12-20T13:49:05.914Z"
   },
   {
    "duration": 33,
    "start_time": "2022-12-20T13:49:05.923Z"
   },
   {
    "duration": 11,
    "start_time": "2022-12-20T13:49:05.958Z"
   },
   {
    "duration": 370,
    "start_time": "2022-12-20T13:49:05.971Z"
   },
   {
    "duration": 25,
    "start_time": "2022-12-20T13:49:06.343Z"
   },
   {
    "duration": 317,
    "start_time": "2022-12-20T13:49:06.370Z"
   },
   {
    "duration": 5506,
    "start_time": "2022-12-20T13:49:06.689Z"
   },
   {
    "duration": 23,
    "start_time": "2022-12-20T13:49:12.197Z"
   },
   {
    "duration": 37,
    "start_time": "2022-12-20T13:49:12.222Z"
   },
   {
    "duration": 7,
    "start_time": "2022-12-20T13:49:12.261Z"
   },
   {
    "duration": 11,
    "start_time": "2022-12-20T13:49:12.269Z"
   },
   {
    "duration": 27,
    "start_time": "2022-12-20T13:49:12.281Z"
   },
   {
    "duration": 243,
    "start_time": "2022-12-20T13:49:12.309Z"
   },
   {
    "duration": 17,
    "start_time": "2022-12-20T13:49:12.554Z"
   },
   {
    "duration": 23,
    "start_time": "2022-12-20T13:49:12.573Z"
   },
   {
    "duration": 36,
    "start_time": "2022-12-20T13:49:12.599Z"
   },
   {
    "duration": 17,
    "start_time": "2022-12-20T13:49:12.636Z"
   },
   {
    "duration": 17,
    "start_time": "2022-12-20T13:49:12.654Z"
   },
   {
    "duration": 188,
    "start_time": "2022-12-20T13:49:12.675Z"
   },
   {
    "duration": 7,
    "start_time": "2022-12-20T13:49:12.865Z"
   },
   {
    "duration": 10,
    "start_time": "2022-12-20T13:49:12.873Z"
   },
   {
    "duration": 8,
    "start_time": "2022-12-20T13:49:12.884Z"
   },
   {
    "duration": 10,
    "start_time": "2022-12-20T13:49:12.893Z"
   },
   {
    "duration": 11,
    "start_time": "2022-12-20T13:49:12.904Z"
   },
   {
    "duration": 8,
    "start_time": "2022-12-20T13:49:12.917Z"
   },
   {
    "duration": 9,
    "start_time": "2022-12-20T13:49:12.953Z"
   },
   {
    "duration": 14,
    "start_time": "2022-12-20T13:49:12.964Z"
   },
   {
    "duration": 11,
    "start_time": "2022-12-20T13:49:12.980Z"
   },
   {
    "duration": 8,
    "start_time": "2022-12-20T13:49:12.993Z"
   },
   {
    "duration": 12,
    "start_time": "2022-12-20T13:49:13.003Z"
   },
   {
    "duration": 11,
    "start_time": "2022-12-20T13:49:13.017Z"
   },
   {
    "duration": 6,
    "start_time": "2022-12-20T13:49:13.062Z"
   },
   {
    "duration": 19,
    "start_time": "2022-12-20T13:50:35.178Z"
   },
   {
    "duration": 6,
    "start_time": "2022-12-20T14:01:00.948Z"
   },
   {
    "duration": 11,
    "start_time": "2022-12-20T14:01:02.355Z"
   },
   {
    "duration": 36,
    "start_time": "2022-12-20T14:01:05.548Z"
   },
   {
    "duration": 170,
    "start_time": "2022-12-20T14:01:07.450Z"
   },
   {
    "duration": 7,
    "start_time": "2022-12-20T14:01:15.390Z"
   },
   {
    "duration": 10,
    "start_time": "2022-12-20T14:01:19.372Z"
   },
   {
    "duration": 33,
    "start_time": "2022-12-20T14:01:21.401Z"
   },
   {
    "duration": 151,
    "start_time": "2022-12-20T14:01:23.865Z"
   },
   {
    "duration": 5,
    "start_time": "2022-12-20T14:01:40.894Z"
   },
   {
    "duration": 12,
    "start_time": "2022-12-20T14:01:42.451Z"
   },
   {
    "duration": 26,
    "start_time": "2022-12-20T14:01:46.894Z"
   },
   {
    "duration": 168,
    "start_time": "2022-12-20T14:01:49.636Z"
   },
   {
    "duration": 6,
    "start_time": "2022-12-20T14:02:29.244Z"
   },
   {
    "duration": 9,
    "start_time": "2022-12-20T14:02:30.478Z"
   },
   {
    "duration": 25,
    "start_time": "2022-12-20T14:02:31.941Z"
   },
   {
    "duration": 186,
    "start_time": "2022-12-20T14:02:32.471Z"
   },
   {
    "duration": 183,
    "start_time": "2022-12-20T14:06:43.382Z"
   },
   {
    "duration": 55,
    "start_time": "2022-12-20T14:39:08.279Z"
   },
   {
    "duration": 1261,
    "start_time": "2022-12-20T14:47:58.308Z"
   },
   {
    "duration": 21,
    "start_time": "2022-12-20T14:48:26.338Z"
   },
   {
    "duration": 1153,
    "start_time": "2022-12-20T14:48:44.290Z"
   },
   {
    "duration": 54,
    "start_time": "2022-12-20T14:48:45.445Z"
   },
   {
    "duration": 41,
    "start_time": "2022-12-20T14:48:45.500Z"
   },
   {
    "duration": 22,
    "start_time": "2022-12-20T14:48:45.543Z"
   },
   {
    "duration": 16,
    "start_time": "2022-12-20T14:48:45.567Z"
   },
   {
    "duration": 3,
    "start_time": "2022-12-20T14:48:45.585Z"
   },
   {
    "duration": 22,
    "start_time": "2022-12-20T14:48:45.591Z"
   },
   {
    "duration": 8,
    "start_time": "2022-12-20T14:48:45.615Z"
   },
   {
    "duration": 38,
    "start_time": "2022-12-20T14:48:45.625Z"
   },
   {
    "duration": 9,
    "start_time": "2022-12-20T14:48:45.666Z"
   },
   {
    "duration": 30,
    "start_time": "2022-12-20T14:48:45.677Z"
   },
   {
    "duration": 109,
    "start_time": "2022-12-20T14:48:45.710Z"
   },
   {
    "duration": 0,
    "start_time": "2022-12-20T14:48:45.821Z"
   },
   {
    "duration": 0,
    "start_time": "2022-12-20T14:48:45.823Z"
   },
   {
    "duration": 0,
    "start_time": "2022-12-20T14:48:45.824Z"
   },
   {
    "duration": 0,
    "start_time": "2022-12-20T14:48:45.825Z"
   },
   {
    "duration": 0,
    "start_time": "2022-12-20T14:48:45.826Z"
   },
   {
    "duration": 0,
    "start_time": "2022-12-20T14:48:45.827Z"
   },
   {
    "duration": 0,
    "start_time": "2022-12-20T14:48:45.828Z"
   },
   {
    "duration": 0,
    "start_time": "2022-12-20T14:48:45.829Z"
   },
   {
    "duration": 0,
    "start_time": "2022-12-20T14:48:45.830Z"
   },
   {
    "duration": 0,
    "start_time": "2022-12-20T14:48:45.831Z"
   },
   {
    "duration": 0,
    "start_time": "2022-12-20T14:48:45.832Z"
   },
   {
    "duration": 0,
    "start_time": "2022-12-20T14:48:45.833Z"
   },
   {
    "duration": 0,
    "start_time": "2022-12-20T14:48:45.852Z"
   },
   {
    "duration": 0,
    "start_time": "2022-12-20T14:48:45.853Z"
   },
   {
    "duration": 0,
    "start_time": "2022-12-20T14:48:45.854Z"
   },
   {
    "duration": 0,
    "start_time": "2022-12-20T14:48:45.855Z"
   },
   {
    "duration": 0,
    "start_time": "2022-12-20T14:48:45.856Z"
   },
   {
    "duration": 0,
    "start_time": "2022-12-20T14:48:45.857Z"
   },
   {
    "duration": 0,
    "start_time": "2022-12-20T14:48:45.858Z"
   },
   {
    "duration": 0,
    "start_time": "2022-12-20T14:48:45.859Z"
   },
   {
    "duration": 0,
    "start_time": "2022-12-20T14:48:45.860Z"
   },
   {
    "duration": 0,
    "start_time": "2022-12-20T14:48:45.861Z"
   },
   {
    "duration": 1,
    "start_time": "2022-12-20T14:48:45.861Z"
   },
   {
    "duration": 0,
    "start_time": "2022-12-20T14:48:45.862Z"
   },
   {
    "duration": 0,
    "start_time": "2022-12-20T14:48:45.863Z"
   },
   {
    "duration": 0,
    "start_time": "2022-12-20T14:48:45.865Z"
   },
   {
    "duration": 0,
    "start_time": "2022-12-20T14:48:45.865Z"
   },
   {
    "duration": 0,
    "start_time": "2022-12-20T14:48:45.867Z"
   },
   {
    "duration": 0,
    "start_time": "2022-12-20T14:48:45.867Z"
   },
   {
    "duration": 0,
    "start_time": "2022-12-20T14:48:45.868Z"
   },
   {
    "duration": 0,
    "start_time": "2022-12-20T14:48:45.869Z"
   },
   {
    "duration": 0,
    "start_time": "2022-12-20T14:48:45.870Z"
   },
   {
    "duration": 5,
    "start_time": "2022-12-20T14:48:59.296Z"
   },
   {
    "duration": 30,
    "start_time": "2022-12-20T14:49:03.362Z"
   },
   {
    "duration": 1157,
    "start_time": "2022-12-20T14:49:26.221Z"
   },
   {
    "duration": 51,
    "start_time": "2022-12-20T14:49:27.380Z"
   },
   {
    "duration": 30,
    "start_time": "2022-12-20T14:49:27.432Z"
   },
   {
    "duration": 20,
    "start_time": "2022-12-20T14:49:27.464Z"
   },
   {
    "duration": 13,
    "start_time": "2022-12-20T14:49:27.485Z"
   },
   {
    "duration": 3,
    "start_time": "2022-12-20T14:49:27.500Z"
   },
   {
    "duration": 18,
    "start_time": "2022-12-20T14:49:27.504Z"
   },
   {
    "duration": 8,
    "start_time": "2022-12-20T14:49:27.553Z"
   },
   {
    "duration": 13,
    "start_time": "2022-12-20T14:49:27.563Z"
   },
   {
    "duration": 7,
    "start_time": "2022-12-20T14:49:27.579Z"
   },
   {
    "duration": 11,
    "start_time": "2022-12-20T14:49:27.588Z"
   },
   {
    "duration": 8,
    "start_time": "2022-12-20T14:49:27.601Z"
   },
   {
    "duration": 9,
    "start_time": "2022-12-20T14:49:27.610Z"
   },
   {
    "duration": 8,
    "start_time": "2022-12-20T14:49:27.620Z"
   },
   {
    "duration": 351,
    "start_time": "2022-12-20T14:49:27.653Z"
   },
   {
    "duration": 16,
    "start_time": "2022-12-20T14:49:28.005Z"
   },
   {
    "duration": 297,
    "start_time": "2022-12-20T14:49:28.023Z"
   },
   {
    "duration": 6267,
    "start_time": "2022-12-20T14:49:28.322Z"
   },
   {
    "duration": 29,
    "start_time": "2022-12-20T14:49:34.591Z"
   },
   {
    "duration": 42,
    "start_time": "2022-12-20T14:49:34.622Z"
   },
   {
    "duration": 5,
    "start_time": "2022-12-20T14:49:34.666Z"
   },
   {
    "duration": 12,
    "start_time": "2022-12-20T14:49:34.672Z"
   },
   {
    "duration": 26,
    "start_time": "2022-12-20T14:49:34.685Z"
   },
   {
    "duration": 181,
    "start_time": "2022-12-20T14:49:34.712Z"
   },
   {
    "duration": 13,
    "start_time": "2022-12-20T14:49:34.894Z"
   },
   {
    "duration": 12,
    "start_time": "2022-12-20T14:49:34.908Z"
   },
   {
    "duration": 12,
    "start_time": "2022-12-20T14:49:34.922Z"
   },
   {
    "duration": 12,
    "start_time": "2022-12-20T14:49:34.955Z"
   },
   {
    "duration": 21,
    "start_time": "2022-12-20T14:49:34.969Z"
   },
   {
    "duration": 186,
    "start_time": "2022-12-20T14:49:34.991Z"
   },
   {
    "duration": 7,
    "start_time": "2022-12-20T14:49:35.179Z"
   },
   {
    "duration": 23,
    "start_time": "2022-12-20T14:49:35.187Z"
   },
   {
    "duration": 19,
    "start_time": "2022-12-20T14:49:35.212Z"
   },
   {
    "duration": 17,
    "start_time": "2022-12-20T14:49:35.233Z"
   },
   {
    "duration": 25,
    "start_time": "2022-12-20T14:49:35.251Z"
   },
   {
    "duration": 13,
    "start_time": "2022-12-20T14:49:35.278Z"
   },
   {
    "duration": 45,
    "start_time": "2022-12-20T14:49:35.293Z"
   },
   {
    "duration": 29,
    "start_time": "2022-12-20T14:49:35.340Z"
   },
   {
    "duration": 20,
    "start_time": "2022-12-20T14:49:35.370Z"
   },
   {
    "duration": 21,
    "start_time": "2022-12-20T14:49:35.392Z"
   },
   {
    "duration": 29,
    "start_time": "2022-12-20T14:49:35.414Z"
   },
   {
    "duration": 25,
    "start_time": "2022-12-20T14:49:35.445Z"
   },
   {
    "duration": 14,
    "start_time": "2022-12-20T14:49:35.472Z"
   },
   {
    "duration": 15,
    "start_time": "2022-12-20T14:54:12.665Z"
   },
   {
    "duration": 13,
    "start_time": "2022-12-20T14:55:11.669Z"
   },
   {
    "duration": 17,
    "start_time": "2022-12-20T14:55:31.645Z"
   },
   {
    "duration": 16,
    "start_time": "2022-12-20T14:57:39.998Z"
   },
   {
    "duration": 162,
    "start_time": "2022-12-20T14:57:40.566Z"
   },
   {
    "duration": 492,
    "start_time": "2022-12-20T14:58:01.502Z"
   },
   {
    "duration": 17,
    "start_time": "2022-12-20T14:59:27.533Z"
   },
   {
    "duration": 186,
    "start_time": "2022-12-20T14:59:32.270Z"
   },
   {
    "duration": 289,
    "start_time": "2022-12-20T15:04:52.337Z"
   },
   {
    "duration": 216,
    "start_time": "2022-12-20T15:05:05.397Z"
   },
   {
    "duration": 236,
    "start_time": "2022-12-20T15:05:14.026Z"
   },
   {
    "duration": 68,
    "start_time": "2022-12-20T15:26:46.773Z"
   },
   {
    "duration": 1548,
    "start_time": "2022-12-20T15:26:52.793Z"
   },
   {
    "duration": 100,
    "start_time": "2022-12-20T15:26:54.343Z"
   },
   {
    "duration": 32,
    "start_time": "2022-12-20T15:26:54.445Z"
   },
   {
    "duration": 40,
    "start_time": "2022-12-20T15:26:54.480Z"
   },
   {
    "duration": 23,
    "start_time": "2022-12-20T15:26:54.525Z"
   },
   {
    "duration": 4,
    "start_time": "2022-12-20T15:26:54.550Z"
   },
   {
    "duration": 29,
    "start_time": "2022-12-20T15:26:54.556Z"
   },
   {
    "duration": 42,
    "start_time": "2022-12-20T15:26:54.587Z"
   },
   {
    "duration": 15,
    "start_time": "2022-12-20T15:26:54.631Z"
   },
   {
    "duration": 8,
    "start_time": "2022-12-20T15:26:54.649Z"
   },
   {
    "duration": 9,
    "start_time": "2022-12-20T15:26:54.659Z"
   },
   {
    "duration": 6,
    "start_time": "2022-12-20T15:26:54.671Z"
   },
   {
    "duration": 7,
    "start_time": "2022-12-20T15:26:54.679Z"
   },
   {
    "duration": 18,
    "start_time": "2022-12-20T15:26:54.688Z"
   },
   {
    "duration": 443,
    "start_time": "2022-12-20T15:26:54.714Z"
   },
   {
    "duration": 20,
    "start_time": "2022-12-20T15:26:55.160Z"
   },
   {
    "duration": 347,
    "start_time": "2022-12-20T15:26:55.182Z"
   },
   {
    "duration": 6448,
    "start_time": "2022-12-20T15:26:55.531Z"
   },
   {
    "duration": 46,
    "start_time": "2022-12-20T15:27:01.981Z"
   },
   {
    "duration": 36,
    "start_time": "2022-12-20T15:27:02.029Z"
   },
   {
    "duration": 8,
    "start_time": "2022-12-20T15:27:02.068Z"
   },
   {
    "duration": 13,
    "start_time": "2022-12-20T15:27:02.078Z"
   },
   {
    "duration": 52,
    "start_time": "2022-12-20T15:27:02.093Z"
   },
   {
    "duration": 219,
    "start_time": "2022-12-20T15:27:02.147Z"
   },
   {
    "duration": 15,
    "start_time": "2022-12-20T15:27:02.368Z"
   },
   {
    "duration": 33,
    "start_time": "2022-12-20T15:27:02.385Z"
   },
   {
    "duration": 22,
    "start_time": "2022-12-20T15:27:02.421Z"
   },
   {
    "duration": 17,
    "start_time": "2022-12-20T15:27:02.447Z"
   },
   {
    "duration": 36,
    "start_time": "2022-12-20T15:27:02.466Z"
   },
   {
    "duration": 229,
    "start_time": "2022-12-20T15:27:02.504Z"
   },
   {
    "duration": 18,
    "start_time": "2022-12-20T15:27:02.735Z"
   },
   {
    "duration": 218,
    "start_time": "2022-12-20T15:27:02.755Z"
   },
   {
    "duration": 329,
    "start_time": "2022-12-20T15:27:02.975Z"
   },
   {
    "duration": 24,
    "start_time": "2022-12-20T15:27:03.305Z"
   },
   {
    "duration": 9,
    "start_time": "2022-12-20T15:27:03.332Z"
   },
   {
    "duration": 14,
    "start_time": "2022-12-20T15:27:03.343Z"
   },
   {
    "duration": 16,
    "start_time": "2022-12-20T15:27:03.359Z"
   },
   {
    "duration": 18,
    "start_time": "2022-12-20T15:27:03.378Z"
   },
   {
    "duration": 22,
    "start_time": "2022-12-20T15:27:03.398Z"
   },
   {
    "duration": 35,
    "start_time": "2022-12-20T15:27:03.422Z"
   },
   {
    "duration": 12,
    "start_time": "2022-12-20T15:27:03.459Z"
   },
   {
    "duration": 19,
    "start_time": "2022-12-20T15:27:03.473Z"
   },
   {
    "duration": 34,
    "start_time": "2022-12-20T15:27:03.494Z"
   },
   {
    "duration": 28,
    "start_time": "2022-12-20T15:27:03.531Z"
   },
   {
    "duration": 32,
    "start_time": "2022-12-20T15:27:03.561Z"
   },
   {
    "duration": 24,
    "start_time": "2022-12-20T15:27:03.595Z"
   },
   {
    "duration": 348,
    "start_time": "2022-12-20T15:28:03.200Z"
   },
   {
    "duration": 344,
    "start_time": "2022-12-20T15:28:09.374Z"
   },
   {
    "duration": 355,
    "start_time": "2022-12-20T15:28:16.161Z"
   },
   {
    "duration": 342,
    "start_time": "2022-12-20T15:28:24.848Z"
   },
   {
    "duration": 579,
    "start_time": "2022-12-20T15:28:33.563Z"
   },
   {
    "duration": 307,
    "start_time": "2022-12-20T15:28:41.290Z"
   },
   {
    "duration": 17,
    "start_time": "2022-12-20T15:30:27.875Z"
   },
   {
    "duration": 195,
    "start_time": "2022-12-20T15:30:28.753Z"
   },
   {
    "duration": 337,
    "start_time": "2022-12-20T15:32:00.341Z"
   },
   {
    "duration": 166,
    "start_time": "2022-12-20T15:41:11.640Z"
   },
   {
    "duration": 4,
    "start_time": "2022-12-20T15:41:16.448Z"
   },
   {
    "duration": 9,
    "start_time": "2022-12-20T15:41:17.783Z"
   },
   {
    "duration": 28,
    "start_time": "2022-12-20T15:41:23.432Z"
   },
   {
    "duration": 184,
    "start_time": "2022-12-20T15:41:32.743Z"
   },
   {
    "duration": 234,
    "start_time": "2022-12-20T15:41:50.228Z"
   },
   {
    "duration": 200,
    "start_time": "2022-12-20T15:41:59.105Z"
   },
   {
    "duration": 190,
    "start_time": "2022-12-20T15:42:10.791Z"
   },
   {
    "duration": 333,
    "start_time": "2022-12-20T15:42:19.127Z"
   },
   {
    "duration": 208,
    "start_time": "2022-12-20T15:42:25.732Z"
   },
   {
    "duration": 236,
    "start_time": "2022-12-20T16:13:02.209Z"
   },
   {
    "duration": 277,
    "start_time": "2022-12-20T16:13:13.560Z"
   },
   {
    "duration": 264,
    "start_time": "2022-12-20T16:13:20.904Z"
   },
   {
    "duration": 191,
    "start_time": "2022-12-20T18:11:55.396Z"
   },
   {
    "duration": 17,
    "start_time": "2022-12-20T18:15:21.858Z"
   },
   {
    "duration": 24,
    "start_time": "2022-12-20T18:15:36.341Z"
   },
   {
    "duration": 204,
    "start_time": "2022-12-20T18:15:45.579Z"
   },
   {
    "duration": 207,
    "start_time": "2022-12-20T18:16:23.039Z"
   },
   {
    "duration": 198,
    "start_time": "2022-12-20T18:16:35.237Z"
   },
   {
    "duration": 7,
    "start_time": "2022-12-20T18:18:56.440Z"
   },
   {
    "duration": 5,
    "start_time": "2022-12-20T18:19:02.307Z"
   },
   {
    "duration": 196,
    "start_time": "2022-12-20T18:19:02.788Z"
   },
   {
    "duration": 8,
    "start_time": "2022-12-20T18:19:13.776Z"
   },
   {
    "duration": 7,
    "start_time": "2022-12-20T18:19:24.244Z"
   },
   {
    "duration": 5,
    "start_time": "2022-12-20T18:19:31.640Z"
   },
   {
    "duration": 25,
    "start_time": "2022-12-20T18:19:39.748Z"
   },
   {
    "duration": 25,
    "start_time": "2022-12-20T18:20:16.224Z"
   },
   {
    "duration": 7,
    "start_time": "2022-12-20T18:20:42.500Z"
   },
   {
    "duration": 16,
    "start_time": "2022-12-20T18:20:51.632Z"
   },
   {
    "duration": 17,
    "start_time": "2022-12-20T18:21:05.948Z"
   },
   {
    "duration": 351,
    "start_time": "2022-12-20T18:21:12.004Z"
   },
   {
    "duration": 182,
    "start_time": "2022-12-20T18:21:34.885Z"
   },
   {
    "duration": 30,
    "start_time": "2022-12-20T18:21:43.291Z"
   },
   {
    "duration": 153,
    "start_time": "2022-12-20T18:22:49.533Z"
   },
   {
    "duration": 7,
    "start_time": "2022-12-20T18:23:05.069Z"
   },
   {
    "duration": 29,
    "start_time": "2022-12-20T18:23:28.452Z"
   },
   {
    "duration": 4,
    "start_time": "2022-12-20T18:24:14.475Z"
   },
   {
    "duration": 210,
    "start_time": "2022-12-20T18:24:16.247Z"
   },
   {
    "duration": 200,
    "start_time": "2022-12-20T18:24:23.981Z"
   },
   {
    "duration": 220,
    "start_time": "2022-12-20T18:24:35.645Z"
   },
   {
    "duration": 12,
    "start_time": "2022-12-20T18:24:41.413Z"
   },
   {
    "duration": 209,
    "start_time": "2022-12-20T18:24:42.164Z"
   },
   {
    "duration": 4,
    "start_time": "2022-12-20T18:24:46.940Z"
   },
   {
    "duration": 193,
    "start_time": "2022-12-20T18:24:48.076Z"
   },
   {
    "duration": 1304,
    "start_time": "2022-12-20T18:24:56.685Z"
   },
   {
    "duration": 63,
    "start_time": "2022-12-20T18:24:57.992Z"
   },
   {
    "duration": 30,
    "start_time": "2022-12-20T18:24:58.057Z"
   },
   {
    "duration": 26,
    "start_time": "2022-12-20T18:24:58.089Z"
   },
   {
    "duration": 26,
    "start_time": "2022-12-20T18:24:58.116Z"
   },
   {
    "duration": 10,
    "start_time": "2022-12-20T18:24:58.144Z"
   },
   {
    "duration": 29,
    "start_time": "2022-12-20T18:24:58.156Z"
   },
   {
    "duration": 12,
    "start_time": "2022-12-20T18:24:58.188Z"
   },
   {
    "duration": 56,
    "start_time": "2022-12-20T18:24:58.202Z"
   },
   {
    "duration": 10,
    "start_time": "2022-12-20T18:24:58.262Z"
   },
   {
    "duration": 9,
    "start_time": "2022-12-20T18:24:58.273Z"
   },
   {
    "duration": 7,
    "start_time": "2022-12-20T18:24:58.284Z"
   },
   {
    "duration": 7,
    "start_time": "2022-12-20T18:24:58.293Z"
   },
   {
    "duration": 8,
    "start_time": "2022-12-20T18:24:58.301Z"
   },
   {
    "duration": 441,
    "start_time": "2022-12-20T18:24:58.311Z"
   },
   {
    "duration": 17,
    "start_time": "2022-12-20T18:24:58.754Z"
   },
   {
    "duration": 354,
    "start_time": "2022-12-20T18:24:58.773Z"
   },
   {
    "duration": 8107,
    "start_time": "2022-12-20T18:24:59.129Z"
   },
   {
    "duration": 25,
    "start_time": "2022-12-20T18:25:07.241Z"
   },
   {
    "duration": 22,
    "start_time": "2022-12-20T18:25:07.268Z"
   },
   {
    "duration": 5,
    "start_time": "2022-12-20T18:25:07.291Z"
   },
   {
    "duration": 52,
    "start_time": "2022-12-20T18:25:07.298Z"
   },
   {
    "duration": 27,
    "start_time": "2022-12-20T18:25:07.352Z"
   },
   {
    "duration": 216,
    "start_time": "2022-12-20T18:25:07.380Z"
   },
   {
    "duration": 37,
    "start_time": "2022-12-20T18:25:07.598Z"
   },
   {
    "duration": 13,
    "start_time": "2022-12-20T18:25:07.643Z"
   },
   {
    "duration": 15,
    "start_time": "2022-12-20T18:25:07.658Z"
   },
   {
    "duration": 4,
    "start_time": "2022-12-20T18:25:07.676Z"
   },
   {
    "duration": 213,
    "start_time": "2022-12-20T18:25:07.682Z"
   },
   {
    "duration": 34,
    "start_time": "2022-12-20T18:25:07.896Z"
   },
   {
    "duration": 243,
    "start_time": "2022-12-20T18:25:07.931Z"
   },
   {
    "duration": 19,
    "start_time": "2022-12-20T18:25:08.177Z"
   },
   {
    "duration": 248,
    "start_time": "2022-12-20T18:25:08.198Z"
   },
   {
    "duration": 316,
    "start_time": "2022-12-20T18:25:08.448Z"
   },
   {
    "duration": 7,
    "start_time": "2022-12-20T18:25:08.766Z"
   },
   {
    "duration": 11,
    "start_time": "2022-12-20T18:25:08.775Z"
   },
   {
    "duration": 10,
    "start_time": "2022-12-20T18:25:08.788Z"
   },
   {
    "duration": 18,
    "start_time": "2022-12-20T18:25:08.812Z"
   },
   {
    "duration": 24,
    "start_time": "2022-12-20T18:25:08.831Z"
   },
   {
    "duration": 10,
    "start_time": "2022-12-20T18:25:08.856Z"
   },
   {
    "duration": 9,
    "start_time": "2022-12-20T18:25:08.868Z"
   },
   {
    "duration": 18,
    "start_time": "2022-12-20T18:25:08.879Z"
   },
   {
    "duration": 9,
    "start_time": "2022-12-20T18:25:08.898Z"
   },
   {
    "duration": 12,
    "start_time": "2022-12-20T18:25:08.908Z"
   },
   {
    "duration": 34,
    "start_time": "2022-12-20T18:25:08.927Z"
   },
   {
    "duration": 20,
    "start_time": "2022-12-20T18:25:08.962Z"
   },
   {
    "duration": 6,
    "start_time": "2022-12-20T18:25:08.984Z"
   },
   {
    "duration": 4,
    "start_time": "2022-12-20T18:26:00.388Z"
   },
   {
    "duration": 243,
    "start_time": "2022-12-20T18:26:01.197Z"
   },
   {
    "duration": 10,
    "start_time": "2022-12-20T18:26:13.256Z"
   },
   {
    "duration": 10,
    "start_time": "2022-12-20T18:26:26.796Z"
   },
   {
    "duration": 277,
    "start_time": "2022-12-20T18:26:27.684Z"
   },
   {
    "duration": 4,
    "start_time": "2022-12-20T18:26:39.996Z"
   },
   {
    "duration": 233,
    "start_time": "2022-12-20T18:26:41.812Z"
   },
   {
    "duration": 213,
    "start_time": "2022-12-20T18:26:58.241Z"
   },
   {
    "duration": 209,
    "start_time": "2022-12-20T18:27:15.747Z"
   },
   {
    "duration": 16,
    "start_time": "2022-12-20T18:27:18.038Z"
   },
   {
    "duration": 1342,
    "start_time": "2022-12-20T18:27:45.836Z"
   },
   {
    "duration": 66,
    "start_time": "2022-12-20T18:27:47.180Z"
   },
   {
    "duration": 31,
    "start_time": "2022-12-20T18:27:47.251Z"
   },
   {
    "duration": 49,
    "start_time": "2022-12-20T18:27:47.285Z"
   },
   {
    "duration": 17,
    "start_time": "2022-12-20T18:27:47.336Z"
   },
   {
    "duration": 6,
    "start_time": "2022-12-20T18:27:47.355Z"
   },
   {
    "duration": 19,
    "start_time": "2022-12-20T18:27:47.363Z"
   },
   {
    "duration": 9,
    "start_time": "2022-12-20T18:27:47.384Z"
   },
   {
    "duration": 61,
    "start_time": "2022-12-20T18:27:47.395Z"
   },
   {
    "duration": 9,
    "start_time": "2022-12-20T18:27:47.458Z"
   },
   {
    "duration": 6,
    "start_time": "2022-12-20T18:27:47.468Z"
   },
   {
    "duration": 5,
    "start_time": "2022-12-20T18:27:47.476Z"
   },
   {
    "duration": 6,
    "start_time": "2022-12-20T18:27:47.485Z"
   },
   {
    "duration": 10,
    "start_time": "2022-12-20T18:27:47.493Z"
   },
   {
    "duration": 447,
    "start_time": "2022-12-20T18:27:47.505Z"
   },
   {
    "duration": 18,
    "start_time": "2022-12-20T18:27:47.954Z"
   },
   {
    "duration": 367,
    "start_time": "2022-12-20T18:27:47.974Z"
   },
   {
    "duration": 6635,
    "start_time": "2022-12-20T18:27:48.342Z"
   },
   {
    "duration": 35,
    "start_time": "2022-12-20T18:27:54.980Z"
   },
   {
    "duration": 29,
    "start_time": "2022-12-20T18:27:55.016Z"
   },
   {
    "duration": 18,
    "start_time": "2022-12-20T18:27:55.047Z"
   },
   {
    "duration": 14,
    "start_time": "2022-12-20T18:27:55.067Z"
   },
   {
    "duration": 49,
    "start_time": "2022-12-20T18:27:55.083Z"
   },
   {
    "duration": 232,
    "start_time": "2022-12-20T18:27:55.140Z"
   },
   {
    "duration": 14,
    "start_time": "2022-12-20T18:27:55.373Z"
   },
   {
    "duration": 29,
    "start_time": "2022-12-20T18:27:55.389Z"
   },
   {
    "duration": 35,
    "start_time": "2022-12-20T18:27:55.421Z"
   },
   {
    "duration": 13,
    "start_time": "2022-12-20T18:27:55.458Z"
   },
   {
    "duration": 188,
    "start_time": "2022-12-20T18:27:55.473Z"
   },
   {
    "duration": 16,
    "start_time": "2022-12-20T18:27:55.663Z"
   },
   {
    "duration": 207,
    "start_time": "2022-12-20T18:27:55.681Z"
   },
   {
    "duration": 36,
    "start_time": "2022-12-20T18:27:55.890Z"
   },
   {
    "duration": 182,
    "start_time": "2022-12-20T18:27:55.927Z"
   },
   {
    "duration": 341,
    "start_time": "2022-12-20T18:27:56.111Z"
   },
   {
    "duration": 10,
    "start_time": "2022-12-20T18:27:56.454Z"
   },
   {
    "duration": 13,
    "start_time": "2022-12-20T18:27:56.466Z"
   },
   {
    "duration": 30,
    "start_time": "2022-12-20T18:27:56.482Z"
   },
   {
    "duration": 18,
    "start_time": "2022-12-20T18:27:56.514Z"
   },
   {
    "duration": 26,
    "start_time": "2022-12-20T18:27:56.537Z"
   },
   {
    "duration": 14,
    "start_time": "2022-12-20T18:27:56.567Z"
   },
   {
    "duration": 18,
    "start_time": "2022-12-20T18:27:56.584Z"
   },
   {
    "duration": 67,
    "start_time": "2022-12-20T18:27:56.605Z"
   },
   {
    "duration": 11,
    "start_time": "2022-12-20T18:27:56.675Z"
   },
   {
    "duration": 14,
    "start_time": "2022-12-20T18:27:56.688Z"
   },
   {
    "duration": 21,
    "start_time": "2022-12-20T18:27:56.705Z"
   },
   {
    "duration": 33,
    "start_time": "2022-12-20T18:27:56.731Z"
   },
   {
    "duration": 16,
    "start_time": "2022-12-20T18:27:56.766Z"
   },
   {
    "duration": 24,
    "start_time": "2022-12-20T18:28:37.766Z"
   },
   {
    "duration": 5,
    "start_time": "2022-12-20T18:29:10.396Z"
   },
   {
    "duration": 4,
    "start_time": "2022-12-20T18:29:31.906Z"
   },
   {
    "duration": 5,
    "start_time": "2022-12-20T18:30:26.586Z"
   },
   {
    "duration": 32,
    "start_time": "2022-12-20T18:30:34.395Z"
   },
   {
    "duration": 4,
    "start_time": "2022-12-20T18:30:53.652Z"
   },
   {
    "duration": 1300,
    "start_time": "2022-12-20T18:32:23.355Z"
   },
   {
    "duration": 61,
    "start_time": "2022-12-20T18:32:24.657Z"
   },
   {
    "duration": 50,
    "start_time": "2022-12-20T18:32:24.719Z"
   },
   {
    "duration": 26,
    "start_time": "2022-12-20T18:32:24.775Z"
   },
   {
    "duration": 32,
    "start_time": "2022-12-20T18:32:24.804Z"
   },
   {
    "duration": 22,
    "start_time": "2022-12-20T18:32:24.838Z"
   },
   {
    "duration": 33,
    "start_time": "2022-12-20T18:32:24.863Z"
   },
   {
    "duration": 51,
    "start_time": "2022-12-20T18:32:24.898Z"
   },
   {
    "duration": 23,
    "start_time": "2022-12-20T18:32:24.956Z"
   },
   {
    "duration": 11,
    "start_time": "2022-12-20T18:32:24.983Z"
   },
   {
    "duration": 18,
    "start_time": "2022-12-20T18:32:24.996Z"
   },
   {
    "duration": 51,
    "start_time": "2022-12-20T18:32:25.016Z"
   },
   {
    "duration": 30,
    "start_time": "2022-12-20T18:32:25.069Z"
   },
   {
    "duration": 10,
    "start_time": "2022-12-20T18:32:25.102Z"
   },
   {
    "duration": 49,
    "start_time": "2022-12-20T18:32:25.115Z"
   },
   {
    "duration": 469,
    "start_time": "2022-12-20T18:32:25.167Z"
   },
   {
    "duration": 25,
    "start_time": "2022-12-20T18:32:25.637Z"
   },
   {
    "duration": 353,
    "start_time": "2022-12-20T18:32:25.664Z"
   },
   {
    "duration": 6885,
    "start_time": "2022-12-20T18:32:26.019Z"
   },
   {
    "duration": 37,
    "start_time": "2022-12-20T18:32:32.907Z"
   },
   {
    "duration": 45,
    "start_time": "2022-12-20T18:32:32.947Z"
   },
   {
    "duration": 9,
    "start_time": "2022-12-20T18:32:32.994Z"
   },
   {
    "duration": 65,
    "start_time": "2022-12-20T18:32:33.005Z"
   },
   {
    "duration": 34,
    "start_time": "2022-12-20T18:32:33.072Z"
   },
   {
    "duration": 258,
    "start_time": "2022-12-20T18:32:33.108Z"
   },
   {
    "duration": 16,
    "start_time": "2022-12-20T18:32:33.369Z"
   },
   {
    "duration": 26,
    "start_time": "2022-12-20T18:32:33.388Z"
   },
   {
    "duration": 22,
    "start_time": "2022-12-20T18:32:33.419Z"
   },
   {
    "duration": 22,
    "start_time": "2022-12-20T18:32:33.446Z"
   },
   {
    "duration": 208,
    "start_time": "2022-12-20T18:32:33.471Z"
   },
   {
    "duration": 17,
    "start_time": "2022-12-20T18:32:33.681Z"
   },
   {
    "duration": 234,
    "start_time": "2022-12-20T18:32:33.700Z"
   },
   {
    "duration": 28,
    "start_time": "2022-12-20T18:32:33.941Z"
   },
   {
    "duration": 212,
    "start_time": "2022-12-20T18:32:33.970Z"
   },
   {
    "duration": 364,
    "start_time": "2022-12-20T18:32:34.184Z"
   },
   {
    "duration": 9,
    "start_time": "2022-12-20T18:32:34.549Z"
   },
   {
    "duration": 12,
    "start_time": "2022-12-20T18:32:34.560Z"
   },
   {
    "duration": 16,
    "start_time": "2022-12-20T18:32:34.574Z"
   },
   {
    "duration": 23,
    "start_time": "2022-12-20T18:32:34.593Z"
   },
   {
    "duration": 31,
    "start_time": "2022-12-20T18:32:34.625Z"
   },
   {
    "duration": 9,
    "start_time": "2022-12-20T18:32:34.658Z"
   },
   {
    "duration": 11,
    "start_time": "2022-12-20T18:32:34.669Z"
   },
   {
    "duration": 10,
    "start_time": "2022-12-20T18:32:34.682Z"
   },
   {
    "duration": 14,
    "start_time": "2022-12-20T18:32:34.694Z"
   },
   {
    "duration": 38,
    "start_time": "2022-12-20T18:32:34.715Z"
   },
   {
    "duration": 8,
    "start_time": "2022-12-20T18:32:34.754Z"
   },
   {
    "duration": 19,
    "start_time": "2022-12-20T18:32:34.764Z"
   },
   {
    "duration": 7,
    "start_time": "2022-12-20T18:32:34.785Z"
   },
   {
    "duration": 24,
    "start_time": "2022-12-20T18:33:30.325Z"
   },
   {
    "duration": 205,
    "start_time": "2022-12-20T18:33:36.341Z"
   },
   {
    "duration": 14,
    "start_time": "2022-12-20T18:34:05.780Z"
   },
   {
    "duration": 21,
    "start_time": "2022-12-20T18:34:15.099Z"
   },
   {
    "duration": 15,
    "start_time": "2022-12-20T18:34:22.229Z"
   },
   {
    "duration": 192,
    "start_time": "2022-12-20T18:34:42.587Z"
   },
   {
    "duration": 201,
    "start_time": "2022-12-20T18:34:57.867Z"
   },
   {
    "duration": 13,
    "start_time": "2022-12-20T18:35:07.465Z"
   },
   {
    "duration": 222,
    "start_time": "2022-12-20T18:35:17.308Z"
   },
   {
    "duration": 54,
    "start_time": "2023-07-23T12:11:00.298Z"
   },
   {
    "duration": 421,
    "start_time": "2023-07-23T13:25:44.534Z"
   },
   {
    "duration": 61,
    "start_time": "2023-07-23T13:28:29.834Z"
   },
   {
    "duration": 125,
    "start_time": "2023-07-23T13:28:34.668Z"
   },
   {
    "duration": 19,
    "start_time": "2023-07-23T13:28:35.411Z"
   },
   {
    "duration": 17,
    "start_time": "2023-07-23T13:29:47.846Z"
   },
   {
    "duration": 12,
    "start_time": "2023-07-23T13:30:28.563Z"
   },
   {
    "duration": 35,
    "start_time": "2023-07-23T13:31:00.334Z"
   },
   {
    "duration": 4,
    "start_time": "2023-07-23T13:33:31.459Z"
   },
   {
    "duration": 7,
    "start_time": "2023-07-23T13:33:43.247Z"
   },
   {
    "duration": 5,
    "start_time": "2023-07-23T13:57:12.393Z"
   },
   {
    "duration": 17,
    "start_time": "2023-07-23T13:57:20.931Z"
   },
   {
    "duration": 5,
    "start_time": "2023-07-23T13:57:29.663Z"
   },
   {
    "duration": 29,
    "start_time": "2023-07-23T13:58:37.589Z"
   },
   {
    "duration": 9,
    "start_time": "2023-07-23T13:58:50.790Z"
   },
   {
    "duration": 37,
    "start_time": "2023-07-23T13:59:46.655Z"
   },
   {
    "duration": 12,
    "start_time": "2023-07-23T13:59:49.534Z"
   },
   {
    "duration": 4,
    "start_time": "2023-07-23T14:06:55.451Z"
   },
   {
    "duration": 17,
    "start_time": "2023-07-23T14:07:07.507Z"
   },
   {
    "duration": 25,
    "start_time": "2023-07-23T14:07:18.515Z"
   },
   {
    "duration": 16,
    "start_time": "2023-07-23T14:07:26.792Z"
   },
   {
    "duration": 4,
    "start_time": "2023-07-23T14:08:00.388Z"
   },
   {
    "duration": 10,
    "start_time": "2023-07-23T14:08:07.693Z"
   },
   {
    "duration": 6,
    "start_time": "2023-07-23T14:08:16.993Z"
   },
   {
    "duration": 5,
    "start_time": "2023-07-23T14:09:10.147Z"
   },
   {
    "duration": 9,
    "start_time": "2023-07-23T14:09:10.493Z"
   },
   {
    "duration": 4,
    "start_time": "2023-07-23T14:10:10.567Z"
   },
   {
    "duration": 9,
    "start_time": "2023-07-23T14:10:30.715Z"
   },
   {
    "duration": 11,
    "start_time": "2023-07-23T14:12:09.452Z"
   },
   {
    "duration": 31,
    "start_time": "2023-07-23T14:14:17.495Z"
   },
   {
    "duration": 16,
    "start_time": "2023-07-23T14:15:37.824Z"
   },
   {
    "duration": 19,
    "start_time": "2023-07-23T14:16:17.305Z"
   },
   {
    "duration": 17,
    "start_time": "2023-07-23T14:17:05.313Z"
   },
   {
    "duration": 12,
    "start_time": "2023-07-23T14:18:31.625Z"
   },
   {
    "duration": 402,
    "start_time": "2023-07-23T14:22:39.442Z"
   },
   {
    "duration": 75,
    "start_time": "2023-07-23T14:22:39.846Z"
   },
   {
    "duration": 18,
    "start_time": "2023-07-23T14:22:39.922Z"
   },
   {
    "duration": 29,
    "start_time": "2023-07-23T14:22:39.942Z"
   },
   {
    "duration": 10,
    "start_time": "2023-07-23T14:22:39.972Z"
   },
   {
    "duration": 33,
    "start_time": "2023-07-23T14:22:39.983Z"
   },
   {
    "duration": 72,
    "start_time": "2023-07-23T14:22:40.018Z"
   },
   {
    "duration": 4,
    "start_time": "2023-07-23T14:22:40.093Z"
   },
   {
    "duration": 10,
    "start_time": "2023-07-23T14:22:40.100Z"
   },
   {
    "duration": 22,
    "start_time": "2023-07-23T14:22:40.112Z"
   },
   {
    "duration": 12,
    "start_time": "2023-07-23T14:22:40.135Z"
   },
   {
    "duration": 13,
    "start_time": "2023-07-23T14:22:40.149Z"
   },
   {
    "duration": 14,
    "start_time": "2023-07-23T14:22:40.164Z"
   },
   {
    "duration": 6,
    "start_time": "2023-07-23T14:22:40.179Z"
   },
   {
    "duration": 33,
    "start_time": "2023-07-23T14:22:40.186Z"
   },
   {
    "duration": 26,
    "start_time": "2023-07-23T14:22:40.220Z"
   },
   {
    "duration": 16,
    "start_time": "2023-07-23T14:22:40.247Z"
   },
   {
    "duration": 4,
    "start_time": "2023-07-23T14:22:40.265Z"
   },
   {
    "duration": 10,
    "start_time": "2023-07-23T14:22:40.271Z"
   },
   {
    "duration": 7,
    "start_time": "2023-07-23T14:22:40.282Z"
   },
   {
    "duration": 4,
    "start_time": "2023-07-23T14:22:40.290Z"
   },
   {
    "duration": 16,
    "start_time": "2023-07-23T14:22:40.295Z"
   },
   {
    "duration": 12,
    "start_time": "2023-07-23T14:22:40.313Z"
   },
   {
    "duration": 13,
    "start_time": "2023-07-23T14:22:40.326Z"
   },
   {
    "duration": 38,
    "start_time": "2023-07-23T14:22:40.340Z"
   },
   {
    "duration": 10,
    "start_time": "2023-07-23T14:22:40.380Z"
   },
   {
    "duration": 16,
    "start_time": "2023-07-23T14:22:40.392Z"
   },
   {
    "duration": 13,
    "start_time": "2023-07-23T14:22:40.411Z"
   }
  ],
  "kernelspec": {
   "display_name": "Python 3 (ipykernel)",
   "language": "python",
   "name": "python3"
  },
  "language_info": {
   "codemirror_mode": {
    "name": "ipython",
    "version": 3
   },
   "file_extension": ".py",
   "mimetype": "text/x-python",
   "name": "python",
   "nbconvert_exporter": "python",
   "pygments_lexer": "ipython3",
   "version": "3.9.5"
  },
  "toc": {
   "base_numbering": 1,
   "nav_menu": {},
   "number_sections": true,
   "sideBar": true,
   "skip_h1_title": true,
   "title_cell": "Table of Contents",
   "title_sidebar": "Contents",
   "toc_cell": true,
   "toc_position": {
    "height": "calc(100% - 180px)",
    "left": "10px",
    "top": "150px",
    "width": "382.237px"
   },
   "toc_section_display": true,
   "toc_window_display": true
  }
 },
 "nbformat": 4,
 "nbformat_minor": 2
}
