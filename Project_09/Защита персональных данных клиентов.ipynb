{
 "cells": [
  {
   "cell_type": "markdown",
   "id": "1f1bb3fe",
   "metadata": {},
   "source": [
    "# Защита персональных данных клиентов"
   ]
  },
  {
   "cell_type": "markdown",
   "id": "fec9e082",
   "metadata": {},
   "source": [
    "Вам нужно защитить данные клиентов страховой компании. Разработайте такой метод преобразования данных, чтобы по ним было сложно восстановить персональную информацию. Обоснуйте корректность его работы.\n",
    "\n",
    "Нужно защитить данные, чтобы при преобразовании качество моделей машинного обучения не ухудшилось. Подбирать наилучшую модель не требуется."
   ]
  },
  {
   "cell_type": "markdown",
   "id": "2cc9c440",
   "metadata": {
    "toc": true
   },
   "source": [
    "# Оглавление<a name=\"Оглавление\"></a>"
   ]
  },
  {
   "cell_type": "markdown",
   "id": "1092fe43",
   "metadata": {
    "toc": true
   },
   "source": [
    "- 1. [Загрузка данных](#Загрузка)\n",
    "  - 1.1. [Вывод](#Вывод)\n",
    "- 2. [Умножение матриц](#Умножение)\n",
    "- 3. [Алгоритм преобразования](#Алгоритм)\n",
    "- 4. [Проверка алгоритма](#Проверка)\n",
    "  - 4.1. [Обучим и сравним показатель r2_score](#Обучим)\n",
    "- 5. [Вывод](#Вывод_)"
   ]
  },
  {
   "cell_type": "markdown",
   "id": "4cf6c418",
   "metadata": {},
   "source": [
    "## 1. Загрузка данных<a name=\"Загрузка\"></a>"
   ]
  },
  {
   "cell_type": "code",
   "execution_count": 1,
   "id": "bf1e892f",
   "metadata": {},
   "outputs": [],
   "source": [
    "import pandas as pd\n",
    "import numpy as np\n",
    "from sklearn.datasets import make_spd_matrix\n",
    "from sklearn.linear_model import LinearRegression\n",
    "from sklearn.metrics import r2_score"
   ]
  },
  {
   "cell_type": "code",
   "execution_count": 2,
   "id": "3cf49332",
   "metadata": {},
   "outputs": [],
   "source": [
    "try:\n",
    "    df = pd.read_csv('/datasets/insurance.csv')\n",
    "except:\n",
    "    df = pd.read_csv('./datasets/insurance.csv')"
   ]
  },
  {
   "cell_type": "code",
   "execution_count": 3,
   "id": "309eda27",
   "metadata": {},
   "outputs": [
    {
     "data": {
      "text/html": [
       "<div>\n",
       "<style scoped>\n",
       "    .dataframe tbody tr th:only-of-type {\n",
       "        vertical-align: middle;\n",
       "    }\n",
       "\n",
       "    .dataframe tbody tr th {\n",
       "        vertical-align: top;\n",
       "    }\n",
       "\n",
       "    .dataframe thead th {\n",
       "        text-align: right;\n",
       "    }\n",
       "</style>\n",
       "<table border=\"1\" class=\"dataframe\">\n",
       "  <thead>\n",
       "    <tr style=\"text-align: right;\">\n",
       "      <th></th>\n",
       "      <th>Пол</th>\n",
       "      <th>Возраст</th>\n",
       "      <th>Зарплата</th>\n",
       "      <th>Члены семьи</th>\n",
       "      <th>Страховые выплаты</th>\n",
       "    </tr>\n",
       "  </thead>\n",
       "  <tbody>\n",
       "    <tr>\n",
       "      <th>0</th>\n",
       "      <td>1</td>\n",
       "      <td>41.0</td>\n",
       "      <td>49600.0</td>\n",
       "      <td>1</td>\n",
       "      <td>0</td>\n",
       "    </tr>\n",
       "    <tr>\n",
       "      <th>1</th>\n",
       "      <td>0</td>\n",
       "      <td>46.0</td>\n",
       "      <td>38000.0</td>\n",
       "      <td>1</td>\n",
       "      <td>1</td>\n",
       "    </tr>\n",
       "    <tr>\n",
       "      <th>2</th>\n",
       "      <td>0</td>\n",
       "      <td>29.0</td>\n",
       "      <td>21000.0</td>\n",
       "      <td>0</td>\n",
       "      <td>0</td>\n",
       "    </tr>\n",
       "    <tr>\n",
       "      <th>3</th>\n",
       "      <td>0</td>\n",
       "      <td>21.0</td>\n",
       "      <td>41700.0</td>\n",
       "      <td>2</td>\n",
       "      <td>0</td>\n",
       "    </tr>\n",
       "    <tr>\n",
       "      <th>4</th>\n",
       "      <td>1</td>\n",
       "      <td>28.0</td>\n",
       "      <td>26100.0</td>\n",
       "      <td>0</td>\n",
       "      <td>0</td>\n",
       "    </tr>\n",
       "  </tbody>\n",
       "</table>\n",
       "</div>"
      ],
      "text/plain": [
       "   Пол  Возраст  Зарплата  Члены семьи  Страховые выплаты\n",
       "0    1     41.0   49600.0            1                  0\n",
       "1    0     46.0   38000.0            1                  1\n",
       "2    0     29.0   21000.0            0                  0\n",
       "3    0     21.0   41700.0            2                  0\n",
       "4    1     28.0   26100.0            0                  0"
      ]
     },
     "execution_count": 3,
     "metadata": {},
     "output_type": "execute_result"
    }
   ],
   "source": [
    "df.head(5)"
   ]
  },
  {
   "cell_type": "code",
   "execution_count": 4,
   "id": "f309ad8c",
   "metadata": {},
   "outputs": [
    {
     "name": "stdout",
     "output_type": "stream",
     "text": [
      "<class 'pandas.core.frame.DataFrame'>\n",
      "RangeIndex: 5000 entries, 0 to 4999\n",
      "Data columns (total 5 columns):\n",
      " #   Column             Non-Null Count  Dtype  \n",
      "---  ------             --------------  -----  \n",
      " 0   Пол                5000 non-null   int64  \n",
      " 1   Возраст            5000 non-null   float64\n",
      " 2   Зарплата           5000 non-null   float64\n",
      " 3   Члены семьи        5000 non-null   int64  \n",
      " 4   Страховые выплаты  5000 non-null   int64  \n",
      "dtypes: float64(2), int64(3)\n",
      "memory usage: 195.4 KB\n"
     ]
    }
   ],
   "source": [
    "df.info()"
   ]
  },
  {
   "cell_type": "code",
   "execution_count": 5,
   "id": "d316b9cc",
   "metadata": {},
   "outputs": [
    {
     "data": {
      "text/plain": [
       "Пол                  0\n",
       "Возраст              0\n",
       "Зарплата             0\n",
       "Члены семьи          0\n",
       "Страховые выплаты    0\n",
       "dtype: int64"
      ]
     },
     "execution_count": 5,
     "metadata": {},
     "output_type": "execute_result"
    }
   ],
   "source": [
    "df.isna().sum()"
   ]
  },
  {
   "cell_type": "code",
   "execution_count": 6,
   "id": "b0a24b34",
   "metadata": {},
   "outputs": [
    {
     "name": "stdout",
     "output_type": "stream",
     "text": [
      "<class 'pandas.core.frame.DataFrame'>\n",
      "RangeIndex: 5000 entries, 0 to 4999\n",
      "Data columns (total 5 columns):\n",
      " #   Column             Non-Null Count  Dtype  \n",
      "---  ------             --------------  -----  \n",
      " 0   Пол                5000 non-null   int64  \n",
      " 1   Возраст            5000 non-null   float64\n",
      " 2   Зарплата           5000 non-null   float64\n",
      " 3   Члены семьи        5000 non-null   int64  \n",
      " 4   Страховые выплаты  5000 non-null   int64  \n",
      "dtypes: float64(2), int64(3)\n",
      "memory usage: 195.4 KB\n"
     ]
    }
   ],
   "source": [
    "df.info()"
   ]
  },
  {
   "cell_type": "markdown",
   "id": "3070b940",
   "metadata": {},
   "source": [
    "Преобразуем тип в инт, так как возраст в целых числах измеряется."
   ]
  },
  {
   "cell_type": "code",
   "execution_count": 7,
   "id": "fa16812e",
   "metadata": {},
   "outputs": [],
   "source": [
    "df['Возраст'] = df['Возраст'].astype('int')"
   ]
  },
  {
   "cell_type": "markdown",
   "id": "58a1591d",
   "metadata": {},
   "source": [
    "[К оглавлению](#Оглавление)"
   ]
  },
  {
   "cell_type": "markdown",
   "id": "189433bb",
   "metadata": {},
   "source": [
    "### 1.1. Вывод<a name=\"Вывод\"></a>\n",
    "\n",
    "Данные загружены и не имеют аномалий. Приведение типов позволит более быстро обращаться к данным."
   ]
  },
  {
   "cell_type": "markdown",
   "id": "d546563e",
   "metadata": {},
   "source": [
    "## 2. Умножение матриц<a name=\"Умножение\"></a>"
   ]
  },
  {
   "cell_type": "markdown",
   "id": "2f353e2c",
   "metadata": {},
   "source": [
    "В этом задании вы можете записывать формулы в *Jupyter Notebook.*\n",
    "\n",
    "Чтобы записать формулу внутри текста, окружите её символами доллара \\\\$; если снаружи —  двойными символами \\\\$\\\\$. Эти формулы записываются на языке вёрстки *LaTeX.* \n",
    "\n",
    "Для примера мы записали формулы линейной регрессии. Можете их скопировать и отредактировать, чтобы решить задачу.\n",
    "\n",
    "Работать в *LaTeX* необязательно."
   ]
  },
  {
   "cell_type": "markdown",
   "id": "2bf26781",
   "metadata": {},
   "source": [
    "Обозначения:\n",
    "\n",
    "- $X$ — матрица признаков (нулевой столбец состоит из единиц)\n",
    "\n",
    "- $y$ — вектор целевого признака\n",
    "\n",
    "- $P$ — матрица, на которую умножаются признаки\n",
    "\n",
    "- $w$ — вектор весов линейной регрессии (нулевой элемент равен сдвигу)"
   ]
  },
  {
   "cell_type": "markdown",
   "id": "c3a6c304",
   "metadata": {},
   "source": [
    "Предсказания:\n",
    "\n",
    "$$\n",
    "a = Xw\n",
    "$$\n",
    "\n",
    "Задача обучения:\n",
    "\n",
    "$$\n",
    "w = \\arg\\min_w MSE(Xw, y)\n",
    "$$\n",
    "\n",
    "Формула обучения:\n",
    "\n",
    "$$\n",
    "w = (X^T X)^{-1} X^T y\n",
    "$$"
   ]
  },
  {
   "cell_type": "markdown",
   "id": "ca1bc002",
   "metadata": {},
   "source": [
    "**Ответ:** Не изменится.\n",
    "\n",
    "**Обоснование:** \n",
    "\n",
    "Предсказания для новой матрицы:\n",
    "$$\n",
    "ap = XPw\n",
    "$$\n",
    "\n",
    "Вектор весов:\n",
    "$$\n",
    "w = ((XP)^T(XP))^{-1}(XP)^Ty\n",
    "$$\n",
    "\n",
    "Подставим в формулу расчёта предсказаний значение вектора весов:\n",
    "$$\n",
    "ap = (XP)((XP)^T(XP))^{-1}(XP)^Ty\n",
    "$$\n",
    "\n",
    "Раскроем скобки с транспонированием:\n",
    "$$\n",
    "ap = (XP)(P^TX^TXP)^{-1}P^TX^Ty\n",
    "$$\n",
    "\n",
    "Выносим *P* за скобки, так как она квадратная (по условию):\n",
    "$$\n",
    "ap = XPP^{-1}(X^TX)^{-1}(P^T)^{-1}P^TX^Ty\n",
    "$$\n",
    "\n",
    "Ввиду того, что выражения:\n",
    "$$\n",
    "PP^{-1}\n",
    "$$\n",
    "\n",
    "и\n",
    "$$\n",
    "P^T (P^T)^{-1}\n",
    "$$\n",
    "\n",
    "равны *E*, получаем:\n",
    "$$\n",
    "ap = X(X^T X)^{-1} X^T y\n",
    "$$\n",
    "\n",
    "Из чего следует:\n",
    "$$\n",
    "ap = Xw = a\n",
    "$$"
   ]
  },
  {
   "cell_type": "markdown",
   "id": "b65db769",
   "metadata": {},
   "source": [
    "[К оглавлению](#Оглавление)"
   ]
  },
  {
   "cell_type": "markdown",
   "id": "9e3e607e",
   "metadata": {},
   "source": [
    "## 3. Алгоритм преобразования<a name=\"Алгоритм\"></a>"
   ]
  },
  {
   "cell_type": "markdown",
   "id": "6cf50a0e",
   "metadata": {},
   "source": [
    "**Алгоритм**\n",
    "\n",
    "Запись в переменные признаков и целевого признака\n",
    "\n",
    "Создание рандомной обратной матрицы\n",
    "\n",
    "Обучение модели без преобразования\n",
    "\n",
    "Получение метрики R2 на модели без преобразования\n",
    "\n",
    "Умножение обратной матрицы на матрицу признаков\n",
    "\n",
    "Умножение признаков на обратимую матрицу\n",
    "\n",
    "Обучение модели на преобразованых данных\n",
    "\n",
    "Получение мерики R2 на преобразованых данных\n",
    "\n",
    "Сравнение метрик"
   ]
  },
  {
   "cell_type": "markdown",
   "id": "119f36fd",
   "metadata": {},
   "source": [
    "**Обоснование**\n",
    "\n",
    "Мы умножим наши признаки на квадратную невырожденную матрицу и сравним качество линейной регресии на двух матрицах: умноженной на квадратную невырожденную матрицу и не умноженой на неё."
   ]
  },
  {
   "cell_type": "markdown",
   "id": "c47b8c9c",
   "metadata": {},
   "source": [
    "[К оглавлению](#Оглавление)"
   ]
  },
  {
   "cell_type": "markdown",
   "id": "d4d7fea6",
   "metadata": {},
   "source": [
    "## 4. Проверка алгоритма<a name=\"Проверка\"></a>"
   ]
  },
  {
   "cell_type": "code",
   "execution_count": 8,
   "id": "819829f3",
   "metadata": {},
   "outputs": [],
   "source": [
    "X = df.drop(['Страховые выплаты'], axis=1)\n",
    "y = df['Страховые выплаты']"
   ]
  },
  {
   "cell_type": "code",
   "execution_count": 9,
   "id": "3e7a1ade",
   "metadata": {},
   "outputs": [],
   "source": [
    "X_sample = X.shape[1]\n",
    "det = 0\n",
    "while det == 0:\n",
    "    r = np.random.randint(100)\n",
    "    matrix_x = make_spd_matrix(n_dim = X_sample, random_state = r)\n",
    "    det = np.linalg.det(matrix_x)"
   ]
  },
  {
   "cell_type": "code",
   "execution_count": 10,
   "id": "366b024c",
   "metadata": {},
   "outputs": [
    {
     "data": {
      "text/plain": [
       "array([[ 67589.86983569,  25620.15937109,  54377.98235696,\n",
       "        -30693.77520317],\n",
       "       [ 51789.60774837,  19640.41519763,  41666.88781771,\n",
       "        -23519.26895626],\n",
       "       [ 28623.62910663,  10857.21510874,  23028.62589239,\n",
       "        -12999.59309383],\n",
       "       ...,\n",
       "       [ 46186.3644544 ,  17502.66683202,  37159.71359665,\n",
       "        -20972.56083894],\n",
       "       [ 44555.18984374,  16885.74653422,  35846.42207685,\n",
       "        -20230.68644503],\n",
       "       [ 55322.21726425,  20966.57117387,  44508.27651076,\n",
       "        -25122.31951978]])"
      ]
     },
     "execution_count": 10,
     "metadata": {},
     "output_type": "execute_result"
    }
   ],
   "source": [
    "X_new = X.values @ matrix_x\n",
    "X_new"
   ]
  },
  {
   "cell_type": "markdown",
   "id": "41777eae",
   "metadata": {},
   "source": [
    "[К оглавлению](#Оглавление)"
   ]
  },
  {
   "cell_type": "markdown",
   "id": "e9f4bca0",
   "metadata": {},
   "source": [
    "### 4.1. Обучим и сравним показатель r2_score<a name=\"Обучим\"></a>"
   ]
  },
  {
   "cell_type": "code",
   "execution_count": 11,
   "id": "ebd72407",
   "metadata": {},
   "outputs": [
    {
     "name": "stdout",
     "output_type": "stream",
     "text": [
      "True\n",
      "0.4249455028666801 0.42494550286667365\n"
     ]
    }
   ],
   "source": [
    "linreg = LinearRegression()\n",
    "\n",
    "linreg.fit(X, y)\n",
    "predict1 = linreg.predict(X)\n",
    "\n",
    "linreg.fit(X_new, y)\n",
    "predict2 = linreg.predict(X_new)\n",
    "\n",
    "print(np.isclose(r2_score(y, predict1), r2_score(y, predict2)))\n",
    "print(r2_score(y, predict1), r2_score(y, predict2))"
   ]
  },
  {
   "cell_type": "markdown",
   "id": "43cb0f8e",
   "metadata": {},
   "source": [
    "[К оглавлению](#Оглавление)"
   ]
  },
  {
   "cell_type": "markdown",
   "id": "31f5c83b",
   "metadata": {},
   "source": [
    "### 5. Вывод<a name=\"Вывод_\"></a>\n",
    "\n",
    "Качество линейной регрессии не изменилось, метрика R2 сильно не меняет совего значения, значит можно сделать вывод,что алгоритм преобразования данных работает правильно."
   ]
  }
 ],
 "metadata": {
  "kernelspec": {
   "display_name": "Python 3 (ipykernel)",
   "language": "python",
   "name": "python3"
  },
  "language_info": {
   "codemirror_mode": {
    "name": "ipython",
    "version": 3
   },
   "file_extension": ".py",
   "mimetype": "text/x-python",
   "name": "python",
   "nbconvert_exporter": "python",
   "pygments_lexer": "ipython3",
   "version": "3.9.13"
  }
 },
 "nbformat": 4,
 "nbformat_minor": 5
}
