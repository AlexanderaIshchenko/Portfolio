{
 "cells": [
  {
   "cell_type": "markdown",
   "metadata": {},
   "source": [
    "# Восстановление золота из руды"
   ]
  },
  {
   "cell_type": "markdown",
   "metadata": {},
   "source": [
    "Подготовьте прототип модели машинного обучения для «Цифры». Компания разрабатывает решения для эффективной работы промышленных предприятий.\n",
    "\n",
    "Модель должна предсказать коэффициент восстановления золота из золотосодержащей руды. Используйте данные с параметрами добычи и очистки. \n",
    "\n",
    "Модель поможет оптимизировать производство, чтобы не запускать предприятие с убыточными характеристиками.\n",
    "\n",
    "Вам нужно:\n",
    "\n",
    "1. Подготовить данные;\n",
    "2. Провести исследовательский анализ данных;\n",
    "3. Построить и обучить модель.\n",
    "\n",
    "Чтобы выполнить проект, обращайтесь к библиотекам *pandas*, *matplotlib* и *sklearn.* Вам поможет их документация."
   ]
  },
  {
   "cell_type": "markdown",
   "metadata": {
    "toc": true
   },
   "source": [
    "# Оглавление<a name=\"Оглавление\"></a>"
   ]
  },
  {
   "cell_type": "markdown",
   "metadata": {
    "toc": true
   },
   "source": [
    "- 1. [Подготовка данных](#Подготовка)\n",
    "  - 1.1. [Вывод по подготовке](#подготовке)\n",
    "- 2. [Проверка правильности расчета эффективности обогащения](#Проверка)\n",
    "  - 2.1. [Вывод по формуле](#формуле)\n",
    "  - 2.2. [Анализ признаков, недоступных в тестовой выборке](#Анализ)\n",
    "  - 2.3. [ Вывод по анализу признаков](#Вывод_по)\n",
    "- 3. [Предобработка данных](#Предобработка)\n",
    "  - 3.1. [Общий вывод по подготовке данных](#Общий)\n",
    "- 4. [Анализ данных](#Анализ_данных)\n",
    "  - 4.1. [Bывод по анализу](#Bывод_анализу)\n",
    "  - 4.2. [Построим гистаграммы по каждой из руд](#Построим)\n",
    "    - 4.2.1. [Bывод по гистограммам](#Bывод_гистограммам)\n",
    "    - 4.2.2. [Bывод по графику](#Bывод_графику)\n",
    "    - 4.2.3. [Bывод по графику](#Bыводпографику)\n",
    "  - 4.3. [Вывод по анализу данных](#Выводанализуданных)\n",
    "- 5. [Сравнение моделей](#Сравнение_моделей)\n",
    "  - 5.1. [LinearRegression](#LinearRegression)\n",
    "  - 5.2. [DecisionTreeRegressor](#DecisionTreeRegressor)\n",
    "  - 5.3. [RandomForestRegressor](#RandomForestRegressor)\n",
    "- 6. [Сравнение с константной моделью](#Сравнение)\n",
    "- 7. [Вывод](#Вывод)"
   ]
  },
  {
   "cell_type": "markdown",
   "metadata": {},
   "source": [
    "## 1. Подготовка данных<a name=\"Подготовка\"></a>"
   ]
  },
  {
   "cell_type": "code",
   "execution_count": 1,
   "metadata": {},
   "outputs": [],
   "source": [
    "import pandas as pd\n",
    "import numpy as np\n",
    "import matplotlib.pyplot as plt\n",
    "import seaborn as sns\n",
    "\n",
    "from sklearn.preprocessing import StandardScaler\n",
    "from sklearn.pipeline import  make_pipeline\n",
    "\n",
    "from sklearn.tree import DecisionTreeRegressor\n",
    "from sklearn.linear_model import LinearRegression\n",
    "from sklearn.ensemble import RandomForestRegressor\n",
    "\n",
    "from sklearn.metrics import mean_absolute_error\n",
    "from sklearn.metrics import make_scorer\n",
    "\n",
    "from sklearn.model_selection import cross_validate\n",
    "from sklearn.dummy import DummyRegressor\n",
    "from sklearn.model_selection import GridSearchCV"
   ]
  },
  {
   "cell_type": "code",
   "execution_count": 2,
   "metadata": {},
   "outputs": [],
   "source": [
    "data_train = pd.read_csv('/datasets/gold_recovery_train_new.csv')\n",
    "data_test = pd.read_csv('/datasets/gold_recovery_test_new.csv')\n",
    "data_full = pd.read_csv('/datasets/gold_recovery_full_new.csv')"
   ]
  },
  {
   "cell_type": "code",
   "execution_count": 3,
   "metadata": {},
   "outputs": [
    {
     "name": "stdout",
     "output_type": "stream",
     "text": [
      "<class 'pandas.core.frame.DataFrame'>\n",
      "RangeIndex: 14149 entries, 0 to 14148\n",
      "Data columns (total 87 columns):\n",
      " #   Column                                              Non-Null Count  Dtype  \n",
      "---  ------                                              --------------  -----  \n",
      " 0   date                                                14149 non-null  object \n",
      " 1   final.output.concentrate_ag                         14148 non-null  float64\n",
      " 2   final.output.concentrate_pb                         14148 non-null  float64\n",
      " 3   final.output.concentrate_sol                        13938 non-null  float64\n",
      " 4   final.output.concentrate_au                         14149 non-null  float64\n",
      " 5   final.output.recovery                               14149 non-null  float64\n",
      " 6   final.output.tail_ag                                14149 non-null  float64\n",
      " 7   final.output.tail_pb                                14049 non-null  float64\n",
      " 8   final.output.tail_sol                               14144 non-null  float64\n",
      " 9   final.output.tail_au                                14149 non-null  float64\n",
      " 10  primary_cleaner.input.sulfate                       14129 non-null  float64\n",
      " 11  primary_cleaner.input.depressant                    14117 non-null  float64\n",
      " 12  primary_cleaner.input.feed_size                     14149 non-null  float64\n",
      " 13  primary_cleaner.input.xanthate                      14049 non-null  float64\n",
      " 14  primary_cleaner.output.concentrate_ag               14149 non-null  float64\n",
      " 15  primary_cleaner.output.concentrate_pb               14063 non-null  float64\n",
      " 16  primary_cleaner.output.concentrate_sol              13863 non-null  float64\n",
      " 17  primary_cleaner.output.concentrate_au               14149 non-null  float64\n",
      " 18  primary_cleaner.output.tail_ag                      14148 non-null  float64\n",
      " 19  primary_cleaner.output.tail_pb                      14134 non-null  float64\n",
      " 20  primary_cleaner.output.tail_sol                     14103 non-null  float64\n",
      " 21  primary_cleaner.output.tail_au                      14149 non-null  float64\n",
      " 22  primary_cleaner.state.floatbank8_a_air              14145 non-null  float64\n",
      " 23  primary_cleaner.state.floatbank8_a_level            14148 non-null  float64\n",
      " 24  primary_cleaner.state.floatbank8_b_air              14145 non-null  float64\n",
      " 25  primary_cleaner.state.floatbank8_b_level            14148 non-null  float64\n",
      " 26  primary_cleaner.state.floatbank8_c_air              14147 non-null  float64\n",
      " 27  primary_cleaner.state.floatbank8_c_level            14148 non-null  float64\n",
      " 28  primary_cleaner.state.floatbank8_d_air              14146 non-null  float64\n",
      " 29  primary_cleaner.state.floatbank8_d_level            14148 non-null  float64\n",
      " 30  rougher.calculation.sulfate_to_au_concentrate       14148 non-null  float64\n",
      " 31  rougher.calculation.floatbank10_sulfate_to_au_feed  14148 non-null  float64\n",
      " 32  rougher.calculation.floatbank11_sulfate_to_au_feed  14148 non-null  float64\n",
      " 33  rougher.calculation.au_pb_ratio                     14149 non-null  float64\n",
      " 34  rougher.input.feed_ag                               14149 non-null  float64\n",
      " 35  rougher.input.feed_pb                               14049 non-null  float64\n",
      " 36  rougher.input.feed_rate                             14141 non-null  float64\n",
      " 37  rougher.input.feed_size                             14005 non-null  float64\n",
      " 38  rougher.input.feed_sol                              14071 non-null  float64\n",
      " 39  rougher.input.feed_au                               14149 non-null  float64\n",
      " 40  rougher.input.floatbank10_sulfate                   14120 non-null  float64\n",
      " 41  rougher.input.floatbank10_xanthate                  14141 non-null  float64\n",
      " 42  rougher.input.floatbank11_sulfate                   14113 non-null  float64\n",
      " 43  rougher.input.floatbank11_xanthate                  13721 non-null  float64\n",
      " 44  rougher.output.concentrate_ag                       14149 non-null  float64\n",
      " 45  rougher.output.concentrate_pb                       14149 non-null  float64\n",
      " 46  rougher.output.concentrate_sol                      14127 non-null  float64\n",
      " 47  rougher.output.concentrate_au                       14149 non-null  float64\n",
      " 48  rougher.output.recovery                             14149 non-null  float64\n",
      " 49  rougher.output.tail_ag                              14148 non-null  float64\n",
      " 50  rougher.output.tail_pb                              14149 non-null  float64\n",
      " 51  rougher.output.tail_sol                             14149 non-null  float64\n",
      " 52  rougher.output.tail_au                              14149 non-null  float64\n",
      " 53  rougher.state.floatbank10_a_air                     14148 non-null  float64\n",
      " 54  rougher.state.floatbank10_a_level                   14148 non-null  float64\n",
      " 55  rougher.state.floatbank10_b_air                     14148 non-null  float64\n",
      " 56  rougher.state.floatbank10_b_level                   14148 non-null  float64\n",
      " 57  rougher.state.floatbank10_c_air                     14148 non-null  float64\n",
      " 58  rougher.state.floatbank10_c_level                   14148 non-null  float64\n",
      " 59  rougher.state.floatbank10_d_air                     14149 non-null  float64\n",
      " 60  rougher.state.floatbank10_d_level                   14149 non-null  float64\n",
      " 61  rougher.state.floatbank10_e_air                     13713 non-null  float64\n",
      " 62  rougher.state.floatbank10_e_level                   14149 non-null  float64\n",
      " 63  rougher.state.floatbank10_f_air                     14149 non-null  float64\n",
      " 64  rougher.state.floatbank10_f_level                   14149 non-null  float64\n",
      " 65  secondary_cleaner.output.tail_ag                    14147 non-null  float64\n",
      " 66  secondary_cleaner.output.tail_pb                    14139 non-null  float64\n",
      " 67  secondary_cleaner.output.tail_sol                   12544 non-null  float64\n",
      " 68  secondary_cleaner.output.tail_au                    14149 non-null  float64\n",
      " 69  secondary_cleaner.state.floatbank2_a_air            13932 non-null  float64\n",
      " 70  secondary_cleaner.state.floatbank2_a_level          14148 non-null  float64\n",
      " 71  secondary_cleaner.state.floatbank2_b_air            14128 non-null  float64\n",
      " 72  secondary_cleaner.state.floatbank2_b_level          14148 non-null  float64\n",
      " 73  secondary_cleaner.state.floatbank3_a_air            14145 non-null  float64\n",
      " 74  secondary_cleaner.state.floatbank3_a_level          14148 non-null  float64\n",
      " 75  secondary_cleaner.state.floatbank3_b_air            14148 non-null  float64\n",
      " 76  secondary_cleaner.state.floatbank3_b_level          14148 non-null  float64\n",
      " 77  secondary_cleaner.state.floatbank4_a_air            14143 non-null  float64\n",
      " 78  secondary_cleaner.state.floatbank4_a_level          14148 non-null  float64\n",
      " 79  secondary_cleaner.state.floatbank4_b_air            14148 non-null  float64\n",
      " 80  secondary_cleaner.state.floatbank4_b_level          14148 non-null  float64\n",
      " 81  secondary_cleaner.state.floatbank5_a_air            14148 non-null  float64\n",
      " 82  secondary_cleaner.state.floatbank5_a_level          14148 non-null  float64\n",
      " 83  secondary_cleaner.state.floatbank5_b_air            14148 non-null  float64\n",
      " 84  secondary_cleaner.state.floatbank5_b_level          14148 non-null  float64\n",
      " 85  secondary_cleaner.state.floatbank6_a_air            14147 non-null  float64\n",
      " 86  secondary_cleaner.state.floatbank6_a_level          14148 non-null  float64\n",
      "dtypes: float64(86), object(1)\n",
      "memory usage: 9.4+ MB\n"
     ]
    },
    {
     "data": {
      "text/plain": [
       "None"
      ]
     },
     "metadata": {},
     "output_type": "display_data"
    },
    {
     "data": {
      "text/html": [
       "<div>\n",
       "<style scoped>\n",
       "    .dataframe tbody tr th:only-of-type {\n",
       "        vertical-align: middle;\n",
       "    }\n",
       "\n",
       "    .dataframe tbody tr th {\n",
       "        vertical-align: top;\n",
       "    }\n",
       "\n",
       "    .dataframe thead th {\n",
       "        text-align: right;\n",
       "    }\n",
       "</style>\n",
       "<table border=\"1\" class=\"dataframe\">\n",
       "  <thead>\n",
       "    <tr style=\"text-align: right;\">\n",
       "      <th></th>\n",
       "      <th>date</th>\n",
       "      <th>final.output.concentrate_ag</th>\n",
       "      <th>final.output.concentrate_pb</th>\n",
       "      <th>final.output.concentrate_sol</th>\n",
       "      <th>final.output.concentrate_au</th>\n",
       "      <th>final.output.recovery</th>\n",
       "      <th>final.output.tail_ag</th>\n",
       "      <th>final.output.tail_pb</th>\n",
       "      <th>final.output.tail_sol</th>\n",
       "      <th>final.output.tail_au</th>\n",
       "      <th>...</th>\n",
       "      <th>secondary_cleaner.state.floatbank4_a_air</th>\n",
       "      <th>secondary_cleaner.state.floatbank4_a_level</th>\n",
       "      <th>secondary_cleaner.state.floatbank4_b_air</th>\n",
       "      <th>secondary_cleaner.state.floatbank4_b_level</th>\n",
       "      <th>secondary_cleaner.state.floatbank5_a_air</th>\n",
       "      <th>secondary_cleaner.state.floatbank5_a_level</th>\n",
       "      <th>secondary_cleaner.state.floatbank5_b_air</th>\n",
       "      <th>secondary_cleaner.state.floatbank5_b_level</th>\n",
       "      <th>secondary_cleaner.state.floatbank6_a_air</th>\n",
       "      <th>secondary_cleaner.state.floatbank6_a_level</th>\n",
       "    </tr>\n",
       "  </thead>\n",
       "  <tbody>\n",
       "    <tr>\n",
       "      <th>0</th>\n",
       "      <td>2016-01-15 00:00:00</td>\n",
       "      <td>6.055403</td>\n",
       "      <td>9.889648</td>\n",
       "      <td>5.507324</td>\n",
       "      <td>42.192020</td>\n",
       "      <td>70.541216</td>\n",
       "      <td>10.411962</td>\n",
       "      <td>0.895447</td>\n",
       "      <td>16.904297</td>\n",
       "      <td>2.143149</td>\n",
       "      <td>...</td>\n",
       "      <td>14.016835</td>\n",
       "      <td>-502.488007</td>\n",
       "      <td>12.099931</td>\n",
       "      <td>-504.715942</td>\n",
       "      <td>9.925633</td>\n",
       "      <td>-498.310211</td>\n",
       "      <td>8.079666</td>\n",
       "      <td>-500.470978</td>\n",
       "      <td>14.151341</td>\n",
       "      <td>-605.841980</td>\n",
       "    </tr>\n",
       "    <tr>\n",
       "      <th>1</th>\n",
       "      <td>2016-01-15 01:00:00</td>\n",
       "      <td>6.029369</td>\n",
       "      <td>9.968944</td>\n",
       "      <td>5.257781</td>\n",
       "      <td>42.701629</td>\n",
       "      <td>69.266198</td>\n",
       "      <td>10.462676</td>\n",
       "      <td>0.927452</td>\n",
       "      <td>16.634514</td>\n",
       "      <td>2.224930</td>\n",
       "      <td>...</td>\n",
       "      <td>13.992281</td>\n",
       "      <td>-505.503262</td>\n",
       "      <td>11.950531</td>\n",
       "      <td>-501.331529</td>\n",
       "      <td>10.039245</td>\n",
       "      <td>-500.169983</td>\n",
       "      <td>7.984757</td>\n",
       "      <td>-500.582168</td>\n",
       "      <td>13.998353</td>\n",
       "      <td>-599.787184</td>\n",
       "    </tr>\n",
       "    <tr>\n",
       "      <th>2</th>\n",
       "      <td>2016-01-15 02:00:00</td>\n",
       "      <td>6.055926</td>\n",
       "      <td>10.213995</td>\n",
       "      <td>5.383759</td>\n",
       "      <td>42.657501</td>\n",
       "      <td>68.116445</td>\n",
       "      <td>10.507046</td>\n",
       "      <td>0.953716</td>\n",
       "      <td>16.208849</td>\n",
       "      <td>2.257889</td>\n",
       "      <td>...</td>\n",
       "      <td>14.015015</td>\n",
       "      <td>-502.520901</td>\n",
       "      <td>11.912783</td>\n",
       "      <td>-501.133383</td>\n",
       "      <td>10.070913</td>\n",
       "      <td>-500.129135</td>\n",
       "      <td>8.013877</td>\n",
       "      <td>-500.517572</td>\n",
       "      <td>14.028663</td>\n",
       "      <td>-601.427363</td>\n",
       "    </tr>\n",
       "    <tr>\n",
       "      <th>3</th>\n",
       "      <td>2016-01-15 03:00:00</td>\n",
       "      <td>6.047977</td>\n",
       "      <td>9.977019</td>\n",
       "      <td>4.858634</td>\n",
       "      <td>42.689819</td>\n",
       "      <td>68.347543</td>\n",
       "      <td>10.422762</td>\n",
       "      <td>0.883763</td>\n",
       "      <td>16.532835</td>\n",
       "      <td>2.146849</td>\n",
       "      <td>...</td>\n",
       "      <td>14.036510</td>\n",
       "      <td>-500.857308</td>\n",
       "      <td>11.999550</td>\n",
       "      <td>-501.193686</td>\n",
       "      <td>9.970366</td>\n",
       "      <td>-499.201640</td>\n",
       "      <td>7.977324</td>\n",
       "      <td>-500.255908</td>\n",
       "      <td>14.005551</td>\n",
       "      <td>-599.996129</td>\n",
       "    </tr>\n",
       "    <tr>\n",
       "      <th>4</th>\n",
       "      <td>2016-01-15 04:00:00</td>\n",
       "      <td>6.148599</td>\n",
       "      <td>10.142511</td>\n",
       "      <td>4.939416</td>\n",
       "      <td>42.774141</td>\n",
       "      <td>66.927016</td>\n",
       "      <td>10.360302</td>\n",
       "      <td>0.792826</td>\n",
       "      <td>16.525686</td>\n",
       "      <td>2.055292</td>\n",
       "      <td>...</td>\n",
       "      <td>14.027298</td>\n",
       "      <td>-499.838632</td>\n",
       "      <td>11.953070</td>\n",
       "      <td>-501.053894</td>\n",
       "      <td>9.925709</td>\n",
       "      <td>-501.686727</td>\n",
       "      <td>7.894242</td>\n",
       "      <td>-500.356035</td>\n",
       "      <td>13.996647</td>\n",
       "      <td>-601.496691</td>\n",
       "    </tr>\n",
       "  </tbody>\n",
       "</table>\n",
       "<p>5 rows × 87 columns</p>\n",
       "</div>"
      ],
      "text/plain": [
       "                  date  final.output.concentrate_ag  \\\n",
       "0  2016-01-15 00:00:00                     6.055403   \n",
       "1  2016-01-15 01:00:00                     6.029369   \n",
       "2  2016-01-15 02:00:00                     6.055926   \n",
       "3  2016-01-15 03:00:00                     6.047977   \n",
       "4  2016-01-15 04:00:00                     6.148599   \n",
       "\n",
       "   final.output.concentrate_pb  final.output.concentrate_sol  \\\n",
       "0                     9.889648                      5.507324   \n",
       "1                     9.968944                      5.257781   \n",
       "2                    10.213995                      5.383759   \n",
       "3                     9.977019                      4.858634   \n",
       "4                    10.142511                      4.939416   \n",
       "\n",
       "   final.output.concentrate_au  final.output.recovery  final.output.tail_ag  \\\n",
       "0                    42.192020              70.541216             10.411962   \n",
       "1                    42.701629              69.266198             10.462676   \n",
       "2                    42.657501              68.116445             10.507046   \n",
       "3                    42.689819              68.347543             10.422762   \n",
       "4                    42.774141              66.927016             10.360302   \n",
       "\n",
       "   final.output.tail_pb  final.output.tail_sol  final.output.tail_au  ...  \\\n",
       "0              0.895447              16.904297              2.143149  ...   \n",
       "1              0.927452              16.634514              2.224930  ...   \n",
       "2              0.953716              16.208849              2.257889  ...   \n",
       "3              0.883763              16.532835              2.146849  ...   \n",
       "4              0.792826              16.525686              2.055292  ...   \n",
       "\n",
       "   secondary_cleaner.state.floatbank4_a_air  \\\n",
       "0                                 14.016835   \n",
       "1                                 13.992281   \n",
       "2                                 14.015015   \n",
       "3                                 14.036510   \n",
       "4                                 14.027298   \n",
       "\n",
       "   secondary_cleaner.state.floatbank4_a_level  \\\n",
       "0                                 -502.488007   \n",
       "1                                 -505.503262   \n",
       "2                                 -502.520901   \n",
       "3                                 -500.857308   \n",
       "4                                 -499.838632   \n",
       "\n",
       "   secondary_cleaner.state.floatbank4_b_air  \\\n",
       "0                                 12.099931   \n",
       "1                                 11.950531   \n",
       "2                                 11.912783   \n",
       "3                                 11.999550   \n",
       "4                                 11.953070   \n",
       "\n",
       "   secondary_cleaner.state.floatbank4_b_level  \\\n",
       "0                                 -504.715942   \n",
       "1                                 -501.331529   \n",
       "2                                 -501.133383   \n",
       "3                                 -501.193686   \n",
       "4                                 -501.053894   \n",
       "\n",
       "   secondary_cleaner.state.floatbank5_a_air  \\\n",
       "0                                  9.925633   \n",
       "1                                 10.039245   \n",
       "2                                 10.070913   \n",
       "3                                  9.970366   \n",
       "4                                  9.925709   \n",
       "\n",
       "   secondary_cleaner.state.floatbank5_a_level  \\\n",
       "0                                 -498.310211   \n",
       "1                                 -500.169983   \n",
       "2                                 -500.129135   \n",
       "3                                 -499.201640   \n",
       "4                                 -501.686727   \n",
       "\n",
       "   secondary_cleaner.state.floatbank5_b_air  \\\n",
       "0                                  8.079666   \n",
       "1                                  7.984757   \n",
       "2                                  8.013877   \n",
       "3                                  7.977324   \n",
       "4                                  7.894242   \n",
       "\n",
       "   secondary_cleaner.state.floatbank5_b_level  \\\n",
       "0                                 -500.470978   \n",
       "1                                 -500.582168   \n",
       "2                                 -500.517572   \n",
       "3                                 -500.255908   \n",
       "4                                 -500.356035   \n",
       "\n",
       "   secondary_cleaner.state.floatbank6_a_air  \\\n",
       "0                                 14.151341   \n",
       "1                                 13.998353   \n",
       "2                                 14.028663   \n",
       "3                                 14.005551   \n",
       "4                                 13.996647   \n",
       "\n",
       "   secondary_cleaner.state.floatbank6_a_level  \n",
       "0                                 -605.841980  \n",
       "1                                 -599.787184  \n",
       "2                                 -601.427363  \n",
       "3                                 -599.996129  \n",
       "4                                 -601.496691  \n",
       "\n",
       "[5 rows x 87 columns]"
      ]
     },
     "metadata": {},
     "output_type": "display_data"
    },
    {
     "name": "stdout",
     "output_type": "stream",
     "text": [
      "<class 'pandas.core.frame.DataFrame'>\n",
      "RangeIndex: 5290 entries, 0 to 5289\n",
      "Data columns (total 53 columns):\n",
      " #   Column                                      Non-Null Count  Dtype  \n",
      "---  ------                                      --------------  -----  \n",
      " 0   date                                        5290 non-null   object \n",
      " 1   primary_cleaner.input.sulfate               5286 non-null   float64\n",
      " 2   primary_cleaner.input.depressant            5285 non-null   float64\n",
      " 3   primary_cleaner.input.feed_size             5290 non-null   float64\n",
      " 4   primary_cleaner.input.xanthate              5286 non-null   float64\n",
      " 5   primary_cleaner.state.floatbank8_a_air      5290 non-null   float64\n",
      " 6   primary_cleaner.state.floatbank8_a_level    5290 non-null   float64\n",
      " 7   primary_cleaner.state.floatbank8_b_air      5290 non-null   float64\n",
      " 8   primary_cleaner.state.floatbank8_b_level    5290 non-null   float64\n",
      " 9   primary_cleaner.state.floatbank8_c_air      5290 non-null   float64\n",
      " 10  primary_cleaner.state.floatbank8_c_level    5290 non-null   float64\n",
      " 11  primary_cleaner.state.floatbank8_d_air      5290 non-null   float64\n",
      " 12  primary_cleaner.state.floatbank8_d_level    5290 non-null   float64\n",
      " 13  rougher.input.feed_ag                       5290 non-null   float64\n",
      " 14  rougher.input.feed_pb                       5290 non-null   float64\n",
      " 15  rougher.input.feed_rate                     5287 non-null   float64\n",
      " 16  rougher.input.feed_size                     5289 non-null   float64\n",
      " 17  rougher.input.feed_sol                      5269 non-null   float64\n",
      " 18  rougher.input.feed_au                       5290 non-null   float64\n",
      " 19  rougher.input.floatbank10_sulfate           5285 non-null   float64\n",
      " 20  rougher.input.floatbank10_xanthate          5290 non-null   float64\n",
      " 21  rougher.input.floatbank11_sulfate           5282 non-null   float64\n",
      " 22  rougher.input.floatbank11_xanthate          5265 non-null   float64\n",
      " 23  rougher.state.floatbank10_a_air             5290 non-null   float64\n",
      " 24  rougher.state.floatbank10_a_level           5290 non-null   float64\n",
      " 25  rougher.state.floatbank10_b_air             5290 non-null   float64\n",
      " 26  rougher.state.floatbank10_b_level           5290 non-null   float64\n",
      " 27  rougher.state.floatbank10_c_air             5290 non-null   float64\n",
      " 28  rougher.state.floatbank10_c_level           5290 non-null   float64\n",
      " 29  rougher.state.floatbank10_d_air             5290 non-null   float64\n",
      " 30  rougher.state.floatbank10_d_level           5290 non-null   float64\n",
      " 31  rougher.state.floatbank10_e_air             5290 non-null   float64\n",
      " 32  rougher.state.floatbank10_e_level           5290 non-null   float64\n",
      " 33  rougher.state.floatbank10_f_air             5290 non-null   float64\n",
      " 34  rougher.state.floatbank10_f_level           5290 non-null   float64\n",
      " 35  secondary_cleaner.state.floatbank2_a_air    5287 non-null   float64\n",
      " 36  secondary_cleaner.state.floatbank2_a_level  5290 non-null   float64\n",
      " 37  secondary_cleaner.state.floatbank2_b_air    5288 non-null   float64\n",
      " 38  secondary_cleaner.state.floatbank2_b_level  5290 non-null   float64\n",
      " 39  secondary_cleaner.state.floatbank3_a_air    5281 non-null   float64\n",
      " 40  secondary_cleaner.state.floatbank3_a_level  5290 non-null   float64\n",
      " 41  secondary_cleaner.state.floatbank3_b_air    5290 non-null   float64\n",
      " 42  secondary_cleaner.state.floatbank3_b_level  5290 non-null   float64\n",
      " 43  secondary_cleaner.state.floatbank4_a_air    5290 non-null   float64\n",
      " 44  secondary_cleaner.state.floatbank4_a_level  5290 non-null   float64\n",
      " 45  secondary_cleaner.state.floatbank4_b_air    5290 non-null   float64\n",
      " 46  secondary_cleaner.state.floatbank4_b_level  5290 non-null   float64\n",
      " 47  secondary_cleaner.state.floatbank5_a_air    5290 non-null   float64\n",
      " 48  secondary_cleaner.state.floatbank5_a_level  5290 non-null   float64\n",
      " 49  secondary_cleaner.state.floatbank5_b_air    5290 non-null   float64\n",
      " 50  secondary_cleaner.state.floatbank5_b_level  5290 non-null   float64\n",
      " 51  secondary_cleaner.state.floatbank6_a_air    5290 non-null   float64\n",
      " 52  secondary_cleaner.state.floatbank6_a_level  5290 non-null   float64\n",
      "dtypes: float64(52), object(1)\n",
      "memory usage: 2.1+ MB\n"
     ]
    },
    {
     "data": {
      "text/plain": [
       "None"
      ]
     },
     "metadata": {},
     "output_type": "display_data"
    },
    {
     "data": {
      "text/html": [
       "<div>\n",
       "<style scoped>\n",
       "    .dataframe tbody tr th:only-of-type {\n",
       "        vertical-align: middle;\n",
       "    }\n",
       "\n",
       "    .dataframe tbody tr th {\n",
       "        vertical-align: top;\n",
       "    }\n",
       "\n",
       "    .dataframe thead th {\n",
       "        text-align: right;\n",
       "    }\n",
       "</style>\n",
       "<table border=\"1\" class=\"dataframe\">\n",
       "  <thead>\n",
       "    <tr style=\"text-align: right;\">\n",
       "      <th></th>\n",
       "      <th>date</th>\n",
       "      <th>primary_cleaner.input.sulfate</th>\n",
       "      <th>primary_cleaner.input.depressant</th>\n",
       "      <th>primary_cleaner.input.feed_size</th>\n",
       "      <th>primary_cleaner.input.xanthate</th>\n",
       "      <th>primary_cleaner.state.floatbank8_a_air</th>\n",
       "      <th>primary_cleaner.state.floatbank8_a_level</th>\n",
       "      <th>primary_cleaner.state.floatbank8_b_air</th>\n",
       "      <th>primary_cleaner.state.floatbank8_b_level</th>\n",
       "      <th>primary_cleaner.state.floatbank8_c_air</th>\n",
       "      <th>...</th>\n",
       "      <th>secondary_cleaner.state.floatbank4_a_air</th>\n",
       "      <th>secondary_cleaner.state.floatbank4_a_level</th>\n",
       "      <th>secondary_cleaner.state.floatbank4_b_air</th>\n",
       "      <th>secondary_cleaner.state.floatbank4_b_level</th>\n",
       "      <th>secondary_cleaner.state.floatbank5_a_air</th>\n",
       "      <th>secondary_cleaner.state.floatbank5_a_level</th>\n",
       "      <th>secondary_cleaner.state.floatbank5_b_air</th>\n",
       "      <th>secondary_cleaner.state.floatbank5_b_level</th>\n",
       "      <th>secondary_cleaner.state.floatbank6_a_air</th>\n",
       "      <th>secondary_cleaner.state.floatbank6_a_level</th>\n",
       "    </tr>\n",
       "  </thead>\n",
       "  <tbody>\n",
       "    <tr>\n",
       "      <th>0</th>\n",
       "      <td>2016-09-01 00:59:59</td>\n",
       "      <td>210.800909</td>\n",
       "      <td>14.993118</td>\n",
       "      <td>8.080000</td>\n",
       "      <td>1.005021</td>\n",
       "      <td>1398.981301</td>\n",
       "      <td>-500.225577</td>\n",
       "      <td>1399.144926</td>\n",
       "      <td>-499.919735</td>\n",
       "      <td>1400.102998</td>\n",
       "      <td>...</td>\n",
       "      <td>12.023554</td>\n",
       "      <td>-497.795834</td>\n",
       "      <td>8.016656</td>\n",
       "      <td>-501.289139</td>\n",
       "      <td>7.946562</td>\n",
       "      <td>-432.317850</td>\n",
       "      <td>4.872511</td>\n",
       "      <td>-500.037437</td>\n",
       "      <td>26.705889</td>\n",
       "      <td>-499.709414</td>\n",
       "    </tr>\n",
       "    <tr>\n",
       "      <th>1</th>\n",
       "      <td>2016-09-01 01:59:59</td>\n",
       "      <td>215.392455</td>\n",
       "      <td>14.987471</td>\n",
       "      <td>8.080000</td>\n",
       "      <td>0.990469</td>\n",
       "      <td>1398.777912</td>\n",
       "      <td>-500.057435</td>\n",
       "      <td>1398.055362</td>\n",
       "      <td>-499.778182</td>\n",
       "      <td>1396.151033</td>\n",
       "      <td>...</td>\n",
       "      <td>12.058140</td>\n",
       "      <td>-498.695773</td>\n",
       "      <td>8.130979</td>\n",
       "      <td>-499.634209</td>\n",
       "      <td>7.958270</td>\n",
       "      <td>-525.839648</td>\n",
       "      <td>4.878850</td>\n",
       "      <td>-500.162375</td>\n",
       "      <td>25.019940</td>\n",
       "      <td>-499.819438</td>\n",
       "    </tr>\n",
       "    <tr>\n",
       "      <th>2</th>\n",
       "      <td>2016-09-01 02:59:59</td>\n",
       "      <td>215.259946</td>\n",
       "      <td>12.884934</td>\n",
       "      <td>7.786667</td>\n",
       "      <td>0.996043</td>\n",
       "      <td>1398.493666</td>\n",
       "      <td>-500.868360</td>\n",
       "      <td>1398.860436</td>\n",
       "      <td>-499.764529</td>\n",
       "      <td>1398.075709</td>\n",
       "      <td>...</td>\n",
       "      <td>11.962366</td>\n",
       "      <td>-498.767484</td>\n",
       "      <td>8.096893</td>\n",
       "      <td>-500.827423</td>\n",
       "      <td>8.071056</td>\n",
       "      <td>-500.801673</td>\n",
       "      <td>4.905125</td>\n",
       "      <td>-499.828510</td>\n",
       "      <td>24.994862</td>\n",
       "      <td>-500.622559</td>\n",
       "    </tr>\n",
       "    <tr>\n",
       "      <th>3</th>\n",
       "      <td>2016-09-01 03:59:59</td>\n",
       "      <td>215.336236</td>\n",
       "      <td>12.006805</td>\n",
       "      <td>7.640000</td>\n",
       "      <td>0.863514</td>\n",
       "      <td>1399.618111</td>\n",
       "      <td>-498.863574</td>\n",
       "      <td>1397.440120</td>\n",
       "      <td>-499.211024</td>\n",
       "      <td>1400.129303</td>\n",
       "      <td>...</td>\n",
       "      <td>12.033091</td>\n",
       "      <td>-498.350935</td>\n",
       "      <td>8.074946</td>\n",
       "      <td>-499.474407</td>\n",
       "      <td>7.897085</td>\n",
       "      <td>-500.868509</td>\n",
       "      <td>4.931400</td>\n",
       "      <td>-499.963623</td>\n",
       "      <td>24.948919</td>\n",
       "      <td>-498.709987</td>\n",
       "    </tr>\n",
       "    <tr>\n",
       "      <th>4</th>\n",
       "      <td>2016-09-01 04:59:59</td>\n",
       "      <td>199.099327</td>\n",
       "      <td>10.682530</td>\n",
       "      <td>7.530000</td>\n",
       "      <td>0.805575</td>\n",
       "      <td>1401.268123</td>\n",
       "      <td>-500.808305</td>\n",
       "      <td>1398.128818</td>\n",
       "      <td>-499.504543</td>\n",
       "      <td>1402.172226</td>\n",
       "      <td>...</td>\n",
       "      <td>12.025367</td>\n",
       "      <td>-500.786497</td>\n",
       "      <td>8.054678</td>\n",
       "      <td>-500.397500</td>\n",
       "      <td>8.107890</td>\n",
       "      <td>-509.526725</td>\n",
       "      <td>4.957674</td>\n",
       "      <td>-500.360026</td>\n",
       "      <td>25.003331</td>\n",
       "      <td>-500.856333</td>\n",
       "    </tr>\n",
       "  </tbody>\n",
       "</table>\n",
       "<p>5 rows × 53 columns</p>\n",
       "</div>"
      ],
      "text/plain": [
       "                  date  primary_cleaner.input.sulfate  \\\n",
       "0  2016-09-01 00:59:59                     210.800909   \n",
       "1  2016-09-01 01:59:59                     215.392455   \n",
       "2  2016-09-01 02:59:59                     215.259946   \n",
       "3  2016-09-01 03:59:59                     215.336236   \n",
       "4  2016-09-01 04:59:59                     199.099327   \n",
       "\n",
       "   primary_cleaner.input.depressant  primary_cleaner.input.feed_size  \\\n",
       "0                         14.993118                         8.080000   \n",
       "1                         14.987471                         8.080000   \n",
       "2                         12.884934                         7.786667   \n",
       "3                         12.006805                         7.640000   \n",
       "4                         10.682530                         7.530000   \n",
       "\n",
       "   primary_cleaner.input.xanthate  primary_cleaner.state.floatbank8_a_air  \\\n",
       "0                        1.005021                             1398.981301   \n",
       "1                        0.990469                             1398.777912   \n",
       "2                        0.996043                             1398.493666   \n",
       "3                        0.863514                             1399.618111   \n",
       "4                        0.805575                             1401.268123   \n",
       "\n",
       "   primary_cleaner.state.floatbank8_a_level  \\\n",
       "0                               -500.225577   \n",
       "1                               -500.057435   \n",
       "2                               -500.868360   \n",
       "3                               -498.863574   \n",
       "4                               -500.808305   \n",
       "\n",
       "   primary_cleaner.state.floatbank8_b_air  \\\n",
       "0                             1399.144926   \n",
       "1                             1398.055362   \n",
       "2                             1398.860436   \n",
       "3                             1397.440120   \n",
       "4                             1398.128818   \n",
       "\n",
       "   primary_cleaner.state.floatbank8_b_level  \\\n",
       "0                               -499.919735   \n",
       "1                               -499.778182   \n",
       "2                               -499.764529   \n",
       "3                               -499.211024   \n",
       "4                               -499.504543   \n",
       "\n",
       "   primary_cleaner.state.floatbank8_c_air  ...  \\\n",
       "0                             1400.102998  ...   \n",
       "1                             1396.151033  ...   \n",
       "2                             1398.075709  ...   \n",
       "3                             1400.129303  ...   \n",
       "4                             1402.172226  ...   \n",
       "\n",
       "   secondary_cleaner.state.floatbank4_a_air  \\\n",
       "0                                 12.023554   \n",
       "1                                 12.058140   \n",
       "2                                 11.962366   \n",
       "3                                 12.033091   \n",
       "4                                 12.025367   \n",
       "\n",
       "   secondary_cleaner.state.floatbank4_a_level  \\\n",
       "0                                 -497.795834   \n",
       "1                                 -498.695773   \n",
       "2                                 -498.767484   \n",
       "3                                 -498.350935   \n",
       "4                                 -500.786497   \n",
       "\n",
       "   secondary_cleaner.state.floatbank4_b_air  \\\n",
       "0                                  8.016656   \n",
       "1                                  8.130979   \n",
       "2                                  8.096893   \n",
       "3                                  8.074946   \n",
       "4                                  8.054678   \n",
       "\n",
       "   secondary_cleaner.state.floatbank4_b_level  \\\n",
       "0                                 -501.289139   \n",
       "1                                 -499.634209   \n",
       "2                                 -500.827423   \n",
       "3                                 -499.474407   \n",
       "4                                 -500.397500   \n",
       "\n",
       "   secondary_cleaner.state.floatbank5_a_air  \\\n",
       "0                                  7.946562   \n",
       "1                                  7.958270   \n",
       "2                                  8.071056   \n",
       "3                                  7.897085   \n",
       "4                                  8.107890   \n",
       "\n",
       "   secondary_cleaner.state.floatbank5_a_level  \\\n",
       "0                                 -432.317850   \n",
       "1                                 -525.839648   \n",
       "2                                 -500.801673   \n",
       "3                                 -500.868509   \n",
       "4                                 -509.526725   \n",
       "\n",
       "   secondary_cleaner.state.floatbank5_b_air  \\\n",
       "0                                  4.872511   \n",
       "1                                  4.878850   \n",
       "2                                  4.905125   \n",
       "3                                  4.931400   \n",
       "4                                  4.957674   \n",
       "\n",
       "   secondary_cleaner.state.floatbank5_b_level  \\\n",
       "0                                 -500.037437   \n",
       "1                                 -500.162375   \n",
       "2                                 -499.828510   \n",
       "3                                 -499.963623   \n",
       "4                                 -500.360026   \n",
       "\n",
       "   secondary_cleaner.state.floatbank6_a_air  \\\n",
       "0                                 26.705889   \n",
       "1                                 25.019940   \n",
       "2                                 24.994862   \n",
       "3                                 24.948919   \n",
       "4                                 25.003331   \n",
       "\n",
       "   secondary_cleaner.state.floatbank6_a_level  \n",
       "0                                 -499.709414  \n",
       "1                                 -499.819438  \n",
       "2                                 -500.622559  \n",
       "3                                 -498.709987  \n",
       "4                                 -500.856333  \n",
       "\n",
       "[5 rows x 53 columns]"
      ]
     },
     "metadata": {},
     "output_type": "display_data"
    },
    {
     "name": "stdout",
     "output_type": "stream",
     "text": [
      "<class 'pandas.core.frame.DataFrame'>\n",
      "RangeIndex: 19439 entries, 0 to 19438\n",
      "Data columns (total 87 columns):\n",
      " #   Column                                              Non-Null Count  Dtype  \n",
      "---  ------                                              --------------  -----  \n",
      " 0   date                                                19439 non-null  object \n",
      " 1   final.output.concentrate_ag                         19438 non-null  float64\n",
      " 2   final.output.concentrate_pb                         19438 non-null  float64\n",
      " 3   final.output.concentrate_sol                        19228 non-null  float64\n",
      " 4   final.output.concentrate_au                         19439 non-null  float64\n",
      " 5   final.output.recovery                               19439 non-null  float64\n",
      " 6   final.output.tail_ag                                19438 non-null  float64\n",
      " 7   final.output.tail_pb                                19338 non-null  float64\n",
      " 8   final.output.tail_sol                               19433 non-null  float64\n",
      " 9   final.output.tail_au                                19439 non-null  float64\n",
      " 10  primary_cleaner.input.sulfate                       19415 non-null  float64\n",
      " 11  primary_cleaner.input.depressant                    19402 non-null  float64\n",
      " 12  primary_cleaner.input.feed_size                     19439 non-null  float64\n",
      " 13  primary_cleaner.input.xanthate                      19335 non-null  float64\n",
      " 14  primary_cleaner.output.concentrate_ag               19439 non-null  float64\n",
      " 15  primary_cleaner.output.concentrate_pb               19323 non-null  float64\n",
      " 16  primary_cleaner.output.concentrate_sol              19069 non-null  float64\n",
      " 17  primary_cleaner.output.concentrate_au               19439 non-null  float64\n",
      " 18  primary_cleaner.output.tail_ag                      19435 non-null  float64\n",
      " 19  primary_cleaner.output.tail_pb                      19418 non-null  float64\n",
      " 20  primary_cleaner.output.tail_sol                     19377 non-null  float64\n",
      " 21  primary_cleaner.output.tail_au                      19439 non-null  float64\n",
      " 22  primary_cleaner.state.floatbank8_a_air              19435 non-null  float64\n",
      " 23  primary_cleaner.state.floatbank8_a_level            19438 non-null  float64\n",
      " 24  primary_cleaner.state.floatbank8_b_air              19435 non-null  float64\n",
      " 25  primary_cleaner.state.floatbank8_b_level            19438 non-null  float64\n",
      " 26  primary_cleaner.state.floatbank8_c_air              19437 non-null  float64\n",
      " 27  primary_cleaner.state.floatbank8_c_level            19438 non-null  float64\n",
      " 28  primary_cleaner.state.floatbank8_d_air              19436 non-null  float64\n",
      " 29  primary_cleaner.state.floatbank8_d_level            19438 non-null  float64\n",
      " 30  rougher.calculation.sulfate_to_au_concentrate       19437 non-null  float64\n",
      " 31  rougher.calculation.floatbank10_sulfate_to_au_feed  19437 non-null  float64\n",
      " 32  rougher.calculation.floatbank11_sulfate_to_au_feed  19437 non-null  float64\n",
      " 33  rougher.calculation.au_pb_ratio                     19439 non-null  float64\n",
      " 34  rougher.input.feed_ag                               19439 non-null  float64\n",
      " 35  rougher.input.feed_pb                               19339 non-null  float64\n",
      " 36  rougher.input.feed_rate                             19428 non-null  float64\n",
      " 37  rougher.input.feed_size                             19294 non-null  float64\n",
      " 38  rougher.input.feed_sol                              19340 non-null  float64\n",
      " 39  rougher.input.feed_au                               19439 non-null  float64\n",
      " 40  rougher.input.floatbank10_sulfate                   19405 non-null  float64\n",
      " 41  rougher.input.floatbank10_xanthate                  19431 non-null  float64\n",
      " 42  rougher.input.floatbank11_sulfate                   19395 non-null  float64\n",
      " 43  rougher.input.floatbank11_xanthate                  18986 non-null  float64\n",
      " 44  rougher.output.concentrate_ag                       19439 non-null  float64\n",
      " 45  rougher.output.concentrate_pb                       19439 non-null  float64\n",
      " 46  rougher.output.concentrate_sol                      19416 non-null  float64\n",
      " 47  rougher.output.concentrate_au                       19439 non-null  float64\n",
      " 48  rougher.output.recovery                             19439 non-null  float64\n",
      " 49  rougher.output.tail_ag                              19438 non-null  float64\n",
      " 50  rougher.output.tail_pb                              19439 non-null  float64\n",
      " 51  rougher.output.tail_sol                             19439 non-null  float64\n",
      " 52  rougher.output.tail_au                              19439 non-null  float64\n",
      " 53  rougher.state.floatbank10_a_air                     19438 non-null  float64\n",
      " 54  rougher.state.floatbank10_a_level                   19438 non-null  float64\n",
      " 55  rougher.state.floatbank10_b_air                     19438 non-null  float64\n",
      " 56  rougher.state.floatbank10_b_level                   19438 non-null  float64\n",
      " 57  rougher.state.floatbank10_c_air                     19438 non-null  float64\n",
      " 58  rougher.state.floatbank10_c_level                   19438 non-null  float64\n",
      " 59  rougher.state.floatbank10_d_air                     19439 non-null  float64\n",
      " 60  rougher.state.floatbank10_d_level                   19439 non-null  float64\n",
      " 61  rougher.state.floatbank10_e_air                     19003 non-null  float64\n",
      " 62  rougher.state.floatbank10_e_level                   19439 non-null  float64\n",
      " 63  rougher.state.floatbank10_f_air                     19439 non-null  float64\n",
      " 64  rougher.state.floatbank10_f_level                   19439 non-null  float64\n",
      " 65  secondary_cleaner.output.tail_ag                    19437 non-null  float64\n",
      " 66  secondary_cleaner.output.tail_pb                    19427 non-null  float64\n",
      " 67  secondary_cleaner.output.tail_sol                   17691 non-null  float64\n",
      " 68  secondary_cleaner.output.tail_au                    19439 non-null  float64\n",
      " 69  secondary_cleaner.state.floatbank2_a_air            19219 non-null  float64\n",
      " 70  secondary_cleaner.state.floatbank2_a_level          19438 non-null  float64\n",
      " 71  secondary_cleaner.state.floatbank2_b_air            19416 non-null  float64\n",
      " 72  secondary_cleaner.state.floatbank2_b_level          19438 non-null  float64\n",
      " 73  secondary_cleaner.state.floatbank3_a_air            19426 non-null  float64\n",
      " 74  secondary_cleaner.state.floatbank3_a_level          19438 non-null  float64\n",
      " 75  secondary_cleaner.state.floatbank3_b_air            19438 non-null  float64\n",
      " 76  secondary_cleaner.state.floatbank3_b_level          19438 non-null  float64\n",
      " 77  secondary_cleaner.state.floatbank4_a_air            19433 non-null  float64\n",
      " 78  secondary_cleaner.state.floatbank4_a_level          19438 non-null  float64\n",
      " 79  secondary_cleaner.state.floatbank4_b_air            19438 non-null  float64\n",
      " 80  secondary_cleaner.state.floatbank4_b_level          19438 non-null  float64\n",
      " 81  secondary_cleaner.state.floatbank5_a_air            19438 non-null  float64\n",
      " 82  secondary_cleaner.state.floatbank5_a_level          19438 non-null  float64\n",
      " 83  secondary_cleaner.state.floatbank5_b_air            19438 non-null  float64\n",
      " 84  secondary_cleaner.state.floatbank5_b_level          19438 non-null  float64\n",
      " 85  secondary_cleaner.state.floatbank6_a_air            19437 non-null  float64\n",
      " 86  secondary_cleaner.state.floatbank6_a_level          19438 non-null  float64\n",
      "dtypes: float64(86), object(1)\n",
      "memory usage: 12.9+ MB\n"
     ]
    },
    {
     "data": {
      "text/plain": [
       "None"
      ]
     },
     "metadata": {},
     "output_type": "display_data"
    },
    {
     "data": {
      "text/html": [
       "<div>\n",
       "<style scoped>\n",
       "    .dataframe tbody tr th:only-of-type {\n",
       "        vertical-align: middle;\n",
       "    }\n",
       "\n",
       "    .dataframe tbody tr th {\n",
       "        vertical-align: top;\n",
       "    }\n",
       "\n",
       "    .dataframe thead th {\n",
       "        text-align: right;\n",
       "    }\n",
       "</style>\n",
       "<table border=\"1\" class=\"dataframe\">\n",
       "  <thead>\n",
       "    <tr style=\"text-align: right;\">\n",
       "      <th></th>\n",
       "      <th>date</th>\n",
       "      <th>final.output.concentrate_ag</th>\n",
       "      <th>final.output.concentrate_pb</th>\n",
       "      <th>final.output.concentrate_sol</th>\n",
       "      <th>final.output.concentrate_au</th>\n",
       "      <th>final.output.recovery</th>\n",
       "      <th>final.output.tail_ag</th>\n",
       "      <th>final.output.tail_pb</th>\n",
       "      <th>final.output.tail_sol</th>\n",
       "      <th>final.output.tail_au</th>\n",
       "      <th>...</th>\n",
       "      <th>secondary_cleaner.state.floatbank4_a_air</th>\n",
       "      <th>secondary_cleaner.state.floatbank4_a_level</th>\n",
       "      <th>secondary_cleaner.state.floatbank4_b_air</th>\n",
       "      <th>secondary_cleaner.state.floatbank4_b_level</th>\n",
       "      <th>secondary_cleaner.state.floatbank5_a_air</th>\n",
       "      <th>secondary_cleaner.state.floatbank5_a_level</th>\n",
       "      <th>secondary_cleaner.state.floatbank5_b_air</th>\n",
       "      <th>secondary_cleaner.state.floatbank5_b_level</th>\n",
       "      <th>secondary_cleaner.state.floatbank6_a_air</th>\n",
       "      <th>secondary_cleaner.state.floatbank6_a_level</th>\n",
       "    </tr>\n",
       "  </thead>\n",
       "  <tbody>\n",
       "    <tr>\n",
       "      <th>0</th>\n",
       "      <td>2016-01-15 00:00:00</td>\n",
       "      <td>6.055403</td>\n",
       "      <td>9.889648</td>\n",
       "      <td>5.507324</td>\n",
       "      <td>42.192020</td>\n",
       "      <td>70.541216</td>\n",
       "      <td>10.411962</td>\n",
       "      <td>0.895447</td>\n",
       "      <td>16.904297</td>\n",
       "      <td>2.143149</td>\n",
       "      <td>...</td>\n",
       "      <td>14.016835</td>\n",
       "      <td>-502.488007</td>\n",
       "      <td>12.099931</td>\n",
       "      <td>-504.715942</td>\n",
       "      <td>9.925633</td>\n",
       "      <td>-498.310211</td>\n",
       "      <td>8.079666</td>\n",
       "      <td>-500.470978</td>\n",
       "      <td>14.151341</td>\n",
       "      <td>-605.841980</td>\n",
       "    </tr>\n",
       "    <tr>\n",
       "      <th>1</th>\n",
       "      <td>2016-01-15 01:00:00</td>\n",
       "      <td>6.029369</td>\n",
       "      <td>9.968944</td>\n",
       "      <td>5.257781</td>\n",
       "      <td>42.701629</td>\n",
       "      <td>69.266198</td>\n",
       "      <td>10.462676</td>\n",
       "      <td>0.927452</td>\n",
       "      <td>16.634514</td>\n",
       "      <td>2.224930</td>\n",
       "      <td>...</td>\n",
       "      <td>13.992281</td>\n",
       "      <td>-505.503262</td>\n",
       "      <td>11.950531</td>\n",
       "      <td>-501.331529</td>\n",
       "      <td>10.039245</td>\n",
       "      <td>-500.169983</td>\n",
       "      <td>7.984757</td>\n",
       "      <td>-500.582168</td>\n",
       "      <td>13.998353</td>\n",
       "      <td>-599.787184</td>\n",
       "    </tr>\n",
       "    <tr>\n",
       "      <th>2</th>\n",
       "      <td>2016-01-15 02:00:00</td>\n",
       "      <td>6.055926</td>\n",
       "      <td>10.213995</td>\n",
       "      <td>5.383759</td>\n",
       "      <td>42.657501</td>\n",
       "      <td>68.116445</td>\n",
       "      <td>10.507046</td>\n",
       "      <td>0.953716</td>\n",
       "      <td>16.208849</td>\n",
       "      <td>2.257889</td>\n",
       "      <td>...</td>\n",
       "      <td>14.015015</td>\n",
       "      <td>-502.520901</td>\n",
       "      <td>11.912783</td>\n",
       "      <td>-501.133383</td>\n",
       "      <td>10.070913</td>\n",
       "      <td>-500.129135</td>\n",
       "      <td>8.013877</td>\n",
       "      <td>-500.517572</td>\n",
       "      <td>14.028663</td>\n",
       "      <td>-601.427363</td>\n",
       "    </tr>\n",
       "    <tr>\n",
       "      <th>3</th>\n",
       "      <td>2016-01-15 03:00:00</td>\n",
       "      <td>6.047977</td>\n",
       "      <td>9.977019</td>\n",
       "      <td>4.858634</td>\n",
       "      <td>42.689819</td>\n",
       "      <td>68.347543</td>\n",
       "      <td>10.422762</td>\n",
       "      <td>0.883763</td>\n",
       "      <td>16.532835</td>\n",
       "      <td>2.146849</td>\n",
       "      <td>...</td>\n",
       "      <td>14.036510</td>\n",
       "      <td>-500.857308</td>\n",
       "      <td>11.999550</td>\n",
       "      <td>-501.193686</td>\n",
       "      <td>9.970366</td>\n",
       "      <td>-499.201640</td>\n",
       "      <td>7.977324</td>\n",
       "      <td>-500.255908</td>\n",
       "      <td>14.005551</td>\n",
       "      <td>-599.996129</td>\n",
       "    </tr>\n",
       "    <tr>\n",
       "      <th>4</th>\n",
       "      <td>2016-01-15 04:00:00</td>\n",
       "      <td>6.148599</td>\n",
       "      <td>10.142511</td>\n",
       "      <td>4.939416</td>\n",
       "      <td>42.774141</td>\n",
       "      <td>66.927016</td>\n",
       "      <td>10.360302</td>\n",
       "      <td>0.792826</td>\n",
       "      <td>16.525686</td>\n",
       "      <td>2.055292</td>\n",
       "      <td>...</td>\n",
       "      <td>14.027298</td>\n",
       "      <td>-499.838632</td>\n",
       "      <td>11.953070</td>\n",
       "      <td>-501.053894</td>\n",
       "      <td>9.925709</td>\n",
       "      <td>-501.686727</td>\n",
       "      <td>7.894242</td>\n",
       "      <td>-500.356035</td>\n",
       "      <td>13.996647</td>\n",
       "      <td>-601.496691</td>\n",
       "    </tr>\n",
       "  </tbody>\n",
       "</table>\n",
       "<p>5 rows × 87 columns</p>\n",
       "</div>"
      ],
      "text/plain": [
       "                  date  final.output.concentrate_ag  \\\n",
       "0  2016-01-15 00:00:00                     6.055403   \n",
       "1  2016-01-15 01:00:00                     6.029369   \n",
       "2  2016-01-15 02:00:00                     6.055926   \n",
       "3  2016-01-15 03:00:00                     6.047977   \n",
       "4  2016-01-15 04:00:00                     6.148599   \n",
       "\n",
       "   final.output.concentrate_pb  final.output.concentrate_sol  \\\n",
       "0                     9.889648                      5.507324   \n",
       "1                     9.968944                      5.257781   \n",
       "2                    10.213995                      5.383759   \n",
       "3                     9.977019                      4.858634   \n",
       "4                    10.142511                      4.939416   \n",
       "\n",
       "   final.output.concentrate_au  final.output.recovery  final.output.tail_ag  \\\n",
       "0                    42.192020              70.541216             10.411962   \n",
       "1                    42.701629              69.266198             10.462676   \n",
       "2                    42.657501              68.116445             10.507046   \n",
       "3                    42.689819              68.347543             10.422762   \n",
       "4                    42.774141              66.927016             10.360302   \n",
       "\n",
       "   final.output.tail_pb  final.output.tail_sol  final.output.tail_au  ...  \\\n",
       "0              0.895447              16.904297              2.143149  ...   \n",
       "1              0.927452              16.634514              2.224930  ...   \n",
       "2              0.953716              16.208849              2.257889  ...   \n",
       "3              0.883763              16.532835              2.146849  ...   \n",
       "4              0.792826              16.525686              2.055292  ...   \n",
       "\n",
       "   secondary_cleaner.state.floatbank4_a_air  \\\n",
       "0                                 14.016835   \n",
       "1                                 13.992281   \n",
       "2                                 14.015015   \n",
       "3                                 14.036510   \n",
       "4                                 14.027298   \n",
       "\n",
       "   secondary_cleaner.state.floatbank4_a_level  \\\n",
       "0                                 -502.488007   \n",
       "1                                 -505.503262   \n",
       "2                                 -502.520901   \n",
       "3                                 -500.857308   \n",
       "4                                 -499.838632   \n",
       "\n",
       "   secondary_cleaner.state.floatbank4_b_air  \\\n",
       "0                                 12.099931   \n",
       "1                                 11.950531   \n",
       "2                                 11.912783   \n",
       "3                                 11.999550   \n",
       "4                                 11.953070   \n",
       "\n",
       "   secondary_cleaner.state.floatbank4_b_level  \\\n",
       "0                                 -504.715942   \n",
       "1                                 -501.331529   \n",
       "2                                 -501.133383   \n",
       "3                                 -501.193686   \n",
       "4                                 -501.053894   \n",
       "\n",
       "   secondary_cleaner.state.floatbank5_a_air  \\\n",
       "0                                  9.925633   \n",
       "1                                 10.039245   \n",
       "2                                 10.070913   \n",
       "3                                  9.970366   \n",
       "4                                  9.925709   \n",
       "\n",
       "   secondary_cleaner.state.floatbank5_a_level  \\\n",
       "0                                 -498.310211   \n",
       "1                                 -500.169983   \n",
       "2                                 -500.129135   \n",
       "3                                 -499.201640   \n",
       "4                                 -501.686727   \n",
       "\n",
       "   secondary_cleaner.state.floatbank5_b_air  \\\n",
       "0                                  8.079666   \n",
       "1                                  7.984757   \n",
       "2                                  8.013877   \n",
       "3                                  7.977324   \n",
       "4                                  7.894242   \n",
       "\n",
       "   secondary_cleaner.state.floatbank5_b_level  \\\n",
       "0                                 -500.470978   \n",
       "1                                 -500.582168   \n",
       "2                                 -500.517572   \n",
       "3                                 -500.255908   \n",
       "4                                 -500.356035   \n",
       "\n",
       "   secondary_cleaner.state.floatbank6_a_air  \\\n",
       "0                                 14.151341   \n",
       "1                                 13.998353   \n",
       "2                                 14.028663   \n",
       "3                                 14.005551   \n",
       "4                                 13.996647   \n",
       "\n",
       "   secondary_cleaner.state.floatbank6_a_level  \n",
       "0                                 -605.841980  \n",
       "1                                 -599.787184  \n",
       "2                                 -601.427363  \n",
       "3                                 -599.996129  \n",
       "4                                 -601.496691  \n",
       "\n",
       "[5 rows x 87 columns]"
      ]
     },
     "execution_count": 3,
     "metadata": {},
     "output_type": "execute_result"
    }
   ],
   "source": [
    "display(data_train.info())\n",
    "display(data_train.head())\n",
    "\n",
    "display(data_test.info())\n",
    "display(data_test.head())\n",
    "\n",
    "display(data_full.info())\n",
    "data_full.head()"
   ]
  },
  {
   "cell_type": "markdown",
   "metadata": {
    "toc": true
   },
   "source": [
    "[К оглавлению](#Оглавление)"
   ]
  },
  {
   "cell_type": "markdown",
   "metadata": {},
   "source": [
    "### 1.1 Вывод по подготовке<a name=\"подготовке\"></a>\n",
    "\n",
    "- Во всех датафреймах имеются пропущенные значения\n",
    "\n",
    "- Во всех датафреймах значения записаны в формате float, кроме данных в столбце date"
   ]
  },
  {
   "cell_type": "markdown",
   "metadata": {},
   "source": [
    "## 2. Проверка правильности расчета эффективности обогащения<a name=\"Проверка\"></a>"
   ]
  },
  {
   "attachments": {
    "image.png": {
     "image/png": "[encoded data removed]"
    }
   },
   "cell_type": "markdown",
   "metadata": {},
   "source": [
    "![image.png](attachment:image.png)"
   ]
  },
  {
   "cell_type": "markdown",
   "metadata": {},
   "source": [
    "где:\n",
    "- C — доля золота в концентрате после флотации/очистки;\n",
    "- F — доля золота в сырье/концентрате до флотации/очистки;\n",
    "- T — доля золота в отвальных хвостах после флотации/очистки."
   ]
  },
  {
   "cell_type": "markdown",
   "metadata": {
    "toc": true
   },
   "source": [
    "Выведем нужные значения в отдельную таблицу"
   ]
  },
  {
   "cell_type": "code",
   "execution_count": 4,
   "metadata": {},
   "outputs": [
    {
     "data": {
      "text/html": [
       "<div>\n",
       "<style scoped>\n",
       "    .dataframe tbody tr th:only-of-type {\n",
       "        vertical-align: middle;\n",
       "    }\n",
       "\n",
       "    .dataframe tbody tr th {\n",
       "        vertical-align: top;\n",
       "    }\n",
       "\n",
       "    .dataframe thead th {\n",
       "        text-align: right;\n",
       "    }\n",
       "</style>\n",
       "<table border=\"1\" class=\"dataframe\">\n",
       "  <thead>\n",
       "    <tr style=\"text-align: right;\">\n",
       "      <th></th>\n",
       "      <th>rougher.output.concentrate_au</th>\n",
       "      <th>rougher.output.recovery</th>\n",
       "      <th>rougher.input.feed_au</th>\n",
       "      <th>rougher.output.tail_au</th>\n",
       "    </tr>\n",
       "  </thead>\n",
       "  <tbody>\n",
       "    <tr>\n",
       "      <th>0</th>\n",
       "      <td>19.793808</td>\n",
       "      <td>87.107763</td>\n",
       "      <td>6.486150</td>\n",
       "      <td>1.170244</td>\n",
       "    </tr>\n",
       "    <tr>\n",
       "      <th>1</th>\n",
       "      <td>20.050975</td>\n",
       "      <td>86.843261</td>\n",
       "      <td>6.478583</td>\n",
       "      <td>1.184827</td>\n",
       "    </tr>\n",
       "    <tr>\n",
       "      <th>2</th>\n",
       "      <td>19.737170</td>\n",
       "      <td>86.842308</td>\n",
       "      <td>6.362222</td>\n",
       "      <td>1.162562</td>\n",
       "    </tr>\n",
       "    <tr>\n",
       "      <th>3</th>\n",
       "      <td>19.320810</td>\n",
       "      <td>87.226430</td>\n",
       "      <td>6.118189</td>\n",
       "      <td>1.079755</td>\n",
       "    </tr>\n",
       "    <tr>\n",
       "      <th>4</th>\n",
       "      <td>19.216101</td>\n",
       "      <td>86.688794</td>\n",
       "      <td>5.663707</td>\n",
       "      <td>1.012642</td>\n",
       "    </tr>\n",
       "  </tbody>\n",
       "</table>\n",
       "</div>"
      ],
      "text/plain": [
       "   rougher.output.concentrate_au  rougher.output.recovery  \\\n",
       "0                      19.793808                87.107763   \n",
       "1                      20.050975                86.843261   \n",
       "2                      19.737170                86.842308   \n",
       "3                      19.320810                87.226430   \n",
       "4                      19.216101                86.688794   \n",
       "\n",
       "   rougher.input.feed_au  rougher.output.tail_au  \n",
       "0               6.486150                1.170244  \n",
       "1               6.478583                1.184827  \n",
       "2               6.362222                1.162562  \n",
       "3               6.118189                1.079755  \n",
       "4               5.663707                1.012642  "
      ]
     },
     "execution_count": 4,
     "metadata": {},
     "output_type": "execute_result"
    }
   ],
   "source": [
    "gold_recovery_train_verification = data_train[['rougher.output.concentrate_au', 'rougher.output.recovery', 'rougher.input.feed_au', 'rougher.output.tail_au']]\n",
    "gold_recovery_train_verification.head()"
   ]
  },
  {
   "cell_type": "markdown",
   "metadata": {
    "toc": true
   },
   "source": [
    "Подставим значения из таблицы в формулу"
   ]
  },
  {
   "cell_type": "code",
   "execution_count": 5,
   "metadata": {},
   "outputs": [
    {
     "data": {
      "text/plain": [
       "9.73512347450521e-15"
      ]
     },
     "execution_count": 5,
     "metadata": {},
     "output_type": "execute_result"
    }
   ],
   "source": [
    "rougher_output_recovery_calc = (\n",
    "    ((gold_recovery_train_verification['rougher.output.concentrate_au'] * \n",
    "         (gold_recovery_train_verification['rougher.input.feed_au'] - \n",
    "          gold_recovery_train_verification['rougher.output.tail_au'])\n",
    "    ) / \n",
    "        (gold_recovery_train_verification['rougher.input.feed_au'] * \n",
    "         (gold_recovery_train_verification['rougher.output.concentrate_au'] - \n",
    "          gold_recovery_train_verification['rougher.output.tail_au']))) * 100\n",
    ")\n",
    "\n",
    "mean_absolute_error(rougher_output_recovery_calc, gold_recovery_train_verification['rougher.output.recovery'])"
   ]
  },
  {
   "cell_type": "markdown",
   "metadata": {
    "toc": true
   },
   "source": [
    "[К оглавлению](#Оглавление)"
   ]
  },
  {
   "cell_type": "markdown",
   "metadata": {},
   "source": [
    "### 2.1. Вывод по формуле<a name=\"формуле\"></a>\n",
    "\n",
    "- Параметр recovery в train рассчитаны верно"
   ]
  },
  {
   "cell_type": "markdown",
   "metadata": {},
   "source": [
    "### 2.2. Анализ признаков, недоступных в тестовой выборке<a name=\"Анализ\"></a>"
   ]
  },
  {
   "cell_type": "markdown",
   "metadata": {
    "toc": true
   },
   "source": [
    "Посмотрим отсутствующие столбы"
   ]
  },
  {
   "cell_type": "code",
   "execution_count": 6,
   "metadata": {},
   "outputs": [
    {
     "data": {
      "text/plain": [
       "['rougher.calculation.sulfate_to_au_concentrate',\n",
       " 'rougher.output.tail_pb',\n",
       " 'rougher.calculation.floatbank10_sulfate_to_au_feed',\n",
       " 'primary_cleaner.output.concentrate_pb',\n",
       " 'rougher.output.tail_au',\n",
       " 'final.output.tail_pb',\n",
       " 'primary_cleaner.output.tail_ag',\n",
       " 'primary_cleaner.output.concentrate_au',\n",
       " 'rougher.output.tail_ag',\n",
       " 'secondary_cleaner.output.tail_ag',\n",
       " 'rougher.output.recovery',\n",
       " 'final.output.concentrate_pb',\n",
       " 'secondary_cleaner.output.tail_sol',\n",
       " 'final.output.tail_sol',\n",
       " 'rougher.calculation.au_pb_ratio',\n",
       " 'primary_cleaner.output.tail_sol',\n",
       " 'final.output.recovery',\n",
       " 'final.output.tail_au',\n",
       " 'rougher.output.concentrate_sol',\n",
       " 'final.output.concentrate_au',\n",
       " 'secondary_cleaner.output.tail_au',\n",
       " 'final.output.concentrate_ag',\n",
       " 'rougher.output.concentrate_ag',\n",
       " 'primary_cleaner.output.concentrate_ag',\n",
       " 'rougher.output.concentrate_pb',\n",
       " 'final.output.concentrate_sol',\n",
       " 'rougher.output.concentrate_au',\n",
       " 'rougher.calculation.floatbank11_sulfate_to_au_feed',\n",
       " 'primary_cleaner.output.tail_au',\n",
       " 'primary_cleaner.output.tail_pb',\n",
       " 'rougher.output.tail_sol',\n",
       " 'primary_cleaner.output.concentrate_sol',\n",
       " 'secondary_cleaner.output.tail_pb',\n",
       " 'final.output.tail_ag']"
      ]
     },
     "execution_count": 6,
     "metadata": {},
     "output_type": "execute_result"
    }
   ],
   "source": [
    "test_missing_columns = list(set(data_train.columns) - set(data_test.columns))\n",
    "test_missing_columns"
   ]
  },
  {
   "cell_type": "markdown",
   "metadata": {
    "toc": true
   },
   "source": [
    "[К оглавлению](#Оглавление)"
   ]
  },
  {
   "cell_type": "markdown",
   "metadata": {},
   "source": [
    "### 2.3 Вывод по анализу признаков<a name=\"Вывод_по\"></a>\n",
    "- почти все признаки, не вошедшие в тестовую выборку, являются промежуточными, их можно исключить и из обучающей выборки\n",
    "- признаки final.output.recovery и rougher.output.recovery являются целевыми, их необходимо добавить в тестовую выборку из полного датафрейма"
   ]
  },
  {
   "cell_type": "markdown",
   "metadata": {
    "toc": true
   },
   "source": [
    "[К оглавлению](#Оглавление)"
   ]
  },
  {
   "cell_type": "markdown",
   "metadata": {},
   "source": [
    "## 3. Предобработка данных<a name=\"Предобработка\"></a>"
   ]
  },
  {
   "cell_type": "markdown",
   "metadata": {
    "toc": true
   },
   "source": [
    "Проверим на дубликаты"
   ]
  },
  {
   "cell_type": "code",
   "execution_count": 7,
   "metadata": {},
   "outputs": [
    {
     "data": {
      "text/plain": [
       "0"
      ]
     },
     "execution_count": 7,
     "metadata": {},
     "output_type": "execute_result"
    }
   ],
   "source": [
    "data_train['date'].duplicated().sum()"
   ]
  },
  {
   "cell_type": "code",
   "execution_count": 8,
   "metadata": {},
   "outputs": [
    {
     "data": {
      "text/plain": [
       "0"
      ]
     },
     "execution_count": 8,
     "metadata": {},
     "output_type": "execute_result"
    }
   ],
   "source": [
    "data_test['date'].duplicated().sum()"
   ]
  },
  {
   "cell_type": "code",
   "execution_count": 9,
   "metadata": {},
   "outputs": [
    {
     "data": {
      "text/plain": [
       "0"
      ]
     },
     "execution_count": 9,
     "metadata": {},
     "output_type": "execute_result"
    }
   ],
   "source": [
    "data_full['date'].duplicated().sum()"
   ]
  },
  {
   "cell_type": "markdown",
   "metadata": {},
   "source": [
    "Проверим количесто пропусков"
   ]
  },
  {
   "cell_type": "code",
   "execution_count": 10,
   "metadata": {},
   "outputs": [
    {
     "name": "stdout",
     "output_type": "stream",
     "text": [
      "Количество строк с пропусками в data_train 4100\n",
      "Количество строк с пропусками в data_test 90\n",
      "Количество строк с пропусками в data_full 4481\n"
     ]
    }
   ],
   "source": [
    "print('Количество строк с пропусками в data_train', data_train.isna().sum().sum())\n",
    "print('Количество строк с пропусками в data_test', data_test.isna().sum().sum())\n",
    "print('Количество строк с пропусками в data_full', data_full.isna().sum().sum())"
   ]
  },
  {
   "cell_type": "markdown",
   "metadata": {},
   "source": [
    "Заполним пропуски ближайшими значениями, так как соседние по времени данные похожи"
   ]
  },
  {
   "cell_type": "code",
   "execution_count": 11,
   "metadata": {},
   "outputs": [],
   "source": [
    "data_train = data_train.fillna(method='ffill')\n",
    "data_test = data_test.fillna(method='ffill')\n",
    "data_full = data_full.fillna(method='ffill')"
   ]
  },
  {
   "cell_type": "markdown",
   "metadata": {},
   "source": [
    "Проверим количесто оставшихся пропусков"
   ]
  },
  {
   "cell_type": "code",
   "execution_count": 12,
   "metadata": {},
   "outputs": [
    {
     "name": "stdout",
     "output_type": "stream",
     "text": [
      "Количество строк с пропусками в data_train 0\n",
      "Количество строк с пропусками в data_test 0\n",
      "Количество строк с пропусками в data_full 0\n"
     ]
    }
   ],
   "source": [
    "print('Количество строк с пропусками в data_train', data_train.isna().sum().sum())\n",
    "print('Количество строк с пропусками в data_test', data_test.isna().sum().sum())\n",
    "print('Количество строк с пропусками в data_full', data_full.isna().sum().sum())"
   ]
  },
  {
   "cell_type": "markdown",
   "metadata": {
    "toc": true
   },
   "source": [
    "[К оглавлению](#Оглавление)"
   ]
  },
  {
   "cell_type": "markdown",
   "metadata": {},
   "source": [
    "## 3.1. Общий вывод по подготовке данных<a name=\"Общий\"></a>\n",
    "\n",
    "- во всех датафреймах значения записаны в формате float, кроме данных в столбце date\n",
    "- расчётная эффективность обогащения подсчитана правильно\n",
    "- из выборок удалены промежуточные признаки\n",
    "- в тестовую выборку добавлены значения целевых признаков\n",
    "- явных дубликатов в выборках не обнаружено\n",
    "- пропущенные значения в выборках обработаны"
   ]
  },
  {
   "cell_type": "markdown",
   "metadata": {},
   "source": [
    "## 4. Анализ данных<a name=\"Анализ_данных\"></a>"
   ]
  },
  {
   "cell_type": "code",
   "execution_count": 13,
   "metadata": {},
   "outputs": [
    {
     "name": "stdout",
     "output_type": "stream",
     "text": [
      "Концентрация до флотации\n",
      "Концентрация Серебра: 8.794927425814688 Свинца: 3.585095711585748 Золота: 8.266097326589103\n",
      "\n",
      "Концентрация после флотации\n",
      "Коцентрация Серебра: 11.994759359873429 Свинца: 7.606272313195003 Золота: 19.772000139486316\n",
      "\n",
      "Концентрация после первичной очистки\n",
      "Концентрация Серебра: 8.44240807771906 Свинца: 9.810316539310149 Золота: 32.1194004078765\n",
      "\n",
      "Концентрация поле вторичной очистки\n",
      "Концентрация Серебра: 5.168386967510243 Свинца: 9.978821384192907 Золота: 44.0765129419528\n"
     ]
    }
   ],
   "source": [
    "print('Концентрация до флотации')\n",
    "print('Концентрация Серебра:', data_full[\"rougher.input.feed_ag\"].mean(),'Свинца:', data_full[\"rougher.input.feed_pb\"].mean() ,'Золота:', data_full[\"rougher.input.feed_au\"].mean())\n",
    "print()\n",
    "print('Концентрация после флотации')\n",
    "print('Коцентрация Серебра:', data_full[\"rougher.output.concentrate_ag\"].mean(),'Свинца:',data_full[\"rougher.output.concentrate_pb\"].mean(),'Золота:', data_full[\"rougher.output.concentrate_au\"].mean())\n",
    "print()\n",
    "print('Концентрация после первичной очистки')\n",
    "print('Концентрация Серебра:', data_full[\"primary_cleaner.output.concentrate_ag\"].mean(),'Свинца:',data_full[\"primary_cleaner.output.concentrate_pb\"].mean(),'Золота:', data_full[\"primary_cleaner.output.concentrate_au\"].mean())\n",
    "print()\n",
    "print('Концентрация поле вторичной очистки')\n",
    "print('Концентрация Серебра:', data_full[\"final.output.concentrate_ag\"].mean(),'Свинца:', data_full[\"final.output.concentrate_pb\"].mean(),'Золота:', data_full[\"final.output.concentrate_au\"].mean())"
   ]
  },
  {
   "cell_type": "markdown",
   "metadata": {
    "toc": true
   },
   "source": [
    "[К оглавлению](#Оглавление)"
   ]
  },
  {
   "cell_type": "markdown",
   "metadata": {},
   "source": [
    "### 4.1. Bывод по анализу<a name=\"Bывод_анализу\"></a>\n",
    "- После каждого этапа очистки концентрация золота значительно возрастает\n",
    "- концентрация серебра повысилась только после флотации, на последующих этапах очистки прослеживается тенденция к снижению. Возможно, больше металла ушло в \"хвосты\"\n",
    "- Концентрация свинца значительно повысилась после флотации, при последующей очистке повышение не такое явное"
   ]
  },
  {
   "cell_type": "markdown",
   "metadata": {},
   "source": [
    "## 4.2. Построим гистаграммы по каждой из руд <a name=\"Построим\"></a>"
   ]
  },
  {
   "cell_type": "code",
   "execution_count": 14,
   "metadata": {},
   "outputs": [
    {
     "data": {
      "image/png": "[encoded data removed]",
      "text/plain": [
       "<Figure size 1080x360 with 1 Axes>"
      ]
     },
     "metadata": {
      "needs_background": "light"
     },
     "output_type": "display_data"
    }
   ],
   "source": [
    "plt.figure(figsize=(15,5))\n",
    "\n",
    "data_full['rougher.input.feed_au'].hist(bins=25, label='rougher.output.feed', alpha=0.8)\n",
    "data_full['rougher.output.concentrate_au'].hist(bins=25, label='rougher.output', alpha=0.5)\n",
    "data_full['primary_cleaner.output.concentrate_au'].hist(bins=25, label='primary_cleaner.output', alpha=0.5)\n",
    "data_full['final.output.concentrate_au'].hist(bins=25, label='secondary_cleaner.output', alpha=0.5)\n",
    "\n",
    "plt.title('Диаграмма концентрации золота au')\n",
    "plt.xlabel('Значения')\n",
    "plt.ylabel('Количество')\n",
    "plt.legend(loc='lower right')\n",
    "plt.show()"
   ]
  },
  {
   "cell_type": "code",
   "execution_count": 15,
   "metadata": {},
   "outputs": [
    {
     "data": {
      "image/png": "[encoded data removed]",
      "text/plain": [
       "<Figure size 1080x360 with 1 Axes>"
      ]
     },
     "metadata": {
      "needs_background": "light"
     },
     "output_type": "display_data"
    }
   ],
   "source": [
    "plt.figure(figsize=(15,5))\n",
    "\n",
    "data_full['rougher.input.feed_ag'].hist(bins=25, label='rougher.output.feed', alpha=0.8)\n",
    "data_full['rougher.output.concentrate_ag'].hist(bins=25, label='rougher.output', alpha=0.5)\n",
    "data_full['primary_cleaner.output.concentrate_ag'].hist(bins=25, label='primary_cleaner.output', alpha=0.5)\n",
    "data_full['final.output.concentrate_ag'].hist(bins=25, label='secondary_cleaner.output', alpha=0.5)\n",
    "\n",
    "plt.title('Диаграмма концентрации серебра ag')\n",
    "plt.legend(loc='lower right')\n",
    "plt.xlabel('Значения')\n",
    "plt.ylabel('Количество')\n",
    "plt.show()"
   ]
  },
  {
   "cell_type": "code",
   "execution_count": 16,
   "metadata": {},
   "outputs": [
    {
     "data": {
      "image/png": "[encoded data removed]",
      "text/plain": [
       "<Figure size 1080x360 with 1 Axes>"
      ]
     },
     "metadata": {
      "needs_background": "light"
     },
     "output_type": "display_data"
    }
   ],
   "source": [
    "plt.figure(figsize=(15,5))\n",
    "\n",
    "data_full['rougher.input.feed_pb'].hist(bins=25, label='rougher.output.feed', alpha=0.5)\n",
    "data_full['rougher.output.concentrate_pb'].hist(bins=25, label='rougher.output.concentrate', alpha=0.5)\n",
    "data_full['primary_cleaner.output.concentrate_pb'].hist(bins=25, label='primary_cleaner.output', alpha=0.5)\n",
    "data_full['final.output.concentrate_pb'].hist(bins=25, label='secondary_cleaner.output', alpha=0.5)\n",
    "plt.title('Диаграмма концентрации свинца pb')\n",
    "\n",
    "plt.legend(loc='upper left')\n",
    "plt.xlabel('Значения')\n",
    "plt.ylabel('Количество')\n",
    "plt.show()"
   ]
  },
  {
   "cell_type": "markdown",
   "metadata": {
    "toc": true
   },
   "source": [
    "[К оглавлению](#Оглавление)"
   ]
  },
  {
   "cell_type": "markdown",
   "metadata": {},
   "source": [
    "### 4.2.1. Bывод по гистограммам <a name=\"Bывод_гистограммам\"></a>\n",
    "- После каждого этапа очистки концентрация золота значительно возрастает\n",
    "- концентрация серебра повысилась только после флотации, на последующих этапах очистки прослеживается тенденция к снижению. Возможно, больше металла ушло в \"хвосты\"\n",
    "- Концентрация свинца значительно повысилась после флотации, при последующей очистке повышение не такое явное"
   ]
  },
  {
   "cell_type": "code",
   "execution_count": 17,
   "metadata": {},
   "outputs": [
    {
     "data": {
      "image/png": "[encoded data removed]",
      "text/plain": [
       "<Figure size 1080x576 with 1 Axes>"
      ]
     },
     "metadata": {
      "needs_background": "light"
     },
     "output_type": "display_data"
    }
   ],
   "source": [
    "plt.figure(figsize=(15,8))\n",
    "sns.kdeplot(data_train['primary_cleaner.input.feed_size'], label='Обучающая выборка')\n",
    "sns.kdeplot(data_test['primary_cleaner.input.feed_size'], label='Тестовая выборка')\n",
    "plt.title(\"Распределение размеров гранул после первичной очистки\")\n",
    "plt.xlabel(\"Количество гранул\")\n",
    "plt.ylabel(\"Размер гранул\")\n",
    "plt.grid(True)\n",
    "plt.legend()\n",
    "plt.show;"
   ]
  },
  {
   "cell_type": "code",
   "execution_count": 18,
   "metadata": {},
   "outputs": [
    {
     "data": {
      "image/png": "[encoded data removed]",
      "text/plain": [
       "<Figure size 1080x576 with 1 Axes>"
      ]
     },
     "metadata": {
      "needs_background": "light"
     },
     "output_type": "display_data"
    }
   ],
   "source": [
    "plt.figure(figsize=(15,8))\n",
    "sns.kdeplot(data_train['rougher.input.feed_size'], label='Обучающая выборка')\n",
    "sns.kdeplot(data_test['rougher.input.feed_size'], label='Тестовая выборка')\n",
    "plt.title(\"Распределение размеров гранул после флотации\")\n",
    "plt.xlabel(\"Количество гранул\")\n",
    "plt.ylabel(\"Размер гранул\")\n",
    "plt.grid(True)\n",
    "plt.legend()\n",
    "plt.show();"
   ]
  },
  {
   "cell_type": "markdown",
   "metadata": {
    "toc": true
   },
   "source": [
    "[К оглавлению](#Оглавление)"
   ]
  },
  {
   "cell_type": "markdown",
   "metadata": {},
   "source": [
    "#### 4.2.2. Bывод по графику<a name=\"Bывод_графику\"></a>\n",
    "- Распределения размеров гранул сырья в выборках схожи, никаких корректировок вносить не требуется"
   ]
  },
  {
   "cell_type": "markdown",
   "metadata": {
    "toc": true
   },
   "source": [
    "Обьединим по этапам очистки "
   ]
  },
  {
   "cell_type": "code",
   "execution_count": 19,
   "metadata": {},
   "outputs": [],
   "source": [
    "rougher_input_data = (\n",
    "        data_train['rougher.input.feed_au'] + \n",
    "        data_train['rougher.input.feed_ag'] + \n",
    "        data_train['rougher.input.feed_pb']\n",
    "    )\n",
    "\n",
    "rougher_output_data = (\n",
    "        data_train['rougher.output.concentrate_au'] +\n",
    "        data_train['rougher.output.concentrate_ag'] +\n",
    "        data_train['rougher.output.concentrate_pb']\n",
    "    )\n",
    "\n",
    "primary_cleaner_output_data = (\n",
    "        data_train['primary_cleaner.output.concentrate_au'] +\n",
    "        data_train['primary_cleaner.output.concentrate_ag'] +\n",
    "        data_train['primary_cleaner.output.concentrate_pb']\n",
    "    )\n",
    "\n",
    "final_output_data = (\n",
    "        data_train['final.output.concentrate_au'] +\n",
    "        data_train['final.output.concentrate_ag'] +\n",
    "        data_train['final.output.concentrate_pb']\n",
    "    )"
   ]
  },
  {
   "cell_type": "code",
   "execution_count": 20,
   "metadata": {},
   "outputs": [
    {
     "data": {
      "image/png": "[encoded data removed]",
      "text/plain": [
       "<Figure size 1008x504 with 1 Axes>"
      ]
     },
     "metadata": {
      "needs_background": "light"
     },
     "output_type": "display_data"
    }
   ],
   "source": [
    "plt.subplots(figsize=(14, 7))\n",
    "\n",
    "sns.kdeplot(label='Распределение сырья',\n",
    "            data=rougher_input_data);\n",
    "\n",
    "sns.kdeplot(label='Распределение после флотации',\n",
    "            data=rougher_output_data);\n",
    "\n",
    "sns.kdeplot(label='Распределение после первой очистки',\n",
    "            data=primary_cleaner_output_data);\n",
    "\n",
    "sns.kdeplot(label='Распределение после второй очистки',\n",
    "            data=final_output_data);\n",
    "\n",
    "plt.legend(fontsize = 15)\n",
    "plt.title(\"Распределения значений суммарнных концетраций\")\n",
    "plt.xlabel(\"Количество\")\n",
    "plt.ylabel(\"Суммарная концентрация металлов\")\n",
    "plt.grid(True)\n",
    "plt.show;"
   ]
  },
  {
   "cell_type": "markdown",
   "metadata": {
    "toc": true
   },
   "source": [
    "[К оглавлению](#Оглавление)"
   ]
  },
  {
   "cell_type": "markdown",
   "metadata": {},
   "source": [
    "#### 4.2.3. Bывод по графику<a name=\"Bыводпографику\"></a>\n",
    "- Суммарная концентрация металлов стабильно повышается после прохождения кажого этапа очистки"
   ]
  },
  {
   "cell_type": "markdown",
   "metadata": {
    "toc": true
   },
   "source": [
    "Суммарная концентрация на выходе флотации"
   ]
  },
  {
   "cell_type": "code",
   "execution_count": 21,
   "metadata": {},
   "outputs": [],
   "source": [
    "data_train['rougher_output_concentrate_ag_pb_sol_au'] = \\\n",
    "                data_train['rougher.output.concentrate_ag']\\\n",
    "              + data_train['rougher.output.concentrate_pb']\\\n",
    "              + data_train['rougher.output.concentrate_sol']\\\n",
    "              + data_train['rougher.output.concentrate_au']"
   ]
  },
  {
   "cell_type": "markdown",
   "metadata": {
    "toc": true
   },
   "source": [
    "Суммарная концентрация на выходе первой очистки"
   ]
  },
  {
   "cell_type": "code",
   "execution_count": 22,
   "metadata": {},
   "outputs": [],
   "source": [
    "data_train['primary_cleaner_output_concentrate_ag_pb_sol_au'] = \\\n",
    "                data_train['primary_cleaner.output.concentrate_ag']\\\n",
    "              + data_train['primary_cleaner.output.concentrate_pb']\\\n",
    "              + data_train['primary_cleaner.output.concentrate_sol']\\\n",
    "              + data_train['primary_cleaner.output.concentrate_au']"
   ]
  },
  {
   "cell_type": "markdown",
   "metadata": {
    "toc": true
   },
   "source": [
    "Суммарная концентрация на выходе финальной очистки"
   ]
  },
  {
   "cell_type": "code",
   "execution_count": 23,
   "metadata": {},
   "outputs": [],
   "source": [
    "data_train['final_output_concentrate_ag_pb_sol_au'] = \\\n",
    "                data_train['final.output.concentrate_ag']\\\n",
    "              + data_train['final.output.concentrate_pb']\\\n",
    "              + data_train['final.output.concentrate_sol']\\\n",
    "              + data_train['final.output.concentrate_au']"
   ]
  },
  {
   "cell_type": "code",
   "execution_count": 24,
   "metadata": {},
   "outputs": [
    {
     "data": {
      "image/png": "[encoded data removed]",
      "text/plain": [
       "<Figure size 1440x720 with 1 Axes>"
      ]
     },
     "metadata": {
      "needs_background": "light"
     },
     "output_type": "display_data"
    }
   ],
   "source": [
    "data_train[['rougher_output_concentrate_ag_pb_sol_au', 'primary_cleaner_output_concentrate_ag_pb_sol_au', 'final_output_concentrate_ag_pb_sol_au']].\\\n",
    "boxplot(figsize = (20,10))\n",
    "plt.title('диаграмма рассеяния суммарной концентрации на каждом из этапов')\n",
    "plt.ylabel('Значения')\n",
    "plt.show()"
   ]
  },
  {
   "cell_type": "markdown",
   "metadata": {
    "toc": true
   },
   "source": [
    "По распределению видно, что присутствуют выбросы. Есть много значению от 0 до 40, которые можно удалить. Отсечем немного этих выбросов"
   ]
  },
  {
   "cell_type": "code",
   "execution_count": 26,
   "metadata": {},
   "outputs": [],
   "source": [
    "data_train=data_train[data_train['rougher_output_concentrate_ag_pb_sol_au']>10]\n",
    "data_train=data_train[data_train['primary_cleaner_output_concentrate_ag_pb_sol_au']>10]\n",
    "data_train=data_train[data_train['final_output_concentrate_ag_pb_sol_au']>10]"
   ]
  },
  {
   "cell_type": "code",
   "execution_count": 27,
   "metadata": {},
   "outputs": [
    {
     "data": {
      "image/png": "[encoded data removed]",
      "text/plain": [
       "<Figure size 1440x720 with 1 Axes>"
      ]
     },
     "metadata": {
      "needs_background": "light"
     },
     "output_type": "display_data"
    }
   ],
   "source": [
    "data_train[['rougher_output_concentrate_ag_pb_sol_au', 'primary_cleaner_output_concentrate_ag_pb_sol_au', 'final_output_concentrate_ag_pb_sol_au']].\\\n",
    "boxplot(figsize = (20,10))\n",
    "plt.title('диаграмма рассеяния суммарной концентрации на каждом из этапов')\n",
    "plt.ylabel('Значения')\n",
    "plt.show()"
   ]
  },
  {
   "cell_type": "code",
   "execution_count": 28,
   "metadata": {},
   "outputs": [
    {
     "data": {
      "image/png": "[encoded data removed]",
      "text/plain": [
       "<Figure size 1008x504 with 1 Axes>"
      ]
     },
     "metadata": {
      "needs_background": "light"
     },
     "output_type": "display_data"
    }
   ],
   "source": [
    "plt.subplots(figsize=(14, 7))\n",
    "\n",
    "sns.kdeplot(label='Распределение сырья',\n",
    "            data=rougher_input_data);\n",
    "\n",
    "sns.kdeplot(label='Распределение после флотации',\n",
    "            data=data_train['rougher_output_concentrate_ag_pb_sol_au']);\n",
    "\n",
    "sns.kdeplot(label='Распределение после первой очистки',\n",
    "            data=data_train['primary_cleaner_output_concentrate_ag_pb_sol_au']);\n",
    "\n",
    "sns.kdeplot(label='Распределение после второй очистки',\n",
    "            data=data_train['final_output_concentrate_ag_pb_sol_au']);\n",
    "\n",
    "plt.legend(fontsize = 15)\n",
    "plt.title(\"Распределения значений суммарнных концетраций\")\n",
    "plt.xlabel(\"Количество\")\n",
    "plt.ylabel(\"Суммарная концентрация металлов\")\n",
    "plt.grid(True)\n",
    "plt.show;"
   ]
  },
  {
   "cell_type": "markdown",
   "metadata": {
    "toc": true
   },
   "source": [
    "[К оглавлению](#Оглавление)"
   ]
  },
  {
   "cell_type": "markdown",
   "metadata": {},
   "source": [
    "### 4.3. Вывод по анализу данных<a name=\"Выводанализуданных\"></a>\n",
    "   \n",
    "Анализ концентрации металлов показал, что концентрация золота значительно увеличивается на каждом этапе обработки сырья. Концентрация золота в отвалах тоже увеличивается, но при этом на порядок ниже чем в сырье. На всех графиках концентрации сырья видны значения равные нулю. Судя по распределению, это выбросы.\n",
    "    \n",
    "Построены графики распределения плотности вероятности значений размеров гранул на входе в этапы флотации и финальной очистки выборок train и test Сами распределения похожи, что говорит об однородности данных размеров сырья в выборках train и test\n",
    "\n",
    "Бросается в глаза большой хвост выбросов для язначений от левого уса до нуля. Для всех суммарных концентраций значения левого уса рассчитаны. Удалены выбросы попадающие в этот промежуток в т.ч и в файле data_train"
   ]
  },
  {
   "cell_type": "markdown",
   "metadata": {},
   "source": [
    "## 5. Сравнение моделей<a name=\"Сравнение_моделей\"></a>"
   ]
  },
  {
   "attachments": {
    "image.png": {
     "image/png": "[encoded data removed]"
    }
   },
   "cell_type": "markdown",
   "metadata": {},
   "source": [
    "![image.png](attachment:image.png)"
   ]
  },
  {
   "attachments": {
    "image.png": {
     "image/png": "[encoded data removed]"
    }
   },
   "cell_type": "markdown",
   "metadata": {},
   "source": [
    "![image.png](attachment:image.png)"
   ]
  },
  {
   "cell_type": "markdown",
   "metadata": {
    "toc": true
   },
   "source": [
    "Создадим функции для расчета по формулам"
   ]
  },
  {
   "cell_type": "code",
   "execution_count": 29,
   "metadata": {},
   "outputs": [],
   "source": [
    "def sMAPE(y_true,y_pred):\n",
    "    error = np.mean(abs(y_true - y_pred)/((abs(y_true)+abs(y_pred))/2))*100\n",
    "    return error"
   ]
  },
  {
   "cell_type": "code",
   "execution_count": 30,
   "metadata": {},
   "outputs": [],
   "source": [
    "def final_sMAPE(sMAPE_rougher,sMAPE_final):\n",
    "    return (0.25*sMAPE_rougher + 0.75*sMAPE_final)"
   ]
  },
  {
   "cell_type": "code",
   "execution_count": 31,
   "metadata": {},
   "outputs": [],
   "source": [
    "smape_scorer = make_scorer(final_sMAPE, greater_is_better=False)"
   ]
  },
  {
   "cell_type": "markdown",
   "metadata": {
    "toc": true
   },
   "source": [
    "Избавимся от столбцов, которых нет в df_test"
   ]
  },
  {
   "cell_type": "code",
   "execution_count": 32,
   "metadata": {},
   "outputs": [],
   "source": [
    "data_train.drop(test_missing_columns, axis=1, inplace=True)"
   ]
  },
  {
   "cell_type": "markdown",
   "metadata": {
    "toc": true
   },
   "source": [
    "Добавим необходимые столбцы"
   ]
  },
  {
   "cell_type": "code",
   "execution_count": 34,
   "metadata": {},
   "outputs": [],
   "source": [
    "data_train = data_train.merge(data_full[['date', 'rougher.output.recovery', 'final.output.recovery']], how = 'left',on = 'date')\n",
    "data_test = data_test.merge(data_full[['date', 'rougher.output.recovery', 'final.output.recovery']], how = 'left', on = 'date')"
   ]
  },
  {
   "cell_type": "markdown",
   "metadata": {
    "toc": true
   },
   "source": [
    "Посмотрим отсутствующие столбы"
   ]
  },
  {
   "cell_type": "code",
   "execution_count": 35,
   "metadata": {},
   "outputs": [
    {
     "data": {
      "text/plain": [
       "['primary_cleaner_output_concentrate_ag_pb_sol_au',\n",
       " 'final_output_concentrate_ag_pb_sol_au',\n",
       " 'rougher_output_concentrate_ag_pb_sol_au']"
      ]
     },
     "execution_count": 35,
     "metadata": {},
     "output_type": "execute_result"
    }
   ],
   "source": [
    "test_missing_columns = list(set(data_train.columns) - set(data_test.columns))\n",
    "test_missing_columns"
   ]
  },
  {
   "cell_type": "markdown",
   "metadata": {
    "toc": true
   },
   "source": [
    "Избавимся от столбцов, которых нет в df_test"
   ]
  },
  {
   "cell_type": "code",
   "execution_count": 36,
   "metadata": {},
   "outputs": [],
   "source": [
    "data_train.drop(test_missing_columns, axis=1, inplace=True)"
   ]
  },
  {
   "cell_type": "markdown",
   "metadata": {
    "toc": true
   },
   "source": [
    "Выделим целевой признак "
   ]
  },
  {
   "cell_type": "code",
   "execution_count": 37,
   "metadata": {},
   "outputs": [],
   "source": [
    "features_train_rougher = data_train.drop(['rougher.output.recovery', 'final.output.recovery', 'date'], axis=1)\n",
    "features_train_final = data_train.drop(['rougher.output.recovery', 'final.output.recovery', 'date'], axis=1)\n",
    "\n",
    "target_train_rougher = data_train['rougher.output.recovery']\n",
    "target_train_final = data_train['final.output.recovery']\n",
    "\n",
    "features_test_rougher = data_test.drop(['rougher.output.recovery', 'final.output.recovery', 'date'], axis=1)\n",
    "features_test_final = data_test.drop(['rougher.output.recovery', 'final.output.recovery', 'date'], axis=1)\n",
    "\n",
    "target_test_rougher = data_test['rougher.output.recovery']\n",
    "target_test_final = data_test['final.output.recovery']"
   ]
  },
  {
   "cell_type": "markdown",
   "metadata": {},
   "source": [
    "Объединим модели линейной регрессии, случайного леса в регрессии и решающего дерева в регрессии с масштабированием данных"
   ]
  },
  {
   "cell_type": "code",
   "execution_count": 38,
   "metadata": {},
   "outputs": [],
   "source": [
    "model_LR = make_pipeline(StandardScaler(), LinearRegression())\n",
    "model_DTR = make_pipeline(StandardScaler(), DecisionTreeRegressor(random_state=12345))\n",
    "model_RFR = make_pipeline(StandardScaler(), RandomForestRegressor(random_state=12345))"
   ]
  },
  {
   "cell_type": "markdown",
   "metadata": {
    "toc": true
   },
   "source": [
    "[К оглавлению](#Оглавление)"
   ]
  },
  {
   "cell_type": "markdown",
   "metadata": {},
   "source": [
    "### 5.1. LinearRegression<a name=\"LinearRegression\"></a>"
   ]
  },
  {
   "cell_type": "code",
   "execution_count": 39,
   "metadata": {},
   "outputs": [],
   "source": [
    "scorer = make_scorer(sMAPE, greater_is_better = False)\n",
    "parameters_LR = {'linearregression__fit_intercept':[True], 'linearregression__normalize':[True]}\n",
    "grid_rougher_LR = GridSearchCV(estimator=model_LR, param_grid=parameters_LR, cv=5, scoring=scorer)\n",
    "grid_final_LR = GridSearchCV(estimator=model_LR, param_grid=parameters_LR, cv=5, scoring=scorer)\n",
    "grid_rougher_LR.fit(features_train_rougher, target_train_rougher)\n",
    "grid_final_LR.fit(features_train_final, target_train_final)\n",
    "best_score_rougher_LR = grid_rougher_LR.best_score_\n",
    "best_score_final_LR = grid_final_LR.best_score_"
   ]
  },
  {
   "cell_type": "markdown",
   "metadata": {
    "toc": true
   },
   "source": [
    "[К оглавлению](#Оглавление)"
   ]
  },
  {
   "cell_type": "markdown",
   "metadata": {},
   "source": [
    "### 5.2. DecisionTreeRegressor<a name=\"DecisionTreeRegressor\"></a>"
   ]
  },
  {
   "cell_type": "markdown",
   "metadata": {},
   "source": [
    "Рассмотрим модель решающего дерева в регрессии и выберем для неё лучшие параметры"
   ]
  },
  {
   "cell_type": "code",
   "execution_count": 40,
   "metadata": {},
   "outputs": [],
   "source": [
    "parameters_DTR = {'decisiontreeregressor__max_depth':[None] + [i for i in range(2, 11)]}\n",
    "grid_rougher_DTR = GridSearchCV(estimator=model_DTR, param_grid=parameters_DTR, cv=5, scoring=scorer)\n",
    "grid_final_DTR = GridSearchCV(estimator=model_DTR, param_grid=parameters_DTR, cv=5, scoring=scorer)\n",
    "grid_rougher_DTR.fit(features_train_rougher, target_train_rougher)\n",
    "grid_final_DTR.fit(features_train_final, target_train_final)\n",
    "best_score_rougher_DTR = grid_rougher_DTR.best_score_\n",
    "best_score_final_DTR = grid_final_DTR.best_score_"
   ]
  },
  {
   "cell_type": "markdown",
   "metadata": {
    "toc": true
   },
   "source": [
    "[К оглавлению](#Оглавление)"
   ]
  },
  {
   "cell_type": "markdown",
   "metadata": {},
   "source": [
    "### 5.3. RandomForestRegressor<a name=\"RandomForestRegressor\"></a>"
   ]
  },
  {
   "cell_type": "markdown",
   "metadata": {},
   "source": [
    "Рассмотрим модель случайного леса в регрессии и выберем для неё лучшие параметры"
   ]
  },
  {
   "cell_type": "code",
   "execution_count": 41,
   "metadata": {
    "scrolled": true
   },
   "outputs": [],
   "source": [
    "parameters_RFR = {\"randomforestregressor__n_estimators\": [x for x in range(1, 50, 10)], 'randomforestregressor__max_depth':[i for i in range(2, 11)]}\n",
    "grid_rougher_RFR = GridSearchCV(estimator=model_RFR, param_grid=parameters_RFR, cv=3, scoring=scorer, n_jobs=-1)\n",
    "grid_final_RFR = GridSearchCV(estimator=model_RFR, param_grid=parameters_RFR, cv=3, scoring=scorer, n_jobs=-1)\n",
    "grid_rougher_RFR.fit(features_train_rougher, target_train_rougher)\n",
    "grid_final_RFR.fit(features_train_final, target_train_final)\n",
    "best_score_rougher_RFR = grid_rougher_RFR.best_score_\n",
    "best_score_final_RFR = grid_final_RFR.best_score_"
   ]
  },
  {
   "cell_type": "code",
   "execution_count": 42,
   "metadata": {},
   "outputs": [
    {
     "name": "stdout",
     "output_type": "stream",
     "text": [
      "Для параметра Rougher\n",
      "LinearRegression: 7.325404089860863\n",
      "DecisionTreeRegressor: 6.911903091586019\n",
      "RandomForestRegressor: 7.703333809076013\n",
      "Для параметра Final\n",
      "LinearRegression: 11.048877472902813\n",
      "DecisionTreeRegressor: 9.234847089915617\n",
      "RandomForestRegressor: 9.845636652020254\n",
      "Final sMAPE\n",
      "LinearRegression: 10.118009127142324\n",
      "DecisionTreeRegressor: 8.654111090333217\n",
      "RandomForestRegressor: 9.310060941284194\n"
     ]
    }
   ],
   "source": [
    "print('Для параметра Rougher')\n",
    "print('LinearRegression:', -best_score_rougher_LR)\n",
    "print('DecisionTreeRegressor:', -best_score_rougher_DTR)\n",
    "print('RandomForestRegressor:', -best_score_rougher_RFR)\n",
    "print('Для параметра Final')\n",
    "print('LinearRegression:', -best_score_final_LR)\n",
    "print('DecisionTreeRegressor:', -best_score_final_DTR)\n",
    "print('RandomForestRegressor:', -best_score_final_RFR)\n",
    "print('Final sMAPE')\n",
    "print('LinearRegression:', -final_sMAPE(best_score_rougher_LR, best_score_final_LR))\n",
    "print('DecisionTreeRegressor:', -final_sMAPE(best_score_rougher_DTR, best_score_final_DTR))\n",
    "print('RandomForestRegressor:', -final_sMAPE(best_score_rougher_RFR, best_score_final_RFR))"
   ]
  },
  {
   "cell_type": "markdown",
   "metadata": {},
   "source": [
    "Лучшая модель - модель случайного леса в регрессии, проверим на ней тестовую выборку"
   ]
  },
  {
   "cell_type": "code",
   "execution_count": 43,
   "metadata": {},
   "outputs": [
    {
     "name": "stdout",
     "output_type": "stream",
     "text": [
      "Final sMAPE for test: 9.10024005943878\n"
     ]
    }
   ],
   "source": [
    "test_rougher_RFR = grid_rougher_RFR.predict(features_test_rougher)\n",
    "test_final_RFR = grid_final_RFR.predict(features_test_final)\n",
    "print('Final sMAPE for test:', final_sMAPE(sMAPE(target_test_rougher, test_rougher_RFR),\n",
    "                                           sMAPE(target_test_final, test_final_RFR)))"
   ]
  },
  {
   "cell_type": "markdown",
   "metadata": {
    "toc": true
   },
   "source": [
    "[К оглавлению](#Оглавление)"
   ]
  },
  {
   "cell_type": "markdown",
   "metadata": {},
   "source": [
    "## 6. Сравнение с константной моделью<a name=\"Сравнение\"></a>"
   ]
  },
  {
   "cell_type": "markdown",
   "metadata": {},
   "source": [
    "Создание константной модели "
   ]
  },
  {
   "cell_type": "code",
   "execution_count": 44,
   "metadata": {},
   "outputs": [],
   "source": [
    "dummy_mean_rougher = DummyRegressor(strategy='mean')\n",
    "dummy_mean_final = DummyRegressor(strategy='mean')\n",
    "dummy_median_rougher = DummyRegressor(strategy='median')\n",
    "dummy_median_final = DummyRegressor(strategy='median')"
   ]
  },
  {
   "cell_type": "code",
   "execution_count": 45,
   "metadata": {},
   "outputs": [
    {
     "data": {
      "text/plain": [
       "DummyRegressor(strategy='median')"
      ]
     },
     "execution_count": 45,
     "metadata": {},
     "output_type": "execute_result"
    }
   ],
   "source": [
    "dummy_mean_rougher.fit(features_train_rougher, target_train_rougher)\n",
    "dummy_mean_final.fit(features_train_final, target_train_final)\n",
    "dummy_median_rougher.fit(features_train_rougher, target_train_rougher)\n",
    "dummy_median_final.fit(features_train_final, target_train_final)"
   ]
  },
  {
   "cell_type": "code",
   "execution_count": 46,
   "metadata": {},
   "outputs": [
    {
     "data": {
      "text/plain": [
       "DummyRegressor(strategy='median')"
      ]
     },
     "execution_count": 46,
     "metadata": {},
     "output_type": "execute_result"
    }
   ],
   "source": [
    "DummyRegressor(strategy='median')"
   ]
  },
  {
   "cell_type": "markdown",
   "metadata": {},
   "source": [
    "Предскажем наши значения"
   ]
  },
  {
   "cell_type": "code",
   "execution_count": 47,
   "metadata": {},
   "outputs": [],
   "source": [
    "dummy_mean_rougher_predict = dummy_mean_rougher.predict(features_test_rougher)\n",
    "dummy_mean_final_predict = dummy_mean_final.predict(features_test_final)\n",
    "dummy_median_rougher_predict = dummy_median_rougher.predict(features_test_rougher)\n",
    "dummy_median_final_predict = dummy_median_final.predict(features_test_final)"
   ]
  },
  {
   "cell_type": "markdown",
   "metadata": {},
   "source": [
    "Посмотрим ошибку метрики для среднего и медианного"
   ]
  },
  {
   "cell_type": "code",
   "execution_count": 48,
   "metadata": {},
   "outputs": [
    {
     "name": "stdout",
     "output_type": "stream",
     "text": [
      "Final sMAPE for dummy mean: 9.834706655230413\n",
      "Final sMAPE for dummy median: 9.452487971891792\n"
     ]
    }
   ],
   "source": [
    "print('Final sMAPE for dummy mean:', final_sMAPE(sMAPE(target_test_rougher, dummy_mean_rougher_predict),\n",
    "                                           sMAPE(target_test_final, dummy_mean_final_predict)))\n",
    "print('Final sMAPE for dummy median:', final_sMAPE(sMAPE(target_test_rougher, dummy_median_rougher_predict),\n",
    "                                           sMAPE(target_test_final, dummy_median_final_predict)))"
   ]
  },
  {
   "cell_type": "markdown",
   "metadata": {},
   "source": [
    "Наилучшей моделью среди модели линейного регрессии, дерева решений в регрессии и случайного леса в регрессии оказалась последняя модель. Её финальное sMAPE было меньше всего 8.297."
   ]
  },
  {
   "cell_type": "markdown",
   "metadata": {
    "toc": true
   },
   "source": [
    "[К оглавлению](#Оглавление)"
   ]
  },
  {
   "cell_type": "markdown",
   "metadata": {},
   "source": [
    "## 7. Вывод<a name=\"Вывод\"></a>"
   ]
  },
  {
   "cell_type": "markdown",
   "metadata": {},
   "source": [
    "В исследовании участвовали три различные модели прогнозирования: Случайный Лес, Решающее Дерево и Линейная Регрессия.\n",
    "\n",
    "По результатам исследования можем сделать следующие выводы:\n",
    "\n",
    "- в ходе предобработки и анализа полученных данных были обработаны пропуски, удалены промежуточные значения\n",
    "- проверена формула вычисления эффективности обогащения на соответствие действительности\n",
    "- исследованы изменения концентрации элементов на каждом этапе очистки\n",
    "- после каждого этапа очистки концентрация золота значительно возрастает\n",
    "- концентрация серебра повысилась только после флотации, на последующих этапах очистки прослеживается тенденция к снижению. \n",
    "- концентрация свинца значительно повысилась после флотации, при последующей очистке повышение не такое явное\n",
    "- суммарная концентрация металлов стабильно повышается после прохождения каждого этапа очистки\n",
    "- распределения размеров гранул сырья в выборках схожи, никаких корректировок вносить не требуется\n",
    "- обучены разные модели и оценено их качество кросс-валидацией и подсчётом метрики sMAPE (симметричное среднее абсолютное процентное отклонение)\n",
    "- Лучшая модель - модель случайного леса в регрессии"
   ]
  }
 ],
 "metadata": {
  "ExecuteTimeLog": [
   {
    "duration": 49,
    "start_time": "2023-02-14T17:43:20.828Z"
   },
   {
    "duration": 825,
    "start_time": "2023-02-14T17:43:25.004Z"
   },
   {
    "duration": 2237,
    "start_time": "2023-02-14T17:43:25.831Z"
   },
   {
    "duration": 100,
    "start_time": "2023-02-14T17:49:13.804Z"
   },
   {
    "duration": 714,
    "start_time": "2023-02-14T18:47:40.426Z"
   },
   {
    "duration": 139,
    "start_time": "2023-02-14T18:47:41.143Z"
   },
   {
    "duration": 7,
    "start_time": "2023-02-14T18:47:51.781Z"
   },
   {
    "duration": 5,
    "start_time": "2023-02-14T18:47:52.254Z"
   },
   {
    "duration": 7,
    "start_time": "2023-02-14T18:47:52.930Z"
   },
   {
    "duration": 28,
    "start_time": "2023-02-14T19:04:16.230Z"
   },
   {
    "duration": 4,
    "start_time": "2023-02-14T19:04:34.417Z"
   },
   {
    "duration": 56,
    "start_time": "2023-02-14T19:06:06.431Z"
   },
   {
    "duration": 7,
    "start_time": "2023-02-14T19:06:36.865Z"
   },
   {
    "duration": 20,
    "start_time": "2023-02-14T19:09:05.467Z"
   },
   {
    "duration": 12,
    "start_time": "2023-02-14T19:09:07.121Z"
   },
   {
    "duration": 749,
    "start_time": "2023-02-14T19:10:32.411Z"
   },
   {
    "duration": 11,
    "start_time": "2023-02-14T19:10:35.537Z"
   },
   {
    "duration": 8,
    "start_time": "2023-02-14T19:23:47.420Z"
   },
   {
    "duration": 14,
    "start_time": "2023-02-14T22:02:46.654Z"
   },
   {
    "duration": 48,
    "start_time": "2023-02-16T13:54:06.194Z"
   },
   {
    "duration": 1393,
    "start_time": "2023-02-16T13:57:38.935Z"
   },
   {
    "duration": 3095,
    "start_time": "2023-02-16T13:57:40.330Z"
   },
   {
    "duration": 92,
    "start_time": "2023-02-16T13:57:43.428Z"
   },
   {
    "duration": 9,
    "start_time": "2023-02-16T13:57:43.522Z"
   },
   {
    "duration": 8,
    "start_time": "2023-02-16T13:57:43.533Z"
   },
   {
    "duration": 31,
    "start_time": "2023-02-16T13:57:43.542Z"
   },
   {
    "duration": 12,
    "start_time": "2023-02-16T13:57:43.574Z"
   },
   {
    "duration": 5,
    "start_time": "2023-02-16T13:57:43.588Z"
   },
   {
    "duration": 5,
    "start_time": "2023-02-16T13:57:43.596Z"
   },
   {
    "duration": 6,
    "start_time": "2023-02-16T13:57:43.603Z"
   },
   {
    "duration": 4,
    "start_time": "2023-02-16T13:57:43.610Z"
   },
   {
    "duration": 60,
    "start_time": "2023-02-16T13:57:43.615Z"
   },
   {
    "duration": 16,
    "start_time": "2023-02-16T14:07:57.775Z"
   },
   {
    "duration": 23,
    "start_time": "2023-02-16T14:08:59.147Z"
   },
   {
    "duration": 16,
    "start_time": "2023-02-16T14:08:59.712Z"
   },
   {
    "duration": 1343,
    "start_time": "2023-02-16T14:09:44.716Z"
   },
   {
    "duration": 698,
    "start_time": "2023-02-16T14:09:46.062Z"
   },
   {
    "duration": 135,
    "start_time": "2023-02-16T14:09:46.762Z"
   },
   {
    "duration": 8,
    "start_time": "2023-02-16T14:09:46.899Z"
   },
   {
    "duration": 10,
    "start_time": "2023-02-16T14:09:46.908Z"
   },
   {
    "duration": 17,
    "start_time": "2023-02-16T14:09:46.920Z"
   },
   {
    "duration": 13,
    "start_time": "2023-02-16T14:09:46.939Z"
   },
   {
    "duration": 5,
    "start_time": "2023-02-16T14:09:46.967Z"
   },
   {
    "duration": 34,
    "start_time": "2023-02-16T14:09:46.974Z"
   },
   {
    "duration": 39,
    "start_time": "2023-02-16T14:09:47.011Z"
   },
   {
    "duration": 38,
    "start_time": "2023-02-16T14:09:47.052Z"
   },
   {
    "duration": 33,
    "start_time": "2023-02-16T14:09:47.092Z"
   },
   {
    "duration": 14,
    "start_time": "2023-02-16T14:09:47.127Z"
   },
   {
    "duration": 108,
    "start_time": "2023-02-16T14:23:17.332Z"
   },
   {
    "duration": 6,
    "start_time": "2023-02-16T14:26:04.843Z"
   },
   {
    "duration": 11,
    "start_time": "2023-02-16T14:26:16.189Z"
   },
   {
    "duration": 101,
    "start_time": "2023-02-16T14:26:35.792Z"
   },
   {
    "duration": 11,
    "start_time": "2023-02-16T14:26:45.224Z"
   },
   {
    "duration": 7,
    "start_time": "2023-02-16T14:28:35.317Z"
   },
   {
    "duration": 10,
    "start_time": "2023-02-16T14:33:15.799Z"
   },
   {
    "duration": 22,
    "start_time": "2023-02-16T14:33:30.264Z"
   },
   {
    "duration": 48,
    "start_time": "2023-02-16T18:30:02.327Z"
   },
   {
    "duration": 6,
    "start_time": "2023-02-16T18:30:22.031Z"
   },
   {
    "duration": 7,
    "start_time": "2023-02-16T18:31:02.046Z"
   },
   {
    "duration": 1655,
    "start_time": "2023-02-16T18:31:20.024Z"
   },
   {
    "duration": 1369,
    "start_time": "2023-02-16T18:31:31.737Z"
   },
   {
    "duration": 2157,
    "start_time": "2023-02-16T18:31:33.108Z"
   },
   {
    "duration": 96,
    "start_time": "2023-02-16T18:31:35.267Z"
   },
   {
    "duration": 10,
    "start_time": "2023-02-16T18:31:35.365Z"
   },
   {
    "duration": 18,
    "start_time": "2023-02-16T18:31:35.377Z"
   },
   {
    "duration": 30,
    "start_time": "2023-02-16T18:31:35.396Z"
   },
   {
    "duration": 13,
    "start_time": "2023-02-16T18:31:35.428Z"
   },
   {
    "duration": 6,
    "start_time": "2023-02-16T18:31:35.443Z"
   },
   {
    "duration": 10,
    "start_time": "2023-02-16T18:31:35.451Z"
   },
   {
    "duration": 13,
    "start_time": "2023-02-16T18:31:35.463Z"
   },
   {
    "duration": 15,
    "start_time": "2023-02-16T18:31:35.478Z"
   },
   {
    "duration": 45,
    "start_time": "2023-02-16T18:31:35.495Z"
   },
   {
    "duration": 13,
    "start_time": "2023-02-16T18:31:35.542Z"
   },
   {
    "duration": 12,
    "start_time": "2023-02-16T18:31:35.558Z"
   },
   {
    "duration": 123,
    "start_time": "2023-02-16T18:31:35.572Z"
   },
   {
    "duration": 56,
    "start_time": "2023-02-16T18:32:03.806Z"
   },
   {
    "duration": 17,
    "start_time": "2023-02-16T18:32:07.488Z"
   },
   {
    "duration": 573,
    "start_time": "2023-02-16T18:32:40.415Z"
   },
   {
    "duration": 544,
    "start_time": "2023-02-16T18:32:49.207Z"
   },
   {
    "duration": 639,
    "start_time": "2023-02-16T18:32:54.397Z"
   },
   {
    "duration": 620,
    "start_time": "2023-02-16T18:33:00.535Z"
   },
   {
    "duration": 525,
    "start_time": "2023-02-16T18:33:43.431Z"
   },
   {
    "duration": 541,
    "start_time": "2023-02-16T18:34:34.359Z"
   },
   {
    "duration": 13,
    "start_time": "2023-02-16T18:35:04.847Z"
   },
   {
    "duration": 317,
    "start_time": "2023-02-16T18:36:12.400Z"
   },
   {
    "duration": 12,
    "start_time": "2023-02-16T18:36:22.952Z"
   },
   {
    "duration": 397,
    "start_time": "2023-02-16T18:37:19.935Z"
   },
   {
    "duration": 432,
    "start_time": "2023-02-16T18:37:25.214Z"
   },
   {
    "duration": 426,
    "start_time": "2023-02-16T18:41:18.003Z"
   },
   {
    "duration": 377,
    "start_time": "2023-02-16T18:41:33.465Z"
   },
   {
    "duration": 411,
    "start_time": "2023-02-16T18:41:53.344Z"
   },
   {
    "duration": 378,
    "start_time": "2023-02-16T18:42:02.159Z"
   },
   {
    "duration": 466,
    "start_time": "2023-02-16T18:42:21.404Z"
   },
   {
    "duration": 463,
    "start_time": "2023-02-16T18:42:43.324Z"
   },
   {
    "duration": 13,
    "start_time": "2023-02-16T18:48:06.104Z"
   },
   {
    "duration": 1666,
    "start_time": "2023-02-16T18:49:32.697Z"
   },
   {
    "duration": 1712,
    "start_time": "2023-02-16T18:50:55.801Z"
   },
   {
    "duration": 1778,
    "start_time": "2023-02-16T18:55:44.344Z"
   },
   {
    "duration": 28,
    "start_time": "2023-02-16T18:56:01.736Z"
   },
   {
    "duration": 1577,
    "start_time": "2023-02-16T18:56:51.802Z"
   },
   {
    "duration": 6,
    "start_time": "2023-02-16T18:58:02.106Z"
   },
   {
    "duration": 1660,
    "start_time": "2023-02-16T18:58:12.538Z"
   },
   {
    "duration": 197,
    "start_time": "2023-02-16T18:59:28.525Z"
   },
   {
    "duration": 149,
    "start_time": "2023-02-16T18:59:53.661Z"
   },
   {
    "duration": 187,
    "start_time": "2023-02-16T19:02:30.476Z"
   },
   {
    "duration": 2334,
    "start_time": "2023-02-16T19:08:19.309Z"
   },
   {
    "duration": 2209,
    "start_time": "2023-02-16T19:08:29.904Z"
   },
   {
    "duration": 1574,
    "start_time": "2023-02-16T19:08:59.657Z"
   },
   {
    "duration": 1636,
    "start_time": "2023-02-16T19:09:45.791Z"
   },
   {
    "duration": 2077,
    "start_time": "2023-02-16T19:10:53.833Z"
   },
   {
    "duration": 4,
    "start_time": "2023-02-16T19:11:37.557Z"
   },
   {
    "duration": 1530,
    "start_time": "2023-02-16T19:12:50.683Z"
   },
   {
    "duration": 6,
    "start_time": "2023-02-16T19:13:00.502Z"
   },
   {
    "duration": 7,
    "start_time": "2023-02-16T19:13:22.253Z"
   },
   {
    "duration": 1223,
    "start_time": "2023-02-16T19:14:39.644Z"
   },
   {
    "duration": 128,
    "start_time": "2023-02-16T19:17:39.832Z"
   },
   {
    "duration": 135,
    "start_time": "2023-02-16T19:18:09.775Z"
   },
   {
    "duration": 999,
    "start_time": "2023-02-16T19:18:59.895Z"
   },
   {
    "duration": 1188,
    "start_time": "2023-02-16T19:19:41.879Z"
   },
   {
    "duration": 1294,
    "start_time": "2023-02-16T19:21:56.447Z"
   },
   {
    "duration": 1239,
    "start_time": "2023-02-16T19:24:15.226Z"
   },
   {
    "duration": 1289,
    "start_time": "2023-02-16T19:24:30.144Z"
   },
   {
    "duration": 4,
    "start_time": "2023-02-16T19:32:40.595Z"
   },
   {
    "duration": 4,
    "start_time": "2023-02-16T19:32:41.261Z"
   },
   {
    "duration": 3,
    "start_time": "2023-02-16T19:32:41.992Z"
   },
   {
    "duration": 3,
    "start_time": "2023-02-16T19:34:04.499Z"
   },
   {
    "duration": 4,
    "start_time": "2023-02-16T19:34:04.890Z"
   },
   {
    "duration": 4,
    "start_time": "2023-02-16T19:34:05.306Z"
   },
   {
    "duration": 1449,
    "start_time": "2023-02-16T19:35:16.829Z"
   },
   {
    "duration": 699,
    "start_time": "2023-02-16T19:35:18.280Z"
   },
   {
    "duration": 112,
    "start_time": "2023-02-16T19:35:18.981Z"
   },
   {
    "duration": 10,
    "start_time": "2023-02-16T19:35:19.095Z"
   },
   {
    "duration": 11,
    "start_time": "2023-02-16T19:35:19.126Z"
   },
   {
    "duration": 9,
    "start_time": "2023-02-16T19:35:19.139Z"
   },
   {
    "duration": 13,
    "start_time": "2023-02-16T19:35:19.150Z"
   },
   {
    "duration": 10,
    "start_time": "2023-02-16T19:35:19.165Z"
   },
   {
    "duration": 9,
    "start_time": "2023-02-16T19:35:19.176Z"
   },
   {
    "duration": 10,
    "start_time": "2023-02-16T19:35:19.187Z"
   },
   {
    "duration": 42,
    "start_time": "2023-02-16T19:35:19.198Z"
   },
   {
    "duration": 27,
    "start_time": "2023-02-16T19:35:19.242Z"
   },
   {
    "duration": 15,
    "start_time": "2023-02-16T19:35:19.270Z"
   },
   {
    "duration": 12,
    "start_time": "2023-02-16T19:35:19.286Z"
   },
   {
    "duration": 437,
    "start_time": "2023-02-16T19:35:19.327Z"
   },
   {
    "duration": 153,
    "start_time": "2023-02-16T19:35:19.766Z"
   },
   {
    "duration": 9,
    "start_time": "2023-02-16T19:35:19.921Z"
   },
   {
    "duration": 1112,
    "start_time": "2023-02-16T19:35:19.931Z"
   },
   {
    "duration": 5,
    "start_time": "2023-02-16T19:35:21.045Z"
   },
   {
    "duration": 5,
    "start_time": "2023-02-16T19:35:21.051Z"
   },
   {
    "duration": 5,
    "start_time": "2023-02-16T19:35:21.058Z"
   },
   {
    "duration": 8,
    "start_time": "2023-02-16T19:41:05.854Z"
   },
   {
    "duration": 4,
    "start_time": "2023-02-16T19:43:15.556Z"
   },
   {
    "duration": 3,
    "start_time": "2023-02-16T19:43:15.964Z"
   },
   {
    "duration": 10,
    "start_time": "2023-02-16T19:43:16.844Z"
   },
   {
    "duration": 108,
    "start_time": "2023-02-16T19:43:27.196Z"
   },
   {
    "duration": 9,
    "start_time": "2023-02-16T19:53:50.966Z"
   },
   {
    "duration": 13,
    "start_time": "2023-02-16T19:55:12.199Z"
   },
   {
    "duration": 7,
    "start_time": "2023-02-16T19:55:23.330Z"
   },
   {
    "duration": 11,
    "start_time": "2023-02-16T19:55:27.286Z"
   },
   {
    "duration": 7,
    "start_time": "2023-02-16T19:55:33.151Z"
   },
   {
    "duration": 10,
    "start_time": "2023-02-16T19:55:33.974Z"
   },
   {
    "duration": 10,
    "start_time": "2023-02-16T19:55:47.950Z"
   },
   {
    "duration": 7,
    "start_time": "2023-02-16T19:55:51.640Z"
   },
   {
    "duration": 9,
    "start_time": "2023-02-16T19:56:01.999Z"
   },
   {
    "duration": 9,
    "start_time": "2023-02-16T19:56:06.037Z"
   },
   {
    "duration": 1378,
    "start_time": "2023-02-16T19:56:11.435Z"
   },
   {
    "duration": 684,
    "start_time": "2023-02-16T19:56:12.815Z"
   },
   {
    "duration": 161,
    "start_time": "2023-02-16T19:56:13.501Z"
   },
   {
    "duration": 64,
    "start_time": "2023-02-16T19:56:13.664Z"
   },
   {
    "duration": 9,
    "start_time": "2023-02-16T19:56:13.730Z"
   },
   {
    "duration": 26,
    "start_time": "2023-02-16T19:56:13.740Z"
   },
   {
    "duration": 61,
    "start_time": "2023-02-16T19:56:13.768Z"
   },
   {
    "duration": 6,
    "start_time": "2023-02-16T19:56:13.831Z"
   },
   {
    "duration": 11,
    "start_time": "2023-02-16T19:56:13.839Z"
   },
   {
    "duration": 16,
    "start_time": "2023-02-16T19:56:13.853Z"
   },
   {
    "duration": 66,
    "start_time": "2023-02-16T19:56:13.871Z"
   },
   {
    "duration": 27,
    "start_time": "2023-02-16T19:56:13.938Z"
   },
   {
    "duration": 72,
    "start_time": "2023-02-16T19:56:13.967Z"
   },
   {
    "duration": 11,
    "start_time": "2023-02-16T19:56:14.040Z"
   },
   {
    "duration": 895,
    "start_time": "2023-02-16T19:56:14.053Z"
   },
   {
    "duration": 321,
    "start_time": "2023-02-16T19:56:14.949Z"
   },
   {
    "duration": 7,
    "start_time": "2023-02-16T19:56:15.326Z"
   },
   {
    "duration": 1612,
    "start_time": "2023-02-16T19:56:15.334Z"
   },
   {
    "duration": 3,
    "start_time": "2023-02-16T19:56:16.948Z"
   },
   {
    "duration": 9,
    "start_time": "2023-02-16T19:56:16.952Z"
   },
   {
    "duration": 11,
    "start_time": "2023-02-16T19:56:16.962Z"
   },
   {
    "duration": 122,
    "start_time": "2023-02-16T19:56:16.975Z"
   },
   {
    "duration": 0,
    "start_time": "2023-02-16T19:56:17.099Z"
   },
   {
    "duration": 10,
    "start_time": "2023-02-16T19:56:22.110Z"
   },
   {
    "duration": 10,
    "start_time": "2023-02-16T19:56:32.903Z"
   },
   {
    "duration": 11,
    "start_time": "2023-02-16T19:56:34.535Z"
   },
   {
    "duration": 14,
    "start_time": "2023-02-16T19:57:18.775Z"
   },
   {
    "duration": 7,
    "start_time": "2023-02-16T19:57:39.975Z"
   },
   {
    "duration": 15,
    "start_time": "2023-02-16T19:57:40.677Z"
   },
   {
    "duration": 8,
    "start_time": "2023-02-16T20:03:15.456Z"
   },
   {
    "duration": 10,
    "start_time": "2023-02-16T20:03:25.672Z"
   },
   {
    "duration": 24,
    "start_time": "2023-02-16T20:03:34.823Z"
   },
   {
    "duration": 9,
    "start_time": "2023-02-16T20:05:21.800Z"
   },
   {
    "duration": 58,
    "start_time": "2023-02-16T20:08:40.298Z"
   },
   {
    "duration": 14,
    "start_time": "2023-02-16T20:08:46.458Z"
   },
   {
    "duration": 2295,
    "start_time": "2023-02-16T20:08:56.274Z"
   },
   {
    "duration": 714,
    "start_time": "2023-02-16T20:08:58.570Z"
   },
   {
    "duration": 118,
    "start_time": "2023-02-16T20:08:59.286Z"
   },
   {
    "duration": 28,
    "start_time": "2023-02-16T20:08:59.406Z"
   },
   {
    "duration": 14,
    "start_time": "2023-02-16T20:08:59.440Z"
   },
   {
    "duration": 10,
    "start_time": "2023-02-16T20:08:59.456Z"
   },
   {
    "duration": 13,
    "start_time": "2023-02-16T20:08:59.468Z"
   },
   {
    "duration": 6,
    "start_time": "2023-02-16T20:08:59.483Z"
   },
   {
    "duration": 9,
    "start_time": "2023-02-16T20:08:59.490Z"
   },
   {
    "duration": 30,
    "start_time": "2023-02-16T20:08:59.500Z"
   },
   {
    "duration": 15,
    "start_time": "2023-02-16T20:08:59.540Z"
   },
   {
    "duration": 27,
    "start_time": "2023-02-16T20:08:59.557Z"
   },
   {
    "duration": 15,
    "start_time": "2023-02-16T20:08:59.586Z"
   },
   {
    "duration": 33,
    "start_time": "2023-02-16T20:08:59.603Z"
   },
   {
    "duration": 442,
    "start_time": "2023-02-16T20:08:59.638Z"
   },
   {
    "duration": 165,
    "start_time": "2023-02-16T20:09:00.082Z"
   },
   {
    "duration": 7,
    "start_time": "2023-02-16T20:09:00.249Z"
   },
   {
    "duration": 1234,
    "start_time": "2023-02-16T20:09:00.258Z"
   },
   {
    "duration": 3,
    "start_time": "2023-02-16T20:09:01.494Z"
   },
   {
    "duration": 9,
    "start_time": "2023-02-16T20:09:01.498Z"
   },
   {
    "duration": 13,
    "start_time": "2023-02-16T20:09:01.508Z"
   },
   {
    "duration": 120,
    "start_time": "2023-02-16T20:09:01.530Z"
   },
   {
    "duration": 3,
    "start_time": "2023-02-16T20:12:00.204Z"
   },
   {
    "duration": 9,
    "start_time": "2023-02-16T20:13:59.900Z"
   },
   {
    "duration": 11,
    "start_time": "2023-02-16T20:14:55.708Z"
   },
   {
    "duration": 47,
    "start_time": "2023-02-18T13:09:59.698Z"
   },
   {
    "duration": 1749,
    "start_time": "2023-02-18T13:10:04.402Z"
   },
   {
    "duration": 3115,
    "start_time": "2023-02-18T13:10:06.154Z"
   },
   {
    "duration": 103,
    "start_time": "2023-02-18T13:10:09.271Z"
   },
   {
    "duration": 10,
    "start_time": "2023-02-18T13:10:09.391Z"
   },
   {
    "duration": 9,
    "start_time": "2023-02-18T13:10:09.403Z"
   },
   {
    "duration": 8,
    "start_time": "2023-02-18T13:10:09.413Z"
   },
   {
    "duration": 12,
    "start_time": "2023-02-18T13:10:09.422Z"
   },
   {
    "duration": 14,
    "start_time": "2023-02-18T13:10:09.436Z"
   },
   {
    "duration": 18,
    "start_time": "2023-02-18T13:10:09.452Z"
   },
   {
    "duration": 6,
    "start_time": "2023-02-18T13:10:09.492Z"
   },
   {
    "duration": 18,
    "start_time": "2023-02-18T13:10:09.500Z"
   },
   {
    "duration": 27,
    "start_time": "2023-02-18T13:10:09.520Z"
   },
   {
    "duration": 16,
    "start_time": "2023-02-18T13:10:09.549Z"
   },
   {
    "duration": 12,
    "start_time": "2023-02-18T13:10:09.592Z"
   },
   {
    "duration": 429,
    "start_time": "2023-02-18T13:10:09.606Z"
   },
   {
    "duration": 161,
    "start_time": "2023-02-18T13:10:10.037Z"
   },
   {
    "duration": 7,
    "start_time": "2023-02-18T13:10:10.200Z"
   },
   {
    "duration": 1207,
    "start_time": "2023-02-18T13:10:10.208Z"
   },
   {
    "duration": 2,
    "start_time": "2023-02-18T13:10:11.417Z"
   },
   {
    "duration": 54,
    "start_time": "2023-02-18T13:10:11.421Z"
   },
   {
    "duration": 116,
    "start_time": "2023-02-18T13:10:11.477Z"
   },
   {
    "duration": 0,
    "start_time": "2023-02-18T13:10:11.595Z"
   },
   {
    "duration": 8,
    "start_time": "2023-02-18T13:20:58.372Z"
   },
   {
    "duration": 10,
    "start_time": "2023-02-18T13:23:02.364Z"
   },
   {
    "duration": 9,
    "start_time": "2023-02-18T13:23:57.084Z"
   },
   {
    "duration": 2,
    "start_time": "2023-02-18T13:51:46.395Z"
   },
   {
    "duration": 27,
    "start_time": "2023-02-18T13:54:03.561Z"
   },
   {
    "duration": 1324,
    "start_time": "2023-02-18T13:54:22.728Z"
   },
   {
    "duration": 669,
    "start_time": "2023-02-18T13:54:24.055Z"
   },
   {
    "duration": 120,
    "start_time": "2023-02-18T13:54:24.726Z"
   },
   {
    "duration": 10,
    "start_time": "2023-02-18T13:54:24.847Z"
   },
   {
    "duration": 38,
    "start_time": "2023-02-18T13:54:24.859Z"
   },
   {
    "duration": 16,
    "start_time": "2023-02-18T13:54:24.898Z"
   },
   {
    "duration": 39,
    "start_time": "2023-02-18T13:54:24.916Z"
   },
   {
    "duration": 6,
    "start_time": "2023-02-18T13:54:24.957Z"
   },
   {
    "duration": 10,
    "start_time": "2023-02-18T13:54:24.964Z"
   },
   {
    "duration": 20,
    "start_time": "2023-02-18T13:54:24.976Z"
   },
   {
    "duration": 24,
    "start_time": "2023-02-18T13:54:24.998Z"
   },
   {
    "duration": 36,
    "start_time": "2023-02-18T13:54:25.023Z"
   },
   {
    "duration": 16,
    "start_time": "2023-02-18T13:54:25.061Z"
   },
   {
    "duration": 12,
    "start_time": "2023-02-18T13:54:25.093Z"
   },
   {
    "duration": 434,
    "start_time": "2023-02-18T13:54:25.107Z"
   },
   {
    "duration": 180,
    "start_time": "2023-02-18T13:54:25.543Z"
   },
   {
    "duration": 8,
    "start_time": "2023-02-18T13:54:25.725Z"
   },
   {
    "duration": 1168,
    "start_time": "2023-02-18T13:54:25.735Z"
   },
   {
    "duration": 3,
    "start_time": "2023-02-18T13:54:26.905Z"
   },
   {
    "duration": 6,
    "start_time": "2023-02-18T13:54:26.909Z"
   },
   {
    "duration": 121,
    "start_time": "2023-02-18T13:54:26.917Z"
   },
   {
    "duration": 0,
    "start_time": "2023-02-18T13:54:27.039Z"
   },
   {
    "duration": 12,
    "start_time": "2023-02-18T13:55:08.946Z"
   },
   {
    "duration": 15,
    "start_time": "2023-02-18T13:55:53.835Z"
   },
   {
    "duration": 3,
    "start_time": "2023-02-18T13:56:11.644Z"
   },
   {
    "duration": 15,
    "start_time": "2023-02-18T13:56:14.043Z"
   },
   {
    "duration": 11,
    "start_time": "2023-02-18T13:57:02.032Z"
   },
   {
    "duration": 16,
    "start_time": "2023-02-18T13:58:30.423Z"
   },
   {
    "duration": 30,
    "start_time": "2023-02-18T13:59:01.335Z"
   },
   {
    "duration": 10,
    "start_time": "2023-02-18T13:59:42.526Z"
   },
   {
    "duration": 5,
    "start_time": "2023-02-18T14:00:13.859Z"
   },
   {
    "duration": 10,
    "start_time": "2023-02-18T14:00:19.564Z"
   },
   {
    "duration": 4,
    "start_time": "2023-02-18T14:00:47.452Z"
   },
   {
    "duration": 10,
    "start_time": "2023-02-18T14:00:51.259Z"
   },
   {
    "duration": 4,
    "start_time": "2023-02-18T14:01:29.276Z"
   },
   {
    "duration": 3,
    "start_time": "2023-02-18T14:01:32.875Z"
   },
   {
    "duration": 12,
    "start_time": "2023-02-18T14:03:05.627Z"
   },
   {
    "duration": 10,
    "start_time": "2023-02-18T14:04:15.628Z"
   },
   {
    "duration": 93,
    "start_time": "2023-02-18T14:04:30.845Z"
   },
   {
    "duration": 15,
    "start_time": "2023-02-18T14:04:42.251Z"
   },
   {
    "duration": 14,
    "start_time": "2023-02-18T14:04:48.798Z"
   },
   {
    "duration": 17,
    "start_time": "2023-02-18T14:05:40.166Z"
   },
   {
    "duration": 9,
    "start_time": "2023-02-18T14:52:24.460Z"
   },
   {
    "duration": 16,
    "start_time": "2023-02-18T14:52:31.860Z"
   },
   {
    "duration": 32,
    "start_time": "2023-02-18T14:53:47.035Z"
   },
   {
    "duration": 10,
    "start_time": "2023-02-18T14:54:38.780Z"
   },
   {
    "duration": 10,
    "start_time": "2023-02-18T14:55:08.943Z"
   },
   {
    "duration": 5,
    "start_time": "2023-02-18T14:55:25.099Z"
   },
   {
    "duration": 198,
    "start_time": "2023-02-18T14:55:27.231Z"
   },
   {
    "duration": 17,
    "start_time": "2023-02-18T14:55:29.564Z"
   },
   {
    "duration": 15,
    "start_time": "2023-02-18T14:56:23.573Z"
   },
   {
    "duration": 15,
    "start_time": "2023-02-18T14:57:21.328Z"
   },
   {
    "duration": 14,
    "start_time": "2023-02-18T14:57:37.564Z"
   },
   {
    "duration": 18,
    "start_time": "2023-02-18T14:57:44.902Z"
   },
   {
    "duration": 1363,
    "start_time": "2023-02-18T14:59:21.569Z"
   },
   {
    "duration": 671,
    "start_time": "2023-02-18T14:59:22.933Z"
   },
   {
    "duration": 117,
    "start_time": "2023-02-18T14:59:23.606Z"
   },
   {
    "duration": 9,
    "start_time": "2023-02-18T14:59:23.724Z"
   },
   {
    "duration": 15,
    "start_time": "2023-02-18T14:59:23.736Z"
   },
   {
    "duration": 5,
    "start_time": "2023-02-18T14:59:23.753Z"
   },
   {
    "duration": 6,
    "start_time": "2023-02-18T14:59:23.760Z"
   },
   {
    "duration": 30,
    "start_time": "2023-02-18T14:59:23.794Z"
   },
   {
    "duration": 6,
    "start_time": "2023-02-18T14:59:23.826Z"
   },
   {
    "duration": 7,
    "start_time": "2023-02-18T14:59:23.833Z"
   },
   {
    "duration": 8,
    "start_time": "2023-02-18T14:59:23.842Z"
   },
   {
    "duration": 48,
    "start_time": "2023-02-18T14:59:23.851Z"
   },
   {
    "duration": 36,
    "start_time": "2023-02-18T14:59:23.901Z"
   },
   {
    "duration": 14,
    "start_time": "2023-02-18T14:59:23.940Z"
   },
   {
    "duration": 36,
    "start_time": "2023-02-18T14:59:23.956Z"
   },
   {
    "duration": 430,
    "start_time": "2023-02-18T14:59:23.994Z"
   },
   {
    "duration": 153,
    "start_time": "2023-02-18T14:59:24.425Z"
   },
   {
    "duration": 15,
    "start_time": "2023-02-18T14:59:24.579Z"
   },
   {
    "duration": 1208,
    "start_time": "2023-02-18T14:59:24.595Z"
   },
   {
    "duration": 2,
    "start_time": "2023-02-18T14:59:25.805Z"
   },
   {
    "duration": 5,
    "start_time": "2023-02-18T14:59:25.809Z"
   },
   {
    "duration": 126,
    "start_time": "2023-02-18T14:59:25.816Z"
   },
   {
    "duration": 0,
    "start_time": "2023-02-18T14:59:25.945Z"
   },
   {
    "duration": 0,
    "start_time": "2023-02-18T14:59:25.946Z"
   },
   {
    "duration": 0,
    "start_time": "2023-02-18T14:59:25.948Z"
   },
   {
    "duration": 0,
    "start_time": "2023-02-18T14:59:25.949Z"
   },
   {
    "duration": 0,
    "start_time": "2023-02-18T14:59:25.950Z"
   },
   {
    "duration": 1403,
    "start_time": "2023-02-18T15:00:33.758Z"
   },
   {
    "duration": 689,
    "start_time": "2023-02-18T15:00:35.162Z"
   },
   {
    "duration": 116,
    "start_time": "2023-02-18T15:00:35.853Z"
   },
   {
    "duration": 25,
    "start_time": "2023-02-18T15:00:35.971Z"
   },
   {
    "duration": 20,
    "start_time": "2023-02-18T15:00:35.998Z"
   },
   {
    "duration": 8,
    "start_time": "2023-02-18T15:00:36.020Z"
   },
   {
    "duration": 36,
    "start_time": "2023-02-18T15:00:36.030Z"
   },
   {
    "duration": 6,
    "start_time": "2023-02-18T15:00:36.068Z"
   },
   {
    "duration": 26,
    "start_time": "2023-02-18T15:00:36.075Z"
   },
   {
    "duration": 15,
    "start_time": "2023-02-18T15:00:36.102Z"
   },
   {
    "duration": 17,
    "start_time": "2023-02-18T15:00:36.119Z"
   },
   {
    "duration": 41,
    "start_time": "2023-02-18T15:00:36.137Z"
   },
   {
    "duration": 21,
    "start_time": "2023-02-18T15:00:36.180Z"
   },
   {
    "duration": 12,
    "start_time": "2023-02-18T15:00:36.203Z"
   },
   {
    "duration": 522,
    "start_time": "2023-02-18T15:00:36.217Z"
   },
   {
    "duration": 157,
    "start_time": "2023-02-18T15:00:36.741Z"
   },
   {
    "duration": 7,
    "start_time": "2023-02-18T15:00:36.899Z"
   },
   {
    "duration": 1103,
    "start_time": "2023-02-18T15:00:36.908Z"
   },
   {
    "duration": 4,
    "start_time": "2023-02-18T15:00:38.012Z"
   },
   {
    "duration": 9,
    "start_time": "2023-02-18T15:00:38.018Z"
   },
   {
    "duration": 129,
    "start_time": "2023-02-18T15:00:38.028Z"
   },
   {
    "duration": 0,
    "start_time": "2023-02-18T15:00:38.158Z"
   },
   {
    "duration": 0,
    "start_time": "2023-02-18T15:00:38.160Z"
   },
   {
    "duration": 0,
    "start_time": "2023-02-18T15:00:38.161Z"
   },
   {
    "duration": 0,
    "start_time": "2023-02-18T15:00:38.162Z"
   },
   {
    "duration": 0,
    "start_time": "2023-02-18T15:00:38.164Z"
   },
   {
    "duration": 42,
    "start_time": "2023-02-18T15:03:26.006Z"
   },
   {
    "duration": 1212,
    "start_time": "2023-02-18T15:04:38.066Z"
   },
   {
    "duration": 105,
    "start_time": "2023-02-18T15:04:48.605Z"
   },
   {
    "duration": 1155,
    "start_time": "2023-02-18T15:04:53.678Z"
   },
   {
    "duration": 29,
    "start_time": "2023-02-18T15:05:25.134Z"
   },
   {
    "duration": 35,
    "start_time": "2023-02-18T15:05:40.719Z"
   },
   {
    "duration": 5,
    "start_time": "2023-02-18T15:05:54.847Z"
   },
   {
    "duration": 220,
    "start_time": "2023-02-18T15:06:06.329Z"
   },
   {
    "duration": 1184,
    "start_time": "2023-02-18T15:06:09.341Z"
   },
   {
    "duration": 1233,
    "start_time": "2023-02-18T15:06:34.636Z"
   },
   {
    "duration": 15,
    "start_time": "2023-02-18T15:06:39.135Z"
   },
   {
    "duration": 1220,
    "start_time": "2023-02-18T15:06:55.893Z"
   },
   {
    "duration": 1249,
    "start_time": "2023-02-18T15:07:27.903Z"
   },
   {
    "duration": 99,
    "start_time": "2023-02-18T15:07:32.453Z"
   },
   {
    "duration": 6,
    "start_time": "2023-02-18T15:07:33.132Z"
   },
   {
    "duration": 5,
    "start_time": "2023-02-18T15:07:33.776Z"
   },
   {
    "duration": 7,
    "start_time": "2023-02-18T15:07:49.631Z"
   },
   {
    "duration": 20,
    "start_time": "2023-02-18T15:07:52.429Z"
   },
   {
    "duration": 3,
    "start_time": "2023-02-18T15:08:11.454Z"
   },
   {
    "duration": 11,
    "start_time": "2023-02-18T15:08:21.359Z"
   },
   {
    "duration": 4,
    "start_time": "2023-02-18T15:09:09.731Z"
   },
   {
    "duration": 14,
    "start_time": "2023-02-18T15:09:15.663Z"
   },
   {
    "duration": 3,
    "start_time": "2023-02-18T15:09:55.538Z"
   },
   {
    "duration": 12055,
    "start_time": "2023-02-18T15:09:59.856Z"
   },
   {
    "duration": 11,
    "start_time": "2023-02-18T15:10:17.535Z"
   },
   {
    "duration": 3,
    "start_time": "2023-02-18T15:10:30.129Z"
   },
   {
    "duration": 10,
    "start_time": "2023-02-18T15:10:31.791Z"
   },
   {
    "duration": 787,
    "start_time": "2023-02-18T15:11:17.471Z"
   },
   {
    "duration": 3,
    "start_time": "2023-02-18T15:12:05.469Z"
   },
   {
    "duration": 846,
    "start_time": "2023-02-18T15:12:06.447Z"
   },
   {
    "duration": 807,
    "start_time": "2023-02-18T15:12:29.840Z"
   },
   {
    "duration": 4,
    "start_time": "2023-02-18T15:13:38.280Z"
   },
   {
    "duration": 770,
    "start_time": "2023-02-18T15:13:42.153Z"
   },
   {
    "duration": 2,
    "start_time": "2023-02-18T15:14:51.657Z"
   },
   {
    "duration": 1409,
    "start_time": "2023-02-18T15:14:59.028Z"
   },
   {
    "duration": 8900,
    "start_time": "2023-02-18T15:15:57.758Z"
   },
   {
    "duration": 75417,
    "start_time": "2023-02-18T15:16:08.846Z"
   },
   {
    "duration": 6,
    "start_time": "2023-02-18T15:17:24.265Z"
   },
   {
    "duration": 25,
    "start_time": "2023-02-18T15:17:43.303Z"
   },
   {
    "duration": 20,
    "start_time": "2023-02-18T15:17:51.096Z"
   },
   {
    "duration": 9,
    "start_time": "2023-02-18T15:18:35.943Z"
   },
   {
    "duration": 4,
    "start_time": "2023-02-18T15:19:12.193Z"
   },
   {
    "duration": 2,
    "start_time": "2023-02-18T15:19:12.785Z"
   },
   {
    "duration": 1383,
    "start_time": "2023-02-18T15:19:13.298Z"
   },
   {
    "duration": 1457,
    "start_time": "2023-02-18T15:19:35.573Z"
   },
   {
    "duration": 689,
    "start_time": "2023-02-18T15:19:37.032Z"
   },
   {
    "duration": 118,
    "start_time": "2023-02-18T15:19:37.722Z"
   },
   {
    "duration": 9,
    "start_time": "2023-02-18T15:19:37.843Z"
   },
   {
    "duration": 9,
    "start_time": "2023-02-18T15:19:37.854Z"
   },
   {
    "duration": 27,
    "start_time": "2023-02-18T15:19:37.865Z"
   },
   {
    "duration": 27,
    "start_time": "2023-02-18T15:19:37.894Z"
   },
   {
    "duration": 1214,
    "start_time": "2023-02-18T15:19:37.923Z"
   },
   {
    "duration": 0,
    "start_time": "2023-02-18T15:19:39.139Z"
   },
   {
    "duration": 0,
    "start_time": "2023-02-18T15:19:39.141Z"
   },
   {
    "duration": 0,
    "start_time": "2023-02-18T15:19:39.142Z"
   },
   {
    "duration": 0,
    "start_time": "2023-02-18T15:19:39.143Z"
   },
   {
    "duration": 0,
    "start_time": "2023-02-18T15:19:39.144Z"
   },
   {
    "duration": 0,
    "start_time": "2023-02-18T15:19:39.145Z"
   },
   {
    "duration": 0,
    "start_time": "2023-02-18T15:19:39.146Z"
   },
   {
    "duration": 0,
    "start_time": "2023-02-18T15:19:39.147Z"
   },
   {
    "duration": 0,
    "start_time": "2023-02-18T15:19:39.148Z"
   },
   {
    "duration": 0,
    "start_time": "2023-02-18T15:19:39.150Z"
   },
   {
    "duration": 0,
    "start_time": "2023-02-18T15:19:39.151Z"
   },
   {
    "duration": 0,
    "start_time": "2023-02-18T15:19:39.152Z"
   },
   {
    "duration": 0,
    "start_time": "2023-02-18T15:19:39.153Z"
   },
   {
    "duration": 0,
    "start_time": "2023-02-18T15:19:39.154Z"
   },
   {
    "duration": 0,
    "start_time": "2023-02-18T15:19:39.155Z"
   },
   {
    "duration": 0,
    "start_time": "2023-02-18T15:19:39.156Z"
   },
   {
    "duration": 0,
    "start_time": "2023-02-18T15:19:39.157Z"
   },
   {
    "duration": 0,
    "start_time": "2023-02-18T15:19:39.158Z"
   },
   {
    "duration": 0,
    "start_time": "2023-02-18T15:19:39.159Z"
   },
   {
    "duration": 0,
    "start_time": "2023-02-18T15:19:39.160Z"
   },
   {
    "duration": 0,
    "start_time": "2023-02-18T15:19:39.161Z"
   },
   {
    "duration": 0,
    "start_time": "2023-02-18T15:19:39.162Z"
   },
   {
    "duration": 0,
    "start_time": "2023-02-18T15:19:39.163Z"
   },
   {
    "duration": 0,
    "start_time": "2023-02-18T15:19:39.164Z"
   },
   {
    "duration": 0,
    "start_time": "2023-02-18T15:19:39.165Z"
   },
   {
    "duration": 0,
    "start_time": "2023-02-18T15:19:39.166Z"
   },
   {
    "duration": 0,
    "start_time": "2023-02-18T15:19:39.167Z"
   },
   {
    "duration": 3,
    "start_time": "2023-02-18T15:20:17.296Z"
   },
   {
    "duration": 28,
    "start_time": "2023-02-18T15:20:34.950Z"
   },
   {
    "duration": 6,
    "start_time": "2023-02-18T15:20:36.736Z"
   },
   {
    "duration": 1460,
    "start_time": "2023-02-18T15:20:44.984Z"
   },
   {
    "duration": 691,
    "start_time": "2023-02-18T15:20:46.446Z"
   },
   {
    "duration": 121,
    "start_time": "2023-02-18T15:20:47.139Z"
   },
   {
    "duration": 10,
    "start_time": "2023-02-18T15:20:47.262Z"
   },
   {
    "duration": 9,
    "start_time": "2023-02-18T15:20:47.292Z"
   },
   {
    "duration": 14,
    "start_time": "2023-02-18T15:20:47.302Z"
   },
   {
    "duration": 32,
    "start_time": "2023-02-18T15:20:47.318Z"
   },
   {
    "duration": 1380,
    "start_time": "2023-02-18T15:20:47.352Z"
   },
   {
    "duration": 0,
    "start_time": "2023-02-18T15:20:48.734Z"
   },
   {
    "duration": 1,
    "start_time": "2023-02-18T15:20:48.735Z"
   },
   {
    "duration": 0,
    "start_time": "2023-02-18T15:20:48.736Z"
   },
   {
    "duration": 0,
    "start_time": "2023-02-18T15:20:48.737Z"
   },
   {
    "duration": 0,
    "start_time": "2023-02-18T15:20:48.738Z"
   },
   {
    "duration": 0,
    "start_time": "2023-02-18T15:20:48.739Z"
   },
   {
    "duration": 0,
    "start_time": "2023-02-18T15:20:48.741Z"
   },
   {
    "duration": 0,
    "start_time": "2023-02-18T15:20:48.742Z"
   },
   {
    "duration": 0,
    "start_time": "2023-02-18T15:20:48.743Z"
   },
   {
    "duration": 0,
    "start_time": "2023-02-18T15:20:48.744Z"
   },
   {
    "duration": 0,
    "start_time": "2023-02-18T15:20:48.745Z"
   },
   {
    "duration": 0,
    "start_time": "2023-02-18T15:20:48.746Z"
   },
   {
    "duration": 0,
    "start_time": "2023-02-18T15:20:48.747Z"
   },
   {
    "duration": 0,
    "start_time": "2023-02-18T15:20:48.748Z"
   },
   {
    "duration": 0,
    "start_time": "2023-02-18T15:20:48.749Z"
   },
   {
    "duration": 0,
    "start_time": "2023-02-18T15:20:48.750Z"
   },
   {
    "duration": 0,
    "start_time": "2023-02-18T15:20:48.751Z"
   },
   {
    "duration": 0,
    "start_time": "2023-02-18T15:20:48.752Z"
   },
   {
    "duration": 0,
    "start_time": "2023-02-18T15:20:48.753Z"
   },
   {
    "duration": 0,
    "start_time": "2023-02-18T15:20:48.754Z"
   },
   {
    "duration": 0,
    "start_time": "2023-02-18T15:20:48.754Z"
   },
   {
    "duration": 0,
    "start_time": "2023-02-18T15:20:48.755Z"
   },
   {
    "duration": 0,
    "start_time": "2023-02-18T15:20:48.757Z"
   },
   {
    "duration": 0,
    "start_time": "2023-02-18T15:20:48.758Z"
   },
   {
    "duration": 0,
    "start_time": "2023-02-18T15:20:48.759Z"
   },
   {
    "duration": 0,
    "start_time": "2023-02-18T15:20:48.760Z"
   },
   {
    "duration": 0,
    "start_time": "2023-02-18T15:20:48.760Z"
   },
   {
    "duration": 1389,
    "start_time": "2023-02-18T15:21:11.567Z"
   },
   {
    "duration": 679,
    "start_time": "2023-02-18T15:21:12.958Z"
   },
   {
    "duration": 113,
    "start_time": "2023-02-18T15:21:13.641Z"
   },
   {
    "duration": 10,
    "start_time": "2023-02-18T15:21:13.755Z"
   },
   {
    "duration": 33,
    "start_time": "2023-02-18T15:21:13.766Z"
   },
   {
    "duration": 6,
    "start_time": "2023-02-18T15:21:13.800Z"
   },
   {
    "duration": 114,
    "start_time": "2023-02-18T15:21:13.807Z"
   },
   {
    "duration": 27,
    "start_time": "2023-02-18T15:21:13.923Z"
   },
   {
    "duration": 6,
    "start_time": "2023-02-18T15:21:13.953Z"
   },
   {
    "duration": 16,
    "start_time": "2023-02-18T15:21:13.961Z"
   },
   {
    "duration": 20,
    "start_time": "2023-02-18T15:21:13.978Z"
   },
   {
    "duration": 6,
    "start_time": "2023-02-18T15:21:14.000Z"
   },
   {
    "duration": 7,
    "start_time": "2023-02-18T15:21:14.008Z"
   },
   {
    "duration": 19,
    "start_time": "2023-02-18T15:21:14.017Z"
   },
   {
    "duration": 60,
    "start_time": "2023-02-18T15:21:14.038Z"
   },
   {
    "duration": 14,
    "start_time": "2023-02-18T15:21:14.100Z"
   },
   {
    "duration": 12,
    "start_time": "2023-02-18T15:21:14.116Z"
   },
   {
    "duration": 526,
    "start_time": "2023-02-18T15:21:14.129Z"
   },
   {
    "duration": 178,
    "start_time": "2023-02-18T15:21:14.657Z"
   },
   {
    "duration": 6,
    "start_time": "2023-02-18T15:21:14.837Z"
   },
   {
    "duration": 1257,
    "start_time": "2023-02-18T15:21:14.845Z"
   },
   {
    "duration": 4,
    "start_time": "2023-02-18T15:21:16.103Z"
   },
   {
    "duration": 11,
    "start_time": "2023-02-18T15:21:16.109Z"
   },
   {
    "duration": 11,
    "start_time": "2023-02-18T15:21:16.122Z"
   },
   {
    "duration": 256,
    "start_time": "2023-02-18T15:21:16.135Z"
   },
   {
    "duration": 142,
    "start_time": "2023-02-18T15:21:16.393Z"
   },
   {
    "duration": 0,
    "start_time": "2023-02-18T15:21:16.537Z"
   },
   {
    "duration": 0,
    "start_time": "2023-02-18T15:21:16.538Z"
   },
   {
    "duration": 0,
    "start_time": "2023-02-18T15:21:16.539Z"
   },
   {
    "duration": 0,
    "start_time": "2023-02-18T15:21:16.541Z"
   },
   {
    "duration": 0,
    "start_time": "2023-02-18T15:21:16.542Z"
   },
   {
    "duration": 0,
    "start_time": "2023-02-18T15:21:16.544Z"
   },
   {
    "duration": 0,
    "start_time": "2023-02-18T15:21:16.545Z"
   },
   {
    "duration": 0,
    "start_time": "2023-02-18T15:21:16.546Z"
   },
   {
    "duration": 0,
    "start_time": "2023-02-18T15:21:16.547Z"
   },
   {
    "duration": 0,
    "start_time": "2023-02-18T15:21:16.548Z"
   },
   {
    "duration": 1543,
    "start_time": "2023-02-18T15:21:59.852Z"
   },
   {
    "duration": 707,
    "start_time": "2023-02-18T15:22:01.397Z"
   },
   {
    "duration": 118,
    "start_time": "2023-02-18T15:22:02.106Z"
   },
   {
    "duration": 9,
    "start_time": "2023-02-18T15:22:02.225Z"
   },
   {
    "duration": 16,
    "start_time": "2023-02-18T15:22:02.236Z"
   },
   {
    "duration": 5,
    "start_time": "2023-02-18T15:22:02.253Z"
   },
   {
    "duration": 57,
    "start_time": "2023-02-18T15:22:02.260Z"
   },
   {
    "duration": 27,
    "start_time": "2023-02-18T15:22:02.319Z"
   },
   {
    "duration": 5,
    "start_time": "2023-02-18T15:22:02.348Z"
   },
   {
    "duration": 18,
    "start_time": "2023-02-18T15:22:02.355Z"
   },
   {
    "duration": 19,
    "start_time": "2023-02-18T15:22:02.374Z"
   },
   {
    "duration": 27,
    "start_time": "2023-02-18T15:22:02.395Z"
   },
   {
    "duration": 36,
    "start_time": "2023-02-18T15:22:02.424Z"
   },
   {
    "duration": 28,
    "start_time": "2023-02-18T15:22:02.463Z"
   },
   {
    "duration": 12,
    "start_time": "2023-02-18T15:22:02.493Z"
   },
   {
    "duration": 431,
    "start_time": "2023-02-18T15:22:02.506Z"
   },
   {
    "duration": 155,
    "start_time": "2023-02-18T15:22:02.938Z"
   },
   {
    "duration": 7,
    "start_time": "2023-02-18T15:22:03.095Z"
   },
   {
    "duration": 1110,
    "start_time": "2023-02-18T15:22:03.104Z"
   },
   {
    "duration": 3,
    "start_time": "2023-02-18T15:22:04.216Z"
   },
   {
    "duration": 8,
    "start_time": "2023-02-18T15:22:04.221Z"
   },
   {
    "duration": 5,
    "start_time": "2023-02-18T15:22:04.231Z"
   },
   {
    "duration": 214,
    "start_time": "2023-02-18T15:22:04.237Z"
   },
   {
    "duration": 131,
    "start_time": "2023-02-18T15:22:04.452Z"
   },
   {
    "duration": 0,
    "start_time": "2023-02-18T15:22:04.585Z"
   },
   {
    "duration": 0,
    "start_time": "2023-02-18T15:22:04.585Z"
   },
   {
    "duration": 0,
    "start_time": "2023-02-18T15:22:04.586Z"
   },
   {
    "duration": 0,
    "start_time": "2023-02-18T15:22:04.587Z"
   },
   {
    "duration": 0,
    "start_time": "2023-02-18T15:22:04.587Z"
   },
   {
    "duration": 0,
    "start_time": "2023-02-18T15:22:04.592Z"
   },
   {
    "duration": 0,
    "start_time": "2023-02-18T15:22:04.594Z"
   },
   {
    "duration": 0,
    "start_time": "2023-02-18T15:22:04.595Z"
   },
   {
    "duration": 0,
    "start_time": "2023-02-18T15:22:04.596Z"
   },
   {
    "duration": 0,
    "start_time": "2023-02-18T15:22:04.597Z"
   },
   {
    "duration": 1178,
    "start_time": "2023-02-18T15:23:59.328Z"
   },
   {
    "duration": 25,
    "start_time": "2023-02-18T15:24:17.727Z"
   },
   {
    "duration": 6,
    "start_time": "2023-02-18T15:24:19.627Z"
   },
   {
    "duration": 5,
    "start_time": "2023-02-18T15:24:42.235Z"
   },
   {
    "duration": 1416,
    "start_time": "2023-02-18T15:24:51.016Z"
   },
   {
    "duration": 675,
    "start_time": "2023-02-18T15:24:52.434Z"
   },
   {
    "duration": 115,
    "start_time": "2023-02-18T15:24:53.111Z"
   },
   {
    "duration": 13,
    "start_time": "2023-02-18T15:24:53.228Z"
   },
   {
    "duration": 34,
    "start_time": "2023-02-18T15:24:53.243Z"
   },
   {
    "duration": 30,
    "start_time": "2023-02-18T15:24:53.278Z"
   },
   {
    "duration": 38,
    "start_time": "2023-02-18T15:24:53.310Z"
   },
   {
    "duration": 1304,
    "start_time": "2023-02-18T15:24:53.349Z"
   },
   {
    "duration": 0,
    "start_time": "2023-02-18T15:24:54.656Z"
   },
   {
    "duration": 0,
    "start_time": "2023-02-18T15:24:54.656Z"
   },
   {
    "duration": 0,
    "start_time": "2023-02-18T15:24:54.658Z"
   },
   {
    "duration": 0,
    "start_time": "2023-02-18T15:24:54.659Z"
   },
   {
    "duration": 0,
    "start_time": "2023-02-18T15:24:54.660Z"
   },
   {
    "duration": 0,
    "start_time": "2023-02-18T15:24:54.661Z"
   },
   {
    "duration": 0,
    "start_time": "2023-02-18T15:24:54.662Z"
   },
   {
    "duration": 0,
    "start_time": "2023-02-18T15:24:54.663Z"
   },
   {
    "duration": 0,
    "start_time": "2023-02-18T15:24:54.664Z"
   },
   {
    "duration": 0,
    "start_time": "2023-02-18T15:24:54.665Z"
   },
   {
    "duration": 0,
    "start_time": "2023-02-18T15:24:54.666Z"
   },
   {
    "duration": 0,
    "start_time": "2023-02-18T15:24:54.667Z"
   },
   {
    "duration": 0,
    "start_time": "2023-02-18T15:24:54.668Z"
   },
   {
    "duration": 0,
    "start_time": "2023-02-18T15:24:54.669Z"
   },
   {
    "duration": 0,
    "start_time": "2023-02-18T15:24:54.671Z"
   },
   {
    "duration": 0,
    "start_time": "2023-02-18T15:24:54.672Z"
   },
   {
    "duration": 0,
    "start_time": "2023-02-18T15:24:54.673Z"
   },
   {
    "duration": 0,
    "start_time": "2023-02-18T15:24:54.674Z"
   },
   {
    "duration": 0,
    "start_time": "2023-02-18T15:24:54.675Z"
   },
   {
    "duration": 0,
    "start_time": "2023-02-18T15:24:54.676Z"
   },
   {
    "duration": 0,
    "start_time": "2023-02-18T15:24:54.677Z"
   },
   {
    "duration": 0,
    "start_time": "2023-02-18T15:24:54.678Z"
   },
   {
    "duration": 0,
    "start_time": "2023-02-18T15:24:54.679Z"
   },
   {
    "duration": 0,
    "start_time": "2023-02-18T15:24:54.680Z"
   },
   {
    "duration": 0,
    "start_time": "2023-02-18T15:24:54.681Z"
   },
   {
    "duration": 0,
    "start_time": "2023-02-18T15:24:54.682Z"
   },
   {
    "duration": 0,
    "start_time": "2023-02-18T15:24:54.683Z"
   },
   {
    "duration": 0,
    "start_time": "2023-02-18T15:24:54.685Z"
   },
   {
    "duration": 0,
    "start_time": "2023-02-18T15:24:54.686Z"
   },
   {
    "duration": 1399,
    "start_time": "2023-02-18T15:25:08.057Z"
   },
   {
    "duration": 696,
    "start_time": "2023-02-18T15:25:09.457Z"
   },
   {
    "duration": 119,
    "start_time": "2023-02-18T15:25:10.155Z"
   },
   {
    "duration": 10,
    "start_time": "2023-02-18T15:25:10.291Z"
   },
   {
    "duration": 11,
    "start_time": "2023-02-18T15:25:10.303Z"
   },
   {
    "duration": 4,
    "start_time": "2023-02-18T15:25:10.316Z"
   },
   {
    "duration": 36,
    "start_time": "2023-02-18T15:25:10.322Z"
   },
   {
    "duration": 50,
    "start_time": "2023-02-18T15:25:10.360Z"
   },
   {
    "duration": 7,
    "start_time": "2023-02-18T15:25:10.412Z"
   },
   {
    "duration": 8,
    "start_time": "2023-02-18T15:25:10.423Z"
   },
   {
    "duration": 8,
    "start_time": "2023-02-18T15:25:10.433Z"
   },
   {
    "duration": 6,
    "start_time": "2023-02-18T15:25:10.443Z"
   },
   {
    "duration": 15,
    "start_time": "2023-02-18T15:25:10.450Z"
   },
   {
    "duration": 16,
    "start_time": "2023-02-18T15:25:10.493Z"
   },
   {
    "duration": 37,
    "start_time": "2023-02-18T15:25:10.510Z"
   },
   {
    "duration": 14,
    "start_time": "2023-02-18T15:25:10.549Z"
   },
   {
    "duration": 13,
    "start_time": "2023-02-18T15:25:10.591Z"
   },
   {
    "duration": 429,
    "start_time": "2023-02-18T15:25:10.606Z"
   },
   {
    "duration": 185,
    "start_time": "2023-02-18T15:25:11.037Z"
   },
   {
    "duration": 8,
    "start_time": "2023-02-18T15:25:11.225Z"
   },
   {
    "duration": 1170,
    "start_time": "2023-02-18T15:25:11.235Z"
   },
   {
    "duration": 3,
    "start_time": "2023-02-18T15:25:12.407Z"
   },
   {
    "duration": 7,
    "start_time": "2023-02-18T15:25:12.411Z"
   },
   {
    "duration": 13,
    "start_time": "2023-02-18T15:25:12.419Z"
   },
   {
    "duration": 213,
    "start_time": "2023-02-18T15:25:12.434Z"
   },
   {
    "duration": 1226,
    "start_time": "2023-02-18T15:25:12.649Z"
   },
   {
    "duration": 0,
    "start_time": "2023-02-18T15:25:13.877Z"
   },
   {
    "duration": 0,
    "start_time": "2023-02-18T15:25:13.878Z"
   },
   {
    "duration": 0,
    "start_time": "2023-02-18T15:25:13.879Z"
   },
   {
    "duration": 0,
    "start_time": "2023-02-18T15:25:13.891Z"
   },
   {
    "duration": 0,
    "start_time": "2023-02-18T15:25:13.892Z"
   },
   {
    "duration": 0,
    "start_time": "2023-02-18T15:25:13.893Z"
   },
   {
    "duration": 0,
    "start_time": "2023-02-18T15:25:13.894Z"
   },
   {
    "duration": 0,
    "start_time": "2023-02-18T15:25:13.896Z"
   },
   {
    "duration": 0,
    "start_time": "2023-02-18T15:25:13.896Z"
   },
   {
    "duration": 0,
    "start_time": "2023-02-18T15:25:13.897Z"
   },
   {
    "duration": 0,
    "start_time": "2023-02-18T15:25:14.023Z"
   },
   {
    "duration": 0,
    "start_time": "2023-02-18T15:25:14.025Z"
   },
   {
    "duration": 1532,
    "start_time": "2023-02-18T15:27:04.797Z"
   },
   {
    "duration": 706,
    "start_time": "2023-02-18T15:27:06.331Z"
   },
   {
    "duration": 113,
    "start_time": "2023-02-18T15:27:07.038Z"
   },
   {
    "duration": 10,
    "start_time": "2023-02-18T15:27:07.153Z"
   },
   {
    "duration": 34,
    "start_time": "2023-02-18T15:27:07.165Z"
   },
   {
    "duration": 19,
    "start_time": "2023-02-18T15:27:07.201Z"
   },
   {
    "duration": 37,
    "start_time": "2023-02-18T15:27:07.223Z"
   },
   {
    "duration": 1251,
    "start_time": "2023-02-18T15:27:07.261Z"
   },
   {
    "duration": 0,
    "start_time": "2023-02-18T15:27:08.515Z"
   },
   {
    "duration": 0,
    "start_time": "2023-02-18T15:27:08.517Z"
   },
   {
    "duration": 0,
    "start_time": "2023-02-18T15:27:08.518Z"
   },
   {
    "duration": 0,
    "start_time": "2023-02-18T15:27:08.520Z"
   },
   {
    "duration": 0,
    "start_time": "2023-02-18T15:27:08.521Z"
   },
   {
    "duration": 0,
    "start_time": "2023-02-18T15:27:08.523Z"
   },
   {
    "duration": 0,
    "start_time": "2023-02-18T15:27:08.524Z"
   },
   {
    "duration": 0,
    "start_time": "2023-02-18T15:27:08.526Z"
   },
   {
    "duration": 0,
    "start_time": "2023-02-18T15:27:08.527Z"
   },
   {
    "duration": 0,
    "start_time": "2023-02-18T15:27:08.529Z"
   },
   {
    "duration": 0,
    "start_time": "2023-02-18T15:27:08.530Z"
   },
   {
    "duration": 0,
    "start_time": "2023-02-18T15:27:08.532Z"
   },
   {
    "duration": 0,
    "start_time": "2023-02-18T15:27:08.533Z"
   },
   {
    "duration": 0,
    "start_time": "2023-02-18T15:27:08.534Z"
   },
   {
    "duration": 0,
    "start_time": "2023-02-18T15:27:08.536Z"
   },
   {
    "duration": 0,
    "start_time": "2023-02-18T15:27:08.537Z"
   },
   {
    "duration": 1,
    "start_time": "2023-02-18T15:27:08.538Z"
   },
   {
    "duration": 0,
    "start_time": "2023-02-18T15:27:08.540Z"
   },
   {
    "duration": 0,
    "start_time": "2023-02-18T15:27:08.541Z"
   },
   {
    "duration": 0,
    "start_time": "2023-02-18T15:27:08.542Z"
   },
   {
    "duration": 0,
    "start_time": "2023-02-18T15:27:08.542Z"
   },
   {
    "duration": 0,
    "start_time": "2023-02-18T15:27:08.543Z"
   },
   {
    "duration": 0,
    "start_time": "2023-02-18T15:27:08.544Z"
   },
   {
    "duration": 0,
    "start_time": "2023-02-18T15:27:08.544Z"
   },
   {
    "duration": 0,
    "start_time": "2023-02-18T15:27:08.545Z"
   },
   {
    "duration": 0,
    "start_time": "2023-02-18T15:27:08.546Z"
   },
   {
    "duration": 0,
    "start_time": "2023-02-18T15:27:08.547Z"
   },
   {
    "duration": 0,
    "start_time": "2023-02-18T15:27:08.548Z"
   },
   {
    "duration": 0,
    "start_time": "2023-02-18T15:27:08.549Z"
   },
   {
    "duration": 1431,
    "start_time": "2023-02-18T15:27:38.079Z"
   },
   {
    "duration": 697,
    "start_time": "2023-02-18T15:27:39.512Z"
   },
   {
    "duration": 131,
    "start_time": "2023-02-18T15:27:40.211Z"
   },
   {
    "duration": 10,
    "start_time": "2023-02-18T15:27:40.344Z"
   },
   {
    "duration": 10,
    "start_time": "2023-02-18T15:27:40.357Z"
   },
   {
    "duration": 26,
    "start_time": "2023-02-18T15:27:40.368Z"
   },
   {
    "duration": 34,
    "start_time": "2023-02-18T15:27:40.396Z"
   },
   {
    "duration": 3,
    "start_time": "2023-02-18T15:27:40.432Z"
   },
   {
    "duration": 22,
    "start_time": "2023-02-18T15:27:40.437Z"
   },
   {
    "duration": 13,
    "start_time": "2023-02-18T15:27:40.461Z"
   },
   {
    "duration": 17,
    "start_time": "2023-02-18T15:27:40.476Z"
   },
   {
    "duration": 6,
    "start_time": "2023-02-18T15:27:40.494Z"
   },
   {
    "duration": 17,
    "start_time": "2023-02-18T15:27:40.502Z"
   },
   {
    "duration": 40,
    "start_time": "2023-02-18T15:27:40.522Z"
   },
   {
    "duration": 39,
    "start_time": "2023-02-18T15:27:40.564Z"
   },
   {
    "duration": 12,
    "start_time": "2023-02-18T15:27:40.605Z"
   },
   {
    "duration": 514,
    "start_time": "2023-02-18T15:27:40.619Z"
   },
   {
    "duration": 170,
    "start_time": "2023-02-18T15:27:41.134Z"
   },
   {
    "duration": 6,
    "start_time": "2023-02-18T15:27:41.306Z"
   },
   {
    "duration": 1288,
    "start_time": "2023-02-18T15:27:41.314Z"
   },
   {
    "duration": 3,
    "start_time": "2023-02-18T15:27:42.604Z"
   },
   {
    "duration": 8,
    "start_time": "2023-02-18T15:27:42.609Z"
   },
   {
    "duration": 30,
    "start_time": "2023-02-18T15:27:42.618Z"
   },
   {
    "duration": 2,
    "start_time": "2023-02-18T15:27:42.650Z"
   },
   {
    "duration": 222,
    "start_time": "2023-02-18T15:27:42.653Z"
   },
   {
    "duration": 123,
    "start_time": "2023-02-18T15:27:42.876Z"
   },
   {
    "duration": 0,
    "start_time": "2023-02-18T15:27:43.001Z"
   },
   {
    "duration": 0,
    "start_time": "2023-02-18T15:27:43.003Z"
   },
   {
    "duration": 0,
    "start_time": "2023-02-18T15:27:43.005Z"
   },
   {
    "duration": 0,
    "start_time": "2023-02-18T15:27:43.006Z"
   },
   {
    "duration": 0,
    "start_time": "2023-02-18T15:27:43.007Z"
   },
   {
    "duration": 0,
    "start_time": "2023-02-18T15:27:43.009Z"
   },
   {
    "duration": 0,
    "start_time": "2023-02-18T15:27:43.010Z"
   },
   {
    "duration": 0,
    "start_time": "2023-02-18T15:27:43.012Z"
   },
   {
    "duration": 0,
    "start_time": "2023-02-18T15:27:43.013Z"
   },
   {
    "duration": 0,
    "start_time": "2023-02-18T15:27:43.014Z"
   },
   {
    "duration": 0,
    "start_time": "2023-02-18T15:27:43.016Z"
   },
   {
    "duration": 1416,
    "start_time": "2023-02-18T15:28:14.260Z"
   },
   {
    "duration": 715,
    "start_time": "2023-02-18T15:28:15.678Z"
   },
   {
    "duration": 136,
    "start_time": "2023-02-18T15:28:16.395Z"
   },
   {
    "duration": 10,
    "start_time": "2023-02-18T15:28:16.533Z"
   },
   {
    "duration": 21,
    "start_time": "2023-02-18T15:28:16.544Z"
   },
   {
    "duration": 8,
    "start_time": "2023-02-18T15:28:16.567Z"
   },
   {
    "duration": 42,
    "start_time": "2023-02-18T15:28:16.576Z"
   },
   {
    "duration": 3,
    "start_time": "2023-02-18T15:28:16.619Z"
   },
   {
    "duration": 6,
    "start_time": "2023-02-18T15:28:16.623Z"
   },
   {
    "duration": 21,
    "start_time": "2023-02-18T15:28:16.631Z"
   },
   {
    "duration": 6,
    "start_time": "2023-02-18T15:28:16.654Z"
   },
   {
    "duration": 9,
    "start_time": "2023-02-18T15:28:16.661Z"
   },
   {
    "duration": 21,
    "start_time": "2023-02-18T15:28:16.672Z"
   },
   {
    "duration": 37,
    "start_time": "2023-02-18T15:28:16.694Z"
   },
   {
    "duration": 14,
    "start_time": "2023-02-18T15:28:16.733Z"
   },
   {
    "duration": 11,
    "start_time": "2023-02-18T15:28:16.748Z"
   },
   {
    "duration": 555,
    "start_time": "2023-02-18T15:28:16.761Z"
   },
   {
    "duration": 158,
    "start_time": "2023-02-18T15:28:17.318Z"
   },
   {
    "duration": 7,
    "start_time": "2023-02-18T15:28:17.478Z"
   },
   {
    "duration": 1218,
    "start_time": "2023-02-18T15:28:17.492Z"
   },
   {
    "duration": 3,
    "start_time": "2023-02-18T15:28:18.712Z"
   },
   {
    "duration": 6,
    "start_time": "2023-02-18T15:28:18.716Z"
   },
   {
    "duration": 5,
    "start_time": "2023-02-18T15:28:18.723Z"
   },
   {
    "duration": 127,
    "start_time": "2023-02-18T15:28:18.730Z"
   },
   {
    "duration": 0,
    "start_time": "2023-02-18T15:28:18.859Z"
   },
   {
    "duration": 0,
    "start_time": "2023-02-18T15:28:18.860Z"
   },
   {
    "duration": 0,
    "start_time": "2023-02-18T15:28:18.861Z"
   },
   {
    "duration": 0,
    "start_time": "2023-02-18T15:28:18.862Z"
   },
   {
    "duration": 0,
    "start_time": "2023-02-18T15:28:18.863Z"
   },
   {
    "duration": 0,
    "start_time": "2023-02-18T15:28:18.864Z"
   },
   {
    "duration": 0,
    "start_time": "2023-02-18T15:28:18.865Z"
   },
   {
    "duration": 0,
    "start_time": "2023-02-18T15:28:18.866Z"
   },
   {
    "duration": 0,
    "start_time": "2023-02-18T15:28:18.867Z"
   },
   {
    "duration": 0,
    "start_time": "2023-02-18T15:28:18.869Z"
   },
   {
    "duration": 0,
    "start_time": "2023-02-18T15:28:18.870Z"
   },
   {
    "duration": 0,
    "start_time": "2023-02-18T15:28:18.871Z"
   },
   {
    "duration": 0,
    "start_time": "2023-02-18T15:28:18.966Z"
   },
   {
    "duration": 27,
    "start_time": "2023-02-18T15:28:43.235Z"
   },
   {
    "duration": 30,
    "start_time": "2023-02-18T15:28:52.001Z"
   },
   {
    "duration": 14,
    "start_time": "2023-02-18T15:28:52.769Z"
   },
   {
    "duration": 13,
    "start_time": "2023-02-18T15:28:56.741Z"
   },
   {
    "duration": 3,
    "start_time": "2023-02-18T15:28:57.728Z"
   },
   {
    "duration": 11,
    "start_time": "2023-02-18T15:28:58.226Z"
   },
   {
    "duration": 35,
    "start_time": "2023-02-18T15:29:18.931Z"
   },
   {
    "duration": 233,
    "start_time": "2023-02-18T15:29:19.569Z"
   },
   {
    "duration": 15,
    "start_time": "2023-02-18T15:29:23.266Z"
   },
   {
    "duration": 24,
    "start_time": "2023-02-18T15:29:29.386Z"
   },
   {
    "duration": 23,
    "start_time": "2023-02-18T15:29:31.134Z"
   },
   {
    "duration": 1409,
    "start_time": "2023-02-18T15:29:54.265Z"
   },
   {
    "duration": 735,
    "start_time": "2023-02-18T15:29:55.676Z"
   },
   {
    "duration": 130,
    "start_time": "2023-02-18T15:29:56.412Z"
   },
   {
    "duration": 8,
    "start_time": "2023-02-18T15:29:56.544Z"
   },
   {
    "duration": 10,
    "start_time": "2023-02-18T15:29:56.554Z"
   },
   {
    "duration": 4,
    "start_time": "2023-02-18T15:29:56.566Z"
   },
   {
    "duration": 44,
    "start_time": "2023-02-18T15:29:56.591Z"
   },
   {
    "duration": 28,
    "start_time": "2023-02-18T15:29:56.637Z"
   },
   {
    "duration": 6,
    "start_time": "2023-02-18T15:29:56.666Z"
   },
   {
    "duration": 23,
    "start_time": "2023-02-18T15:29:56.675Z"
   },
   {
    "duration": 22,
    "start_time": "2023-02-18T15:29:56.700Z"
   },
   {
    "duration": 7,
    "start_time": "2023-02-18T15:29:56.724Z"
   },
   {
    "duration": 14,
    "start_time": "2023-02-18T15:29:56.733Z"
   },
   {
    "duration": 18,
    "start_time": "2023-02-18T15:29:56.749Z"
   },
   {
    "duration": 47,
    "start_time": "2023-02-18T15:29:56.768Z"
   },
   {
    "duration": 16,
    "start_time": "2023-02-18T15:29:56.817Z"
   },
   {
    "duration": 12,
    "start_time": "2023-02-18T15:29:56.834Z"
   },
   {
    "duration": 482,
    "start_time": "2023-02-18T15:29:56.848Z"
   },
   {
    "duration": 147,
    "start_time": "2023-02-18T15:29:57.332Z"
   },
   {
    "duration": 15,
    "start_time": "2023-02-18T15:29:57.481Z"
   },
   {
    "duration": 1011,
    "start_time": "2023-02-18T15:29:57.497Z"
   },
   {
    "duration": 3,
    "start_time": "2023-02-18T15:29:58.510Z"
   },
   {
    "duration": 12,
    "start_time": "2023-02-18T15:29:58.514Z"
   },
   {
    "duration": 17,
    "start_time": "2023-02-18T15:29:58.528Z"
   },
   {
    "duration": 38,
    "start_time": "2023-02-18T15:29:58.546Z"
   },
   {
    "duration": 113,
    "start_time": "2023-02-18T15:29:58.585Z"
   },
   {
    "duration": 0,
    "start_time": "2023-02-18T15:29:58.700Z"
   },
   {
    "duration": 0,
    "start_time": "2023-02-18T15:29:58.701Z"
   },
   {
    "duration": 1,
    "start_time": "2023-02-18T15:29:58.702Z"
   },
   {
    "duration": 0,
    "start_time": "2023-02-18T15:29:58.704Z"
   },
   {
    "duration": 0,
    "start_time": "2023-02-18T15:29:58.705Z"
   },
   {
    "duration": 0,
    "start_time": "2023-02-18T15:29:58.706Z"
   },
   {
    "duration": 0,
    "start_time": "2023-02-18T15:29:58.707Z"
   },
   {
    "duration": 0,
    "start_time": "2023-02-18T15:29:58.708Z"
   },
   {
    "duration": 0,
    "start_time": "2023-02-18T15:29:58.709Z"
   },
   {
    "duration": 0,
    "start_time": "2023-02-18T15:29:58.710Z"
   },
   {
    "duration": 0,
    "start_time": "2023-02-18T15:29:58.801Z"
   },
   {
    "duration": 0,
    "start_time": "2023-02-18T15:29:58.801Z"
   },
   {
    "duration": 14,
    "start_time": "2023-02-18T15:30:17.025Z"
   },
   {
    "duration": 13,
    "start_time": "2023-02-18T15:30:20.207Z"
   },
   {
    "duration": 1427,
    "start_time": "2023-02-18T15:30:24.427Z"
   },
   {
    "duration": 747,
    "start_time": "2023-02-18T15:30:25.856Z"
   },
   {
    "duration": 125,
    "start_time": "2023-02-18T15:30:26.605Z"
   },
   {
    "duration": 9,
    "start_time": "2023-02-18T15:30:26.732Z"
   },
   {
    "duration": 35,
    "start_time": "2023-02-18T15:30:26.743Z"
   },
   {
    "duration": 17,
    "start_time": "2023-02-18T15:30:26.780Z"
   },
   {
    "duration": 40,
    "start_time": "2023-02-18T15:30:26.799Z"
   },
   {
    "duration": 27,
    "start_time": "2023-02-18T15:30:26.841Z"
   },
   {
    "duration": 13,
    "start_time": "2023-02-18T15:30:26.869Z"
   },
   {
    "duration": 11,
    "start_time": "2023-02-18T15:30:26.884Z"
   },
   {
    "duration": 17,
    "start_time": "2023-02-18T15:30:26.897Z"
   },
   {
    "duration": 19,
    "start_time": "2023-02-18T15:30:26.916Z"
   },
   {
    "duration": 10,
    "start_time": "2023-02-18T15:30:26.937Z"
   },
   {
    "duration": 33,
    "start_time": "2023-02-18T15:30:26.950Z"
   },
   {
    "duration": 47,
    "start_time": "2023-02-18T15:30:26.985Z"
   },
   {
    "duration": 14,
    "start_time": "2023-02-18T15:30:27.034Z"
   },
   {
    "duration": 12,
    "start_time": "2023-02-18T15:30:27.050Z"
   },
   {
    "duration": 459,
    "start_time": "2023-02-18T15:30:27.063Z"
   },
   {
    "duration": 160,
    "start_time": "2023-02-18T15:30:27.524Z"
   },
   {
    "duration": 9,
    "start_time": "2023-02-18T15:30:27.686Z"
   },
   {
    "duration": 1113,
    "start_time": "2023-02-18T15:30:27.696Z"
   },
   {
    "duration": 3,
    "start_time": "2023-02-18T15:30:28.810Z"
   },
   {
    "duration": 6,
    "start_time": "2023-02-18T15:30:28.815Z"
   },
   {
    "duration": 21,
    "start_time": "2023-02-18T15:30:28.822Z"
   },
   {
    "duration": 240,
    "start_time": "2023-02-18T15:30:28.845Z"
   },
   {
    "duration": 124,
    "start_time": "2023-02-18T15:30:29.086Z"
   },
   {
    "duration": 0,
    "start_time": "2023-02-18T15:30:29.212Z"
   },
   {
    "duration": 0,
    "start_time": "2023-02-18T15:30:29.214Z"
   },
   {
    "duration": 0,
    "start_time": "2023-02-18T15:30:29.215Z"
   },
   {
    "duration": 0,
    "start_time": "2023-02-18T15:30:29.216Z"
   },
   {
    "duration": 0,
    "start_time": "2023-02-18T15:30:29.217Z"
   },
   {
    "duration": 0,
    "start_time": "2023-02-18T15:30:29.218Z"
   },
   {
    "duration": 0,
    "start_time": "2023-02-18T15:30:29.220Z"
   },
   {
    "duration": 0,
    "start_time": "2023-02-18T15:30:29.221Z"
   },
   {
    "duration": 0,
    "start_time": "2023-02-18T15:30:29.223Z"
   },
   {
    "duration": 0,
    "start_time": "2023-02-18T15:30:29.223Z"
   },
   {
    "duration": 0,
    "start_time": "2023-02-18T15:30:29.225Z"
   },
   {
    "duration": 22,
    "start_time": "2023-02-18T15:30:48.066Z"
   },
   {
    "duration": 6,
    "start_time": "2023-02-18T15:30:49.730Z"
   },
   {
    "duration": 5,
    "start_time": "2023-02-18T15:30:51.171Z"
   },
   {
    "duration": 23,
    "start_time": "2023-02-18T15:30:56.041Z"
   },
   {
    "duration": 4,
    "start_time": "2023-02-18T15:31:01.138Z"
   },
   {
    "duration": 13023,
    "start_time": "2023-02-18T15:31:02.688Z"
   },
   {
    "duration": 8853,
    "start_time": "2023-02-18T15:31:15.793Z"
   },
   {
    "duration": 1368,
    "start_time": "2023-02-18T15:32:13.295Z"
   },
   {
    "duration": 702,
    "start_time": "2023-02-18T15:32:14.665Z"
   },
   {
    "duration": 128,
    "start_time": "2023-02-18T15:32:15.369Z"
   },
   {
    "duration": 10,
    "start_time": "2023-02-18T15:32:15.499Z"
   },
   {
    "duration": 22,
    "start_time": "2023-02-18T15:32:15.511Z"
   },
   {
    "duration": 6,
    "start_time": "2023-02-18T15:32:15.535Z"
   },
   {
    "duration": 32,
    "start_time": "2023-02-18T15:32:15.543Z"
   },
   {
    "duration": 41,
    "start_time": "2023-02-18T15:32:15.577Z"
   },
   {
    "duration": 6,
    "start_time": "2023-02-18T15:32:15.620Z"
   },
   {
    "duration": 7,
    "start_time": "2023-02-18T15:32:15.628Z"
   },
   {
    "duration": 17,
    "start_time": "2023-02-18T15:32:15.637Z"
   },
   {
    "duration": 14,
    "start_time": "2023-02-18T15:32:15.657Z"
   },
   {
    "duration": 21,
    "start_time": "2023-02-18T15:32:15.672Z"
   },
   {
    "duration": 20,
    "start_time": "2023-02-18T15:32:15.696Z"
   },
   {
    "duration": 35,
    "start_time": "2023-02-18T15:32:15.718Z"
   },
   {
    "duration": 14,
    "start_time": "2023-02-18T15:32:15.755Z"
   },
   {
    "duration": 13,
    "start_time": "2023-02-18T15:32:15.792Z"
   },
   {
    "duration": 447,
    "start_time": "2023-02-18T15:32:15.807Z"
   },
   {
    "duration": 200,
    "start_time": "2023-02-18T15:32:16.257Z"
   },
   {
    "duration": 8,
    "start_time": "2023-02-18T15:32:16.458Z"
   },
   {
    "duration": 1155,
    "start_time": "2023-02-18T15:32:16.468Z"
   },
   {
    "duration": 3,
    "start_time": "2023-02-18T15:32:17.625Z"
   },
   {
    "duration": 8,
    "start_time": "2023-02-18T15:32:17.630Z"
   },
   {
    "duration": 5,
    "start_time": "2023-02-18T15:32:17.639Z"
   },
   {
    "duration": 221,
    "start_time": "2023-02-18T15:32:17.646Z"
   },
   {
    "duration": 32,
    "start_time": "2023-02-18T15:32:17.868Z"
   },
   {
    "duration": 6,
    "start_time": "2023-02-18T15:32:17.902Z"
   },
   {
    "duration": 10,
    "start_time": "2023-02-18T15:32:17.910Z"
   },
   {
    "duration": 21,
    "start_time": "2023-02-18T15:32:17.922Z"
   },
   {
    "duration": 5,
    "start_time": "2023-02-18T15:32:17.944Z"
   },
   {
    "duration": 11944,
    "start_time": "2023-02-18T15:32:17.950Z"
   },
   {
    "duration": 9017,
    "start_time": "2023-02-18T15:32:29.897Z"
   },
   {
    "duration": 74247,
    "start_time": "2023-02-18T15:32:38.916Z"
   },
   {
    "duration": 6,
    "start_time": "2023-02-18T15:33:53.164Z"
   },
   {
    "duration": 31,
    "start_time": "2023-02-18T15:33:53.171Z"
   },
   {
    "duration": 2,
    "start_time": "2023-02-18T15:33:53.204Z"
   },
   {
    "duration": 10,
    "start_time": "2023-02-18T15:33:53.208Z"
   },
   {
    "duration": 3,
    "start_time": "2023-02-18T15:33:53.220Z"
   },
   {
    "duration": 9,
    "start_time": "2023-02-18T15:33:53.225Z"
   },
   {
    "duration": 128,
    "start_time": "2023-02-18T15:33:53.236Z"
   },
   {
    "duration": 8,
    "start_time": "2023-02-18T15:34:33.563Z"
   },
   {
    "duration": 1389,
    "start_time": "2023-02-18T15:37:47.053Z"
   },
   {
    "duration": 686,
    "start_time": "2023-02-18T15:37:48.444Z"
   },
   {
    "duration": 121,
    "start_time": "2023-02-18T15:37:49.132Z"
   },
   {
    "duration": 9,
    "start_time": "2023-02-18T15:37:49.256Z"
   },
   {
    "duration": 30,
    "start_time": "2023-02-18T15:37:49.267Z"
   },
   {
    "duration": 5,
    "start_time": "2023-02-18T15:37:49.298Z"
   },
   {
    "duration": 32,
    "start_time": "2023-02-18T15:37:49.304Z"
   },
   {
    "duration": 28,
    "start_time": "2023-02-18T15:37:49.338Z"
   },
   {
    "duration": 25,
    "start_time": "2023-02-18T15:37:49.368Z"
   },
   {
    "duration": 5,
    "start_time": "2023-02-18T15:37:49.396Z"
   },
   {
    "duration": 8,
    "start_time": "2023-02-18T15:37:49.403Z"
   },
   {
    "duration": 8,
    "start_time": "2023-02-18T15:37:49.412Z"
   },
   {
    "duration": 8,
    "start_time": "2023-02-18T15:37:49.422Z"
   },
   {
    "duration": 17,
    "start_time": "2023-02-18T15:37:49.432Z"
   },
   {
    "duration": 68,
    "start_time": "2023-02-18T15:37:49.450Z"
   },
   {
    "duration": 14,
    "start_time": "2023-02-18T15:37:49.520Z"
   },
   {
    "duration": 12,
    "start_time": "2023-02-18T15:37:49.536Z"
   },
   {
    "duration": 474,
    "start_time": "2023-02-18T15:37:49.549Z"
   },
   {
    "duration": 161,
    "start_time": "2023-02-18T15:37:50.025Z"
   },
   {
    "duration": 6,
    "start_time": "2023-02-18T15:37:50.192Z"
   },
   {
    "duration": 1149,
    "start_time": "2023-02-18T15:37:50.200Z"
   },
   {
    "duration": 3,
    "start_time": "2023-02-18T15:37:51.350Z"
   },
   {
    "duration": 9,
    "start_time": "2023-02-18T15:37:51.355Z"
   },
   {
    "duration": 5,
    "start_time": "2023-02-18T15:37:51.366Z"
   },
   {
    "duration": 203,
    "start_time": "2023-02-18T15:37:51.372Z"
   },
   {
    "duration": 32,
    "start_time": "2023-02-18T15:37:51.577Z"
   },
   {
    "duration": 5,
    "start_time": "2023-02-18T15:37:51.610Z"
   },
   {
    "duration": 14,
    "start_time": "2023-02-18T15:37:51.618Z"
   },
   {
    "duration": 27,
    "start_time": "2023-02-18T15:37:51.634Z"
   },
   {
    "duration": 3,
    "start_time": "2023-02-18T15:37:51.663Z"
   },
   {
    "duration": 12626,
    "start_time": "2023-02-18T15:37:51.667Z"
   },
   {
    "duration": 8822,
    "start_time": "2023-02-18T15:38:04.295Z"
   },
   {
    "duration": 1486,
    "start_time": "2023-02-18T15:38:35.486Z"
   },
   {
    "duration": 703,
    "start_time": "2023-02-18T15:38:36.974Z"
   },
   {
    "duration": 129,
    "start_time": "2023-02-18T15:38:37.678Z"
   },
   {
    "duration": 8,
    "start_time": "2023-02-18T15:38:37.809Z"
   },
   {
    "duration": 13,
    "start_time": "2023-02-18T15:38:37.819Z"
   },
   {
    "duration": 5,
    "start_time": "2023-02-18T15:38:37.834Z"
   },
   {
    "duration": 4,
    "start_time": "2023-02-18T15:38:37.841Z"
   },
   {
    "duration": 9,
    "start_time": "2023-02-18T15:38:37.846Z"
   },
   {
    "duration": 7,
    "start_time": "2023-02-18T15:38:37.856Z"
   },
   {
    "duration": 7,
    "start_time": "2023-02-18T15:38:37.865Z"
   },
   {
    "duration": 6,
    "start_time": "2023-02-18T15:38:37.892Z"
   },
   {
    "duration": 7,
    "start_time": "2023-02-18T15:38:37.900Z"
   },
   {
    "duration": 9,
    "start_time": "2023-02-18T15:38:37.908Z"
   },
   {
    "duration": 19,
    "start_time": "2023-02-18T15:38:37.919Z"
   },
   {
    "duration": 61,
    "start_time": "2023-02-18T15:38:37.940Z"
   },
   {
    "duration": 17,
    "start_time": "2023-02-18T15:38:38.004Z"
   },
   {
    "duration": 15,
    "start_time": "2023-02-18T15:38:38.023Z"
   },
   {
    "duration": 478,
    "start_time": "2023-02-18T15:38:38.040Z"
   },
   {
    "duration": 157,
    "start_time": "2023-02-18T15:38:38.520Z"
   },
   {
    "duration": 13,
    "start_time": "2023-02-18T15:38:38.679Z"
   },
   {
    "duration": 1001,
    "start_time": "2023-02-18T15:38:38.693Z"
   },
   {
    "duration": 3,
    "start_time": "2023-02-18T15:38:39.696Z"
   },
   {
    "duration": 10,
    "start_time": "2023-02-18T15:38:39.701Z"
   },
   {
    "duration": 5,
    "start_time": "2023-02-18T15:38:39.713Z"
   },
   {
    "duration": 196,
    "start_time": "2023-02-18T15:38:39.720Z"
   },
   {
    "duration": 22,
    "start_time": "2023-02-18T15:38:39.918Z"
   },
   {
    "duration": 5,
    "start_time": "2023-02-18T15:38:39.942Z"
   },
   {
    "duration": 6,
    "start_time": "2023-02-18T15:38:39.951Z"
   },
   {
    "duration": 43,
    "start_time": "2023-02-18T15:38:39.958Z"
   },
   {
    "duration": 4,
    "start_time": "2023-02-18T15:38:40.003Z"
   },
   {
    "duration": 11301,
    "start_time": "2023-02-18T15:38:40.009Z"
   },
   {
    "duration": 10087,
    "start_time": "2023-02-18T15:38:51.391Z"
   },
   {
    "duration": 75981,
    "start_time": "2023-02-18T15:39:01.480Z"
   },
   {
    "duration": 6,
    "start_time": "2023-02-18T15:40:17.463Z"
   },
   {
    "duration": 42,
    "start_time": "2023-02-18T15:40:17.471Z"
   },
   {
    "duration": 3,
    "start_time": "2023-02-18T15:40:17.514Z"
   },
   {
    "duration": 9,
    "start_time": "2023-02-18T15:40:17.519Z"
   },
   {
    "duration": 3,
    "start_time": "2023-02-18T15:40:17.530Z"
   },
   {
    "duration": 5,
    "start_time": "2023-02-18T15:40:17.535Z"
   },
   {
    "duration": 12,
    "start_time": "2023-02-18T15:40:17.542Z"
   },
   {
    "duration": 49,
    "start_time": "2023-02-19T17:04:35.600Z"
   },
   {
    "duration": 1559,
    "start_time": "2023-02-19T17:11:57.392Z"
   },
   {
    "duration": 1942,
    "start_time": "2023-02-19T17:11:58.952Z"
   },
   {
    "duration": 112,
    "start_time": "2023-02-19T17:12:00.895Z"
   },
   {
    "duration": 9,
    "start_time": "2023-02-19T17:12:01.009Z"
   },
   {
    "duration": 32,
    "start_time": "2023-02-19T17:12:01.019Z"
   },
   {
    "duration": 32,
    "start_time": "2023-02-19T17:12:01.053Z"
   },
   {
    "duration": 34,
    "start_time": "2023-02-19T17:12:01.086Z"
   },
   {
    "duration": 25,
    "start_time": "2023-02-19T17:12:01.122Z"
   },
   {
    "duration": 36,
    "start_time": "2023-02-19T17:12:01.148Z"
   },
   {
    "duration": 31,
    "start_time": "2023-02-19T17:12:01.187Z"
   },
   {
    "duration": 37,
    "start_time": "2023-02-19T17:12:01.220Z"
   },
   {
    "duration": 16,
    "start_time": "2023-02-19T17:12:01.259Z"
   },
   {
    "duration": 21,
    "start_time": "2023-02-19T17:12:01.277Z"
   },
   {
    "duration": 455,
    "start_time": "2023-02-19T17:12:01.300Z"
   },
   {
    "duration": 149,
    "start_time": "2023-02-19T17:12:01.757Z"
   },
   {
    "duration": 7,
    "start_time": "2023-02-19T17:12:01.908Z"
   },
   {
    "duration": 1287,
    "start_time": "2023-02-19T17:12:01.917Z"
   },
   {
    "duration": 4,
    "start_time": "2023-02-19T17:12:03.205Z"
   },
   {
    "duration": 7,
    "start_time": "2023-02-19T17:12:03.211Z"
   },
   {
    "duration": 4,
    "start_time": "2023-02-19T17:12:03.220Z"
   },
   {
    "duration": 10,
    "start_time": "2023-02-19T17:12:03.226Z"
   },
   {
    "duration": 6,
    "start_time": "2023-02-19T17:12:03.237Z"
   },
   {
    "duration": 26,
    "start_time": "2023-02-19T17:12:03.244Z"
   },
   {
    "duration": 24,
    "start_time": "2023-02-19T17:12:03.272Z"
   },
   {
    "duration": 7,
    "start_time": "2023-02-19T17:12:03.298Z"
   },
   {
    "duration": 106,
    "start_time": "2023-02-19T17:12:03.307Z"
   },
   {
    "duration": 4,
    "start_time": "2023-02-19T17:12:03.414Z"
   },
   {
    "duration": 11889,
    "start_time": "2023-02-19T17:12:03.422Z"
   },
   {
    "duration": 9780,
    "start_time": "2023-02-19T17:12:15.395Z"
   },
   {
    "duration": 75742,
    "start_time": "2023-02-19T17:12:25.177Z"
   },
   {
    "duration": 6,
    "start_time": "2023-02-19T17:13:40.921Z"
   },
   {
    "duration": 9,
    "start_time": "2023-02-19T17:13:40.929Z"
   },
   {
    "duration": 25,
    "start_time": "2023-02-19T17:13:40.939Z"
   },
   {
    "duration": 3,
    "start_time": "2023-02-19T17:13:40.966Z"
   },
   {
    "duration": 7,
    "start_time": "2023-02-19T17:13:40.993Z"
   },
   {
    "duration": 4,
    "start_time": "2023-02-19T17:13:41.002Z"
   },
   {
    "duration": 6,
    "start_time": "2023-02-19T17:13:41.007Z"
   },
   {
    "duration": 11,
    "start_time": "2023-02-19T17:13:41.014Z"
   },
   {
    "duration": 6,
    "start_time": "2023-02-19T17:14:01.397Z"
   },
   {
    "duration": 6,
    "start_time": "2023-02-19T17:14:05.137Z"
   },
   {
    "duration": 9804,
    "start_time": "2023-02-19T17:16:02.339Z"
   },
   {
    "duration": 3,
    "start_time": "2023-02-19T17:20:09.994Z"
   },
   {
    "duration": 12366,
    "start_time": "2023-02-19T17:20:26.029Z"
   },
   {
    "duration": 11737,
    "start_time": "2023-02-19T17:20:53.157Z"
   },
   {
    "duration": 107,
    "start_time": "2023-02-19T17:21:30.014Z"
   },
   {
    "duration": 12441,
    "start_time": "2023-02-19T17:21:43.869Z"
   },
   {
    "duration": 6909,
    "start_time": "2023-02-19T17:22:00.190Z"
   },
   {
    "duration": 11757,
    "start_time": "2023-02-19T17:22:18.247Z"
   },
   {
    "duration": 38087,
    "start_time": "2023-02-19T17:27:56.600Z"
   },
   {
    "duration": 6,
    "start_time": "2023-02-19T17:30:00.913Z"
   },
   {
    "duration": 4,
    "start_time": "2023-02-19T17:32:36.655Z"
   },
   {
    "duration": 3,
    "start_time": "2023-02-19T17:33:16.095Z"
   },
   {
    "duration": 3,
    "start_time": "2023-02-19T17:34:18.384Z"
   },
   {
    "duration": 38501,
    "start_time": "2023-02-19T17:34:28.832Z"
   },
   {
    "duration": 1297,
    "start_time": "2023-02-19T17:44:17.141Z"
   },
   {
    "duration": 693,
    "start_time": "2023-02-19T17:44:18.440Z"
   },
   {
    "duration": 97,
    "start_time": "2023-02-19T17:44:19.135Z"
   },
   {
    "duration": 8,
    "start_time": "2023-02-19T17:44:19.233Z"
   },
   {
    "duration": 8,
    "start_time": "2023-02-19T17:44:19.243Z"
   },
   {
    "duration": 4,
    "start_time": "2023-02-19T17:44:19.252Z"
   },
   {
    "duration": 9,
    "start_time": "2023-02-19T17:44:19.257Z"
   },
   {
    "duration": 5,
    "start_time": "2023-02-19T17:44:19.293Z"
   },
   {
    "duration": 11,
    "start_time": "2023-02-19T17:44:19.299Z"
   },
   {
    "duration": 17,
    "start_time": "2023-02-19T17:44:19.312Z"
   },
   {
    "duration": 23,
    "start_time": "2023-02-19T17:44:19.331Z"
   },
   {
    "duration": 14,
    "start_time": "2023-02-19T17:44:19.356Z"
   },
   {
    "duration": 31,
    "start_time": "2023-02-19T17:44:19.371Z"
   },
   {
    "duration": 411,
    "start_time": "2023-02-19T17:44:19.404Z"
   },
   {
    "duration": 136,
    "start_time": "2023-02-19T17:44:19.817Z"
   },
   {
    "duration": 6,
    "start_time": "2023-02-19T17:44:19.954Z"
   },
   {
    "duration": 1236,
    "start_time": "2023-02-19T17:44:19.961Z"
   },
   {
    "duration": 3,
    "start_time": "2023-02-19T17:44:21.198Z"
   },
   {
    "duration": 7,
    "start_time": "2023-02-19T17:44:21.202Z"
   },
   {
    "duration": 5,
    "start_time": "2023-02-19T17:44:21.210Z"
   },
   {
    "duration": 9,
    "start_time": "2023-02-19T17:44:21.216Z"
   },
   {
    "duration": 4,
    "start_time": "2023-02-19T17:44:21.227Z"
   },
   {
    "duration": 25,
    "start_time": "2023-02-19T17:44:21.232Z"
   },
   {
    "duration": 6,
    "start_time": "2023-02-19T17:44:21.258Z"
   },
   {
    "duration": 6,
    "start_time": "2023-02-19T17:44:21.265Z"
   },
   {
    "duration": 106,
    "start_time": "2023-02-19T17:44:21.272Z"
   },
   {
    "duration": 3,
    "start_time": "2023-02-19T17:44:21.379Z"
   },
   {
    "duration": 3,
    "start_time": "2023-02-19T17:44:21.393Z"
   },
   {
    "duration": 14297,
    "start_time": "2023-02-19T17:44:21.397Z"
   },
   {
    "duration": 12598,
    "start_time": "2023-02-19T17:44:35.696Z"
   },
   {
    "duration": 9880,
    "start_time": "2023-02-19T17:44:48.296Z"
   },
   {
    "duration": 38147,
    "start_time": "2023-02-19T17:44:58.178Z"
   },
   {
    "duration": 73297,
    "start_time": "2023-02-19T17:45:36.326Z"
   },
   {
    "duration": 1464,
    "start_time": "2023-02-19T17:56:51.094Z"
   },
   {
    "duration": 683,
    "start_time": "2023-02-19T17:56:52.560Z"
   },
   {
    "duration": 92,
    "start_time": "2023-02-19T17:56:53.245Z"
   },
   {
    "duration": 8,
    "start_time": "2023-02-19T17:56:53.339Z"
   },
   {
    "duration": 9,
    "start_time": "2023-02-19T17:56:53.349Z"
   },
   {
    "duration": 6,
    "start_time": "2023-02-19T17:56:53.359Z"
   },
   {
    "duration": 30,
    "start_time": "2023-02-19T17:56:53.366Z"
   },
   {
    "duration": 5,
    "start_time": "2023-02-19T17:56:53.397Z"
   },
   {
    "duration": 7,
    "start_time": "2023-02-19T17:56:53.403Z"
   },
   {
    "duration": 15,
    "start_time": "2023-02-19T17:56:53.412Z"
   },
   {
    "duration": 24,
    "start_time": "2023-02-19T17:56:53.428Z"
   },
   {
    "duration": 47,
    "start_time": "2023-02-19T17:56:53.453Z"
   },
   {
    "duration": 11,
    "start_time": "2023-02-19T17:56:53.501Z"
   },
   {
    "duration": 517,
    "start_time": "2023-02-19T17:56:53.514Z"
   },
   {
    "duration": 485,
    "start_time": "2023-02-19T17:56:54.033Z"
   },
   {
    "duration": 139,
    "start_time": "2023-02-19T17:56:54.519Z"
   },
   {
    "duration": 6,
    "start_time": "2023-02-19T17:56:54.660Z"
   },
   {
    "duration": 1325,
    "start_time": "2023-02-19T17:56:54.667Z"
   },
   {
    "duration": 3,
    "start_time": "2023-02-19T17:56:55.994Z"
   },
   {
    "duration": 5,
    "start_time": "2023-02-19T17:56:55.998Z"
   },
   {
    "duration": 6,
    "start_time": "2023-02-19T17:56:56.005Z"
   },
   {
    "duration": 8,
    "start_time": "2023-02-19T17:56:56.012Z"
   },
   {
    "duration": 9,
    "start_time": "2023-02-19T17:56:56.021Z"
   },
   {
    "duration": 33,
    "start_time": "2023-02-19T17:56:56.031Z"
   },
   {
    "duration": 5,
    "start_time": "2023-02-19T17:56:56.065Z"
   },
   {
    "duration": 7,
    "start_time": "2023-02-19T17:56:56.071Z"
   },
   {
    "duration": 27,
    "start_time": "2023-02-19T17:56:56.079Z"
   },
   {
    "duration": 3,
    "start_time": "2023-02-19T17:56:56.109Z"
   },
   {
    "duration": 7,
    "start_time": "2023-02-19T17:56:56.113Z"
   },
   {
    "duration": 12072,
    "start_time": "2023-02-19T17:56:56.122Z"
   },
   {
    "duration": 3507,
    "start_time": "2023-02-19T17:57:08.196Z"
   },
   {
    "duration": 9744,
    "start_time": "2023-02-19T17:57:11.795Z"
   },
   {
    "duration": 38204,
    "start_time": "2023-02-19T17:57:21.541Z"
   },
   {
    "duration": 74443,
    "start_time": "2023-02-19T17:57:59.747Z"
   },
   {
    "duration": 1329,
    "start_time": "2023-02-19T18:10:36.911Z"
   },
   {
    "duration": 663,
    "start_time": "2023-02-19T18:10:38.242Z"
   },
   {
    "duration": 107,
    "start_time": "2023-02-19T18:10:38.907Z"
   },
   {
    "duration": 9,
    "start_time": "2023-02-19T18:10:39.017Z"
   },
   {
    "duration": 9,
    "start_time": "2023-02-19T18:10:39.027Z"
   },
   {
    "duration": 4,
    "start_time": "2023-02-19T18:10:39.038Z"
   },
   {
    "duration": 9,
    "start_time": "2023-02-19T18:10:39.043Z"
   },
   {
    "duration": 6,
    "start_time": "2023-02-19T18:10:39.054Z"
   },
   {
    "duration": 36,
    "start_time": "2023-02-19T18:10:39.061Z"
   },
   {
    "duration": 15,
    "start_time": "2023-02-19T18:10:39.099Z"
   },
   {
    "duration": 25,
    "start_time": "2023-02-19T18:10:39.115Z"
   },
   {
    "duration": 13,
    "start_time": "2023-02-19T18:10:39.141Z"
   },
   {
    "duration": 39,
    "start_time": "2023-02-19T18:10:39.155Z"
   },
   {
    "duration": 521,
    "start_time": "2023-02-19T18:10:39.195Z"
   },
   {
    "duration": 596,
    "start_time": "2023-02-19T18:10:39.718Z"
   },
   {
    "duration": 292,
    "start_time": "2023-02-19T18:10:40.316Z"
   },
   {
    "duration": 6,
    "start_time": "2023-02-19T18:10:40.609Z"
   },
   {
    "duration": 1590,
    "start_time": "2023-02-19T18:10:40.617Z"
   },
   {
    "duration": 6,
    "start_time": "2023-02-19T18:10:42.209Z"
   },
   {
    "duration": 976,
    "start_time": "2023-02-19T18:10:42.217Z"
   },
   {
    "duration": 3,
    "start_time": "2023-02-19T18:10:43.194Z"
   },
   {
    "duration": 8,
    "start_time": "2023-02-19T18:10:43.199Z"
   },
   {
    "duration": 4,
    "start_time": "2023-02-19T18:10:43.209Z"
   },
   {
    "duration": 9,
    "start_time": "2023-02-19T18:10:43.214Z"
   },
   {
    "duration": 4,
    "start_time": "2023-02-19T18:10:43.224Z"
   },
   {
    "duration": 26,
    "start_time": "2023-02-19T18:10:43.229Z"
   },
   {
    "duration": 5,
    "start_time": "2023-02-19T18:10:43.257Z"
   },
   {
    "duration": 5,
    "start_time": "2023-02-19T18:10:43.264Z"
   },
   {
    "duration": 41,
    "start_time": "2023-02-19T18:10:43.271Z"
   },
   {
    "duration": 3,
    "start_time": "2023-02-19T18:10:43.314Z"
   },
   {
    "duration": 9,
    "start_time": "2023-02-19T18:10:43.318Z"
   },
   {
    "duration": 11980,
    "start_time": "2023-02-19T18:10:43.328Z"
   },
   {
    "duration": 3308,
    "start_time": "2023-02-19T18:10:55.395Z"
   },
   {
    "duration": 9790,
    "start_time": "2023-02-19T18:10:58.893Z"
   },
   {
    "duration": 38036,
    "start_time": "2023-02-19T18:11:08.685Z"
   },
   {
    "duration": 73702,
    "start_time": "2023-02-19T18:11:46.723Z"
   },
   {
    "duration": 1392,
    "start_time": "2023-02-19T18:23:12.665Z"
   },
   {
    "duration": 717,
    "start_time": "2023-02-19T18:23:14.059Z"
   },
   {
    "duration": 97,
    "start_time": "2023-02-19T18:23:14.778Z"
   },
   {
    "duration": 9,
    "start_time": "2023-02-19T18:23:14.893Z"
   },
   {
    "duration": 9,
    "start_time": "2023-02-19T18:23:14.903Z"
   },
   {
    "duration": 4,
    "start_time": "2023-02-19T18:23:14.913Z"
   },
   {
    "duration": 7,
    "start_time": "2023-02-19T18:23:14.919Z"
   },
   {
    "duration": 6,
    "start_time": "2023-02-19T18:23:14.927Z"
   },
   {
    "duration": 7,
    "start_time": "2023-02-19T18:23:14.935Z"
   },
   {
    "duration": 14,
    "start_time": "2023-02-19T18:23:14.944Z"
   },
   {
    "duration": 56,
    "start_time": "2023-02-19T18:23:14.959Z"
   },
   {
    "duration": 15,
    "start_time": "2023-02-19T18:23:15.017Z"
   },
   {
    "duration": 11,
    "start_time": "2023-02-19T18:23:15.033Z"
   },
   {
    "duration": 470,
    "start_time": "2023-02-19T18:23:15.046Z"
   },
   {
    "duration": 396,
    "start_time": "2023-02-19T18:23:15.518Z"
   },
   {
    "duration": 141,
    "start_time": "2023-02-19T18:23:15.916Z"
   },
   {
    "duration": 7,
    "start_time": "2023-02-19T18:23:16.060Z"
   },
   {
    "duration": 1224,
    "start_time": "2023-02-19T18:23:16.068Z"
   },
   {
    "duration": 8,
    "start_time": "2023-02-19T18:23:17.294Z"
   },
   {
    "duration": 993,
    "start_time": "2023-02-19T18:23:17.304Z"
   },
   {
    "duration": 4,
    "start_time": "2023-02-19T18:23:18.299Z"
   },
   {
    "duration": 9,
    "start_time": "2023-02-19T18:23:18.304Z"
   },
   {
    "duration": 6,
    "start_time": "2023-02-19T18:23:18.314Z"
   },
   {
    "duration": 13,
    "start_time": "2023-02-19T18:23:18.321Z"
   },
   {
    "duration": 9,
    "start_time": "2023-02-19T18:23:18.336Z"
   },
   {
    "duration": 28,
    "start_time": "2023-02-19T18:23:18.347Z"
   },
   {
    "duration": 6,
    "start_time": "2023-02-19T18:23:18.377Z"
   },
   {
    "duration": 11,
    "start_time": "2023-02-19T18:23:18.393Z"
   },
   {
    "duration": 21,
    "start_time": "2023-02-19T18:23:18.405Z"
   },
   {
    "duration": 3,
    "start_time": "2023-02-19T18:23:18.427Z"
   },
   {
    "duration": 14,
    "start_time": "2023-02-19T18:23:18.432Z"
   },
   {
    "duration": 12153,
    "start_time": "2023-02-19T18:23:18.448Z"
   },
   {
    "duration": 3105,
    "start_time": "2023-02-19T18:23:30.693Z"
   },
   {
    "duration": 9899,
    "start_time": "2023-02-19T18:23:33.800Z"
   },
   {
    "duration": 38478,
    "start_time": "2023-02-19T18:23:43.701Z"
   },
   {
    "duration": 1414,
    "start_time": "2023-02-19T18:26:36.578Z"
   },
   {
    "duration": 674,
    "start_time": "2023-02-19T18:26:37.993Z"
   },
   {
    "duration": 96,
    "start_time": "2023-02-19T18:26:38.668Z"
   },
   {
    "duration": 29,
    "start_time": "2023-02-19T18:26:38.766Z"
   },
   {
    "duration": 12,
    "start_time": "2023-02-19T18:26:38.797Z"
   },
   {
    "duration": 4,
    "start_time": "2023-02-19T18:26:38.811Z"
   },
   {
    "duration": 10,
    "start_time": "2023-02-19T18:26:38.818Z"
   },
   {
    "duration": 7,
    "start_time": "2023-02-19T18:26:38.830Z"
   },
   {
    "duration": 8,
    "start_time": "2023-02-19T18:26:38.839Z"
   },
   {
    "duration": 14,
    "start_time": "2023-02-19T18:26:38.849Z"
   },
   {
    "duration": 51,
    "start_time": "2023-02-19T18:26:38.864Z"
   },
   {
    "duration": 14,
    "start_time": "2023-02-19T18:26:38.918Z"
   },
   {
    "duration": 12,
    "start_time": "2023-02-19T18:26:38.934Z"
   },
   {
    "duration": 482,
    "start_time": "2023-02-19T18:26:38.948Z"
   },
   {
    "duration": 479,
    "start_time": "2023-02-19T18:26:39.432Z"
   },
   {
    "duration": 144,
    "start_time": "2023-02-19T18:26:39.912Z"
   },
   {
    "duration": 6,
    "start_time": "2023-02-19T18:26:40.058Z"
   },
   {
    "duration": 1335,
    "start_time": "2023-02-19T18:26:40.066Z"
   },
   {
    "duration": 8,
    "start_time": "2023-02-19T18:26:41.403Z"
   },
   {
    "duration": 1097,
    "start_time": "2023-02-19T18:26:41.412Z"
   },
   {
    "duration": 3,
    "start_time": "2023-02-19T18:26:42.510Z"
   },
   {
    "duration": 8,
    "start_time": "2023-02-19T18:26:42.515Z"
   },
   {
    "duration": 6,
    "start_time": "2023-02-19T18:26:42.524Z"
   },
   {
    "duration": 9,
    "start_time": "2023-02-19T18:26:42.531Z"
   },
   {
    "duration": 6,
    "start_time": "2023-02-19T18:26:42.541Z"
   },
   {
    "duration": 27,
    "start_time": "2023-02-19T18:26:42.548Z"
   },
   {
    "duration": 6,
    "start_time": "2023-02-19T18:26:42.577Z"
   },
   {
    "duration": 8,
    "start_time": "2023-02-19T18:26:42.586Z"
   },
   {
    "duration": 18,
    "start_time": "2023-02-19T18:26:42.595Z"
   },
   {
    "duration": 3,
    "start_time": "2023-02-19T18:26:42.614Z"
   },
   {
    "duration": 11,
    "start_time": "2023-02-19T18:26:42.618Z"
   },
   {
    "duration": 12377,
    "start_time": "2023-02-19T18:26:42.631Z"
   },
   {
    "duration": 3405,
    "start_time": "2023-02-19T18:26:55.097Z"
   },
   {
    "duration": 9982,
    "start_time": "2023-02-19T18:26:58.504Z"
   },
   {
    "duration": 38473,
    "start_time": "2023-02-19T18:27:08.487Z"
   },
   {
    "duration": 1416,
    "start_time": "2023-02-19T18:29:46.904Z"
   },
   {
    "duration": 678,
    "start_time": "2023-02-19T18:29:48.322Z"
   },
   {
    "duration": 114,
    "start_time": "2023-02-19T18:29:49.002Z"
   },
   {
    "duration": 9,
    "start_time": "2023-02-19T18:29:49.117Z"
   },
   {
    "duration": 11,
    "start_time": "2023-02-19T18:29:49.128Z"
   },
   {
    "duration": 4,
    "start_time": "2023-02-19T18:29:49.141Z"
   },
   {
    "duration": 11,
    "start_time": "2023-02-19T18:29:49.146Z"
   },
   {
    "duration": 7,
    "start_time": "2023-02-19T18:29:49.158Z"
   },
   {
    "duration": 27,
    "start_time": "2023-02-19T18:29:49.166Z"
   },
   {
    "duration": 14,
    "start_time": "2023-02-19T18:29:49.195Z"
   },
   {
    "duration": 24,
    "start_time": "2023-02-19T18:29:49.211Z"
   },
   {
    "duration": 15,
    "start_time": "2023-02-19T18:29:49.237Z"
   },
   {
    "duration": 44,
    "start_time": "2023-02-19T18:29:49.253Z"
   },
   {
    "duration": 430,
    "start_time": "2023-02-19T18:29:49.301Z"
   },
   {
    "duration": 478,
    "start_time": "2023-02-19T18:29:49.733Z"
   },
   {
    "duration": 139,
    "start_time": "2023-02-19T18:29:50.213Z"
   },
   {
    "duration": 6,
    "start_time": "2023-02-19T18:29:50.354Z"
   },
   {
    "duration": 1255,
    "start_time": "2023-02-19T18:29:50.361Z"
   },
   {
    "duration": 7,
    "start_time": "2023-02-19T18:29:51.618Z"
   },
   {
    "duration": 1066,
    "start_time": "2023-02-19T18:29:51.627Z"
   },
   {
    "duration": 3,
    "start_time": "2023-02-19T18:29:52.695Z"
   },
   {
    "duration": 13,
    "start_time": "2023-02-19T18:29:52.699Z"
   },
   {
    "duration": 15,
    "start_time": "2023-02-19T18:29:52.714Z"
   },
   {
    "duration": 10,
    "start_time": "2023-02-19T18:29:52.731Z"
   },
   {
    "duration": 12,
    "start_time": "2023-02-19T18:29:52.742Z"
   },
   {
    "duration": 28,
    "start_time": "2023-02-19T18:29:52.755Z"
   },
   {
    "duration": 6,
    "start_time": "2023-02-19T18:29:52.785Z"
   },
   {
    "duration": 18,
    "start_time": "2023-02-19T18:29:52.792Z"
   },
   {
    "duration": 28,
    "start_time": "2023-02-19T18:29:52.811Z"
   },
   {
    "duration": 4,
    "start_time": "2023-02-19T18:29:52.841Z"
   },
   {
    "duration": 8,
    "start_time": "2023-02-19T18:29:52.846Z"
   },
   {
    "duration": 12341,
    "start_time": "2023-02-19T18:29:52.855Z"
   },
   {
    "duration": 3302,
    "start_time": "2023-02-19T18:30:05.199Z"
   },
   {
    "duration": 9969,
    "start_time": "2023-02-19T18:30:08.503Z"
   },
   {
    "duration": 38484,
    "start_time": "2023-02-19T18:30:18.473Z"
   },
   {
    "duration": 1447,
    "start_time": "2023-02-19T18:33:51.018Z"
   },
   {
    "duration": 673,
    "start_time": "2023-02-19T18:33:52.467Z"
   },
   {
    "duration": 99,
    "start_time": "2023-02-19T18:33:53.141Z"
   },
   {
    "duration": 8,
    "start_time": "2023-02-19T18:33:53.241Z"
   },
   {
    "duration": 10,
    "start_time": "2023-02-19T18:33:53.250Z"
   },
   {
    "duration": 4,
    "start_time": "2023-02-19T18:33:53.262Z"
   },
   {
    "duration": 6,
    "start_time": "2023-02-19T18:33:53.294Z"
   },
   {
    "duration": 6,
    "start_time": "2023-02-19T18:33:53.302Z"
   },
   {
    "duration": 11,
    "start_time": "2023-02-19T18:33:53.309Z"
   },
   {
    "duration": 15,
    "start_time": "2023-02-19T18:33:53.322Z"
   },
   {
    "duration": 24,
    "start_time": "2023-02-19T18:33:53.339Z"
   },
   {
    "duration": 39,
    "start_time": "2023-02-19T18:33:53.365Z"
   },
   {
    "duration": 10,
    "start_time": "2023-02-19T18:33:53.406Z"
   },
   {
    "duration": 503,
    "start_time": "2023-02-19T18:33:53.418Z"
   },
   {
    "duration": 397,
    "start_time": "2023-02-19T18:33:53.922Z"
   },
   {
    "duration": 147,
    "start_time": "2023-02-19T18:33:54.321Z"
   },
   {
    "duration": 6,
    "start_time": "2023-02-19T18:33:54.469Z"
   },
   {
    "duration": 1222,
    "start_time": "2023-02-19T18:33:54.477Z"
   },
   {
    "duration": 6,
    "start_time": "2023-02-19T18:33:55.701Z"
   },
   {
    "duration": 989,
    "start_time": "2023-02-19T18:33:55.708Z"
   },
   {
    "duration": 3,
    "start_time": "2023-02-19T18:33:56.698Z"
   },
   {
    "duration": 6,
    "start_time": "2023-02-19T18:33:56.703Z"
   },
   {
    "duration": 5,
    "start_time": "2023-02-19T18:33:56.710Z"
   },
   {
    "duration": 7,
    "start_time": "2023-02-19T18:33:56.716Z"
   },
   {
    "duration": 4,
    "start_time": "2023-02-19T18:33:56.725Z"
   },
   {
    "duration": 25,
    "start_time": "2023-02-19T18:33:56.730Z"
   },
   {
    "duration": 5,
    "start_time": "2023-02-19T18:33:56.757Z"
   },
   {
    "duration": 5,
    "start_time": "2023-02-19T18:33:56.765Z"
   },
   {
    "duration": 38,
    "start_time": "2023-02-19T18:33:56.771Z"
   },
   {
    "duration": 4,
    "start_time": "2023-02-19T18:33:56.810Z"
   },
   {
    "duration": 8,
    "start_time": "2023-02-19T18:33:56.815Z"
   },
   {
    "duration": 12289,
    "start_time": "2023-02-19T18:33:56.825Z"
   },
   {
    "duration": 3602,
    "start_time": "2023-02-19T18:34:09.195Z"
   },
   {
    "duration": 10014,
    "start_time": "2023-02-19T18:34:12.798Z"
   },
   {
    "duration": 38384,
    "start_time": "2023-02-19T18:34:22.813Z"
   },
   {
    "duration": 1356,
    "start_time": "2023-02-19T19:53:26.779Z"
   },
   {
    "duration": 657,
    "start_time": "2023-02-19T19:53:28.136Z"
   },
   {
    "duration": 99,
    "start_time": "2023-02-19T19:53:28.796Z"
   },
   {
    "duration": 8,
    "start_time": "2023-02-19T19:53:28.897Z"
   },
   {
    "duration": 13,
    "start_time": "2023-02-19T19:53:28.906Z"
   },
   {
    "duration": 8,
    "start_time": "2023-02-19T19:53:28.920Z"
   },
   {
    "duration": 14,
    "start_time": "2023-02-19T19:53:28.929Z"
   },
   {
    "duration": 7,
    "start_time": "2023-02-19T19:53:28.944Z"
   },
   {
    "duration": 8,
    "start_time": "2023-02-19T19:53:28.953Z"
   },
   {
    "duration": 29,
    "start_time": "2023-02-19T19:53:28.964Z"
   },
   {
    "duration": 23,
    "start_time": "2023-02-19T19:53:28.995Z"
   },
   {
    "duration": 13,
    "start_time": "2023-02-19T19:53:29.020Z"
   },
   {
    "duration": 12,
    "start_time": "2023-02-19T19:53:29.035Z"
   },
   {
    "duration": 463,
    "start_time": "2023-02-19T19:53:29.048Z"
   },
   {
    "duration": 389,
    "start_time": "2023-02-19T19:53:29.513Z"
   },
   {
    "duration": 482,
    "start_time": "2023-02-19T19:53:29.904Z"
   },
   {
    "duration": 220,
    "start_time": "2023-02-19T19:53:30.388Z"
   },
   {
    "duration": 6,
    "start_time": "2023-02-19T19:53:30.609Z"
   },
   {
    "duration": 1190,
    "start_time": "2023-02-19T19:53:30.616Z"
   },
   {
    "duration": 6,
    "start_time": "2023-02-19T19:53:31.807Z"
   },
   {
    "duration": 1006,
    "start_time": "2023-02-19T19:53:31.815Z"
   },
   {
    "duration": 3,
    "start_time": "2023-02-19T19:53:32.822Z"
   },
   {
    "duration": 5,
    "start_time": "2023-02-19T19:53:32.826Z"
   },
   {
    "duration": 4,
    "start_time": "2023-02-19T19:53:32.832Z"
   },
   {
    "duration": 8,
    "start_time": "2023-02-19T19:53:32.838Z"
   },
   {
    "duration": 3,
    "start_time": "2023-02-19T19:53:32.847Z"
   },
   {
    "duration": 26,
    "start_time": "2023-02-19T19:53:32.851Z"
   },
   {
    "duration": 5,
    "start_time": "2023-02-19T19:53:32.880Z"
   },
   {
    "duration": 10,
    "start_time": "2023-02-19T19:53:32.886Z"
   },
   {
    "duration": 19,
    "start_time": "2023-02-19T19:53:32.897Z"
   },
   {
    "duration": 3,
    "start_time": "2023-02-19T19:53:32.918Z"
   },
   {
    "duration": 5,
    "start_time": "2023-02-19T19:53:32.922Z"
   },
   {
    "duration": 13669,
    "start_time": "2023-02-19T19:53:32.928Z"
   },
   {
    "duration": 3504,
    "start_time": "2023-02-19T19:53:46.599Z"
   },
   {
    "duration": 9722,
    "start_time": "2023-02-19T19:53:50.106Z"
   },
   {
    "duration": 37890,
    "start_time": "2023-02-19T19:53:59.829Z"
   },
   {
    "duration": 72802,
    "start_time": "2023-02-19T19:54:37.721Z"
   },
   {
    "duration": 7980035,
    "start_time": "2023-02-19T19:55:50.524Z"
   },
   {
    "duration": 6,
    "start_time": "2023-02-19T22:08:50.561Z"
   },
   {
    "duration": 10,
    "start_time": "2023-02-19T22:08:50.568Z"
   },
   {
    "duration": 34,
    "start_time": "2023-02-19T22:08:50.579Z"
   },
   {
    "duration": 2,
    "start_time": "2023-02-19T22:08:50.615Z"
   },
   {
    "duration": 10,
    "start_time": "2023-02-19T22:08:50.618Z"
   },
   {
    "duration": 3,
    "start_time": "2023-02-19T22:08:50.629Z"
   },
   {
    "duration": 6,
    "start_time": "2023-02-19T22:08:50.634Z"
   },
   {
    "duration": 18,
    "start_time": "2023-02-19T22:08:50.641Z"
   },
   {
    "duration": 3237,
    "start_time": "2023-02-19T23:49:07.073Z"
   },
   {
    "duration": 5,
    "start_time": "2023-02-19T23:49:35.736Z"
   },
   {
    "duration": 400,
    "start_time": "2023-02-20T00:14:46.013Z"
   },
   {
    "duration": 452,
    "start_time": "2023-02-20T00:14:48.358Z"
   },
   {
    "duration": 7,
    "start_time": "2023-02-20T00:16:13.463Z"
   },
   {
    "duration": 1507,
    "start_time": "2023-02-21T10:04:51.047Z"
   },
   {
    "duration": 3241,
    "start_time": "2023-02-21T10:04:54.925Z"
   },
   {
    "duration": 95,
    "start_time": "2023-02-21T10:04:58.168Z"
   },
   {
    "duration": 10,
    "start_time": "2023-02-21T10:05:00.645Z"
   },
   {
    "duration": 9,
    "start_time": "2023-02-21T10:05:01.213Z"
   },
   {
    "duration": 4,
    "start_time": "2023-02-21T10:05:04.011Z"
   },
   {
    "duration": 6,
    "start_time": "2023-02-21T10:05:06.026Z"
   },
   {
    "duration": 6,
    "start_time": "2023-02-21T10:05:06.237Z"
   },
   {
    "duration": 6,
    "start_time": "2023-02-21T10:05:06.445Z"
   },
   {
    "duration": 13,
    "start_time": "2023-02-21T10:05:09.633Z"
   },
   {
    "duration": 24,
    "start_time": "2023-02-21T10:05:10.313Z"
   },
   {
    "duration": 14,
    "start_time": "2023-02-21T10:05:10.715Z"
   },
   {
    "duration": 13,
    "start_time": "2023-02-21T10:05:16.281Z"
   },
   {
    "duration": 436,
    "start_time": "2023-02-21T10:05:23.814Z"
   },
   {
    "duration": 430,
    "start_time": "2023-02-21T10:05:28.911Z"
   },
   {
    "duration": 516,
    "start_time": "2023-02-21T10:05:36.469Z"
   },
   {
    "duration": 618,
    "start_time": "2023-02-21T10:05:48.954Z"
   },
   {
    "duration": 463,
    "start_time": "2023-02-21T10:05:56.606Z"
   },
   {
    "duration": 189,
    "start_time": "2023-02-21T10:06:05.160Z"
   },
   {
    "duration": 9,
    "start_time": "2023-02-21T10:06:08.253Z"
   },
   {
    "duration": 1257,
    "start_time": "2023-02-21T10:06:09.073Z"
   },
   {
    "duration": 8,
    "start_time": "2023-02-21T10:06:13.232Z"
   },
   {
    "duration": 1190,
    "start_time": "2023-02-21T10:06:14.658Z"
   },
   {
    "duration": 111,
    "start_time": "2023-02-21T10:08:17.533Z"
   },
   {
    "duration": 16,
    "start_time": "2023-02-21T10:08:30.629Z"
   },
   {
    "duration": 5,
    "start_time": "2023-02-21T10:08:45.934Z"
   },
   {
    "duration": 16,
    "start_time": "2023-02-21T10:09:56.924Z"
   },
   {
    "duration": 165,
    "start_time": "2023-02-21T10:10:22.723Z"
   },
   {
    "duration": 189,
    "start_time": "2023-02-21T10:10:30.146Z"
   },
   {
    "duration": 147,
    "start_time": "2023-02-21T10:13:29.921Z"
   },
   {
    "duration": 154,
    "start_time": "2023-02-21T10:13:36.261Z"
   },
   {
    "duration": 168,
    "start_time": "2023-02-21T10:13:41.167Z"
   },
   {
    "duration": 19,
    "start_time": "2023-02-21T10:28:27.108Z"
   },
   {
    "duration": 15,
    "start_time": "2023-02-21T10:29:22.155Z"
   },
   {
    "duration": 29,
    "start_time": "2023-02-21T10:29:25.637Z"
   },
   {
    "duration": 5,
    "start_time": "2023-02-21T10:31:03.676Z"
   },
   {
    "duration": 12,
    "start_time": "2023-02-21T10:31:05.727Z"
   },
   {
    "duration": 5,
    "start_time": "2023-02-21T10:32:10.727Z"
   },
   {
    "duration": 5,
    "start_time": "2023-02-21T10:32:14.576Z"
   },
   {
    "duration": 13,
    "start_time": "2023-02-21T10:32:15.277Z"
   },
   {
    "duration": 4,
    "start_time": "2023-02-21T10:32:55.436Z"
   },
   {
    "duration": 7,
    "start_time": "2023-02-21T10:32:55.995Z"
   },
   {
    "duration": 13,
    "start_time": "2023-02-21T10:32:56.576Z"
   },
   {
    "duration": 5,
    "start_time": "2023-02-21T10:33:27.724Z"
   },
   {
    "duration": 12,
    "start_time": "2023-02-21T10:33:29.511Z"
   },
   {
    "duration": 5,
    "start_time": "2023-02-21T10:33:46.005Z"
   },
   {
    "duration": 5,
    "start_time": "2023-02-21T10:33:47.412Z"
   },
   {
    "duration": 4,
    "start_time": "2023-02-21T10:33:47.766Z"
   },
   {
    "duration": 208,
    "start_time": "2023-02-21T10:33:48.233Z"
   },
   {
    "duration": 5,
    "start_time": "2023-02-21T10:49:35.018Z"
   },
   {
    "duration": 4,
    "start_time": "2023-02-21T10:49:35.471Z"
   },
   {
    "duration": 5,
    "start_time": "2023-02-21T10:49:35.870Z"
   },
   {
    "duration": 204,
    "start_time": "2023-02-21T10:49:36.400Z"
   },
   {
    "duration": 16,
    "start_time": "2023-02-21T10:49:59.526Z"
   },
   {
    "duration": 15,
    "start_time": "2023-02-21T10:50:07.585Z"
   },
   {
    "duration": 9,
    "start_time": "2023-02-21T10:50:23.578Z"
   },
   {
    "duration": 245,
    "start_time": "2023-02-21T10:58:03.870Z"
   },
   {
    "duration": 175,
    "start_time": "2023-02-21T10:58:13.727Z"
   },
   {
    "duration": 13,
    "start_time": "2023-02-21T10:58:31.438Z"
   },
   {
    "duration": 13,
    "start_time": "2023-02-21T10:58:47.317Z"
   },
   {
    "duration": 127,
    "start_time": "2023-02-21T10:59:06.787Z"
   },
   {
    "duration": 13,
    "start_time": "2023-02-21T11:04:24.126Z"
   },
   {
    "duration": 39,
    "start_time": "2023-02-21T11:04:32.026Z"
   },
   {
    "duration": 38,
    "start_time": "2023-02-21T11:04:45.410Z"
   },
   {
    "duration": 92,
    "start_time": "2023-02-21T11:05:13.207Z"
   },
   {
    "duration": 94,
    "start_time": "2023-02-21T11:09:31.258Z"
   },
   {
    "duration": 121,
    "start_time": "2023-02-21T11:09:38.625Z"
   },
   {
    "duration": 109,
    "start_time": "2023-02-21T11:09:44.360Z"
   },
   {
    "duration": 120,
    "start_time": "2023-02-21T11:10:09.725Z"
   },
   {
    "duration": 138,
    "start_time": "2023-02-21T11:10:28.426Z"
   },
   {
    "duration": 93,
    "start_time": "2023-02-21T11:13:48.723Z"
   },
   {
    "duration": 75,
    "start_time": "2023-02-21T11:13:57.251Z"
   },
   {
    "duration": 3400,
    "start_time": "2023-02-21T11:14:10.444Z"
   },
   {
    "duration": 137,
    "start_time": "2023-02-21T11:17:41.213Z"
   },
   {
    "duration": 155,
    "start_time": "2023-02-21T11:17:53.718Z"
   },
   {
    "duration": 18,
    "start_time": "2023-02-21T11:19:07.035Z"
   },
   {
    "duration": 15,
    "start_time": "2023-02-21T11:19:43.734Z"
   },
   {
    "duration": 3532,
    "start_time": "2023-02-21T11:19:52.523Z"
   },
   {
    "duration": 9,
    "start_time": "2023-02-21T11:30:22.894Z"
   },
   {
    "duration": 9,
    "start_time": "2023-02-21T11:30:32.963Z"
   },
   {
    "duration": 9,
    "start_time": "2023-02-21T11:30:48.717Z"
   },
   {
    "duration": 52,
    "start_time": "2023-02-21T11:30:54.710Z"
   },
   {
    "duration": 3004,
    "start_time": "2023-02-21T11:31:07.434Z"
   },
   {
    "duration": 2871,
    "start_time": "2023-02-21T11:31:49.712Z"
   },
   {
    "duration": 11,
    "start_time": "2023-02-21T11:31:58.811Z"
   },
   {
    "duration": 11,
    "start_time": "2023-02-21T11:32:12.383Z"
   },
   {
    "duration": 275,
    "start_time": "2023-02-21T11:32:35.242Z"
   },
   {
    "duration": 126,
    "start_time": "2023-02-21T11:32:39.383Z"
   },
   {
    "duration": 9,
    "start_time": "2023-02-21T11:33:10.483Z"
   },
   {
    "duration": 79,
    "start_time": "2023-02-21T11:33:38.235Z"
   },
   {
    "duration": 6,
    "start_time": "2023-02-21T11:33:56.463Z"
   },
   {
    "duration": 28,
    "start_time": "2023-02-21T11:36:21.342Z"
   },
   {
    "duration": 76,
    "start_time": "2023-02-21T11:36:51.064Z"
   },
   {
    "duration": 47,
    "start_time": "2023-02-21T11:37:56.723Z"
   },
   {
    "duration": 6,
    "start_time": "2023-02-21T11:38:37.843Z"
   },
   {
    "duration": 34,
    "start_time": "2023-02-21T11:38:48.964Z"
   },
   {
    "duration": 102,
    "start_time": "2023-02-21T11:39:01.523Z"
   },
   {
    "duration": 36,
    "start_time": "2023-02-21T11:39:14.383Z"
   },
   {
    "duration": 120,
    "start_time": "2023-02-21T11:39:41.630Z"
   },
   {
    "duration": 111,
    "start_time": "2023-02-21T11:39:42.417Z"
   },
   {
    "duration": 218,
    "start_time": "2023-02-21T11:45:43.158Z"
   },
   {
    "duration": 117,
    "start_time": "2023-02-21T11:47:36.464Z"
   },
   {
    "duration": 104,
    "start_time": "2023-02-21T11:47:44.157Z"
   },
   {
    "duration": 9,
    "start_time": "2023-02-21T11:49:20.044Z"
   },
   {
    "duration": 1218,
    "start_time": "2023-02-21T11:49:45.283Z"
   },
   {
    "duration": 33,
    "start_time": "2023-02-21T11:51:09.058Z"
   },
   {
    "duration": 39,
    "start_time": "2023-02-21T11:51:20.723Z"
   },
   {
    "duration": 221,
    "start_time": "2023-02-21T11:51:39.657Z"
   },
   {
    "duration": 19,
    "start_time": "2023-02-21T11:53:51.728Z"
   },
   {
    "duration": 232,
    "start_time": "2023-02-21T11:53:53.324Z"
   },
   {
    "duration": 14,
    "start_time": "2023-02-21T11:54:12.510Z"
   },
   {
    "duration": 214,
    "start_time": "2023-02-21T11:54:13.115Z"
   },
   {
    "duration": 15,
    "start_time": "2023-02-21T11:54:22.259Z"
   },
   {
    "duration": 206,
    "start_time": "2023-02-21T11:54:25.411Z"
   },
   {
    "duration": 12,
    "start_time": "2023-02-21T11:54:34.235Z"
   },
   {
    "duration": 180,
    "start_time": "2023-02-21T11:55:01.863Z"
   },
   {
    "duration": 11,
    "start_time": "2023-02-21T11:55:24.858Z"
   },
   {
    "duration": 12,
    "start_time": "2023-02-21T11:55:31.663Z"
   },
   {
    "duration": 198,
    "start_time": "2023-02-21T11:55:34.205Z"
   },
   {
    "duration": 166,
    "start_time": "2023-02-21T11:55:34.663Z"
   },
   {
    "duration": 15,
    "start_time": "2023-02-21T11:55:43.430Z"
   },
   {
    "duration": 195,
    "start_time": "2023-02-21T11:55:46.182Z"
   },
   {
    "duration": 174,
    "start_time": "2023-02-21T11:55:46.622Z"
   },
   {
    "duration": 14,
    "start_time": "2023-02-21T11:55:53.162Z"
   },
   {
    "duration": 161,
    "start_time": "2023-02-21T11:55:55.333Z"
   },
   {
    "duration": 15,
    "start_time": "2023-02-21T11:56:02.145Z"
   },
   {
    "duration": 156,
    "start_time": "2023-02-21T11:56:04.157Z"
   },
   {
    "duration": 13,
    "start_time": "2023-02-21T11:56:23.830Z"
   },
   {
    "duration": 147,
    "start_time": "2023-02-21T11:56:24.365Z"
   },
   {
    "duration": 12,
    "start_time": "2023-02-21T11:56:30.612Z"
   },
   {
    "duration": 165,
    "start_time": "2023-02-21T11:56:31.153Z"
   },
   {
    "duration": 14,
    "start_time": "2023-02-21T11:56:37.556Z"
   },
   {
    "duration": 181,
    "start_time": "2023-02-21T11:56:41.062Z"
   },
   {
    "duration": 1511,
    "start_time": "2023-02-21T11:57:10.882Z"
   },
   {
    "duration": 723,
    "start_time": "2023-02-21T11:57:13.919Z"
   },
   {
    "duration": 112,
    "start_time": "2023-02-21T11:57:14.643Z"
   },
   {
    "duration": 10,
    "start_time": "2023-02-21T11:57:15.013Z"
   },
   {
    "duration": 9,
    "start_time": "2023-02-21T11:57:15.162Z"
   },
   {
    "duration": 4,
    "start_time": "2023-02-21T11:57:15.771Z"
   },
   {
    "duration": 6,
    "start_time": "2023-02-21T11:57:16.414Z"
   },
   {
    "duration": 5,
    "start_time": "2023-02-21T11:57:16.574Z"
   },
   {
    "duration": 7,
    "start_time": "2023-02-21T11:57:16.753Z"
   },
   {
    "duration": 16,
    "start_time": "2023-02-21T11:57:17.215Z"
   },
   {
    "duration": 25,
    "start_time": "2023-02-21T11:57:17.533Z"
   },
   {
    "duration": 15,
    "start_time": "2023-02-21T11:57:17.882Z"
   },
   {
    "duration": 12,
    "start_time": "2023-02-21T11:57:18.951Z"
   },
   {
    "duration": 196,
    "start_time": "2023-02-21T11:57:20.082Z"
   },
   {
    "duration": 146,
    "start_time": "2023-02-21T11:57:20.279Z"
   },
   {
    "duration": 178,
    "start_time": "2023-02-21T11:57:20.427Z"
   },
   {
    "duration": 490,
    "start_time": "2023-02-21T11:57:20.961Z"
   },
   {
    "duration": 496,
    "start_time": "2023-02-21T11:57:22.262Z"
   },
   {
    "duration": 467,
    "start_time": "2023-02-21T11:57:22.768Z"
   },
   {
    "duration": 163,
    "start_time": "2023-02-21T11:57:23.917Z"
   },
   {
    "duration": 7,
    "start_time": "2023-02-21T11:57:24.662Z"
   },
   {
    "duration": 1245,
    "start_time": "2023-02-21T11:57:25.090Z"
   },
   {
    "duration": 6,
    "start_time": "2023-02-21T11:57:26.515Z"
   },
   {
    "duration": 1021,
    "start_time": "2023-02-21T11:57:27.014Z"
   },
   {
    "duration": 5,
    "start_time": "2023-02-21T11:57:28.037Z"
   },
   {
    "duration": 39,
    "start_time": "2023-02-21T11:57:28.043Z"
   },
   {
    "duration": 5,
    "start_time": "2023-02-21T11:57:28.263Z"
   },
   {
    "duration": 238,
    "start_time": "2023-02-21T11:57:29.021Z"
   },
   {
    "duration": 18,
    "start_time": "2023-02-21T11:57:32.417Z"
   },
   {
    "duration": 153,
    "start_time": "2023-02-21T11:57:33.989Z"
   },
   {
    "duration": 151,
    "start_time": "2023-02-21T11:57:50.964Z"
   },
   {
    "duration": 14,
    "start_time": "2023-02-21T11:58:03.162Z"
   },
   {
    "duration": 165,
    "start_time": "2023-02-21T11:58:03.844Z"
   },
   {
    "duration": 14,
    "start_time": "2023-02-21T11:58:09.459Z"
   },
   {
    "duration": 159,
    "start_time": "2023-02-21T11:58:10.115Z"
   },
   {
    "duration": 12,
    "start_time": "2023-02-21T11:58:15.016Z"
   },
   {
    "duration": 157,
    "start_time": "2023-02-21T11:58:15.664Z"
   },
   {
    "duration": 268,
    "start_time": "2023-02-21T11:58:28.314Z"
   },
   {
    "duration": 12,
    "start_time": "2023-02-21T11:58:39.551Z"
   },
   {
    "duration": 172,
    "start_time": "2023-02-21T11:58:40.222Z"
   },
   {
    "duration": 11,
    "start_time": "2023-02-21T11:58:46.823Z"
   },
   {
    "duration": 170,
    "start_time": "2023-02-21T11:58:47.315Z"
   },
   {
    "duration": 13,
    "start_time": "2023-02-21T11:58:52.870Z"
   },
   {
    "duration": 162,
    "start_time": "2023-02-21T11:58:53.363Z"
   },
   {
    "duration": 15,
    "start_time": "2023-02-21T11:58:58.222Z"
   },
   {
    "duration": 176,
    "start_time": "2023-02-21T11:58:59.662Z"
   },
   {
    "duration": 229,
    "start_time": "2023-02-21T11:59:04.413Z"
   },
   {
    "duration": 217,
    "start_time": "2023-02-21T11:59:33.956Z"
   },
   {
    "duration": 1051,
    "start_time": "2023-02-21T12:00:33.372Z"
   },
   {
    "duration": 228,
    "start_time": "2023-02-21T12:04:56.262Z"
   },
   {
    "duration": 125,
    "start_time": "2023-02-21T12:05:18.615Z"
   },
   {
    "duration": 5,
    "start_time": "2023-02-21T12:06:59.325Z"
   },
   {
    "duration": 4,
    "start_time": "2023-02-21T12:06:59.883Z"
   },
   {
    "duration": 5,
    "start_time": "2023-02-21T12:07:01.274Z"
   },
   {
    "duration": 221,
    "start_time": "2023-02-21T12:07:29.714Z"
   },
   {
    "duration": 12,
    "start_time": "2023-02-21T12:07:33.076Z"
   },
   {
    "duration": 13,
    "start_time": "2023-02-21T12:07:54.679Z"
   },
   {
    "duration": 214,
    "start_time": "2023-02-21T12:07:55.425Z"
   },
   {
    "duration": 1343,
    "start_time": "2023-02-21T12:08:17.525Z"
   },
   {
    "duration": 673,
    "start_time": "2023-02-21T12:08:18.870Z"
   },
   {
    "duration": 104,
    "start_time": "2023-02-21T12:08:19.545Z"
   },
   {
    "duration": 8,
    "start_time": "2023-02-21T12:08:19.651Z"
   },
   {
    "duration": 11,
    "start_time": "2023-02-21T12:08:19.661Z"
   },
   {
    "duration": 4,
    "start_time": "2023-02-21T12:08:19.925Z"
   },
   {
    "duration": 6,
    "start_time": "2023-02-21T12:08:20.526Z"
   },
   {
    "duration": 4,
    "start_time": "2023-02-21T12:08:20.677Z"
   },
   {
    "duration": 6,
    "start_time": "2023-02-21T12:08:20.867Z"
   },
   {
    "duration": 17,
    "start_time": "2023-02-21T12:08:21.374Z"
   },
   {
    "duration": 27,
    "start_time": "2023-02-21T12:08:21.726Z"
   },
   {
    "duration": 15,
    "start_time": "2023-02-21T12:08:22.063Z"
   },
   {
    "duration": 12,
    "start_time": "2023-02-21T12:08:23.227Z"
   },
   {
    "duration": 169,
    "start_time": "2023-02-21T12:08:24.186Z"
   },
   {
    "duration": 151,
    "start_time": "2023-02-21T12:08:24.370Z"
   },
   {
    "duration": 166,
    "start_time": "2023-02-21T12:08:24.774Z"
   },
   {
    "duration": 596,
    "start_time": "2023-02-21T12:08:26.070Z"
   },
   {
    "duration": 455,
    "start_time": "2023-02-21T12:08:27.506Z"
   },
   {
    "duration": 458,
    "start_time": "2023-02-21T12:08:27.963Z"
   },
   {
    "duration": 154,
    "start_time": "2023-02-21T12:08:28.474Z"
   },
   {
    "duration": 6,
    "start_time": "2023-02-21T12:08:29.472Z"
   },
   {
    "duration": 1332,
    "start_time": "2023-02-21T12:08:29.906Z"
   },
   {
    "duration": 8,
    "start_time": "2023-02-21T12:08:32.658Z"
   },
   {
    "duration": 1063,
    "start_time": "2023-02-21T12:08:32.871Z"
   },
   {
    "duration": 5,
    "start_time": "2023-02-21T12:08:33.936Z"
   },
   {
    "duration": 4,
    "start_time": "2023-02-21T12:08:33.971Z"
   },
   {
    "duration": 1060,
    "start_time": "2023-02-21T12:08:41.774Z"
   },
   {
    "duration": 5,
    "start_time": "2023-02-21T12:08:42.836Z"
   },
   {
    "duration": 4,
    "start_time": "2023-02-21T12:08:46.686Z"
   },
   {
    "duration": 4,
    "start_time": "2023-02-21T12:08:47.463Z"
   },
   {
    "duration": 243,
    "start_time": "2023-02-21T12:08:48.826Z"
   },
   {
    "duration": 18,
    "start_time": "2023-02-21T12:08:51.725Z"
   },
   {
    "duration": 117,
    "start_time": "2023-02-21T12:08:52.986Z"
   },
   {
    "duration": 225,
    "start_time": "2023-02-21T12:09:06.406Z"
   },
   {
    "duration": 131,
    "start_time": "2023-02-21T12:09:12.327Z"
   },
   {
    "duration": 6,
    "start_time": "2023-02-21T12:10:34.626Z"
   },
   {
    "duration": 8,
    "start_time": "2023-02-21T12:10:49.966Z"
   },
   {
    "duration": 579,
    "start_time": "2023-02-21T12:11:47.857Z"
   },
   {
    "duration": 216,
    "start_time": "2023-02-21T12:12:13.866Z"
   },
   {
    "duration": 574,
    "start_time": "2023-02-21T12:13:11.605Z"
   },
   {
    "duration": 527,
    "start_time": "2023-02-21T12:13:27.025Z"
   },
   {
    "duration": 780,
    "start_time": "2023-02-21T12:13:47.926Z"
   },
   {
    "duration": 853,
    "start_time": "2023-02-21T12:13:58.463Z"
   },
   {
    "duration": 809,
    "start_time": "2023-02-21T12:14:09.206Z"
   },
   {
    "duration": 797,
    "start_time": "2023-02-21T12:14:16.513Z"
   },
   {
    "duration": 1028,
    "start_time": "2023-02-21T12:14:42.986Z"
   },
   {
    "duration": 2049,
    "start_time": "2023-02-21T12:53:54.095Z"
   },
   {
    "duration": 1356,
    "start_time": "2023-02-21T12:53:56.146Z"
   },
   {
    "duration": 175,
    "start_time": "2023-02-21T12:53:57.506Z"
   },
   {
    "duration": 20,
    "start_time": "2023-02-21T12:53:57.686Z"
   },
   {
    "duration": 19,
    "start_time": "2023-02-21T12:53:57.708Z"
   },
   {
    "duration": 5,
    "start_time": "2023-02-21T12:53:57.730Z"
   },
   {
    "duration": 18,
    "start_time": "2023-02-21T12:53:57.737Z"
   },
   {
    "duration": 56,
    "start_time": "2023-02-21T12:53:57.759Z"
   },
   {
    "duration": 12,
    "start_time": "2023-02-21T12:53:57.817Z"
   },
   {
    "duration": 22,
    "start_time": "2023-02-21T12:53:57.833Z"
   },
   {
    "duration": 29,
    "start_time": "2023-02-21T12:53:57.857Z"
   },
   {
    "duration": 47,
    "start_time": "2023-02-21T12:53:57.888Z"
   },
   {
    "duration": 31,
    "start_time": "2023-02-21T12:53:57.937Z"
   },
   {
    "duration": 256,
    "start_time": "2023-02-21T12:53:57.976Z"
   },
   {
    "duration": 204,
    "start_time": "2023-02-21T12:53:58.235Z"
   },
   {
    "duration": 222,
    "start_time": "2023-02-21T12:53:58.441Z"
   },
   {
    "duration": 619,
    "start_time": "2023-02-21T12:53:58.668Z"
   },
   {
    "duration": 557,
    "start_time": "2023-02-21T12:53:59.288Z"
   },
   {
    "duration": 23,
    "start_time": "2023-02-21T12:53:59.846Z"
   },
   {
    "duration": 1256,
    "start_time": "2023-02-21T12:53:59.884Z"
   },
   {
    "duration": 20,
    "start_time": "2023-02-21T12:54:01.142Z"
   },
   {
    "duration": 63,
    "start_time": "2023-02-21T12:54:01.163Z"
   },
   {
    "duration": 89,
    "start_time": "2023-02-21T12:54:01.228Z"
   },
   {
    "duration": 373,
    "start_time": "2023-02-21T12:54:01.319Z"
   },
   {
    "duration": 20,
    "start_time": "2023-02-21T12:54:01.694Z"
   },
   {
    "duration": 323,
    "start_time": "2023-02-21T12:54:01.716Z"
   },
   {
    "duration": 1257,
    "start_time": "2023-02-21T12:54:02.041Z"
   },
   {
    "duration": 4,
    "start_time": "2023-02-21T12:54:03.304Z"
   },
   {
    "duration": 9,
    "start_time": "2023-02-21T12:54:03.309Z"
   },
   {
    "duration": 18,
    "start_time": "2023-02-21T12:54:03.320Z"
   },
   {
    "duration": 28,
    "start_time": "2023-02-21T12:54:03.340Z"
   },
   {
    "duration": 45,
    "start_time": "2023-02-21T12:54:03.369Z"
   },
   {
    "duration": 49,
    "start_time": "2023-02-21T12:54:03.416Z"
   },
   {
    "duration": 19,
    "start_time": "2023-02-21T12:54:03.467Z"
   },
   {
    "duration": 33,
    "start_time": "2023-02-21T12:54:03.492Z"
   },
   {
    "duration": 43,
    "start_time": "2023-02-21T12:54:03.527Z"
   },
   {
    "duration": 42,
    "start_time": "2023-02-21T12:54:03.575Z"
   },
   {
    "duration": 13,
    "start_time": "2023-02-21T12:54:03.619Z"
   },
   {
    "duration": 46454,
    "start_time": "2023-02-21T12:54:03.634Z"
   },
   {
    "duration": 10892,
    "start_time": "2023-02-21T12:54:50.091Z"
   },
   {
    "duration": 9514,
    "start_time": "2023-02-21T12:55:00.985Z"
   },
   {
    "duration": 39434,
    "start_time": "2023-02-21T12:55:10.500Z"
   },
   {
    "duration": 79418,
    "start_time": "2023-02-21T12:55:49.936Z"
   },
   {
    "duration": 912982,
    "start_time": "2023-02-21T12:57:09.356Z"
   },
   {
    "duration": 0,
    "start_time": "2023-02-21T13:12:22.340Z"
   },
   {
    "duration": 0,
    "start_time": "2023-02-21T13:12:22.343Z"
   },
   {
    "duration": 0,
    "start_time": "2023-02-21T13:12:22.344Z"
   },
   {
    "duration": 0,
    "start_time": "2023-02-21T13:12:22.360Z"
   },
   {
    "duration": 0,
    "start_time": "2023-02-21T13:12:22.363Z"
   },
   {
    "duration": 0,
    "start_time": "2023-02-21T13:12:22.364Z"
   },
   {
    "duration": 0,
    "start_time": "2023-02-21T13:12:22.366Z"
   },
   {
    "duration": 0,
    "start_time": "2023-02-21T13:12:22.367Z"
   },
   {
    "duration": 2277,
    "start_time": "2023-02-21T13:12:35.625Z"
   },
   {
    "duration": 918,
    "start_time": "2023-02-21T13:12:37.910Z"
   },
   {
    "duration": 156,
    "start_time": "2023-02-21T13:12:38.829Z"
   },
   {
    "duration": 13,
    "start_time": "2023-02-21T13:12:38.993Z"
   },
   {
    "duration": 11,
    "start_time": "2023-02-21T13:12:39.008Z"
   },
   {
    "duration": 5,
    "start_time": "2023-02-21T13:12:39.020Z"
   },
   {
    "duration": 63,
    "start_time": "2023-02-21T13:12:39.027Z"
   },
   {
    "duration": 18,
    "start_time": "2023-02-21T13:12:39.092Z"
   },
   {
    "duration": 11,
    "start_time": "2023-02-21T13:12:39.111Z"
   },
   {
    "duration": 15,
    "start_time": "2023-02-21T13:12:39.126Z"
   },
   {
    "duration": 33,
    "start_time": "2023-02-21T13:12:39.143Z"
   },
   {
    "duration": 28,
    "start_time": "2023-02-21T13:12:39.184Z"
   },
   {
    "duration": 12,
    "start_time": "2023-02-21T13:12:39.214Z"
   },
   {
    "duration": 217,
    "start_time": "2023-02-21T13:12:39.227Z"
   },
   {
    "duration": 253,
    "start_time": "2023-02-21T13:12:39.446Z"
   },
   {
    "duration": 222,
    "start_time": "2023-02-21T13:12:39.703Z"
   },
   {
    "duration": 633,
    "start_time": "2023-02-21T13:12:39.927Z"
   },
   {
    "duration": 488,
    "start_time": "2023-02-21T13:12:40.561Z"
   },
   {
    "duration": 29,
    "start_time": "2023-02-21T13:12:41.051Z"
   },
   {
    "duration": 1261,
    "start_time": "2023-02-21T13:12:41.082Z"
   },
   {
    "duration": 34,
    "start_time": "2023-02-21T13:12:42.345Z"
   },
   {
    "duration": 20,
    "start_time": "2023-02-21T13:12:42.393Z"
   },
   {
    "duration": 17,
    "start_time": "2023-02-21T13:12:42.414Z"
   },
   {
    "duration": 296,
    "start_time": "2023-02-21T13:12:42.433Z"
   },
   {
    "duration": 36,
    "start_time": "2023-02-21T13:12:42.731Z"
   },
   {
    "duration": 298,
    "start_time": "2023-02-21T13:12:42.769Z"
   },
   {
    "duration": 1071,
    "start_time": "2023-02-21T13:12:43.069Z"
   },
   {
    "duration": 3,
    "start_time": "2023-02-21T13:12:44.143Z"
   },
   {
    "duration": 60,
    "start_time": "2023-02-21T13:12:44.147Z"
   },
   {
    "duration": 13,
    "start_time": "2023-02-21T13:12:44.210Z"
   },
   {
    "duration": 8,
    "start_time": "2023-02-21T13:12:44.226Z"
   },
   {
    "duration": 8,
    "start_time": "2023-02-21T13:12:44.237Z"
   },
   {
    "duration": 69,
    "start_time": "2023-02-21T13:12:44.247Z"
   },
   {
    "duration": 12,
    "start_time": "2023-02-21T13:12:44.318Z"
   },
   {
    "duration": 8,
    "start_time": "2023-02-21T13:12:44.332Z"
   },
   {
    "duration": 32,
    "start_time": "2023-02-21T13:12:44.342Z"
   },
   {
    "duration": 12,
    "start_time": "2023-02-21T13:12:44.377Z"
   },
   {
    "duration": 9307,
    "start_time": "2023-02-21T13:12:44.393Z"
   },
   {
    "duration": 40556,
    "start_time": "2023-02-21T13:12:53.758Z"
   },
   {
    "duration": 4052126,
    "start_time": "2023-02-21T13:13:34.316Z"
   },
   {
    "duration": 25,
    "start_time": "2023-02-21T14:21:06.444Z"
   },
   {
    "duration": 36,
    "start_time": "2023-02-21T14:21:06.474Z"
   },
   {
    "duration": 191,
    "start_time": "2023-02-21T14:21:06.512Z"
   },
   {
    "duration": 0,
    "start_time": "2023-02-21T14:21:06.705Z"
   },
   {
    "duration": 0,
    "start_time": "2023-02-21T14:21:06.706Z"
   },
   {
    "duration": 0,
    "start_time": "2023-02-21T14:21:06.707Z"
   },
   {
    "duration": 0,
    "start_time": "2023-02-21T14:21:06.708Z"
   },
   {
    "duration": 0,
    "start_time": "2023-02-21T14:21:06.709Z"
   },
   {
    "duration": 29,
    "start_time": "2023-02-21T14:27:41.179Z"
   },
   {
    "duration": 18,
    "start_time": "2023-02-21T14:28:58.179Z"
   },
   {
    "duration": 1800,
    "start_time": "2023-02-22T11:08:02.865Z"
   },
   {
    "duration": 1983,
    "start_time": "2023-02-22T11:08:04.668Z"
   },
   {
    "duration": 119,
    "start_time": "2023-02-22T11:08:06.653Z"
   },
   {
    "duration": 11,
    "start_time": "2023-02-22T11:08:06.774Z"
   },
   {
    "duration": 13,
    "start_time": "2023-02-22T11:08:06.787Z"
   },
   {
    "duration": 5,
    "start_time": "2023-02-22T11:08:06.802Z"
   },
   {
    "duration": 26,
    "start_time": "2023-02-22T11:08:06.841Z"
   },
   {
    "duration": 6,
    "start_time": "2023-02-22T11:08:06.869Z"
   },
   {
    "duration": 11,
    "start_time": "2023-02-22T11:08:06.877Z"
   },
   {
    "duration": 40,
    "start_time": "2023-02-22T11:08:06.890Z"
   },
   {
    "duration": 28,
    "start_time": "2023-02-22T11:08:07.232Z"
   },
   {
    "duration": 18,
    "start_time": "2023-02-22T11:08:08.585Z"
   },
   {
    "duration": 16,
    "start_time": "2023-02-22T11:08:11.965Z"
   },
   {
    "duration": 359,
    "start_time": "2023-02-22T11:08:13.659Z"
   },
   {
    "duration": 199,
    "start_time": "2023-02-22T11:09:44.287Z"
   },
   {
    "duration": 472,
    "start_time": "2023-02-22T11:11:35.456Z"
   },
   {
    "duration": 360,
    "start_time": "2023-02-22T11:12:23.083Z"
   },
   {
    "duration": 455,
    "start_time": "2023-02-22T11:12:38.775Z"
   },
   {
    "duration": 368,
    "start_time": "2023-02-22T11:14:04.350Z"
   },
   {
    "duration": 464,
    "start_time": "2023-02-22T11:14:05.270Z"
   },
   {
    "duration": 555,
    "start_time": "2023-02-22T11:14:06.734Z"
   },
   {
    "duration": 10,
    "start_time": "2023-02-22T11:14:10.328Z"
   },
   {
    "duration": 1117,
    "start_time": "2023-02-22T11:14:10.828Z"
   },
   {
    "duration": 5,
    "start_time": "2023-02-22T11:14:15.634Z"
   },
   {
    "duration": 6,
    "start_time": "2023-02-22T11:14:15.763Z"
   },
   {
    "duration": 5,
    "start_time": "2023-02-22T11:14:15.928Z"
   },
   {
    "duration": 274,
    "start_time": "2023-02-22T11:14:16.074Z"
   },
   {
    "duration": 21,
    "start_time": "2023-02-22T11:15:11.381Z"
   },
   {
    "duration": 413,
    "start_time": "2023-02-22T11:15:13.163Z"
   },
   {
    "duration": 1607,
    "start_time": "2023-02-22T11:17:07.263Z"
   },
   {
    "duration": 834,
    "start_time": "2023-02-22T11:17:08.873Z"
   },
   {
    "duration": 145,
    "start_time": "2023-02-22T11:17:09.709Z"
   },
   {
    "duration": 10,
    "start_time": "2023-02-22T11:17:09.857Z"
   },
   {
    "duration": 20,
    "start_time": "2023-02-22T11:17:09.870Z"
   },
   {
    "duration": 21,
    "start_time": "2023-02-22T11:17:09.892Z"
   },
   {
    "duration": 20,
    "start_time": "2023-02-22T11:17:09.914Z"
   },
   {
    "duration": 27,
    "start_time": "2023-02-22T11:17:09.936Z"
   },
   {
    "duration": 20,
    "start_time": "2023-02-22T11:17:09.965Z"
   },
   {
    "duration": 27,
    "start_time": "2023-02-22T11:17:09.987Z"
   },
   {
    "duration": 27,
    "start_time": "2023-02-22T11:17:10.016Z"
   },
   {
    "duration": 23,
    "start_time": "2023-02-22T11:17:10.045Z"
   },
   {
    "duration": 19,
    "start_time": "2023-02-22T11:17:10.071Z"
   },
   {
    "duration": 233,
    "start_time": "2023-02-22T11:17:10.095Z"
   },
   {
    "duration": 178,
    "start_time": "2023-02-22T11:17:10.330Z"
   },
   {
    "duration": 765,
    "start_time": "2023-02-22T11:17:10.511Z"
   },
   {
    "duration": 435,
    "start_time": "2023-02-22T11:17:11.278Z"
   },
   {
    "duration": 362,
    "start_time": "2023-02-22T11:17:11.715Z"
   },
   {
    "duration": 367,
    "start_time": "2023-02-22T11:17:12.079Z"
   },
   {
    "duration": 3840,
    "start_time": "2023-02-22T11:17:12.448Z"
   },
   {
    "duration": 658,
    "start_time": "2023-02-22T11:17:16.290Z"
   },
   {
    "duration": 10,
    "start_time": "2023-02-22T11:17:16.950Z"
   },
   {
    "duration": 2178,
    "start_time": "2023-02-22T11:17:16.963Z"
   },
   {
    "duration": 6,
    "start_time": "2023-02-22T11:17:19.143Z"
   },
   {
    "duration": 9,
    "start_time": "2023-02-22T11:17:19.151Z"
   },
   {
    "duration": 16,
    "start_time": "2023-02-22T11:17:19.163Z"
   },
   {
    "duration": 784,
    "start_time": "2023-02-22T11:17:19.181Z"
   },
   {
    "duration": 4,
    "start_time": "2023-02-22T11:17:19.968Z"
   },
   {
    "duration": 73,
    "start_time": "2023-02-22T11:17:19.974Z"
   },
   {
    "duration": 690,
    "start_time": "2023-02-22T11:17:20.050Z"
   },
   {
    "duration": 2424,
    "start_time": "2023-02-22T11:17:20.742Z"
   },
   {
    "duration": 4,
    "start_time": "2023-02-22T11:17:23.168Z"
   },
   {
    "duration": 7,
    "start_time": "2023-02-22T11:17:23.174Z"
   },
   {
    "duration": 58,
    "start_time": "2023-02-22T11:17:23.182Z"
   },
   {
    "duration": 7,
    "start_time": "2023-02-22T11:17:23.242Z"
   },
   {
    "duration": 10,
    "start_time": "2023-02-22T11:17:23.252Z"
   },
   {
    "duration": 88,
    "start_time": "2023-02-22T11:17:23.265Z"
   },
   {
    "duration": 20,
    "start_time": "2023-02-22T11:17:23.355Z"
   },
   {
    "duration": 4,
    "start_time": "2023-02-22T11:17:23.377Z"
   },
   {
    "duration": 4674,
    "start_time": "2023-02-22T11:17:23.382Z"
   },
   {
    "duration": 42341,
    "start_time": "2023-02-22T11:17:28.144Z"
   },
   {
    "duration": 1523,
    "start_time": "2023-02-22T11:38:58.280Z"
   },
   {
    "duration": 766,
    "start_time": "2023-02-22T11:39:03.565Z"
   },
   {
    "duration": 132,
    "start_time": "2023-02-22T11:39:04.333Z"
   },
   {
    "duration": 12,
    "start_time": "2023-02-22T11:39:04.962Z"
   },
   {
    "duration": 9,
    "start_time": "2023-02-22T11:39:05.120Z"
   },
   {
    "duration": 4,
    "start_time": "2023-02-22T11:39:05.741Z"
   },
   {
    "duration": 6,
    "start_time": "2023-02-22T11:39:06.420Z"
   },
   {
    "duration": 5,
    "start_time": "2023-02-22T11:39:06.561Z"
   },
   {
    "duration": 7,
    "start_time": "2023-02-22T11:39:06.741Z"
   },
   {
    "duration": 16,
    "start_time": "2023-02-22T11:39:07.249Z"
   },
   {
    "duration": 27,
    "start_time": "2023-02-22T11:39:07.580Z"
   },
   {
    "duration": 16,
    "start_time": "2023-02-22T11:39:07.922Z"
   },
   {
    "duration": 13,
    "start_time": "2023-02-22T11:39:09.114Z"
   },
   {
    "duration": 185,
    "start_time": "2023-02-22T11:39:10.132Z"
   },
   {
    "duration": 163,
    "start_time": "2023-02-22T11:39:10.322Z"
   },
   {
    "duration": 184,
    "start_time": "2023-02-22T11:39:10.521Z"
   },
   {
    "duration": 417,
    "start_time": "2023-02-22T11:39:10.861Z"
   },
   {
    "duration": 340,
    "start_time": "2023-02-22T11:39:11.281Z"
   },
   {
    "duration": 357,
    "start_time": "2023-02-22T11:39:11.623Z"
   },
   {
    "duration": 526,
    "start_time": "2023-02-22T11:39:11.982Z"
   },
   {
    "duration": 476,
    "start_time": "2023-02-22T11:39:12.510Z"
   },
   {
    "duration": 7,
    "start_time": "2023-02-22T11:39:13.061Z"
   },
   {
    "duration": 1056,
    "start_time": "2023-02-22T11:39:13.261Z"
   },
   {
    "duration": 6,
    "start_time": "2023-02-22T11:39:14.460Z"
   },
   {
    "duration": 5,
    "start_time": "2023-02-22T11:39:14.660Z"
   },
   {
    "duration": 5,
    "start_time": "2023-02-22T11:39:17.341Z"
   },
   {
    "duration": 256,
    "start_time": "2023-02-22T11:39:17.621Z"
   },
   {
    "duration": 2,
    "start_time": "2023-02-22T11:39:18.061Z"
   },
   {
    "duration": 21,
    "start_time": "2023-02-22T11:39:18.562Z"
   },
   {
    "duration": 283,
    "start_time": "2023-02-22T11:39:18.732Z"
   },
   {
    "duration": 1163,
    "start_time": "2023-02-22T11:39:19.920Z"
   },
   {
    "duration": 3,
    "start_time": "2023-02-22T11:39:28.880Z"
   },
   {
    "duration": 4,
    "start_time": "2023-02-22T11:39:29.321Z"
   },
   {
    "duration": 3,
    "start_time": "2023-02-22T11:39:29.652Z"
   },
   {
    "duration": 7,
    "start_time": "2023-02-22T11:39:31.973Z"
   },
   {
    "duration": 2,
    "start_time": "2023-02-22T11:39:32.553Z"
   },
   {
    "duration": 27,
    "start_time": "2023-02-22T11:39:36.716Z"
   },
   {
    "duration": 14,
    "start_time": "2023-02-22T11:39:39.853Z"
   },
   {
    "duration": 6,
    "start_time": "2023-02-22T11:39:52.014Z"
   },
   {
    "duration": 3872,
    "start_time": "2023-02-22T11:40:14.233Z"
   },
   {
    "duration": 8,
    "start_time": "2023-02-22T11:40:38.273Z"
   },
   {
    "duration": 10,
    "start_time": "2023-02-22T11:41:04.099Z"
   },
   {
    "duration": 1806,
    "start_time": "2023-02-22T11:41:06.049Z"
   },
   {
    "duration": 6,
    "start_time": "2023-02-22T11:41:21.581Z"
   },
   {
    "duration": 11,
    "start_time": "2023-02-22T11:41:32.729Z"
   },
   {
    "duration": 1629,
    "start_time": "2023-02-22T11:41:34.617Z"
   },
   {
    "duration": 13,
    "start_time": "2023-02-22T11:42:08.272Z"
   },
   {
    "duration": 1595,
    "start_time": "2023-02-22T11:42:30.947Z"
   },
   {
    "duration": 716,
    "start_time": "2023-02-22T11:42:32.545Z"
   },
   {
    "duration": 129,
    "start_time": "2023-02-22T11:42:33.263Z"
   },
   {
    "duration": 9,
    "start_time": "2023-02-22T11:42:33.394Z"
   },
   {
    "duration": 10,
    "start_time": "2023-02-22T11:42:33.406Z"
   },
   {
    "duration": 5,
    "start_time": "2023-02-22T11:42:33.439Z"
   },
   {
    "duration": 11,
    "start_time": "2023-02-22T11:42:33.446Z"
   },
   {
    "duration": 9,
    "start_time": "2023-02-22T11:42:33.459Z"
   },
   {
    "duration": 16,
    "start_time": "2023-02-22T11:42:33.470Z"
   },
   {
    "duration": 17,
    "start_time": "2023-02-22T11:42:33.487Z"
   },
   {
    "duration": 37,
    "start_time": "2023-02-22T11:42:33.506Z"
   },
   {
    "duration": 15,
    "start_time": "2023-02-22T11:42:33.545Z"
   },
   {
    "duration": 14,
    "start_time": "2023-02-22T11:42:33.561Z"
   },
   {
    "duration": 212,
    "start_time": "2023-02-22T11:42:33.578Z"
   },
   {
    "duration": 183,
    "start_time": "2023-02-22T11:42:33.792Z"
   },
   {
    "duration": 196,
    "start_time": "2023-02-22T11:42:33.977Z"
   },
   {
    "duration": 420,
    "start_time": "2023-02-22T11:42:34.175Z"
   },
   {
    "duration": 359,
    "start_time": "2023-02-22T11:42:34.597Z"
   },
   {
    "duration": 366,
    "start_time": "2023-02-22T11:42:34.958Z"
   },
   {
    "duration": 490,
    "start_time": "2023-02-22T11:42:35.326Z"
   },
   {
    "duration": 491,
    "start_time": "2023-02-22T11:42:35.818Z"
   },
   {
    "duration": 8,
    "start_time": "2023-02-22T11:42:36.311Z"
   },
   {
    "duration": 1100,
    "start_time": "2023-02-22T11:42:36.321Z"
   },
   {
    "duration": 6,
    "start_time": "2023-02-22T11:42:37.423Z"
   },
   {
    "duration": 10,
    "start_time": "2023-02-22T11:42:37.432Z"
   },
   {
    "duration": 26,
    "start_time": "2023-02-22T11:42:37.444Z"
   },
   {
    "duration": 470,
    "start_time": "2023-02-22T11:42:37.473Z"
   },
   {
    "duration": 3,
    "start_time": "2023-02-22T11:42:37.945Z"
   },
   {
    "duration": 28,
    "start_time": "2023-02-22T11:42:37.950Z"
   },
   {
    "duration": 506,
    "start_time": "2023-02-22T11:42:37.980Z"
   },
   {
    "duration": 1921,
    "start_time": "2023-02-22T11:42:38.488Z"
   },
   {
    "duration": 3,
    "start_time": "2023-02-22T11:42:40.411Z"
   },
   {
    "duration": 6,
    "start_time": "2023-02-22T11:42:40.416Z"
   },
   {
    "duration": 15,
    "start_time": "2023-02-22T11:42:40.425Z"
   },
   {
    "duration": 7,
    "start_time": "2023-02-22T11:42:40.442Z"
   },
   {
    "duration": 9,
    "start_time": "2023-02-22T11:42:40.451Z"
   },
   {
    "duration": 35,
    "start_time": "2023-02-22T11:42:40.462Z"
   },
   {
    "duration": 14,
    "start_time": "2023-02-22T11:42:40.499Z"
   },
   {
    "duration": 34,
    "start_time": "2023-02-22T11:42:40.515Z"
   },
   {
    "duration": 6,
    "start_time": "2023-02-22T11:42:40.551Z"
   },
   {
    "duration": 3285,
    "start_time": "2023-02-22T11:42:40.561Z"
   },
   {
    "duration": 1588,
    "start_time": "2023-02-22T11:45:52.163Z"
   },
   {
    "duration": 744,
    "start_time": "2023-02-22T11:45:53.753Z"
   },
   {
    "duration": 140,
    "start_time": "2023-02-22T11:45:54.500Z"
   },
   {
    "duration": 11,
    "start_time": "2023-02-22T11:45:54.642Z"
   },
   {
    "duration": 12,
    "start_time": "2023-02-22T11:45:54.656Z"
   },
   {
    "duration": 5,
    "start_time": "2023-02-22T11:45:54.670Z"
   },
   {
    "duration": 9,
    "start_time": "2023-02-22T11:45:54.677Z"
   },
   {
    "duration": 6,
    "start_time": "2023-02-22T11:45:54.687Z"
   },
   {
    "duration": 14,
    "start_time": "2023-02-22T11:45:54.695Z"
   },
   {
    "duration": 43,
    "start_time": "2023-02-22T11:45:54.711Z"
   },
   {
    "duration": 28,
    "start_time": "2023-02-22T11:45:54.756Z"
   },
   {
    "duration": 15,
    "start_time": "2023-02-22T11:45:54.786Z"
   },
   {
    "duration": 43,
    "start_time": "2023-02-22T11:45:54.803Z"
   },
   {
    "duration": 191,
    "start_time": "2023-02-22T11:45:54.849Z"
   },
   {
    "duration": 176,
    "start_time": "2023-02-22T11:45:55.042Z"
   },
   {
    "duration": 184,
    "start_time": "2023-02-22T11:45:55.220Z"
   },
   {
    "duration": 434,
    "start_time": "2023-02-22T11:45:55.406Z"
   },
   {
    "duration": 369,
    "start_time": "2023-02-22T11:45:55.841Z"
   },
   {
    "duration": 359,
    "start_time": "2023-02-22T11:45:56.212Z"
   },
   {
    "duration": 563,
    "start_time": "2023-02-22T11:45:56.573Z"
   },
   {
    "duration": 482,
    "start_time": "2023-02-22T11:45:57.141Z"
   },
   {
    "duration": 17,
    "start_time": "2023-02-22T11:45:57.625Z"
   },
   {
    "duration": 1089,
    "start_time": "2023-02-22T11:45:57.644Z"
   },
   {
    "duration": 6,
    "start_time": "2023-02-22T11:45:58.734Z"
   },
   {
    "duration": 6,
    "start_time": "2023-02-22T11:45:58.742Z"
   },
   {
    "duration": 10,
    "start_time": "2023-02-22T11:45:58.749Z"
   },
   {
    "duration": 267,
    "start_time": "2023-02-22T11:45:58.761Z"
   },
   {
    "duration": 2,
    "start_time": "2023-02-22T11:45:59.030Z"
   },
   {
    "duration": 27,
    "start_time": "2023-02-22T11:45:59.039Z"
   },
   {
    "duration": 314,
    "start_time": "2023-02-22T11:45:59.067Z"
   },
   {
    "duration": 1200,
    "start_time": "2023-02-22T11:45:59.383Z"
   },
   {
    "duration": 3,
    "start_time": "2023-02-22T11:46:00.585Z"
   },
   {
    "duration": 41,
    "start_time": "2023-02-22T11:46:00.590Z"
   },
   {
    "duration": 29,
    "start_time": "2023-02-22T11:46:00.633Z"
   },
   {
    "duration": 68,
    "start_time": "2023-02-22T11:46:00.663Z"
   },
   {
    "duration": 31,
    "start_time": "2023-02-22T11:46:00.733Z"
   },
   {
    "duration": 49,
    "start_time": "2023-02-22T11:46:00.766Z"
   },
   {
    "duration": 31,
    "start_time": "2023-02-22T11:46:00.817Z"
   },
   {
    "duration": 37,
    "start_time": "2023-02-22T11:46:00.850Z"
   },
   {
    "duration": 22,
    "start_time": "2023-02-22T11:46:00.889Z"
   },
   {
    "duration": 3725,
    "start_time": "2023-02-22T11:46:00.915Z"
   },
   {
    "duration": 43050,
    "start_time": "2023-02-22T11:46:04.643Z"
   },
   {
    "duration": 4389967,
    "start_time": "2023-02-22T11:46:47.695Z"
   },
   {
    "duration": 7,
    "start_time": "2023-02-22T12:59:57.664Z"
   },
   {
    "duration": 178,
    "start_time": "2023-02-22T12:59:57.674Z"
   },
   {
    "duration": 0,
    "start_time": "2023-02-22T12:59:57.854Z"
   },
   {
    "duration": 0,
    "start_time": "2023-02-22T12:59:57.856Z"
   },
   {
    "duration": 1,
    "start_time": "2023-02-22T12:59:57.857Z"
   },
   {
    "duration": 0,
    "start_time": "2023-02-22T12:59:57.859Z"
   },
   {
    "duration": 0,
    "start_time": "2023-02-22T12:59:57.860Z"
   },
   {
    "duration": 20,
    "start_time": "2023-02-22T13:05:14.320Z"
   },
   {
    "duration": 18,
    "start_time": "2023-02-22T13:05:32.056Z"
   },
   {
    "duration": 18,
    "start_time": "2023-02-22T13:05:59.653Z"
   },
   {
    "duration": 16,
    "start_time": "2023-02-22T13:06:06.556Z"
   },
   {
    "duration": 19,
    "start_time": "2023-02-22T13:06:16.131Z"
   },
   {
    "duration": 21,
    "start_time": "2023-02-22T13:06:30.596Z"
   },
   {
    "duration": 16,
    "start_time": "2023-02-22T13:08:56.573Z"
   },
   {
    "duration": 29,
    "start_time": "2023-02-22T13:09:15.500Z"
   },
   {
    "duration": 15,
    "start_time": "2023-02-22T13:09:57.069Z"
   },
   {
    "duration": 25,
    "start_time": "2023-02-22T13:10:05.499Z"
   },
   {
    "duration": 16,
    "start_time": "2023-02-22T13:10:08.757Z"
   },
   {
    "duration": 17,
    "start_time": "2023-02-22T13:10:24.778Z"
   },
   {
    "duration": 2111,
    "start_time": "2023-02-22T13:11:10.057Z"
   },
   {
    "duration": 1863,
    "start_time": "2023-02-22T13:11:12.171Z"
   },
   {
    "duration": 130,
    "start_time": "2023-02-22T13:11:14.036Z"
   },
   {
    "duration": 10,
    "start_time": "2023-02-22T13:11:14.168Z"
   },
   {
    "duration": 13,
    "start_time": "2023-02-22T13:11:14.180Z"
   },
   {
    "duration": 5,
    "start_time": "2023-02-22T13:11:14.195Z"
   },
   {
    "duration": 17,
    "start_time": "2023-02-22T13:11:14.202Z"
   },
   {
    "duration": 6,
    "start_time": "2023-02-22T13:11:14.239Z"
   },
   {
    "duration": 26,
    "start_time": "2023-02-22T13:11:14.247Z"
   },
   {
    "duration": 20,
    "start_time": "2023-02-22T13:11:14.276Z"
   },
   {
    "duration": 29,
    "start_time": "2023-02-22T13:11:14.297Z"
   },
   {
    "duration": 18,
    "start_time": "2023-02-22T13:11:14.371Z"
   },
   {
    "duration": 14,
    "start_time": "2023-02-22T13:11:15.528Z"
   },
   {
    "duration": 185,
    "start_time": "2023-02-22T13:11:16.530Z"
   },
   {
    "duration": 163,
    "start_time": "2023-02-22T13:11:16.717Z"
   },
   {
    "duration": 204,
    "start_time": "2023-02-22T13:11:16.885Z"
   },
   {
    "duration": 425,
    "start_time": "2023-02-22T13:11:17.229Z"
   },
   {
    "duration": 363,
    "start_time": "2023-02-22T13:11:17.656Z"
   },
   {
    "duration": 354,
    "start_time": "2023-02-22T13:11:18.021Z"
   },
   {
    "duration": 553,
    "start_time": "2023-02-22T13:11:18.378Z"
   },
   {
    "duration": 480,
    "start_time": "2023-02-22T13:11:18.933Z"
   },
   {
    "duration": 7,
    "start_time": "2023-02-22T13:11:19.416Z"
   },
   {
    "duration": 1105,
    "start_time": "2023-02-22T13:11:19.424Z"
   },
   {
    "duration": 6,
    "start_time": "2023-02-22T13:11:20.834Z"
   },
   {
    "duration": 4,
    "start_time": "2023-02-22T13:11:21.014Z"
   },
   {
    "duration": 5,
    "start_time": "2023-02-22T13:11:21.224Z"
   },
   {
    "duration": 261,
    "start_time": "2023-02-22T13:11:21.397Z"
   },
   {
    "duration": 2,
    "start_time": "2023-02-22T13:11:21.729Z"
   },
   {
    "duration": 19,
    "start_time": "2023-02-22T13:11:22.250Z"
   },
   {
    "duration": 256,
    "start_time": "2023-02-22T13:11:22.429Z"
   },
   {
    "duration": 1202,
    "start_time": "2023-02-22T13:11:22.687Z"
   },
   {
    "duration": 3,
    "start_time": "2023-02-22T13:11:23.891Z"
   },
   {
    "duration": 2,
    "start_time": "2023-02-22T13:11:24.081Z"
   },
   {
    "duration": 3,
    "start_time": "2023-02-22T13:11:24.521Z"
   },
   {
    "duration": 8,
    "start_time": "2023-02-22T13:11:26.557Z"
   },
   {
    "duration": 3,
    "start_time": "2023-02-22T13:11:26.922Z"
   },
   {
    "duration": 30,
    "start_time": "2023-02-22T13:11:30.989Z"
   },
   {
    "duration": 12,
    "start_time": "2023-02-22T13:11:36.629Z"
   },
   {
    "duration": 30,
    "start_time": "2023-02-22T13:11:37.954Z"
   },
   {
    "duration": 131,
    "start_time": "2023-02-22T13:11:44.655Z"
   },
   {
    "duration": 12,
    "start_time": "2023-02-22T13:12:47.476Z"
   },
   {
    "duration": 14,
    "start_time": "2023-02-22T13:13:00.485Z"
   },
   {
    "duration": 27,
    "start_time": "2023-02-22T13:13:04.678Z"
   },
   {
    "duration": 15,
    "start_time": "2023-02-22T13:13:43.452Z"
   },
   {
    "duration": 52,
    "start_time": "2023-02-22T13:14:01.657Z"
   },
   {
    "duration": 1528,
    "start_time": "2023-02-22T13:14:10.429Z"
   },
   {
    "duration": 748,
    "start_time": "2023-02-22T13:14:11.960Z"
   },
   {
    "duration": 130,
    "start_time": "2023-02-22T13:14:12.710Z"
   },
   {
    "duration": 10,
    "start_time": "2023-02-22T13:14:12.842Z"
   },
   {
    "duration": 12,
    "start_time": "2023-02-22T13:14:12.854Z"
   },
   {
    "duration": 7,
    "start_time": "2023-02-22T13:14:12.868Z"
   },
   {
    "duration": 8,
    "start_time": "2023-02-22T13:14:13.450Z"
   },
   {
    "duration": 5,
    "start_time": "2023-02-22T13:14:13.628Z"
   },
   {
    "duration": 6,
    "start_time": "2023-02-22T13:14:13.788Z"
   },
   {
    "duration": 17,
    "start_time": "2023-02-22T13:14:14.320Z"
   },
   {
    "duration": 27,
    "start_time": "2023-02-22T13:14:14.667Z"
   },
   {
    "duration": 16,
    "start_time": "2023-02-22T13:14:15.032Z"
   },
   {
    "duration": 13,
    "start_time": "2023-02-22T13:14:16.287Z"
   },
   {
    "duration": 192,
    "start_time": "2023-02-22T13:14:17.388Z"
   },
   {
    "duration": 179,
    "start_time": "2023-02-22T13:14:17.582Z"
   },
   {
    "duration": 206,
    "start_time": "2023-02-22T13:14:17.764Z"
   },
   {
    "duration": 440,
    "start_time": "2023-02-22T13:14:18.053Z"
   },
   {
    "duration": 369,
    "start_time": "2023-02-22T13:14:18.495Z"
   },
   {
    "duration": 432,
    "start_time": "2023-02-22T13:14:18.866Z"
   },
   {
    "duration": 510,
    "start_time": "2023-02-22T13:14:19.300Z"
   },
   {
    "duration": 471,
    "start_time": "2023-02-22T13:14:19.812Z"
   },
   {
    "duration": 8,
    "start_time": "2023-02-22T13:14:20.285Z"
   },
   {
    "duration": 1226,
    "start_time": "2023-02-22T13:14:20.295Z"
   },
   {
    "duration": 5,
    "start_time": "2023-02-22T13:14:21.523Z"
   },
   {
    "duration": 5,
    "start_time": "2023-02-22T13:14:21.568Z"
   },
   {
    "duration": 5,
    "start_time": "2023-02-22T13:14:21.769Z"
   },
   {
    "duration": 246,
    "start_time": "2023-02-22T13:14:21.968Z"
   },
   {
    "duration": 2,
    "start_time": "2023-02-22T13:14:22.366Z"
   },
   {
    "duration": 20,
    "start_time": "2023-02-22T13:14:22.933Z"
   },
   {
    "duration": 262,
    "start_time": "2023-02-22T13:14:23.729Z"
   },
   {
    "duration": 1221,
    "start_time": "2023-02-22T13:14:24.069Z"
   },
   {
    "duration": 3,
    "start_time": "2023-02-22T13:14:26.188Z"
   },
   {
    "duration": 3,
    "start_time": "2023-02-22T13:14:26.430Z"
   },
   {
    "duration": 3,
    "start_time": "2023-02-22T13:14:26.838Z"
   },
   {
    "duration": 7,
    "start_time": "2023-02-22T13:14:57.752Z"
   },
   {
    "duration": 6,
    "start_time": "2023-02-22T13:15:27.630Z"
   },
   {
    "duration": 7,
    "start_time": "2023-02-22T13:16:10.445Z"
   },
   {
    "duration": 8,
    "start_time": "2023-02-22T13:16:15.730Z"
   },
   {
    "duration": 1849,
    "start_time": "2023-02-22T13:16:17.635Z"
   },
   {
    "duration": 1656,
    "start_time": "2023-02-22T13:17:24.924Z"
   },
   {
    "duration": 823,
    "start_time": "2023-02-22T13:17:27.754Z"
   },
   {
    "duration": 126,
    "start_time": "2023-02-22T13:17:28.579Z"
   },
   {
    "duration": 11,
    "start_time": "2023-02-22T13:17:28.917Z"
   },
   {
    "duration": 10,
    "start_time": "2023-02-22T13:17:29.075Z"
   },
   {
    "duration": 4,
    "start_time": "2023-02-22T13:17:29.719Z"
   },
   {
    "duration": 7,
    "start_time": "2023-02-22T13:17:30.597Z"
   },
   {
    "duration": 5,
    "start_time": "2023-02-22T13:17:30.777Z"
   },
   {
    "duration": 8,
    "start_time": "2023-02-22T13:17:30.933Z"
   },
   {
    "duration": 16,
    "start_time": "2023-02-22T13:17:31.411Z"
   },
   {
    "duration": 26,
    "start_time": "2023-02-22T13:17:31.767Z"
   },
   {
    "duration": 22,
    "start_time": "2023-02-22T13:17:32.230Z"
   },
   {
    "duration": 15,
    "start_time": "2023-02-22T13:17:33.506Z"
   },
   {
    "duration": 226,
    "start_time": "2023-02-22T13:17:34.568Z"
   },
   {
    "duration": 195,
    "start_time": "2023-02-22T13:17:34.796Z"
   },
   {
    "duration": 213,
    "start_time": "2023-02-22T13:17:34.994Z"
   },
   {
    "duration": 450,
    "start_time": "2023-02-22T13:17:35.364Z"
   },
   {
    "duration": 412,
    "start_time": "2023-02-22T13:17:35.816Z"
   },
   {
    "duration": 392,
    "start_time": "2023-02-22T13:17:36.229Z"
   },
   {
    "duration": 528,
    "start_time": "2023-02-22T13:17:36.624Z"
   },
   {
    "duration": 440,
    "start_time": "2023-02-22T13:17:37.153Z"
   },
   {
    "duration": 8,
    "start_time": "2023-02-22T13:17:37.595Z"
   },
   {
    "duration": 1074,
    "start_time": "2023-02-22T13:17:37.627Z"
   },
   {
    "duration": 6,
    "start_time": "2023-02-22T13:17:38.726Z"
   },
   {
    "duration": 5,
    "start_time": "2023-02-22T13:17:38.908Z"
   },
   {
    "duration": 6,
    "start_time": "2023-02-22T13:17:39.130Z"
   },
   {
    "duration": 278,
    "start_time": "2023-02-22T13:17:39.878Z"
   },
   {
    "duration": 3,
    "start_time": "2023-02-22T13:17:40.197Z"
   },
   {
    "duration": 27,
    "start_time": "2023-02-22T13:17:40.706Z"
   },
   {
    "duration": 275,
    "start_time": "2023-02-22T13:17:40.886Z"
   },
   {
    "duration": 1239,
    "start_time": "2023-02-22T13:17:41.269Z"
   },
   {
    "duration": 4,
    "start_time": "2023-02-22T13:17:43.257Z"
   },
   {
    "duration": 3,
    "start_time": "2023-02-22T13:17:43.428Z"
   },
   {
    "duration": 3,
    "start_time": "2023-02-22T13:17:43.859Z"
   },
   {
    "duration": 8,
    "start_time": "2023-02-22T13:17:46.328Z"
   },
   {
    "duration": 3,
    "start_time": "2023-02-22T13:17:46.672Z"
   },
   {
    "duration": 34,
    "start_time": "2023-02-22T13:17:49.329Z"
   },
   {
    "duration": 5,
    "start_time": "2023-02-22T13:17:51.077Z"
   },
   {
    "duration": 12,
    "start_time": "2023-02-22T13:17:52.916Z"
   },
   {
    "duration": 13,
    "start_time": "2023-02-22T13:17:54.869Z"
   },
   {
    "duration": 5,
    "start_time": "2023-02-22T13:17:58.935Z"
   },
   {
    "duration": 4192,
    "start_time": "2023-02-22T13:18:03.350Z"
   },
   {
    "duration": 41036,
    "start_time": "2023-02-22T13:18:07.546Z"
   },
   {
    "duration": 157,
    "start_time": "2023-02-22T13:18:49.701Z"
   },
   {
    "duration": 3041,
    "start_time": "2023-02-22T13:18:58.756Z"
   },
   {
    "duration": 12,
    "start_time": "2023-02-22T13:19:05.405Z"
   },
   {
    "duration": 17,
    "start_time": "2023-02-22T13:19:07.854Z"
   },
   {
    "duration": 1653,
    "start_time": "2023-02-22T13:20:07.933Z"
   },
   {
    "duration": 829,
    "start_time": "2023-02-22T13:20:09.588Z"
   },
   {
    "duration": 149,
    "start_time": "2023-02-22T13:20:10.419Z"
   },
   {
    "duration": 11,
    "start_time": "2023-02-22T13:20:10.570Z"
   },
   {
    "duration": 17,
    "start_time": "2023-02-22T13:20:10.583Z"
   },
   {
    "duration": 5,
    "start_time": "2023-02-22T13:20:10.601Z"
   },
   {
    "duration": 35,
    "start_time": "2023-02-22T13:20:10.608Z"
   },
   {
    "duration": 15,
    "start_time": "2023-02-22T13:20:10.645Z"
   },
   {
    "duration": 9,
    "start_time": "2023-02-22T13:20:10.662Z"
   },
   {
    "duration": 17,
    "start_time": "2023-02-22T13:20:10.672Z"
   },
   {
    "duration": 24,
    "start_time": "2023-02-22T13:20:10.691Z"
   },
   {
    "duration": 40,
    "start_time": "2023-02-22T13:20:10.717Z"
   },
   {
    "duration": 14,
    "start_time": "2023-02-22T13:20:10.760Z"
   },
   {
    "duration": 252,
    "start_time": "2023-02-22T13:20:10.778Z"
   },
   {
    "duration": 191,
    "start_time": "2023-02-22T13:20:11.032Z"
   },
   {
    "duration": 205,
    "start_time": "2023-02-22T13:20:11.225Z"
   },
   {
    "duration": 451,
    "start_time": "2023-02-22T13:20:11.432Z"
   },
   {
    "duration": 402,
    "start_time": "2023-02-22T13:20:11.885Z"
   },
   {
    "duration": 395,
    "start_time": "2023-02-22T13:20:12.289Z"
   },
   {
    "duration": 545,
    "start_time": "2023-02-22T13:20:12.686Z"
   },
   {
    "duration": 472,
    "start_time": "2023-02-22T13:20:13.233Z"
   },
   {
    "duration": 8,
    "start_time": "2023-02-22T13:20:13.707Z"
   },
   {
    "duration": 1120,
    "start_time": "2023-02-22T13:20:13.717Z"
   },
   {
    "duration": 7,
    "start_time": "2023-02-22T13:20:14.839Z"
   },
   {
    "duration": 27,
    "start_time": "2023-02-22T13:20:14.849Z"
   },
   {
    "duration": 9,
    "start_time": "2023-02-22T13:20:14.878Z"
   },
   {
    "duration": 285,
    "start_time": "2023-02-22T13:20:14.889Z"
   },
   {
    "duration": 2,
    "start_time": "2023-02-22T13:20:15.177Z"
   },
   {
    "duration": 24,
    "start_time": "2023-02-22T13:20:15.181Z"
   },
   {
    "duration": 297,
    "start_time": "2023-02-22T13:20:15.208Z"
   },
   {
    "duration": 1196,
    "start_time": "2023-02-22T13:20:15.507Z"
   },
   {
    "duration": 3,
    "start_time": "2023-02-22T13:20:16.705Z"
   },
   {
    "duration": 9,
    "start_time": "2023-02-22T13:20:16.710Z"
   },
   {
    "duration": 8,
    "start_time": "2023-02-22T13:20:16.720Z"
   },
   {
    "duration": 9,
    "start_time": "2023-02-22T13:20:16.740Z"
   },
   {
    "duration": 10,
    "start_time": "2023-02-22T13:20:16.752Z"
   },
   {
    "duration": 64,
    "start_time": "2023-02-22T13:20:16.763Z"
   },
   {
    "duration": 4,
    "start_time": "2023-02-22T13:20:16.829Z"
   },
   {
    "duration": 16,
    "start_time": "2023-02-22T13:20:16.835Z"
   },
   {
    "duration": 13,
    "start_time": "2023-02-22T13:20:16.854Z"
   },
   {
    "duration": 4,
    "start_time": "2023-02-22T13:20:16.872Z"
   },
   {
    "duration": 3262,
    "start_time": "2023-02-22T13:20:16.878Z"
   },
   {
    "duration": 40047,
    "start_time": "2023-02-22T13:20:20.145Z"
   },
   {
    "duration": 458375,
    "start_time": "2023-02-22T13:21:00.194Z"
   },
   {
    "duration": 0,
    "start_time": "2023-02-22T13:28:38.571Z"
   },
   {
    "duration": 0,
    "start_time": "2023-02-22T13:28:38.573Z"
   },
   {
    "duration": 0,
    "start_time": "2023-02-22T13:28:38.574Z"
   },
   {
    "duration": 0,
    "start_time": "2023-02-22T13:28:38.576Z"
   },
   {
    "duration": 0,
    "start_time": "2023-02-22T13:28:38.577Z"
   },
   {
    "duration": 0,
    "start_time": "2023-02-22T13:28:38.578Z"
   },
   {
    "duration": 0,
    "start_time": "2023-02-22T13:28:38.580Z"
   },
   {
    "duration": 936714,
    "start_time": "2023-02-22T13:28:40.211Z"
   },
   {
    "duration": 8,
    "start_time": "2023-02-22T13:45:30.425Z"
   },
   {
    "duration": 16,
    "start_time": "2023-02-22T13:45:41.386Z"
   },
   {
    "duration": 3,
    "start_time": "2023-02-22T13:45:50.441Z"
   },
   {
    "duration": 8,
    "start_time": "2023-02-22T13:45:52.262Z"
   },
   {
    "duration": 4,
    "start_time": "2023-02-22T13:45:54.408Z"
   },
   {
    "duration": 5,
    "start_time": "2023-02-22T13:45:56.733Z"
   },
   {
    "duration": 12,
    "start_time": "2023-02-22T13:45:57.704Z"
   },
   {
    "duration": 1652,
    "start_time": "2023-07-21T16:23:19.453Z"
   },
   {
    "duration": 3344,
    "start_time": "2023-07-21T16:23:21.107Z"
   },
   {
    "duration": 118,
    "start_time": "2023-07-21T16:23:24.453Z"
   },
   {
    "duration": 11,
    "start_time": "2023-07-21T16:23:24.573Z"
   },
   {
    "duration": 32,
    "start_time": "2023-07-21T16:23:24.585Z"
   },
   {
    "duration": 10,
    "start_time": "2023-07-21T16:23:24.619Z"
   },
   {
    "duration": 23,
    "start_time": "2023-07-21T16:23:24.631Z"
   },
   {
    "duration": 13,
    "start_time": "2023-07-21T16:23:24.656Z"
   },
   {
    "duration": 15,
    "start_time": "2023-07-21T16:23:24.671Z"
   },
   {
    "duration": 29,
    "start_time": "2023-07-21T16:23:24.689Z"
   },
   {
    "duration": 29,
    "start_time": "2023-07-21T16:23:24.720Z"
   },
   {
    "duration": 17,
    "start_time": "2023-07-21T16:23:24.751Z"
   },
   {
    "duration": 42,
    "start_time": "2023-07-21T16:23:24.770Z"
   },
   {
    "duration": 390,
    "start_time": "2023-07-21T16:23:24.813Z"
   },
   {
    "duration": 479,
    "start_time": "2023-07-21T16:23:25.208Z"
   },
   {
    "duration": 428,
    "start_time": "2023-07-21T16:23:25.689Z"
   },
   {
    "duration": 526,
    "start_time": "2023-07-21T16:23:26.119Z"
   },
   {
    "duration": 521,
    "start_time": "2023-07-21T16:23:26.646Z"
   },
   {
    "duration": 8,
    "start_time": "2023-07-21T16:23:27.168Z"
   },
   {
    "duration": 1290,
    "start_time": "2023-07-21T16:23:27.178Z"
   },
   {
    "duration": 6,
    "start_time": "2023-07-21T16:23:28.470Z"
   },
   {
    "duration": 25,
    "start_time": "2023-07-21T16:23:28.478Z"
   },
   {
    "duration": 15,
    "start_time": "2023-07-21T16:23:28.504Z"
   },
   {
    "duration": 272,
    "start_time": "2023-07-21T16:23:28.522Z"
   },
   {
    "duration": 2,
    "start_time": "2023-07-21T16:23:28.796Z"
   },
   {
    "duration": 73,
    "start_time": "2023-07-21T16:23:28.800Z"
   },
   {
    "duration": 290,
    "start_time": "2023-07-21T16:23:28.875Z"
   },
   {
    "duration": 1195,
    "start_time": "2023-07-21T16:23:29.170Z"
   },
   {
    "duration": 4,
    "start_time": "2023-07-21T16:23:30.367Z"
   },
   {
    "duration": 62,
    "start_time": "2023-07-21T16:23:30.372Z"
   },
   {
    "duration": 27,
    "start_time": "2023-07-21T16:23:30.436Z"
   },
   {
    "duration": 33,
    "start_time": "2023-07-21T16:23:30.465Z"
   },
   {
    "duration": 47,
    "start_time": "2023-07-21T16:23:30.500Z"
   },
   {
    "duration": 107,
    "start_time": "2023-07-21T16:23:30.549Z"
   },
   {
    "duration": 34,
    "start_time": "2023-07-21T16:23:30.658Z"
   },
   {
    "duration": 60,
    "start_time": "2023-07-21T16:23:30.694Z"
   },
   {
    "duration": 62,
    "start_time": "2023-07-21T16:23:30.756Z"
   },
   {
    "duration": 29,
    "start_time": "2023-07-21T16:23:30.820Z"
   },
   {
    "duration": 8975,
    "start_time": "2023-07-21T16:23:30.851Z"
   },
   {
    "duration": 39597,
    "start_time": "2023-07-21T16:23:39.828Z"
   },
   {
    "duration": 2417,
    "start_time": "2023-07-21T16:26:24.795Z"
   },
   {
    "duration": 939,
    "start_time": "2023-07-21T16:26:27.215Z"
   },
   {
    "duration": 127,
    "start_time": "2023-07-21T16:26:28.156Z"
   },
   {
    "duration": 32,
    "start_time": "2023-07-21T16:26:28.286Z"
   },
   {
    "duration": 30,
    "start_time": "2023-07-21T16:26:28.320Z"
   },
   {
    "duration": 20,
    "start_time": "2023-07-21T16:26:28.352Z"
   },
   {
    "duration": 41,
    "start_time": "2023-07-21T16:26:28.374Z"
   },
   {
    "duration": 26,
    "start_time": "2023-07-21T16:26:28.417Z"
   },
   {
    "duration": 50,
    "start_time": "2023-07-21T16:26:28.445Z"
   },
   {
    "duration": 49,
    "start_time": "2023-07-21T16:26:28.497Z"
   },
   {
    "duration": 42,
    "start_time": "2023-07-21T16:26:28.548Z"
   },
   {
    "duration": 35,
    "start_time": "2023-07-21T16:26:28.592Z"
   },
   {
    "duration": 27,
    "start_time": "2023-07-21T16:26:28.629Z"
   },
   {
    "duration": 379,
    "start_time": "2023-07-21T16:26:28.659Z"
   },
   {
    "duration": 478,
    "start_time": "2023-07-21T16:26:29.041Z"
   },
   {
    "duration": 419,
    "start_time": "2023-07-21T16:26:29.522Z"
   },
   {
    "duration": 458,
    "start_time": "2023-07-21T16:26:29.943Z"
   },
   {
    "duration": 647,
    "start_time": "2023-07-21T16:26:30.403Z"
   },
   {
    "duration": 8,
    "start_time": "2023-07-21T16:26:31.052Z"
   },
   {
    "duration": 1232,
    "start_time": "2023-07-21T16:26:31.062Z"
   },
   {
    "duration": 12,
    "start_time": "2023-07-21T16:26:32.296Z"
   },
   {
    "duration": 46,
    "start_time": "2023-07-21T16:26:32.311Z"
   },
   {
    "duration": 103,
    "start_time": "2023-07-21T16:26:32.359Z"
   },
   {
    "duration": 297,
    "start_time": "2023-07-21T16:26:32.464Z"
   },
   {
    "duration": 2,
    "start_time": "2023-07-21T16:26:32.763Z"
   },
   {
    "duration": 27,
    "start_time": "2023-07-21T16:26:32.767Z"
   },
   {
    "duration": 278,
    "start_time": "2023-07-21T16:26:32.796Z"
   },
   {
    "duration": 1088,
    "start_time": "2023-07-21T16:26:33.076Z"
   },
   {
    "duration": 4,
    "start_time": "2023-07-21T16:26:34.166Z"
   },
   {
    "duration": 13,
    "start_time": "2023-07-21T16:26:34.172Z"
   },
   {
    "duration": 18,
    "start_time": "2023-07-21T16:26:34.186Z"
   },
   {
    "duration": 11,
    "start_time": "2023-07-21T16:26:34.206Z"
   },
   {
    "duration": 11,
    "start_time": "2023-07-21T16:26:34.219Z"
   },
   {
    "duration": 29,
    "start_time": "2023-07-21T16:26:34.232Z"
   },
   {
    "duration": 4,
    "start_time": "2023-07-21T16:26:34.263Z"
   },
   {
    "duration": 15,
    "start_time": "2023-07-21T16:26:34.270Z"
   },
   {
    "duration": 30,
    "start_time": "2023-07-21T16:26:34.287Z"
   },
   {
    "duration": 6,
    "start_time": "2023-07-21T16:26:34.320Z"
   },
   {
    "duration": 5585,
    "start_time": "2023-07-21T16:26:34.328Z"
   },
   {
    "duration": 39636,
    "start_time": "2023-07-21T16:26:39.915Z"
   },
   {
    "duration": 920785,
    "start_time": "2023-07-21T16:27:19.554Z"
   },
   {
    "duration": 10,
    "start_time": "2023-07-21T16:42:40.341Z"
   },
   {
    "duration": 48,
    "start_time": "2023-07-21T16:42:40.354Z"
   },
   {
    "duration": 39,
    "start_time": "2023-07-21T16:42:40.405Z"
   },
   {
    "duration": 172,
    "start_time": "2023-07-21T16:42:40.447Z"
   },
   {
    "duration": 45,
    "start_time": "2023-07-21T16:42:40.622Z"
   },
   {
    "duration": 19,
    "start_time": "2023-07-21T16:42:40.669Z"
   },
   {
    "duration": 23,
    "start_time": "2023-07-21T16:42:40.690Z"
   }
  ],
  "kernelspec": {
   "display_name": "Python 3 (ipykernel)",
   "language": "python",
   "name": "python3"
  },
  "language_info": {
   "codemirror_mode": {
    "name": "ipython",
    "version": 3
   },
   "file_extension": ".py",
   "mimetype": "text/x-python",
   "name": "python",
   "nbconvert_exporter": "python",
   "pygments_lexer": "ipython3",
   "version": "3.9.13"
  },
  "toc": {
   "base_numbering": 1,
   "nav_menu": {},
   "number_sections": true,
   "sideBar": true,
   "skip_h1_title": true,
   "title_cell": "Содержание",
   "title_sidebar": "Contents",
   "toc_cell": true,
   "toc_position": {},
   "toc_section_display": true,
   "toc_window_display": true
  }
 },
 "nbformat": 4,
 "nbformat_minor": 2
}
