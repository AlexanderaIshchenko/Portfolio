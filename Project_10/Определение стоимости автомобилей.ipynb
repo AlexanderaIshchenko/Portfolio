{
 "cells": [
  {
   "cell_type": "markdown",
   "id": "5789e9f5",
   "metadata": {},
   "source": [
    "# Определение стоимости автомобилей"
   ]
  },
  {
   "cell_type": "markdown",
   "id": "5a3115ba",
   "metadata": {},
   "source": [
    "Сервис по продаже автомобилей с пробегом «Не бит, не крашен» разрабатывает приложение для привлечения новых клиентов. В нём можно быстро узнать рыночную стоимость своего автомобиля. В вашем распоряжении исторические данные: технические характеристики, комплектации и цены автомобилей. Вам нужно построить модель для определения стоимости. \n",
    "\n",
    "Заказчику важны:\n",
    "\n",
    "- качество предсказания;\n",
    "- скорость предсказания;\n",
    "- время обучения."
   ]
  },
  {
   "cell_type": "markdown",
   "id": "12912e40",
   "metadata": {},
   "source": [
    "# Оглавление<a name=\"Оглавление\"></a>"
   ]
  },
  {
   "cell_type": "markdown",
   "id": "614bb780",
   "metadata": {},
   "source": [
    "- 1. [Подготовка данных](#Подготовка_данных)\n",
    "  - 1.1. [Вывод по предобработке данных](#Вывод_предобработке)\n",
    "- 2. [Обучение моделей](#Обучение_моделей)\n",
    "  - 2.1 [Kодирование](#кодирование)\n",
    "    - 2.1.1. [Прямое кодирование](#Прямое_кодирование)\n",
    "    - 2.1.2. [OHE кодирование](#OHE)\n",
    "  - 2.2. [LinearRegression](#LinearRegression_)\n",
    "  - 2.3. [DecisionTreeRegressor](#DecisionTreeRegressor_)\n",
    "  - 2.4. [CatBoostRegressor](#CatBoostRegressor_)\n",
    "  - 2.5. [LGBMRegressor](#LGBMRegressor_)\n",
    "  - 2.6. [Вывод по обучению моделей](#Вывод_моделей)\n",
    "- 3. [Анализ моделей](#Анализ_моделей)\n",
    "  - 3.1. [LinearRegression](#LinearRegression)\n",
    "  - 3.2. [DecisionTreeRegressor](#DecisionTreeRegressor)\n",
    "  - 3.3. [CatBoostRegressor](#CatBoostRegressor)\n",
    "  - 3.4. [LGBMRegressor](#LGBMRegressor)\n",
    "  - 3.5. [Вывод по моделям](#Вывод_моделям)\n",
    "- 4. [Финальное тестирование лучшей модели](#Финальное)\n",
    "- 5. [Итоговый вывод](#Итоговый_вывод)"
   ]
  },
  {
   "cell_type": "markdown",
   "id": "46eda6f5",
   "metadata": {},
   "source": [
    "## 1. Подготовка данных<a name=\"Подготовка_данных\"></a>"
   ]
  },
  {
   "cell_type": "code",
   "execution_count": 1,
   "id": "48fef809",
   "metadata": {},
   "outputs": [],
   "source": [
    "import numpy as np\n",
    "import pandas as pd\n",
    "\n",
    "from sklearn.metrics import mean_squared_error\n",
    "from sklearn.preprocessing import OrdinalEncoder\n",
    "from sklearn.model_selection import train_test_split\n",
    "from sklearn.preprocessing import StandardScaler\n",
    "from sklearn.pipeline import Pipeline\n",
    "from sklearn.model_selection import cross_val_score\n",
    "\n",
    "from catboost import CatBoostRegressor\n",
    "from sklearn.model_selection import GridSearchCV\n",
    "from sklearn.linear_model import LinearRegression\n",
    "from sklearn.tree import DecisionTreeRegressor\n",
    "from lightgbm import LGBMRegressor\n",
    "from catboost import Pool, CatBoostRegressor, cv"
   ]
  },
  {
   "cell_type": "code",
   "execution_count": 2,
   "id": "2cfe15cc",
   "metadata": {},
   "outputs": [],
   "source": [
    "import sys\n",
    "if not sys.warnoptions:\n",
    "    import warnings\n",
    "    warnings.simplefilter(\"ignore\")"
   ]
  },
  {
   "cell_type": "code",
   "execution_count": 3,
   "id": "402a4694",
   "metadata": {},
   "outputs": [],
   "source": [
    "try:\n",
    "    df = pd.read_csv('/datasets/autos.csv')\n",
    "except:\n",
    "    df = pd.read_csv('./datasets/autos.csv')"
   ]
  },
  {
   "cell_type": "code",
   "execution_count": 4,
   "id": "fa07428d",
   "metadata": {},
   "outputs": [
    {
     "data": {
      "text/html": [
       "<div>\n",
       "<style scoped>\n",
       "    .dataframe tbody tr th:only-of-type {\n",
       "        vertical-align: middle;\n",
       "    }\n",
       "\n",
       "    .dataframe tbody tr th {\n",
       "        vertical-align: top;\n",
       "    }\n",
       "\n",
       "    .dataframe thead th {\n",
       "        text-align: right;\n",
       "    }\n",
       "</style>\n",
       "<table border=\"1\" class=\"dataframe\">\n",
       "  <thead>\n",
       "    <tr style=\"text-align: right;\">\n",
       "      <th></th>\n",
       "      <th>DateCrawled</th>\n",
       "      <th>Price</th>\n",
       "      <th>VehicleType</th>\n",
       "      <th>RegistrationYear</th>\n",
       "      <th>Gearbox</th>\n",
       "      <th>Power</th>\n",
       "      <th>Model</th>\n",
       "      <th>Kilometer</th>\n",
       "      <th>RegistrationMonth</th>\n",
       "      <th>FuelType</th>\n",
       "      <th>Brand</th>\n",
       "      <th>Repaired</th>\n",
       "      <th>DateCreated</th>\n",
       "      <th>NumberOfPictures</th>\n",
       "      <th>PostalCode</th>\n",
       "      <th>LastSeen</th>\n",
       "    </tr>\n",
       "  </thead>\n",
       "  <tbody>\n",
       "    <tr>\n",
       "      <th>0</th>\n",
       "      <td>2016-03-24 11:52:17</td>\n",
       "      <td>480</td>\n",
       "      <td>NaN</td>\n",
       "      <td>1993</td>\n",
       "      <td>manual</td>\n",
       "      <td>0</td>\n",
       "      <td>golf</td>\n",
       "      <td>150000</td>\n",
       "      <td>0</td>\n",
       "      <td>petrol</td>\n",
       "      <td>volkswagen</td>\n",
       "      <td>NaN</td>\n",
       "      <td>2016-03-24 00:00:00</td>\n",
       "      <td>0</td>\n",
       "      <td>70435</td>\n",
       "      <td>2016-04-07 03:16:57</td>\n",
       "    </tr>\n",
       "    <tr>\n",
       "      <th>1</th>\n",
       "      <td>2016-03-24 10:58:45</td>\n",
       "      <td>18300</td>\n",
       "      <td>coupe</td>\n",
       "      <td>2011</td>\n",
       "      <td>manual</td>\n",
       "      <td>190</td>\n",
       "      <td>NaN</td>\n",
       "      <td>125000</td>\n",
       "      <td>5</td>\n",
       "      <td>gasoline</td>\n",
       "      <td>audi</td>\n",
       "      <td>yes</td>\n",
       "      <td>2016-03-24 00:00:00</td>\n",
       "      <td>0</td>\n",
       "      <td>66954</td>\n",
       "      <td>2016-04-07 01:46:50</td>\n",
       "    </tr>\n",
       "    <tr>\n",
       "      <th>2</th>\n",
       "      <td>2016-03-14 12:52:21</td>\n",
       "      <td>9800</td>\n",
       "      <td>suv</td>\n",
       "      <td>2004</td>\n",
       "      <td>auto</td>\n",
       "      <td>163</td>\n",
       "      <td>grand</td>\n",
       "      <td>125000</td>\n",
       "      <td>8</td>\n",
       "      <td>gasoline</td>\n",
       "      <td>jeep</td>\n",
       "      <td>NaN</td>\n",
       "      <td>2016-03-14 00:00:00</td>\n",
       "      <td>0</td>\n",
       "      <td>90480</td>\n",
       "      <td>2016-04-05 12:47:46</td>\n",
       "    </tr>\n",
       "    <tr>\n",
       "      <th>3</th>\n",
       "      <td>2016-03-17 16:54:04</td>\n",
       "      <td>1500</td>\n",
       "      <td>small</td>\n",
       "      <td>2001</td>\n",
       "      <td>manual</td>\n",
       "      <td>75</td>\n",
       "      <td>golf</td>\n",
       "      <td>150000</td>\n",
       "      <td>6</td>\n",
       "      <td>petrol</td>\n",
       "      <td>volkswagen</td>\n",
       "      <td>no</td>\n",
       "      <td>2016-03-17 00:00:00</td>\n",
       "      <td>0</td>\n",
       "      <td>91074</td>\n",
       "      <td>2016-03-17 17:40:17</td>\n",
       "    </tr>\n",
       "    <tr>\n",
       "      <th>4</th>\n",
       "      <td>2016-03-31 17:25:20</td>\n",
       "      <td>3600</td>\n",
       "      <td>small</td>\n",
       "      <td>2008</td>\n",
       "      <td>manual</td>\n",
       "      <td>69</td>\n",
       "      <td>fabia</td>\n",
       "      <td>90000</td>\n",
       "      <td>7</td>\n",
       "      <td>gasoline</td>\n",
       "      <td>skoda</td>\n",
       "      <td>no</td>\n",
       "      <td>2016-03-31 00:00:00</td>\n",
       "      <td>0</td>\n",
       "      <td>60437</td>\n",
       "      <td>2016-04-06 10:17:21</td>\n",
       "    </tr>\n",
       "  </tbody>\n",
       "</table>\n",
       "</div>"
      ],
      "text/plain": [
       "           DateCrawled  Price VehicleType  RegistrationYear Gearbox  Power  \\\n",
       "0  2016-03-24 11:52:17    480         NaN              1993  manual      0   \n",
       "1  2016-03-24 10:58:45  18300       coupe              2011  manual    190   \n",
       "2  2016-03-14 12:52:21   9800         suv              2004    auto    163   \n",
       "3  2016-03-17 16:54:04   1500       small              2001  manual     75   \n",
       "4  2016-03-31 17:25:20   3600       small              2008  manual     69   \n",
       "\n",
       "   Model  Kilometer  RegistrationMonth  FuelType       Brand Repaired  \\\n",
       "0   golf     150000                  0    petrol  volkswagen      NaN   \n",
       "1    NaN     125000                  5  gasoline        audi      yes   \n",
       "2  grand     125000                  8  gasoline        jeep      NaN   \n",
       "3   golf     150000                  6    petrol  volkswagen       no   \n",
       "4  fabia      90000                  7  gasoline       skoda       no   \n",
       "\n",
       "           DateCreated  NumberOfPictures  PostalCode             LastSeen  \n",
       "0  2016-03-24 00:00:00                 0       70435  2016-04-07 03:16:57  \n",
       "1  2016-03-24 00:00:00                 0       66954  2016-04-07 01:46:50  \n",
       "2  2016-03-14 00:00:00                 0       90480  2016-04-05 12:47:46  \n",
       "3  2016-03-17 00:00:00                 0       91074  2016-03-17 17:40:17  \n",
       "4  2016-03-31 00:00:00                 0       60437  2016-04-06 10:17:21  "
      ]
     },
     "execution_count": 4,
     "metadata": {},
     "output_type": "execute_result"
    }
   ],
   "source": [
    "df.head()"
   ]
  },
  {
   "cell_type": "code",
   "execution_count": 5,
   "id": "2e8006c6",
   "metadata": {},
   "outputs": [
    {
     "name": "stdout",
     "output_type": "stream",
     "text": [
      "<class 'pandas.core.frame.DataFrame'>\n",
      "RangeIndex: 354369 entries, 0 to 354368\n",
      "Data columns (total 16 columns):\n",
      " #   Column             Non-Null Count   Dtype \n",
      "---  ------             --------------   ----- \n",
      " 0   DateCrawled        354369 non-null  object\n",
      " 1   Price              354369 non-null  int64 \n",
      " 2   VehicleType        316879 non-null  object\n",
      " 3   RegistrationYear   354369 non-null  int64 \n",
      " 4   Gearbox            334536 non-null  object\n",
      " 5   Power              354369 non-null  int64 \n",
      " 6   Model              334664 non-null  object\n",
      " 7   Kilometer          354369 non-null  int64 \n",
      " 8   RegistrationMonth  354369 non-null  int64 \n",
      " 9   FuelType           321474 non-null  object\n",
      " 10  Brand              354369 non-null  object\n",
      " 11  Repaired           283215 non-null  object\n",
      " 12  DateCreated        354369 non-null  object\n",
      " 13  NumberOfPictures   354369 non-null  int64 \n",
      " 14  PostalCode         354369 non-null  int64 \n",
      " 15  LastSeen           354369 non-null  object\n",
      "dtypes: int64(7), object(9)\n",
      "memory usage: 43.3+ MB\n"
     ]
    }
   ],
   "source": [
    "df.info()"
   ]
  },
  {
   "cell_type": "code",
   "execution_count": 6,
   "id": "b03a3bea",
   "metadata": {},
   "outputs": [
    {
     "data": {
      "text/html": [
       "<div>\n",
       "<style scoped>\n",
       "    .dataframe tbody tr th:only-of-type {\n",
       "        vertical-align: middle;\n",
       "    }\n",
       "\n",
       "    .dataframe tbody tr th {\n",
       "        vertical-align: top;\n",
       "    }\n",
       "\n",
       "    .dataframe thead th {\n",
       "        text-align: right;\n",
       "    }\n",
       "</style>\n",
       "<table border=\"1\" class=\"dataframe\">\n",
       "  <thead>\n",
       "    <tr style=\"text-align: right;\">\n",
       "      <th></th>\n",
       "      <th>Price</th>\n",
       "      <th>RegistrationYear</th>\n",
       "      <th>Power</th>\n",
       "      <th>Kilometer</th>\n",
       "      <th>RegistrationMonth</th>\n",
       "      <th>NumberOfPictures</th>\n",
       "      <th>PostalCode</th>\n",
       "    </tr>\n",
       "  </thead>\n",
       "  <tbody>\n",
       "    <tr>\n",
       "      <th>count</th>\n",
       "      <td>354369.000000</td>\n",
       "      <td>354369.000000</td>\n",
       "      <td>354369.000000</td>\n",
       "      <td>354369.000000</td>\n",
       "      <td>354369.000000</td>\n",
       "      <td>354369.0</td>\n",
       "      <td>354369.000000</td>\n",
       "    </tr>\n",
       "    <tr>\n",
       "      <th>mean</th>\n",
       "      <td>4416.656776</td>\n",
       "      <td>2004.234448</td>\n",
       "      <td>110.094337</td>\n",
       "      <td>128211.172535</td>\n",
       "      <td>5.714645</td>\n",
       "      <td>0.0</td>\n",
       "      <td>50508.689087</td>\n",
       "    </tr>\n",
       "    <tr>\n",
       "      <th>std</th>\n",
       "      <td>4514.158514</td>\n",
       "      <td>90.227958</td>\n",
       "      <td>189.850405</td>\n",
       "      <td>37905.341530</td>\n",
       "      <td>3.726421</td>\n",
       "      <td>0.0</td>\n",
       "      <td>25783.096248</td>\n",
       "    </tr>\n",
       "    <tr>\n",
       "      <th>min</th>\n",
       "      <td>0.000000</td>\n",
       "      <td>1000.000000</td>\n",
       "      <td>0.000000</td>\n",
       "      <td>5000.000000</td>\n",
       "      <td>0.000000</td>\n",
       "      <td>0.0</td>\n",
       "      <td>1067.000000</td>\n",
       "    </tr>\n",
       "    <tr>\n",
       "      <th>25%</th>\n",
       "      <td>1050.000000</td>\n",
       "      <td>1999.000000</td>\n",
       "      <td>69.000000</td>\n",
       "      <td>125000.000000</td>\n",
       "      <td>3.000000</td>\n",
       "      <td>0.0</td>\n",
       "      <td>30165.000000</td>\n",
       "    </tr>\n",
       "    <tr>\n",
       "      <th>50%</th>\n",
       "      <td>2700.000000</td>\n",
       "      <td>2003.000000</td>\n",
       "      <td>105.000000</td>\n",
       "      <td>150000.000000</td>\n",
       "      <td>6.000000</td>\n",
       "      <td>0.0</td>\n",
       "      <td>49413.000000</td>\n",
       "    </tr>\n",
       "    <tr>\n",
       "      <th>75%</th>\n",
       "      <td>6400.000000</td>\n",
       "      <td>2008.000000</td>\n",
       "      <td>143.000000</td>\n",
       "      <td>150000.000000</td>\n",
       "      <td>9.000000</td>\n",
       "      <td>0.0</td>\n",
       "      <td>71083.000000</td>\n",
       "    </tr>\n",
       "    <tr>\n",
       "      <th>max</th>\n",
       "      <td>20000.000000</td>\n",
       "      <td>9999.000000</td>\n",
       "      <td>20000.000000</td>\n",
       "      <td>150000.000000</td>\n",
       "      <td>12.000000</td>\n",
       "      <td>0.0</td>\n",
       "      <td>99998.000000</td>\n",
       "    </tr>\n",
       "  </tbody>\n",
       "</table>\n",
       "</div>"
      ],
      "text/plain": [
       "               Price  RegistrationYear          Power      Kilometer  \\\n",
       "count  354369.000000     354369.000000  354369.000000  354369.000000   \n",
       "mean     4416.656776       2004.234448     110.094337  128211.172535   \n",
       "std      4514.158514         90.227958     189.850405   37905.341530   \n",
       "min         0.000000       1000.000000       0.000000    5000.000000   \n",
       "25%      1050.000000       1999.000000      69.000000  125000.000000   \n",
       "50%      2700.000000       2003.000000     105.000000  150000.000000   \n",
       "75%      6400.000000       2008.000000     143.000000  150000.000000   \n",
       "max     20000.000000       9999.000000   20000.000000  150000.000000   \n",
       "\n",
       "       RegistrationMonth  NumberOfPictures     PostalCode  \n",
       "count      354369.000000          354369.0  354369.000000  \n",
       "mean            5.714645               0.0   50508.689087  \n",
       "std             3.726421               0.0   25783.096248  \n",
       "min             0.000000               0.0    1067.000000  \n",
       "25%             3.000000               0.0   30165.000000  \n",
       "50%             6.000000               0.0   49413.000000  \n",
       "75%             9.000000               0.0   71083.000000  \n",
       "max            12.000000               0.0   99998.000000  "
      ]
     },
     "execution_count": 6,
     "metadata": {},
     "output_type": "execute_result"
    }
   ],
   "source": [
    "df.describe()"
   ]
  },
  {
   "cell_type": "markdown",
   "id": "ef9dc0c8",
   "metadata": {},
   "source": [
    "Для начала удалим явные дубликаты"
   ]
  },
  {
   "cell_type": "code",
   "execution_count": 7,
   "id": "fe2c4305",
   "metadata": {},
   "outputs": [],
   "source": [
    "df = df.drop_duplicates()"
   ]
  },
  {
   "cell_type": "code",
   "execution_count": 8,
   "id": "c352c9d7",
   "metadata": {},
   "outputs": [
    {
     "data": {
      "text/plain": [
       "DateCrawled          0.000000\n",
       "Price                0.000000\n",
       "VehicleType          0.105795\n",
       "RegistrationYear     0.000000\n",
       "Gearbox              0.055968\n",
       "Power                0.000000\n",
       "Model                0.055607\n",
       "Kilometer            0.000000\n",
       "RegistrationMonth    0.000000\n",
       "FuelType             0.092828\n",
       "Brand                0.000000\n",
       "Repaired             0.200793\n",
       "DateCreated          0.000000\n",
       "NumberOfPictures     0.000000\n",
       "PostalCode           0.000000\n",
       "LastSeen             0.000000\n",
       "dtype: float64"
      ]
     },
     "execution_count": 8,
     "metadata": {},
     "output_type": "execute_result"
    }
   ],
   "source": [
    "df.isna().mean()"
   ]
  },
  {
   "cell_type": "markdown",
   "id": "9759d59a",
   "metadata": {},
   "source": [
    "Пустые значения заменим на unknowhn"
   ]
  },
  {
   "cell_type": "code",
   "execution_count": 9,
   "id": "a90a504c",
   "metadata": {},
   "outputs": [],
   "source": [
    "df['VehicleType'] = df['VehicleType'].fillna('Unknown')\n",
    "df['Gearbox'] = df['Gearbox'].fillna('Unknown')\n",
    "df['Model'] = df['Model'].fillna('Unknown')"
   ]
  },
  {
   "cell_type": "markdown",
   "id": "decac704",
   "metadata": {},
   "source": [
    "В столбце Repaired будем считаь если знаение NaN то в ремонте машина не была, поэтому пустым значениям установим значение 'yes'."
   ]
  },
  {
   "cell_type": "code",
   "execution_count": 10,
   "id": "b7f089d7",
   "metadata": {},
   "outputs": [],
   "source": [
    "df['Repaired'] = df['Repaired'].fillna('no')"
   ]
  },
  {
   "cell_type": "code",
   "execution_count": 11,
   "id": "4b55b96c",
   "metadata": {},
   "outputs": [
    {
     "data": {
      "text/plain": [
       "array(['no', 'yes'], dtype=object)"
      ]
     },
     "execution_count": 11,
     "metadata": {},
     "output_type": "execute_result"
    }
   ],
   "source": [
    "df['Repaired'] .unique()"
   ]
  },
  {
   "cell_type": "markdown",
   "id": "e7fe76ed",
   "metadata": {},
   "source": [
    "Oтбросим лишние столбцы"
   ]
  },
  {
   "cell_type": "code",
   "execution_count": 12,
   "id": "80ff2f4c",
   "metadata": {},
   "outputs": [],
   "source": [
    "df.drop(['DateCrawled', 'DateCreated', 'LastSeen', 'PostalCode', 'NumberOfPictures'],\n",
    "          axis=1, inplace=True)"
   ]
  },
  {
   "cell_type": "markdown",
   "id": "234cc563",
   "metadata": {},
   "source": [
    "Не бывает машин с нулевой мощностью, удалим их "
   ]
  },
  {
   "cell_type": "code",
   "execution_count": 13,
   "id": "7dcab74e",
   "metadata": {},
   "outputs": [],
   "source": [
    "df = df.drop(df[df['Power'] == 0].index)"
   ]
  },
  {
   "cell_type": "code",
   "execution_count": 14,
   "id": "1bee64de",
   "metadata": {},
   "outputs": [
    {
     "name": "stdout",
     "output_type": "stream",
     "text": [
      "<class 'pandas.core.frame.DataFrame'>\n",
      "Int64Index: 314140 entries, 1 to 354368\n",
      "Data columns (total 11 columns):\n",
      " #   Column             Non-Null Count   Dtype \n",
      "---  ------             --------------   ----- \n",
      " 0   Price              314140 non-null  int64 \n",
      " 1   VehicleType        314140 non-null  object\n",
      " 2   RegistrationYear   314140 non-null  int64 \n",
      " 3   Gearbox            314140 non-null  object\n",
      " 4   Power              314140 non-null  int64 \n",
      " 5   Model              314140 non-null  object\n",
      " 6   Kilometer          314140 non-null  int64 \n",
      " 7   RegistrationMonth  314140 non-null  int64 \n",
      " 8   FuelType           292906 non-null  object\n",
      " 9   Brand              314140 non-null  object\n",
      " 10  Repaired           314140 non-null  object\n",
      "dtypes: int64(5), object(6)\n",
      "memory usage: 28.8+ MB\n"
     ]
    }
   ],
   "source": [
    "df.info()"
   ]
  },
  {
   "cell_type": "markdown",
   "id": "f43e34ea",
   "metadata": {},
   "source": [
    "Проверим наполнение целевого признака Price."
   ]
  },
  {
   "cell_type": "code",
   "execution_count": 15,
   "id": "146019e4",
   "metadata": {},
   "outputs": [
    {
     "data": {
      "text/plain": [
       "0        6907\n",
       "1500     4652\n",
       "500      4606\n",
       "1200     3934\n",
       "2500     3849\n",
       "         ... \n",
       "11080       1\n",
       "16340       1\n",
       "873         1\n",
       "9530        1\n",
       "10985       1\n",
       "Name: Price, Length: 3623, dtype: int64"
      ]
     },
     "execution_count": 15,
     "metadata": {},
     "output_type": "execute_result"
    }
   ],
   "source": [
    "df['Price'].value_counts()"
   ]
  },
  {
   "cell_type": "markdown",
   "id": "818b509e",
   "metadata": {},
   "source": [
    "Видно, что существует 6907 записи без цены. Удалим их и проверим распределение цены на гистограмме."
   ]
  },
  {
   "cell_type": "code",
   "execution_count": 16,
   "id": "f64eba3b",
   "metadata": {},
   "outputs": [
    {
     "data": {
      "text/plain": [
       "count    307233.000000\n",
       "mean       4809.878809\n",
       "std        4586.543041\n",
       "min           1.000000\n",
       "25%        1300.000000\n",
       "50%        3100.000000\n",
       "75%        6950.000000\n",
       "max       20000.000000\n",
       "Name: Price, dtype: float64"
      ]
     },
     "execution_count": 16,
     "metadata": {},
     "output_type": "execute_result"
    },
    {
     "data": {
      "image/png": "[encoded data removed]",
      "text/plain": [
       "<Figure size 1200x700 with 1 Axes>"
      ]
     },
     "metadata": {},
     "output_type": "display_data"
    }
   ],
   "source": [
    "df = df.query('Price > 0')\n",
    "df['Price'].hist(bins=100, figsize=(12,7))\n",
    "df['Price'].describe()"
   ]
  },
  {
   "cell_type": "markdown",
   "id": "15025363",
   "metadata": {},
   "source": [
    "Выделим квантили 5% и 80%."
   ]
  },
  {
   "cell_type": "code",
   "execution_count": 17,
   "id": "60ec8368",
   "metadata": {},
   "outputs": [
    {
     "data": {
      "text/plain": [
       "0.05     450.0\n",
       "0.80    8100.0\n",
       "Name: Price, dtype: float64"
      ]
     },
     "execution_count": 17,
     "metadata": {},
     "output_type": "execute_result"
    }
   ],
   "source": [
    "df['Price'].quantile([.05, 0.8])"
   ]
  },
  {
   "cell_type": "markdown",
   "id": "13110d0a",
   "metadata": {},
   "source": [
    "Стоимость 450 евро примерно равно 37000 рублей. Это минимальная цена для продажи поддержанного авто. Выбор 80% квантиля обоснован болльшими выбросами после 8100 евро."
   ]
  },
  {
   "cell_type": "code",
   "execution_count": 18,
   "id": "c89e54ba",
   "metadata": {},
   "outputs": [
    {
     "name": "stdout",
     "output_type": "stream",
     "text": [
      "<class 'pandas.core.frame.DataFrame'>\n",
      "Int64Index: 292113 entries, 1 to 354368\n",
      "Data columns (total 11 columns):\n",
      " #   Column             Non-Null Count   Dtype \n",
      "---  ------             --------------   ----- \n",
      " 0   Price              292113 non-null  int64 \n",
      " 1   VehicleType        292113 non-null  object\n",
      " 2   RegistrationYear   292113 non-null  int64 \n",
      " 3   Gearbox            292113 non-null  object\n",
      " 4   Power              292113 non-null  int64 \n",
      " 5   Model              292113 non-null  object\n",
      " 6   Kilometer          292113 non-null  int64 \n",
      " 7   RegistrationMonth  292113 non-null  int64 \n",
      " 8   FuelType           274944 non-null  object\n",
      " 9   Brand              292113 non-null  object\n",
      " 10  Repaired           292113 non-null  object\n",
      "dtypes: int64(5), object(6)\n",
      "memory usage: 26.7+ MB\n"
     ]
    }
   ],
   "source": [
    "df = df.query('450 <= Price')\n",
    "df.info()"
   ]
  },
  {
   "cell_type": "markdown",
   "id": "f422b87f",
   "metadata": {},
   "source": [
    "Проверим значения столбца RegistrationYear на гистограмме."
   ]
  },
  {
   "cell_type": "code",
   "execution_count": 19,
   "id": "c7b5082b",
   "metadata": {},
   "outputs": [
    {
     "data": {
      "text/plain": [
       "count    290598.000000\n",
       "mean       2003.705125\n",
       "std           6.373601\n",
       "min        1976.000000\n",
       "25%        2000.000000\n",
       "50%        2004.000000\n",
       "75%        2008.000000\n",
       "max        2019.000000\n",
       "Name: RegistrationYear, dtype: float64"
      ]
     },
     "execution_count": 19,
     "metadata": {},
     "output_type": "execute_result"
    },
    {
     "data": {
      "image/png": "[encoded data removed]",
      "text/plain": [
       "<Figure size 1200x700 with 1 Axes>"
      ]
     },
     "metadata": {},
     "output_type": "display_data"
    }
   ],
   "source": [
    "df = df.query('1975 < RegistrationYear < 2020')\n",
    "df['RegistrationYear'].hist(bins=100, figsize=(12,7))\n",
    "df['RegistrationYear'].describe()"
   ]
  },
  {
   "cell_type": "markdown",
   "id": "49695972",
   "metadata": {},
   "source": [
    "Удалим автомобили с годом производства менее 1986 и более 2020"
   ]
  },
  {
   "cell_type": "code",
   "execution_count": 20,
   "id": "a8119d84",
   "metadata": {},
   "outputs": [],
   "source": [
    "df = df.loc[df['RegistrationYear'] < 2020]\n",
    "df = df.loc[df['RegistrationYear'] > 1975]"
   ]
  },
  {
   "cell_type": "markdown",
   "id": "00d6ea56",
   "metadata": {},
   "source": [
    "Проверим значения столбца Power на гистограмме."
   ]
  },
  {
   "cell_type": "code",
   "execution_count": 21,
   "id": "2f32f8a1",
   "metadata": {},
   "outputs": [
    {
     "data": {
      "text/plain": [
       "count    290598.000000\n",
       "mean        126.048483\n",
       "std         191.979332\n",
       "min           1.000000\n",
       "25%          80.000000\n",
       "50%         115.000000\n",
       "75%         150.000000\n",
       "max       20000.000000\n",
       "Name: Power, dtype: float64"
      ]
     },
     "execution_count": 21,
     "metadata": {},
     "output_type": "execute_result"
    },
    {
     "data": {
      "image/png": "[encoded data removed]",
      "text/plain": [
       "<Figure size 1500x600 with 1 Axes>"
      ]
     },
     "metadata": {},
     "output_type": "display_data"
    }
   ],
   "source": [
    "df['Power'].hist(bins=100, figsize=(15,6))\n",
    "df['Power'].describe()"
   ]
  },
  {
   "cell_type": "markdown",
   "id": "2a786af6",
   "metadata": {},
   "source": [
    "Раброс очень сильный, усечем выбросы"
   ]
  },
  {
   "cell_type": "code",
   "execution_count": 22,
   "id": "69c93403",
   "metadata": {},
   "outputs": [
    {
     "data": {
      "text/plain": [
       "0.05     57.0\n",
       "0.80    163.0\n",
       "Name: Power, dtype: float64"
      ]
     },
     "execution_count": 22,
     "metadata": {},
     "output_type": "execute_result"
    }
   ],
   "source": [
    "df['Power'].quantile([.05, 0.8])"
   ]
  },
  {
   "cell_type": "code",
   "execution_count": 23,
   "id": "1970208a",
   "metadata": {},
   "outputs": [
    {
     "name": "stdout",
     "output_type": "stream",
     "text": [
      "<class 'pandas.core.frame.DataFrame'>\n",
      "Int64Index: 282543 entries, 1 to 354368\n",
      "Data columns (total 11 columns):\n",
      " #   Column             Non-Null Count   Dtype \n",
      "---  ------             --------------   ----- \n",
      " 0   Price              282543 non-null  int64 \n",
      " 1   VehicleType        282543 non-null  object\n",
      " 2   RegistrationYear   282543 non-null  int64 \n",
      " 3   Gearbox            282543 non-null  object\n",
      " 4   Power              282543 non-null  int64 \n",
      " 5   Model              282543 non-null  object\n",
      " 6   Kilometer          282543 non-null  int64 \n",
      " 7   RegistrationMonth  282543 non-null  int64 \n",
      " 8   FuelType           266278 non-null  object\n",
      " 9   Brand              282543 non-null  object\n",
      " 10  Repaired           282543 non-null  object\n",
      "dtypes: int64(5), object(6)\n",
      "memory usage: 25.9+ MB\n"
     ]
    }
   ],
   "source": [
    "df = df.query('54 <= Power')\n",
    "df.info()"
   ]
  },
  {
   "cell_type": "code",
   "execution_count": 24,
   "id": "f7e7f2e8",
   "metadata": {},
   "outputs": [
    {
     "data": {
      "text/plain": [
       "Price                    0\n",
       "VehicleType              0\n",
       "RegistrationYear         0\n",
       "Gearbox                  0\n",
       "Power                    0\n",
       "Model                    0\n",
       "Kilometer                0\n",
       "RegistrationMonth        0\n",
       "FuelType             16265\n",
       "Brand                    0\n",
       "Repaired                 0\n",
       "dtype: int64"
      ]
     },
     "execution_count": 24,
     "metadata": {},
     "output_type": "execute_result"
    }
   ],
   "source": [
    "df.isna().sum()"
   ]
  },
  {
   "cell_type": "markdown",
   "id": "ef9fe7e0",
   "metadata": {},
   "source": [
    "Заполнение пропущенных значений категориальных признаков заглушкой unknown"
   ]
  },
  {
   "cell_type": "code",
   "execution_count": 25,
   "id": "f403905d",
   "metadata": {},
   "outputs": [],
   "source": [
    "df = df.fillna('Unknown')"
   ]
  },
  {
   "cell_type": "code",
   "execution_count": 26,
   "id": "ab890ac3",
   "metadata": {},
   "outputs": [
    {
     "data": {
      "text/plain": [
       "Price                0\n",
       "VehicleType          0\n",
       "RegistrationYear     0\n",
       "Gearbox              0\n",
       "Power                0\n",
       "Model                0\n",
       "Kilometer            0\n",
       "RegistrationMonth    0\n",
       "FuelType             0\n",
       "Brand                0\n",
       "Repaired             0\n",
       "dtype: int64"
      ]
     },
     "execution_count": 26,
     "metadata": {},
     "output_type": "execute_result"
    }
   ],
   "source": [
    "df.isna().sum()"
   ]
  },
  {
   "cell_type": "markdown",
   "id": "fb60928e",
   "metadata": {},
   "source": [
    "Проведем замену столбцов Gearbox и NotRepaired на булев тип.\n",
    "\n",
    "- IsManualGearbox. 1(manual) - означает механическую коробку передач. 0(auto) - автоматическую.\n",
    "- NotRepaired. 1(yes) - означает машину без ремонта. 0(no) - с ремонтом."
   ]
  },
  {
   "cell_type": "code",
   "execution_count": 27,
   "id": "4a827083",
   "metadata": {},
   "outputs": [
    {
     "data": {
      "text/plain": [
       "1    219553\n",
       "0     62990\n",
       "Name: IsManualGearbox, dtype: int64"
      ]
     },
     "metadata": {},
     "output_type": "display_data"
    },
    {
     "data": {
      "text/plain": [
       "manual     219553\n",
       "auto        58216\n",
       "Unknown      4774\n",
       "Name: Gearbox, dtype: int64"
      ]
     },
     "execution_count": 27,
     "metadata": {},
     "output_type": "execute_result"
    }
   ],
   "source": [
    "df['IsManualGearbox'] = 0\n",
    "df.loc[df['Gearbox'] == 'manual', 'IsManualGearbox'] = 1\n",
    "display(df['IsManualGearbox'].value_counts())\n",
    "df['Gearbox'].value_counts()"
   ]
  },
  {
   "cell_type": "code",
   "execution_count": 28,
   "id": "0676e814",
   "metadata": {},
   "outputs": [
    {
     "data": {
      "text/plain": [
       "0    258968\n",
       "1     23575\n",
       "Name: NotRepaired, dtype: int64"
      ]
     },
     "metadata": {},
     "output_type": "display_data"
    },
    {
     "data": {
      "text/plain": [
       "no     258968\n",
       "yes     23575\n",
       "Name: Repaired, dtype: int64"
      ]
     },
     "execution_count": 28,
     "metadata": {},
     "output_type": "execute_result"
    }
   ],
   "source": [
    "df['NotRepaired'] = 0\n",
    "df.loc[df['Repaired'] == 'yes', 'NotRepaired'] = 1\n",
    "display(df['NotRepaired'].value_counts())\n",
    "df['Repaired'].value_counts()"
   ]
  },
  {
   "cell_type": "markdown",
   "id": "d9f6f00d",
   "metadata": {},
   "source": [
    "Удалим ненужные столбцы и уменьшим размерность хранения типа для ускорения работы с дата фреймом."
   ]
  },
  {
   "cell_type": "code",
   "execution_count": 29,
   "id": "09b542be",
   "metadata": {},
   "outputs": [],
   "source": [
    "df.drop(['Repaired','Gearbox'], inplace=True, axis=1)\n",
    "df['NotRepaired'] = pd.to_numeric(df['NotRepaired'], downcast='integer')\n",
    "df['IsManualGearbox'] = pd.to_numeric(df['IsManualGearbox'], downcast='integer')\n",
    "df['RegistrationYear'] = pd.to_numeric(df['RegistrationYear'], downcast='integer')\n",
    "df['Power'] = pd.to_numeric(df['Power'], downcast='integer')\n",
    "df['Kilometer'] = pd.to_numeric(df['Kilometer'], downcast='integer')\n",
    "df['Price'] = pd.to_numeric(df['Price'], downcast='integer')"
   ]
  },
  {
   "cell_type": "markdown",
   "id": "b2766fb9",
   "metadata": {},
   "source": [
    "[К оглавлению](#Оглавление)"
   ]
  },
  {
   "cell_type": "markdown",
   "id": "2f76c57f",
   "metadata": {},
   "source": [
    "## 1.1. Вывод по предобработке данных <a name=\"Вывод_предобработке\"></a>"
   ]
  },
  {
   "cell_type": "markdown",
   "id": "fa5ec6fd",
   "metadata": {},
   "source": [
    "- Mы удалили ненужные явные дубликаты;\n",
    "- Заполнили пропуски в данных наиболее подходящими значениями;\n",
    "- Поменяли в некоторых столбцах тип данных;\n",
    "- Посмотрели на общее распределение по данным;\n",
    "- Посмотрев на корреляцию в данных выявили признаки наиболее кореллирующие с целевым признаком и по нему предобработали выбросы\n",
    "- Hа последнем шаге мы избаивились от ненужных столбцов."
   ]
  },
  {
   "cell_type": "markdown",
   "id": "b4640fb5",
   "metadata": {},
   "source": [
    "## 2. Обучение моделей<a name=\"Обучение_моделей\"></a>"
   ]
  },
  {
   "cell_type": "markdown",
   "id": "97dccf04",
   "metadata": {},
   "source": [
    "Подготовим три типа признаков для кроссвалидации:\n",
    "\n",
    "- Неизмененные. Название original_features.\n",
    "- Закодированные методом OHE. Название ohe_features.\n",
    "- Закодированные методом OE. Название ordinal_features."
   ]
  },
  {
   "cell_type": "markdown",
   "id": "c09040ad",
   "metadata": {},
   "source": [
    "Выделим неизменные признаки и целевой"
   ]
  },
  {
   "cell_type": "code",
   "execution_count": 30,
   "id": "10848205",
   "metadata": {},
   "outputs": [],
   "source": [
    "original_features = df.drop('Price', axis=1)\n",
    "target = df['Price']"
   ]
  },
  {
   "cell_type": "markdown",
   "id": "15bdcea6",
   "metadata": {},
   "source": [
    "[К оглавлению](#Оглавление)"
   ]
  },
  {
   "cell_type": "markdown",
   "id": "09a95ca9",
   "metadata": {},
   "source": [
    "### 2.1. Кодирование <a name=\"кодирование\"></a>"
   ]
  },
  {
   "cell_type": "markdown",
   "id": "6a3315ff",
   "metadata": {},
   "source": [
    "#### 2.1.1 Прямое кодирование<a name=\"Прямое_кодирование\"></a>"
   ]
  },
  {
   "cell_type": "code",
   "execution_count": 31,
   "id": "4e48228c",
   "metadata": {},
   "outputs": [],
   "source": [
    "encoder = OrdinalEncoder()\n",
    "cat_columns = ['VehicleType','FuelType','Brand','Model']\n",
    "cat_features = original_features[cat_columns]\n",
    "cat_features = pd.DataFrame(encoder.fit_transform(cat_features),\n",
    "                                columns=cat_features.columns, \n",
    "                                index=cat_features.index)\n",
    "ordinal_features = original_features.copy()\n",
    "for column in cat_columns:\n",
    "    ordinal_features[column] = cat_features[column]"
   ]
  },
  {
   "cell_type": "markdown",
   "id": "bb945144",
   "metadata": {},
   "source": [
    "#### 2.1.2 OHE кодирование<a name=\"OHE\"></a>"
   ]
  },
  {
   "cell_type": "code",
   "execution_count": 32,
   "id": "299307c8",
   "metadata": {},
   "outputs": [],
   "source": [
    "ohe_features = pd.get_dummies(original_features, drop_first=True)"
   ]
  },
  {
   "cell_type": "code",
   "execution_count": 33,
   "id": "92663f3f",
   "metadata": {},
   "outputs": [],
   "source": [
    "original_features_train, original_features_test, target_train, target_test = train_test_split(\n",
    "    original_features, target, test_size=0.25, random_state=19072020)\n",
    "\n",
    "ordinal_features_train = ordinal_features.loc[original_features_train.index, :]\n",
    "ordinal_features_test = ordinal_features.loc[original_features_test.index, :]\n",
    "\n",
    "ohe_features_train = ohe_features.loc[original_features_train.index, :]\n",
    "ohe_features_test = ohe_features.loc[original_features_test.index, :]"
   ]
  },
  {
   "cell_type": "markdown",
   "id": "a9a4dca3",
   "metadata": {},
   "source": [
    "[К оглавлению](#Оглавление)"
   ]
  },
  {
   "cell_type": "markdown",
   "id": "ff7f46d4",
   "metadata": {},
   "source": [
    "### 2.2. LinearRegression<a name=\"LinearRegression_\"></a>"
   ]
  },
  {
   "cell_type": "code",
   "execution_count": 34,
   "id": "b06370d8",
   "metadata": {},
   "outputs": [
    {
     "name": "stdout",
     "output_type": "stream",
     "text": [
      "Среднее значение RMSE из CV линейной регрессии = 2647.585281726155\n",
      "Wall time: 11.7 s\n"
     ]
    }
   ],
   "source": [
    "%%time\n",
    "\n",
    "regressor = LinearRegression()\n",
    "cv_RMSE_LR = (cross_val_score(regressor, \n",
    "                             ohe_features_train, \n",
    "                             target_train, \n",
    "                             cv=5, \n",
    "                             scoring='neg_mean_squared_error').mean() * -1) ** 0.5\n",
    "print('Среднее значение RMSE из CV линейной регрессии =', cv_RMSE_LR)"
   ]
  },
  {
   "cell_type": "code",
   "execution_count": 35,
   "id": "4b574828",
   "metadata": {},
   "outputs": [
    {
     "name": "stdout",
     "output_type": "stream",
     "text": [
      "Среднее значение RMSE из CV линейной регрессии = 4802905846560.559\n",
      "Wall time: 18.2 s\n"
     ]
    }
   ],
   "source": [
    "%%time\n",
    "\n",
    "regressor = LinearRegression()\n",
    "scaller = StandardScaler()\n",
    "pipeline = Pipeline([(\"standard_scaller\", scaller),(\"linear_regression\", regressor)])\n",
    "cv_RMSE_LR_S = (cross_val_score(pipeline,\n",
    "                                ohe_features_train, \n",
    "                                target_train, \n",
    "                                cv=5, \n",
    "                                scoring='neg_mean_squared_error').mean() * -1) ** 0.5\n",
    "print('Среднее значение RMSE из CV линейной регрессии =', cv_RMSE_LR_S)"
   ]
  },
  {
   "cell_type": "markdown",
   "id": "1745c016",
   "metadata": {},
   "source": [
    "Масштабирование признаков ухудшает модель. Откажемся от применение масштаба."
   ]
  },
  {
   "cell_type": "markdown",
   "id": "d445763a",
   "metadata": {},
   "source": [
    "[К оглавлению](#Оглавление)"
   ]
  },
  {
   "cell_type": "markdown",
   "id": "cc9d895c",
   "metadata": {},
   "source": [
    "### 2.3. DecisionTreeRegressor<a name=\"DecisionTreeRegressor_\"></a>"
   ]
  },
  {
   "cell_type": "markdown",
   "id": "1031c7b8",
   "metadata": {},
   "source": [
    "Проведем два эксперимента.\n",
    "\n",
    "- Проверим модель на принаках, закодированных по методу OHE.\n",
    "- На признаках, закодированных по методу OE."
   ]
  },
  {
   "cell_type": "code",
   "execution_count": 36,
   "id": "f20ad35a",
   "metadata": {},
   "outputs": [
    {
     "name": "stdout",
     "output_type": "stream",
     "text": [
      "Наилучший набор параметров, найденный в наборе для разработки:\n",
      "\n",
      "{'criterion': 'mse', 'max_depth': 15, 'random_state': 12345}\n",
      "\n",
      "Баллы сетки по набору разработки:\n",
      "\n",
      "3280.479703 for {'criterion': 'mse', 'max_depth': 2, 'random_state': 12345}\n",
      "2990.153792 for {'criterion': 'mse', 'max_depth': 3, 'random_state': 12345}\n",
      "2701.905948 for {'criterion': 'mse', 'max_depth': 4, 'random_state': 12345}\n",
      "2485.392280 for {'criterion': 'mse', 'max_depth': 5, 'random_state': 12345}\n",
      "2329.713973 for {'criterion': 'mse', 'max_depth': 6, 'random_state': 12345}\n",
      "2204.395179 for {'criterion': 'mse', 'max_depth': 7, 'random_state': 12345}\n",
      "2122.730289 for {'criterion': 'mse', 'max_depth': 8, 'random_state': 12345}\n",
      "2056.537419 for {'criterion': 'mse', 'max_depth': 9, 'random_state': 12345}\n",
      "2007.845663 for {'criterion': 'mse', 'max_depth': 10, 'random_state': 12345}\n",
      "1965.634010 for {'criterion': 'mse', 'max_depth': 11, 'random_state': 12345}\n",
      "1935.646547 for {'criterion': 'mse', 'max_depth': 12, 'random_state': 12345}\n",
      "1909.939268 for {'criterion': 'mse', 'max_depth': 13, 'random_state': 12345}\n",
      "1888.526371 for {'criterion': 'mse', 'max_depth': 14, 'random_state': 12345}\n",
      "1887.987880 for {'criterion': 'mse', 'max_depth': 15, 'random_state': 12345}\n",
      "1893.224690 for {'criterion': 'mse', 'max_depth': 16, 'random_state': 12345}\n",
      "1893.541814 for {'criterion': 'mse', 'max_depth': 17, 'random_state': 12345}\n",
      "1898.259501 for {'criterion': 'mse', 'max_depth': 18, 'random_state': 12345}\n",
      "1909.658773 for {'criterion': 'mse', 'max_depth': 19, 'random_state': 12345}\n",
      "1916.858773 for {'criterion': 'mse', 'max_depth': 20, 'random_state': 12345}\n",
      "1931.476818 for {'criterion': 'mse', 'max_depth': 21, 'random_state': 12345}\n",
      "1940.766391 for {'criterion': 'mse', 'max_depth': 22, 'random_state': 12345}\n",
      "1953.152540 for {'criterion': 'mse', 'max_depth': 23, 'random_state': 12345}\n",
      "1959.935721 for {'criterion': 'mse', 'max_depth': 24, 'random_state': 12345}\n",
      "1973.293399 for {'criterion': 'mse', 'max_depth': 25, 'random_state': 12345}\n",
      "1976.821897 for {'criterion': 'mse', 'max_depth': 26, 'random_state': 12345}\n",
      "1984.479411 for {'criterion': 'mse', 'max_depth': 27, 'random_state': 12345}\n",
      "1988.740386 for {'criterion': 'mse', 'max_depth': 28, 'random_state': 12345}\n",
      "1991.516134 for {'criterion': 'mse', 'max_depth': 29, 'random_state': 12345}\n",
      "1995.710200 for {'criterion': 'mse', 'max_depth': 30, 'random_state': 12345}\n",
      "\n",
      "Wall time: 9min 29s\n"
     ]
    }
   ],
   "source": [
    "%%time\n",
    "\n",
    "regressor = DecisionTreeRegressor() \n",
    "max_depth_list = [x for x in range(2, 31)]\n",
    "hyperparams = [{'criterion':['mse'], \n",
    "                'max_depth':max_depth_list, \n",
    "                'random_state':[12345]}]\n",
    "\n",
    "clf = GridSearchCV(regressor, hyperparams, scoring='neg_mean_squared_error')\n",
    "clf.fit(ohe_features_train, target_train)\n",
    "print(\"Наилучший набор параметров, найденный в наборе для разработки:\")\n",
    "print()\n",
    "print(clf.best_params_)\n",
    "print()\n",
    "print(\"Баллы сетки по набору разработки:\")\n",
    "print()\n",
    "means = clf.cv_results_['mean_test_score']\n",
    "stds = clf.cv_results_['std_test_score']\n",
    "for mean, std, params in zip(means, stds, clf.cv_results_['params']):\n",
    "    print(\"%0.6f for %r\"% ((mean*-1)** 0.5, params))\n",
    "print()\n",
    "\n",
    "cv_RMSE_DTR_ohe = (max(means)*-1) ** 0.5"
   ]
  },
  {
   "cell_type": "code",
   "execution_count": 37,
   "id": "110715df",
   "metadata": {},
   "outputs": [
    {
     "name": "stdout",
     "output_type": "stream",
     "text": [
      "Наилучший набор параметров, найденный в наборе для разработки:\n",
      "\n",
      "{'criterion': 'mse', 'max_depth': 14, 'random_state': 12345}\n",
      "\n",
      "Баллы сетки по набору разработки:\n",
      "\n",
      "3280.479703 for {'criterion': 'mse', 'max_depth': 2, 'random_state': 12345}\n",
      "2990.153792 for {'criterion': 'mse', 'max_depth': 3, 'random_state': 12345}\n",
      "2703.935802 for {'criterion': 'mse', 'max_depth': 4, 'random_state': 12345}\n",
      "2487.879873 for {'criterion': 'mse', 'max_depth': 5, 'random_state': 12345}\n",
      "2335.468087 for {'criterion': 'mse', 'max_depth': 6, 'random_state': 12345}\n",
      "2204.136081 for {'criterion': 'mse', 'max_depth': 7, 'random_state': 12345}\n",
      "2114.543379 for {'criterion': 'mse', 'max_depth': 8, 'random_state': 12345}\n",
      "2053.749267 for {'criterion': 'mse', 'max_depth': 9, 'random_state': 12345}\n",
      "1997.909465 for {'criterion': 'mse', 'max_depth': 10, 'random_state': 12345}\n",
      "1955.775772 for {'criterion': 'mse', 'max_depth': 11, 'random_state': 12345}\n",
      "1926.060229 for {'criterion': 'mse', 'max_depth': 12, 'random_state': 12345}\n",
      "1909.998992 for {'criterion': 'mse', 'max_depth': 13, 'random_state': 12345}\n",
      "1906.024407 for {'criterion': 'mse', 'max_depth': 14, 'random_state': 12345}\n",
      "1915.090352 for {'criterion': 'mse', 'max_depth': 15, 'random_state': 12345}\n",
      "1928.315092 for {'criterion': 'mse', 'max_depth': 16, 'random_state': 12345}\n",
      "1951.354959 for {'criterion': 'mse', 'max_depth': 17, 'random_state': 12345}\n",
      "1973.895709 for {'criterion': 'mse', 'max_depth': 18, 'random_state': 12345}\n",
      "1993.952208 for {'criterion': 'mse', 'max_depth': 19, 'random_state': 12345}\n",
      "2009.111076 for {'criterion': 'mse', 'max_depth': 20, 'random_state': 12345}\n",
      "2031.300649 for {'criterion': 'mse', 'max_depth': 21, 'random_state': 12345}\n",
      "2042.847755 for {'criterion': 'mse', 'max_depth': 22, 'random_state': 12345}\n",
      "2055.521568 for {'criterion': 'mse', 'max_depth': 23, 'random_state': 12345}\n",
      "2063.654542 for {'criterion': 'mse', 'max_depth': 24, 'random_state': 12345}\n",
      "2063.909602 for {'criterion': 'mse', 'max_depth': 25, 'random_state': 12345}\n",
      "2069.079015 for {'criterion': 'mse', 'max_depth': 26, 'random_state': 12345}\n",
      "2070.584038 for {'criterion': 'mse', 'max_depth': 27, 'random_state': 12345}\n",
      "2075.922167 for {'criterion': 'mse', 'max_depth': 28, 'random_state': 12345}\n",
      "2075.525998 for {'criterion': 'mse', 'max_depth': 29, 'random_state': 12345}\n",
      "2074.084520 for {'criterion': 'mse', 'max_depth': 30, 'random_state': 12345}\n",
      "\n",
      "Wall time: 1min\n"
     ]
    }
   ],
   "source": [
    "%%time\n",
    "\n",
    "regressor = DecisionTreeRegressor() \n",
    "max_depth_list = [x for x in range(2, 31)]\n",
    "hyperparams = [{'criterion':['mse'], \n",
    "                'max_depth':max_depth_list, \n",
    "                'random_state':[12345]}]\n",
    "\n",
    "clf = GridSearchCV(regressor, hyperparams, scoring='neg_mean_squared_error')\n",
    "clf.fit(ordinal_features_train, target_train)\n",
    "print(\"Наилучший набор параметров, найденный в наборе для разработки:\")\n",
    "print()\n",
    "print(clf.best_params_)\n",
    "print()\n",
    "print(\"Баллы сетки по набору разработки:\")\n",
    "print()\n",
    "means = clf.cv_results_['mean_test_score']\n",
    "stds = clf.cv_results_['std_test_score']\n",
    "for mean, std, params in zip(means, stds, clf.cv_results_['params']):\n",
    "    print(\"%0.6f for %r\"% ((mean*-1)** 0.5, params))\n",
    "print()\n",
    "\n",
    "cv_RMSE_DTR_ordinal = (max(means)*-1) ** 0.5"
   ]
  },
  {
   "cell_type": "markdown",
   "id": "753cc572",
   "metadata": {},
   "source": [
    "Обучение на OHE данных дало похожий результат, что и порядковое кодирование признаков. Занесем оба эксперимента в финальную таблицу."
   ]
  },
  {
   "cell_type": "markdown",
   "id": "8c262e9d",
   "metadata": {},
   "source": [
    "[К оглавлению](#Оглавление)"
   ]
  },
  {
   "cell_type": "markdown",
   "id": "6eefd542",
   "metadata": {},
   "source": [
    "### 2.4. CatBoostRegressor<a name=\"CatBoostRegressor_\"></a>"
   ]
  },
  {
   "cell_type": "markdown",
   "id": "21182305",
   "metadata": {},
   "source": [
    "Проведем два эксперимента.\n",
    "\n",
    "- Обучим модель на данных, закодированных по методу OE.\n",
    "- Обучим на оригинальных данных с указанием категорий."
   ]
  },
  {
   "cell_type": "code",
   "execution_count": 38,
   "id": "56c18301",
   "metadata": {},
   "outputs": [
    {
     "name": "stdout",
     "output_type": "stream",
     "text": [
      "Наилучший набор параметров:\n",
      "\n",
      "{'learning_rate': 0.5, 'random_state': 12345, 'verbose': False}\n",
      "\n",
      "Баллы сетки по набору разработки:\n",
      "\n",
      "1604.613966 for {'learning_rate': 0.1, 'random_state': 12345, 'verbose': False}\n",
      "1567.127291 for {'learning_rate': 0.5, 'random_state': 12345, 'verbose': False}\n",
      "1603.714955 for {'learning_rate': 0.8, 'random_state': 12345, 'verbose': False}\n",
      "\n",
      "Wall time: 2min 59s\n"
     ]
    }
   ],
   "source": [
    "%%time\n",
    "\n",
    "regressor = CatBoostRegressor() \n",
    "hyperparams = [{'learning_rate':[0.1, 0.5, 0.8],\n",
    "                'random_state':[12345],\n",
    "                'verbose':[False]}]\n",
    "\n",
    "clf = GridSearchCV(regressor, hyperparams, scoring='neg_mean_squared_error')\n",
    "clf.fit(ordinal_features_train, target_train)\n",
    "print(\"Наилучший набор параметров:\")\n",
    "print()\n",
    "print(clf.best_params_)\n",
    "print()\n",
    "print(\"Баллы сетки по набору разработки:\")\n",
    "print()\n",
    "means = clf.cv_results_['mean_test_score']\n",
    "stds = clf.cv_results_['std_test_score']\n",
    "for mean, std, params in zip(means, stds, clf.cv_results_['params']):\n",
    "    print(\"%0.6f for %r\"% ((mean*-1)** 0.5, params))\n",
    "print()\n",
    "\n",
    "cv_RMSE_CBR_ordinal = (max(means)*-1) ** 0.5"
   ]
  },
  {
   "cell_type": "code",
   "execution_count": 39,
   "id": "4367e571",
   "metadata": {},
   "outputs": [
    {
     "name": "stdout",
     "output_type": "stream",
     "text": [
      "Среднее значение RMSE из CV CatBoostRegressor = 1621.6974570233033\n",
      "Wall time: 1min 25s\n"
     ]
    }
   ],
   "source": [
    "%%time\n",
    "\n",
    "regressor = CatBoostRegressor(learning_rate=0.5,\n",
    "                              iterations = 200,\n",
    "                              random_state=12345, \n",
    "                              verbose=False, \n",
    "                              cat_features=['VehicleType','FuelType','Brand','Model']) \n",
    "\n",
    "cv_RMSE_CBR_original = (cross_val_score(regressor,\n",
    "                                original_features_train, \n",
    "                                target_train, \n",
    "                                cv=5, \n",
    "                                scoring='neg_mean_squared_error').mean() * -1) ** 0.5\n",
    "print('Среднее значение RMSE из CV CatBoostRegressor =', cv_RMSE_CBR_original)"
   ]
  },
  {
   "cell_type": "markdown",
   "id": "adde55c6",
   "metadata": {},
   "source": [
    "[К оглавлению](#Оглавление)"
   ]
  },
  {
   "cell_type": "markdown",
   "id": "c7c29e6a",
   "metadata": {},
   "source": [
    "### 2.5. LGBMRegressor<a name=\"LGBMRegressor_\"></a>"
   ]
  },
  {
   "cell_type": "code",
   "execution_count": 40,
   "id": "5ccb2668",
   "metadata": {},
   "outputs": [
    {
     "name": "stdout",
     "output_type": "stream",
     "text": [
      "[LightGBM] [Warning] Auto-choosing row-wise multi-threading, the overhead of testing was 0.004138 seconds.\n",
      "You can set `force_row_wise=true` to remove the overhead.\n",
      "And if memory is not enough, you can set `force_col_wise=true`.\n",
      "[LightGBM] [Info] Total Bins 634\n",
      "[LightGBM] [Info] Number of data points in the train set: 169525, number of used features: 10\n",
      "[LightGBM] [Info] Start training from score 5110.816151\n",
      "[LightGBM] [Warning] Auto-choosing row-wise multi-threading, the overhead of testing was 0.002929 seconds.\n",
      "You can set `force_row_wise=true` to remove the overhead.\n",
      "And if memory is not enough, you can set `force_col_wise=true`.\n",
      "[LightGBM] [Info] Total Bins 634\n",
      "[LightGBM] [Info] Number of data points in the train set: 169525, number of used features: 10\n",
      "[LightGBM] [Info] Start training from score 5120.886819\n",
      "[LightGBM] [Warning] Auto-choosing row-wise multi-threading, the overhead of testing was 0.002814 seconds.\n",
      "You can set `force_row_wise=true` to remove the overhead.\n",
      "And if memory is not enough, you can set `force_col_wise=true`.\n",
      "[LightGBM] [Info] Total Bins 630\n",
      "[LightGBM] [Info] Number of data points in the train set: 169526, number of used features: 10\n",
      "[LightGBM] [Info] Start training from score 5109.863171\n",
      "[LightGBM] [Warning] Auto-choosing row-wise multi-threading, the overhead of testing was 0.003154 seconds.\n",
      "You can set `force_row_wise=true` to remove the overhead.\n",
      "And if memory is not enough, you can set `force_col_wise=true`.\n",
      "[LightGBM] [Info] Total Bins 633\n",
      "[LightGBM] [Info] Number of data points in the train set: 169526, number of used features: 10\n",
      "[LightGBM] [Info] Start training from score 5133.075505\n",
      "[LightGBM] [Warning] Auto-choosing row-wise multi-threading, the overhead of testing was 0.003020 seconds.\n",
      "You can set `force_row_wise=true` to remove the overhead.\n",
      "And if memory is not enough, you can set `force_col_wise=true`.\n",
      "[LightGBM] [Info] Total Bins 634\n",
      "[LightGBM] [Info] Number of data points in the train set: 169526, number of used features: 10\n",
      "[LightGBM] [Info] Start training from score 5122.608733\n",
      "[LightGBM] [Warning] Auto-choosing row-wise multi-threading, the overhead of testing was 0.003139 seconds.\n",
      "You can set `force_row_wise=true` to remove the overhead.\n",
      "And if memory is not enough, you can set `force_col_wise=true`.\n",
      "[LightGBM] [Info] Total Bins 634\n",
      "[LightGBM] [Info] Number of data points in the train set: 169525, number of used features: 10\n",
      "[LightGBM] [Info] Start training from score 5110.816151\n",
      "[LightGBM] [Warning] Auto-choosing row-wise multi-threading, the overhead of testing was 0.002942 seconds.\n",
      "You can set `force_row_wise=true` to remove the overhead.\n",
      "And if memory is not enough, you can set `force_col_wise=true`.\n",
      "[LightGBM] [Info] Total Bins 634\n",
      "[LightGBM] [Info] Number of data points in the train set: 169525, number of used features: 10\n",
      "[LightGBM] [Info] Start training from score 5120.886819\n",
      "[LightGBM] [Warning] Auto-choosing row-wise multi-threading, the overhead of testing was 0.002901 seconds.\n",
      "You can set `force_row_wise=true` to remove the overhead.\n",
      "And if memory is not enough, you can set `force_col_wise=true`.\n",
      "[LightGBM] [Info] Total Bins 630\n",
      "[LightGBM] [Info] Number of data points in the train set: 169526, number of used features: 10\n",
      "[LightGBM] [Info] Start training from score 5109.863171\n",
      "[LightGBM] [Warning] Auto-choosing row-wise multi-threading, the overhead of testing was 0.002967 seconds.\n",
      "You can set `force_row_wise=true` to remove the overhead.\n",
      "And if memory is not enough, you can set `force_col_wise=true`.\n",
      "[LightGBM] [Info] Total Bins 633\n",
      "[LightGBM] [Info] Number of data points in the train set: 169526, number of used features: 10\n",
      "[LightGBM] [Info] Start training from score 5133.075505\n",
      "[LightGBM] [Warning] Auto-choosing row-wise multi-threading, the overhead of testing was 0.002987 seconds.\n",
      "You can set `force_row_wise=true` to remove the overhead.\n",
      "And if memory is not enough, you can set `force_col_wise=true`.\n",
      "[LightGBM] [Info] Total Bins 634\n",
      "[LightGBM] [Info] Number of data points in the train set: 169526, number of used features: 10\n",
      "[LightGBM] [Info] Start training from score 5122.608733\n",
      "[LightGBM] [Warning] Auto-choosing row-wise multi-threading, the overhead of testing was 0.003177 seconds.\n",
      "You can set `force_row_wise=true` to remove the overhead.\n",
      "And if memory is not enough, you can set `force_col_wise=true`.\n",
      "[LightGBM] [Info] Total Bins 634\n",
      "[LightGBM] [Info] Number of data points in the train set: 169525, number of used features: 10\n",
      "[LightGBM] [Info] Start training from score 5110.816151\n",
      "[LightGBM] [Warning] Auto-choosing row-wise multi-threading, the overhead of testing was 0.003383 seconds.\n",
      "You can set `force_row_wise=true` to remove the overhead.\n",
      "And if memory is not enough, you can set `force_col_wise=true`.\n",
      "[LightGBM] [Info] Total Bins 634\n",
      "[LightGBM] [Info] Number of data points in the train set: 169525, number of used features: 10\n",
      "[LightGBM] [Info] Start training from score 5120.886819\n",
      "[LightGBM] [Warning] Auto-choosing row-wise multi-threading, the overhead of testing was 0.002727 seconds.\n",
      "You can set `force_row_wise=true` to remove the overhead.\n",
      "And if memory is not enough, you can set `force_col_wise=true`.\n",
      "[LightGBM] [Info] Total Bins 630\n",
      "[LightGBM] [Info] Number of data points in the train set: 169526, number of used features: 10\n",
      "[LightGBM] [Info] Start training from score 5109.863171\n",
      "[LightGBM] [Warning] Auto-choosing row-wise multi-threading, the overhead of testing was 0.003095 seconds.\n",
      "You can set `force_row_wise=true` to remove the overhead.\n",
      "And if memory is not enough, you can set `force_col_wise=true`.\n",
      "[LightGBM] [Info] Total Bins 633\n",
      "[LightGBM] [Info] Number of data points in the train set: 169526, number of used features: 10\n",
      "[LightGBM] [Info] Start training from score 5133.075505\n",
      "[LightGBM] [Warning] Auto-choosing row-wise multi-threading, the overhead of testing was 0.003020 seconds.\n",
      "You can set `force_row_wise=true` to remove the overhead.\n",
      "And if memory is not enough, you can set `force_col_wise=true`.\n",
      "[LightGBM] [Info] Total Bins 634\n",
      "[LightGBM] [Info] Number of data points in the train set: 169526, number of used features: 10\n",
      "[LightGBM] [Info] Start training from score 5122.608733\n",
      "[LightGBM] [Warning] Auto-choosing row-wise multi-threading, the overhead of testing was 0.003161 seconds.\n",
      "You can set `force_row_wise=true` to remove the overhead.\n",
      "And if memory is not enough, you can set `force_col_wise=true`.\n",
      "[LightGBM] [Info] Total Bins 634\n",
      "[LightGBM] [Info] Number of data points in the train set: 169525, number of used features: 10\n",
      "[LightGBM] [Info] Start training from score 5110.816151\n",
      "[LightGBM] [Warning] Auto-choosing row-wise multi-threading, the overhead of testing was 0.002758 seconds.\n",
      "You can set `force_row_wise=true` to remove the overhead.\n",
      "And if memory is not enough, you can set `force_col_wise=true`.\n",
      "[LightGBM] [Info] Total Bins 634\n",
      "[LightGBM] [Info] Number of data points in the train set: 169525, number of used features: 10\n",
      "[LightGBM] [Info] Start training from score 5120.886819\n",
      "[LightGBM] [Warning] Auto-choosing row-wise multi-threading, the overhead of testing was 0.002735 seconds.\n",
      "You can set `force_row_wise=true` to remove the overhead.\n",
      "And if memory is not enough, you can set `force_col_wise=true`.\n",
      "[LightGBM] [Info] Total Bins 630\n",
      "[LightGBM] [Info] Number of data points in the train set: 169526, number of used features: 10\n",
      "[LightGBM] [Info] Start training from score 5109.863171\n",
      "[LightGBM] [Warning] Auto-choosing row-wise multi-threading, the overhead of testing was 0.002920 seconds.\n",
      "You can set `force_row_wise=true` to remove the overhead.\n",
      "And if memory is not enough, you can set `force_col_wise=true`.\n",
      "[LightGBM] [Info] Total Bins 633\n",
      "[LightGBM] [Info] Number of data points in the train set: 169526, number of used features: 10\n",
      "[LightGBM] [Info] Start training from score 5133.075505\n",
      "[LightGBM] [Warning] Auto-choosing row-wise multi-threading, the overhead of testing was 0.002966 seconds.\n",
      "You can set `force_row_wise=true` to remove the overhead.\n",
      "And if memory is not enough, you can set `force_col_wise=true`.\n",
      "[LightGBM] [Info] Total Bins 634\n",
      "[LightGBM] [Info] Number of data points in the train set: 169526, number of used features: 10\n",
      "[LightGBM] [Info] Start training from score 5122.608733\n"
     ]
    },
    {
     "name": "stdout",
     "output_type": "stream",
     "text": [
      "[LightGBM] [Warning] Auto-choosing row-wise multi-threading, the overhead of testing was 0.003283 seconds.\n",
      "You can set `force_row_wise=true` to remove the overhead.\n",
      "And if memory is not enough, you can set `force_col_wise=true`.\n",
      "[LightGBM] [Info] Total Bins 634\n",
      "[LightGBM] [Info] Number of data points in the train set: 169525, number of used features: 10\n",
      "[LightGBM] [Info] Start training from score 5110.816151\n",
      "[LightGBM] [Warning] Auto-choosing row-wise multi-threading, the overhead of testing was 0.003081 seconds.\n",
      "You can set `force_row_wise=true` to remove the overhead.\n",
      "And if memory is not enough, you can set `force_col_wise=true`.\n",
      "[LightGBM] [Info] Total Bins 634\n",
      "[LightGBM] [Info] Number of data points in the train set: 169525, number of used features: 10\n",
      "[LightGBM] [Info] Start training from score 5120.886819\n",
      "[LightGBM] [Warning] Auto-choosing row-wise multi-threading, the overhead of testing was 0.002872 seconds.\n",
      "You can set `force_row_wise=true` to remove the overhead.\n",
      "And if memory is not enough, you can set `force_col_wise=true`.\n",
      "[LightGBM] [Info] Total Bins 630\n",
      "[LightGBM] [Info] Number of data points in the train set: 169526, number of used features: 10\n",
      "[LightGBM] [Info] Start training from score 5109.863171\n",
      "[LightGBM] [Warning] Auto-choosing row-wise multi-threading, the overhead of testing was 0.003127 seconds.\n",
      "You can set `force_row_wise=true` to remove the overhead.\n",
      "And if memory is not enough, you can set `force_col_wise=true`.\n",
      "[LightGBM] [Info] Total Bins 633\n",
      "[LightGBM] [Info] Number of data points in the train set: 169526, number of used features: 10\n",
      "[LightGBM] [Info] Start training from score 5133.075505\n",
      "[LightGBM] [Warning] Auto-choosing row-wise multi-threading, the overhead of testing was 0.002881 seconds.\n",
      "You can set `force_row_wise=true` to remove the overhead.\n",
      "And if memory is not enough, you can set `force_col_wise=true`.\n",
      "[LightGBM] [Info] Total Bins 634\n",
      "[LightGBM] [Info] Number of data points in the train set: 169526, number of used features: 10\n",
      "[LightGBM] [Info] Start training from score 5122.608733\n",
      "[LightGBM] [Warning] Auto-choosing row-wise multi-threading, the overhead of testing was 0.003297 seconds.\n",
      "You can set `force_row_wise=true` to remove the overhead.\n",
      "And if memory is not enough, you can set `force_col_wise=true`.\n",
      "[LightGBM] [Info] Total Bins 634\n",
      "[LightGBM] [Info] Number of data points in the train set: 169525, number of used features: 10\n",
      "[LightGBM] [Info] Start training from score 5110.816151\n",
      "[LightGBM] [Warning] Auto-choosing row-wise multi-threading, the overhead of testing was 0.002861 seconds.\n",
      "You can set `force_row_wise=true` to remove the overhead.\n",
      "And if memory is not enough, you can set `force_col_wise=true`.\n",
      "[LightGBM] [Info] Total Bins 634\n",
      "[LightGBM] [Info] Number of data points in the train set: 169525, number of used features: 10\n",
      "[LightGBM] [Info] Start training from score 5120.886819\n",
      "[LightGBM] [Warning] Auto-choosing row-wise multi-threading, the overhead of testing was 0.003171 seconds.\n",
      "You can set `force_row_wise=true` to remove the overhead.\n",
      "And if memory is not enough, you can set `force_col_wise=true`.\n",
      "[LightGBM] [Info] Total Bins 630\n",
      "[LightGBM] [Info] Number of data points in the train set: 169526, number of used features: 10\n",
      "[LightGBM] [Info] Start training from score 5109.863171\n",
      "[LightGBM] [Warning] Auto-choosing col-wise multi-threading, the overhead of testing was 0.004386 seconds.\n",
      "You can set `force_col_wise=true` to remove the overhead.\n",
      "[LightGBM] [Info] Total Bins 633\n",
      "[LightGBM] [Info] Number of data points in the train set: 169526, number of used features: 10\n",
      "[LightGBM] [Info] Start training from score 5133.075505\n",
      "[LightGBM] [Warning] Auto-choosing row-wise multi-threading, the overhead of testing was 0.003119 seconds.\n",
      "You can set `force_row_wise=true` to remove the overhead.\n",
      "And if memory is not enough, you can set `force_col_wise=true`.\n",
      "[LightGBM] [Info] Total Bins 634\n",
      "[LightGBM] [Info] Number of data points in the train set: 169526, number of used features: 10\n",
      "[LightGBM] [Info] Start training from score 5122.608733\n",
      "[LightGBM] [Warning] Auto-choosing row-wise multi-threading, the overhead of testing was 0.002795 seconds.\n",
      "You can set `force_row_wise=true` to remove the overhead.\n",
      "And if memory is not enough, you can set `force_col_wise=true`.\n",
      "[LightGBM] [Info] Total Bins 634\n",
      "[LightGBM] [Info] Number of data points in the train set: 169525, number of used features: 10\n",
      "[LightGBM] [Info] Start training from score 5110.816151\n",
      "[LightGBM] [Warning] Auto-choosing row-wise multi-threading, the overhead of testing was 0.003187 seconds.\n",
      "You can set `force_row_wise=true` to remove the overhead.\n",
      "And if memory is not enough, you can set `force_col_wise=true`.\n",
      "[LightGBM] [Info] Total Bins 634\n",
      "[LightGBM] [Info] Number of data points in the train set: 169525, number of used features: 10\n",
      "[LightGBM] [Info] Start training from score 5120.886819\n",
      "[LightGBM] [Warning] Auto-choosing row-wise multi-threading, the overhead of testing was 0.002721 seconds.\n",
      "You can set `force_row_wise=true` to remove the overhead.\n",
      "And if memory is not enough, you can set `force_col_wise=true`.\n",
      "[LightGBM] [Info] Total Bins 630\n",
      "[LightGBM] [Info] Number of data points in the train set: 169526, number of used features: 10\n",
      "[LightGBM] [Info] Start training from score 5109.863171\n",
      "[LightGBM] [Warning] Auto-choosing row-wise multi-threading, the overhead of testing was 0.002940 seconds.\n",
      "You can set `force_row_wise=true` to remove the overhead.\n",
      "And if memory is not enough, you can set `force_col_wise=true`.\n",
      "[LightGBM] [Info] Total Bins 633\n",
      "[LightGBM] [Info] Number of data points in the train set: 169526, number of used features: 10\n",
      "[LightGBM] [Info] Start training from score 5133.075505\n",
      "[LightGBM] [Warning] Auto-choosing row-wise multi-threading, the overhead of testing was 0.002959 seconds.\n",
      "You can set `force_row_wise=true` to remove the overhead.\n",
      "And if memory is not enough, you can set `force_col_wise=true`.\n",
      "[LightGBM] [Info] Total Bins 634\n",
      "[LightGBM] [Info] Number of data points in the train set: 169526, number of used features: 10\n",
      "[LightGBM] [Info] Start training from score 5122.608733\n",
      "[LightGBM] [Warning] Auto-choosing row-wise multi-threading, the overhead of testing was 0.003133 seconds.\n",
      "You can set `force_row_wise=true` to remove the overhead.\n",
      "And if memory is not enough, you can set `force_col_wise=true`.\n",
      "[LightGBM] [Info] Total Bins 634\n",
      "[LightGBM] [Info] Number of data points in the train set: 169525, number of used features: 10\n",
      "[LightGBM] [Info] Start training from score 5110.816151\n",
      "[LightGBM] [Warning] Auto-choosing row-wise multi-threading, the overhead of testing was 0.003162 seconds.\n",
      "You can set `force_row_wise=true` to remove the overhead.\n",
      "And if memory is not enough, you can set `force_col_wise=true`.\n",
      "[LightGBM] [Info] Total Bins 634\n",
      "[LightGBM] [Info] Number of data points in the train set: 169525, number of used features: 10\n",
      "[LightGBM] [Info] Start training from score 5120.886819\n",
      "[LightGBM] [Warning] Auto-choosing row-wise multi-threading, the overhead of testing was 0.002857 seconds.\n",
      "You can set `force_row_wise=true` to remove the overhead.\n",
      "And if memory is not enough, you can set `force_col_wise=true`.\n",
      "[LightGBM] [Info] Total Bins 630\n",
      "[LightGBM] [Info] Number of data points in the train set: 169526, number of used features: 10\n",
      "[LightGBM] [Info] Start training from score 5109.863171\n",
      "[LightGBM] [Warning] Auto-choosing row-wise multi-threading, the overhead of testing was 0.002844 seconds.\n",
      "You can set `force_row_wise=true` to remove the overhead.\n",
      "And if memory is not enough, you can set `force_col_wise=true`.\n",
      "[LightGBM] [Info] Total Bins 633\n",
      "[LightGBM] [Info] Number of data points in the train set: 169526, number of used features: 10\n",
      "[LightGBM] [Info] Start training from score 5133.075505\n",
      "[LightGBM] [Warning] Auto-choosing row-wise multi-threading, the overhead of testing was 0.003144 seconds.\n",
      "You can set `force_row_wise=true` to remove the overhead.\n",
      "And if memory is not enough, you can set `force_col_wise=true`.\n",
      "[LightGBM] [Info] Total Bins 634\n",
      "[LightGBM] [Info] Number of data points in the train set: 169526, number of used features: 10\n",
      "[LightGBM] [Info] Start training from score 5122.608733\n",
      "[LightGBM] [Warning] Auto-choosing row-wise multi-threading, the overhead of testing was 0.002711 seconds.\n",
      "You can set `force_row_wise=true` to remove the overhead.\n",
      "And if memory is not enough, you can set `force_col_wise=true`.\n",
      "[LightGBM] [Info] Total Bins 634\n",
      "[LightGBM] [Info] Number of data points in the train set: 169525, number of used features: 10\n",
      "[LightGBM] [Info] Start training from score 5110.816151\n"
     ]
    },
    {
     "name": "stdout",
     "output_type": "stream",
     "text": [
      "[LightGBM] [Warning] Auto-choosing row-wise multi-threading, the overhead of testing was 0.003083 seconds.\n",
      "You can set `force_row_wise=true` to remove the overhead.\n",
      "And if memory is not enough, you can set `force_col_wise=true`.\n",
      "[LightGBM] [Info] Total Bins 634\n",
      "[LightGBM] [Info] Number of data points in the train set: 169525, number of used features: 10\n",
      "[LightGBM] [Info] Start training from score 5120.886819\n",
      "[LightGBM] [Warning] Auto-choosing row-wise multi-threading, the overhead of testing was 0.002608 seconds.\n",
      "You can set `force_row_wise=true` to remove the overhead.\n",
      "And if memory is not enough, you can set `force_col_wise=true`.\n",
      "[LightGBM] [Info] Total Bins 630\n",
      "[LightGBM] [Info] Number of data points in the train set: 169526, number of used features: 10\n",
      "[LightGBM] [Info] Start training from score 5109.863171\n",
      "[LightGBM] [Warning] Auto-choosing row-wise multi-threading, the overhead of testing was 0.003005 seconds.\n",
      "You can set `force_row_wise=true` to remove the overhead.\n",
      "And if memory is not enough, you can set `force_col_wise=true`.\n",
      "[LightGBM] [Info] Total Bins 633\n",
      "[LightGBM] [Info] Number of data points in the train set: 169526, number of used features: 10\n",
      "[LightGBM] [Info] Start training from score 5133.075505\n",
      "[LightGBM] [Warning] Auto-choosing row-wise multi-threading, the overhead of testing was 0.002989 seconds.\n",
      "You can set `force_row_wise=true` to remove the overhead.\n",
      "And if memory is not enough, you can set `force_col_wise=true`.\n",
      "[LightGBM] [Info] Total Bins 634\n",
      "[LightGBM] [Info] Number of data points in the train set: 169526, number of used features: 10\n",
      "[LightGBM] [Info] Start training from score 5122.608733\n",
      "[LightGBM] [Warning] Auto-choosing row-wise multi-threading, the overhead of testing was 0.005949 seconds.\n",
      "You can set `force_row_wise=true` to remove the overhead.\n",
      "And if memory is not enough, you can set `force_col_wise=true`.\n",
      "[LightGBM] [Info] Total Bins 634\n",
      "[LightGBM] [Info] Number of data points in the train set: 211907, number of used features: 10\n",
      "[LightGBM] [Info] Start training from score 5119.450084\n",
      "Наилучший набор параметров:\n",
      "\n",
      "{'learning_rate': 0.3, 'num_leaves': 200, 'random_state': 12345}\n",
      "\n",
      "Баллы сетки по набору разработки:\n",
      "\n",
      "1701.746243 for {'learning_rate': 0.1, 'num_leaves': 31, 'random_state': 12345}\n",
      "1604.171617 for {'learning_rate': 0.1, 'num_leaves': 100, 'random_state': 12345}\n",
      "1567.060424 for {'learning_rate': 0.1, 'num_leaves': 200, 'random_state': 12345}\n",
      "1629.987506 for {'learning_rate': 0.3, 'num_leaves': 31, 'random_state': 12345}\n",
      "1573.023274 for {'learning_rate': 0.3, 'num_leaves': 100, 'random_state': 12345}\n",
      "1556.275529 for {'learning_rate': 0.3, 'num_leaves': 200, 'random_state': 12345}\n",
      "1627.185871 for {'learning_rate': 0.5, 'num_leaves': 31, 'random_state': 12345}\n",
      "1595.509424 for {'learning_rate': 0.5, 'num_leaves': 100, 'random_state': 12345}\n",
      "1602.866250 for {'learning_rate': 0.5, 'num_leaves': 200, 'random_state': 12345}\n",
      "\n",
      "Wall time: 20.2 s\n"
     ]
    }
   ],
   "source": [
    "%%time\n",
    "\n",
    "regressor = LGBMRegressor() \n",
    "hyperparams = [{'num_leaves':[31, 100, 200], \n",
    "                'learning_rate':[0.1, 0.3, 0.5],\n",
    "                'random_state':[12345]}]\n",
    "\n",
    "clf = GridSearchCV(regressor, hyperparams, scoring='neg_mean_squared_error')\n",
    "clf.fit(ordinal_features_train, target_train)\n",
    "print(\"Наилучший набор параметров:\")\n",
    "print()\n",
    "print(clf.best_params_)\n",
    "print()\n",
    "print(\"Баллы сетки по набору разработки:\")\n",
    "print()\n",
    "means = clf.cv_results_['mean_test_score']\n",
    "stds = clf.cv_results_['std_test_score']\n",
    "for mean, std, params in zip(means, stds, clf.cv_results_['params']):\n",
    "    print(\"%0.6f for %r\"% ((mean*-1)** 0.5, params))\n",
    "print()\n",
    "\n",
    "cv_RMSE_LGBMR = (max(means)*-1) ** 0.5"
   ]
  },
  {
   "cell_type": "markdown",
   "id": "fe7985a0",
   "metadata": {},
   "source": [
    "### 2.6. Вывод по обучению моделей<a name=\"Вывод_моделей\"></a>"
   ]
  },
  {
   "cell_type": "markdown",
   "id": "c915a59a",
   "metadata": {},
   "source": [
    "- Были изучены 4 регрессионных моделей. Зафиксированы лучшие гиперпараметры и время их выполнения.\n",
    "- Быстрее всего работает линейная регрессия, лучшая по показателю rmse LGBMRegressor, на этих двух моделях мы и протестируем наши тестовый данные"
   ]
  },
  {
   "cell_type": "markdown",
   "id": "46b3a133",
   "metadata": {},
   "source": [
    "[К оглавлению](#Оглавление)"
   ]
  },
  {
   "cell_type": "markdown",
   "id": "b0974754",
   "metadata": {},
   "source": [
    "##  3. Анализ моделей <a name=\"Анализ_моделей\"></a>"
   ]
  },
  {
   "cell_type": "markdown",
   "id": "2194249a",
   "metadata": {},
   "source": [
    "### 3.1. LinearRegression<a name=\"LinearRegression\"></a>"
   ]
  },
  {
   "cell_type": "code",
   "execution_count": 41,
   "id": "f5cebe1d",
   "metadata": {},
   "outputs": [
    {
     "name": "stdout",
     "output_type": "stream",
     "text": [
      "Wall time: 2.83 s\n"
     ]
    },
    {
     "data": {
      "text/plain": [
       "LinearRegression()"
      ]
     },
     "execution_count": 41,
     "metadata": {},
     "output_type": "execute_result"
    }
   ],
   "source": [
    "%%time\n",
    "\n",
    "model = LinearRegression()\n",
    "model.fit(ohe_features_train, target_train)"
   ]
  },
  {
   "cell_type": "code",
   "execution_count": 42,
   "id": "fd326280",
   "metadata": {},
   "outputs": [
    {
     "name": "stdout",
     "output_type": "stream",
     "text": [
      "Wall time: 458 ms\n"
     ]
    }
   ],
   "source": [
    "%%time\n",
    "\n",
    "target_predict = model.predict(ohe_features_train)"
   ]
  },
  {
   "cell_type": "markdown",
   "id": "06bc74ef",
   "metadata": {},
   "source": [
    "[К оглавлению](#Оглавление)"
   ]
  },
  {
   "cell_type": "markdown",
   "id": "67f332e9",
   "metadata": {},
   "source": [
    "### 3.2. DecisionTreeRegressor<a name=\"DecisionTreeRegressor\"></a>"
   ]
  },
  {
   "cell_type": "code",
   "execution_count": 43,
   "id": "c800f511",
   "metadata": {},
   "outputs": [
    {
     "name": "stdout",
     "output_type": "stream",
     "text": [
      "Wall time: 4.89 s\n"
     ]
    },
    {
     "data": {
      "text/plain": [
       "DecisionTreeRegressor(criterion='mse', max_depth=15, random_state=12345)"
      ]
     },
     "execution_count": 43,
     "metadata": {},
     "output_type": "execute_result"
    }
   ],
   "source": [
    "%%time\n",
    "\n",
    "model = DecisionTreeRegressor(criterion='mse', \n",
    "                              max_depth=15, \n",
    "                              random_state=12345) \n",
    "model.fit(ohe_features_train, target_train);"
   ]
  },
  {
   "cell_type": "code",
   "execution_count": 44,
   "id": "55d06517",
   "metadata": {},
   "outputs": [
    {
     "name": "stdout",
     "output_type": "stream",
     "text": [
      "Wall time: 259 ms\n"
     ]
    }
   ],
   "source": [
    "%%time\n",
    "\n",
    "target_predict = model.predict(ohe_features_train)"
   ]
  },
  {
   "cell_type": "code",
   "execution_count": 45,
   "id": "00824df0",
   "metadata": {},
   "outputs": [
    {
     "name": "stdout",
     "output_type": "stream",
     "text": [
      "Wall time: 482 ms\n"
     ]
    },
    {
     "data": {
      "text/plain": [
       "DecisionTreeRegressor(criterion='mse', max_depth=14, random_state=12345)"
      ]
     },
     "execution_count": 45,
     "metadata": {},
     "output_type": "execute_result"
    }
   ],
   "source": [
    "%%time\n",
    "\n",
    "model = DecisionTreeRegressor(criterion='mse', \n",
    "                              max_depth=14, \n",
    "                              random_state=12345) \n",
    "model.fit(ordinal_features_train, target_train);"
   ]
  },
  {
   "cell_type": "code",
   "execution_count": 46,
   "id": "30ff9702",
   "metadata": {},
   "outputs": [
    {
     "name": "stdout",
     "output_type": "stream",
     "text": [
      "Wall time: 30.9 ms\n"
     ]
    }
   ],
   "source": [
    "%%time\n",
    "\n",
    "target_predict = model.predict(ordinal_features_train)"
   ]
  },
  {
   "cell_type": "markdown",
   "id": "1b531aed",
   "metadata": {},
   "source": [
    "[К оглавлению](#Оглавление)"
   ]
  },
  {
   "cell_type": "markdown",
   "id": "bc39679e",
   "metadata": {},
   "source": [
    "### 3.3. CatBoostRegressor<a name=\"CatBoostRegressor\"></a>"
   ]
  },
  {
   "cell_type": "code",
   "execution_count": 47,
   "id": "01972054",
   "metadata": {},
   "outputs": [
    {
     "name": "stdout",
     "output_type": "stream",
     "text": [
      "Wall time: 13.1 s\n"
     ]
    },
    {
     "data": {
      "text/plain": [
       "<catboost.core.CatBoostRegressor at 0x23c62624520>"
      ]
     },
     "execution_count": 47,
     "metadata": {},
     "output_type": "execute_result"
    }
   ],
   "source": [
    "%%time\n",
    "\n",
    "model = CatBoostRegressor(learning_rate=0.5, \n",
    "                          random_state=12345, \n",
    "                          verbose=False) \n",
    "model.fit(ordinal_features_train, target_train)"
   ]
  },
  {
   "cell_type": "code",
   "execution_count": 48,
   "id": "2ac89a1c",
   "metadata": {},
   "outputs": [
    {
     "name": "stdout",
     "output_type": "stream",
     "text": [
      "Wall time: 35.9 ms\n"
     ]
    }
   ],
   "source": [
    "%%time\n",
    "\n",
    "target_predict = model.predict(ordinal_features_train)"
   ]
  },
  {
   "cell_type": "code",
   "execution_count": 49,
   "id": "b2202bc2",
   "metadata": {},
   "outputs": [
    {
     "name": "stdout",
     "output_type": "stream",
     "text": [
      "Wall time: 17.7 s\n"
     ]
    },
    {
     "data": {
      "text/plain": [
       "<catboost.core.CatBoostRegressor at 0x23c626005b0>"
      ]
     },
     "execution_count": 49,
     "metadata": {},
     "output_type": "execute_result"
    }
   ],
   "source": [
    "%%time\n",
    "\n",
    "model = CatBoostRegressor(learning_rate=0.5, \n",
    "                          iterations = 200, \n",
    "                          random_state=12345, \n",
    "                          verbose=False,\n",
    "                          cat_features=['VehicleType','FuelType','Brand','Model']) \n",
    "model.fit(original_features_train, target_train)"
   ]
  },
  {
   "cell_type": "code",
   "execution_count": 50,
   "id": "2fd40ad5",
   "metadata": {},
   "outputs": [
    {
     "name": "stdout",
     "output_type": "stream",
     "text": [
      "Wall time: 269 ms\n"
     ]
    }
   ],
   "source": [
    "%%time\n",
    "\n",
    "target_predict = model.predict(original_features_train)"
   ]
  },
  {
   "cell_type": "markdown",
   "id": "69558be0",
   "metadata": {},
   "source": [
    "[К оглавлению](#Оглавление)"
   ]
  },
  {
   "cell_type": "markdown",
   "id": "30f13961",
   "metadata": {},
   "source": [
    "### 3.4. LGBMRegressor<a name=\"LGBMRegressor\"></a>"
   ]
  },
  {
   "cell_type": "code",
   "execution_count": 51,
   "id": "cbe9384c",
   "metadata": {},
   "outputs": [
    {
     "name": "stdout",
     "output_type": "stream",
     "text": [
      "[LightGBM] [Warning] Auto-choosing row-wise multi-threading, the overhead of testing was 0.004182 seconds.\n",
      "You can set `force_row_wise=true` to remove the overhead.\n",
      "And if memory is not enough, you can set `force_col_wise=true`.\n",
      "[LightGBM] [Info] Total Bins 634\n",
      "[LightGBM] [Info] Number of data points in the train set: 211907, number of used features: 10\n",
      "[LightGBM] [Info] Start training from score 5119.450084\n",
      "Wall time: 655 ms\n"
     ]
    },
    {
     "data": {
      "text/plain": [
       "LGBMRegressor(num_leaves=200, random_state=12345)"
      ]
     },
     "execution_count": 51,
     "metadata": {},
     "output_type": "execute_result"
    }
   ],
   "source": [
    "%%time\n",
    "model = LGBMRegressor(learning_rate=0.1, \n",
    "                      num_leaves=200, \n",
    "                      random_state=12345)\n",
    "model.fit(ordinal_features_train, target_train)"
   ]
  },
  {
   "cell_type": "code",
   "execution_count": 52,
   "id": "b6672fc0",
   "metadata": {},
   "outputs": [
    {
     "name": "stdout",
     "output_type": "stream",
     "text": [
      "Wall time: 248 ms\n"
     ]
    }
   ],
   "source": [
    "%%time\n",
    "target_predict = model.predict(ordinal_features_train)"
   ]
  },
  {
   "cell_type": "markdown",
   "id": "cce8f9ff",
   "metadata": {},
   "source": [
    "[К оглавлению](#Оглавление)"
   ]
  },
  {
   "cell_type": "markdown",
   "id": "2b51ce7f",
   "metadata": {},
   "source": [
    "## 3.5 Вывод по моделям<a name=\"Вывод_моделям\"></a>"
   ]
  },
  {
   "cell_type": "markdown",
   "id": "89d2d6e6",
   "metadata": {},
   "source": [
    "- Мы выбрали 4 модели для тестирования (линейная регрессия, дерево решений, LGBMRegressor, CatBoostRegressor)\n",
    "- Модели поделили на группы и для каждой закодировали признаки(ohe и ordinal)\n",
    "- После чего обучили модели и проверили сколько по времени обучается модели, сколько она предсказывает и с каким показателем rmse\n",
    "- Наибольшую точность в прогнозах даёт алгоритм градиентного бустинга, он обучается так же быстро как и решающее дерево, но делает более точные прогнозы. Данный алгоритм больше всего подходит для составлення финальной модели. Если необходимо быстро построить модель и оценить результат, то можно использовать решающее дерево, так как оно даёт более высокую точноть, по сравнению с линейной регрессией и обучается гараздо быстрее бустинга."
   ]
  },
  {
   "cell_type": "markdown",
   "id": "253db3f1",
   "metadata": {},
   "source": [
    "## 4. Финальное тестирование лучшей модели<a name=\"Финальное\"></a>"
   ]
  },
  {
   "cell_type": "code",
   "execution_count": 53,
   "id": "4f249ac9",
   "metadata": {},
   "outputs": [
    {
     "name": "stdout",
     "output_type": "stream",
     "text": [
      "Wall time: 4.75 s\n"
     ]
    },
    {
     "data": {
      "text/plain": [
       "DecisionTreeRegressor(criterion='mse', max_depth=15, random_state=12345)"
      ]
     },
     "execution_count": 53,
     "metadata": {},
     "output_type": "execute_result"
    }
   ],
   "source": [
    "%%time\n",
    "model = DecisionTreeRegressor(criterion='mse', \n",
    "                              max_depth=15, \n",
    "                              random_state=12345) \n",
    "model.fit(ohe_features_train, target_train)"
   ]
  },
  {
   "cell_type": "code",
   "execution_count": 54,
   "id": "e9813070",
   "metadata": {},
   "outputs": [
    {
     "name": "stdout",
     "output_type": "stream",
     "text": [
      "Wall time: 99.1 ms\n"
     ]
    }
   ],
   "source": [
    "%%time\n",
    "target_predict = model.predict(ohe_features_test)"
   ]
  },
  {
   "cell_type": "code",
   "execution_count": 55,
   "id": "eca8e4b1",
   "metadata": {},
   "outputs": [
    {
     "data": {
      "text/plain": [
       "1846.3913286306606"
      ]
     },
     "execution_count": 55,
     "metadata": {},
     "output_type": "execute_result"
    }
   ],
   "source": [
    "final_RMSE_DTR_ohe = mean_squared_error(target_test, target_predict) ** 0.5\n",
    "final_RMSE_DTR_ohe "
   ]
  },
  {
   "cell_type": "code",
   "execution_count": 56,
   "id": "94401fca",
   "metadata": {},
   "outputs": [
    {
     "data": {
      "text/html": [
       "<div>\n",
       "<style scoped>\n",
       "    .dataframe tbody tr th:only-of-type {\n",
       "        vertical-align: middle;\n",
       "    }\n",
       "\n",
       "    .dataframe tbody tr th {\n",
       "        vertical-align: top;\n",
       "    }\n",
       "\n",
       "    .dataframe thead th {\n",
       "        text-align: right;\n",
       "    }\n",
       "</style>\n",
       "<table border=\"1\" class=\"dataframe\">\n",
       "  <thead>\n",
       "    <tr style=\"text-align: right;\">\n",
       "      <th></th>\n",
       "      <th>RMSE</th>\n",
       "      <th>Время обучения на CV, мин</th>\n",
       "      <th>Время обучения модели, сек</th>\n",
       "      <th>Время предсказания модели, сек</th>\n",
       "      <th>Рейтинг RMSE</th>\n",
       "      <th>Рейтинг времени обучения</th>\n",
       "      <th>Рейтинг времени предсказания</th>\n",
       "      <th>Итоговый рейтинг</th>\n",
       "    </tr>\n",
       "  </thead>\n",
       "  <tbody>\n",
       "    <tr>\n",
       "      <th>LinearRegression</th>\n",
       "      <td>2647.585282</td>\n",
       "      <td>3.10</td>\n",
       "      <td>18.100</td>\n",
       "      <td>17.60</td>\n",
       "      <td>0.587809</td>\n",
       "      <td>0.026464</td>\n",
       "      <td>0.033523</td>\n",
       "      <td>0.647796</td>\n",
       "    </tr>\n",
       "    <tr>\n",
       "      <th>DecisionTreeRegressor on OHE features</th>\n",
       "      <td>1887.987880</td>\n",
       "      <td>10.58</td>\n",
       "      <td>31.500</td>\n",
       "      <td>5.37</td>\n",
       "      <td>0.824304</td>\n",
       "      <td>0.015206</td>\n",
       "      <td>0.109870</td>\n",
       "      <td>0.949380</td>\n",
       "    </tr>\n",
       "    <tr>\n",
       "      <th>DecisionTreeRegressor on OE features</th>\n",
       "      <td>1906.024407</td>\n",
       "      <td>1.28</td>\n",
       "      <td>4.830</td>\n",
       "      <td>0.59</td>\n",
       "      <td>0.816503</td>\n",
       "      <td>0.099172</td>\n",
       "      <td>1.000000</td>\n",
       "      <td>1.915675</td>\n",
       "    </tr>\n",
       "    <tr>\n",
       "      <th>CatBoostRegressor on OE features</th>\n",
       "      <td>1567.127291</td>\n",
       "      <td>6.54</td>\n",
       "      <td>0.479</td>\n",
       "      <td>27.30</td>\n",
       "      <td>0.993075</td>\n",
       "      <td>1.000000</td>\n",
       "      <td>0.021612</td>\n",
       "      <td>2.014687</td>\n",
       "    </tr>\n",
       "    <tr>\n",
       "      <th>CatBoostRegressor on original features</th>\n",
       "      <td>1621.697457</td>\n",
       "      <td>2.18</td>\n",
       "      <td>126.000</td>\n",
       "      <td>29.80</td>\n",
       "      <td>0.959658</td>\n",
       "      <td>0.003802</td>\n",
       "      <td>0.019799</td>\n",
       "      <td>0.983259</td>\n",
       "    </tr>\n",
       "    <tr>\n",
       "      <th>LGBMRegressor</th>\n",
       "      <td>1556.275529</td>\n",
       "      <td>40.00</td>\n",
       "      <td>14.700</td>\n",
       "      <td>202.00</td>\n",
       "      <td>1.000000</td>\n",
       "      <td>0.032585</td>\n",
       "      <td>0.002921</td>\n",
       "      <td>1.035506</td>\n",
       "    </tr>\n",
       "  </tbody>\n",
       "</table>\n",
       "</div>"
      ],
      "text/plain": [
       "                                               RMSE  \\\n",
       "LinearRegression                        2647.585282   \n",
       "DecisionTreeRegressor on OHE features   1887.987880   \n",
       "DecisionTreeRegressor on OE features    1906.024407   \n",
       "CatBoostRegressor on OE features        1567.127291   \n",
       "CatBoostRegressor on original features  1621.697457   \n",
       "LGBMRegressor                           1556.275529   \n",
       "\n",
       "                                        Время обучения на CV, мин  \\\n",
       "LinearRegression                                             3.10   \n",
       "DecisionTreeRegressor on OHE features                       10.58   \n",
       "DecisionTreeRegressor on OE features                         1.28   \n",
       "CatBoostRegressor on OE features                             6.54   \n",
       "CatBoostRegressor on original features                       2.18   \n",
       "LGBMRegressor                                               40.00   \n",
       "\n",
       "                                        Время обучения модели, сек  \\\n",
       "LinearRegression                                            18.100   \n",
       "DecisionTreeRegressor on OHE features                       31.500   \n",
       "DecisionTreeRegressor on OE features                         4.830   \n",
       "CatBoostRegressor on OE features                             0.479   \n",
       "CatBoostRegressor on original features                     126.000   \n",
       "LGBMRegressor                                               14.700   \n",
       "\n",
       "                                        Время предсказания модели, сек  \\\n",
       "LinearRegression                                                 17.60   \n",
       "DecisionTreeRegressor on OHE features                             5.37   \n",
       "DecisionTreeRegressor on OE features                              0.59   \n",
       "CatBoostRegressor on OE features                                 27.30   \n",
       "CatBoostRegressor on original features                           29.80   \n",
       "LGBMRegressor                                                   202.00   \n",
       "\n",
       "                                        Рейтинг RMSE  \\\n",
       "LinearRegression                            0.587809   \n",
       "DecisionTreeRegressor on OHE features       0.824304   \n",
       "DecisionTreeRegressor on OE features        0.816503   \n",
       "CatBoostRegressor on OE features            0.993075   \n",
       "CatBoostRegressor on original features      0.959658   \n",
       "LGBMRegressor                               1.000000   \n",
       "\n",
       "                                        Рейтинг времени обучения  \\\n",
       "LinearRegression                                        0.026464   \n",
       "DecisionTreeRegressor on OHE features                   0.015206   \n",
       "DecisionTreeRegressor on OE features                    0.099172   \n",
       "CatBoostRegressor on OE features                        1.000000   \n",
       "CatBoostRegressor on original features                  0.003802   \n",
       "LGBMRegressor                                           0.032585   \n",
       "\n",
       "                                        Рейтинг времени предсказания  \\\n",
       "LinearRegression                                            0.033523   \n",
       "DecisionTreeRegressor on OHE features                       0.109870   \n",
       "DecisionTreeRegressor on OE features                        1.000000   \n",
       "CatBoostRegressor on OE features                            0.021612   \n",
       "CatBoostRegressor on original features                      0.019799   \n",
       "LGBMRegressor                                               0.002921   \n",
       "\n",
       "                                        Итоговый рейтинг  \n",
       "LinearRegression                                0.647796  \n",
       "DecisionTreeRegressor on OHE features           0.949380  \n",
       "DecisionTreeRegressor on OE features            1.915675  \n",
       "CatBoostRegressor on OE features                2.014687  \n",
       "CatBoostRegressor on original features          0.983259  \n",
       "LGBMRegressor                                   1.035506  "
      ]
     },
     "execution_count": 56,
     "metadata": {},
     "output_type": "execute_result"
    }
   ],
   "source": [
    "index = ['LinearRegression',\n",
    "         'DecisionTreeRegressor on OHE features',\n",
    "         'DecisionTreeRegressor on OE features',\n",
    "         'CatBoostRegressor on OE features',\n",
    "         'CatBoostRegressor on original features',\n",
    "         'LGBMRegressor']\n",
    "data = {'RMSE':[cv_RMSE_LR,\n",
    "                cv_RMSE_DTR_ohe,\n",
    "                cv_RMSE_DTR_ordinal,\n",
    "                cv_RMSE_CBR_ordinal,\n",
    "                cv_RMSE_CBR_original,\n",
    "                cv_RMSE_LGBMR],\n",
    "        'Время обучения на CV, мин':[3.10,\n",
    "                                     10.58,\n",
    "                                     1.28,\n",
    "                                     6.54,\n",
    "                                     2.18,\n",
    "                                     40],\n",
    "        'Время обучения модели, сек':[18.1,\n",
    "                                      31.5,\n",
    "                                      4.83,\n",
    "                                      0.479,\n",
    "                                      126,\n",
    "                                      14.7],\n",
    "        'Время предсказания модели, сек':[17.6,\n",
    "                                          5.37,\n",
    "                                          0.590,\n",
    "                                          27.3,\n",
    "                                          29.8,\n",
    "                                          202]}\n",
    "\n",
    "scores_data = pd.DataFrame(data=data, index=index)\n",
    "scores_data['Рейтинг RMSE'] = (scores_data['RMSE'].min() /\n",
    "                              scores_data['RMSE'])\n",
    "scores_data['Рейтинг времени обучения'] = (scores_data['Время обучения модели, сек'].min() / \n",
    "                              scores_data['Время обучения модели, сек'])\n",
    "scores_data['Рейтинг времени предсказания'] = (scores_data['Время предсказания модели, сек'].min() / \n",
    "                              scores_data['Время предсказания модели, сек'])\n",
    "scores_data['Итоговый рейтинг'] = (scores_data['Рейтинг RMSE'] +\n",
    "                                   scores_data['Рейтинг времени обучения'] +\n",
    "                                   scores_data['Рейтинг времени предсказания'])\n",
    "scores_data"
   ]
  },
  {
   "cell_type": "markdown",
   "id": "615fd798",
   "metadata": {},
   "source": [
    "[К оглавлению](#Оглавление)"
   ]
  },
  {
   "cell_type": "markdown",
   "id": "2fa83ebd",
   "metadata": {},
   "source": [
    "## 5. Итоговый вывод:<a name=\"Итоговый_вывод\"></a>\n",
    "\n",
    "Для общей оценки по трем параметрам был создан относительный рейтинг. 1 получает регрессор с самым минмальным временем или RMSE. Остальные получают рейтинг как отношение лучшего в столбце к своему значению. Считаем, что все параметры равноценны.\n",
    "\n",
    "На выбор модели не влияло время обучения на кросвалидации, так как на одном типе данных ее проводят один раз. В то время переобучить модель на новых данных приходится намного чаще.\n",
    "\n",
    "1) Лучшей моделью по трем параметрам качество, скорость обучения и скорость предсказания можно считать DecisionTreeRegressor. Сочетания скорости и точности на подготовленных данных выводит его в лидеры рейтинга. Все остальные показали себя в целом хуже.\n",
    "\n",
    "2) Если рассматривать только оценивание точности, то в лидеры выходит LGBMRegressor. Следом за ним идет CatBoostRegressor и DecisionTreeRegressor занимает третье место.\n",
    "\n",
    "3) LinearRegression показали себя на этой задачи очень слабо.\n",
    "\n",
    "Исходя из полученного рейтинга можно выделить специфику задач для регрессоров.\n",
    "\n",
    "- Для быстрых решений с хорошей точностью подойдет DecisionTreeRegressor с подготовленными признаками.\n",
    "- Если в деле важна точность и есть время регрессор LGBMRegressor поможет предсказать лучше всех.\n",
    "- Для задач, не требующих сильной предобработки и заготовки данных CatBoostRegressor может показать себя очень хорошо."
   ]
  }
 ],
 "metadata": {
  "kernelspec": {
   "display_name": "Python 3 (ipykernel)",
   "language": "python",
   "name": "python3"
  },
  "language_info": {
   "codemirror_mode": {
    "name": "ipython",
    "version": 3
   },
   "file_extension": ".py",
   "mimetype": "text/x-python",
   "name": "python",
   "nbconvert_exporter": "python",
   "pygments_lexer": "ipython3",
   "version": "3.9.13"
  }
 },
 "nbformat": 4,
 "nbformat_minor": 5
}
